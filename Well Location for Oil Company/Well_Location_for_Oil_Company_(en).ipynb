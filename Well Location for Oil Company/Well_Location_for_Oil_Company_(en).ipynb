{
  "cells": [
    {
      "cell_type": "markdown",
      "metadata": {
        "id": "765RTQ6jeTAh"
      },
      "source": [
        "# Well Location for Oil Company"
      ]
    },
    {
      "cell_type": "markdown",
      "metadata": {
        "id": "32kdEc6seTAh"
      },
      "source": [
        "**Project Description**\n",
        "\n",
        "A production company needs to determine where to drill a new well.\n",
        "\n",
        "Oil samples were provided in three regions: 10,000 fields in each, where the quality of oil and the volume of its reserves were measured.\n",
        "\n",
        "**Research Objective**\n",
        "\n",
        "Build a machine learning model that will help determine the region where production will bring the greatest profit. Analyze the possible profit and risks using *Bootstrap.* technology.\n",
        "\n",
        "**Research Tasks**\n",
        "\n",
        "- Build a model and estimate the volume of oil reserves;\n",
        "- Select fields with the highest estimated values. The number of fields depends on the company's budget and the cost of developing one well;\n",
        "- Determine the region with the maximum total profit of the selected wells.\n",
        "\n",
        "**Data Description**\n",
        "\n",
        "The exploration data for the three regions is located in the files:\n",
        "\n",
        "`/datasets/geo_data_0.csv`\n",
        "`/datasets/geo_data_1.csv`\n",
        "`/datasets/geo_data_2.csv`\n",
        "\n",
        "Data Description:\n",
        "\n",
        "- `id` is a unique well identifier;\n",
        "- `f0`, `f1`, `f2` are three point attributes;\n",
        "- `product` is the volume of reserves in the well (thousand barrels).\n",
        "\n",
        "**Additional Conditions**\n",
        "\n",
        "- Only linear regression is suitable for training the model (the rest are insufficiently predictable).\n",
        "- During exploration of the region, 500 points are examined, from which the 200 best ones are selected for development using machine learning.\n",
        "- The budget for well development in the region is 10 billion rubles.\n",
        "- At current prices, one barrel of raw materials brings in 450 rubles of income. The income from each unit of product is 450 thousand rubles, since the volume is indicated in thousands of barrels.\n",
        "- After assessing the risks, only those regions should be left in which the probability of losses is less than 2.5%. Among them, the region with the highest average profit is selected."
      ]
    },
    {
      "cell_type": "markdown",
      "metadata": {
        "id": "pUfKwY7deTAh"
      },
      "source": [
        "## Import Libraries"
      ]
    },
    {
      "cell_type": "code",
      "execution_count": null,
      "metadata": {
        "id": "9Xkum7qReTAi"
      },
      "outputs": [],
      "source": [
        "!pip install phik -q\n",
        "!pip install scikit-learn --upgrade -q"
      ]
    },
    {
      "cell_type": "code",
      "execution_count": null,
      "metadata": {
        "id": "JwN883-ieTAi"
      },
      "outputs": [],
      "source": [
        "import pandas as pd\n",
        "import matplotlib.pyplot as plt\n",
        "import seaborn as sns\n",
        "import numpy as np\n",
        "\n",
        "from sklearn.model_selection import train_test_split, GridSearchCV\n",
        "from sklearn.preprocessing import StandardScaler, MinMaxScaler\n",
        "\n",
        "from sklearn.pipeline import Pipeline\n",
        "from sklearn.compose import ColumnTransformer\n",
        "\n",
        "from sklearn.linear_model import LinearRegression\n",
        "\n",
        "from sklearn.metrics import root_mean_squared_error, make_scorer\n",
        "\n",
        "RANDOM_STATE = 42\n",
        "TEST_SIZE = 0.25"
      ]
    },
    {
      "cell_type": "markdown",
      "metadata": {
        "id": "GKr2y93YeTAj"
      },
      "source": [
        "## Loading and Preparing Data"
      ]
    },
    {
      "cell_type": "markdown",
      "metadata": {
        "id": "lhEn9JUfeTAj"
      },
      "source": [
        "### Loading Data"
      ]
    },
    {
      "cell_type": "code",
      "execution_count": null,
      "metadata": {
        "id": "SMd2QVICeTAj"
      },
      "outputs": [],
      "source": [
        "try:\n",
        "    data_geo_0 = pd.read_csv('/datasets/geo_data_0.csv')\n",
        "except FileNotFoundError:\n",
        "    data_geo_0 = pd.read_csv('https://.../datasets/geo_data_0.csv')"
      ]
    },
    {
      "cell_type": "code",
      "execution_count": null,
      "metadata": {
        "id": "mHw1iTcweTAj"
      },
      "outputs": [],
      "source": [
        "try:\n",
        "    data_geo_1 = pd.read_csv('/datasets/geo_data_1.csv')\n",
        "except FileNotFoundError:\n",
        "    data_geo_1 = pd.read_csv('https://.../datasets/geo_data_1.csv')"
      ]
    },
    {
      "cell_type": "code",
      "execution_count": null,
      "metadata": {
        "id": "l1EA-OHVeTAj"
      },
      "outputs": [],
      "source": [
        "try:\n",
        "    data_geo_2 = pd.read_csv('/datasets/geo_data_2.csv')\n",
        "except FileNotFoundError:\n",
        "    data_geo_2 = pd.read_csv('https://.../datasets/geo_data_2.csv')"
      ]
    },
    {
      "cell_type": "markdown",
      "metadata": {
        "id": "TYrutBU9eTAj"
      },
      "source": [
        "Let's take a look at the data:"
      ]
    },
    {
      "cell_type": "code",
      "execution_count": null,
      "metadata": {
        "id": "1G7WtQMZeTAj"
      },
      "outputs": [],
      "source": [
        "#universal function for reviewing data\n",
        "def data_review(data):\n",
        "    '''\n",
        "    data - DataFrame\n",
        "\n",
        "    '''\n",
        "    print('*'*10, 'The Original DataFrame', '*'*10)\n",
        "    display(data.head())\n",
        "    print('')\n",
        "    print('')\n",
        "    print('*'*10, 'General Information', '*'*10)\n",
        "    print('')\n",
        "    data.info()\n",
        "    print('')\n",
        "    print('')\n",
        "    print('*'*10, 'Has NaN', '*'*10)\n",
        "    display(data.isna().sum())\n",
        "    print('')\n",
        "    print('')\n",
        "    print('*'*10, 'Descriptive Statistics', '*'*10)\n",
        "    display(data.describe())"
      ]
    },
    {
      "cell_type": "code",
      "execution_count": null,
      "metadata": {
        "scrolled": true,
        "id": "k4fUAifFeTAj",
        "outputId": "eecb064b-e422-4ef0-c212-458afaa607fd",
        "colab": {
          "base_uri": "https://localhost:8080/",
          "height": 1000
        }
      },
      "outputs": [
        {
          "output_type": "stream",
          "name": "stdout",
          "text": [
            "********** The Original DataFrame **********\n"
          ]
        },
        {
          "output_type": "display_data",
          "data": {
            "text/plain": [
              "      id        f0        f1        f2     product\n",
              "0  txEyH  0.705745 -0.497823  1.221170  105.280062\n",
              "1  2acmU  1.334711 -0.340164  4.365080   73.037750\n",
              "2  409Wp  1.022732  0.151990  1.419926   85.265647\n",
              "3  iJLyR -0.032172  0.139033  2.978566  168.620776\n",
              "4  Xdl7t  1.988431  0.155413  4.751769  154.036647"
            ],
            "text/html": [
              "\n",
              "  <div id=\"df-ea5562e4-817f-49f3-9448-b459766f849a\" class=\"colab-df-container\">\n",
              "    <div>\n",
              "<style scoped>\n",
              "    .dataframe tbody tr th:only-of-type {\n",
              "        vertical-align: middle;\n",
              "    }\n",
              "\n",
              "    .dataframe tbody tr th {\n",
              "        vertical-align: top;\n",
              "    }\n",
              "\n",
              "    .dataframe thead th {\n",
              "        text-align: right;\n",
              "    }\n",
              "</style>\n",
              "<table border=\"1\" class=\"dataframe\">\n",
              "  <thead>\n",
              "    <tr style=\"text-align: right;\">\n",
              "      <th></th>\n",
              "      <th>id</th>\n",
              "      <th>f0</th>\n",
              "      <th>f1</th>\n",
              "      <th>f2</th>\n",
              "      <th>product</th>\n",
              "    </tr>\n",
              "  </thead>\n",
              "  <tbody>\n",
              "    <tr>\n",
              "      <th>0</th>\n",
              "      <td>txEyH</td>\n",
              "      <td>0.705745</td>\n",
              "      <td>-0.497823</td>\n",
              "      <td>1.221170</td>\n",
              "      <td>105.280062</td>\n",
              "    </tr>\n",
              "    <tr>\n",
              "      <th>1</th>\n",
              "      <td>2acmU</td>\n",
              "      <td>1.334711</td>\n",
              "      <td>-0.340164</td>\n",
              "      <td>4.365080</td>\n",
              "      <td>73.037750</td>\n",
              "    </tr>\n",
              "    <tr>\n",
              "      <th>2</th>\n",
              "      <td>409Wp</td>\n",
              "      <td>1.022732</td>\n",
              "      <td>0.151990</td>\n",
              "      <td>1.419926</td>\n",
              "      <td>85.265647</td>\n",
              "    </tr>\n",
              "    <tr>\n",
              "      <th>3</th>\n",
              "      <td>iJLyR</td>\n",
              "      <td>-0.032172</td>\n",
              "      <td>0.139033</td>\n",
              "      <td>2.978566</td>\n",
              "      <td>168.620776</td>\n",
              "    </tr>\n",
              "    <tr>\n",
              "      <th>4</th>\n",
              "      <td>Xdl7t</td>\n",
              "      <td>1.988431</td>\n",
              "      <td>0.155413</td>\n",
              "      <td>4.751769</td>\n",
              "      <td>154.036647</td>\n",
              "    </tr>\n",
              "  </tbody>\n",
              "</table>\n",
              "</div>\n",
              "    <div class=\"colab-df-buttons\">\n",
              "\n",
              "  <div class=\"colab-df-container\">\n",
              "    <button class=\"colab-df-convert\" onclick=\"convertToInteractive('df-ea5562e4-817f-49f3-9448-b459766f849a')\"\n",
              "            title=\"Convert this dataframe to an interactive table.\"\n",
              "            style=\"display:none;\">\n",
              "\n",
              "  <svg xmlns=\"http://www.w3.org/2000/svg\" height=\"24px\" viewBox=\"0 -960 960 960\">\n",
              "    <path d=\"M120-120v-720h720v720H120Zm60-500h600v-160H180v160Zm220 220h160v-160H400v160Zm0 220h160v-160H400v160ZM180-400h160v-160H180v160Zm440 0h160v-160H620v160ZM180-180h160v-160H180v160Zm440 0h160v-160H620v160Z\"/>\n",
              "  </svg>\n",
              "    </button>\n",
              "\n",
              "  <style>\n",
              "    .colab-df-container {\n",
              "      display:flex;\n",
              "      gap: 12px;\n",
              "    }\n",
              "\n",
              "    .colab-df-convert {\n",
              "      background-color: #E8F0FE;\n",
              "      border: none;\n",
              "      border-radius: 50%;\n",
              "      cursor: pointer;\n",
              "      display: none;\n",
              "      fill: #1967D2;\n",
              "      height: 32px;\n",
              "      padding: 0 0 0 0;\n",
              "      width: 32px;\n",
              "    }\n",
              "\n",
              "    .colab-df-convert:hover {\n",
              "      background-color: #E2EBFA;\n",
              "      box-shadow: 0px 1px 2px rgba(60, 64, 67, 0.3), 0px 1px 3px 1px rgba(60, 64, 67, 0.15);\n",
              "      fill: #174EA6;\n",
              "    }\n",
              "\n",
              "    .colab-df-buttons div {\n",
              "      margin-bottom: 4px;\n",
              "    }\n",
              "\n",
              "    [theme=dark] .colab-df-convert {\n",
              "      background-color: #3B4455;\n",
              "      fill: #D2E3FC;\n",
              "    }\n",
              "\n",
              "    [theme=dark] .colab-df-convert:hover {\n",
              "      background-color: #434B5C;\n",
              "      box-shadow: 0px 1px 3px 1px rgba(0, 0, 0, 0.15);\n",
              "      filter: drop-shadow(0px 1px 2px rgba(0, 0, 0, 0.3));\n",
              "      fill: #FFFFFF;\n",
              "    }\n",
              "  </style>\n",
              "\n",
              "    <script>\n",
              "      const buttonEl =\n",
              "        document.querySelector('#df-ea5562e4-817f-49f3-9448-b459766f849a button.colab-df-convert');\n",
              "      buttonEl.style.display =\n",
              "        google.colab.kernel.accessAllowed ? 'block' : 'none';\n",
              "\n",
              "      async function convertToInteractive(key) {\n",
              "        const element = document.querySelector('#df-ea5562e4-817f-49f3-9448-b459766f849a');\n",
              "        const dataTable =\n",
              "          await google.colab.kernel.invokeFunction('convertToInteractive',\n",
              "                                                    [key], {});\n",
              "        if (!dataTable) return;\n",
              "\n",
              "        const docLinkHtml = 'Like what you see? Visit the ' +\n",
              "          '<a target=\"_blank\" href=https://colab.research.google.com/notebooks/data_table.ipynb>data table notebook</a>'\n",
              "          + ' to learn more about interactive tables.';\n",
              "        element.innerHTML = '';\n",
              "        dataTable['output_type'] = 'display_data';\n",
              "        await google.colab.output.renderOutput(dataTable, element);\n",
              "        const docLink = document.createElement('div');\n",
              "        docLink.innerHTML = docLinkHtml;\n",
              "        element.appendChild(docLink);\n",
              "      }\n",
              "    </script>\n",
              "  </div>\n",
              "\n",
              "\n",
              "<div id=\"df-5cbb9143-1be8-4c60-b883-afd2e8cfd284\">\n",
              "  <button class=\"colab-df-quickchart\" onclick=\"quickchart('df-5cbb9143-1be8-4c60-b883-afd2e8cfd284')\"\n",
              "            title=\"Suggest charts\"\n",
              "            style=\"display:none;\">\n",
              "\n",
              "<svg xmlns=\"http://www.w3.org/2000/svg\" height=\"24px\"viewBox=\"0 0 24 24\"\n",
              "     width=\"24px\">\n",
              "    <g>\n",
              "        <path d=\"M19 3H5c-1.1 0-2 .9-2 2v14c0 1.1.9 2 2 2h14c1.1 0 2-.9 2-2V5c0-1.1-.9-2-2-2zM9 17H7v-7h2v7zm4 0h-2V7h2v10zm4 0h-2v-4h2v4z\"/>\n",
              "    </g>\n",
              "</svg>\n",
              "  </button>\n",
              "\n",
              "<style>\n",
              "  .colab-df-quickchart {\n",
              "      --bg-color: #E8F0FE;\n",
              "      --fill-color: #1967D2;\n",
              "      --hover-bg-color: #E2EBFA;\n",
              "      --hover-fill-color: #174EA6;\n",
              "      --disabled-fill-color: #AAA;\n",
              "      --disabled-bg-color: #DDD;\n",
              "  }\n",
              "\n",
              "  [theme=dark] .colab-df-quickchart {\n",
              "      --bg-color: #3B4455;\n",
              "      --fill-color: #D2E3FC;\n",
              "      --hover-bg-color: #434B5C;\n",
              "      --hover-fill-color: #FFFFFF;\n",
              "      --disabled-bg-color: #3B4455;\n",
              "      --disabled-fill-color: #666;\n",
              "  }\n",
              "\n",
              "  .colab-df-quickchart {\n",
              "    background-color: var(--bg-color);\n",
              "    border: none;\n",
              "    border-radius: 50%;\n",
              "    cursor: pointer;\n",
              "    display: none;\n",
              "    fill: var(--fill-color);\n",
              "    height: 32px;\n",
              "    padding: 0;\n",
              "    width: 32px;\n",
              "  }\n",
              "\n",
              "  .colab-df-quickchart:hover {\n",
              "    background-color: var(--hover-bg-color);\n",
              "    box-shadow: 0 1px 2px rgba(60, 64, 67, 0.3), 0 1px 3px 1px rgba(60, 64, 67, 0.15);\n",
              "    fill: var(--button-hover-fill-color);\n",
              "  }\n",
              "\n",
              "  .colab-df-quickchart-complete:disabled,\n",
              "  .colab-df-quickchart-complete:disabled:hover {\n",
              "    background-color: var(--disabled-bg-color);\n",
              "    fill: var(--disabled-fill-color);\n",
              "    box-shadow: none;\n",
              "  }\n",
              "\n",
              "  .colab-df-spinner {\n",
              "    border: 2px solid var(--fill-color);\n",
              "    border-color: transparent;\n",
              "    border-bottom-color: var(--fill-color);\n",
              "    animation:\n",
              "      spin 1s steps(1) infinite;\n",
              "  }\n",
              "\n",
              "  @keyframes spin {\n",
              "    0% {\n",
              "      border-color: transparent;\n",
              "      border-bottom-color: var(--fill-color);\n",
              "      border-left-color: var(--fill-color);\n",
              "    }\n",
              "    20% {\n",
              "      border-color: transparent;\n",
              "      border-left-color: var(--fill-color);\n",
              "      border-top-color: var(--fill-color);\n",
              "    }\n",
              "    30% {\n",
              "      border-color: transparent;\n",
              "      border-left-color: var(--fill-color);\n",
              "      border-top-color: var(--fill-color);\n",
              "      border-right-color: var(--fill-color);\n",
              "    }\n",
              "    40% {\n",
              "      border-color: transparent;\n",
              "      border-right-color: var(--fill-color);\n",
              "      border-top-color: var(--fill-color);\n",
              "    }\n",
              "    60% {\n",
              "      border-color: transparent;\n",
              "      border-right-color: var(--fill-color);\n",
              "    }\n",
              "    80% {\n",
              "      border-color: transparent;\n",
              "      border-right-color: var(--fill-color);\n",
              "      border-bottom-color: var(--fill-color);\n",
              "    }\n",
              "    90% {\n",
              "      border-color: transparent;\n",
              "      border-bottom-color: var(--fill-color);\n",
              "    }\n",
              "  }\n",
              "</style>\n",
              "\n",
              "  <script>\n",
              "    async function quickchart(key) {\n",
              "      const quickchartButtonEl =\n",
              "        document.querySelector('#' + key + ' button');\n",
              "      quickchartButtonEl.disabled = true;  // To prevent multiple clicks.\n",
              "      quickchartButtonEl.classList.add('colab-df-spinner');\n",
              "      try {\n",
              "        const charts = await google.colab.kernel.invokeFunction(\n",
              "            'suggestCharts', [key], {});\n",
              "      } catch (error) {\n",
              "        console.error('Error during call to suggestCharts:', error);\n",
              "      }\n",
              "      quickchartButtonEl.classList.remove('colab-df-spinner');\n",
              "      quickchartButtonEl.classList.add('colab-df-quickchart-complete');\n",
              "    }\n",
              "    (() => {\n",
              "      let quickchartButtonEl =\n",
              "        document.querySelector('#df-5cbb9143-1be8-4c60-b883-afd2e8cfd284 button');\n",
              "      quickchartButtonEl.style.display =\n",
              "        google.colab.kernel.accessAllowed ? 'block' : 'none';\n",
              "    })();\n",
              "  </script>\n",
              "</div>\n",
              "    </div>\n",
              "  </div>\n"
            ],
            "application/vnd.google.colaboratory.intrinsic+json": {
              "type": "dataframe",
              "summary": "{\n  \"name\": \"data_review(data_geo_0)\",\n  \"rows\": 5,\n  \"fields\": [\n    {\n      \"column\": \"id\",\n      \"properties\": {\n        \"dtype\": \"string\",\n        \"num_unique_values\": 5,\n        \"samples\": [\n          \"2acmU\",\n          \"Xdl7t\",\n          \"409Wp\"\n        ],\n        \"semantic_type\": \"\",\n        \"description\": \"\"\n      }\n    },\n    {\n      \"column\": \"f0\",\n      \"properties\": {\n        \"dtype\": \"number\",\n        \"std\": 0.7485708043455399,\n        \"min\": -0.0321716245074397,\n        \"max\": 1.988431059439699,\n        \"num_unique_values\": 5,\n        \"samples\": [\n          1.3347112926051892,\n          1.988431059439699,\n          1.0227322634721168\n        ],\n        \"semantic_type\": \"\",\n        \"description\": \"\"\n      }\n    },\n    {\n      \"column\": \"f1\",\n      \"properties\": {\n        \"dtype\": \"number\",\n        \"std\": 0.31601456661014493,\n        \"min\": -0.4978225001976334,\n        \"max\": 0.1554126777766717,\n        \"num_unique_values\": 5,\n        \"samples\": [\n          -0.3401642528583136,\n          0.1554126777766717,\n          0.1519904445702294\n        ],\n        \"semantic_type\": \"\",\n        \"description\": \"\"\n      }\n    },\n    {\n      \"column\": \"f2\",\n      \"properties\": {\n        \"dtype\": \"number\",\n        \"std\": 1.6263135457005142,\n        \"min\": 1.22116994843607,\n        \"max\": 4.751769119262962,\n        \"num_unique_values\": 5,\n        \"samples\": [\n          4.3650803324282,\n          4.751769119262962,\n          1.4199262386740652\n        ],\n        \"semantic_type\": \"\",\n        \"description\": \"\"\n      }\n    },\n    {\n      \"column\": \"product\",\n      \"properties\": {\n        \"dtype\": \"number\",\n        \"std\": 42.16993958146888,\n        \"min\": 73.03775026515737,\n        \"max\": 168.62077555509563,\n        \"num_unique_values\": 5,\n        \"samples\": [\n          73.03775026515737,\n          154.03664673738086,\n          85.26564713099945\n        ],\n        \"semantic_type\": \"\",\n        \"description\": \"\"\n      }\n    }\n  ]\n}"
            }
          },
          "metadata": {}
        },
        {
          "output_type": "stream",
          "name": "stdout",
          "text": [
            "\n",
            "\n",
            "********** General Information **********\n",
            "\n",
            "<class 'pandas.core.frame.DataFrame'>\n",
            "RangeIndex: 100000 entries, 0 to 99999\n",
            "Data columns (total 5 columns):\n",
            " #   Column   Non-Null Count   Dtype  \n",
            "---  ------   --------------   -----  \n",
            " 0   id       100000 non-null  object \n",
            " 1   f0       100000 non-null  float64\n",
            " 2   f1       100000 non-null  float64\n",
            " 3   f2       100000 non-null  float64\n",
            " 4   product  100000 non-null  float64\n",
            "dtypes: float64(4), object(1)\n",
            "memory usage: 3.8+ MB\n",
            "\n",
            "\n",
            "********** Has NaN **********\n"
          ]
        },
        {
          "output_type": "display_data",
          "data": {
            "text/plain": [
              "id         0\n",
              "f0         0\n",
              "f1         0\n",
              "f2         0\n",
              "product    0\n",
              "dtype: int64"
            ],
            "text/html": [
              "<div>\n",
              "<style scoped>\n",
              "    .dataframe tbody tr th:only-of-type {\n",
              "        vertical-align: middle;\n",
              "    }\n",
              "\n",
              "    .dataframe tbody tr th {\n",
              "        vertical-align: top;\n",
              "    }\n",
              "\n",
              "    .dataframe thead th {\n",
              "        text-align: right;\n",
              "    }\n",
              "</style>\n",
              "<table border=\"1\" class=\"dataframe\">\n",
              "  <thead>\n",
              "    <tr style=\"text-align: right;\">\n",
              "      <th></th>\n",
              "      <th>0</th>\n",
              "    </tr>\n",
              "  </thead>\n",
              "  <tbody>\n",
              "    <tr>\n",
              "      <th>id</th>\n",
              "      <td>0</td>\n",
              "    </tr>\n",
              "    <tr>\n",
              "      <th>f0</th>\n",
              "      <td>0</td>\n",
              "    </tr>\n",
              "    <tr>\n",
              "      <th>f1</th>\n",
              "      <td>0</td>\n",
              "    </tr>\n",
              "    <tr>\n",
              "      <th>f2</th>\n",
              "      <td>0</td>\n",
              "    </tr>\n",
              "    <tr>\n",
              "      <th>product</th>\n",
              "      <td>0</td>\n",
              "    </tr>\n",
              "  </tbody>\n",
              "</table>\n",
              "</div><br><label><b>dtype:</b> int64</label>"
            ]
          },
          "metadata": {}
        },
        {
          "output_type": "stream",
          "name": "stdout",
          "text": [
            "\n",
            "\n",
            "********** Descriptive Statistics **********\n"
          ]
        },
        {
          "output_type": "display_data",
          "data": {
            "text/plain": [
              "                  f0             f1             f2        product\n",
              "count  100000.000000  100000.000000  100000.000000  100000.000000\n",
              "mean        0.500419       0.250143       2.502647      92.500000\n",
              "std         0.871832       0.504433       3.248248      44.288691\n",
              "min        -1.408605      -0.848218     -12.088328       0.000000\n",
              "25%        -0.072580      -0.200881       0.287748      56.497507\n",
              "50%         0.502360       0.250252       2.515969      91.849972\n",
              "75%         1.073581       0.700646       4.715088     128.564089\n",
              "max         2.362331       1.343769      16.003790     185.364347"
            ],
            "text/html": [
              "\n",
              "  <div id=\"df-f05e3ac6-c1ab-4664-89da-b09c4017704d\" class=\"colab-df-container\">\n",
              "    <div>\n",
              "<style scoped>\n",
              "    .dataframe tbody tr th:only-of-type {\n",
              "        vertical-align: middle;\n",
              "    }\n",
              "\n",
              "    .dataframe tbody tr th {\n",
              "        vertical-align: top;\n",
              "    }\n",
              "\n",
              "    .dataframe thead th {\n",
              "        text-align: right;\n",
              "    }\n",
              "</style>\n",
              "<table border=\"1\" class=\"dataframe\">\n",
              "  <thead>\n",
              "    <tr style=\"text-align: right;\">\n",
              "      <th></th>\n",
              "      <th>f0</th>\n",
              "      <th>f1</th>\n",
              "      <th>f2</th>\n",
              "      <th>product</th>\n",
              "    </tr>\n",
              "  </thead>\n",
              "  <tbody>\n",
              "    <tr>\n",
              "      <th>count</th>\n",
              "      <td>100000.000000</td>\n",
              "      <td>100000.000000</td>\n",
              "      <td>100000.000000</td>\n",
              "      <td>100000.000000</td>\n",
              "    </tr>\n",
              "    <tr>\n",
              "      <th>mean</th>\n",
              "      <td>0.500419</td>\n",
              "      <td>0.250143</td>\n",
              "      <td>2.502647</td>\n",
              "      <td>92.500000</td>\n",
              "    </tr>\n",
              "    <tr>\n",
              "      <th>std</th>\n",
              "      <td>0.871832</td>\n",
              "      <td>0.504433</td>\n",
              "      <td>3.248248</td>\n",
              "      <td>44.288691</td>\n",
              "    </tr>\n",
              "    <tr>\n",
              "      <th>min</th>\n",
              "      <td>-1.408605</td>\n",
              "      <td>-0.848218</td>\n",
              "      <td>-12.088328</td>\n",
              "      <td>0.000000</td>\n",
              "    </tr>\n",
              "    <tr>\n",
              "      <th>25%</th>\n",
              "      <td>-0.072580</td>\n",
              "      <td>-0.200881</td>\n",
              "      <td>0.287748</td>\n",
              "      <td>56.497507</td>\n",
              "    </tr>\n",
              "    <tr>\n",
              "      <th>50%</th>\n",
              "      <td>0.502360</td>\n",
              "      <td>0.250252</td>\n",
              "      <td>2.515969</td>\n",
              "      <td>91.849972</td>\n",
              "    </tr>\n",
              "    <tr>\n",
              "      <th>75%</th>\n",
              "      <td>1.073581</td>\n",
              "      <td>0.700646</td>\n",
              "      <td>4.715088</td>\n",
              "      <td>128.564089</td>\n",
              "    </tr>\n",
              "    <tr>\n",
              "      <th>max</th>\n",
              "      <td>2.362331</td>\n",
              "      <td>1.343769</td>\n",
              "      <td>16.003790</td>\n",
              "      <td>185.364347</td>\n",
              "    </tr>\n",
              "  </tbody>\n",
              "</table>\n",
              "</div>\n",
              "    <div class=\"colab-df-buttons\">\n",
              "\n",
              "  <div class=\"colab-df-container\">\n",
              "    <button class=\"colab-df-convert\" onclick=\"convertToInteractive('df-f05e3ac6-c1ab-4664-89da-b09c4017704d')\"\n",
              "            title=\"Convert this dataframe to an interactive table.\"\n",
              "            style=\"display:none;\">\n",
              "\n",
              "  <svg xmlns=\"http://www.w3.org/2000/svg\" height=\"24px\" viewBox=\"0 -960 960 960\">\n",
              "    <path d=\"M120-120v-720h720v720H120Zm60-500h600v-160H180v160Zm220 220h160v-160H400v160Zm0 220h160v-160H400v160ZM180-400h160v-160H180v160Zm440 0h160v-160H620v160ZM180-180h160v-160H180v160Zm440 0h160v-160H620v160Z\"/>\n",
              "  </svg>\n",
              "    </button>\n",
              "\n",
              "  <style>\n",
              "    .colab-df-container {\n",
              "      display:flex;\n",
              "      gap: 12px;\n",
              "    }\n",
              "\n",
              "    .colab-df-convert {\n",
              "      background-color: #E8F0FE;\n",
              "      border: none;\n",
              "      border-radius: 50%;\n",
              "      cursor: pointer;\n",
              "      display: none;\n",
              "      fill: #1967D2;\n",
              "      height: 32px;\n",
              "      padding: 0 0 0 0;\n",
              "      width: 32px;\n",
              "    }\n",
              "\n",
              "    .colab-df-convert:hover {\n",
              "      background-color: #E2EBFA;\n",
              "      box-shadow: 0px 1px 2px rgba(60, 64, 67, 0.3), 0px 1px 3px 1px rgba(60, 64, 67, 0.15);\n",
              "      fill: #174EA6;\n",
              "    }\n",
              "\n",
              "    .colab-df-buttons div {\n",
              "      margin-bottom: 4px;\n",
              "    }\n",
              "\n",
              "    [theme=dark] .colab-df-convert {\n",
              "      background-color: #3B4455;\n",
              "      fill: #D2E3FC;\n",
              "    }\n",
              "\n",
              "    [theme=dark] .colab-df-convert:hover {\n",
              "      background-color: #434B5C;\n",
              "      box-shadow: 0px 1px 3px 1px rgba(0, 0, 0, 0.15);\n",
              "      filter: drop-shadow(0px 1px 2px rgba(0, 0, 0, 0.3));\n",
              "      fill: #FFFFFF;\n",
              "    }\n",
              "  </style>\n",
              "\n",
              "    <script>\n",
              "      const buttonEl =\n",
              "        document.querySelector('#df-f05e3ac6-c1ab-4664-89da-b09c4017704d button.colab-df-convert');\n",
              "      buttonEl.style.display =\n",
              "        google.colab.kernel.accessAllowed ? 'block' : 'none';\n",
              "\n",
              "      async function convertToInteractive(key) {\n",
              "        const element = document.querySelector('#df-f05e3ac6-c1ab-4664-89da-b09c4017704d');\n",
              "        const dataTable =\n",
              "          await google.colab.kernel.invokeFunction('convertToInteractive',\n",
              "                                                    [key], {});\n",
              "        if (!dataTable) return;\n",
              "\n",
              "        const docLinkHtml = 'Like what you see? Visit the ' +\n",
              "          '<a target=\"_blank\" href=https://colab.research.google.com/notebooks/data_table.ipynb>data table notebook</a>'\n",
              "          + ' to learn more about interactive tables.';\n",
              "        element.innerHTML = '';\n",
              "        dataTable['output_type'] = 'display_data';\n",
              "        await google.colab.output.renderOutput(dataTable, element);\n",
              "        const docLink = document.createElement('div');\n",
              "        docLink.innerHTML = docLinkHtml;\n",
              "        element.appendChild(docLink);\n",
              "      }\n",
              "    </script>\n",
              "  </div>\n",
              "\n",
              "\n",
              "<div id=\"df-26ec2bc9-789b-4043-a8dc-53982c53edf6\">\n",
              "  <button class=\"colab-df-quickchart\" onclick=\"quickchart('df-26ec2bc9-789b-4043-a8dc-53982c53edf6')\"\n",
              "            title=\"Suggest charts\"\n",
              "            style=\"display:none;\">\n",
              "\n",
              "<svg xmlns=\"http://www.w3.org/2000/svg\" height=\"24px\"viewBox=\"0 0 24 24\"\n",
              "     width=\"24px\">\n",
              "    <g>\n",
              "        <path d=\"M19 3H5c-1.1 0-2 .9-2 2v14c0 1.1.9 2 2 2h14c1.1 0 2-.9 2-2V5c0-1.1-.9-2-2-2zM9 17H7v-7h2v7zm4 0h-2V7h2v10zm4 0h-2v-4h2v4z\"/>\n",
              "    </g>\n",
              "</svg>\n",
              "  </button>\n",
              "\n",
              "<style>\n",
              "  .colab-df-quickchart {\n",
              "      --bg-color: #E8F0FE;\n",
              "      --fill-color: #1967D2;\n",
              "      --hover-bg-color: #E2EBFA;\n",
              "      --hover-fill-color: #174EA6;\n",
              "      --disabled-fill-color: #AAA;\n",
              "      --disabled-bg-color: #DDD;\n",
              "  }\n",
              "\n",
              "  [theme=dark] .colab-df-quickchart {\n",
              "      --bg-color: #3B4455;\n",
              "      --fill-color: #D2E3FC;\n",
              "      --hover-bg-color: #434B5C;\n",
              "      --hover-fill-color: #FFFFFF;\n",
              "      --disabled-bg-color: #3B4455;\n",
              "      --disabled-fill-color: #666;\n",
              "  }\n",
              "\n",
              "  .colab-df-quickchart {\n",
              "    background-color: var(--bg-color);\n",
              "    border: none;\n",
              "    border-radius: 50%;\n",
              "    cursor: pointer;\n",
              "    display: none;\n",
              "    fill: var(--fill-color);\n",
              "    height: 32px;\n",
              "    padding: 0;\n",
              "    width: 32px;\n",
              "  }\n",
              "\n",
              "  .colab-df-quickchart:hover {\n",
              "    background-color: var(--hover-bg-color);\n",
              "    box-shadow: 0 1px 2px rgba(60, 64, 67, 0.3), 0 1px 3px 1px rgba(60, 64, 67, 0.15);\n",
              "    fill: var(--button-hover-fill-color);\n",
              "  }\n",
              "\n",
              "  .colab-df-quickchart-complete:disabled,\n",
              "  .colab-df-quickchart-complete:disabled:hover {\n",
              "    background-color: var(--disabled-bg-color);\n",
              "    fill: var(--disabled-fill-color);\n",
              "    box-shadow: none;\n",
              "  }\n",
              "\n",
              "  .colab-df-spinner {\n",
              "    border: 2px solid var(--fill-color);\n",
              "    border-color: transparent;\n",
              "    border-bottom-color: var(--fill-color);\n",
              "    animation:\n",
              "      spin 1s steps(1) infinite;\n",
              "  }\n",
              "\n",
              "  @keyframes spin {\n",
              "    0% {\n",
              "      border-color: transparent;\n",
              "      border-bottom-color: var(--fill-color);\n",
              "      border-left-color: var(--fill-color);\n",
              "    }\n",
              "    20% {\n",
              "      border-color: transparent;\n",
              "      border-left-color: var(--fill-color);\n",
              "      border-top-color: var(--fill-color);\n",
              "    }\n",
              "    30% {\n",
              "      border-color: transparent;\n",
              "      border-left-color: var(--fill-color);\n",
              "      border-top-color: var(--fill-color);\n",
              "      border-right-color: var(--fill-color);\n",
              "    }\n",
              "    40% {\n",
              "      border-color: transparent;\n",
              "      border-right-color: var(--fill-color);\n",
              "      border-top-color: var(--fill-color);\n",
              "    }\n",
              "    60% {\n",
              "      border-color: transparent;\n",
              "      border-right-color: var(--fill-color);\n",
              "    }\n",
              "    80% {\n",
              "      border-color: transparent;\n",
              "      border-right-color: var(--fill-color);\n",
              "      border-bottom-color: var(--fill-color);\n",
              "    }\n",
              "    90% {\n",
              "      border-color: transparent;\n",
              "      border-bottom-color: var(--fill-color);\n",
              "    }\n",
              "  }\n",
              "</style>\n",
              "\n",
              "  <script>\n",
              "    async function quickchart(key) {\n",
              "      const quickchartButtonEl =\n",
              "        document.querySelector('#' + key + ' button');\n",
              "      quickchartButtonEl.disabled = true;  // To prevent multiple clicks.\n",
              "      quickchartButtonEl.classList.add('colab-df-spinner');\n",
              "      try {\n",
              "        const charts = await google.colab.kernel.invokeFunction(\n",
              "            'suggestCharts', [key], {});\n",
              "      } catch (error) {\n",
              "        console.error('Error during call to suggestCharts:', error);\n",
              "      }\n",
              "      quickchartButtonEl.classList.remove('colab-df-spinner');\n",
              "      quickchartButtonEl.classList.add('colab-df-quickchart-complete');\n",
              "    }\n",
              "    (() => {\n",
              "      let quickchartButtonEl =\n",
              "        document.querySelector('#df-26ec2bc9-789b-4043-a8dc-53982c53edf6 button');\n",
              "      quickchartButtonEl.style.display =\n",
              "        google.colab.kernel.accessAllowed ? 'block' : 'none';\n",
              "    })();\n",
              "  </script>\n",
              "</div>\n",
              "    </div>\n",
              "  </div>\n"
            ],
            "application/vnd.google.colaboratory.intrinsic+json": {
              "type": "dataframe",
              "summary": "{\n  \"name\": \"data_review(data_geo_0)\",\n  \"rows\": 8,\n  \"fields\": [\n    {\n      \"column\": \"f0\",\n      \"properties\": {\n        \"dtype\": \"number\",\n        \"std\": 35355.14566447876,\n        \"min\": -1.408605306026996,\n        \"max\": 100000.0,\n        \"num_unique_values\": 8,\n        \"samples\": [\n          0.5004193306434167,\n          0.5023604550688835,\n          100000.0\n        ],\n        \"semantic_type\": \"\",\n        \"description\": \"\"\n      }\n    },\n    {\n      \"column\": \"f1\",\n      \"properties\": {\n        \"dtype\": \"number\",\n        \"std\": 35355.23804258498,\n        \"min\": -0.8482184970082173,\n        \"max\": 100000.0,\n        \"num_unique_values\": 8,\n        \"samples\": [\n          0.25014302801754934,\n          0.25025228798345783,\n          100000.0\n        ],\n        \"semantic_type\": \"\",\n        \"description\": \"\"\n      }\n    },\n    {\n      \"column\": \"f2\",\n      \"properties\": {\n        \"dtype\": \"number\",\n        \"std\": 35354.47189688021,\n        \"min\": -12.08832811806336,\n        \"max\": 100000.0,\n        \"num_unique_values\": 8,\n        \"samples\": [\n          2.5026469402575238,\n          2.5159691067559757,\n          100000.0\n        ],\n        \"semantic_type\": \"\",\n        \"description\": \"\"\n      }\n    },\n    {\n      \"column\": \"product\",\n      \"properties\": {\n        \"dtype\": \"number\",\n        \"std\": 35325.12574001256,\n        \"min\": 0.0,\n        \"max\": 100000.0,\n        \"num_unique_values\": 8,\n        \"samples\": [\n          92.50000000000001,\n          91.84997204396296,\n          100000.0\n        ],\n        \"semantic_type\": \"\",\n        \"description\": \"\"\n      }\n    }\n  ]\n}"
            }
          },
          "metadata": {}
        }
      ],
      "source": [
        "data_review(data_geo_0)"
      ]
    },
    {
      "cell_type": "code",
      "execution_count": null,
      "metadata": {
        "scrolled": true,
        "id": "2HZAjJ0_eTAk",
        "outputId": "e89e814a-edad-4ab0-a596-6778f97403e1",
        "colab": {
          "base_uri": "https://localhost:8080/",
          "height": 1000
        }
      },
      "outputs": [
        {
          "output_type": "stream",
          "name": "stdout",
          "text": [
            "********** The Original DataFrame **********\n"
          ]
        },
        {
          "output_type": "display_data",
          "data": {
            "text/plain": [
              "      id         f0         f1        f2     product\n",
              "0  kBEdx -15.001348  -8.276000 -0.005876    3.179103\n",
              "1  62mP7  14.272088  -3.475083  0.999183   26.953261\n",
              "2  vyE1P   6.263187  -5.948386  5.001160  134.766305\n",
              "3  KcrkZ -13.081196 -11.506057  4.999415  137.945408\n",
              "4  AHL4O  12.702195  -8.147433  5.004363  134.766305"
            ],
            "text/html": [
              "\n",
              "  <div id=\"df-a6c9c533-7fb3-4fbe-a8c2-6604ca511144\" class=\"colab-df-container\">\n",
              "    <div>\n",
              "<style scoped>\n",
              "    .dataframe tbody tr th:only-of-type {\n",
              "        vertical-align: middle;\n",
              "    }\n",
              "\n",
              "    .dataframe tbody tr th {\n",
              "        vertical-align: top;\n",
              "    }\n",
              "\n",
              "    .dataframe thead th {\n",
              "        text-align: right;\n",
              "    }\n",
              "</style>\n",
              "<table border=\"1\" class=\"dataframe\">\n",
              "  <thead>\n",
              "    <tr style=\"text-align: right;\">\n",
              "      <th></th>\n",
              "      <th>id</th>\n",
              "      <th>f0</th>\n",
              "      <th>f1</th>\n",
              "      <th>f2</th>\n",
              "      <th>product</th>\n",
              "    </tr>\n",
              "  </thead>\n",
              "  <tbody>\n",
              "    <tr>\n",
              "      <th>0</th>\n",
              "      <td>kBEdx</td>\n",
              "      <td>-15.001348</td>\n",
              "      <td>-8.276000</td>\n",
              "      <td>-0.005876</td>\n",
              "      <td>3.179103</td>\n",
              "    </tr>\n",
              "    <tr>\n",
              "      <th>1</th>\n",
              "      <td>62mP7</td>\n",
              "      <td>14.272088</td>\n",
              "      <td>-3.475083</td>\n",
              "      <td>0.999183</td>\n",
              "      <td>26.953261</td>\n",
              "    </tr>\n",
              "    <tr>\n",
              "      <th>2</th>\n",
              "      <td>vyE1P</td>\n",
              "      <td>6.263187</td>\n",
              "      <td>-5.948386</td>\n",
              "      <td>5.001160</td>\n",
              "      <td>134.766305</td>\n",
              "    </tr>\n",
              "    <tr>\n",
              "      <th>3</th>\n",
              "      <td>KcrkZ</td>\n",
              "      <td>-13.081196</td>\n",
              "      <td>-11.506057</td>\n",
              "      <td>4.999415</td>\n",
              "      <td>137.945408</td>\n",
              "    </tr>\n",
              "    <tr>\n",
              "      <th>4</th>\n",
              "      <td>AHL4O</td>\n",
              "      <td>12.702195</td>\n",
              "      <td>-8.147433</td>\n",
              "      <td>5.004363</td>\n",
              "      <td>134.766305</td>\n",
              "    </tr>\n",
              "  </tbody>\n",
              "</table>\n",
              "</div>\n",
              "    <div class=\"colab-df-buttons\">\n",
              "\n",
              "  <div class=\"colab-df-container\">\n",
              "    <button class=\"colab-df-convert\" onclick=\"convertToInteractive('df-a6c9c533-7fb3-4fbe-a8c2-6604ca511144')\"\n",
              "            title=\"Convert this dataframe to an interactive table.\"\n",
              "            style=\"display:none;\">\n",
              "\n",
              "  <svg xmlns=\"http://www.w3.org/2000/svg\" height=\"24px\" viewBox=\"0 -960 960 960\">\n",
              "    <path d=\"M120-120v-720h720v720H120Zm60-500h600v-160H180v160Zm220 220h160v-160H400v160Zm0 220h160v-160H400v160ZM180-400h160v-160H180v160Zm440 0h160v-160H620v160ZM180-180h160v-160H180v160Zm440 0h160v-160H620v160Z\"/>\n",
              "  </svg>\n",
              "    </button>\n",
              "\n",
              "  <style>\n",
              "    .colab-df-container {\n",
              "      display:flex;\n",
              "      gap: 12px;\n",
              "    }\n",
              "\n",
              "    .colab-df-convert {\n",
              "      background-color: #E8F0FE;\n",
              "      border: none;\n",
              "      border-radius: 50%;\n",
              "      cursor: pointer;\n",
              "      display: none;\n",
              "      fill: #1967D2;\n",
              "      height: 32px;\n",
              "      padding: 0 0 0 0;\n",
              "      width: 32px;\n",
              "    }\n",
              "\n",
              "    .colab-df-convert:hover {\n",
              "      background-color: #E2EBFA;\n",
              "      box-shadow: 0px 1px 2px rgba(60, 64, 67, 0.3), 0px 1px 3px 1px rgba(60, 64, 67, 0.15);\n",
              "      fill: #174EA6;\n",
              "    }\n",
              "\n",
              "    .colab-df-buttons div {\n",
              "      margin-bottom: 4px;\n",
              "    }\n",
              "\n",
              "    [theme=dark] .colab-df-convert {\n",
              "      background-color: #3B4455;\n",
              "      fill: #D2E3FC;\n",
              "    }\n",
              "\n",
              "    [theme=dark] .colab-df-convert:hover {\n",
              "      background-color: #434B5C;\n",
              "      box-shadow: 0px 1px 3px 1px rgba(0, 0, 0, 0.15);\n",
              "      filter: drop-shadow(0px 1px 2px rgba(0, 0, 0, 0.3));\n",
              "      fill: #FFFFFF;\n",
              "    }\n",
              "  </style>\n",
              "\n",
              "    <script>\n",
              "      const buttonEl =\n",
              "        document.querySelector('#df-a6c9c533-7fb3-4fbe-a8c2-6604ca511144 button.colab-df-convert');\n",
              "      buttonEl.style.display =\n",
              "        google.colab.kernel.accessAllowed ? 'block' : 'none';\n",
              "\n",
              "      async function convertToInteractive(key) {\n",
              "        const element = document.querySelector('#df-a6c9c533-7fb3-4fbe-a8c2-6604ca511144');\n",
              "        const dataTable =\n",
              "          await google.colab.kernel.invokeFunction('convertToInteractive',\n",
              "                                                    [key], {});\n",
              "        if (!dataTable) return;\n",
              "\n",
              "        const docLinkHtml = 'Like what you see? Visit the ' +\n",
              "          '<a target=\"_blank\" href=https://colab.research.google.com/notebooks/data_table.ipynb>data table notebook</a>'\n",
              "          + ' to learn more about interactive tables.';\n",
              "        element.innerHTML = '';\n",
              "        dataTable['output_type'] = 'display_data';\n",
              "        await google.colab.output.renderOutput(dataTable, element);\n",
              "        const docLink = document.createElement('div');\n",
              "        docLink.innerHTML = docLinkHtml;\n",
              "        element.appendChild(docLink);\n",
              "      }\n",
              "    </script>\n",
              "  </div>\n",
              "\n",
              "\n",
              "<div id=\"df-154951a5-6092-4649-aa87-efeaebd611c3\">\n",
              "  <button class=\"colab-df-quickchart\" onclick=\"quickchart('df-154951a5-6092-4649-aa87-efeaebd611c3')\"\n",
              "            title=\"Suggest charts\"\n",
              "            style=\"display:none;\">\n",
              "\n",
              "<svg xmlns=\"http://www.w3.org/2000/svg\" height=\"24px\"viewBox=\"0 0 24 24\"\n",
              "     width=\"24px\">\n",
              "    <g>\n",
              "        <path d=\"M19 3H5c-1.1 0-2 .9-2 2v14c0 1.1.9 2 2 2h14c1.1 0 2-.9 2-2V5c0-1.1-.9-2-2-2zM9 17H7v-7h2v7zm4 0h-2V7h2v10zm4 0h-2v-4h2v4z\"/>\n",
              "    </g>\n",
              "</svg>\n",
              "  </button>\n",
              "\n",
              "<style>\n",
              "  .colab-df-quickchart {\n",
              "      --bg-color: #E8F0FE;\n",
              "      --fill-color: #1967D2;\n",
              "      --hover-bg-color: #E2EBFA;\n",
              "      --hover-fill-color: #174EA6;\n",
              "      --disabled-fill-color: #AAA;\n",
              "      --disabled-bg-color: #DDD;\n",
              "  }\n",
              "\n",
              "  [theme=dark] .colab-df-quickchart {\n",
              "      --bg-color: #3B4455;\n",
              "      --fill-color: #D2E3FC;\n",
              "      --hover-bg-color: #434B5C;\n",
              "      --hover-fill-color: #FFFFFF;\n",
              "      --disabled-bg-color: #3B4455;\n",
              "      --disabled-fill-color: #666;\n",
              "  }\n",
              "\n",
              "  .colab-df-quickchart {\n",
              "    background-color: var(--bg-color);\n",
              "    border: none;\n",
              "    border-radius: 50%;\n",
              "    cursor: pointer;\n",
              "    display: none;\n",
              "    fill: var(--fill-color);\n",
              "    height: 32px;\n",
              "    padding: 0;\n",
              "    width: 32px;\n",
              "  }\n",
              "\n",
              "  .colab-df-quickchart:hover {\n",
              "    background-color: var(--hover-bg-color);\n",
              "    box-shadow: 0 1px 2px rgba(60, 64, 67, 0.3), 0 1px 3px 1px rgba(60, 64, 67, 0.15);\n",
              "    fill: var(--button-hover-fill-color);\n",
              "  }\n",
              "\n",
              "  .colab-df-quickchart-complete:disabled,\n",
              "  .colab-df-quickchart-complete:disabled:hover {\n",
              "    background-color: var(--disabled-bg-color);\n",
              "    fill: var(--disabled-fill-color);\n",
              "    box-shadow: none;\n",
              "  }\n",
              "\n",
              "  .colab-df-spinner {\n",
              "    border: 2px solid var(--fill-color);\n",
              "    border-color: transparent;\n",
              "    border-bottom-color: var(--fill-color);\n",
              "    animation:\n",
              "      spin 1s steps(1) infinite;\n",
              "  }\n",
              "\n",
              "  @keyframes spin {\n",
              "    0% {\n",
              "      border-color: transparent;\n",
              "      border-bottom-color: var(--fill-color);\n",
              "      border-left-color: var(--fill-color);\n",
              "    }\n",
              "    20% {\n",
              "      border-color: transparent;\n",
              "      border-left-color: var(--fill-color);\n",
              "      border-top-color: var(--fill-color);\n",
              "    }\n",
              "    30% {\n",
              "      border-color: transparent;\n",
              "      border-left-color: var(--fill-color);\n",
              "      border-top-color: var(--fill-color);\n",
              "      border-right-color: var(--fill-color);\n",
              "    }\n",
              "    40% {\n",
              "      border-color: transparent;\n",
              "      border-right-color: var(--fill-color);\n",
              "      border-top-color: var(--fill-color);\n",
              "    }\n",
              "    60% {\n",
              "      border-color: transparent;\n",
              "      border-right-color: var(--fill-color);\n",
              "    }\n",
              "    80% {\n",
              "      border-color: transparent;\n",
              "      border-right-color: var(--fill-color);\n",
              "      border-bottom-color: var(--fill-color);\n",
              "    }\n",
              "    90% {\n",
              "      border-color: transparent;\n",
              "      border-bottom-color: var(--fill-color);\n",
              "    }\n",
              "  }\n",
              "</style>\n",
              "\n",
              "  <script>\n",
              "    async function quickchart(key) {\n",
              "      const quickchartButtonEl =\n",
              "        document.querySelector('#' + key + ' button');\n",
              "      quickchartButtonEl.disabled = true;  // To prevent multiple clicks.\n",
              "      quickchartButtonEl.classList.add('colab-df-spinner');\n",
              "      try {\n",
              "        const charts = await google.colab.kernel.invokeFunction(\n",
              "            'suggestCharts', [key], {});\n",
              "      } catch (error) {\n",
              "        console.error('Error during call to suggestCharts:', error);\n",
              "      }\n",
              "      quickchartButtonEl.classList.remove('colab-df-spinner');\n",
              "      quickchartButtonEl.classList.add('colab-df-quickchart-complete');\n",
              "    }\n",
              "    (() => {\n",
              "      let quickchartButtonEl =\n",
              "        document.querySelector('#df-154951a5-6092-4649-aa87-efeaebd611c3 button');\n",
              "      quickchartButtonEl.style.display =\n",
              "        google.colab.kernel.accessAllowed ? 'block' : 'none';\n",
              "    })();\n",
              "  </script>\n",
              "</div>\n",
              "    </div>\n",
              "  </div>\n"
            ],
            "application/vnd.google.colaboratory.intrinsic+json": {
              "type": "dataframe",
              "summary": "{\n  \"name\": \"data_review(data_geo_1)\",\n  \"rows\": 5,\n  \"fields\": [\n    {\n      \"column\": \"id\",\n      \"properties\": {\n        \"dtype\": \"string\",\n        \"num_unique_values\": 5,\n        \"samples\": [\n          \"62mP7\",\n          \"AHL4O\",\n          \"vyE1P\"\n        ],\n        \"semantic_type\": \"\",\n        \"description\": \"\"\n      }\n    },\n    {\n      \"column\": \"f0\",\n      \"properties\": {\n        \"dtype\": \"number\",\n        \"std\": 14.098840850488468,\n        \"min\": -15.00134818249185,\n        \"max\": 14.272087811011149,\n        \"num_unique_values\": 5,\n        \"samples\": [\n          14.272087811011149,\n          12.702194885533585,\n          6.263187352448809\n        ],\n        \"semantic_type\": \"\",\n        \"description\": \"\"\n      }\n    },\n    {\n      \"column\": \"f1\",\n      \"properties\": {\n        \"dtype\": \"number\",\n        \"std\": 2.9863428755518195,\n        \"min\": -11.506056864519604,\n        \"max\": -3.47508321506002,\n        \"num_unique_values\": 5,\n        \"samples\": [\n          -3.47508321506002,\n          -8.147433374146587,\n          -5.948385788285711\n        ],\n        \"semantic_type\": \"\",\n        \"description\": \"\"\n      }\n    },\n    {\n      \"column\": \"f2\",\n      \"properties\": {\n        \"dtype\": \"number\",\n        \"std\": 2.49294169335158,\n        \"min\": -0.0058760136933206,\n        \"max\": 5.00436255224226,\n        \"num_unique_values\": 5,\n        \"samples\": [\n          0.9991827365665829,\n          5.00436255224226,\n          5.001160160764809\n        ],\n        \"semantic_type\": \"\",\n        \"description\": \"\"\n      }\n    },\n    {\n      \"column\": \"product\",\n      \"properties\": {\n        \"dtype\": \"number\",\n        \"std\": 66.68745247933276,\n        \"min\": 3.179102583207246,\n        \"max\": 137.94540774090564,\n        \"num_unique_values\": 4,\n        \"samples\": [\n          26.95326103153969,\n          137.94540774090564,\n          3.179102583207246\n        ],\n        \"semantic_type\": \"\",\n        \"description\": \"\"\n      }\n    }\n  ]\n}"
            }
          },
          "metadata": {}
        },
        {
          "output_type": "stream",
          "name": "stdout",
          "text": [
            "\n",
            "\n",
            "********** General Information **********\n",
            "\n",
            "<class 'pandas.core.frame.DataFrame'>\n",
            "RangeIndex: 100000 entries, 0 to 99999\n",
            "Data columns (total 5 columns):\n",
            " #   Column   Non-Null Count   Dtype  \n",
            "---  ------   --------------   -----  \n",
            " 0   id       100000 non-null  object \n",
            " 1   f0       100000 non-null  float64\n",
            " 2   f1       100000 non-null  float64\n",
            " 3   f2       100000 non-null  float64\n",
            " 4   product  100000 non-null  float64\n",
            "dtypes: float64(4), object(1)\n",
            "memory usage: 3.8+ MB\n",
            "\n",
            "\n",
            "********** Has NaN **********\n"
          ]
        },
        {
          "output_type": "display_data",
          "data": {
            "text/plain": [
              "id         0\n",
              "f0         0\n",
              "f1         0\n",
              "f2         0\n",
              "product    0\n",
              "dtype: int64"
            ],
            "text/html": [
              "<div>\n",
              "<style scoped>\n",
              "    .dataframe tbody tr th:only-of-type {\n",
              "        vertical-align: middle;\n",
              "    }\n",
              "\n",
              "    .dataframe tbody tr th {\n",
              "        vertical-align: top;\n",
              "    }\n",
              "\n",
              "    .dataframe thead th {\n",
              "        text-align: right;\n",
              "    }\n",
              "</style>\n",
              "<table border=\"1\" class=\"dataframe\">\n",
              "  <thead>\n",
              "    <tr style=\"text-align: right;\">\n",
              "      <th></th>\n",
              "      <th>0</th>\n",
              "    </tr>\n",
              "  </thead>\n",
              "  <tbody>\n",
              "    <tr>\n",
              "      <th>id</th>\n",
              "      <td>0</td>\n",
              "    </tr>\n",
              "    <tr>\n",
              "      <th>f0</th>\n",
              "      <td>0</td>\n",
              "    </tr>\n",
              "    <tr>\n",
              "      <th>f1</th>\n",
              "      <td>0</td>\n",
              "    </tr>\n",
              "    <tr>\n",
              "      <th>f2</th>\n",
              "      <td>0</td>\n",
              "    </tr>\n",
              "    <tr>\n",
              "      <th>product</th>\n",
              "      <td>0</td>\n",
              "    </tr>\n",
              "  </tbody>\n",
              "</table>\n",
              "</div><br><label><b>dtype:</b> int64</label>"
            ]
          },
          "metadata": {}
        },
        {
          "output_type": "stream",
          "name": "stdout",
          "text": [
            "\n",
            "\n",
            "********** Descriptive Statistics **********\n"
          ]
        },
        {
          "output_type": "display_data",
          "data": {
            "text/plain": [
              "                  f0             f1             f2        product\n",
              "count  100000.000000  100000.000000  100000.000000  100000.000000\n",
              "mean        1.141296      -4.796579       2.494541      68.825000\n",
              "std         8.965932       5.119872       1.703572      45.944423\n",
              "min       -31.609576     -26.358598      -0.018144       0.000000\n",
              "25%        -6.298551      -8.267985       1.000021      26.953261\n",
              "50%         1.153055      -4.813172       2.011479      57.085625\n",
              "75%         8.621015      -1.332816       3.999904     107.813044\n",
              "max        29.421755      18.734063       5.019721     137.945408"
            ],
            "text/html": [
              "\n",
              "  <div id=\"df-8aaeaf82-9e9d-4caf-ab12-a94945cdea35\" class=\"colab-df-container\">\n",
              "    <div>\n",
              "<style scoped>\n",
              "    .dataframe tbody tr th:only-of-type {\n",
              "        vertical-align: middle;\n",
              "    }\n",
              "\n",
              "    .dataframe tbody tr th {\n",
              "        vertical-align: top;\n",
              "    }\n",
              "\n",
              "    .dataframe thead th {\n",
              "        text-align: right;\n",
              "    }\n",
              "</style>\n",
              "<table border=\"1\" class=\"dataframe\">\n",
              "  <thead>\n",
              "    <tr style=\"text-align: right;\">\n",
              "      <th></th>\n",
              "      <th>f0</th>\n",
              "      <th>f1</th>\n",
              "      <th>f2</th>\n",
              "      <th>product</th>\n",
              "    </tr>\n",
              "  </thead>\n",
              "  <tbody>\n",
              "    <tr>\n",
              "      <th>count</th>\n",
              "      <td>100000.000000</td>\n",
              "      <td>100000.000000</td>\n",
              "      <td>100000.000000</td>\n",
              "      <td>100000.000000</td>\n",
              "    </tr>\n",
              "    <tr>\n",
              "      <th>mean</th>\n",
              "      <td>1.141296</td>\n",
              "      <td>-4.796579</td>\n",
              "      <td>2.494541</td>\n",
              "      <td>68.825000</td>\n",
              "    </tr>\n",
              "    <tr>\n",
              "      <th>std</th>\n",
              "      <td>8.965932</td>\n",
              "      <td>5.119872</td>\n",
              "      <td>1.703572</td>\n",
              "      <td>45.944423</td>\n",
              "    </tr>\n",
              "    <tr>\n",
              "      <th>min</th>\n",
              "      <td>-31.609576</td>\n",
              "      <td>-26.358598</td>\n",
              "      <td>-0.018144</td>\n",
              "      <td>0.000000</td>\n",
              "    </tr>\n",
              "    <tr>\n",
              "      <th>25%</th>\n",
              "      <td>-6.298551</td>\n",
              "      <td>-8.267985</td>\n",
              "      <td>1.000021</td>\n",
              "      <td>26.953261</td>\n",
              "    </tr>\n",
              "    <tr>\n",
              "      <th>50%</th>\n",
              "      <td>1.153055</td>\n",
              "      <td>-4.813172</td>\n",
              "      <td>2.011479</td>\n",
              "      <td>57.085625</td>\n",
              "    </tr>\n",
              "    <tr>\n",
              "      <th>75%</th>\n",
              "      <td>8.621015</td>\n",
              "      <td>-1.332816</td>\n",
              "      <td>3.999904</td>\n",
              "      <td>107.813044</td>\n",
              "    </tr>\n",
              "    <tr>\n",
              "      <th>max</th>\n",
              "      <td>29.421755</td>\n",
              "      <td>18.734063</td>\n",
              "      <td>5.019721</td>\n",
              "      <td>137.945408</td>\n",
              "    </tr>\n",
              "  </tbody>\n",
              "</table>\n",
              "</div>\n",
              "    <div class=\"colab-df-buttons\">\n",
              "\n",
              "  <div class=\"colab-df-container\">\n",
              "    <button class=\"colab-df-convert\" onclick=\"convertToInteractive('df-8aaeaf82-9e9d-4caf-ab12-a94945cdea35')\"\n",
              "            title=\"Convert this dataframe to an interactive table.\"\n",
              "            style=\"display:none;\">\n",
              "\n",
              "  <svg xmlns=\"http://www.w3.org/2000/svg\" height=\"24px\" viewBox=\"0 -960 960 960\">\n",
              "    <path d=\"M120-120v-720h720v720H120Zm60-500h600v-160H180v160Zm220 220h160v-160H400v160Zm0 220h160v-160H400v160ZM180-400h160v-160H180v160Zm440 0h160v-160H620v160ZM180-180h160v-160H180v160Zm440 0h160v-160H620v160Z\"/>\n",
              "  </svg>\n",
              "    </button>\n",
              "\n",
              "  <style>\n",
              "    .colab-df-container {\n",
              "      display:flex;\n",
              "      gap: 12px;\n",
              "    }\n",
              "\n",
              "    .colab-df-convert {\n",
              "      background-color: #E8F0FE;\n",
              "      border: none;\n",
              "      border-radius: 50%;\n",
              "      cursor: pointer;\n",
              "      display: none;\n",
              "      fill: #1967D2;\n",
              "      height: 32px;\n",
              "      padding: 0 0 0 0;\n",
              "      width: 32px;\n",
              "    }\n",
              "\n",
              "    .colab-df-convert:hover {\n",
              "      background-color: #E2EBFA;\n",
              "      box-shadow: 0px 1px 2px rgba(60, 64, 67, 0.3), 0px 1px 3px 1px rgba(60, 64, 67, 0.15);\n",
              "      fill: #174EA6;\n",
              "    }\n",
              "\n",
              "    .colab-df-buttons div {\n",
              "      margin-bottom: 4px;\n",
              "    }\n",
              "\n",
              "    [theme=dark] .colab-df-convert {\n",
              "      background-color: #3B4455;\n",
              "      fill: #D2E3FC;\n",
              "    }\n",
              "\n",
              "    [theme=dark] .colab-df-convert:hover {\n",
              "      background-color: #434B5C;\n",
              "      box-shadow: 0px 1px 3px 1px rgba(0, 0, 0, 0.15);\n",
              "      filter: drop-shadow(0px 1px 2px rgba(0, 0, 0, 0.3));\n",
              "      fill: #FFFFFF;\n",
              "    }\n",
              "  </style>\n",
              "\n",
              "    <script>\n",
              "      const buttonEl =\n",
              "        document.querySelector('#df-8aaeaf82-9e9d-4caf-ab12-a94945cdea35 button.colab-df-convert');\n",
              "      buttonEl.style.display =\n",
              "        google.colab.kernel.accessAllowed ? 'block' : 'none';\n",
              "\n",
              "      async function convertToInteractive(key) {\n",
              "        const element = document.querySelector('#df-8aaeaf82-9e9d-4caf-ab12-a94945cdea35');\n",
              "        const dataTable =\n",
              "          await google.colab.kernel.invokeFunction('convertToInteractive',\n",
              "                                                    [key], {});\n",
              "        if (!dataTable) return;\n",
              "\n",
              "        const docLinkHtml = 'Like what you see? Visit the ' +\n",
              "          '<a target=\"_blank\" href=https://colab.research.google.com/notebooks/data_table.ipynb>data table notebook</a>'\n",
              "          + ' to learn more about interactive tables.';\n",
              "        element.innerHTML = '';\n",
              "        dataTable['output_type'] = 'display_data';\n",
              "        await google.colab.output.renderOutput(dataTable, element);\n",
              "        const docLink = document.createElement('div');\n",
              "        docLink.innerHTML = docLinkHtml;\n",
              "        element.appendChild(docLink);\n",
              "      }\n",
              "    </script>\n",
              "  </div>\n",
              "\n",
              "\n",
              "<div id=\"df-75524903-3178-4b62-b5e7-4b997171a9ca\">\n",
              "  <button class=\"colab-df-quickchart\" onclick=\"quickchart('df-75524903-3178-4b62-b5e7-4b997171a9ca')\"\n",
              "            title=\"Suggest charts\"\n",
              "            style=\"display:none;\">\n",
              "\n",
              "<svg xmlns=\"http://www.w3.org/2000/svg\" height=\"24px\"viewBox=\"0 0 24 24\"\n",
              "     width=\"24px\">\n",
              "    <g>\n",
              "        <path d=\"M19 3H5c-1.1 0-2 .9-2 2v14c0 1.1.9 2 2 2h14c1.1 0 2-.9 2-2V5c0-1.1-.9-2-2-2zM9 17H7v-7h2v7zm4 0h-2V7h2v10zm4 0h-2v-4h2v4z\"/>\n",
              "    </g>\n",
              "</svg>\n",
              "  </button>\n",
              "\n",
              "<style>\n",
              "  .colab-df-quickchart {\n",
              "      --bg-color: #E8F0FE;\n",
              "      --fill-color: #1967D2;\n",
              "      --hover-bg-color: #E2EBFA;\n",
              "      --hover-fill-color: #174EA6;\n",
              "      --disabled-fill-color: #AAA;\n",
              "      --disabled-bg-color: #DDD;\n",
              "  }\n",
              "\n",
              "  [theme=dark] .colab-df-quickchart {\n",
              "      --bg-color: #3B4455;\n",
              "      --fill-color: #D2E3FC;\n",
              "      --hover-bg-color: #434B5C;\n",
              "      --hover-fill-color: #FFFFFF;\n",
              "      --disabled-bg-color: #3B4455;\n",
              "      --disabled-fill-color: #666;\n",
              "  }\n",
              "\n",
              "  .colab-df-quickchart {\n",
              "    background-color: var(--bg-color);\n",
              "    border: none;\n",
              "    border-radius: 50%;\n",
              "    cursor: pointer;\n",
              "    display: none;\n",
              "    fill: var(--fill-color);\n",
              "    height: 32px;\n",
              "    padding: 0;\n",
              "    width: 32px;\n",
              "  }\n",
              "\n",
              "  .colab-df-quickchart:hover {\n",
              "    background-color: var(--hover-bg-color);\n",
              "    box-shadow: 0 1px 2px rgba(60, 64, 67, 0.3), 0 1px 3px 1px rgba(60, 64, 67, 0.15);\n",
              "    fill: var(--button-hover-fill-color);\n",
              "  }\n",
              "\n",
              "  .colab-df-quickchart-complete:disabled,\n",
              "  .colab-df-quickchart-complete:disabled:hover {\n",
              "    background-color: var(--disabled-bg-color);\n",
              "    fill: var(--disabled-fill-color);\n",
              "    box-shadow: none;\n",
              "  }\n",
              "\n",
              "  .colab-df-spinner {\n",
              "    border: 2px solid var(--fill-color);\n",
              "    border-color: transparent;\n",
              "    border-bottom-color: var(--fill-color);\n",
              "    animation:\n",
              "      spin 1s steps(1) infinite;\n",
              "  }\n",
              "\n",
              "  @keyframes spin {\n",
              "    0% {\n",
              "      border-color: transparent;\n",
              "      border-bottom-color: var(--fill-color);\n",
              "      border-left-color: var(--fill-color);\n",
              "    }\n",
              "    20% {\n",
              "      border-color: transparent;\n",
              "      border-left-color: var(--fill-color);\n",
              "      border-top-color: var(--fill-color);\n",
              "    }\n",
              "    30% {\n",
              "      border-color: transparent;\n",
              "      border-left-color: var(--fill-color);\n",
              "      border-top-color: var(--fill-color);\n",
              "      border-right-color: var(--fill-color);\n",
              "    }\n",
              "    40% {\n",
              "      border-color: transparent;\n",
              "      border-right-color: var(--fill-color);\n",
              "      border-top-color: var(--fill-color);\n",
              "    }\n",
              "    60% {\n",
              "      border-color: transparent;\n",
              "      border-right-color: var(--fill-color);\n",
              "    }\n",
              "    80% {\n",
              "      border-color: transparent;\n",
              "      border-right-color: var(--fill-color);\n",
              "      border-bottom-color: var(--fill-color);\n",
              "    }\n",
              "    90% {\n",
              "      border-color: transparent;\n",
              "      border-bottom-color: var(--fill-color);\n",
              "    }\n",
              "  }\n",
              "</style>\n",
              "\n",
              "  <script>\n",
              "    async function quickchart(key) {\n",
              "      const quickchartButtonEl =\n",
              "        document.querySelector('#' + key + ' button');\n",
              "      quickchartButtonEl.disabled = true;  // To prevent multiple clicks.\n",
              "      quickchartButtonEl.classList.add('colab-df-spinner');\n",
              "      try {\n",
              "        const charts = await google.colab.kernel.invokeFunction(\n",
              "            'suggestCharts', [key], {});\n",
              "      } catch (error) {\n",
              "        console.error('Error during call to suggestCharts:', error);\n",
              "      }\n",
              "      quickchartButtonEl.classList.remove('colab-df-spinner');\n",
              "      quickchartButtonEl.classList.add('colab-df-quickchart-complete');\n",
              "    }\n",
              "    (() => {\n",
              "      let quickchartButtonEl =\n",
              "        document.querySelector('#df-75524903-3178-4b62-b5e7-4b997171a9ca button');\n",
              "      quickchartButtonEl.style.display =\n",
              "        google.colab.kernel.accessAllowed ? 'block' : 'none';\n",
              "    })();\n",
              "  </script>\n",
              "</div>\n",
              "    </div>\n",
              "  </div>\n"
            ],
            "application/vnd.google.colaboratory.intrinsic+json": {
              "type": "dataframe",
              "summary": "{\n  \"name\": \"data_review(data_geo_1)\",\n  \"rows\": 8,\n  \"fields\": [\n    {\n      \"column\": \"f0\",\n      \"properties\": {\n        \"dtype\": \"number\",\n        \"std\": 35354.76765677245,\n        \"min\": -31.609576019167687,\n        \"max\": 100000.0,\n        \"num_unique_values\": 8,\n        \"samples\": [\n          1.1412958353989027,\n          1.1530552313242992,\n          100000.0\n        ],\n        \"semantic_type\": \"\",\n        \"description\": \"\"\n      }\n    },\n    {\n      \"column\": \"f1\",\n      \"properties\": {\n        \"dtype\": \"number\",\n        \"std\": 35356.438107829046,\n        \"min\": -26.358598008345872,\n        \"max\": 100000.0,\n        \"num_unique_values\": 8,\n        \"samples\": [\n          -4.796579148792222,\n          -4.813171838262699,\n          100000.0\n        ],\n        \"semantic_type\": \"\",\n        \"description\": \"\"\n      }\n    },\n    {\n      \"column\": \"f2\",\n      \"properties\": {\n        \"dtype\": \"number\",\n        \"std\": 35354.5203114911,\n        \"min\": -0.0181440867134202,\n        \"max\": 100000.0,\n        \"num_unique_values\": 8,\n        \"samples\": [\n          2.494541252382821,\n          2.0114785491201994,\n          100000.0\n        ],\n        \"semantic_type\": \"\",\n        \"description\": \"\"\n      }\n    },\n    {\n      \"column\": \"product\",\n      \"properties\": {\n        \"dtype\": \"number\",\n        \"std\": 35332.911835939434,\n        \"min\": 0.0,\n        \"max\": 100000.0,\n        \"num_unique_values\": 8,\n        \"samples\": [\n          68.82500000000002,\n          57.08562464628662,\n          100000.0\n        ],\n        \"semantic_type\": \"\",\n        \"description\": \"\"\n      }\n    }\n  ]\n}"
            }
          },
          "metadata": {}
        }
      ],
      "source": [
        "data_review(data_geo_1)"
      ]
    },
    {
      "cell_type": "code",
      "execution_count": null,
      "metadata": {
        "scrolled": true,
        "id": "ZoRQH3fleTAk",
        "outputId": "8114cd3d-c39c-4708-bb4f-ae68835a9f4a",
        "colab": {
          "base_uri": "https://localhost:8080/",
          "height": 1000
        }
      },
      "outputs": [
        {
          "output_type": "stream",
          "name": "stdout",
          "text": [
            "********** The Original DataFrame **********\n"
          ]
        },
        {
          "output_type": "display_data",
          "data": {
            "text/plain": [
              "      id        f0        f1        f2     product\n",
              "0  fwXo0 -1.146987  0.963328 -0.828965   27.758673\n",
              "1  WJtFt  0.262778  0.269839 -2.530187   56.069697\n",
              "2  ovLUW  0.194587  0.289035 -5.586433   62.871910\n",
              "3  q6cA6  2.236060 -0.553760  0.930038  114.572842\n",
              "4  WPMUX -0.515993  1.716266  5.899011  149.600746"
            ],
            "text/html": [
              "\n",
              "  <div id=\"df-2bd24066-0e35-4699-a560-4ad0a2a287e7\" class=\"colab-df-container\">\n",
              "    <div>\n",
              "<style scoped>\n",
              "    .dataframe tbody tr th:only-of-type {\n",
              "        vertical-align: middle;\n",
              "    }\n",
              "\n",
              "    .dataframe tbody tr th {\n",
              "        vertical-align: top;\n",
              "    }\n",
              "\n",
              "    .dataframe thead th {\n",
              "        text-align: right;\n",
              "    }\n",
              "</style>\n",
              "<table border=\"1\" class=\"dataframe\">\n",
              "  <thead>\n",
              "    <tr style=\"text-align: right;\">\n",
              "      <th></th>\n",
              "      <th>id</th>\n",
              "      <th>f0</th>\n",
              "      <th>f1</th>\n",
              "      <th>f2</th>\n",
              "      <th>product</th>\n",
              "    </tr>\n",
              "  </thead>\n",
              "  <tbody>\n",
              "    <tr>\n",
              "      <th>0</th>\n",
              "      <td>fwXo0</td>\n",
              "      <td>-1.146987</td>\n",
              "      <td>0.963328</td>\n",
              "      <td>-0.828965</td>\n",
              "      <td>27.758673</td>\n",
              "    </tr>\n",
              "    <tr>\n",
              "      <th>1</th>\n",
              "      <td>WJtFt</td>\n",
              "      <td>0.262778</td>\n",
              "      <td>0.269839</td>\n",
              "      <td>-2.530187</td>\n",
              "      <td>56.069697</td>\n",
              "    </tr>\n",
              "    <tr>\n",
              "      <th>2</th>\n",
              "      <td>ovLUW</td>\n",
              "      <td>0.194587</td>\n",
              "      <td>0.289035</td>\n",
              "      <td>-5.586433</td>\n",
              "      <td>62.871910</td>\n",
              "    </tr>\n",
              "    <tr>\n",
              "      <th>3</th>\n",
              "      <td>q6cA6</td>\n",
              "      <td>2.236060</td>\n",
              "      <td>-0.553760</td>\n",
              "      <td>0.930038</td>\n",
              "      <td>114.572842</td>\n",
              "    </tr>\n",
              "    <tr>\n",
              "      <th>4</th>\n",
              "      <td>WPMUX</td>\n",
              "      <td>-0.515993</td>\n",
              "      <td>1.716266</td>\n",
              "      <td>5.899011</td>\n",
              "      <td>149.600746</td>\n",
              "    </tr>\n",
              "  </tbody>\n",
              "</table>\n",
              "</div>\n",
              "    <div class=\"colab-df-buttons\">\n",
              "\n",
              "  <div class=\"colab-df-container\">\n",
              "    <button class=\"colab-df-convert\" onclick=\"convertToInteractive('df-2bd24066-0e35-4699-a560-4ad0a2a287e7')\"\n",
              "            title=\"Convert this dataframe to an interactive table.\"\n",
              "            style=\"display:none;\">\n",
              "\n",
              "  <svg xmlns=\"http://www.w3.org/2000/svg\" height=\"24px\" viewBox=\"0 -960 960 960\">\n",
              "    <path d=\"M120-120v-720h720v720H120Zm60-500h600v-160H180v160Zm220 220h160v-160H400v160Zm0 220h160v-160H400v160ZM180-400h160v-160H180v160Zm440 0h160v-160H620v160ZM180-180h160v-160H180v160Zm440 0h160v-160H620v160Z\"/>\n",
              "  </svg>\n",
              "    </button>\n",
              "\n",
              "  <style>\n",
              "    .colab-df-container {\n",
              "      display:flex;\n",
              "      gap: 12px;\n",
              "    }\n",
              "\n",
              "    .colab-df-convert {\n",
              "      background-color: #E8F0FE;\n",
              "      border: none;\n",
              "      border-radius: 50%;\n",
              "      cursor: pointer;\n",
              "      display: none;\n",
              "      fill: #1967D2;\n",
              "      height: 32px;\n",
              "      padding: 0 0 0 0;\n",
              "      width: 32px;\n",
              "    }\n",
              "\n",
              "    .colab-df-convert:hover {\n",
              "      background-color: #E2EBFA;\n",
              "      box-shadow: 0px 1px 2px rgba(60, 64, 67, 0.3), 0px 1px 3px 1px rgba(60, 64, 67, 0.15);\n",
              "      fill: #174EA6;\n",
              "    }\n",
              "\n",
              "    .colab-df-buttons div {\n",
              "      margin-bottom: 4px;\n",
              "    }\n",
              "\n",
              "    [theme=dark] .colab-df-convert {\n",
              "      background-color: #3B4455;\n",
              "      fill: #D2E3FC;\n",
              "    }\n",
              "\n",
              "    [theme=dark] .colab-df-convert:hover {\n",
              "      background-color: #434B5C;\n",
              "      box-shadow: 0px 1px 3px 1px rgba(0, 0, 0, 0.15);\n",
              "      filter: drop-shadow(0px 1px 2px rgba(0, 0, 0, 0.3));\n",
              "      fill: #FFFFFF;\n",
              "    }\n",
              "  </style>\n",
              "\n",
              "    <script>\n",
              "      const buttonEl =\n",
              "        document.querySelector('#df-2bd24066-0e35-4699-a560-4ad0a2a287e7 button.colab-df-convert');\n",
              "      buttonEl.style.display =\n",
              "        google.colab.kernel.accessAllowed ? 'block' : 'none';\n",
              "\n",
              "      async function convertToInteractive(key) {\n",
              "        const element = document.querySelector('#df-2bd24066-0e35-4699-a560-4ad0a2a287e7');\n",
              "        const dataTable =\n",
              "          await google.colab.kernel.invokeFunction('convertToInteractive',\n",
              "                                                    [key], {});\n",
              "        if (!dataTable) return;\n",
              "\n",
              "        const docLinkHtml = 'Like what you see? Visit the ' +\n",
              "          '<a target=\"_blank\" href=https://colab.research.google.com/notebooks/data_table.ipynb>data table notebook</a>'\n",
              "          + ' to learn more about interactive tables.';\n",
              "        element.innerHTML = '';\n",
              "        dataTable['output_type'] = 'display_data';\n",
              "        await google.colab.output.renderOutput(dataTable, element);\n",
              "        const docLink = document.createElement('div');\n",
              "        docLink.innerHTML = docLinkHtml;\n",
              "        element.appendChild(docLink);\n",
              "      }\n",
              "    </script>\n",
              "  </div>\n",
              "\n",
              "\n",
              "<div id=\"df-08814473-b791-41b4-8e06-80be52eeb868\">\n",
              "  <button class=\"colab-df-quickchart\" onclick=\"quickchart('df-08814473-b791-41b4-8e06-80be52eeb868')\"\n",
              "            title=\"Suggest charts\"\n",
              "            style=\"display:none;\">\n",
              "\n",
              "<svg xmlns=\"http://www.w3.org/2000/svg\" height=\"24px\"viewBox=\"0 0 24 24\"\n",
              "     width=\"24px\">\n",
              "    <g>\n",
              "        <path d=\"M19 3H5c-1.1 0-2 .9-2 2v14c0 1.1.9 2 2 2h14c1.1 0 2-.9 2-2V5c0-1.1-.9-2-2-2zM9 17H7v-7h2v7zm4 0h-2V7h2v10zm4 0h-2v-4h2v4z\"/>\n",
              "    </g>\n",
              "</svg>\n",
              "  </button>\n",
              "\n",
              "<style>\n",
              "  .colab-df-quickchart {\n",
              "      --bg-color: #E8F0FE;\n",
              "      --fill-color: #1967D2;\n",
              "      --hover-bg-color: #E2EBFA;\n",
              "      --hover-fill-color: #174EA6;\n",
              "      --disabled-fill-color: #AAA;\n",
              "      --disabled-bg-color: #DDD;\n",
              "  }\n",
              "\n",
              "  [theme=dark] .colab-df-quickchart {\n",
              "      --bg-color: #3B4455;\n",
              "      --fill-color: #D2E3FC;\n",
              "      --hover-bg-color: #434B5C;\n",
              "      --hover-fill-color: #FFFFFF;\n",
              "      --disabled-bg-color: #3B4455;\n",
              "      --disabled-fill-color: #666;\n",
              "  }\n",
              "\n",
              "  .colab-df-quickchart {\n",
              "    background-color: var(--bg-color);\n",
              "    border: none;\n",
              "    border-radius: 50%;\n",
              "    cursor: pointer;\n",
              "    display: none;\n",
              "    fill: var(--fill-color);\n",
              "    height: 32px;\n",
              "    padding: 0;\n",
              "    width: 32px;\n",
              "  }\n",
              "\n",
              "  .colab-df-quickchart:hover {\n",
              "    background-color: var(--hover-bg-color);\n",
              "    box-shadow: 0 1px 2px rgba(60, 64, 67, 0.3), 0 1px 3px 1px rgba(60, 64, 67, 0.15);\n",
              "    fill: var(--button-hover-fill-color);\n",
              "  }\n",
              "\n",
              "  .colab-df-quickchart-complete:disabled,\n",
              "  .colab-df-quickchart-complete:disabled:hover {\n",
              "    background-color: var(--disabled-bg-color);\n",
              "    fill: var(--disabled-fill-color);\n",
              "    box-shadow: none;\n",
              "  }\n",
              "\n",
              "  .colab-df-spinner {\n",
              "    border: 2px solid var(--fill-color);\n",
              "    border-color: transparent;\n",
              "    border-bottom-color: var(--fill-color);\n",
              "    animation:\n",
              "      spin 1s steps(1) infinite;\n",
              "  }\n",
              "\n",
              "  @keyframes spin {\n",
              "    0% {\n",
              "      border-color: transparent;\n",
              "      border-bottom-color: var(--fill-color);\n",
              "      border-left-color: var(--fill-color);\n",
              "    }\n",
              "    20% {\n",
              "      border-color: transparent;\n",
              "      border-left-color: var(--fill-color);\n",
              "      border-top-color: var(--fill-color);\n",
              "    }\n",
              "    30% {\n",
              "      border-color: transparent;\n",
              "      border-left-color: var(--fill-color);\n",
              "      border-top-color: var(--fill-color);\n",
              "      border-right-color: var(--fill-color);\n",
              "    }\n",
              "    40% {\n",
              "      border-color: transparent;\n",
              "      border-right-color: var(--fill-color);\n",
              "      border-top-color: var(--fill-color);\n",
              "    }\n",
              "    60% {\n",
              "      border-color: transparent;\n",
              "      border-right-color: var(--fill-color);\n",
              "    }\n",
              "    80% {\n",
              "      border-color: transparent;\n",
              "      border-right-color: var(--fill-color);\n",
              "      border-bottom-color: var(--fill-color);\n",
              "    }\n",
              "    90% {\n",
              "      border-color: transparent;\n",
              "      border-bottom-color: var(--fill-color);\n",
              "    }\n",
              "  }\n",
              "</style>\n",
              "\n",
              "  <script>\n",
              "    async function quickchart(key) {\n",
              "      const quickchartButtonEl =\n",
              "        document.querySelector('#' + key + ' button');\n",
              "      quickchartButtonEl.disabled = true;  // To prevent multiple clicks.\n",
              "      quickchartButtonEl.classList.add('colab-df-spinner');\n",
              "      try {\n",
              "        const charts = await google.colab.kernel.invokeFunction(\n",
              "            'suggestCharts', [key], {});\n",
              "      } catch (error) {\n",
              "        console.error('Error during call to suggestCharts:', error);\n",
              "      }\n",
              "      quickchartButtonEl.classList.remove('colab-df-spinner');\n",
              "      quickchartButtonEl.classList.add('colab-df-quickchart-complete');\n",
              "    }\n",
              "    (() => {\n",
              "      let quickchartButtonEl =\n",
              "        document.querySelector('#df-08814473-b791-41b4-8e06-80be52eeb868 button');\n",
              "      quickchartButtonEl.style.display =\n",
              "        google.colab.kernel.accessAllowed ? 'block' : 'none';\n",
              "    })();\n",
              "  </script>\n",
              "</div>\n",
              "    </div>\n",
              "  </div>\n"
            ],
            "application/vnd.google.colaboratory.intrinsic+json": {
              "type": "dataframe",
              "summary": "{\n  \"name\": \"data_review(data_geo_2)\",\n  \"rows\": 5,\n  \"fields\": [\n    {\n      \"column\": \"id\",\n      \"properties\": {\n        \"dtype\": \"string\",\n        \"num_unique_values\": 5,\n        \"samples\": [\n          \"WJtFt\",\n          \"WPMUX\",\n          \"ovLUW\"\n        ],\n        \"semantic_type\": \"\",\n        \"description\": \"\"\n      }\n    },\n    {\n      \"column\": \"f0\",\n      \"properties\": {\n        \"dtype\": \"number\",\n        \"std\": 1.2724330784485451,\n        \"min\": -1.1469870984179529,\n        \"max\": 2.2360596126935817,\n        \"num_unique_values\": 5,\n        \"samples\": [\n          0.2627779016539684,\n          -0.5159928644136754,\n          0.1945872816586574\n        ],\n        \"semantic_type\": \"\",\n        \"description\": \"\"\n      }\n    },\n    {\n      \"column\": \"f1\",\n      \"properties\": {\n        \"dtype\": \"number\",\n        \"std\": 0.8507410831594653,\n        \"min\": -0.5537598999099264,\n        \"max\": 1.7162655596688288,\n        \"num_unique_values\": 5,\n        \"samples\": [\n          0.2698389572803021,\n          1.7162655596688288,\n          0.2890350017576741\n        ],\n        \"semantic_type\": \"\",\n        \"description\": \"\"\n      }\n    },\n    {\n      \"column\": \"f2\",\n      \"properties\": {\n        \"dtype\": \"number\",\n        \"std\": 4.273892249638099,\n        \"min\": -5.586432770903118,\n        \"max\": 5.899011469346728,\n        \"num_unique_values\": 5,\n        \"samples\": [\n          -2.530186515492004,\n          5.899011469346728,\n          -5.586432770903118\n        ],\n        \"semantic_type\": \"\",\n        \"description\": \"\"\n      }\n    },\n    {\n      \"column\": \"product\",\n      \"properties\": {\n        \"dtype\": \"number\",\n        \"std\": 49.018068406027936,\n        \"min\": 27.75867323073004,\n        \"max\": 149.60074591275887,\n        \"num_unique_values\": 5,\n        \"samples\": [\n          56.06969663239464,\n          149.60074591275887,\n          62.87191004763475\n        ],\n        \"semantic_type\": \"\",\n        \"description\": \"\"\n      }\n    }\n  ]\n}"
            }
          },
          "metadata": {}
        },
        {
          "output_type": "stream",
          "name": "stdout",
          "text": [
            "\n",
            "\n",
            "********** General Information **********\n",
            "\n",
            "<class 'pandas.core.frame.DataFrame'>\n",
            "RangeIndex: 100000 entries, 0 to 99999\n",
            "Data columns (total 5 columns):\n",
            " #   Column   Non-Null Count   Dtype  \n",
            "---  ------   --------------   -----  \n",
            " 0   id       100000 non-null  object \n",
            " 1   f0       100000 non-null  float64\n",
            " 2   f1       100000 non-null  float64\n",
            " 3   f2       100000 non-null  float64\n",
            " 4   product  100000 non-null  float64\n",
            "dtypes: float64(4), object(1)\n",
            "memory usage: 3.8+ MB\n",
            "\n",
            "\n",
            "********** Has NaN **********\n"
          ]
        },
        {
          "output_type": "display_data",
          "data": {
            "text/plain": [
              "id         0\n",
              "f0         0\n",
              "f1         0\n",
              "f2         0\n",
              "product    0\n",
              "dtype: int64"
            ],
            "text/html": [
              "<div>\n",
              "<style scoped>\n",
              "    .dataframe tbody tr th:only-of-type {\n",
              "        vertical-align: middle;\n",
              "    }\n",
              "\n",
              "    .dataframe tbody tr th {\n",
              "        vertical-align: top;\n",
              "    }\n",
              "\n",
              "    .dataframe thead th {\n",
              "        text-align: right;\n",
              "    }\n",
              "</style>\n",
              "<table border=\"1\" class=\"dataframe\">\n",
              "  <thead>\n",
              "    <tr style=\"text-align: right;\">\n",
              "      <th></th>\n",
              "      <th>0</th>\n",
              "    </tr>\n",
              "  </thead>\n",
              "  <tbody>\n",
              "    <tr>\n",
              "      <th>id</th>\n",
              "      <td>0</td>\n",
              "    </tr>\n",
              "    <tr>\n",
              "      <th>f0</th>\n",
              "      <td>0</td>\n",
              "    </tr>\n",
              "    <tr>\n",
              "      <th>f1</th>\n",
              "      <td>0</td>\n",
              "    </tr>\n",
              "    <tr>\n",
              "      <th>f2</th>\n",
              "      <td>0</td>\n",
              "    </tr>\n",
              "    <tr>\n",
              "      <th>product</th>\n",
              "      <td>0</td>\n",
              "    </tr>\n",
              "  </tbody>\n",
              "</table>\n",
              "</div><br><label><b>dtype:</b> int64</label>"
            ]
          },
          "metadata": {}
        },
        {
          "output_type": "stream",
          "name": "stdout",
          "text": [
            "\n",
            "\n",
            "********** Descriptive Statistics **********\n"
          ]
        },
        {
          "output_type": "display_data",
          "data": {
            "text/plain": [
              "                  f0             f1             f2        product\n",
              "count  100000.000000  100000.000000  100000.000000  100000.000000\n",
              "mean        0.002023      -0.002081       2.495128      95.000000\n",
              "std         1.732045       1.730417       3.473445      44.749921\n",
              "min        -8.760004      -7.084020     -11.970335       0.000000\n",
              "25%        -1.162288      -1.174820       0.130359      59.450441\n",
              "50%         0.009424      -0.009482       2.484236      94.925613\n",
              "75%         1.158535       1.163678       4.858794     130.595027\n",
              "max         7.238262       7.844801      16.739402     190.029838"
            ],
            "text/html": [
              "\n",
              "  <div id=\"df-793de49a-824f-4628-9be4-4a017135c1ca\" class=\"colab-df-container\">\n",
              "    <div>\n",
              "<style scoped>\n",
              "    .dataframe tbody tr th:only-of-type {\n",
              "        vertical-align: middle;\n",
              "    }\n",
              "\n",
              "    .dataframe tbody tr th {\n",
              "        vertical-align: top;\n",
              "    }\n",
              "\n",
              "    .dataframe thead th {\n",
              "        text-align: right;\n",
              "    }\n",
              "</style>\n",
              "<table border=\"1\" class=\"dataframe\">\n",
              "  <thead>\n",
              "    <tr style=\"text-align: right;\">\n",
              "      <th></th>\n",
              "      <th>f0</th>\n",
              "      <th>f1</th>\n",
              "      <th>f2</th>\n",
              "      <th>product</th>\n",
              "    </tr>\n",
              "  </thead>\n",
              "  <tbody>\n",
              "    <tr>\n",
              "      <th>count</th>\n",
              "      <td>100000.000000</td>\n",
              "      <td>100000.000000</td>\n",
              "      <td>100000.000000</td>\n",
              "      <td>100000.000000</td>\n",
              "    </tr>\n",
              "    <tr>\n",
              "      <th>mean</th>\n",
              "      <td>0.002023</td>\n",
              "      <td>-0.002081</td>\n",
              "      <td>2.495128</td>\n",
              "      <td>95.000000</td>\n",
              "    </tr>\n",
              "    <tr>\n",
              "      <th>std</th>\n",
              "      <td>1.732045</td>\n",
              "      <td>1.730417</td>\n",
              "      <td>3.473445</td>\n",
              "      <td>44.749921</td>\n",
              "    </tr>\n",
              "    <tr>\n",
              "      <th>min</th>\n",
              "      <td>-8.760004</td>\n",
              "      <td>-7.084020</td>\n",
              "      <td>-11.970335</td>\n",
              "      <td>0.000000</td>\n",
              "    </tr>\n",
              "    <tr>\n",
              "      <th>25%</th>\n",
              "      <td>-1.162288</td>\n",
              "      <td>-1.174820</td>\n",
              "      <td>0.130359</td>\n",
              "      <td>59.450441</td>\n",
              "    </tr>\n",
              "    <tr>\n",
              "      <th>50%</th>\n",
              "      <td>0.009424</td>\n",
              "      <td>-0.009482</td>\n",
              "      <td>2.484236</td>\n",
              "      <td>94.925613</td>\n",
              "    </tr>\n",
              "    <tr>\n",
              "      <th>75%</th>\n",
              "      <td>1.158535</td>\n",
              "      <td>1.163678</td>\n",
              "      <td>4.858794</td>\n",
              "      <td>130.595027</td>\n",
              "    </tr>\n",
              "    <tr>\n",
              "      <th>max</th>\n",
              "      <td>7.238262</td>\n",
              "      <td>7.844801</td>\n",
              "      <td>16.739402</td>\n",
              "      <td>190.029838</td>\n",
              "    </tr>\n",
              "  </tbody>\n",
              "</table>\n",
              "</div>\n",
              "    <div class=\"colab-df-buttons\">\n",
              "\n",
              "  <div class=\"colab-df-container\">\n",
              "    <button class=\"colab-df-convert\" onclick=\"convertToInteractive('df-793de49a-824f-4628-9be4-4a017135c1ca')\"\n",
              "            title=\"Convert this dataframe to an interactive table.\"\n",
              "            style=\"display:none;\">\n",
              "\n",
              "  <svg xmlns=\"http://www.w3.org/2000/svg\" height=\"24px\" viewBox=\"0 -960 960 960\">\n",
              "    <path d=\"M120-120v-720h720v720H120Zm60-500h600v-160H180v160Zm220 220h160v-160H400v160Zm0 220h160v-160H400v160ZM180-400h160v-160H180v160Zm440 0h160v-160H620v160ZM180-180h160v-160H180v160Zm440 0h160v-160H620v160Z\"/>\n",
              "  </svg>\n",
              "    </button>\n",
              "\n",
              "  <style>\n",
              "    .colab-df-container {\n",
              "      display:flex;\n",
              "      gap: 12px;\n",
              "    }\n",
              "\n",
              "    .colab-df-convert {\n",
              "      background-color: #E8F0FE;\n",
              "      border: none;\n",
              "      border-radius: 50%;\n",
              "      cursor: pointer;\n",
              "      display: none;\n",
              "      fill: #1967D2;\n",
              "      height: 32px;\n",
              "      padding: 0 0 0 0;\n",
              "      width: 32px;\n",
              "    }\n",
              "\n",
              "    .colab-df-convert:hover {\n",
              "      background-color: #E2EBFA;\n",
              "      box-shadow: 0px 1px 2px rgba(60, 64, 67, 0.3), 0px 1px 3px 1px rgba(60, 64, 67, 0.15);\n",
              "      fill: #174EA6;\n",
              "    }\n",
              "\n",
              "    .colab-df-buttons div {\n",
              "      margin-bottom: 4px;\n",
              "    }\n",
              "\n",
              "    [theme=dark] .colab-df-convert {\n",
              "      background-color: #3B4455;\n",
              "      fill: #D2E3FC;\n",
              "    }\n",
              "\n",
              "    [theme=dark] .colab-df-convert:hover {\n",
              "      background-color: #434B5C;\n",
              "      box-shadow: 0px 1px 3px 1px rgba(0, 0, 0, 0.15);\n",
              "      filter: drop-shadow(0px 1px 2px rgba(0, 0, 0, 0.3));\n",
              "      fill: #FFFFFF;\n",
              "    }\n",
              "  </style>\n",
              "\n",
              "    <script>\n",
              "      const buttonEl =\n",
              "        document.querySelector('#df-793de49a-824f-4628-9be4-4a017135c1ca button.colab-df-convert');\n",
              "      buttonEl.style.display =\n",
              "        google.colab.kernel.accessAllowed ? 'block' : 'none';\n",
              "\n",
              "      async function convertToInteractive(key) {\n",
              "        const element = document.querySelector('#df-793de49a-824f-4628-9be4-4a017135c1ca');\n",
              "        const dataTable =\n",
              "          await google.colab.kernel.invokeFunction('convertToInteractive',\n",
              "                                                    [key], {});\n",
              "        if (!dataTable) return;\n",
              "\n",
              "        const docLinkHtml = 'Like what you see? Visit the ' +\n",
              "          '<a target=\"_blank\" href=https://colab.research.google.com/notebooks/data_table.ipynb>data table notebook</a>'\n",
              "          + ' to learn more about interactive tables.';\n",
              "        element.innerHTML = '';\n",
              "        dataTable['output_type'] = 'display_data';\n",
              "        await google.colab.output.renderOutput(dataTable, element);\n",
              "        const docLink = document.createElement('div');\n",
              "        docLink.innerHTML = docLinkHtml;\n",
              "        element.appendChild(docLink);\n",
              "      }\n",
              "    </script>\n",
              "  </div>\n",
              "\n",
              "\n",
              "<div id=\"df-8383bb86-b26e-4b7f-afa9-98bc1b18a9be\">\n",
              "  <button class=\"colab-df-quickchart\" onclick=\"quickchart('df-8383bb86-b26e-4b7f-afa9-98bc1b18a9be')\"\n",
              "            title=\"Suggest charts\"\n",
              "            style=\"display:none;\">\n",
              "\n",
              "<svg xmlns=\"http://www.w3.org/2000/svg\" height=\"24px\"viewBox=\"0 0 24 24\"\n",
              "     width=\"24px\">\n",
              "    <g>\n",
              "        <path d=\"M19 3H5c-1.1 0-2 .9-2 2v14c0 1.1.9 2 2 2h14c1.1 0 2-.9 2-2V5c0-1.1-.9-2-2-2zM9 17H7v-7h2v7zm4 0h-2V7h2v10zm4 0h-2v-4h2v4z\"/>\n",
              "    </g>\n",
              "</svg>\n",
              "  </button>\n",
              "\n",
              "<style>\n",
              "  .colab-df-quickchart {\n",
              "      --bg-color: #E8F0FE;\n",
              "      --fill-color: #1967D2;\n",
              "      --hover-bg-color: #E2EBFA;\n",
              "      --hover-fill-color: #174EA6;\n",
              "      --disabled-fill-color: #AAA;\n",
              "      --disabled-bg-color: #DDD;\n",
              "  }\n",
              "\n",
              "  [theme=dark] .colab-df-quickchart {\n",
              "      --bg-color: #3B4455;\n",
              "      --fill-color: #D2E3FC;\n",
              "      --hover-bg-color: #434B5C;\n",
              "      --hover-fill-color: #FFFFFF;\n",
              "      --disabled-bg-color: #3B4455;\n",
              "      --disabled-fill-color: #666;\n",
              "  }\n",
              "\n",
              "  .colab-df-quickchart {\n",
              "    background-color: var(--bg-color);\n",
              "    border: none;\n",
              "    border-radius: 50%;\n",
              "    cursor: pointer;\n",
              "    display: none;\n",
              "    fill: var(--fill-color);\n",
              "    height: 32px;\n",
              "    padding: 0;\n",
              "    width: 32px;\n",
              "  }\n",
              "\n",
              "  .colab-df-quickchart:hover {\n",
              "    background-color: var(--hover-bg-color);\n",
              "    box-shadow: 0 1px 2px rgba(60, 64, 67, 0.3), 0 1px 3px 1px rgba(60, 64, 67, 0.15);\n",
              "    fill: var(--button-hover-fill-color);\n",
              "  }\n",
              "\n",
              "  .colab-df-quickchart-complete:disabled,\n",
              "  .colab-df-quickchart-complete:disabled:hover {\n",
              "    background-color: var(--disabled-bg-color);\n",
              "    fill: var(--disabled-fill-color);\n",
              "    box-shadow: none;\n",
              "  }\n",
              "\n",
              "  .colab-df-spinner {\n",
              "    border: 2px solid var(--fill-color);\n",
              "    border-color: transparent;\n",
              "    border-bottom-color: var(--fill-color);\n",
              "    animation:\n",
              "      spin 1s steps(1) infinite;\n",
              "  }\n",
              "\n",
              "  @keyframes spin {\n",
              "    0% {\n",
              "      border-color: transparent;\n",
              "      border-bottom-color: var(--fill-color);\n",
              "      border-left-color: var(--fill-color);\n",
              "    }\n",
              "    20% {\n",
              "      border-color: transparent;\n",
              "      border-left-color: var(--fill-color);\n",
              "      border-top-color: var(--fill-color);\n",
              "    }\n",
              "    30% {\n",
              "      border-color: transparent;\n",
              "      border-left-color: var(--fill-color);\n",
              "      border-top-color: var(--fill-color);\n",
              "      border-right-color: var(--fill-color);\n",
              "    }\n",
              "    40% {\n",
              "      border-color: transparent;\n",
              "      border-right-color: var(--fill-color);\n",
              "      border-top-color: var(--fill-color);\n",
              "    }\n",
              "    60% {\n",
              "      border-color: transparent;\n",
              "      border-right-color: var(--fill-color);\n",
              "    }\n",
              "    80% {\n",
              "      border-color: transparent;\n",
              "      border-right-color: var(--fill-color);\n",
              "      border-bottom-color: var(--fill-color);\n",
              "    }\n",
              "    90% {\n",
              "      border-color: transparent;\n",
              "      border-bottom-color: var(--fill-color);\n",
              "    }\n",
              "  }\n",
              "</style>\n",
              "\n",
              "  <script>\n",
              "    async function quickchart(key) {\n",
              "      const quickchartButtonEl =\n",
              "        document.querySelector('#' + key + ' button');\n",
              "      quickchartButtonEl.disabled = true;  // To prevent multiple clicks.\n",
              "      quickchartButtonEl.classList.add('colab-df-spinner');\n",
              "      try {\n",
              "        const charts = await google.colab.kernel.invokeFunction(\n",
              "            'suggestCharts', [key], {});\n",
              "      } catch (error) {\n",
              "        console.error('Error during call to suggestCharts:', error);\n",
              "      }\n",
              "      quickchartButtonEl.classList.remove('colab-df-spinner');\n",
              "      quickchartButtonEl.classList.add('colab-df-quickchart-complete');\n",
              "    }\n",
              "    (() => {\n",
              "      let quickchartButtonEl =\n",
              "        document.querySelector('#df-8383bb86-b26e-4b7f-afa9-98bc1b18a9be button');\n",
              "      quickchartButtonEl.style.display =\n",
              "        google.colab.kernel.accessAllowed ? 'block' : 'none';\n",
              "    })();\n",
              "  </script>\n",
              "</div>\n",
              "    </div>\n",
              "  </div>\n"
            ],
            "application/vnd.google.colaboratory.intrinsic+json": {
              "type": "dataframe",
              "summary": "{\n  \"name\": \"data_review(data_geo_2)\",\n  \"rows\": 8,\n  \"fields\": [\n    {\n      \"column\": \"f0\",\n      \"properties\": {\n        \"dtype\": \"number\",\n        \"std\": 35355.32832119103,\n        \"min\": -8.760003624213763,\n        \"max\": 100000.0,\n        \"num_unique_values\": 8,\n        \"samples\": [\n          0.0020226967336621432,\n          0.0094235897936458,\n          100000.0\n        ],\n        \"semantic_type\": \"\",\n        \"description\": \"\"\n      }\n    },\n    {\n      \"column\": \"f1\",\n      \"properties\": {\n        \"dtype\": \"number\",\n        \"std\": 35355.214617077996,\n        \"min\": -7.084019760867246,\n        \"max\": 100000.0,\n        \"num_unique_values\": 8,\n        \"samples\": [\n          -0.002080534450544628,\n          -0.00948216307443055,\n          100000.0\n        ],\n        \"semantic_type\": \"\",\n        \"description\": \"\"\n      }\n    },\n    {\n      \"column\": \"f2\",\n      \"properties\": {\n        \"dtype\": \"number\",\n        \"std\": 35354.4201205712,\n        \"min\": -11.97033454147699,\n        \"max\": 100000.0,\n        \"num_unique_values\": 8,\n        \"samples\": [\n          2.4951275797819124,\n          2.4842358439369527,\n          100000.0\n        ],\n        \"semantic_type\": \"\",\n        \"description\": \"\"\n      }\n    },\n    {\n      \"column\": \"product\",\n      \"properties\": {\n        \"dtype\": \"number\",\n        \"std\": 35324.335457033,\n        \"min\": 0.0,\n        \"max\": 100000.0,\n        \"num_unique_values\": 8,\n        \"samples\": [\n          95.00000000000004,\n          94.92561258990247,\n          100000.0\n        ],\n        \"semantic_type\": \"\",\n        \"description\": \"\"\n      }\n    }\n  ]\n}"
            }
          },
          "metadata": {}
        }
      ],
      "source": [
        "data_review(data_geo_2)"
      ]
    },
    {
      "cell_type": "markdown",
      "metadata": {
        "id": "gP23GKVaeTAk"
      },
      "source": [
        "#### Conclusions"
      ]
    },
    {
      "cell_type": "markdown",
      "metadata": {
        "id": "3ShMXiFxeTAk"
      },
      "source": [
        "- column names comply with standards;\n",
        "- data types correspond to column contents;\n",
        "- no gaps in columns were found."
      ]
    },
    {
      "cell_type": "markdown",
      "metadata": {
        "id": "UAX2RV5qeTAk"
      },
      "source": [
        "###  Data Preprocessing"
      ]
    },
    {
      "cell_type": "markdown",
      "metadata": {
        "id": "7Tel2zTUeTAl"
      },
      "source": [
        "Before starting preprocessing of the original dataset, let's resave it to the df_x variable and create a list of datasets:"
      ]
    },
    {
      "cell_type": "code",
      "execution_count": null,
      "metadata": {
        "id": "uS0m4myieTAl"
      },
      "outputs": [],
      "source": [
        "df_geo_0 = data_geo_0.copy()\n",
        "df_geo_1 = data_geo_1.copy()\n",
        "df_geo_2 = data_geo_2.copy()\n",
        "\n",
        "dfs = [df_geo_0, df_geo_1, df_geo_2]\n",
        "dfs_dict = {\n",
        "    'df_geo_0': df_geo_0,\n",
        "    'df_geo_1': df_geo_1,\n",
        "    'df_geo_2': df_geo_2\n",
        "}"
      ]
    },
    {
      "cell_type": "markdown",
      "metadata": {
        "id": "kQnUYbVoeTAl"
      },
      "source": [
        "Let's check the datasets for explicit (complete) duplicates of wells."
      ]
    },
    {
      "cell_type": "code",
      "execution_count": null,
      "metadata": {
        "id": "aud0AZFDeTAl",
        "outputId": "a9745fbe-8b7d-4af3-9399-fedcbd35215e",
        "colab": {
          "base_uri": "https://localhost:8080/"
        }
      },
      "outputs": [
        {
          "output_type": "stream",
          "name": "stdout",
          "text": [
            "0\n",
            "0\n",
            "0\n"
          ]
        }
      ],
      "source": [
        "for df in dfs:\n",
        "    print(df.duplicated().sum())"
      ]
    },
    {
      "cell_type": "markdown",
      "metadata": {
        "id": "qcG1TItNeTAl"
      },
      "source": [
        "No explicit duplicates were found."
      ]
    },
    {
      "cell_type": "markdown",
      "metadata": {
        "id": "9EDbd90VeTAl"
      },
      "source": [
        "Let's check the datasets for duplicate wells by ID."
      ]
    },
    {
      "cell_type": "code",
      "execution_count": null,
      "metadata": {
        "id": "cb3fG5EkeTAl",
        "outputId": "19acf24c-5c7b-46e2-90c8-7d540a43be94",
        "colab": {
          "base_uri": "https://localhost:8080/"
        }
      },
      "outputs": [
        {
          "output_type": "stream",
          "name": "stdout",
          "text": [
            "********** Name: df_geo_0 ********** \n",
            "\n",
            "Number of Duplicates: 10 \n",
            "\n",
            "********** Name: df_geo_1 ********** \n",
            "\n",
            "Number of Duplicates: 4 \n",
            "\n",
            "********** Name: df_geo_2 ********** \n",
            "\n",
            "Number of Duplicates: 4 \n",
            "\n"
          ]
        }
      ],
      "source": [
        "for name, df in dfs_dict.items():\n",
        "    diplicated_rows = df[df.duplicated(['id'])]['id'].count()\n",
        "    print('*'*10,'Name:', name, '*'*10, '\\n')\n",
        "    print('Number of Duplicates:', diplicated_rows, '\\n')"
      ]
    },
    {
      "cell_type": "markdown",
      "metadata": {
        "id": "Cyyu_G4eeTAl"
      },
      "source": [
        "Let's remove duplicate wells:"
      ]
    },
    {
      "cell_type": "code",
      "execution_count": null,
      "metadata": {
        "id": "tu05sF8ReTAl"
      },
      "outputs": [],
      "source": [
        "for df in dfs:\n",
        "    df.drop_duplicates(subset=['id'], inplace=True)"
      ]
    },
    {
      "cell_type": "markdown",
      "metadata": {
        "id": "_CaiQ4RseTAl"
      },
      "source": [
        "Let's check that duplicates in the `id` column have been removed:"
      ]
    },
    {
      "cell_type": "code",
      "execution_count": null,
      "metadata": {
        "id": "tRMGz1cEeTAm",
        "outputId": "5432924b-6c8f-4cc6-efb5-20f92ad6bb91",
        "colab": {
          "base_uri": "https://localhost:8080/"
        }
      },
      "outputs": [
        {
          "output_type": "stream",
          "name": "stdout",
          "text": [
            "********** Name: df_geo_0 ********** \n",
            "\n",
            "Number of Duplicates: 0 \n",
            "\n",
            "********** Name: df_geo_1 ********** \n",
            "\n",
            "Number of Duplicates: 0 \n",
            "\n",
            "********** Name: df_geo_2 ********** \n",
            "\n",
            "Number of Duplicates: 0 \n",
            "\n"
          ]
        }
      ],
      "source": [
        "for name, df in dfs_dict.items():\n",
        "    diplicated_rows = df[df.duplicated(['id'])]['id'].count()\n",
        "    print('*'*10,'Name:', name, '*'*10, '\\n')\n",
        "    print('Number of Duplicates:', diplicated_rows, '\\n')"
      ]
    },
    {
      "cell_type": "markdown",
      "metadata": {
        "id": "VLNiEv2-eTAm"
      },
      "source": [
        "#### Conclusions"
      ]
    },
    {
      "cell_type": "markdown",
      "metadata": {
        "id": "BN4wKt2zeTAm"
      },
      "source": [
        "- There are no explicit (complete) duplicates in the dataframes;\n",
        "- Duplicates were found in the `id` column, indicating the presence of different features for the same well, which can distort the model's operation;\n",
        "- Detected duplicate wells were removed."
      ]
    },
    {
      "cell_type": "markdown",
      "metadata": {
        "id": "jHFOGdMreTAm"
      },
      "source": [
        "## Exploratory Data Analysis"
      ]
    },
    {
      "cell_type": "markdown",
      "metadata": {
        "id": "5Pvug-rKeTAp"
      },
      "source": [
        "### Graphical feature analysis"
      ]
    },
    {
      "cell_type": "markdown",
      "metadata": {
        "id": "Ri52A8nOeTAp"
      },
      "source": [
        "To quickly analyze the columns, we will create our own function that will build a histogram and a box plot for each quantitative column:"
      ]
    },
    {
      "cell_type": "code",
      "execution_count": null,
      "metadata": {
        "id": "Im5skaMAeTAp"
      },
      "outputs": [],
      "source": [
        "def num_to_scan(df, col):\n",
        "    fig, axes = plt.subplots(nrows=1, ncols=2, figsize=(12, 5))\n",
        "\n",
        "    # Histogram\n",
        "    sns.histplot(df, x=col, bins=20, ax=axes[0])\n",
        "    axes[0].set_title(col)\n",
        "\n",
        "    # Boxplot\n",
        "    df.boxplot(column=col, ax=axes[1])\n",
        "    axes[1].set_ylabel(col)\n",
        "\n",
        "    plt.show()"
      ]
    },
    {
      "cell_type": "code",
      "execution_count": null,
      "metadata": {
        "scrolled": true,
        "id": "9Fqvo932eTAp",
        "outputId": "0b20362c-788b-4a1f-df72-2074ea0069e5",
        "colab": {
          "base_uri": "https://localhost:8080/",
          "height": 1000
        }
      },
      "outputs": [
        {
          "output_type": "stream",
          "name": "stdout",
          "text": [
            "********** Name: df_geo_0 ********** \n",
            "\n"
          ]
        },
        {
          "output_type": "display_data",
          "data": {
            "text/plain": [
              "<Figure size 1200x500 with 2 Axes>"
            ],
            "image/png": "[encoded data removed]"
          },
          "metadata": {}
        },
        {
          "output_type": "display_data",
          "data": {
            "text/plain": [
              "<Figure size 1200x500 with 2 Axes>"
            ],
            "image/png": "[encoded data removed]"
          },
          "metadata": {}
        },
        {
          "output_type": "display_data",
          "data": {
            "text/plain": [
              "<Figure size 1200x500 with 2 Axes>"
            ],
            "image/png": "[encoded data removed]"
          },
          "metadata": {}
        },
        {
          "output_type": "display_data",
          "data": {
            "text/plain": [
              "<Figure size 1200x500 with 2 Axes>"
            ],
            "image/png": "[encoded data removed]"
          },
          "metadata": {}
        },
        {
          "output_type": "stream",
          "name": "stdout",
          "text": [
            "********** Name: df_geo_1 ********** \n",
            "\n"
          ]
        },
        {
          "output_type": "display_data",
          "data": {
            "text/plain": [
              "<Figure size 1200x500 with 2 Axes>"
            ],
            "image/png": "[encoded data removed]"
          },
          "metadata": {}
        },
        {
          "output_type": "display_data",
          "data": {
            "text/plain": [
              "<Figure size 1200x500 with 2 Axes>"
            ],
            "image/png": "[encoded data removed]"
          },
          "metadata": {}
        },
        {
          "output_type": "display_data",
          "data": {
            "text/plain": [
              "<Figure size 1200x500 with 2 Axes>"
            ],
            "image/png": "[encoded data removed]"
          },
          "metadata": {}
        },
        {
          "output_type": "display_data",
          "data": {
            "text/plain": [
              "<Figure size 1200x500 with 2 Axes>"
            ],
            "image/png": "[encoded data removed]"
          },
          "metadata": {}
        },
        {
          "output_type": "stream",
          "name": "stdout",
          "text": [
            "********** Name: df_geo_2 ********** \n",
            "\n"
          ]
        },
        {
          "output_type": "display_data",
          "data": {
            "text/plain": [
              "<Figure size 1200x500 with 2 Axes>"
            ],
            "image/png": "[encoded data removed]"
          },
          "metadata": {}
        },
        {
          "output_type": "display_data",
          "data": {
            "text/plain": [
              "<Figure size 1200x500 with 2 Axes>"
            ],
            "image/png": "[encoded data removed]"
          },
          "metadata": {}
        },
        {
          "output_type": "display_data",
          "data": {
            "text/plain": [
              "<Figure size 1200x500 with 2 Axes>"
            ],
            "image/png": "[encoded data removed]"
          },
          "metadata": {}
        },
        {
          "output_type": "display_data",
          "data": {
            "text/plain": [
              "<Figure size 1200x500 with 2 Axes>"
            ],
            "image/png": "[encoded data removed]"
          },
          "metadata": {}
        }
      ],
      "source": [
        "for name, df in dfs_dict.items():\n",
        "    print('*'*10,'Name:', name, '*'*10, '\\n')\n",
        "    for col in df.columns:\n",
        "        if col == 'id':\n",
        "            continue\n",
        "        else:\n",
        "            num_to_scan(df, col)"
      ]
    },
    {
      "cell_type": "markdown",
      "metadata": {
        "id": "qYpEUmJNeTAp"
      },
      "source": [
        "#### Conclusions"
      ]
    },
    {
      "cell_type": "markdown",
      "metadata": {
        "id": "QKLsnVXneTAp"
      },
      "source": [
        "Dataframe `df_geo_0`:\n",
        "\n",
        "1. Column `f0` - has a three-peak distribution, no outliers were found outside the whisker range;\n",
        "2. Column `f1` - also has a three-peak distribution, no outliers were found outside the whisker range;\n",
        "3. Column `f2` - has a normal distribution, contains outliers outside the whisker range. This feature is important for determining the quality of oil, outliers are not supposed to be removed;\n",
        "4. Column `product` - has a normal distribution, no outliers were found outside the whisker range.\n",
        "\n",
        "Dataframe `df_geo_1`:\n",
        "\n",
        "1. Column `f0` - has a two-peak distribution, a single outlier was found outside the whisker range;\n",
        "2. Column `f1` - has a normal distribution, contains outliers outside the whisker range. This feature is important for determining the quality of oil, outliers are not expected to be removed;\n",
        "3. Column `f2` - has a discrete nature. Analysis of the values ​​from the histogram and data loading showed that the indicators are grouped around 6 values, but are not integer. Presumably, they are a consequence of the specific equipment operation features.\n",
        "4. Column `product` - has a discrete nature. Analysis of the values ​​from the histogram and data loading showed that the indicators are grouped around 6 values, but are not integer. Presumably, they are a consequence of the specific equipment operation features.\n",
        "\n",
        "Dataframe `df_geo_2`:\n",
        "\n",
        "1. Column `f0` - has a normal distribution, contains outliers outside the whisker range. This feature is important for determining the quality of oil, outliers are not expected to be removed;\n",
        "2. Column `f1` - has a normal distribution, contains outliers outside the whisker range. This feature is important for determining the quality of oil, outliers are not expected to be removed;\n",
        "3. Column `f2` - has a normal distribution, contains outliers beyond the whisker range. This feature is important for determining oil quality, outliers are not expected to be removed;\n",
        "4. Column `product` - has a multi-peak distribution, outliers beyond the whisker range were not detected.\n",
        "\n",
        "In general, it is clear that the features responsible for oil quality have different distributions in the data frames, indicating significant differences in oil quality depending on the region.\n",
        "\n",
        "Oil reserves in the regions `df_geo_0` and `df_geo_2` have similar values. The distribution of values ​​in the region `df_geo_1` is significantly different."
      ]
    },
    {
      "cell_type": "markdown",
      "metadata": {
        "id": "jNoHXM5ZeTAp"
      },
      "source": [
        "### Correlational Analysis"
      ]
    },
    {
      "cell_type": "markdown",
      "metadata": {
        "id": "6I5ii0LoeTAq"
      },
      "source": [
        "Let's check the features for collinearity and multicollinearity:"
      ]
    },
    {
      "cell_type": "code",
      "execution_count": null,
      "metadata": {
        "scrolled": true,
        "id": "K9WtP2xjeTAq",
        "outputId": "f062ca60-34bf-49f7-a31e-3346fb924366",
        "colab": {
          "base_uri": "https://localhost:8080/",
          "height": 1000
        }
      },
      "outputs": [
        {
          "output_type": "stream",
          "name": "stdout",
          "text": [
            "************************* Name: df_geo_0 ************************* \n",
            "\n"
          ]
        },
        {
          "output_type": "display_data",
          "data": {
            "text/plain": [
              "<Figure size 1000x500 with 2 Axes>"
            ],
            "image/png": "[encoded data removed]"
          },
          "metadata": {}
        },
        {
          "output_type": "stream",
          "name": "stdout",
          "text": [
            "************************* Name: df_geo_1 ************************* \n",
            "\n"
          ]
        },
        {
          "output_type": "display_data",
          "data": {
            "text/plain": [
              "<Figure size 1000x500 with 2 Axes>"
            ],
            "image/png": "[encoded data removed]"
          },
          "metadata": {}
        },
        {
          "output_type": "stream",
          "name": "stdout",
          "text": [
            "************************* Name: df_geo_2 ************************* \n",
            "\n"
          ]
        },
        {
          "output_type": "display_data",
          "data": {
            "text/plain": [
              "<Figure size 1000x500 with 2 Axes>"
            ],
            "image/png": "[encoded data removed]"
          },
          "metadata": {}
        }
      ],
      "source": [
        "for name, df in dfs_dict.items():\n",
        "    print('*'*25,'Name:', name, '*'*25, '\\n')\n",
        "    df_corr = df.drop('id', axis=1)\n",
        "    corr_matrix = df_corr.corr()\n",
        "\n",
        "    plt.figure(figsize=(10, 5))\n",
        "    sns.heatmap(corr_matrix, annot=True, cmap='RdBu_r')\n",
        "    plt.title('Correlation Matrix')\n",
        "    plt.show();"
      ]
    },
    {
      "cell_type": "markdown",
      "metadata": {
        "id": "9GiZLr2yeTAq"
      },
      "source": [
        "#### Conclusions"
      ]
    },
    {
      "cell_type": "markdown",
      "metadata": {
        "id": "F9aEpZNXeTAq"
      },
      "source": [
        "Dataframe `df_geo_0`:\n",
        "\n",
        "1. No multicollinearity (very high correlations (0.9 +)) among input features. The highest negative collinearity is found between features `f0` and `f1`, equal to -0.44.\n",
        "\n",
        "2. The target feature `product` has a moderate correlation with the input feature `f2` - 0.48.\n",
        "\n",
        "Dataframe `df_geo_1`:\n",
        "\n",
        "1. No multicollinearity (very high correlations (0.9 +)) among input features.\n",
        "\n",
        "2. The target feature `product` has a full correlation with the input feature `f2` - 1.00.\n",
        "\n",
        "Dataframe `df_geo_2`:\n",
        "\n",
        "1. No multicollinearity (very high correlations (0.9 +)) among input features.\n",
        "\n",
        "2. The target feature `product` has a moderate correlation with the input feature `f2` - 0.45.\n",
        "\n",
        "In general, it can be noted that the correlation in the regions of the data frames `df_geo_0` and `df_geo_2` have similar values.\n",
        "The dependence of the target feature on the input features in the region of the data frame `df_geo_1` differs significantly and, given the discreteness of the feature `f2`, indicates the specifics of the equipment used in the region when determining the values ​​of the feature `f2` and, as a consequence, the similar discreteness of the values ​​of the target feature `product`."
      ]
    },
    {
      "cell_type": "markdown",
      "metadata": {
        "id": "URPy0xwXeTAq"
      },
      "source": [
        "## Model Training and Validation"
      ]
    },
    {
      "cell_type": "markdown",
      "metadata": {
        "id": "RBzH4s2SeTAr"
      },
      "source": [
        "We will train and test models for each region to predict the volume of reserves in new wells."
      ]
    },
    {
      "cell_type": "markdown",
      "metadata": {
        "id": "m6pXxRx1eTAr"
      },
      "source": [
        "### Data Preparation"
      ]
    },
    {
      "cell_type": "markdown",
      "metadata": {
        "id": "ihykcN3teTAr"
      },
      "source": [
        "Let's create a function to prepare the data:"
      ]
    },
    {
      "cell_type": "code",
      "execution_count": null,
      "metadata": {
        "id": "5F1PZQ2SeTAr"
      },
      "outputs": [],
      "source": [
        "#function for data preparation\n",
        "def prepare_data(df):\n",
        "    X = df.drop(['id', 'product'], axis=1)\n",
        "    y = df['product']\n",
        "\n",
        "    X_train, X_test, y_train, y_test = train_test_split(\n",
        "        X,\n",
        "        y,\n",
        "        test_size=TEST_SIZE,\n",
        "        random_state=RANDOM_STATE\n",
        "    )\n",
        "    num_col_names = X_train.select_dtypes(include='number').columns.tolist()\n",
        "\n",
        "    return X_train, X_test, y_train, y_test, num_col_names"
      ]
    },
    {
      "cell_type": "markdown",
      "metadata": {
        "id": "YdMZthsZeTAr"
      },
      "source": [
        "Let's check the sizes and dimensions for each region and define the num_col_names variable for further use in the pipeline:"
      ]
    },
    {
      "cell_type": "code",
      "execution_count": null,
      "metadata": {
        "id": "td7aiCgmeTAr",
        "outputId": "43c6324f-cc25-469e-d8d3-4f53ded487f7",
        "colab": {
          "base_uri": "https://localhost:8080/"
        }
      },
      "outputs": [
        {
          "output_type": "stream",
          "name": "stdout",
          "text": [
            "Training and test sample sizes for df_geo_0:((74992, 3), (24998, 3), (74992,), (24998,)) \n",
            "\n",
            "Training and test sample sizes for df_geo_1:((74997, 3), (24999, 3), (74997,), (24999,)) \n",
            "\n",
            "Training and test sample sizes for df_geo_2:((74997, 3), (24999, 3), (74997,), (24999,)) \n",
            "\n"
          ]
        }
      ],
      "source": [
        "for name, df in dfs_dict.items():\n",
        "    X_train, X_test, y_train, y_test, num_col_names = prepare_data(df)\n",
        "    print(f'Training and test sample sizes for {name}:\\\n",
        "{X_train.shape, X_test.shape, y_train.shape, y_test.shape} \\n')"
      ]
    },
    {
      "cell_type": "markdown",
      "metadata": {
        "id": "5NByuUymeTAr"
      },
      "source": [
        "### Training Models"
      ]
    },
    {
      "cell_type": "markdown",
      "metadata": {
        "id": "zZ7x5CmmeTAr"
      },
      "source": [
        "Let's create a pipeline for training models:"
      ]
    },
    {
      "cell_type": "code",
      "execution_count": null,
      "metadata": {
        "id": "Cxkp8PfGeTAr"
      },
      "outputs": [],
      "source": [
        "data_preprocessor = ColumnTransformer([\n",
        "    ('num', StandardScaler(), num_col_names)\n",
        "],\n",
        "    remainder='passthrough'\n",
        ")"
      ]
    },
    {
      "cell_type": "code",
      "execution_count": null,
      "metadata": {
        "id": "-2IFz5baeTAs"
      },
      "outputs": [],
      "source": [
        "pipe_final = Pipeline(\n",
        "    [\n",
        "        ('preprocessor', data_preprocessor),\n",
        "        ('models', LinearRegression())\n",
        "    ]\n",
        ")"
      ]
    },
    {
      "cell_type": "markdown",
      "metadata": {
        "id": "PIlttsFpeTAs"
      },
      "source": [
        "Let's create a dictionary of models with hyperparameters to find the best model using the GridSearchCV method. According to the problem statement, only the linear regression model is suitable."
      ]
    },
    {
      "cell_type": "code",
      "execution_count": null,
      "metadata": {
        "id": "EeHHVKpFeTAs"
      },
      "outputs": [],
      "source": [
        "param_grid = [\n",
        "    {\n",
        "        'models': [LinearRegression()],\n",
        "        'preprocessor__num': [StandardScaler(), MinMaxScaler()]\n",
        "    },\n",
        "]"
      ]
    },
    {
      "cell_type": "markdown",
      "metadata": {
        "id": "fzNXhJzWeTAs"
      },
      "source": [
        "Let's create an automatic search for the best model using the GridSearchCV method with the RMSE metric. To search for the best metric, let's create our own with the parameter `greater_is_better=False`."
      ]
    },
    {
      "cell_type": "code",
      "execution_count": null,
      "metadata": {
        "id": "u7hwdKPoeTAs"
      },
      "outputs": [],
      "source": [
        "rmse_scorer = make_scorer(root_mean_squared_error, greater_is_better=False)"
      ]
    },
    {
      "cell_type": "code",
      "execution_count": null,
      "metadata": {
        "id": "H2ov-YF0eTAs"
      },
      "outputs": [],
      "source": [
        "grid_search = GridSearchCV(\n",
        "    pipe_final,\n",
        "    param_grid=param_grid,\n",
        "    cv=5,\n",
        "    scoring=rmse_scorer,\n",
        "    n_jobs=-1\n",
        ")"
      ]
    },
    {
      "cell_type": "code",
      "execution_count": null,
      "metadata": {
        "id": "3BPBPyfweTAs",
        "outputId": "fcd3353c-ffee-4ae0-f37d-85c0b85d8df1",
        "colab": {
          "base_uri": "https://localhost:8080/"
        }
      },
      "outputs": [
        {
          "output_type": "stream",
          "name": "stdout",
          "text": [
            "*********************************** Name: df_geo_0 *********************************** \n",
            "\n",
            "RMSE on training set for region df_geo_0: -37.70\n",
            "Average stock of predicted raw materials for the region df_geo_0: 92.61\n",
            "RMSE on validation set for region df_geo_0: 37.69 \n",
            "\n",
            "\n",
            "\n",
            "*********************************** Name: df_geo_1 *********************************** \n",
            "\n",
            "RMSE on training set for region df_geo_1: -0.89\n",
            "Average stock of predicted raw materials for the region df_geo_0: 68.58\n",
            "RMSE on validation set for region df_geo_0: 0.89 \n",
            "\n",
            "\n",
            "\n",
            "*********************************** Name: df_geo_2 *********************************** \n",
            "\n",
            "RMSE on training set for region df_geo_2: -40.05\n",
            "Average stock of predicted raw materials for the region df_geo_0: 94.93\n",
            "RMSE on validation set for region df_geo_0: 40.08 \n",
            "\n",
            "\n",
            "\n",
            "-------------------------------------------------------------------------------------\n",
            "Best Model: Pipeline(steps=[('preprocessor',\n",
            "                 ColumnTransformer(remainder='passthrough',\n",
            "                                   transformers=[('num', StandardScaler(),\n",
            "                                                  ['f0', 'f1', 'f2'])])),\n",
            "                ('models', LinearRegression())])\n",
            "-------------------------------------------------------------------------------------\n"
          ]
        }
      ],
      "source": [
        "dfs_product_dict = {}\n",
        "\n",
        "for name, df in dfs_dict.items():\n",
        "    print('*'*35,'Name:', name, '*'*35, '\\n')\n",
        "    X_train, X_test, y_train, y_test, num_col_names = prepare_data(df)\n",
        "    grid_search.fit(X_train, y_train)\n",
        "    print(f'RMSE on training set for region {name}: {grid_search.best_score_:.2f}')\n",
        "    y_test_pred = grid_search.best_estimator_.predict(X_test)\n",
        "    print(f'Average stock of predicted raw materials for the region df_geo_0: {y_test_pred.mean():.2f}')\n",
        "    print(f'RMSE on validation set for region df_geo_0: {root_mean_squared_error(y_test, y_test_pred):.2f} \\n\\n\\n')\n",
        "    product_true_pred = y_test.to_frame()\n",
        "    product_true_pred['product_pred'] = y_test_pred\n",
        "    dfs_product_dict[str(name)] = product_true_pred\n",
        "\n",
        "print('-'*85)\n",
        "print(f'Best Model: {grid_search.best_estimator_}')\n",
        "print('-'*85)"
      ]
    },
    {
      "cell_type": "markdown",
      "metadata": {
        "id": "4QwhB--eeTAt"
      },
      "source": [
        "Let's display the first five values ​​of the obtained data frames with predictions and correct answers on the validation sample."
      ]
    },
    {
      "cell_type": "code",
      "execution_count": null,
      "metadata": {
        "id": "pGnBQyXWeTAt",
        "outputId": "818f12de-36a2-4cc0-d378-09a3e2ef043f",
        "colab": {
          "base_uri": "https://localhost:8080/",
          "height": 689
        }
      },
      "outputs": [
        {
          "output_type": "stream",
          "name": "stdout",
          "text": [
            "***** Name: df_geo_0 *****\n"
          ]
        },
        {
          "output_type": "display_data",
          "data": {
            "text/plain": [
              "          product  product_pred\n",
              "33966  119.813252    127.486528\n",
              "22854  133.296862    116.465831\n",
              "19449   25.310435     66.041910\n",
              "9733    65.422491     45.009390\n",
              "7129   140.851476    124.535557"
            ],
            "text/html": [
              "\n",
              "  <div id=\"df-0e62d2e7-90fb-449f-a180-7fde2ec31607\" class=\"colab-df-container\">\n",
              "    <div>\n",
              "<style scoped>\n",
              "    .dataframe tbody tr th:only-of-type {\n",
              "        vertical-align: middle;\n",
              "    }\n",
              "\n",
              "    .dataframe tbody tr th {\n",
              "        vertical-align: top;\n",
              "    }\n",
              "\n",
              "    .dataframe thead th {\n",
              "        text-align: right;\n",
              "    }\n",
              "</style>\n",
              "<table border=\"1\" class=\"dataframe\">\n",
              "  <thead>\n",
              "    <tr style=\"text-align: right;\">\n",
              "      <th></th>\n",
              "      <th>product</th>\n",
              "      <th>product_pred</th>\n",
              "    </tr>\n",
              "  </thead>\n",
              "  <tbody>\n",
              "    <tr>\n",
              "      <th>33966</th>\n",
              "      <td>119.813252</td>\n",
              "      <td>127.486528</td>\n",
              "    </tr>\n",
              "    <tr>\n",
              "      <th>22854</th>\n",
              "      <td>133.296862</td>\n",
              "      <td>116.465831</td>\n",
              "    </tr>\n",
              "    <tr>\n",
              "      <th>19449</th>\n",
              "      <td>25.310435</td>\n",
              "      <td>66.041910</td>\n",
              "    </tr>\n",
              "    <tr>\n",
              "      <th>9733</th>\n",
              "      <td>65.422491</td>\n",
              "      <td>45.009390</td>\n",
              "    </tr>\n",
              "    <tr>\n",
              "      <th>7129</th>\n",
              "      <td>140.851476</td>\n",
              "      <td>124.535557</td>\n",
              "    </tr>\n",
              "  </tbody>\n",
              "</table>\n",
              "</div>\n",
              "    <div class=\"colab-df-buttons\">\n",
              "\n",
              "  <div class=\"colab-df-container\">\n",
              "    <button class=\"colab-df-convert\" onclick=\"convertToInteractive('df-0e62d2e7-90fb-449f-a180-7fde2ec31607')\"\n",
              "            title=\"Convert this dataframe to an interactive table.\"\n",
              "            style=\"display:none;\">\n",
              "\n",
              "  <svg xmlns=\"http://www.w3.org/2000/svg\" height=\"24px\" viewBox=\"0 -960 960 960\">\n",
              "    <path d=\"M120-120v-720h720v720H120Zm60-500h600v-160H180v160Zm220 220h160v-160H400v160Zm0 220h160v-160H400v160ZM180-400h160v-160H180v160Zm440 0h160v-160H620v160ZM180-180h160v-160H180v160Zm440 0h160v-160H620v160Z\"/>\n",
              "  </svg>\n",
              "    </button>\n",
              "\n",
              "  <style>\n",
              "    .colab-df-container {\n",
              "      display:flex;\n",
              "      gap: 12px;\n",
              "    }\n",
              "\n",
              "    .colab-df-convert {\n",
              "      background-color: #E8F0FE;\n",
              "      border: none;\n",
              "      border-radius: 50%;\n",
              "      cursor: pointer;\n",
              "      display: none;\n",
              "      fill: #1967D2;\n",
              "      height: 32px;\n",
              "      padding: 0 0 0 0;\n",
              "      width: 32px;\n",
              "    }\n",
              "\n",
              "    .colab-df-convert:hover {\n",
              "      background-color: #E2EBFA;\n",
              "      box-shadow: 0px 1px 2px rgba(60, 64, 67, 0.3), 0px 1px 3px 1px rgba(60, 64, 67, 0.15);\n",
              "      fill: #174EA6;\n",
              "    }\n",
              "\n",
              "    .colab-df-buttons div {\n",
              "      margin-bottom: 4px;\n",
              "    }\n",
              "\n",
              "    [theme=dark] .colab-df-convert {\n",
              "      background-color: #3B4455;\n",
              "      fill: #D2E3FC;\n",
              "    }\n",
              "\n",
              "    [theme=dark] .colab-df-convert:hover {\n",
              "      background-color: #434B5C;\n",
              "      box-shadow: 0px 1px 3px 1px rgba(0, 0, 0, 0.15);\n",
              "      filter: drop-shadow(0px 1px 2px rgba(0, 0, 0, 0.3));\n",
              "      fill: #FFFFFF;\n",
              "    }\n",
              "  </style>\n",
              "\n",
              "    <script>\n",
              "      const buttonEl =\n",
              "        document.querySelector('#df-0e62d2e7-90fb-449f-a180-7fde2ec31607 button.colab-df-convert');\n",
              "      buttonEl.style.display =\n",
              "        google.colab.kernel.accessAllowed ? 'block' : 'none';\n",
              "\n",
              "      async function convertToInteractive(key) {\n",
              "        const element = document.querySelector('#df-0e62d2e7-90fb-449f-a180-7fde2ec31607');\n",
              "        const dataTable =\n",
              "          await google.colab.kernel.invokeFunction('convertToInteractive',\n",
              "                                                    [key], {});\n",
              "        if (!dataTable) return;\n",
              "\n",
              "        const docLinkHtml = 'Like what you see? Visit the ' +\n",
              "          '<a target=\"_blank\" href=https://colab.research.google.com/notebooks/data_table.ipynb>data table notebook</a>'\n",
              "          + ' to learn more about interactive tables.';\n",
              "        element.innerHTML = '';\n",
              "        dataTable['output_type'] = 'display_data';\n",
              "        await google.colab.output.renderOutput(dataTable, element);\n",
              "        const docLink = document.createElement('div');\n",
              "        docLink.innerHTML = docLinkHtml;\n",
              "        element.appendChild(docLink);\n",
              "      }\n",
              "    </script>\n",
              "  </div>\n",
              "\n",
              "\n",
              "<div id=\"df-cfc11872-e387-49d5-8852-6999cf8a46d8\">\n",
              "  <button class=\"colab-df-quickchart\" onclick=\"quickchart('df-cfc11872-e387-49d5-8852-6999cf8a46d8')\"\n",
              "            title=\"Suggest charts\"\n",
              "            style=\"display:none;\">\n",
              "\n",
              "<svg xmlns=\"http://www.w3.org/2000/svg\" height=\"24px\"viewBox=\"0 0 24 24\"\n",
              "     width=\"24px\">\n",
              "    <g>\n",
              "        <path d=\"M19 3H5c-1.1 0-2 .9-2 2v14c0 1.1.9 2 2 2h14c1.1 0 2-.9 2-2V5c0-1.1-.9-2-2-2zM9 17H7v-7h2v7zm4 0h-2V7h2v10zm4 0h-2v-4h2v4z\"/>\n",
              "    </g>\n",
              "</svg>\n",
              "  </button>\n",
              "\n",
              "<style>\n",
              "  .colab-df-quickchart {\n",
              "      --bg-color: #E8F0FE;\n",
              "      --fill-color: #1967D2;\n",
              "      --hover-bg-color: #E2EBFA;\n",
              "      --hover-fill-color: #174EA6;\n",
              "      --disabled-fill-color: #AAA;\n",
              "      --disabled-bg-color: #DDD;\n",
              "  }\n",
              "\n",
              "  [theme=dark] .colab-df-quickchart {\n",
              "      --bg-color: #3B4455;\n",
              "      --fill-color: #D2E3FC;\n",
              "      --hover-bg-color: #434B5C;\n",
              "      --hover-fill-color: #FFFFFF;\n",
              "      --disabled-bg-color: #3B4455;\n",
              "      --disabled-fill-color: #666;\n",
              "  }\n",
              "\n",
              "  .colab-df-quickchart {\n",
              "    background-color: var(--bg-color);\n",
              "    border: none;\n",
              "    border-radius: 50%;\n",
              "    cursor: pointer;\n",
              "    display: none;\n",
              "    fill: var(--fill-color);\n",
              "    height: 32px;\n",
              "    padding: 0;\n",
              "    width: 32px;\n",
              "  }\n",
              "\n",
              "  .colab-df-quickchart:hover {\n",
              "    background-color: var(--hover-bg-color);\n",
              "    box-shadow: 0 1px 2px rgba(60, 64, 67, 0.3), 0 1px 3px 1px rgba(60, 64, 67, 0.15);\n",
              "    fill: var(--button-hover-fill-color);\n",
              "  }\n",
              "\n",
              "  .colab-df-quickchart-complete:disabled,\n",
              "  .colab-df-quickchart-complete:disabled:hover {\n",
              "    background-color: var(--disabled-bg-color);\n",
              "    fill: var(--disabled-fill-color);\n",
              "    box-shadow: none;\n",
              "  }\n",
              "\n",
              "  .colab-df-spinner {\n",
              "    border: 2px solid var(--fill-color);\n",
              "    border-color: transparent;\n",
              "    border-bottom-color: var(--fill-color);\n",
              "    animation:\n",
              "      spin 1s steps(1) infinite;\n",
              "  }\n",
              "\n",
              "  @keyframes spin {\n",
              "    0% {\n",
              "      border-color: transparent;\n",
              "      border-bottom-color: var(--fill-color);\n",
              "      border-left-color: var(--fill-color);\n",
              "    }\n",
              "    20% {\n",
              "      border-color: transparent;\n",
              "      border-left-color: var(--fill-color);\n",
              "      border-top-color: var(--fill-color);\n",
              "    }\n",
              "    30% {\n",
              "      border-color: transparent;\n",
              "      border-left-color: var(--fill-color);\n",
              "      border-top-color: var(--fill-color);\n",
              "      border-right-color: var(--fill-color);\n",
              "    }\n",
              "    40% {\n",
              "      border-color: transparent;\n",
              "      border-right-color: var(--fill-color);\n",
              "      border-top-color: var(--fill-color);\n",
              "    }\n",
              "    60% {\n",
              "      border-color: transparent;\n",
              "      border-right-color: var(--fill-color);\n",
              "    }\n",
              "    80% {\n",
              "      border-color: transparent;\n",
              "      border-right-color: var(--fill-color);\n",
              "      border-bottom-color: var(--fill-color);\n",
              "    }\n",
              "    90% {\n",
              "      border-color: transparent;\n",
              "      border-bottom-color: var(--fill-color);\n",
              "    }\n",
              "  }\n",
              "</style>\n",
              "\n",
              "  <script>\n",
              "    async function quickchart(key) {\n",
              "      const quickchartButtonEl =\n",
              "        document.querySelector('#' + key + ' button');\n",
              "      quickchartButtonEl.disabled = true;  // To prevent multiple clicks.\n",
              "      quickchartButtonEl.classList.add('colab-df-spinner');\n",
              "      try {\n",
              "        const charts = await google.colab.kernel.invokeFunction(\n",
              "            'suggestCharts', [key], {});\n",
              "      } catch (error) {\n",
              "        console.error('Error during call to suggestCharts:', error);\n",
              "      }\n",
              "      quickchartButtonEl.classList.remove('colab-df-spinner');\n",
              "      quickchartButtonEl.classList.add('colab-df-quickchart-complete');\n",
              "    }\n",
              "    (() => {\n",
              "      let quickchartButtonEl =\n",
              "        document.querySelector('#df-cfc11872-e387-49d5-8852-6999cf8a46d8 button');\n",
              "      quickchartButtonEl.style.display =\n",
              "        google.colab.kernel.accessAllowed ? 'block' : 'none';\n",
              "    })();\n",
              "  </script>\n",
              "</div>\n",
              "    </div>\n",
              "  </div>\n"
            ],
            "application/vnd.google.colaboratory.intrinsic+json": {
              "type": "dataframe",
              "summary": "{\n  \"name\": \"    print()\",\n  \"rows\": 5,\n  \"fields\": [\n    {\n      \"column\": \"product\",\n      \"properties\": {\n        \"dtype\": \"number\",\n        \"std\": 49.74277014149881,\n        \"min\": 25.310434811092296,\n        \"max\": 140.85147565229502,\n        \"num_unique_values\": 5,\n        \"samples\": [\n          133.29686208345146,\n          140.85147565229502,\n          25.310434811092296\n        ],\n        \"semantic_type\": \"\",\n        \"description\": \"\"\n      }\n    },\n    {\n      \"column\": \"product_pred\",\n      \"properties\": {\n        \"dtype\": \"number\",\n        \"std\": 37.82200643403648,\n        \"min\": 45.00938972990454,\n        \"max\": 127.48652780623019,\n        \"num_unique_values\": 5,\n        \"samples\": [\n          116.46583085436336,\n          124.53555678854221,\n          66.04191019978393\n        ],\n        \"semantic_type\": \"\",\n        \"description\": \"\"\n      }\n    }\n  ]\n}"
            }
          },
          "metadata": {}
        },
        {
          "output_type": "stream",
          "name": "stdout",
          "text": [
            "\n",
            "***** Name: df_geo_1 *****\n"
          ]
        },
        {
          "output_type": "display_data",
          "data": {
            "text/plain": [
              "          product  product_pred\n",
              "33968    0.000000      1.745635\n",
              "24612  134.766305    135.730891\n",
              "42678  134.766305    133.539653\n",
              "9732    30.132364     28.844517\n",
              "7129   137.945408    138.037182"
            ],
            "text/html": [
              "\n",
              "  <div id=\"df-bc2756da-b75a-4b8e-a28f-dcb7304160f6\" class=\"colab-df-container\">\n",
              "    <div>\n",
              "<style scoped>\n",
              "    .dataframe tbody tr th:only-of-type {\n",
              "        vertical-align: middle;\n",
              "    }\n",
              "\n",
              "    .dataframe tbody tr th {\n",
              "        vertical-align: top;\n",
              "    }\n",
              "\n",
              "    .dataframe thead th {\n",
              "        text-align: right;\n",
              "    }\n",
              "</style>\n",
              "<table border=\"1\" class=\"dataframe\">\n",
              "  <thead>\n",
              "    <tr style=\"text-align: right;\">\n",
              "      <th></th>\n",
              "      <th>product</th>\n",
              "      <th>product_pred</th>\n",
              "    </tr>\n",
              "  </thead>\n",
              "  <tbody>\n",
              "    <tr>\n",
              "      <th>33968</th>\n",
              "      <td>0.000000</td>\n",
              "      <td>1.745635</td>\n",
              "    </tr>\n",
              "    <tr>\n",
              "      <th>24612</th>\n",
              "      <td>134.766305</td>\n",
              "      <td>135.730891</td>\n",
              "    </tr>\n",
              "    <tr>\n",
              "      <th>42678</th>\n",
              "      <td>134.766305</td>\n",
              "      <td>133.539653</td>\n",
              "    </tr>\n",
              "    <tr>\n",
              "      <th>9732</th>\n",
              "      <td>30.132364</td>\n",
              "      <td>28.844517</td>\n",
              "    </tr>\n",
              "    <tr>\n",
              "      <th>7129</th>\n",
              "      <td>137.945408</td>\n",
              "      <td>138.037182</td>\n",
              "    </tr>\n",
              "  </tbody>\n",
              "</table>\n",
              "</div>\n",
              "    <div class=\"colab-df-buttons\">\n",
              "\n",
              "  <div class=\"colab-df-container\">\n",
              "    <button class=\"colab-df-convert\" onclick=\"convertToInteractive('df-bc2756da-b75a-4b8e-a28f-dcb7304160f6')\"\n",
              "            title=\"Convert this dataframe to an interactive table.\"\n",
              "            style=\"display:none;\">\n",
              "\n",
              "  <svg xmlns=\"http://www.w3.org/2000/svg\" height=\"24px\" viewBox=\"0 -960 960 960\">\n",
              "    <path d=\"M120-120v-720h720v720H120Zm60-500h600v-160H180v160Zm220 220h160v-160H400v160Zm0 220h160v-160H400v160ZM180-400h160v-160H180v160Zm440 0h160v-160H620v160ZM180-180h160v-160H180v160Zm440 0h160v-160H620v160Z\"/>\n",
              "  </svg>\n",
              "    </button>\n",
              "\n",
              "  <style>\n",
              "    .colab-df-container {\n",
              "      display:flex;\n",
              "      gap: 12px;\n",
              "    }\n",
              "\n",
              "    .colab-df-convert {\n",
              "      background-color: #E8F0FE;\n",
              "      border: none;\n",
              "      border-radius: 50%;\n",
              "      cursor: pointer;\n",
              "      display: none;\n",
              "      fill: #1967D2;\n",
              "      height: 32px;\n",
              "      padding: 0 0 0 0;\n",
              "      width: 32px;\n",
              "    }\n",
              "\n",
              "    .colab-df-convert:hover {\n",
              "      background-color: #E2EBFA;\n",
              "      box-shadow: 0px 1px 2px rgba(60, 64, 67, 0.3), 0px 1px 3px 1px rgba(60, 64, 67, 0.15);\n",
              "      fill: #174EA6;\n",
              "    }\n",
              "\n",
              "    .colab-df-buttons div {\n",
              "      margin-bottom: 4px;\n",
              "    }\n",
              "\n",
              "    [theme=dark] .colab-df-convert {\n",
              "      background-color: #3B4455;\n",
              "      fill: #D2E3FC;\n",
              "    }\n",
              "\n",
              "    [theme=dark] .colab-df-convert:hover {\n",
              "      background-color: #434B5C;\n",
              "      box-shadow: 0px 1px 3px 1px rgba(0, 0, 0, 0.15);\n",
              "      filter: drop-shadow(0px 1px 2px rgba(0, 0, 0, 0.3));\n",
              "      fill: #FFFFFF;\n",
              "    }\n",
              "  </style>\n",
              "\n",
              "    <script>\n",
              "      const buttonEl =\n",
              "        document.querySelector('#df-bc2756da-b75a-4b8e-a28f-dcb7304160f6 button.colab-df-convert');\n",
              "      buttonEl.style.display =\n",
              "        google.colab.kernel.accessAllowed ? 'block' : 'none';\n",
              "\n",
              "      async function convertToInteractive(key) {\n",
              "        const element = document.querySelector('#df-bc2756da-b75a-4b8e-a28f-dcb7304160f6');\n",
              "        const dataTable =\n",
              "          await google.colab.kernel.invokeFunction('convertToInteractive',\n",
              "                                                    [key], {});\n",
              "        if (!dataTable) return;\n",
              "\n",
              "        const docLinkHtml = 'Like what you see? Visit the ' +\n",
              "          '<a target=\"_blank\" href=https://colab.research.google.com/notebooks/data_table.ipynb>data table notebook</a>'\n",
              "          + ' to learn more about interactive tables.';\n",
              "        element.innerHTML = '';\n",
              "        dataTable['output_type'] = 'display_data';\n",
              "        await google.colab.output.renderOutput(dataTable, element);\n",
              "        const docLink = document.createElement('div');\n",
              "        docLink.innerHTML = docLinkHtml;\n",
              "        element.appendChild(docLink);\n",
              "      }\n",
              "    </script>\n",
              "  </div>\n",
              "\n",
              "\n",
              "<div id=\"df-cffeeaea-bd6e-42da-be92-f490c795dbcf\">\n",
              "  <button class=\"colab-df-quickchart\" onclick=\"quickchart('df-cffeeaea-bd6e-42da-be92-f490c795dbcf')\"\n",
              "            title=\"Suggest charts\"\n",
              "            style=\"display:none;\">\n",
              "\n",
              "<svg xmlns=\"http://www.w3.org/2000/svg\" height=\"24px\"viewBox=\"0 0 24 24\"\n",
              "     width=\"24px\">\n",
              "    <g>\n",
              "        <path d=\"M19 3H5c-1.1 0-2 .9-2 2v14c0 1.1.9 2 2 2h14c1.1 0 2-.9 2-2V5c0-1.1-.9-2-2-2zM9 17H7v-7h2v7zm4 0h-2V7h2v10zm4 0h-2v-4h2v4z\"/>\n",
              "    </g>\n",
              "</svg>\n",
              "  </button>\n",
              "\n",
              "<style>\n",
              "  .colab-df-quickchart {\n",
              "      --bg-color: #E8F0FE;\n",
              "      --fill-color: #1967D2;\n",
              "      --hover-bg-color: #E2EBFA;\n",
              "      --hover-fill-color: #174EA6;\n",
              "      --disabled-fill-color: #AAA;\n",
              "      --disabled-bg-color: #DDD;\n",
              "  }\n",
              "\n",
              "  [theme=dark] .colab-df-quickchart {\n",
              "      --bg-color: #3B4455;\n",
              "      --fill-color: #D2E3FC;\n",
              "      --hover-bg-color: #434B5C;\n",
              "      --hover-fill-color: #FFFFFF;\n",
              "      --disabled-bg-color: #3B4455;\n",
              "      --disabled-fill-color: #666;\n",
              "  }\n",
              "\n",
              "  .colab-df-quickchart {\n",
              "    background-color: var(--bg-color);\n",
              "    border: none;\n",
              "    border-radius: 50%;\n",
              "    cursor: pointer;\n",
              "    display: none;\n",
              "    fill: var(--fill-color);\n",
              "    height: 32px;\n",
              "    padding: 0;\n",
              "    width: 32px;\n",
              "  }\n",
              "\n",
              "  .colab-df-quickchart:hover {\n",
              "    background-color: var(--hover-bg-color);\n",
              "    box-shadow: 0 1px 2px rgba(60, 64, 67, 0.3), 0 1px 3px 1px rgba(60, 64, 67, 0.15);\n",
              "    fill: var(--button-hover-fill-color);\n",
              "  }\n",
              "\n",
              "  .colab-df-quickchart-complete:disabled,\n",
              "  .colab-df-quickchart-complete:disabled:hover {\n",
              "    background-color: var(--disabled-bg-color);\n",
              "    fill: var(--disabled-fill-color);\n",
              "    box-shadow: none;\n",
              "  }\n",
              "\n",
              "  .colab-df-spinner {\n",
              "    border: 2px solid var(--fill-color);\n",
              "    border-color: transparent;\n",
              "    border-bottom-color: var(--fill-color);\n",
              "    animation:\n",
              "      spin 1s steps(1) infinite;\n",
              "  }\n",
              "\n",
              "  @keyframes spin {\n",
              "    0% {\n",
              "      border-color: transparent;\n",
              "      border-bottom-color: var(--fill-color);\n",
              "      border-left-color: var(--fill-color);\n",
              "    }\n",
              "    20% {\n",
              "      border-color: transparent;\n",
              "      border-left-color: var(--fill-color);\n",
              "      border-top-color: var(--fill-color);\n",
              "    }\n",
              "    30% {\n",
              "      border-color: transparent;\n",
              "      border-left-color: var(--fill-color);\n",
              "      border-top-color: var(--fill-color);\n",
              "      border-right-color: var(--fill-color);\n",
              "    }\n",
              "    40% {\n",
              "      border-color: transparent;\n",
              "      border-right-color: var(--fill-color);\n",
              "      border-top-color: var(--fill-color);\n",
              "    }\n",
              "    60% {\n",
              "      border-color: transparent;\n",
              "      border-right-color: var(--fill-color);\n",
              "    }\n",
              "    80% {\n",
              "      border-color: transparent;\n",
              "      border-right-color: var(--fill-color);\n",
              "      border-bottom-color: var(--fill-color);\n",
              "    }\n",
              "    90% {\n",
              "      border-color: transparent;\n",
              "      border-bottom-color: var(--fill-color);\n",
              "    }\n",
              "  }\n",
              "</style>\n",
              "\n",
              "  <script>\n",
              "    async function quickchart(key) {\n",
              "      const quickchartButtonEl =\n",
              "        document.querySelector('#' + key + ' button');\n",
              "      quickchartButtonEl.disabled = true;  // To prevent multiple clicks.\n",
              "      quickchartButtonEl.classList.add('colab-df-spinner');\n",
              "      try {\n",
              "        const charts = await google.colab.kernel.invokeFunction(\n",
              "            'suggestCharts', [key], {});\n",
              "      } catch (error) {\n",
              "        console.error('Error during call to suggestCharts:', error);\n",
              "      }\n",
              "      quickchartButtonEl.classList.remove('colab-df-spinner');\n",
              "      quickchartButtonEl.classList.add('colab-df-quickchart-complete');\n",
              "    }\n",
              "    (() => {\n",
              "      let quickchartButtonEl =\n",
              "        document.querySelector('#df-cffeeaea-bd6e-42da-be92-f490c795dbcf button');\n",
              "      quickchartButtonEl.style.display =\n",
              "        google.colab.kernel.accessAllowed ? 'block' : 'none';\n",
              "    })();\n",
              "  </script>\n",
              "</div>\n",
              "    </div>\n",
              "  </div>\n"
            ],
            "application/vnd.google.colaboratory.intrinsic+json": {
              "type": "dataframe",
              "summary": "{\n  \"name\": \"    print()\",\n  \"rows\": 5,\n  \"fields\": [\n    {\n      \"column\": \"product\",\n      \"properties\": {\n        \"dtype\": \"number\",\n        \"std\": 67.00790930232698,\n        \"min\": 0.0,\n        \"max\": 137.94540774090564,\n        \"num_unique_values\": 4,\n        \"samples\": [\n          134.76630515769844,\n          137.94540774090564,\n          0.0\n        ],\n        \"semantic_type\": \"\",\n        \"description\": \"\"\n      }\n    },\n    {\n      \"column\": \"product_pred\",\n      \"properties\": {\n        \"dtype\": \"number\",\n        \"std\": 66.69730220280911,\n        \"min\": 1.745634838900017,\n        \"max\": 138.03718244502892,\n        \"num_unique_values\": 5,\n        \"samples\": [\n          135.73089120557393,\n          138.03718244502892,\n          133.5396525290273\n        ],\n        \"semantic_type\": \"\",\n        \"description\": \"\"\n      }\n    }\n  ]\n}"
            }
          },
          "metadata": {}
        },
        {
          "output_type": "stream",
          "name": "stdout",
          "text": [
            "\n",
            "***** Name: df_geo_2 *****\n"
          ]
        },
        {
          "output_type": "display_data",
          "data": {
            "text/plain": [
              "          product  product_pred\n",
              "33968  156.925842    111.540811\n",
              "24612   31.245818     66.812289\n",
              "42677   48.478519     70.406921\n",
              "9732    34.079047     63.118690\n",
              "7129   138.077543    141.162178"
            ],
            "text/html": [
              "\n",
              "  <div id=\"df-123223b6-beef-4007-8e34-647390cb2daa\" class=\"colab-df-container\">\n",
              "    <div>\n",
              "<style scoped>\n",
              "    .dataframe tbody tr th:only-of-type {\n",
              "        vertical-align: middle;\n",
              "    }\n",
              "\n",
              "    .dataframe tbody tr th {\n",
              "        vertical-align: top;\n",
              "    }\n",
              "\n",
              "    .dataframe thead th {\n",
              "        text-align: right;\n",
              "    }\n",
              "</style>\n",
              "<table border=\"1\" class=\"dataframe\">\n",
              "  <thead>\n",
              "    <tr style=\"text-align: right;\">\n",
              "      <th></th>\n",
              "      <th>product</th>\n",
              "      <th>product_pred</th>\n",
              "    </tr>\n",
              "  </thead>\n",
              "  <tbody>\n",
              "    <tr>\n",
              "      <th>33968</th>\n",
              "      <td>156.925842</td>\n",
              "      <td>111.540811</td>\n",
              "    </tr>\n",
              "    <tr>\n",
              "      <th>24612</th>\n",
              "      <td>31.245818</td>\n",
              "      <td>66.812289</td>\n",
              "    </tr>\n",
              "    <tr>\n",
              "      <th>42677</th>\n",
              "      <td>48.478519</td>\n",
              "      <td>70.406921</td>\n",
              "    </tr>\n",
              "    <tr>\n",
              "      <th>9732</th>\n",
              "      <td>34.079047</td>\n",
              "      <td>63.118690</td>\n",
              "    </tr>\n",
              "    <tr>\n",
              "      <th>7129</th>\n",
              "      <td>138.077543</td>\n",
              "      <td>141.162178</td>\n",
              "    </tr>\n",
              "  </tbody>\n",
              "</table>\n",
              "</div>\n",
              "    <div class=\"colab-df-buttons\">\n",
              "\n",
              "  <div class=\"colab-df-container\">\n",
              "    <button class=\"colab-df-convert\" onclick=\"convertToInteractive('df-123223b6-beef-4007-8e34-647390cb2daa')\"\n",
              "            title=\"Convert this dataframe to an interactive table.\"\n",
              "            style=\"display:none;\">\n",
              "\n",
              "  <svg xmlns=\"http://www.w3.org/2000/svg\" height=\"24px\" viewBox=\"0 -960 960 960\">\n",
              "    <path d=\"M120-120v-720h720v720H120Zm60-500h600v-160H180v160Zm220 220h160v-160H400v160Zm0 220h160v-160H400v160ZM180-400h160v-160H180v160Zm440 0h160v-160H620v160ZM180-180h160v-160H180v160Zm440 0h160v-160H620v160Z\"/>\n",
              "  </svg>\n",
              "    </button>\n",
              "\n",
              "  <style>\n",
              "    .colab-df-container {\n",
              "      display:flex;\n",
              "      gap: 12px;\n",
              "    }\n",
              "\n",
              "    .colab-df-convert {\n",
              "      background-color: #E8F0FE;\n",
              "      border: none;\n",
              "      border-radius: 50%;\n",
              "      cursor: pointer;\n",
              "      display: none;\n",
              "      fill: #1967D2;\n",
              "      height: 32px;\n",
              "      padding: 0 0 0 0;\n",
              "      width: 32px;\n",
              "    }\n",
              "\n",
              "    .colab-df-convert:hover {\n",
              "      background-color: #E2EBFA;\n",
              "      box-shadow: 0px 1px 2px rgba(60, 64, 67, 0.3), 0px 1px 3px 1px rgba(60, 64, 67, 0.15);\n",
              "      fill: #174EA6;\n",
              "    }\n",
              "\n",
              "    .colab-df-buttons div {\n",
              "      margin-bottom: 4px;\n",
              "    }\n",
              "\n",
              "    [theme=dark] .colab-df-convert {\n",
              "      background-color: #3B4455;\n",
              "      fill: #D2E3FC;\n",
              "    }\n",
              "\n",
              "    [theme=dark] .colab-df-convert:hover {\n",
              "      background-color: #434B5C;\n",
              "      box-shadow: 0px 1px 3px 1px rgba(0, 0, 0, 0.15);\n",
              "      filter: drop-shadow(0px 1px 2px rgba(0, 0, 0, 0.3));\n",
              "      fill: #FFFFFF;\n",
              "    }\n",
              "  </style>\n",
              "\n",
              "    <script>\n",
              "      const buttonEl =\n",
              "        document.querySelector('#df-123223b6-beef-4007-8e34-647390cb2daa button.colab-df-convert');\n",
              "      buttonEl.style.display =\n",
              "        google.colab.kernel.accessAllowed ? 'block' : 'none';\n",
              "\n",
              "      async function convertToInteractive(key) {\n",
              "        const element = document.querySelector('#df-123223b6-beef-4007-8e34-647390cb2daa');\n",
              "        const dataTable =\n",
              "          await google.colab.kernel.invokeFunction('convertToInteractive',\n",
              "                                                    [key], {});\n",
              "        if (!dataTable) return;\n",
              "\n",
              "        const docLinkHtml = 'Like what you see? Visit the ' +\n",
              "          '<a target=\"_blank\" href=https://colab.research.google.com/notebooks/data_table.ipynb>data table notebook</a>'\n",
              "          + ' to learn more about interactive tables.';\n",
              "        element.innerHTML = '';\n",
              "        dataTable['output_type'] = 'display_data';\n",
              "        await google.colab.output.renderOutput(dataTable, element);\n",
              "        const docLink = document.createElement('div');\n",
              "        docLink.innerHTML = docLinkHtml;\n",
              "        element.appendChild(docLink);\n",
              "      }\n",
              "    </script>\n",
              "  </div>\n",
              "\n",
              "\n",
              "<div id=\"df-ed46cefb-cf28-40be-a9d6-018418f8a32b\">\n",
              "  <button class=\"colab-df-quickchart\" onclick=\"quickchart('df-ed46cefb-cf28-40be-a9d6-018418f8a32b')\"\n",
              "            title=\"Suggest charts\"\n",
              "            style=\"display:none;\">\n",
              "\n",
              "<svg xmlns=\"http://www.w3.org/2000/svg\" height=\"24px\"viewBox=\"0 0 24 24\"\n",
              "     width=\"24px\">\n",
              "    <g>\n",
              "        <path d=\"M19 3H5c-1.1 0-2 .9-2 2v14c0 1.1.9 2 2 2h14c1.1 0 2-.9 2-2V5c0-1.1-.9-2-2-2zM9 17H7v-7h2v7zm4 0h-2V7h2v10zm4 0h-2v-4h2v4z\"/>\n",
              "    </g>\n",
              "</svg>\n",
              "  </button>\n",
              "\n",
              "<style>\n",
              "  .colab-df-quickchart {\n",
              "      --bg-color: #E8F0FE;\n",
              "      --fill-color: #1967D2;\n",
              "      --hover-bg-color: #E2EBFA;\n",
              "      --hover-fill-color: #174EA6;\n",
              "      --disabled-fill-color: #AAA;\n",
              "      --disabled-bg-color: #DDD;\n",
              "  }\n",
              "\n",
              "  [theme=dark] .colab-df-quickchart {\n",
              "      --bg-color: #3B4455;\n",
              "      --fill-color: #D2E3FC;\n",
              "      --hover-bg-color: #434B5C;\n",
              "      --hover-fill-color: #FFFFFF;\n",
              "      --disabled-bg-color: #3B4455;\n",
              "      --disabled-fill-color: #666;\n",
              "  }\n",
              "\n",
              "  .colab-df-quickchart {\n",
              "    background-color: var(--bg-color);\n",
              "    border: none;\n",
              "    border-radius: 50%;\n",
              "    cursor: pointer;\n",
              "    display: none;\n",
              "    fill: var(--fill-color);\n",
              "    height: 32px;\n",
              "    padding: 0;\n",
              "    width: 32px;\n",
              "  }\n",
              "\n",
              "  .colab-df-quickchart:hover {\n",
              "    background-color: var(--hover-bg-color);\n",
              "    box-shadow: 0 1px 2px rgba(60, 64, 67, 0.3), 0 1px 3px 1px rgba(60, 64, 67, 0.15);\n",
              "    fill: var(--button-hover-fill-color);\n",
              "  }\n",
              "\n",
              "  .colab-df-quickchart-complete:disabled,\n",
              "  .colab-df-quickchart-complete:disabled:hover {\n",
              "    background-color: var(--disabled-bg-color);\n",
              "    fill: var(--disabled-fill-color);\n",
              "    box-shadow: none;\n",
              "  }\n",
              "\n",
              "  .colab-df-spinner {\n",
              "    border: 2px solid var(--fill-color);\n",
              "    border-color: transparent;\n",
              "    border-bottom-color: var(--fill-color);\n",
              "    animation:\n",
              "      spin 1s steps(1) infinite;\n",
              "  }\n",
              "\n",
              "  @keyframes spin {\n",
              "    0% {\n",
              "      border-color: transparent;\n",
              "      border-bottom-color: var(--fill-color);\n",
              "      border-left-color: var(--fill-color);\n",
              "    }\n",
              "    20% {\n",
              "      border-color: transparent;\n",
              "      border-left-color: var(--fill-color);\n",
              "      border-top-color: var(--fill-color);\n",
              "    }\n",
              "    30% {\n",
              "      border-color: transparent;\n",
              "      border-left-color: var(--fill-color);\n",
              "      border-top-color: var(--fill-color);\n",
              "      border-right-color: var(--fill-color);\n",
              "    }\n",
              "    40% {\n",
              "      border-color: transparent;\n",
              "      border-right-color: var(--fill-color);\n",
              "      border-top-color: var(--fill-color);\n",
              "    }\n",
              "    60% {\n",
              "      border-color: transparent;\n",
              "      border-right-color: var(--fill-color);\n",
              "    }\n",
              "    80% {\n",
              "      border-color: transparent;\n",
              "      border-right-color: var(--fill-color);\n",
              "      border-bottom-color: var(--fill-color);\n",
              "    }\n",
              "    90% {\n",
              "      border-color: transparent;\n",
              "      border-bottom-color: var(--fill-color);\n",
              "    }\n",
              "  }\n",
              "</style>\n",
              "\n",
              "  <script>\n",
              "    async function quickchart(key) {\n",
              "      const quickchartButtonEl =\n",
              "        document.querySelector('#' + key + ' button');\n",
              "      quickchartButtonEl.disabled = true;  // To prevent multiple clicks.\n",
              "      quickchartButtonEl.classList.add('colab-df-spinner');\n",
              "      try {\n",
              "        const charts = await google.colab.kernel.invokeFunction(\n",
              "            'suggestCharts', [key], {});\n",
              "      } catch (error) {\n",
              "        console.error('Error during call to suggestCharts:', error);\n",
              "      }\n",
              "      quickchartButtonEl.classList.remove('colab-df-spinner');\n",
              "      quickchartButtonEl.classList.add('colab-df-quickchart-complete');\n",
              "    }\n",
              "    (() => {\n",
              "      let quickchartButtonEl =\n",
              "        document.querySelector('#df-ed46cefb-cf28-40be-a9d6-018418f8a32b button');\n",
              "      quickchartButtonEl.style.display =\n",
              "        google.colab.kernel.accessAllowed ? 'block' : 'none';\n",
              "    })();\n",
              "  </script>\n",
              "</div>\n",
              "    </div>\n",
              "  </div>\n"
            ],
            "application/vnd.google.colaboratory.intrinsic+json": {
              "type": "dataframe",
              "summary": "{\n  \"name\": \"    print()\",\n  \"rows\": 5,\n  \"fields\": [\n    {\n      \"column\": \"product\",\n      \"properties\": {\n        \"dtype\": \"number\",\n        \"std\": 60.733809377203634,\n        \"min\": 31.245817877474312,\n        \"max\": 156.92584249878584,\n        \"num_unique_values\": 5,\n        \"samples\": [\n          31.245817877474312,\n          138.07754324932495,\n          48.47851920295415\n        ],\n        \"semantic_type\": \"\",\n        \"description\": \"\"\n      }\n    },\n    {\n      \"column\": \"product_pred\",\n      \"properties\": {\n        \"dtype\": \"number\",\n        \"std\": 34.36527718559713,\n        \"min\": 63.11869003641358,\n        \"max\": 141.16217791410878,\n        \"num_unique_values\": 5,\n        \"samples\": [\n          66.81228884600407,\n          141.16217791410878,\n          70.40692087452881\n        ],\n        \"semantic_type\": \"\",\n        \"description\": \"\"\n      }\n    }\n  ]\n}"
            }
          },
          "metadata": {}
        },
        {
          "output_type": "stream",
          "name": "stdout",
          "text": [
            "\n"
          ]
        }
      ],
      "source": [
        "for name, df in dfs_product_dict.items():\n",
        "    print('*'*5,'Name:', name, '*'*5)\n",
        "    display(dfs_product_dict.get(name, 'default value').head())\n",
        "    print()"
      ]
    },
    {
      "cell_type": "markdown",
      "metadata": {
        "id": "U-e-WDs_eTAt"
      },
      "source": [
        "### Conclusions"
      ]
    },
    {
      "cell_type": "markdown",
      "metadata": {
        "id": "U5eqsdP4eTAt"
      },
      "source": [
        "- Regions df_geo_0 and df_geo_2 showed similar average stocks of the predicted raw materials. However, the model for the region df_geo_0 showed a lower RMSE error, which means its predictions are more accurate;\n",
        "- In the region df_geo_1, the average orders of the predicted raw materials are 30% lower. The accuracy of the model's predictions is determined by the full correlation of the target feature with the input feature `f2` - 1.00."
      ]
    },
    {
      "cell_type": "markdown",
      "metadata": {
        "id": "G4-NQFKZeTAt"
      },
      "source": [
        "## Preparing for profit calculation"
      ]
    },
    {
      "cell_type": "markdown",
      "metadata": {
        "id": "bw3pkIZreTAt"
      },
      "source": [
        "### Sufficient volume of raw materials for break-even development of a new well"
      ]
    },
    {
      "cell_type": "markdown",
      "metadata": {
        "id": "MqC_XqnIeTAt"
      },
      "source": [
        "Let's save the key values ​​for calculating profit in variables:"
      ]
    },
    {
      "cell_type": "code",
      "execution_count": null,
      "metadata": {
        "id": "xxZmcMrheTAu"
      },
      "outputs": [],
      "source": [
        "# budget for well development in the region in million rubles\n",
        "BUDGET = 10_000\n",
        "\n",
        "# income from each product unit in million rubles\n",
        "BBL_1000 = 0.45\n",
        "\n",
        "# number of wells studied in the region\n",
        "OIL_WELL_AMOUNT_ALL = 500\n",
        "\n",
        "# number of wells for development in the region\n",
        "OIL_WELL_AMOUNT = 200"
      ]
    },
    {
      "cell_type": "markdown",
      "metadata": {
        "id": "twaKQpegeTAu"
      },
      "source": [
        "Let's calculate the sufficient volume of raw materials for the break-even development of a new well:"
      ]
    },
    {
      "cell_type": "code",
      "execution_count": null,
      "metadata": {
        "id": "arpXvUL-eTAu",
        "outputId": "7084f766-2ec4-4bd1-e44c-352a1e05a369",
        "colab": {
          "base_uri": "https://localhost:8080/"
        }
      },
      "outputs": [
        {
          "output_type": "stream",
          "name": "stdout",
          "text": [
            "Sufficient volume of raw materials for break-even development of a new well: 111.11\n"
          ]
        }
      ],
      "source": [
        "break_even_point = BUDGET / OIL_WELL_AMOUNT / BBL_1000\n",
        "print(f'Sufficient volume of raw materials for break-even development of a new well: {break_even_point:.2f}')"
      ]
    },
    {
      "cell_type": "markdown",
      "metadata": {
        "id": "EGL6JYCteTAu"
      },
      "source": [
        "#### Conclusions"
      ]
    },
    {
      "cell_type": "markdown",
      "metadata": {
        "id": "GQ4KIYW3eTAu"
      },
      "source": [
        "The average reserve of the predicted raw material by region does not exceed the calculated sufficient volume for break-even development of a new well. This means that with random drilling of 200 wells, there is a high probability of incurring a loss."
      ]
    },
    {
      "cell_type": "markdown",
      "metadata": {
        "id": "7jxxqWASeTAv"
      },
      "source": [
        "### Profit Calculation Function"
      ]
    },
    {
      "cell_type": "markdown",
      "metadata": {
        "id": "HKkwjb3peTAv"
      },
      "source": [
        "Let's write a function to calculate profit for selected wells and model predictions:"
      ]
    },
    {
      "cell_type": "code",
      "execution_count": null,
      "metadata": {
        "id": "XkrIMt45eTAv"
      },
      "outputs": [],
      "source": [
        "def best_oil_well_revenue(df):\n",
        "    revenue = df.sort_values(by='product_pred', ascending=False)['product'].head(OIL_WELL_AMOUNT).sum()*BBL_1000 - BUDGET\n",
        "    return revenue"
      ]
    },
    {
      "cell_type": "code",
      "execution_count": null,
      "metadata": {
        "id": "u7WpXSCbeTAv",
        "outputId": "fcb49837-57dd-45bb-bbec-a580a60bf8f2",
        "colab": {
          "base_uri": "https://localhost:8080/"
        }
      },
      "outputs": [
        {
          "output_type": "stream",
          "name": "stdout",
          "text": [
            "********** Name: df_geo_0 ********** \n",
            "\n",
            "Profit from the 200 best wells for the region df_geo_0: 3469 million rubles \n",
            "\n",
            "********** Name: df_geo_1 ********** \n",
            "\n",
            "Profit from the 200 best wells for the region df_geo_1: 2415 million rubles \n",
            "\n",
            "********** Name: df_geo_2 ********** \n",
            "\n",
            "Profit from the 200 best wells for the region df_geo_2: 2397 million rubles \n",
            "\n"
          ]
        }
      ],
      "source": [
        "for name, df in dfs_product_dict.items():\n",
        "    print('*'*10,'Name:', name, '*'*10, '\\n')\n",
        "    revenue = best_oil_well_revenue(df)\n",
        "    print(f'Profit from the 200 best wells for the region {name}: {revenue:.0f} million rubles \\n')"
      ]
    },
    {
      "cell_type": "markdown",
      "metadata": {
        "id": "bOibrThCeTAv"
      },
      "source": [
        "#### Conclusions"
      ]
    },
    {
      "cell_type": "markdown",
      "metadata": {
        "id": "50gUMsWdeTAv"
      },
      "source": [
        "By developing 200 wells with maximum prediction values, well development will pay for itself in each region."
      ]
    },
    {
      "cell_type": "markdown",
      "metadata": {
        "id": "qpky5rqieTAw"
      },
      "source": [
        "## Calculation of profit and risks"
      ]
    },
    {
      "cell_type": "markdown",
      "metadata": {
        "id": "OLuD8YnweTAw"
      },
      "source": [
        "Let's write a function to calculate profit and risks for each region using Bootstrap technique for 1000 samples."
      ]
    },
    {
      "cell_type": "code",
      "execution_count": null,
      "metadata": {
        "id": "pdqoJDgHeTAw"
      },
      "outputs": [],
      "source": [
        "def bootstrap(df):\n",
        "    state = np.random.RandomState(RANDOM_STATE)\n",
        "    values = []\n",
        "    for i in range(1000):\n",
        "        product_subsample = df[['product', 'product_pred']].sample(n=OIL_WELL_AMOUNT_ALL, replace=True, random_state=state)\n",
        "        revenue = best_oil_well_revenue(product_subsample)\n",
        "        values.append(revenue)\n",
        "    values = pd.Series(values)\n",
        "    revenue_mean = values.mean()\n",
        "    low = values.quantile(0.025)\n",
        "    high = values.quantile(0.975)\n",
        "    risk_of_loss = (values<0).mean()\n",
        "    return revenue_mean, low, high, risk_of_loss"
      ]
    },
    {
      "cell_type": "code",
      "execution_count": null,
      "metadata": {
        "id": "_mXNYDqueTAw",
        "outputId": "ebf6f0d0-9bc3-4310-8a2a-f1e7ffeb816d",
        "colab": {
          "base_uri": "https://localhost:8080/"
        }
      },
      "outputs": [
        {
          "output_type": "stream",
          "name": "stdout",
          "text": [
            "************************* Name: df_geo_0 ************************* \n",
            "\n",
            "Average profit for the region df_geo_0 using Bootstrap technique: 404 million rubles\n",
            "95% confidence interval of profit for the region df_geo_0: from -138 million rubles to 903 million rubles\n",
            "Risk of losses in the region df_geo_0: 5.9 %\n",
            "\n",
            "************************* Name: df_geo_1 ************************* \n",
            "\n",
            "Average profit for the region df_geo_1 using Bootstrap technique: 430 million rubles\n",
            "95% confidence interval of profit for the region df_geo_1: from 43 million rubles to 847 million rubles\n",
            "Risk of losses in the region df_geo_1: 1.6 %\n",
            "\n",
            "************************* Name: df_geo_2 ************************* \n",
            "\n",
            "Average profit for the region df_geo_2 using Bootstrap technique: 384 million rubles\n",
            "95% confidence interval of profit for the region df_geo_2: from -128 million rubles to 910 million rubles\n",
            "Risk of losses in the region df_geo_2: 8.0 %\n",
            "\n"
          ]
        }
      ],
      "source": [
        "for name, df in dfs_product_dict.items():\n",
        "    print('*'*25,'Name:', name, '*'*25, '\\n')\n",
        "    revenue_mean, low, high, risk_of_loss = bootstrap(df)\n",
        "    print(f'Average profit for the region {name} using Bootstrap technique: {revenue_mean:.0f} million rubles')\n",
        "    print(f'95% confidence interval of profit for the region {name}: from {low:.0f} million rubles to {high:.0f} million rubles')\n",
        "    print(f'Risk of losses in the region {name}: {risk_of_loss * 100:.1f} %')\n",
        "    print()"
      ]
    },
    {
      "cell_type": "markdown",
      "metadata": {
        "id": "9iizZao8eTAw"
      },
      "source": [
        "### Conclusions"
      ]
    },
    {
      "cell_type": "markdown",
      "metadata": {
        "id": "ydqJ17KBeTAw"
      },
      "source": [
        "Based on the profits and risks calculated by the Bootstrap technique for 1000 samples for each region, it can be concluded that it is advisable to develop wells in region **1 (df_geo_1)**. This region contains the highest average profit. The 95% confidence interval excludes the possibility of losses. The risk of losses is 1.6%, which is the minimum value of the three regions.\n",
        "\n",
        "However, it is worth noting that as a result of the exploratory analysis of the data, a different nature of the `f2` features and the volume of reserves in the well was revealed from other regions. These values ​​are discrete and fully correlated, which allows the model to predict the volume of oil reserves in the well with a minimum error according to the RMSE metric. It is recommended to determine the nature of the obtained values ​​and, in case of detection of insufficiency or unreliability of the initial data, to conduct a repeated study."
      ]
    },
    {
      "cell_type": "code",
      "source": [],
      "metadata": {
        "id": "uQDPhMkVsPUx"
      },
      "execution_count": null,
      "outputs": []
    }
  ],
  "metadata": {
    "ExecuteTimeLog": [
      {
        "duration": 5887,
        "start_time": "2024-02-06T07:38:51.784Z"
      },
      {
        "duration": 1270,
        "start_time": "2024-02-06T07:40:17.398Z"
      },
      {
        "duration": 367,
        "start_time": "2024-02-06T07:42:57.461Z"
      },
      {
        "duration": 200,
        "start_time": "2024-02-06T07:43:26.813Z"
      },
      {
        "duration": 212,
        "start_time": "2024-02-06T07:43:55.828Z"
      },
      {
        "duration": 4,
        "start_time": "2024-02-06T07:44:30.165Z"
      },
      {
        "duration": 3,
        "start_time": "2024-02-06T07:44:38.805Z"
      },
      {
        "duration": 64,
        "start_time": "2024-02-06T07:45:20.244Z"
      },
      {
        "duration": 59,
        "start_time": "2024-02-06T07:46:21.052Z"
      },
      {
        "duration": 57,
        "start_time": "2024-02-06T07:46:34.221Z"
      },
      {
        "duration": 13,
        "start_time": "2024-02-06T08:13:20.110Z"
      },
      {
        "duration": 70,
        "start_time": "2024-02-06T08:29:54.005Z"
      },
      {
        "duration": 91,
        "start_time": "2024-02-06T08:30:15.918Z"
      },
      {
        "duration": 93,
        "start_time": "2024-02-06T08:31:47.560Z"
      },
      {
        "duration": 57,
        "start_time": "2024-02-06T08:31:50.398Z"
      },
      {
        "duration": 52,
        "start_time": "2024-02-06T08:32:20.511Z"
      },
      {
        "duration": 54,
        "start_time": "2024-02-06T08:32:33.757Z"
      },
      {
        "duration": 56,
        "start_time": "2024-02-06T08:34:55.454Z"
      },
      {
        "duration": 100,
        "start_time": "2024-02-06T08:36:03.767Z"
      },
      {
        "duration": 122,
        "start_time": "2024-02-06T08:37:36.205Z"
      },
      {
        "duration": 60,
        "start_time": "2024-02-06T08:39:11.726Z"
      },
      {
        "duration": 59,
        "start_time": "2024-02-06T08:39:19.813Z"
      },
      {
        "duration": 10,
        "start_time": "2024-02-06T08:40:52.142Z"
      },
      {
        "duration": 71,
        "start_time": "2024-02-06T08:41:03.294Z"
      },
      {
        "duration": 8,
        "start_time": "2024-02-06T08:43:34.998Z"
      },
      {
        "duration": 8,
        "start_time": "2024-02-06T08:43:47.445Z"
      },
      {
        "duration": 8,
        "start_time": "2024-02-06T08:46:06.896Z"
      },
      {
        "duration": 53,
        "start_time": "2024-02-06T08:46:37.574Z"
      },
      {
        "duration": 20,
        "start_time": "2024-02-06T08:51:53.590Z"
      },
      {
        "duration": 17,
        "start_time": "2024-02-06T08:51:58.957Z"
      },
      {
        "duration": 9,
        "start_time": "2024-02-06T08:52:59.181Z"
      },
      {
        "duration": 53,
        "start_time": "2024-02-06T08:53:26.830Z"
      },
      {
        "duration": 107,
        "start_time": "2024-02-06T08:54:11.822Z"
      },
      {
        "duration": 71,
        "start_time": "2024-02-06T08:54:24.125Z"
      },
      {
        "duration": 60,
        "start_time": "2024-02-06T08:54:30.646Z"
      },
      {
        "duration": 59,
        "start_time": "2024-02-06T08:54:36.813Z"
      },
      {
        "duration": 53,
        "start_time": "2024-02-06T08:54:44.861Z"
      },
      {
        "duration": 53,
        "start_time": "2024-02-06T08:56:21.575Z"
      },
      {
        "duration": 52,
        "start_time": "2024-02-06T08:56:26.886Z"
      },
      {
        "duration": 52,
        "start_time": "2024-02-06T09:15:02.791Z"
      },
      {
        "duration": 63,
        "start_time": "2024-02-06T09:15:30.717Z"
      },
      {
        "duration": 50,
        "start_time": "2024-02-06T09:15:42.495Z"
      },
      {
        "duration": 61,
        "start_time": "2024-02-06T09:17:34.221Z"
      },
      {
        "duration": 49,
        "start_time": "2024-02-06T09:17:59.822Z"
      },
      {
        "duration": 81,
        "start_time": "2024-02-06T09:18:35.365Z"
      },
      {
        "duration": 49,
        "start_time": "2024-02-06T09:18:47.198Z"
      },
      {
        "duration": 91,
        "start_time": "2024-02-06T09:19:01.181Z"
      },
      {
        "duration": 48,
        "start_time": "2024-02-06T09:19:09.814Z"
      },
      {
        "duration": 49,
        "start_time": "2024-02-06T09:19:14.926Z"
      },
      {
        "duration": 52,
        "start_time": "2024-02-06T09:19:32.846Z"
      },
      {
        "duration": 50,
        "start_time": "2024-02-06T09:20:54.101Z"
      },
      {
        "duration": 49,
        "start_time": "2024-02-06T09:21:08.229Z"
      },
      {
        "duration": 65,
        "start_time": "2024-02-06T10:00:44.175Z"
      },
      {
        "duration": 58,
        "start_time": "2024-02-06T10:00:57.901Z"
      },
      {
        "duration": 48,
        "start_time": "2024-02-06T10:01:58.559Z"
      },
      {
        "duration": 4,
        "start_time": "2024-02-06T11:15:55.505Z"
      },
      {
        "duration": 1276,
        "start_time": "2024-02-06T11:17:19.431Z"
      },
      {
        "duration": 3824,
        "start_time": "2024-02-06T11:19:18.720Z"
      },
      {
        "duration": 3712,
        "start_time": "2024-02-06T11:20:23.344Z"
      },
      {
        "duration": 3746,
        "start_time": "2024-02-06T11:20:51.359Z"
      },
      {
        "duration": 2,
        "start_time": "2024-02-06T11:25:18.215Z"
      },
      {
        "duration": 4,
        "start_time": "2024-02-06T11:25:25.569Z"
      },
      {
        "duration": 2748,
        "start_time": "2024-02-06T11:27:17.656Z"
      },
      {
        "duration": 1059,
        "start_time": "2024-02-06T11:27:20.407Z"
      },
      {
        "duration": 148,
        "start_time": "2024-02-06T11:27:21.468Z"
      },
      {
        "duration": 132,
        "start_time": "2024-02-06T11:27:21.617Z"
      },
      {
        "duration": 127,
        "start_time": "2024-02-06T11:27:21.755Z"
      },
      {
        "duration": 5,
        "start_time": "2024-02-06T11:27:21.883Z"
      },
      {
        "duration": 84,
        "start_time": "2024-02-06T11:27:21.889Z"
      },
      {
        "duration": 62,
        "start_time": "2024-02-06T11:27:21.974Z"
      },
      {
        "duration": 76,
        "start_time": "2024-02-06T11:27:22.038Z"
      },
      {
        "duration": 11,
        "start_time": "2024-02-06T11:27:22.115Z"
      },
      {
        "duration": 145,
        "start_time": "2024-02-06T11:27:22.127Z"
      },
      {
        "duration": 51,
        "start_time": "2024-02-06T11:27:22.273Z"
      },
      {
        "duration": 70,
        "start_time": "2024-02-06T11:27:22.326Z"
      },
      {
        "duration": 69,
        "start_time": "2024-02-06T11:27:22.399Z"
      },
      {
        "duration": 4,
        "start_time": "2024-02-06T11:27:22.470Z"
      },
      {
        "duration": 3973,
        "start_time": "2024-02-06T11:27:22.476Z"
      },
      {
        "duration": 2,
        "start_time": "2024-02-06T11:27:26.451Z"
      },
      {
        "duration": 20,
        "start_time": "2024-02-06T11:27:26.464Z"
      },
      {
        "duration": 0,
        "start_time": "2024-02-06T11:55:34.050Z"
      },
      {
        "duration": 11,
        "start_time": "2024-02-06T12:05:45.435Z"
      },
      {
        "duration": 0,
        "start_time": "2024-02-06T12:14:15.692Z"
      },
      {
        "duration": 2731,
        "start_time": "2024-02-06T12:14:21.982Z"
      },
      {
        "duration": 1160,
        "start_time": "2024-02-06T12:14:24.715Z"
      },
      {
        "duration": 144,
        "start_time": "2024-02-06T12:14:25.876Z"
      },
      {
        "duration": 125,
        "start_time": "2024-02-06T12:14:26.021Z"
      },
      {
        "duration": 129,
        "start_time": "2024-02-06T12:14:26.148Z"
      },
      {
        "duration": 5,
        "start_time": "2024-02-06T12:14:26.279Z"
      },
      {
        "duration": 86,
        "start_time": "2024-02-06T12:14:26.285Z"
      },
      {
        "duration": 64,
        "start_time": "2024-02-06T12:14:26.373Z"
      },
      {
        "duration": 83,
        "start_time": "2024-02-06T12:14:26.439Z"
      },
      {
        "duration": 10,
        "start_time": "2024-02-06T12:14:26.524Z"
      },
      {
        "duration": 149,
        "start_time": "2024-02-06T12:14:26.536Z"
      },
      {
        "duration": 52,
        "start_time": "2024-02-06T12:14:26.687Z"
      },
      {
        "duration": 72,
        "start_time": "2024-02-06T12:14:26.740Z"
      },
      {
        "duration": 68,
        "start_time": "2024-02-06T12:14:26.814Z"
      },
      {
        "duration": 4,
        "start_time": "2024-02-06T12:14:26.883Z"
      },
      {
        "duration": 4012,
        "start_time": "2024-02-06T12:14:26.889Z"
      },
      {
        "duration": 3,
        "start_time": "2024-02-06T12:14:30.903Z"
      },
      {
        "duration": 34,
        "start_time": "2024-02-06T12:14:30.908Z"
      },
      {
        "duration": 62,
        "start_time": "2024-02-06T12:14:30.943Z"
      },
      {
        "duration": 9,
        "start_time": "2024-02-06T12:14:35.584Z"
      },
      {
        "duration": 9,
        "start_time": "2024-02-06T12:14:38.407Z"
      },
      {
        "duration": 4,
        "start_time": "2024-02-06T12:14:48.631Z"
      },
      {
        "duration": 258,
        "start_time": "2024-02-06T12:15:35.568Z"
      },
      {
        "duration": 1663834,
        "start_time": "2024-02-06T12:16:05.200Z"
      },
      {
        "duration": 5865,
        "start_time": "2024-02-06T14:30:45.402Z"
      },
      {
        "duration": 79,
        "start_time": "2024-02-06T14:30:52.209Z"
      },
      {
        "duration": 53,
        "start_time": "2024-02-06T15:05:59.593Z"
      },
      {
        "duration": 5045,
        "start_time": "2024-02-06T15:06:20.789Z"
      },
      {
        "duration": 1407,
        "start_time": "2024-02-06T15:06:25.836Z"
      },
      {
        "duration": 383,
        "start_time": "2024-02-06T15:06:27.245Z"
      },
      {
        "duration": 202,
        "start_time": "2024-02-06T15:06:27.630Z"
      },
      {
        "duration": 196,
        "start_time": "2024-02-06T15:06:27.833Z"
      },
      {
        "duration": 4,
        "start_time": "2024-02-06T15:06:28.031Z"
      },
      {
        "duration": 81,
        "start_time": "2024-02-06T15:06:28.036Z"
      },
      {
        "duration": 72,
        "start_time": "2024-02-06T15:06:28.119Z"
      },
      {
        "duration": 74,
        "start_time": "2024-02-06T15:06:28.192Z"
      },
      {
        "duration": 11,
        "start_time": "2024-02-06T15:06:28.268Z"
      },
      {
        "duration": 140,
        "start_time": "2024-02-06T15:06:28.280Z"
      },
      {
        "duration": 62,
        "start_time": "2024-02-06T15:06:28.422Z"
      },
      {
        "duration": 60,
        "start_time": "2024-02-06T15:06:28.486Z"
      },
      {
        "duration": 66,
        "start_time": "2024-02-06T15:06:28.547Z"
      },
      {
        "duration": 4,
        "start_time": "2024-02-06T15:06:28.614Z"
      },
      {
        "duration": 3954,
        "start_time": "2024-02-06T15:06:28.619Z"
      },
      {
        "duration": 48210,
        "start_time": "2024-02-06T15:06:32.574Z"
      },
      {
        "duration": 626,
        "start_time": "2024-02-06T15:10:28.714Z"
      },
      {
        "duration": 1641,
        "start_time": "2024-02-06T15:25:09.914Z"
      },
      {
        "duration": 1614,
        "start_time": "2024-02-06T15:25:24.866Z"
      },
      {
        "duration": 1690,
        "start_time": "2024-02-06T15:28:11.170Z"
      },
      {
        "duration": 652,
        "start_time": "2024-02-06T15:29:53.306Z"
      },
      {
        "duration": 1675,
        "start_time": "2024-02-06T15:30:15.354Z"
      },
      {
        "duration": 1752,
        "start_time": "2024-02-06T15:30:33.601Z"
      },
      {
        "duration": 1675,
        "start_time": "2024-02-06T15:30:50.795Z"
      },
      {
        "duration": 3865,
        "start_time": "2024-02-06T15:31:09.121Z"
      },
      {
        "duration": 3770,
        "start_time": "2024-02-06T15:31:24.290Z"
      },
      {
        "duration": 57530,
        "start_time": "2024-02-06T15:37:11.149Z"
      },
      {
        "duration": 89,
        "start_time": "2024-02-06T15:39:26.653Z"
      },
      {
        "duration": 71,
        "start_time": "2024-02-06T15:39:32.074Z"
      },
      {
        "duration": 86,
        "start_time": "2024-02-06T15:39:50.554Z"
      },
      {
        "duration": 58918,
        "start_time": "2024-02-06T15:40:01.282Z"
      },
      {
        "duration": 4689,
        "start_time": "2024-02-06T15:42:08.305Z"
      },
      {
        "duration": 4551,
        "start_time": "2024-02-06T15:42:44.009Z"
      },
      {
        "duration": 6254,
        "start_time": "2024-02-06T15:43:01.834Z"
      },
      {
        "duration": 1629,
        "start_time": "2024-02-06T16:02:24.043Z"
      },
      {
        "duration": 12,
        "start_time": "2024-02-06T16:13:37.818Z"
      },
      {
        "duration": 0,
        "start_time": "2024-02-06T16:16:12.083Z"
      },
      {
        "duration": 5055,
        "start_time": "2024-02-06T16:16:48.267Z"
      },
      {
        "duration": 1092,
        "start_time": "2024-02-06T16:16:53.324Z"
      },
      {
        "duration": 152,
        "start_time": "2024-02-06T16:16:54.417Z"
      },
      {
        "duration": 126,
        "start_time": "2024-02-06T16:16:54.571Z"
      },
      {
        "duration": 124,
        "start_time": "2024-02-06T16:16:54.699Z"
      },
      {
        "duration": 4,
        "start_time": "2024-02-06T16:16:54.825Z"
      },
      {
        "duration": 75,
        "start_time": "2024-02-06T16:16:54.831Z"
      },
      {
        "duration": 79,
        "start_time": "2024-02-06T16:16:54.907Z"
      },
      {
        "duration": 56,
        "start_time": "2024-02-06T16:16:54.988Z"
      },
      {
        "duration": 12,
        "start_time": "2024-02-06T16:16:55.065Z"
      },
      {
        "duration": 134,
        "start_time": "2024-02-06T16:16:55.078Z"
      },
      {
        "duration": 60,
        "start_time": "2024-02-06T16:16:55.214Z"
      },
      {
        "duration": 54,
        "start_time": "2024-02-06T16:16:55.275Z"
      },
      {
        "duration": 62,
        "start_time": "2024-02-06T16:16:55.331Z"
      },
      {
        "duration": 4,
        "start_time": "2024-02-06T16:16:55.394Z"
      },
      {
        "duration": 3866,
        "start_time": "2024-02-06T16:16:55.400Z"
      },
      {
        "duration": 1627,
        "start_time": "2024-02-06T16:16:59.267Z"
      },
      {
        "duration": 4453,
        "start_time": "2024-02-06T16:17:00.895Z"
      },
      {
        "duration": 58637,
        "start_time": "2024-02-06T16:19:01.458Z"
      },
      {
        "duration": 58857,
        "start_time": "2024-02-06T16:23:06.589Z"
      },
      {
        "duration": 119,
        "start_time": "2024-02-06T16:25:36.554Z"
      },
      {
        "duration": 10,
        "start_time": "2024-02-06T16:25:50.090Z"
      },
      {
        "duration": 15568,
        "start_time": "2024-02-06T16:25:55.098Z"
      },
      {
        "duration": 374,
        "start_time": "2024-02-07T08:32:31.788Z"
      },
      {
        "duration": 40,
        "start_time": "2024-02-07T08:33:31.314Z"
      },
      {
        "duration": 256,
        "start_time": "2024-02-07T08:34:24.618Z"
      },
      {
        "duration": 79,
        "start_time": "2024-02-07T08:51:18.890Z"
      },
      {
        "duration": 4,
        "start_time": "2024-02-07T08:51:26.178Z"
      },
      {
        "duration": 21,
        "start_time": "2024-02-07T08:53:00.090Z"
      },
      {
        "duration": 31,
        "start_time": "2024-02-07T08:53:57.554Z"
      },
      {
        "duration": 4,
        "start_time": "2024-02-07T08:54:07.171Z"
      },
      {
        "duration": 30,
        "start_time": "2024-02-07T08:54:08.164Z"
      },
      {
        "duration": 4,
        "start_time": "2024-02-07T08:54:12.546Z"
      },
      {
        "duration": 3,
        "start_time": "2024-02-07T08:55:24.371Z"
      },
      {
        "duration": 8,
        "start_time": "2024-02-07T08:55:25.698Z"
      },
      {
        "duration": 23,
        "start_time": "2024-02-07T08:55:32.794Z"
      },
      {
        "duration": 4,
        "start_time": "2024-02-07T08:55:33.842Z"
      },
      {
        "duration": 7,
        "start_time": "2024-02-07T09:29:35.588Z"
      },
      {
        "duration": 11,
        "start_time": "2024-02-07T09:32:07.554Z"
      },
      {
        "duration": 3,
        "start_time": "2024-02-07T09:34:09.306Z"
      },
      {
        "duration": 31,
        "start_time": "2024-02-07T09:34:21.833Z"
      },
      {
        "duration": 3,
        "start_time": "2024-02-07T09:34:38.411Z"
      },
      {
        "duration": 12,
        "start_time": "2024-02-07T09:34:39.979Z"
      },
      {
        "duration": 3,
        "start_time": "2024-02-07T09:34:41.451Z"
      },
      {
        "duration": 3,
        "start_time": "2024-02-07T09:35:15.426Z"
      },
      {
        "duration": 14,
        "start_time": "2024-02-07T09:35:28.514Z"
      },
      {
        "duration": 4,
        "start_time": "2024-02-07T09:35:30.266Z"
      },
      {
        "duration": 9,
        "start_time": "2024-02-07T09:35:40.193Z"
      },
      {
        "duration": 26,
        "start_time": "2024-02-07T09:35:57.723Z"
      },
      {
        "duration": 3,
        "start_time": "2024-02-07T09:36:23.188Z"
      },
      {
        "duration": 29,
        "start_time": "2024-02-07T09:36:24.354Z"
      },
      {
        "duration": 24,
        "start_time": "2024-02-07T09:36:37.867Z"
      },
      {
        "duration": 4,
        "start_time": "2024-02-07T09:36:39.826Z"
      },
      {
        "duration": 14,
        "start_time": "2024-02-07T09:36:40.690Z"
      },
      {
        "duration": 4,
        "start_time": "2024-02-07T09:36:55.185Z"
      },
      {
        "duration": 3,
        "start_time": "2024-02-07T09:37:16.921Z"
      },
      {
        "duration": 3,
        "start_time": "2024-02-07T09:38:13.105Z"
      },
      {
        "duration": 2,
        "start_time": "2024-02-07T09:46:05.019Z"
      },
      {
        "duration": 3,
        "start_time": "2024-02-07T09:46:05.899Z"
      },
      {
        "duration": 12,
        "start_time": "2024-02-07T09:55:00.139Z"
      },
      {
        "duration": 4,
        "start_time": "2024-02-07T09:55:11.035Z"
      },
      {
        "duration": 12,
        "start_time": "2024-02-07T09:55:14.075Z"
      },
      {
        "duration": 10,
        "start_time": "2024-02-07T09:55:33.490Z"
      },
      {
        "duration": 4,
        "start_time": "2024-02-07T09:55:42.995Z"
      },
      {
        "duration": 3,
        "start_time": "2024-02-07T09:55:57.308Z"
      },
      {
        "duration": 4,
        "start_time": "2024-02-07T09:57:01.018Z"
      },
      {
        "duration": 4,
        "start_time": "2024-02-07T13:47:06.230Z"
      },
      {
        "duration": 4,
        "start_time": "2024-02-07T13:51:07.565Z"
      },
      {
        "duration": 4,
        "start_time": "2024-02-07T14:00:10.293Z"
      },
      {
        "duration": 3,
        "start_time": "2024-02-07T14:00:49.350Z"
      },
      {
        "duration": 3,
        "start_time": "2024-02-07T14:15:56.341Z"
      },
      {
        "duration": 59,
        "start_time": "2024-02-07T14:16:23.766Z"
      },
      {
        "duration": 5064,
        "start_time": "2024-02-07T14:18:32.308Z"
      },
      {
        "duration": 1242,
        "start_time": "2024-02-07T14:18:37.374Z"
      },
      {
        "duration": 149,
        "start_time": "2024-02-07T14:18:38.618Z"
      },
      {
        "duration": 133,
        "start_time": "2024-02-07T14:18:38.769Z"
      },
      {
        "duration": 145,
        "start_time": "2024-02-07T14:18:38.906Z"
      },
      {
        "duration": 4,
        "start_time": "2024-02-07T14:18:39.053Z"
      },
      {
        "duration": 68,
        "start_time": "2024-02-07T14:18:39.059Z"
      },
      {
        "duration": 74,
        "start_time": "2024-02-07T14:18:39.128Z"
      },
      {
        "duration": 75,
        "start_time": "2024-02-07T14:18:39.204Z"
      },
      {
        "duration": 11,
        "start_time": "2024-02-07T14:18:39.280Z"
      },
      {
        "duration": 144,
        "start_time": "2024-02-07T14:18:39.293Z"
      },
      {
        "duration": 64,
        "start_time": "2024-02-07T14:18:39.438Z"
      },
      {
        "duration": 65,
        "start_time": "2024-02-07T14:18:39.504Z"
      },
      {
        "duration": 58,
        "start_time": "2024-02-07T14:18:39.572Z"
      },
      {
        "duration": 5,
        "start_time": "2024-02-07T14:18:39.632Z"
      },
      {
        "duration": 3885,
        "start_time": "2024-02-07T14:18:39.638Z"
      },
      {
        "duration": 1679,
        "start_time": "2024-02-07T14:18:43.524Z"
      },
      {
        "duration": 3,
        "start_time": "2024-02-07T14:18:45.204Z"
      },
      {
        "duration": 12,
        "start_time": "2024-02-07T14:18:45.208Z"
      },
      {
        "duration": 21,
        "start_time": "2024-02-07T14:18:45.221Z"
      },
      {
        "duration": 4,
        "start_time": "2024-02-07T14:18:45.243Z"
      },
      {
        "duration": 118,
        "start_time": "2024-02-07T14:18:45.249Z"
      },
      {
        "duration": 0,
        "start_time": "2024-02-07T14:18:45.369Z"
      },
      {
        "duration": 0,
        "start_time": "2024-02-07T14:18:45.370Z"
      },
      {
        "duration": 0,
        "start_time": "2024-02-07T14:18:45.371Z"
      },
      {
        "duration": 0,
        "start_time": "2024-02-07T14:18:45.372Z"
      },
      {
        "duration": 3,
        "start_time": "2024-02-07T14:19:00.911Z"
      },
      {
        "duration": 3,
        "start_time": "2024-02-07T14:19:01.917Z"
      },
      {
        "duration": 5,
        "start_time": "2024-02-07T14:19:03.558Z"
      },
      {
        "duration": 2,
        "start_time": "2024-02-07T14:19:05.239Z"
      },
      {
        "duration": 25,
        "start_time": "2024-02-07T14:19:06.118Z"
      },
      {
        "duration": 3,
        "start_time": "2024-02-07T14:22:33.631Z"
      },
      {
        "duration": 3,
        "start_time": "2024-02-07T14:22:34.918Z"
      },
      {
        "duration": 24,
        "start_time": "2024-02-07T14:22:36.279Z"
      },
      {
        "duration": 3,
        "start_time": "2024-02-07T14:22:49.046Z"
      },
      {
        "duration": 3,
        "start_time": "2024-02-07T14:22:50.239Z"
      },
      {
        "duration": 25,
        "start_time": "2024-02-07T14:22:51.256Z"
      },
      {
        "duration": 3,
        "start_time": "2024-02-07T14:23:06.039Z"
      },
      {
        "duration": 3,
        "start_time": "2024-02-07T14:23:07.951Z"
      },
      {
        "duration": 25,
        "start_time": "2024-02-07T14:23:08.663Z"
      },
      {
        "duration": 3,
        "start_time": "2024-02-07T14:25:13.598Z"
      },
      {
        "duration": 3,
        "start_time": "2024-02-07T14:25:15.094Z"
      },
      {
        "duration": 23,
        "start_time": "2024-02-07T14:25:16.319Z"
      },
      {
        "duration": 2,
        "start_time": "2024-02-07T14:26:13.446Z"
      },
      {
        "duration": 2,
        "start_time": "2024-02-07T14:26:14.270Z"
      },
      {
        "duration": 4,
        "start_time": "2024-02-07T14:26:15.663Z"
      },
      {
        "duration": 3,
        "start_time": "2024-02-07T14:26:16.590Z"
      },
      {
        "duration": 5092,
        "start_time": "2024-02-07T14:31:20.189Z"
      },
      {
        "duration": 1290,
        "start_time": "2024-02-07T14:31:25.283Z"
      },
      {
        "duration": 142,
        "start_time": "2024-02-07T14:31:26.575Z"
      },
      {
        "duration": 126,
        "start_time": "2024-02-07T14:31:26.719Z"
      },
      {
        "duration": 126,
        "start_time": "2024-02-07T14:31:26.847Z"
      },
      {
        "duration": 4,
        "start_time": "2024-02-07T14:31:26.975Z"
      },
      {
        "duration": 71,
        "start_time": "2024-02-07T14:31:26.980Z"
      },
      {
        "duration": 62,
        "start_time": "2024-02-07T14:31:27.064Z"
      },
      {
        "duration": 84,
        "start_time": "2024-02-07T14:31:27.127Z"
      },
      {
        "duration": 11,
        "start_time": "2024-02-07T14:31:27.214Z"
      },
      {
        "duration": 145,
        "start_time": "2024-02-07T14:31:27.226Z"
      },
      {
        "duration": 54,
        "start_time": "2024-02-07T14:31:27.373Z"
      },
      {
        "duration": 83,
        "start_time": "2024-02-07T14:31:27.429Z"
      },
      {
        "duration": 63,
        "start_time": "2024-02-07T14:31:27.514Z"
      },
      {
        "duration": 4,
        "start_time": "2024-02-07T14:31:27.579Z"
      },
      {
        "duration": 4025,
        "start_time": "2024-02-07T14:31:27.584Z"
      },
      {
        "duration": 1797,
        "start_time": "2024-02-07T14:31:31.611Z"
      },
      {
        "duration": 2,
        "start_time": "2024-02-07T14:31:33.409Z"
      },
      {
        "duration": 4,
        "start_time": "2024-02-07T14:31:33.413Z"
      },
      {
        "duration": 18,
        "start_time": "2024-02-07T14:31:33.418Z"
      },
      {
        "duration": 4,
        "start_time": "2024-02-07T14:31:33.437Z"
      },
      {
        "duration": 10,
        "start_time": "2024-02-07T14:31:33.443Z"
      },
      {
        "duration": 11,
        "start_time": "2024-02-07T14:31:33.465Z"
      },
      {
        "duration": 5,
        "start_time": "2024-02-07T14:31:33.477Z"
      },
      {
        "duration": 4,
        "start_time": "2024-02-07T14:31:33.483Z"
      },
      {
        "duration": 1778,
        "start_time": "2024-02-07T14:31:33.488Z"
      },
      {
        "duration": 11,
        "start_time": "2024-02-07T14:34:44.735Z"
      },
      {
        "duration": 4,
        "start_time": "2024-02-07T14:42:37.480Z"
      },
      {
        "duration": 1939,
        "start_time": "2024-02-07T14:42:42.127Z"
      },
      {
        "duration": 3,
        "start_time": "2024-02-07T14:42:47.607Z"
      },
      {
        "duration": 1990,
        "start_time": "2024-02-07T14:42:49.376Z"
      },
      {
        "duration": 4,
        "start_time": "2024-02-07T15:24:13.728Z"
      },
      {
        "duration": 3,
        "start_time": "2024-02-07T15:24:16.255Z"
      },
      {
        "duration": 5101,
        "start_time": "2024-02-07T15:25:32.935Z"
      },
      {
        "duration": 1263,
        "start_time": "2024-02-07T15:25:38.038Z"
      },
      {
        "duration": 145,
        "start_time": "2024-02-07T15:25:39.303Z"
      },
      {
        "duration": 127,
        "start_time": "2024-02-07T15:25:39.449Z"
      },
      {
        "duration": 126,
        "start_time": "2024-02-07T15:25:39.578Z"
      },
      {
        "duration": 4,
        "start_time": "2024-02-07T15:25:39.706Z"
      },
      {
        "duration": 83,
        "start_time": "2024-02-07T15:25:39.711Z"
      },
      {
        "duration": 86,
        "start_time": "2024-02-07T15:25:39.796Z"
      },
      {
        "duration": 57,
        "start_time": "2024-02-07T15:25:39.884Z"
      },
      {
        "duration": 12,
        "start_time": "2024-02-07T15:25:39.964Z"
      },
      {
        "duration": 139,
        "start_time": "2024-02-07T15:25:39.977Z"
      },
      {
        "duration": 66,
        "start_time": "2024-02-07T15:25:40.118Z"
      },
      {
        "duration": 56,
        "start_time": "2024-02-07T15:25:40.186Z"
      },
      {
        "duration": 61,
        "start_time": "2024-02-07T15:25:40.245Z"
      },
      {
        "duration": 5,
        "start_time": "2024-02-07T15:25:40.308Z"
      },
      {
        "duration": 3926,
        "start_time": "2024-02-07T15:25:40.315Z"
      },
      {
        "duration": 1658,
        "start_time": "2024-02-07T15:25:44.243Z"
      },
      {
        "duration": 3,
        "start_time": "2024-02-07T15:25:45.903Z"
      },
      {
        "duration": 7,
        "start_time": "2024-02-07T15:25:45.907Z"
      },
      {
        "duration": 14,
        "start_time": "2024-02-07T15:25:45.915Z"
      },
      {
        "duration": 3,
        "start_time": "2024-02-07T15:25:45.931Z"
      },
      {
        "duration": 4,
        "start_time": "2024-02-07T15:25:45.935Z"
      },
      {
        "duration": 24,
        "start_time": "2024-02-07T15:25:45.941Z"
      },
      {
        "duration": 3,
        "start_time": "2024-02-07T15:25:45.967Z"
      },
      {
        "duration": 12,
        "start_time": "2024-02-07T15:25:45.972Z"
      },
      {
        "duration": 5139,
        "start_time": "2024-02-07T15:28:35.993Z"
      },
      {
        "duration": 1263,
        "start_time": "2024-02-07T15:28:41.134Z"
      },
      {
        "duration": 146,
        "start_time": "2024-02-07T15:28:42.398Z"
      },
      {
        "duration": 120,
        "start_time": "2024-02-07T15:28:42.546Z"
      },
      {
        "duration": 124,
        "start_time": "2024-02-07T15:28:42.668Z"
      },
      {
        "duration": 4,
        "start_time": "2024-02-07T15:28:42.794Z"
      },
      {
        "duration": 77,
        "start_time": "2024-02-07T15:28:42.799Z"
      },
      {
        "duration": 57,
        "start_time": "2024-02-07T15:28:42.877Z"
      },
      {
        "duration": 75,
        "start_time": "2024-02-07T15:28:42.936Z"
      },
      {
        "duration": 10,
        "start_time": "2024-02-07T15:28:43.013Z"
      },
      {
        "duration": 152,
        "start_time": "2024-02-07T15:28:43.025Z"
      },
      {
        "duration": 50,
        "start_time": "2024-02-07T15:28:43.179Z"
      },
      {
        "duration": 81,
        "start_time": "2024-02-07T15:28:43.230Z"
      },
      {
        "duration": 69,
        "start_time": "2024-02-07T15:28:43.313Z"
      },
      {
        "duration": 4,
        "start_time": "2024-02-07T15:28:43.383Z"
      },
      {
        "duration": 3953,
        "start_time": "2024-02-07T15:28:43.389Z"
      },
      {
        "duration": 1636,
        "start_time": "2024-02-07T15:28:47.344Z"
      },
      {
        "duration": 2,
        "start_time": "2024-02-07T15:28:48.982Z"
      },
      {
        "duration": 5,
        "start_time": "2024-02-07T15:28:48.986Z"
      },
      {
        "duration": 14,
        "start_time": "2024-02-07T15:28:48.993Z"
      },
      {
        "duration": 4,
        "start_time": "2024-02-07T15:28:49.008Z"
      },
      {
        "duration": 3,
        "start_time": "2024-02-07T15:28:49.013Z"
      },
      {
        "duration": 5,
        "start_time": "2024-02-07T15:28:49.017Z"
      },
      {
        "duration": 3,
        "start_time": "2024-02-07T15:28:49.023Z"
      },
      {
        "duration": 18,
        "start_time": "2024-02-07T15:28:49.028Z"
      },
      {
        "duration": 1827,
        "start_time": "2024-02-07T15:28:49.047Z"
      },
      {
        "duration": 92,
        "start_time": "2024-02-07T15:28:50.876Z"
      },
      {
        "duration": 3,
        "start_time": "2024-02-07T15:33:43.030Z"
      },
      {
        "duration": 2,
        "start_time": "2024-02-07T15:33:51.343Z"
      },
      {
        "duration": 103,
        "start_time": "2024-02-07T15:34:45.415Z"
      },
      {
        "duration": 9,
        "start_time": "2024-02-07T15:34:57.535Z"
      },
      {
        "duration": 4990,
        "start_time": "2024-02-07T15:37:49.487Z"
      },
      {
        "duration": 1202,
        "start_time": "2024-02-07T15:37:54.480Z"
      },
      {
        "duration": 166,
        "start_time": "2024-02-07T15:37:55.684Z"
      },
      {
        "duration": 124,
        "start_time": "2024-02-07T15:37:55.852Z"
      },
      {
        "duration": 129,
        "start_time": "2024-02-07T15:37:55.978Z"
      },
      {
        "duration": 4,
        "start_time": "2024-02-07T15:37:56.108Z"
      },
      {
        "duration": 77,
        "start_time": "2024-02-07T15:37:56.114Z"
      },
      {
        "duration": 78,
        "start_time": "2024-02-07T15:37:56.192Z"
      },
      {
        "duration": 57,
        "start_time": "2024-02-07T15:37:56.271Z"
      },
      {
        "duration": 37,
        "start_time": "2024-02-07T15:37:56.330Z"
      },
      {
        "duration": 124,
        "start_time": "2024-02-07T15:37:56.368Z"
      },
      {
        "duration": 54,
        "start_time": "2024-02-07T15:37:56.493Z"
      },
      {
        "duration": 58,
        "start_time": "2024-02-07T15:37:56.564Z"
      },
      {
        "duration": 62,
        "start_time": "2024-02-07T15:37:56.625Z"
      },
      {
        "duration": 4,
        "start_time": "2024-02-07T15:37:56.689Z"
      },
      {
        "duration": 3903,
        "start_time": "2024-02-07T15:37:56.694Z"
      },
      {
        "duration": 1655,
        "start_time": "2024-02-07T15:38:00.599Z"
      },
      {
        "duration": 9,
        "start_time": "2024-02-07T15:38:02.256Z"
      },
      {
        "duration": 111,
        "start_time": "2024-02-07T15:38:02.266Z"
      },
      {
        "duration": 0,
        "start_time": "2024-02-07T15:38:02.379Z"
      },
      {
        "duration": 0,
        "start_time": "2024-02-07T15:38:02.380Z"
      },
      {
        "duration": 0,
        "start_time": "2024-02-07T15:38:02.381Z"
      },
      {
        "duration": 0,
        "start_time": "2024-02-07T15:38:02.382Z"
      },
      {
        "duration": 0,
        "start_time": "2024-02-07T15:38:02.383Z"
      },
      {
        "duration": 0,
        "start_time": "2024-02-07T15:38:02.384Z"
      },
      {
        "duration": 0,
        "start_time": "2024-02-07T15:38:02.385Z"
      },
      {
        "duration": 9,
        "start_time": "2024-02-07T15:39:21.024Z"
      },
      {
        "duration": 4,
        "start_time": "2024-02-07T15:39:23.537Z"
      },
      {
        "duration": 12,
        "start_time": "2024-02-07T15:39:25.567Z"
      },
      {
        "duration": 6,
        "start_time": "2024-02-07T15:39:31.896Z"
      },
      {
        "duration": 4972,
        "start_time": "2024-02-07T15:46:03.681Z"
      },
      {
        "duration": 1347,
        "start_time": "2024-02-07T15:46:08.655Z"
      },
      {
        "duration": 142,
        "start_time": "2024-02-07T15:46:10.004Z"
      },
      {
        "duration": 125,
        "start_time": "2024-02-07T15:46:10.148Z"
      },
      {
        "duration": 124,
        "start_time": "2024-02-07T15:46:10.275Z"
      },
      {
        "duration": 4,
        "start_time": "2024-02-07T15:46:10.400Z"
      },
      {
        "duration": 75,
        "start_time": "2024-02-07T15:46:10.406Z"
      },
      {
        "duration": 58,
        "start_time": "2024-02-07T15:46:10.482Z"
      },
      {
        "duration": 76,
        "start_time": "2024-02-07T15:46:10.542Z"
      },
      {
        "duration": 10,
        "start_time": "2024-02-07T15:46:10.620Z"
      },
      {
        "duration": 152,
        "start_time": "2024-02-07T15:46:10.632Z"
      },
      {
        "duration": 60,
        "start_time": "2024-02-07T15:46:10.786Z"
      },
      {
        "duration": 71,
        "start_time": "2024-02-07T15:46:10.866Z"
      },
      {
        "duration": 68,
        "start_time": "2024-02-07T15:46:10.941Z"
      },
      {
        "duration": 4,
        "start_time": "2024-02-07T15:46:11.011Z"
      },
      {
        "duration": 3840,
        "start_time": "2024-02-07T15:46:11.016Z"
      },
      {
        "duration": 1663,
        "start_time": "2024-02-07T15:46:14.858Z"
      },
      {
        "duration": 3,
        "start_time": "2024-02-07T15:46:16.523Z"
      },
      {
        "duration": 17,
        "start_time": "2024-02-07T15:46:16.527Z"
      },
      {
        "duration": 4,
        "start_time": "2024-02-07T15:46:16.545Z"
      },
      {
        "duration": 15,
        "start_time": "2024-02-07T15:46:16.551Z"
      },
      {
        "duration": 4,
        "start_time": "2024-02-07T15:46:16.567Z"
      },
      {
        "duration": 4,
        "start_time": "2024-02-07T15:46:16.572Z"
      },
      {
        "duration": 10,
        "start_time": "2024-02-07T15:46:16.577Z"
      },
      {
        "duration": 1780,
        "start_time": "2024-02-07T15:46:16.589Z"
      },
      {
        "duration": 10,
        "start_time": "2024-02-07T15:46:18.370Z"
      },
      {
        "duration": 4,
        "start_time": "2024-02-07T15:47:07.567Z"
      },
      {
        "duration": 3,
        "start_time": "2024-02-07T15:49:37.167Z"
      },
      {
        "duration": 3,
        "start_time": "2024-02-07T15:49:43.039Z"
      },
      {
        "duration": 1954,
        "start_time": "2024-02-07T15:49:44.310Z"
      },
      {
        "duration": 8,
        "start_time": "2024-02-07T15:53:06.109Z"
      },
      {
        "duration": 4,
        "start_time": "2024-02-07T15:54:24.112Z"
      },
      {
        "duration": 4,
        "start_time": "2024-02-07T15:55:20.175Z"
      },
      {
        "duration": 5,
        "start_time": "2024-02-07T15:59:08.999Z"
      },
      {
        "duration": 5,
        "start_time": "2024-02-07T16:00:32.312Z"
      },
      {
        "duration": 108,
        "start_time": "2024-02-07T16:04:50.688Z"
      },
      {
        "duration": 18,
        "start_time": "2024-02-07T16:05:16.369Z"
      },
      {
        "duration": 17,
        "start_time": "2024-02-07T16:06:34.553Z"
      },
      {
        "duration": 17,
        "start_time": "2024-02-07T16:07:16.631Z"
      },
      {
        "duration": 5,
        "start_time": "2024-02-07T16:07:44.576Z"
      },
      {
        "duration": 4,
        "start_time": "2024-02-07T16:08:41.151Z"
      },
      {
        "duration": 10,
        "start_time": "2024-02-07T16:08:54.960Z"
      },
      {
        "duration": 5,
        "start_time": "2024-02-07T16:09:20.487Z"
      },
      {
        "duration": 3,
        "start_time": "2024-02-07T16:09:59.535Z"
      },
      {
        "duration": 10,
        "start_time": "2024-02-07T16:10:05.159Z"
      },
      {
        "duration": 3,
        "start_time": "2024-02-07T16:10:14.551Z"
      },
      {
        "duration": 3,
        "start_time": "2024-02-07T16:12:13.455Z"
      },
      {
        "duration": 4,
        "start_time": "2024-02-07T16:12:21.798Z"
      },
      {
        "duration": 9,
        "start_time": "2024-02-07T16:12:37.351Z"
      },
      {
        "duration": 3,
        "start_time": "2024-02-07T16:14:24.561Z"
      },
      {
        "duration": 65,
        "start_time": "2024-02-07T16:14:49.183Z"
      },
      {
        "duration": 4,
        "start_time": "2024-02-07T16:15:44.159Z"
      },
      {
        "duration": 4,
        "start_time": "2024-02-07T16:17:11.552Z"
      },
      {
        "duration": 19,
        "start_time": "2024-02-07T16:19:04.807Z"
      },
      {
        "duration": 5,
        "start_time": "2024-02-07T16:19:13.736Z"
      },
      {
        "duration": 2,
        "start_time": "2024-02-07T16:19:32.608Z"
      },
      {
        "duration": 1766,
        "start_time": "2024-02-07T16:19:51.399Z"
      },
      {
        "duration": 10,
        "start_time": "2024-02-07T16:20:18.592Z"
      },
      {
        "duration": 7,
        "start_time": "2024-02-07T16:20:52.975Z"
      },
      {
        "duration": 9,
        "start_time": "2024-02-07T16:21:01.768Z"
      },
      {
        "duration": 4,
        "start_time": "2024-02-07T16:21:40.111Z"
      },
      {
        "duration": 3,
        "start_time": "2024-02-07T16:21:46.967Z"
      },
      {
        "duration": 15,
        "start_time": "2024-02-07T16:22:33.712Z"
      },
      {
        "duration": 5,
        "start_time": "2024-02-07T16:22:42.495Z"
      },
      {
        "duration": 3,
        "start_time": "2024-02-07T16:22:48.105Z"
      },
      {
        "duration": 1982,
        "start_time": "2024-02-07T16:22:52.585Z"
      },
      {
        "duration": 7,
        "start_time": "2024-02-07T16:23:00.104Z"
      },
      {
        "duration": 8,
        "start_time": "2024-02-07T16:23:08.200Z"
      },
      {
        "duration": 3,
        "start_time": "2024-02-07T16:23:29.664Z"
      },
      {
        "duration": 4,
        "start_time": "2024-02-07T16:23:39.871Z"
      },
      {
        "duration": 1141,
        "start_time": "2024-02-07T16:36:58.544Z"
      },
      {
        "duration": 4,
        "start_time": "2024-02-07T16:38:50.744Z"
      },
      {
        "duration": 932,
        "start_time": "2024-02-07T16:39:32.497Z"
      },
      {
        "duration": 3,
        "start_time": "2024-02-07T16:52:56.728Z"
      },
      {
        "duration": 2,
        "start_time": "2024-02-07T16:55:31.145Z"
      },
      {
        "duration": 3,
        "start_time": "2024-02-07T16:59:40.032Z"
      },
      {
        "duration": 4,
        "start_time": "2024-02-07T17:06:23.352Z"
      },
      {
        "duration": 4,
        "start_time": "2024-02-07T17:08:02.688Z"
      },
      {
        "duration": 3,
        "start_time": "2024-02-07T17:09:55.529Z"
      },
      {
        "duration": 1201,
        "start_time": "2024-02-07T17:23:14.993Z"
      },
      {
        "duration": 1190,
        "start_time": "2024-02-07T17:23:26.577Z"
      },
      {
        "duration": 8,
        "start_time": "2024-02-07T17:25:55.922Z"
      },
      {
        "duration": 12,
        "start_time": "2024-02-07T17:26:12.864Z"
      },
      {
        "duration": 7,
        "start_time": "2024-02-07T17:26:40.488Z"
      },
      {
        "duration": 7,
        "start_time": "2024-02-07T17:27:50.001Z"
      },
      {
        "duration": 3,
        "start_time": "2024-02-07T17:33:26.425Z"
      },
      {
        "duration": 7,
        "start_time": "2024-02-07T17:33:57.504Z"
      },
      {
        "duration": 7,
        "start_time": "2024-02-07T17:35:01.360Z"
      },
      {
        "duration": 6,
        "start_time": "2024-02-07T17:35:28.617Z"
      },
      {
        "duration": 6,
        "start_time": "2024-02-07T17:35:32.738Z"
      },
      {
        "duration": 7,
        "start_time": "2024-02-07T17:35:35.689Z"
      },
      {
        "duration": 7,
        "start_time": "2024-02-07T17:35:38.136Z"
      },
      {
        "duration": 12,
        "start_time": "2024-02-07T17:36:15.985Z"
      },
      {
        "duration": 9,
        "start_time": "2024-02-07T17:36:28.009Z"
      },
      {
        "duration": 7,
        "start_time": "2024-02-07T17:36:55.249Z"
      },
      {
        "duration": 3,
        "start_time": "2024-02-07T17:40:21.568Z"
      },
      {
        "duration": 73,
        "start_time": "2024-02-07T17:40:38.576Z"
      },
      {
        "duration": 3,
        "start_time": "2024-02-07T17:40:48.529Z"
      },
      {
        "duration": 6,
        "start_time": "2024-02-07T17:45:08.410Z"
      },
      {
        "duration": 6,
        "start_time": "2024-02-07T17:45:09.721Z"
      },
      {
        "duration": 6,
        "start_time": "2024-02-07T17:45:12.025Z"
      },
      {
        "duration": 3,
        "start_time": "2024-02-07T17:47:56.705Z"
      },
      {
        "duration": 15,
        "start_time": "2024-02-07T17:47:57.641Z"
      },
      {
        "duration": 3,
        "start_time": "2024-02-07T17:48:27.225Z"
      },
      {
        "duration": 6,
        "start_time": "2024-02-07T17:48:28.601Z"
      },
      {
        "duration": 7,
        "start_time": "2024-02-07T17:48:30.314Z"
      },
      {
        "duration": 9,
        "start_time": "2024-02-07T17:48:31.688Z"
      },
      {
        "duration": 4,
        "start_time": "2024-02-07T17:49:42.250Z"
      },
      {
        "duration": 3,
        "start_time": "2024-02-07T17:51:26.770Z"
      },
      {
        "duration": 6,
        "start_time": "2024-02-07T17:57:04.640Z"
      },
      {
        "duration": 3,
        "start_time": "2024-02-07T17:57:12.232Z"
      },
      {
        "duration": 3,
        "start_time": "2024-02-07T17:58:20.432Z"
      },
      {
        "duration": 3,
        "start_time": "2024-02-07T18:00:42.986Z"
      },
      {
        "duration": 7,
        "start_time": "2024-02-07T18:00:45.201Z"
      },
      {
        "duration": 6,
        "start_time": "2024-02-07T18:00:46.378Z"
      },
      {
        "duration": 8,
        "start_time": "2024-02-07T18:00:47.473Z"
      },
      {
        "duration": 17,
        "start_time": "2024-02-08T08:22:18.783Z"
      },
      {
        "duration": 4,
        "start_time": "2024-02-08T08:22:20.566Z"
      },
      {
        "duration": 3,
        "start_time": "2024-02-08T08:22:22.270Z"
      },
      {
        "duration": 3,
        "start_time": "2024-02-08T08:22:23.854Z"
      },
      {
        "duration": 2,
        "start_time": "2024-02-08T08:22:25.206Z"
      },
      {
        "duration": 3,
        "start_time": "2024-02-08T08:22:29.134Z"
      },
      {
        "duration": 2,
        "start_time": "2024-02-08T08:22:30.062Z"
      },
      {
        "duration": 1537,
        "start_time": "2024-02-08T08:22:31.534Z"
      },
      {
        "duration": 10,
        "start_time": "2024-02-08T08:22:35.710Z"
      },
      {
        "duration": 10,
        "start_time": "2024-02-08T08:22:40.509Z"
      },
      {
        "duration": 8,
        "start_time": "2024-02-08T08:22:42.094Z"
      },
      {
        "duration": 3,
        "start_time": "2024-02-08T08:22:45.541Z"
      },
      {
        "duration": 4,
        "start_time": "2024-02-08T08:22:48.646Z"
      },
      {
        "duration": 14,
        "start_time": "2024-02-08T08:22:54.437Z"
      },
      {
        "duration": 4,
        "start_time": "2024-02-08T08:22:55.749Z"
      },
      {
        "duration": 1805,
        "start_time": "2024-02-08T08:23:16.065Z"
      },
      {
        "duration": 9,
        "start_time": "2024-02-08T08:23:19.119Z"
      },
      {
        "duration": 8,
        "start_time": "2024-02-08T08:23:20.582Z"
      },
      {
        "duration": 8,
        "start_time": "2024-02-08T08:23:24.702Z"
      },
      {
        "duration": 3,
        "start_time": "2024-02-08T08:23:27.151Z"
      },
      {
        "duration": 3,
        "start_time": "2024-02-08T08:23:28.326Z"
      },
      {
        "duration": 15,
        "start_time": "2024-02-08T08:23:35.526Z"
      },
      {
        "duration": 5,
        "start_time": "2024-02-08T08:23:41.077Z"
      },
      {
        "duration": 1780,
        "start_time": "2024-02-08T08:23:48.390Z"
      },
      {
        "duration": 20,
        "start_time": "2024-02-08T08:23:52.151Z"
      },
      {
        "duration": 10,
        "start_time": "2024-02-08T08:23:52.896Z"
      },
      {
        "duration": 4,
        "start_time": "2024-02-08T08:23:55.358Z"
      },
      {
        "duration": 4,
        "start_time": "2024-02-08T08:23:57.127Z"
      },
      {
        "duration": 3,
        "start_time": "2024-02-08T08:25:31.614Z"
      },
      {
        "duration": 4,
        "start_time": "2024-02-08T08:25:32.693Z"
      },
      {
        "duration": 4,
        "start_time": "2024-02-08T08:37:45.550Z"
      },
      {
        "duration": 3,
        "start_time": "2024-02-08T08:50:00.541Z"
      },
      {
        "duration": 8,
        "start_time": "2024-02-08T08:50:16.374Z"
      },
      {
        "duration": 15,
        "start_time": "2024-02-08T08:50:31.664Z"
      },
      {
        "duration": 12,
        "start_time": "2024-02-08T08:50:35.245Z"
      },
      {
        "duration": 7,
        "start_time": "2024-02-08T08:50:41.301Z"
      },
      {
        "duration": 7,
        "start_time": "2024-02-08T08:50:53.798Z"
      },
      {
        "duration": 11,
        "start_time": "2024-02-08T08:51:51.082Z"
      },
      {
        "duration": 3,
        "start_time": "2024-02-08T09:09:27.349Z"
      },
      {
        "duration": 5,
        "start_time": "2024-02-08T09:43:33.943Z"
      },
      {
        "duration": 5,
        "start_time": "2024-02-08T09:44:45.373Z"
      },
      {
        "duration": 1219,
        "start_time": "2024-02-08T09:45:26.301Z"
      },
      {
        "duration": 4,
        "start_time": "2024-02-08T09:46:07.677Z"
      },
      {
        "duration": 15,
        "start_time": "2024-02-08T09:46:11.933Z"
      },
      {
        "duration": 9,
        "start_time": "2024-02-08T09:47:18.582Z"
      },
      {
        "duration": 1178,
        "start_time": "2024-02-08T09:47:45.773Z"
      },
      {
        "duration": 11,
        "start_time": "2024-02-08T09:48:05.111Z"
      },
      {
        "duration": 4,
        "start_time": "2024-02-08T09:49:11.317Z"
      },
      {
        "duration": 12,
        "start_time": "2024-02-08T09:49:18.846Z"
      },
      {
        "duration": 6,
        "start_time": "2024-02-08T09:49:26.173Z"
      },
      {
        "duration": 5,
        "start_time": "2024-02-08T10:08:50.582Z"
      },
      {
        "duration": 7,
        "start_time": "2024-02-08T10:08:56.805Z"
      },
      {
        "duration": 13,
        "start_time": "2024-02-08T10:21:33.967Z"
      },
      {
        "duration": 4,
        "start_time": "2024-02-08T10:22:48.142Z"
      },
      {
        "duration": 1278,
        "start_time": "2024-02-08T10:22:49.238Z"
      },
      {
        "duration": 1260,
        "start_time": "2024-02-08T10:24:18.342Z"
      },
      {
        "duration": 1205,
        "start_time": "2024-02-08T10:24:37.526Z"
      },
      {
        "duration": 3,
        "start_time": "2024-02-08T10:31:08.214Z"
      },
      {
        "duration": 9,
        "start_time": "2024-02-08T10:31:55.262Z"
      },
      {
        "duration": 5,
        "start_time": "2024-02-08T10:40:06.232Z"
      },
      {
        "duration": 1219,
        "start_time": "2024-02-08T10:40:07.583Z"
      },
      {
        "duration": 1253,
        "start_time": "2024-02-08T10:40:13.631Z"
      },
      {
        "duration": 1296,
        "start_time": "2024-02-08T10:40:17.926Z"
      },
      {
        "duration": 1202,
        "start_time": "2024-02-08T10:40:21.822Z"
      },
      {
        "duration": 3,
        "start_time": "2024-02-08T10:41:34.214Z"
      },
      {
        "duration": 3,
        "start_time": "2024-02-08T10:41:41.959Z"
      },
      {
        "duration": 3,
        "start_time": "2024-02-08T10:41:51.431Z"
      },
      {
        "duration": 8,
        "start_time": "2024-02-08T10:41:53.725Z"
      },
      {
        "duration": 8,
        "start_time": "2024-02-08T10:42:01.527Z"
      },
      {
        "duration": 6,
        "start_time": "2024-02-08T10:42:14.095Z"
      },
      {
        "duration": 7,
        "start_time": "2024-02-08T10:42:20.262Z"
      },
      {
        "duration": 4,
        "start_time": "2024-02-08T10:43:06.751Z"
      },
      {
        "duration": 1288,
        "start_time": "2024-02-08T10:43:07.726Z"
      },
      {
        "duration": 1241,
        "start_time": "2024-02-08T10:43:11.046Z"
      },
      {
        "duration": 1258,
        "start_time": "2024-02-08T10:43:13.686Z"
      },
      {
        "duration": 6,
        "start_time": "2024-02-08T10:51:41.015Z"
      },
      {
        "duration": 6,
        "start_time": "2024-02-08T10:51:43.791Z"
      },
      {
        "duration": 5,
        "start_time": "2024-02-08T10:51:45.390Z"
      },
      {
        "duration": 4,
        "start_time": "2024-02-08T10:54:28.190Z"
      },
      {
        "duration": 1259,
        "start_time": "2024-02-08T10:59:16.527Z"
      },
      {
        "duration": 4,
        "start_time": "2024-02-08T10:59:22.118Z"
      },
      {
        "duration": 1213,
        "start_time": "2024-02-08T10:59:23.559Z"
      },
      {
        "duration": 5,
        "start_time": "2024-02-08T10:59:32.479Z"
      },
      {
        "duration": 1227,
        "start_time": "2024-02-08T10:59:33.934Z"
      },
      {
        "duration": 5,
        "start_time": "2024-02-08T10:59:58.726Z"
      },
      {
        "duration": 1241,
        "start_time": "2024-02-08T10:59:59.400Z"
      },
      {
        "duration": 1247,
        "start_time": "2024-02-08T11:00:26.838Z"
      },
      {
        "duration": 1274,
        "start_time": "2024-02-08T11:00:40.734Z"
      },
      {
        "duration": 1257,
        "start_time": "2024-02-08T11:00:55.366Z"
      },
      {
        "duration": 1233,
        "start_time": "2024-02-08T11:00:58.358Z"
      },
      {
        "duration": 1240,
        "start_time": "2024-02-08T11:01:31.295Z"
      },
      {
        "duration": 5,
        "start_time": "2024-02-08T11:02:12.936Z"
      },
      {
        "duration": 1310,
        "start_time": "2024-02-08T11:03:18.839Z"
      },
      {
        "duration": 3,
        "start_time": "2024-02-08T11:05:00.543Z"
      },
      {
        "duration": 3,
        "start_time": "2024-02-08T11:07:19.111Z"
      },
      {
        "duration": 3741,
        "start_time": "2024-02-08T11:08:40.503Z"
      },
      {
        "duration": 3634,
        "start_time": "2024-02-08T11:09:55.671Z"
      },
      {
        "duration": 3738,
        "start_time": "2024-02-08T11:10:06.775Z"
      },
      {
        "duration": 3720,
        "start_time": "2024-02-08T11:10:18.863Z"
      },
      {
        "duration": 3776,
        "start_time": "2024-02-08T11:11:31.393Z"
      },
      {
        "duration": 3689,
        "start_time": "2024-02-08T11:12:17.695Z"
      },
      {
        "duration": 3726,
        "start_time": "2024-02-08T11:12:53.111Z"
      },
      {
        "duration": 3761,
        "start_time": "2024-02-08T11:13:09.631Z"
      },
      {
        "duration": 3726,
        "start_time": "2024-02-08T11:13:26.751Z"
      },
      {
        "duration": 3697,
        "start_time": "2024-02-08T12:03:36.202Z"
      },
      {
        "duration": 5144,
        "start_time": "2024-02-08T12:16:10.438Z"
      },
      {
        "duration": 1288,
        "start_time": "2024-02-08T12:16:15.584Z"
      },
      {
        "duration": 149,
        "start_time": "2024-02-08T12:16:16.873Z"
      },
      {
        "duration": 130,
        "start_time": "2024-02-08T12:16:17.024Z"
      },
      {
        "duration": 141,
        "start_time": "2024-02-08T12:16:17.157Z"
      },
      {
        "duration": 5,
        "start_time": "2024-02-08T12:16:17.299Z"
      },
      {
        "duration": 80,
        "start_time": "2024-02-08T12:16:17.305Z"
      },
      {
        "duration": 59,
        "start_time": "2024-02-08T12:16:17.387Z"
      },
      {
        "duration": 58,
        "start_time": "2024-02-08T12:16:17.466Z"
      },
      {
        "duration": 11,
        "start_time": "2024-02-08T12:16:17.526Z"
      },
      {
        "duration": 166,
        "start_time": "2024-02-08T12:16:17.538Z"
      },
      {
        "duration": 65,
        "start_time": "2024-02-08T12:16:17.705Z"
      },
      {
        "duration": 58,
        "start_time": "2024-02-08T12:16:17.772Z"
      },
      {
        "duration": 73,
        "start_time": "2024-02-08T12:16:17.833Z"
      },
      {
        "duration": 3,
        "start_time": "2024-02-08T12:16:17.908Z"
      },
      {
        "duration": 4008,
        "start_time": "2024-02-08T12:16:17.912Z"
      },
      {
        "duration": 970,
        "start_time": "2024-02-08T12:16:21.922Z"
      },
      {
        "duration": 3,
        "start_time": "2024-02-08T12:16:22.894Z"
      },
      {
        "duration": 24,
        "start_time": "2024-02-08T12:16:22.899Z"
      },
      {
        "duration": 5,
        "start_time": "2024-02-08T12:16:22.925Z"
      },
      {
        "duration": 17,
        "start_time": "2024-02-08T12:16:22.933Z"
      },
      {
        "duration": 12,
        "start_time": "2024-02-08T12:16:22.952Z"
      },
      {
        "duration": 12,
        "start_time": "2024-02-08T12:16:22.966Z"
      },
      {
        "duration": 5,
        "start_time": "2024-02-08T12:16:22.979Z"
      },
      {
        "duration": 6,
        "start_time": "2024-02-08T12:16:22.985Z"
      },
      {
        "duration": 1697,
        "start_time": "2024-02-08T12:16:22.993Z"
      },
      {
        "duration": 15,
        "start_time": "2024-02-08T12:16:24.766Z"
      },
      {
        "duration": 10,
        "start_time": "2024-02-08T12:16:24.784Z"
      },
      {
        "duration": 168,
        "start_time": "2024-02-08T12:16:24.797Z"
      },
      {
        "duration": 5,
        "start_time": "2024-02-08T12:16:24.967Z"
      },
      {
        "duration": 18,
        "start_time": "2024-02-08T12:16:24.974Z"
      },
      {
        "duration": 37,
        "start_time": "2024-02-08T12:16:24.994Z"
      },
      {
        "duration": 14,
        "start_time": "2024-02-08T12:16:25.033Z"
      },
      {
        "duration": 1830,
        "start_time": "2024-02-08T12:16:25.049Z"
      },
      {
        "duration": 9,
        "start_time": "2024-02-08T12:16:26.965Z"
      },
      {
        "duration": 95,
        "start_time": "2024-02-08T12:16:26.977Z"
      },
      {
        "duration": 95,
        "start_time": "2024-02-08T12:16:27.075Z"
      },
      {
        "duration": 5,
        "start_time": "2024-02-08T12:16:27.172Z"
      },
      {
        "duration": 16,
        "start_time": "2024-02-08T12:16:27.179Z"
      },
      {
        "duration": 4,
        "start_time": "2024-02-08T12:16:27.197Z"
      },
      {
        "duration": 1865,
        "start_time": "2024-02-08T12:16:27.204Z"
      },
      {
        "duration": 9,
        "start_time": "2024-02-08T12:16:29.070Z"
      },
      {
        "duration": 90,
        "start_time": "2024-02-08T12:16:29.081Z"
      },
      {
        "duration": 91,
        "start_time": "2024-02-08T12:16:29.174Z"
      },
      {
        "duration": 7,
        "start_time": "2024-02-08T12:16:29.267Z"
      },
      {
        "duration": 4,
        "start_time": "2024-02-08T12:16:29.276Z"
      },
      {
        "duration": 6,
        "start_time": "2024-02-08T12:16:29.282Z"
      },
      {
        "duration": 12,
        "start_time": "2024-02-08T12:16:29.289Z"
      },
      {
        "duration": 9,
        "start_time": "2024-02-08T12:16:29.303Z"
      },
      {
        "duration": 15,
        "start_time": "2024-02-08T12:16:29.314Z"
      },
      {
        "duration": 10,
        "start_time": "2024-02-08T12:16:29.331Z"
      },
      {
        "duration": 23,
        "start_time": "2024-02-08T12:16:29.343Z"
      },
      {
        "duration": 7,
        "start_time": "2024-02-08T12:16:29.367Z"
      },
      {
        "duration": 3728,
        "start_time": "2024-02-08T12:16:29.375Z"
      },
      {
        "duration": 5210,
        "start_time": "2024-02-08T12:18:19.977Z"
      },
      {
        "duration": 1203,
        "start_time": "2024-02-08T12:18:25.189Z"
      },
      {
        "duration": 139,
        "start_time": "2024-02-08T12:18:26.393Z"
      },
      {
        "duration": 124,
        "start_time": "2024-02-08T12:18:26.534Z"
      },
      {
        "duration": 129,
        "start_time": "2024-02-08T12:18:26.660Z"
      },
      {
        "duration": 5,
        "start_time": "2024-02-08T12:18:26.790Z"
      },
      {
        "duration": 85,
        "start_time": "2024-02-08T12:18:26.797Z"
      },
      {
        "duration": 60,
        "start_time": "2024-02-08T12:18:26.883Z"
      },
      {
        "duration": 74,
        "start_time": "2024-02-08T12:18:26.944Z"
      },
      {
        "duration": 11,
        "start_time": "2024-02-08T12:18:27.020Z"
      },
      {
        "duration": 158,
        "start_time": "2024-02-08T12:18:27.033Z"
      },
      {
        "duration": 60,
        "start_time": "2024-02-08T12:18:27.192Z"
      },
      {
        "duration": 67,
        "start_time": "2024-02-08T12:18:27.265Z"
      },
      {
        "duration": 70,
        "start_time": "2024-02-08T12:18:27.336Z"
      },
      {
        "duration": 4,
        "start_time": "2024-02-08T12:18:27.407Z"
      },
      {
        "duration": 4101,
        "start_time": "2024-02-08T12:18:27.412Z"
      },
      {
        "duration": 957,
        "start_time": "2024-02-08T12:18:31.515Z"
      },
      {
        "duration": 4,
        "start_time": "2024-02-08T12:18:32.473Z"
      },
      {
        "duration": 21,
        "start_time": "2024-02-08T12:18:32.479Z"
      },
      {
        "duration": 5,
        "start_time": "2024-02-08T12:18:32.502Z"
      },
      {
        "duration": 15,
        "start_time": "2024-02-08T12:18:32.508Z"
      },
      {
        "duration": 10,
        "start_time": "2024-02-08T12:18:32.525Z"
      },
      {
        "duration": 25,
        "start_time": "2024-02-08T12:18:32.537Z"
      },
      {
        "duration": 15,
        "start_time": "2024-02-08T12:18:32.564Z"
      },
      {
        "duration": 28,
        "start_time": "2024-02-08T12:18:32.581Z"
      },
      {
        "duration": 1862,
        "start_time": "2024-02-08T12:18:32.611Z"
      },
      {
        "duration": 12,
        "start_time": "2024-02-08T12:18:34.475Z"
      },
      {
        "duration": 77,
        "start_time": "2024-02-08T12:18:34.488Z"
      },
      {
        "duration": 99,
        "start_time": "2024-02-08T12:18:34.567Z"
      },
      {
        "duration": 4,
        "start_time": "2024-02-08T12:18:34.668Z"
      },
      {
        "duration": 6,
        "start_time": "2024-02-08T12:18:34.674Z"
      },
      {
        "duration": 19,
        "start_time": "2024-02-08T12:18:34.682Z"
      },
      {
        "duration": 5,
        "start_time": "2024-02-08T12:18:34.703Z"
      },
      {
        "duration": 1568,
        "start_time": "2024-02-08T12:18:34.709Z"
      },
      {
        "duration": 8,
        "start_time": "2024-02-08T12:18:36.366Z"
      },
      {
        "duration": 95,
        "start_time": "2024-02-08T12:18:36.379Z"
      },
      {
        "duration": 90,
        "start_time": "2024-02-08T12:18:36.476Z"
      },
      {
        "duration": 4,
        "start_time": "2024-02-08T12:18:36.567Z"
      },
      {
        "duration": 15,
        "start_time": "2024-02-08T12:18:36.572Z"
      },
      {
        "duration": 4,
        "start_time": "2024-02-08T12:18:36.589Z"
      },
      {
        "duration": 1670,
        "start_time": "2024-02-08T12:18:36.596Z"
      },
      {
        "duration": 10,
        "start_time": "2024-02-08T12:18:38.269Z"
      },
      {
        "duration": 99,
        "start_time": "2024-02-08T12:18:38.367Z"
      },
      {
        "duration": 8,
        "start_time": "2024-02-08T12:18:38.469Z"
      },
      {
        "duration": 4,
        "start_time": "2024-02-08T12:18:38.478Z"
      },
      {
        "duration": 4,
        "start_time": "2024-02-08T12:18:38.484Z"
      },
      {
        "duration": 4,
        "start_time": "2024-02-08T12:18:38.489Z"
      },
      {
        "duration": 3,
        "start_time": "2024-02-08T12:18:38.495Z"
      },
      {
        "duration": 12,
        "start_time": "2024-02-08T12:18:38.500Z"
      },
      {
        "duration": 7,
        "start_time": "2024-02-08T12:18:38.514Z"
      },
      {
        "duration": 43,
        "start_time": "2024-02-08T12:18:38.522Z"
      },
      {
        "duration": 6,
        "start_time": "2024-02-08T12:18:38.568Z"
      },
      {
        "duration": 4,
        "start_time": "2024-02-08T12:18:38.576Z"
      },
      {
        "duration": 3676,
        "start_time": "2024-02-08T12:18:38.582Z"
      },
      {
        "duration": 5410,
        "start_time": "2024-02-09T13:19:21.366Z"
      },
      {
        "duration": 5223,
        "start_time": "2024-02-09T13:22:50.146Z"
      },
      {
        "duration": 5539,
        "start_time": "2024-02-09T13:23:52.025Z"
      },
      {
        "duration": 142,
        "start_time": "2024-02-09T13:25:16.899Z"
      },
      {
        "duration": 91,
        "start_time": "2024-02-09T13:25:26.169Z"
      },
      {
        "duration": 123,
        "start_time": "2024-02-09T13:25:38.553Z"
      },
      {
        "duration": 77,
        "start_time": "2024-02-09T13:25:57.770Z"
      },
      {
        "duration": 5268,
        "start_time": "2024-02-09T13:26:01.106Z"
      },
      {
        "duration": 5177,
        "start_time": "2024-02-09T13:26:39.602Z"
      },
      {
        "duration": 5657,
        "start_time": "2024-02-09T13:27:13.017Z"
      },
      {
        "duration": 5561,
        "start_time": "2024-02-09T13:27:49.818Z"
      },
      {
        "duration": 5629,
        "start_time": "2024-02-09T13:28:45.737Z"
      },
      {
        "duration": 5735,
        "start_time": "2024-02-09T13:29:25.442Z"
      },
      {
        "duration": 5449,
        "start_time": "2024-02-09T13:30:10.337Z"
      },
      {
        "duration": 5495,
        "start_time": "2024-02-09T13:30:30.177Z"
      },
      {
        "duration": 3,
        "start_time": "2024-02-09T14:11:13.715Z"
      },
      {
        "duration": 5124,
        "start_time": "2024-02-09T14:12:00.862Z"
      },
      {
        "duration": 1193,
        "start_time": "2024-02-09T14:12:05.989Z"
      },
      {
        "duration": 143,
        "start_time": "2024-02-09T14:12:07.184Z"
      },
      {
        "duration": 124,
        "start_time": "2024-02-09T14:12:07.328Z"
      },
      {
        "duration": 129,
        "start_time": "2024-02-09T14:12:07.454Z"
      },
      {
        "duration": 5,
        "start_time": "2024-02-09T14:12:07.585Z"
      },
      {
        "duration": 90,
        "start_time": "2024-02-09T14:12:07.592Z"
      },
      {
        "duration": 58,
        "start_time": "2024-02-09T14:12:07.683Z"
      },
      {
        "duration": 84,
        "start_time": "2024-02-09T14:12:07.743Z"
      },
      {
        "duration": 11,
        "start_time": "2024-02-09T14:12:07.828Z"
      },
      {
        "duration": 146,
        "start_time": "2024-02-09T14:12:07.840Z"
      },
      {
        "duration": 58,
        "start_time": "2024-02-09T14:12:07.987Z"
      },
      {
        "duration": 82,
        "start_time": "2024-02-09T14:12:08.046Z"
      },
      {
        "duration": 76,
        "start_time": "2024-02-09T14:12:08.132Z"
      },
      {
        "duration": 4,
        "start_time": "2024-02-09T14:12:08.210Z"
      },
      {
        "duration": 4128,
        "start_time": "2024-02-09T14:12:08.216Z"
      },
      {
        "duration": 953,
        "start_time": "2024-02-09T14:12:12.346Z"
      },
      {
        "duration": 4,
        "start_time": "2024-02-09T14:12:13.301Z"
      },
      {
        "duration": 40,
        "start_time": "2024-02-09T14:12:13.306Z"
      },
      {
        "duration": 19,
        "start_time": "2024-02-09T14:12:13.348Z"
      },
      {
        "duration": 16,
        "start_time": "2024-02-09T14:12:13.369Z"
      },
      {
        "duration": 29,
        "start_time": "2024-02-09T14:12:13.387Z"
      },
      {
        "duration": 29,
        "start_time": "2024-02-09T14:12:13.417Z"
      },
      {
        "duration": 13,
        "start_time": "2024-02-09T14:12:13.448Z"
      },
      {
        "duration": 32,
        "start_time": "2024-02-09T14:12:13.463Z"
      },
      {
        "duration": 28,
        "start_time": "2024-02-09T14:12:13.497Z"
      },
      {
        "duration": 1849,
        "start_time": "2024-02-09T14:12:13.528Z"
      },
      {
        "duration": 92,
        "start_time": "2024-02-09T14:12:15.379Z"
      },
      {
        "duration": 24,
        "start_time": "2024-02-09T14:12:15.472Z"
      },
      {
        "duration": 175,
        "start_time": "2024-02-09T14:12:15.499Z"
      },
      {
        "duration": 33,
        "start_time": "2024-02-09T14:12:15.676Z"
      },
      {
        "duration": 47,
        "start_time": "2024-02-09T14:12:15.710Z"
      },
      {
        "duration": 38,
        "start_time": "2024-02-09T14:12:15.758Z"
      },
      {
        "duration": 52,
        "start_time": "2024-02-09T14:12:15.798Z"
      },
      {
        "duration": 2013,
        "start_time": "2024-02-09T14:12:15.853Z"
      },
      {
        "duration": 7,
        "start_time": "2024-02-09T14:12:17.868Z"
      },
      {
        "duration": 190,
        "start_time": "2024-02-09T14:12:17.877Z"
      },
      {
        "duration": 6,
        "start_time": "2024-02-09T14:12:18.069Z"
      },
      {
        "duration": 12,
        "start_time": "2024-02-09T14:12:18.076Z"
      },
      {
        "duration": 19,
        "start_time": "2024-02-09T14:12:18.090Z"
      },
      {
        "duration": 3,
        "start_time": "2024-02-09T14:12:18.114Z"
      },
      {
        "duration": 2047,
        "start_time": "2024-02-09T14:12:18.119Z"
      },
      {
        "duration": 7,
        "start_time": "2024-02-09T14:12:20.167Z"
      },
      {
        "duration": 191,
        "start_time": "2024-02-09T14:12:20.180Z"
      },
      {
        "duration": 6,
        "start_time": "2024-02-09T14:12:20.372Z"
      },
      {
        "duration": 26,
        "start_time": "2024-02-09T14:12:20.379Z"
      },
      {
        "duration": 17,
        "start_time": "2024-02-09T14:12:20.407Z"
      },
      {
        "duration": 27,
        "start_time": "2024-02-09T14:12:20.425Z"
      },
      {
        "duration": 25,
        "start_time": "2024-02-09T14:12:20.454Z"
      },
      {
        "duration": 16,
        "start_time": "2024-02-09T14:12:20.481Z"
      },
      {
        "duration": 25,
        "start_time": "2024-02-09T14:12:20.499Z"
      },
      {
        "duration": 20,
        "start_time": "2024-02-09T14:12:20.526Z"
      },
      {
        "duration": 11,
        "start_time": "2024-02-09T14:12:20.548Z"
      },
      {
        "duration": 27,
        "start_time": "2024-02-09T14:12:20.561Z"
      },
      {
        "duration": 3605,
        "start_time": "2024-02-09T14:12:20.589Z"
      },
      {
        "duration": 2,
        "start_time": "2024-02-09T14:25:13.051Z"
      },
      {
        "duration": 2303,
        "start_time": "2024-02-09T14:29:33.769Z"
      },
      {
        "duration": 5518,
        "start_time": "2024-02-09T14:29:45.258Z"
      },
      {
        "duration": 11,
        "start_time": "2024-02-09T14:30:25.506Z"
      },
      {
        "duration": 9,
        "start_time": "2024-02-09T14:31:49.466Z"
      },
      {
        "duration": 11,
        "start_time": "2024-02-09T14:32:18.715Z"
      },
      {
        "duration": 5309,
        "start_time": "2024-02-09T14:32:41.866Z"
      },
      {
        "duration": 5088,
        "start_time": "2024-02-09T14:33:16.607Z"
      },
      {
        "duration": 1189,
        "start_time": "2024-02-09T14:33:21.697Z"
      },
      {
        "duration": 146,
        "start_time": "2024-02-09T14:33:22.887Z"
      },
      {
        "duration": 126,
        "start_time": "2024-02-09T14:33:23.034Z"
      },
      {
        "duration": 128,
        "start_time": "2024-02-09T14:33:23.164Z"
      },
      {
        "duration": 6,
        "start_time": "2024-02-09T14:33:23.293Z"
      },
      {
        "duration": 94,
        "start_time": "2024-02-09T14:33:23.301Z"
      },
      {
        "duration": 77,
        "start_time": "2024-02-09T14:33:23.397Z"
      },
      {
        "duration": 61,
        "start_time": "2024-02-09T14:33:23.476Z"
      },
      {
        "duration": 33,
        "start_time": "2024-02-09T14:33:23.539Z"
      },
      {
        "duration": 144,
        "start_time": "2024-02-09T14:33:23.573Z"
      },
      {
        "duration": 63,
        "start_time": "2024-02-09T14:33:23.719Z"
      },
      {
        "duration": 59,
        "start_time": "2024-02-09T14:33:23.783Z"
      },
      {
        "duration": 63,
        "start_time": "2024-02-09T14:33:23.845Z"
      },
      {
        "duration": 3,
        "start_time": "2024-02-09T14:33:23.910Z"
      },
      {
        "duration": 3868,
        "start_time": "2024-02-09T14:33:23.915Z"
      },
      {
        "duration": 896,
        "start_time": "2024-02-09T14:33:27.785Z"
      },
      {
        "duration": 3,
        "start_time": "2024-02-09T14:33:28.683Z"
      },
      {
        "duration": 20,
        "start_time": "2024-02-09T14:33:28.688Z"
      },
      {
        "duration": 4,
        "start_time": "2024-02-09T14:33:28.710Z"
      },
      {
        "duration": 6,
        "start_time": "2024-02-09T14:33:28.716Z"
      },
      {
        "duration": 8,
        "start_time": "2024-02-09T14:33:28.723Z"
      },
      {
        "duration": 6,
        "start_time": "2024-02-09T14:33:28.732Z"
      },
      {
        "duration": 9,
        "start_time": "2024-02-09T14:33:28.739Z"
      },
      {
        "duration": 16,
        "start_time": "2024-02-09T14:33:28.749Z"
      },
      {
        "duration": 1914,
        "start_time": "2024-02-09T14:33:28.766Z"
      },
      {
        "duration": 90,
        "start_time": "2024-02-09T14:33:30.681Z"
      },
      {
        "duration": 85,
        "start_time": "2024-02-09T14:33:30.772Z"
      },
      {
        "duration": 114,
        "start_time": "2024-02-09T14:33:30.866Z"
      },
      {
        "duration": 114,
        "start_time": "2024-02-09T14:33:30.981Z"
      },
      {
        "duration": 63,
        "start_time": "2024-02-09T14:33:31.097Z"
      },
      {
        "duration": 52,
        "start_time": "2024-02-09T14:33:31.161Z"
      },
      {
        "duration": 32,
        "start_time": "2024-02-09T14:33:31.214Z"
      },
      {
        "duration": 1921,
        "start_time": "2024-02-09T14:33:31.248Z"
      },
      {
        "duration": 7,
        "start_time": "2024-02-09T14:33:33.171Z"
      },
      {
        "duration": 94,
        "start_time": "2024-02-09T14:33:33.180Z"
      },
      {
        "duration": 4,
        "start_time": "2024-02-09T14:33:33.366Z"
      },
      {
        "duration": 4,
        "start_time": "2024-02-09T14:33:33.371Z"
      },
      {
        "duration": 15,
        "start_time": "2024-02-09T14:33:33.377Z"
      },
      {
        "duration": 4,
        "start_time": "2024-02-09T14:33:33.394Z"
      },
      {
        "duration": 1964,
        "start_time": "2024-02-09T14:33:33.401Z"
      },
      {
        "duration": 6,
        "start_time": "2024-02-09T14:33:35.367Z"
      },
      {
        "duration": 92,
        "start_time": "2024-02-09T14:33:35.376Z"
      },
      {
        "duration": 4,
        "start_time": "2024-02-09T14:33:35.470Z"
      },
      {
        "duration": 4,
        "start_time": "2024-02-09T14:33:35.565Z"
      },
      {
        "duration": 7,
        "start_time": "2024-02-09T14:33:35.570Z"
      },
      {
        "duration": 4,
        "start_time": "2024-02-09T14:33:35.579Z"
      },
      {
        "duration": 5587,
        "start_time": "2024-02-09T14:33:35.584Z"
      },
      {
        "duration": 100,
        "start_time": "2024-02-09T14:33:41.173Z"
      },
      {
        "duration": 8,
        "start_time": "2024-02-09T14:33:41.274Z"
      },
      {
        "duration": 7,
        "start_time": "2024-02-09T14:33:41.283Z"
      },
      {
        "duration": 3,
        "start_time": "2024-02-09T14:33:41.291Z"
      },
      {
        "duration": 7,
        "start_time": "2024-02-09T14:33:41.296Z"
      },
      {
        "duration": 7,
        "start_time": "2024-02-09T14:33:41.304Z"
      },
      {
        "duration": 6,
        "start_time": "2024-02-09T14:33:41.312Z"
      },
      {
        "duration": 4,
        "start_time": "2024-02-09T14:33:41.319Z"
      },
      {
        "duration": 10,
        "start_time": "2024-02-09T14:33:41.324Z"
      },
      {
        "duration": 3721,
        "start_time": "2024-02-09T14:33:41.335Z"
      },
      {
        "duration": 5511,
        "start_time": "2024-02-09T15:18:47.964Z"
      },
      {
        "duration": 3,
        "start_time": "2024-02-09T15:23:29.986Z"
      },
      {
        "duration": 4,
        "start_time": "2024-02-09T15:23:50.705Z"
      },
      {
        "duration": 3,
        "start_time": "2024-02-09T15:23:52.345Z"
      },
      {
        "duration": 3,
        "start_time": "2024-02-09T15:24:28.680Z"
      },
      {
        "duration": 4,
        "start_time": "2024-02-09T15:25:22.457Z"
      },
      {
        "duration": 5426,
        "start_time": "2024-02-09T15:48:45.946Z"
      },
      {
        "duration": 11,
        "start_time": "2024-02-09T15:48:55.192Z"
      },
      {
        "duration": 3,
        "start_time": "2024-02-09T15:53:01.753Z"
      },
      {
        "duration": 3,
        "start_time": "2024-02-09T15:53:06.529Z"
      },
      {
        "duration": 4,
        "start_time": "2024-02-09T15:53:10.130Z"
      },
      {
        "duration": 7,
        "start_time": "2024-02-09T15:53:12.706Z"
      },
      {
        "duration": 6,
        "start_time": "2024-02-09T15:53:13.946Z"
      },
      {
        "duration": 7,
        "start_time": "2024-02-09T15:53:15.457Z"
      },
      {
        "duration": 16,
        "start_time": "2024-02-09T15:57:47.583Z"
      },
      {
        "duration": 14,
        "start_time": "2024-02-09T15:58:12.210Z"
      },
      {
        "duration": 13,
        "start_time": "2024-02-09T15:58:26.402Z"
      },
      {
        "duration": 18,
        "start_time": "2024-02-09T15:58:33.361Z"
      },
      {
        "duration": 5283,
        "start_time": "2024-02-09T16:11:03.586Z"
      },
      {
        "duration": 12,
        "start_time": "2024-02-09T16:11:16.546Z"
      },
      {
        "duration": 17,
        "start_time": "2024-02-09T16:11:24.409Z"
      },
      {
        "duration": 4973,
        "start_time": "2024-02-09T16:17:03.191Z"
      },
      {
        "duration": 1204,
        "start_time": "2024-02-09T16:17:08.167Z"
      },
      {
        "duration": 147,
        "start_time": "2024-02-09T16:17:09.372Z"
      },
      {
        "duration": 132,
        "start_time": "2024-02-09T16:17:09.521Z"
      },
      {
        "duration": 133,
        "start_time": "2024-02-09T16:17:09.655Z"
      },
      {
        "duration": 5,
        "start_time": "2024-02-09T16:17:09.790Z"
      },
      {
        "duration": 88,
        "start_time": "2024-02-09T16:17:09.797Z"
      },
      {
        "duration": 57,
        "start_time": "2024-02-09T16:17:09.887Z"
      },
      {
        "duration": 75,
        "start_time": "2024-02-09T16:17:09.946Z"
      },
      {
        "duration": 11,
        "start_time": "2024-02-09T16:17:10.023Z"
      },
      {
        "duration": 143,
        "start_time": "2024-02-09T16:17:10.035Z"
      },
      {
        "duration": 48,
        "start_time": "2024-02-09T16:17:10.179Z"
      },
      {
        "duration": 75,
        "start_time": "2024-02-09T16:17:10.229Z"
      },
      {
        "duration": 60,
        "start_time": "2024-02-09T16:17:10.305Z"
      },
      {
        "duration": 4,
        "start_time": "2024-02-09T16:17:10.366Z"
      },
      {
        "duration": 3786,
        "start_time": "2024-02-09T16:17:10.372Z"
      },
      {
        "duration": 893,
        "start_time": "2024-02-09T16:17:14.160Z"
      },
      {
        "duration": 10,
        "start_time": "2024-02-09T16:17:15.055Z"
      },
      {
        "duration": 17,
        "start_time": "2024-02-09T16:17:15.066Z"
      },
      {
        "duration": 12,
        "start_time": "2024-02-09T16:17:15.084Z"
      },
      {
        "duration": 106,
        "start_time": "2024-02-09T16:17:15.097Z"
      },
      {
        "duration": 0,
        "start_time": "2024-02-09T16:17:15.205Z"
      },
      {
        "duration": 0,
        "start_time": "2024-02-09T16:17:15.206Z"
      },
      {
        "duration": 0,
        "start_time": "2024-02-09T16:17:15.207Z"
      },
      {
        "duration": 0,
        "start_time": "2024-02-09T16:17:15.208Z"
      },
      {
        "duration": 0,
        "start_time": "2024-02-09T16:17:15.209Z"
      },
      {
        "duration": 0,
        "start_time": "2024-02-09T16:17:15.210Z"
      },
      {
        "duration": 0,
        "start_time": "2024-02-09T16:17:15.211Z"
      },
      {
        "duration": 0,
        "start_time": "2024-02-09T16:17:15.212Z"
      },
      {
        "duration": 0,
        "start_time": "2024-02-09T16:17:15.213Z"
      },
      {
        "duration": 0,
        "start_time": "2024-02-09T16:17:15.214Z"
      },
      {
        "duration": 0,
        "start_time": "2024-02-09T16:17:15.215Z"
      },
      {
        "duration": 0,
        "start_time": "2024-02-09T16:17:15.216Z"
      },
      {
        "duration": 0,
        "start_time": "2024-02-09T16:17:15.217Z"
      },
      {
        "duration": 0,
        "start_time": "2024-02-09T16:17:15.218Z"
      },
      {
        "duration": 0,
        "start_time": "2024-02-09T16:17:15.219Z"
      },
      {
        "duration": 0,
        "start_time": "2024-02-09T16:17:15.220Z"
      },
      {
        "duration": 0,
        "start_time": "2024-02-09T16:17:15.220Z"
      },
      {
        "duration": 0,
        "start_time": "2024-02-09T16:17:15.222Z"
      },
      {
        "duration": 0,
        "start_time": "2024-02-09T16:17:15.222Z"
      },
      {
        "duration": 0,
        "start_time": "2024-02-09T16:17:15.223Z"
      },
      {
        "duration": 0,
        "start_time": "2024-02-09T16:17:15.224Z"
      },
      {
        "duration": 0,
        "start_time": "2024-02-09T16:17:15.225Z"
      },
      {
        "duration": 0,
        "start_time": "2024-02-09T16:17:15.226Z"
      },
      {
        "duration": 0,
        "start_time": "2024-02-09T16:17:15.227Z"
      },
      {
        "duration": 0,
        "start_time": "2024-02-09T16:17:15.228Z"
      },
      {
        "duration": 0,
        "start_time": "2024-02-09T16:17:15.266Z"
      },
      {
        "duration": 0,
        "start_time": "2024-02-09T16:17:15.267Z"
      },
      {
        "duration": 0,
        "start_time": "2024-02-09T16:17:15.268Z"
      },
      {
        "duration": 0,
        "start_time": "2024-02-09T16:17:15.268Z"
      },
      {
        "duration": 0,
        "start_time": "2024-02-09T16:17:15.269Z"
      },
      {
        "duration": 0,
        "start_time": "2024-02-09T16:17:15.270Z"
      },
      {
        "duration": 0,
        "start_time": "2024-02-09T16:17:15.271Z"
      },
      {
        "duration": 0,
        "start_time": "2024-02-09T16:17:15.273Z"
      },
      {
        "duration": 0,
        "start_time": "2024-02-09T16:17:15.273Z"
      },
      {
        "duration": 0,
        "start_time": "2024-02-09T16:17:15.275Z"
      },
      {
        "duration": 0,
        "start_time": "2024-02-09T16:17:15.275Z"
      },
      {
        "duration": 77,
        "start_time": "2024-02-09T16:54:42.228Z"
      },
      {
        "duration": 11,
        "start_time": "2024-02-09T16:55:31.987Z"
      },
      {
        "duration": 36,
        "start_time": "2024-02-09T16:56:23.907Z"
      },
      {
        "duration": 3,
        "start_time": "2024-02-09T16:56:31.139Z"
      },
      {
        "duration": 2,
        "start_time": "2024-02-09T16:56:36.075Z"
      },
      {
        "duration": 3,
        "start_time": "2024-02-09T16:56:37.082Z"
      },
      {
        "duration": 3,
        "start_time": "2024-02-09T16:56:41.066Z"
      },
      {
        "duration": 3,
        "start_time": "2024-02-09T16:56:41.907Z"
      },
      {
        "duration": 32,
        "start_time": "2024-02-09T16:57:02.810Z"
      },
      {
        "duration": 32,
        "start_time": "2024-02-09T16:57:42.618Z"
      },
      {
        "duration": 74,
        "start_time": "2024-02-09T16:57:54.683Z"
      },
      {
        "duration": 82,
        "start_time": "2024-02-09T16:58:00.211Z"
      },
      {
        "duration": 63,
        "start_time": "2024-02-09T16:59:52.595Z"
      },
      {
        "duration": 33,
        "start_time": "2024-02-09T17:00:02.834Z"
      },
      {
        "duration": 74,
        "start_time": "2024-02-09T17:00:36.987Z"
      },
      {
        "duration": 39,
        "start_time": "2024-02-09T17:02:14.379Z"
      },
      {
        "duration": 31,
        "start_time": "2024-02-09T17:02:23.402Z"
      },
      {
        "duration": 29,
        "start_time": "2024-02-09T17:02:32.736Z"
      },
      {
        "duration": 29,
        "start_time": "2024-02-09T17:02:35.348Z"
      },
      {
        "duration": 2,
        "start_time": "2024-02-09T17:02:53.475Z"
      },
      {
        "duration": 2,
        "start_time": "2024-02-09T17:02:54.315Z"
      },
      {
        "duration": 3,
        "start_time": "2024-02-09T17:02:56.074Z"
      },
      {
        "duration": 3,
        "start_time": "2024-02-09T17:02:59.114Z"
      },
      {
        "duration": 3,
        "start_time": "2024-02-09T17:03:00.274Z"
      },
      {
        "duration": 5139,
        "start_time": "2024-02-09T17:03:29.626Z"
      },
      {
        "duration": 5158,
        "start_time": "2024-02-09T17:03:40.322Z"
      },
      {
        "duration": 5488,
        "start_time": "2024-02-09T17:04:24.977Z"
      },
      {
        "duration": 5350,
        "start_time": "2024-02-09T17:04:31.931Z"
      },
      {
        "duration": 12,
        "start_time": "2024-02-09T17:07:04.626Z"
      },
      {
        "duration": 7,
        "start_time": "2024-02-09T17:08:32.419Z"
      },
      {
        "duration": 6,
        "start_time": "2024-02-09T17:08:46.850Z"
      },
      {
        "duration": 7,
        "start_time": "2024-02-09T17:08:57.586Z"
      },
      {
        "duration": 18,
        "start_time": "2024-02-09T17:12:47.929Z"
      },
      {
        "duration": 17,
        "start_time": "2024-02-09T17:13:03.323Z"
      },
      {
        "duration": 17,
        "start_time": "2024-02-09T17:13:07.275Z"
      },
      {
        "duration": 19,
        "start_time": "2024-02-09T17:13:13.378Z"
      },
      {
        "duration": 18,
        "start_time": "2024-02-09T17:13:19.900Z"
      },
      {
        "duration": 17,
        "start_time": "2024-02-09T17:13:22.989Z"
      },
      {
        "duration": 74,
        "start_time": "2024-02-09T17:13:37.066Z"
      },
      {
        "duration": 16,
        "start_time": "2024-02-09T17:13:48.075Z"
      },
      {
        "duration": 5085,
        "start_time": "2024-02-09T17:51:58.452Z"
      },
      {
        "duration": 1195,
        "start_time": "2024-02-09T17:52:03.540Z"
      },
      {
        "duration": 141,
        "start_time": "2024-02-09T17:52:04.737Z"
      },
      {
        "duration": 120,
        "start_time": "2024-02-09T17:52:04.880Z"
      },
      {
        "duration": 120,
        "start_time": "2024-02-09T17:52:05.002Z"
      },
      {
        "duration": 4,
        "start_time": "2024-02-09T17:52:05.123Z"
      },
      {
        "duration": 68,
        "start_time": "2024-02-09T17:52:05.129Z"
      },
      {
        "duration": 70,
        "start_time": "2024-02-09T17:52:05.199Z"
      },
      {
        "duration": 58,
        "start_time": "2024-02-09T17:52:05.271Z"
      },
      {
        "duration": 35,
        "start_time": "2024-02-09T17:52:05.331Z"
      },
      {
        "duration": 143,
        "start_time": "2024-02-09T17:52:05.367Z"
      },
      {
        "duration": 68,
        "start_time": "2024-02-09T17:52:05.512Z"
      },
      {
        "duration": 58,
        "start_time": "2024-02-09T17:52:05.581Z"
      },
      {
        "duration": 62,
        "start_time": "2024-02-09T17:52:05.640Z"
      },
      {
        "duration": 4,
        "start_time": "2024-02-09T17:52:05.703Z"
      },
      {
        "duration": 3857,
        "start_time": "2024-02-09T17:52:05.708Z"
      },
      {
        "duration": 904,
        "start_time": "2024-02-09T17:52:09.566Z"
      },
      {
        "duration": 3,
        "start_time": "2024-02-09T17:52:10.472Z"
      },
      {
        "duration": 35,
        "start_time": "2024-02-09T17:52:10.477Z"
      },
      {
        "duration": 3,
        "start_time": "2024-02-09T17:52:10.513Z"
      },
      {
        "duration": 6,
        "start_time": "2024-02-09T17:52:10.518Z"
      },
      {
        "duration": 6,
        "start_time": "2024-02-09T17:52:10.525Z"
      },
      {
        "duration": 9,
        "start_time": "2024-02-09T17:52:10.533Z"
      },
      {
        "duration": 23,
        "start_time": "2024-02-09T17:52:10.544Z"
      },
      {
        "duration": 3,
        "start_time": "2024-02-09T17:52:10.569Z"
      },
      {
        "duration": 2,
        "start_time": "2024-02-09T17:52:10.574Z"
      },
      {
        "duration": 3,
        "start_time": "2024-02-09T17:52:10.577Z"
      },
      {
        "duration": 3,
        "start_time": "2024-02-09T17:52:10.583Z"
      },
      {
        "duration": 4,
        "start_time": "2024-02-09T17:52:10.587Z"
      },
      {
        "duration": 4,
        "start_time": "2024-02-09T17:52:10.593Z"
      },
      {
        "duration": 8,
        "start_time": "2024-02-09T17:52:10.598Z"
      },
      {
        "duration": 5,
        "start_time": "2024-02-09T17:52:10.608Z"
      },
      {
        "duration": 13,
        "start_time": "2024-02-09T17:52:10.614Z"
      },
      {
        "duration": 8,
        "start_time": "2024-02-09T17:52:10.628Z"
      },
      {
        "duration": 4,
        "start_time": "2024-02-09T17:52:10.637Z"
      },
      {
        "duration": 3,
        "start_time": "2024-02-09T17:52:10.642Z"
      },
      {
        "duration": 19,
        "start_time": "2024-02-09T17:52:10.646Z"
      },
      {
        "duration": 3,
        "start_time": "2024-02-09T17:52:10.666Z"
      },
      {
        "duration": 3,
        "start_time": "2024-02-09T17:52:10.671Z"
      },
      {
        "duration": 8,
        "start_time": "2024-02-09T17:52:10.676Z"
      },
      {
        "duration": 4,
        "start_time": "2024-02-09T17:52:10.685Z"
      },
      {
        "duration": 11,
        "start_time": "2024-02-09T17:52:10.691Z"
      },
      {
        "duration": 4,
        "start_time": "2024-02-09T17:52:10.703Z"
      },
      {
        "duration": 3,
        "start_time": "2024-02-09T17:52:10.708Z"
      },
      {
        "duration": 4,
        "start_time": "2024-02-09T17:52:10.713Z"
      },
      {
        "duration": 4,
        "start_time": "2024-02-09T17:52:10.719Z"
      },
      {
        "duration": 5650,
        "start_time": "2024-02-09T17:52:10.724Z"
      },
      {
        "duration": 101,
        "start_time": "2024-02-09T17:52:16.466Z"
      },
      {
        "duration": 3,
        "start_time": "2024-02-09T17:52:16.568Z"
      },
      {
        "duration": 8,
        "start_time": "2024-02-09T17:52:16.572Z"
      },
      {
        "duration": 7,
        "start_time": "2024-02-09T17:52:16.581Z"
      },
      {
        "duration": 16,
        "start_time": "2024-02-09T17:52:16.589Z"
      },
      {
        "duration": 194,
        "start_time": "2024-02-09T17:52:16.606Z"
      },
      {
        "duration": 0,
        "start_time": "2024-02-09T17:52:16.802Z"
      },
      {
        "duration": 0,
        "start_time": "2024-02-09T17:52:16.802Z"
      },
      {
        "duration": 1,
        "start_time": "2024-02-09T17:52:16.803Z"
      },
      {
        "duration": 0,
        "start_time": "2024-02-09T17:52:16.805Z"
      },
      {
        "duration": 0,
        "start_time": "2024-02-09T17:52:16.805Z"
      },
      {
        "duration": 2,
        "start_time": "2024-02-09T17:55:52.476Z"
      },
      {
        "duration": 4,
        "start_time": "2024-02-09T17:56:26.346Z"
      },
      {
        "duration": 3586,
        "start_time": "2024-02-09T17:57:05.819Z"
      },
      {
        "duration": 4882,
        "start_time": "2024-02-09T18:19:42.938Z"
      },
      {
        "duration": 1150,
        "start_time": "2024-02-09T18:19:47.823Z"
      },
      {
        "duration": 142,
        "start_time": "2024-02-09T18:19:48.975Z"
      },
      {
        "duration": 122,
        "start_time": "2024-02-09T18:19:49.118Z"
      },
      {
        "duration": 119,
        "start_time": "2024-02-09T18:19:49.242Z"
      },
      {
        "duration": 4,
        "start_time": "2024-02-09T18:19:49.363Z"
      },
      {
        "duration": 60,
        "start_time": "2024-02-09T18:19:49.368Z"
      },
      {
        "duration": 78,
        "start_time": "2024-02-09T18:19:49.430Z"
      },
      {
        "duration": 81,
        "start_time": "2024-02-09T18:19:49.510Z"
      },
      {
        "duration": 11,
        "start_time": "2024-02-09T18:19:49.593Z"
      },
      {
        "duration": 139,
        "start_time": "2024-02-09T18:19:49.606Z"
      },
      {
        "duration": 67,
        "start_time": "2024-02-09T18:19:49.746Z"
      },
      {
        "duration": 69,
        "start_time": "2024-02-09T18:19:49.814Z"
      },
      {
        "duration": 47,
        "start_time": "2024-02-09T18:19:49.885Z"
      },
      {
        "duration": 3,
        "start_time": "2024-02-09T18:19:49.934Z"
      },
      {
        "duration": 3769,
        "start_time": "2024-02-09T18:19:49.939Z"
      },
      {
        "duration": 958,
        "start_time": "2024-02-09T18:19:53.709Z"
      },
      {
        "duration": 4,
        "start_time": "2024-02-09T18:19:54.668Z"
      },
      {
        "duration": 34,
        "start_time": "2024-02-09T18:19:54.673Z"
      },
      {
        "duration": 3,
        "start_time": "2024-02-09T18:19:54.709Z"
      },
      {
        "duration": 5,
        "start_time": "2024-02-09T18:19:54.713Z"
      },
      {
        "duration": 3,
        "start_time": "2024-02-09T18:19:54.720Z"
      },
      {
        "duration": 6,
        "start_time": "2024-02-09T18:19:54.724Z"
      },
      {
        "duration": 34,
        "start_time": "2024-02-09T18:19:54.731Z"
      },
      {
        "duration": 5,
        "start_time": "2024-02-09T18:19:54.766Z"
      },
      {
        "duration": 9,
        "start_time": "2024-02-09T18:19:54.772Z"
      },
      {
        "duration": 7,
        "start_time": "2024-02-09T18:19:54.782Z"
      },
      {
        "duration": 7,
        "start_time": "2024-02-09T18:19:54.791Z"
      },
      {
        "duration": 7,
        "start_time": "2024-02-09T18:19:54.800Z"
      },
      {
        "duration": 24,
        "start_time": "2024-02-09T18:19:54.809Z"
      },
      {
        "duration": 9,
        "start_time": "2024-02-09T18:19:54.835Z"
      },
      {
        "duration": 6,
        "start_time": "2024-02-09T18:19:54.845Z"
      },
      {
        "duration": 3,
        "start_time": "2024-02-09T18:19:54.853Z"
      },
      {
        "duration": 4,
        "start_time": "2024-02-09T18:19:54.857Z"
      },
      {
        "duration": 3,
        "start_time": "2024-02-09T18:19:54.862Z"
      },
      {
        "duration": 4,
        "start_time": "2024-02-09T18:19:54.866Z"
      },
      {
        "duration": 2,
        "start_time": "2024-02-09T18:19:54.872Z"
      },
      {
        "duration": 3,
        "start_time": "2024-02-09T18:19:54.876Z"
      },
      {
        "duration": 4,
        "start_time": "2024-02-09T18:19:54.880Z"
      },
      {
        "duration": 7,
        "start_time": "2024-02-09T18:19:54.885Z"
      },
      {
        "duration": 2,
        "start_time": "2024-02-09T18:19:54.896Z"
      },
      {
        "duration": 4,
        "start_time": "2024-02-09T18:19:54.899Z"
      },
      {
        "duration": 3,
        "start_time": "2024-02-09T18:19:54.904Z"
      },
      {
        "duration": 3,
        "start_time": "2024-02-09T18:19:54.908Z"
      },
      {
        "duration": 4,
        "start_time": "2024-02-09T18:19:54.912Z"
      },
      {
        "duration": 3,
        "start_time": "2024-02-09T18:19:54.917Z"
      },
      {
        "duration": 5355,
        "start_time": "2024-02-09T18:19:54.921Z"
      },
      {
        "duration": 117,
        "start_time": "2024-02-09T18:20:00.367Z"
      },
      {
        "duration": 24,
        "start_time": "2024-02-09T18:20:00.486Z"
      },
      {
        "duration": 40,
        "start_time": "2024-02-09T18:20:00.512Z"
      },
      {
        "duration": 37,
        "start_time": "2024-02-09T18:20:00.554Z"
      },
      {
        "duration": 46,
        "start_time": "2024-02-09T18:20:00.593Z"
      },
      {
        "duration": 20,
        "start_time": "2024-02-09T18:20:00.640Z"
      },
      {
        "duration": 3517,
        "start_time": "2024-02-09T18:20:00.661Z"
      }
    ],
    "kernelspec": {
      "display_name": "Python 3 (ipykernel)",
      "language": "python",
      "name": "python3"
    },
    "language_info": {
      "codemirror_mode": {
        "name": "ipython",
        "version": 3
      },
      "file_extension": ".py",
      "mimetype": "text/x-python",
      "name": "python",
      "nbconvert_exporter": "python",
      "pygments_lexer": "ipython3",
      "version": "3.9.5"
    },
    "toc": {
      "base_numbering": 1,
      "nav_menu": {},
      "number_sections": true,
      "sideBar": true,
      "skip_h1_title": true,
      "title_cell": "Table of Contents",
      "title_sidebar": "Contents",
      "toc_cell": true,
      "toc_position": {
        "height": "702px",
        "left": "38px",
        "top": "111.133px",
        "width": "324px"
      },
      "toc_section_display": true,
      "toc_window_display": true
    },
    "colab": {
      "provenance": []
    }
  },
  "nbformat": 4,
  "nbformat_minor": 0
}