{
  "cells": [
    {
      "cell_type": "markdown",
      "metadata": {
        "id": "J7FackPw0GvZ"
      },
      "source": [
        "# Defining Comment Toxicity"
      ]
    },
    {
      "cell_type": "markdown",
      "metadata": {
        "id": "Pz4CjHlh0GvZ"
      },
      "source": [
        "**Project Description**\n",
        "\n",
        "Online store users can edit and supplement product descriptions, like in wiki communities. That is, customers offer their edits and comment on others' changes. The store needs a tool that will search for toxic comments and send them for moderation.\n",
        "\n",
        "**Research Objective**\n",
        "\n",
        "Train a model to classify comments into positive and negative. We have a dataset with edit toxicity markup.\n",
        "\n",
        "**Research Tasks**\n",
        "\n",
        "- train different models with different hyperparameters;\n",
        "- the *F1* metric value should be at least 0.75.\n",
        "\n",
        "**Data Description**\n",
        "\n",
        "The data is located in the `/datasets/toxic_comments.csv` file. The *text* column contains the comment text, and *toxic* is the target feature."
      ]
    },
    {
      "cell_type": "markdown",
      "metadata": {
        "id": "FeRx9sCl0GvZ"
      },
      "source": [
        "## Import Libraries"
      ]
    },
    {
      "cell_type": "code",
      "execution_count": null,
      "metadata": {
        "id": "NWrnCk8a0Gva"
      },
      "outputs": [],
      "source": [
        "!pip install scikit-learn --upgrade -q\n",
        "!pip install -U imbalanced-learn -q"
      ]
    },
    {
      "cell_type": "code",
      "execution_count": null,
      "metadata": {
        "id": "kZM0qaf50Gva"
      },
      "outputs": [],
      "source": [
        "import pandas as pd\n",
        "import os\n",
        "import re\n",
        "import spacy\n",
        "import numpy as np\n",
        "\n",
        "import nltk\n",
        "from nltk.corpus import stopwords as nltk_stopwords\n",
        "\n",
        "from tqdm import tqdm\n",
        "from sklearn.feature_extraction.text import TfidfVectorizer\n",
        "\n",
        "from sklearn.pipeline import Pipeline\n",
        "from sklearn.model_selection import train_test_split, GridSearchCV\n",
        "from sklearn.linear_model import LogisticRegression\n",
        "\n",
        "from catboost import CatBoostClassifier\n",
        "\n",
        "from sklearn.metrics import make_scorer, f1_score\n",
        "\n",
        "RANDOM_STATE = 42\n",
        "TEST_SIZE = 0.10"
      ]
    },
    {
      "cell_type": "markdown",
      "metadata": {
        "id": "wnFw-OKz0Gva"
      },
      "source": [
        "## Preparation"
      ]
    },
    {
      "cell_type": "markdown",
      "metadata": {
        "id": "SIm1hLXw0Gva"
      },
      "source": [
        "### Loading Data"
      ]
    },
    {
      "cell_type": "code",
      "execution_count": null,
      "metadata": {
        "id": "4Ty-IFjh0Gva"
      },
      "outputs": [],
      "source": [
        "path_1 = '/datasets/toxic_comments.csv'\n",
        "path_2 = 'https://.../datasets/toxic_comments.csv'\n",
        "\n",
        "if os.path.exists(path_1):\n",
        "    data = pd.read_csv(path_1, index_col=[0])\n",
        "else:\n",
        "    try:\n",
        "        data = pd.read_csv(path_2, index_col=[0])\n",
        "    except Exception as e:\n",
        "        print(f'Error loading data from URL: {e}')"
      ]
    },
    {
      "cell_type": "markdown",
      "metadata": {
        "id": "_cCWO7cw0Gvb"
      },
      "source": [
        "Let's take a look at the data:"
      ]
    },
    {
      "cell_type": "code",
      "execution_count": null,
      "metadata": {
        "id": "fP2R5Oz70Gvb"
      },
      "outputs": [],
      "source": [
        "#universal function for reviewing data\n",
        "def data_review(data):\n",
        "    '''\n",
        "    data - DataFrame\n",
        "\n",
        "    '''\n",
        "    print('*'*10, 'The Original DataFrame', '*'*10)\n",
        "    display(data.head())\n",
        "    print('')\n",
        "    print('')\n",
        "    print('*'*10, 'General Information', '*'*10)\n",
        "    print('')\n",
        "    data.info()\n",
        "    print('')\n",
        "    print('')\n",
        "    print('*'*10, 'Has NaN', '*'*10)\n",
        "    display(pd.DataFrame(data.isna().sum()).style.background_gradient('coolwarm'))\n",
        "    print('*'*10, 'Has NaN Percentage', '*'*10)\n",
        "    display(pd.DataFrame(round(data.isna().mean()*100,1)).style.background_gradient('coolwarm'))\n",
        "    print('')\n",
        "    print('')\n",
        "    print('*'*10, 'Descriptive Statistics', '*'*10)\n",
        "    display(pd.DataFrame(data.describe()))"
      ]
    },
    {
      "cell_type": "code",
      "execution_count": null,
      "metadata": {
        "id": "DPKbVlmw0Gvb",
        "outputId": "3929d25c-f089-47e8-aea3-3999e247256b"
      },
      "outputs": [
        {
          "name": "stdout",
          "output_type": "stream",
          "text": [
            "********** The Original DataFrame **********\n"
          ]
        },
        {
          "data": {
            "text/html": [
              "<div>\n",
              "<style scoped>\n",
              "    .dataframe tbody tr th:only-of-type {\n",
              "        vertical-align: middle;\n",
              "    }\n",
              "\n",
              "    .dataframe tbody tr th {\n",
              "        vertical-align: top;\n",
              "    }\n",
              "\n",
              "    .dataframe thead th {\n",
              "        text-align: right;\n",
              "    }\n",
              "</style>\n",
              "<table border=\"1\" class=\"dataframe\">\n",
              "  <thead>\n",
              "    <tr style=\"text-align: right;\">\n",
              "      <th></th>\n",
              "      <th>text</th>\n",
              "      <th>toxic</th>\n",
              "    </tr>\n",
              "  </thead>\n",
              "  <tbody>\n",
              "    <tr>\n",
              "      <th>0</th>\n",
              "      <td>Explanation\\nWhy the edits made under my usern...</td>\n",
              "      <td>0</td>\n",
              "    </tr>\n",
              "    <tr>\n",
              "      <th>1</th>\n",
              "      <td>D'aww! He matches this background colour I'm s...</td>\n",
              "      <td>0</td>\n",
              "    </tr>\n",
              "    <tr>\n",
              "      <th>2</th>\n",
              "      <td>Hey man, I'm really not trying to edit war. It...</td>\n",
              "      <td>0</td>\n",
              "    </tr>\n",
              "    <tr>\n",
              "      <th>3</th>\n",
              "      <td>\"\\nMore\\nI can't make any real suggestions on ...</td>\n",
              "      <td>0</td>\n",
              "    </tr>\n",
              "    <tr>\n",
              "      <th>4</th>\n",
              "      <td>You, sir, are my hero. Any chance you remember...</td>\n",
              "      <td>0</td>\n",
              "    </tr>\n",
              "  </tbody>\n",
              "</table>\n",
              "</div>"
            ],
            "text/plain": [
              "                                                text  toxic\n",
              "0  Explanation\\nWhy the edits made under my usern...      0\n",
              "1  D'aww! He matches this background colour I'm s...      0\n",
              "2  Hey man, I'm really not trying to edit war. It...      0\n",
              "3  \"\\nMore\\nI can't make any real suggestions on ...      0\n",
              "4  You, sir, are my hero. Any chance you remember...      0"
            ]
          },
          "metadata": {},
          "output_type": "display_data"
        },
        {
          "name": "stdout",
          "output_type": "stream",
          "text": [
            "\n",
            "\n",
            "********** General Information **********\n",
            "\n",
            "<class 'pandas.core.frame.DataFrame'>\n",
            "Int64Index: 159292 entries, 0 to 159450\n",
            "Data columns (total 2 columns):\n",
            " #   Column  Non-Null Count   Dtype \n",
            "---  ------  --------------   ----- \n",
            " 0   text    159292 non-null  object\n",
            " 1   toxic   159292 non-null  int64 \n",
            "dtypes: int64(1), object(1)\n",
            "memory usage: 3.6+ MB\n",
            "\n",
            "\n",
            "********** Has NaN **********\n"
          ]
        },
        {
          "data": {
            "text/html": [
              "<style  type=\"text/css\" >\n",
              "#T_77a8c_row0_col0,#T_77a8c_row1_col0{\n",
              "            background-color:  #3b4cc0;\n",
              "            color:  #f1f1f1;\n",
              "        }</style><table id=\"T_77a8c_\" ><thead>    <tr>        <th class=\"blank level0\" ></th>        <th class=\"col_heading level0 col0\" >0</th>    </tr></thead><tbody>\n",
              "                <tr>\n",
              "                        <th id=\"T_77a8c_level0_row0\" class=\"row_heading level0 row0\" >text</th>\n",
              "                        <td id=\"T_77a8c_row0_col0\" class=\"data row0 col0\" >0</td>\n",
              "            </tr>\n",
              "            <tr>\n",
              "                        <th id=\"T_77a8c_level0_row1\" class=\"row_heading level0 row1\" >toxic</th>\n",
              "                        <td id=\"T_77a8c_row1_col0\" class=\"data row1 col0\" >0</td>\n",
              "            </tr>\n",
              "    </tbody></table>"
            ],
            "text/plain": [
              "<pandas.io.formats.style.Styler at 0x7fd2bead9340>"
            ]
          },
          "metadata": {},
          "output_type": "display_data"
        },
        {
          "name": "stdout",
          "output_type": "stream",
          "text": [
            "********** Has NaN Percentage **********\n"
          ]
        },
        {
          "data": {
            "text/html": [
              "<style  type=\"text/css\" >\n",
              "#T_32934_row0_col0,#T_32934_row1_col0{\n",
              "            background-color:  #3b4cc0;\n",
              "            color:  #f1f1f1;\n",
              "        }</style><table id=\"T_32934_\" ><thead>    <tr>        <th class=\"blank level0\" ></th>        <th class=\"col_heading level0 col0\" >0</th>    </tr></thead><tbody>\n",
              "                <tr>\n",
              "                        <th id=\"T_32934_level0_row0\" class=\"row_heading level0 row0\" >text</th>\n",
              "                        <td id=\"T_32934_row0_col0\" class=\"data row0 col0\" >0.000000</td>\n",
              "            </tr>\n",
              "            <tr>\n",
              "                        <th id=\"T_32934_level0_row1\" class=\"row_heading level0 row1\" >toxic</th>\n",
              "                        <td id=\"T_32934_row1_col0\" class=\"data row1 col0\" >0.000000</td>\n",
              "            </tr>\n",
              "    </tbody></table>"
            ],
            "text/plain": [
              "<pandas.io.formats.style.Styler at 0x7fd2bf7bd9d0>"
            ]
          },
          "metadata": {},
          "output_type": "display_data"
        },
        {
          "name": "stdout",
          "output_type": "stream",
          "text": [
            "\n",
            "\n",
            "********** Descriptive Statistics **********\n"
          ]
        },
        {
          "data": {
            "text/html": [
              "<div>\n",
              "<style scoped>\n",
              "    .dataframe tbody tr th:only-of-type {\n",
              "        vertical-align: middle;\n",
              "    }\n",
              "\n",
              "    .dataframe tbody tr th {\n",
              "        vertical-align: top;\n",
              "    }\n",
              "\n",
              "    .dataframe thead th {\n",
              "        text-align: right;\n",
              "    }\n",
              "</style>\n",
              "<table border=\"1\" class=\"dataframe\">\n",
              "  <thead>\n",
              "    <tr style=\"text-align: right;\">\n",
              "      <th></th>\n",
              "      <th>toxic</th>\n",
              "    </tr>\n",
              "  </thead>\n",
              "  <tbody>\n",
              "    <tr>\n",
              "      <th>count</th>\n",
              "      <td>159292.000000</td>\n",
              "    </tr>\n",
              "    <tr>\n",
              "      <th>mean</th>\n",
              "      <td>0.101612</td>\n",
              "    </tr>\n",
              "    <tr>\n",
              "      <th>std</th>\n",
              "      <td>0.302139</td>\n",
              "    </tr>\n",
              "    <tr>\n",
              "      <th>min</th>\n",
              "      <td>0.000000</td>\n",
              "    </tr>\n",
              "    <tr>\n",
              "      <th>25%</th>\n",
              "      <td>0.000000</td>\n",
              "    </tr>\n",
              "    <tr>\n",
              "      <th>50%</th>\n",
              "      <td>0.000000</td>\n",
              "    </tr>\n",
              "    <tr>\n",
              "      <th>75%</th>\n",
              "      <td>0.000000</td>\n",
              "    </tr>\n",
              "    <tr>\n",
              "      <th>max</th>\n",
              "      <td>1.000000</td>\n",
              "    </tr>\n",
              "  </tbody>\n",
              "</table>\n",
              "</div>"
            ],
            "text/plain": [
              "               toxic\n",
              "count  159292.000000\n",
              "mean        0.101612\n",
              "std         0.302139\n",
              "min         0.000000\n",
              "25%         0.000000\n",
              "50%         0.000000\n",
              "75%         0.000000\n",
              "max         1.000000"
            ]
          },
          "metadata": {},
          "output_type": "display_data"
        }
      ],
      "source": [
        "data_review(data)"
      ]
    },
    {
      "cell_type": "markdown",
      "metadata": {
        "id": "gDq-GQKs0Gvb"
      },
      "source": [
        "#### Conclusions"
      ]
    },
    {
      "cell_type": "markdown",
      "metadata": {
        "id": "pa6ge4yw0Gvb"
      },
      "source": [
        "- the loaded data is presented in two columns, tweet texts and the target feature `toxic`;\n",
        "- no missing values ​​were found in the data;\n",
        "- class imbalance was detected, class `1` is represented by only 10% of the data;\n",
        "- gaps were found in the Int64Index indexes: 159292 entries, 0 to 159450."
      ]
    },
    {
      "cell_type": "markdown",
      "metadata": {
        "id": "nUyCN2kk0Gvc"
      },
      "source": [
        "### Dataset processing"
      ]
    },
    {
      "cell_type": "markdown",
      "metadata": {
        "id": "iIZJxHeO0Gvc"
      },
      "source": [
        "To speed up calculations, we will reduce the number of texts to 75,000 and reset the indices."
      ]
    },
    {
      "cell_type": "code",
      "execution_count": null,
      "metadata": {
        "id": "PRbMCuFv0Gvc"
      },
      "outputs": [],
      "source": [
        "data_cut = data.sample(75000, random_state=RANDOM_STATE)"
      ]
    },
    {
      "cell_type": "code",
      "execution_count": null,
      "metadata": {
        "id": "jSLw9pre0Gvc"
      },
      "outputs": [],
      "source": [
        "data_cut.reset_index(drop=True , inplace=True )"
      ]
    },
    {
      "cell_type": "code",
      "execution_count": null,
      "metadata": {
        "id": "-PWKq_iy0Gvc",
        "outputId": "86a4be57-3ed6-4194-b7f5-ed3fd97e4334"
      },
      "outputs": [
        {
          "name": "stdout",
          "output_type": "stream",
          "text": [
            "********** The Original DataFrame **********\n"
          ]
        },
        {
          "data": {
            "text/html": [
              "<div>\n",
              "<style scoped>\n",
              "    .dataframe tbody tr th:only-of-type {\n",
              "        vertical-align: middle;\n",
              "    }\n",
              "\n",
              "    .dataframe tbody tr th {\n",
              "        vertical-align: top;\n",
              "    }\n",
              "\n",
              "    .dataframe thead th {\n",
              "        text-align: right;\n",
              "    }\n",
              "</style>\n",
              "<table border=\"1\" class=\"dataframe\">\n",
              "  <thead>\n",
              "    <tr style=\"text-align: right;\">\n",
              "      <th></th>\n",
              "      <th>text</th>\n",
              "      <th>toxic</th>\n",
              "    </tr>\n",
              "  </thead>\n",
              "  <tbody>\n",
              "    <tr>\n",
              "      <th>0</th>\n",
              "      <td>Sometime back, I just happened to log on to ww...</td>\n",
              "      <td>0</td>\n",
              "    </tr>\n",
              "    <tr>\n",
              "      <th>1</th>\n",
              "      <td>\"\\n\\nThe latest edit is much better, don't mak...</td>\n",
              "      <td>0</td>\n",
              "    </tr>\n",
              "    <tr>\n",
              "      <th>2</th>\n",
              "      <td>\" October 2007 (UTC)\\n\\nI would think you'd be...</td>\n",
              "      <td>0</td>\n",
              "    </tr>\n",
              "    <tr>\n",
              "      <th>3</th>\n",
              "      <td>Thanks for the tip on the currency translation...</td>\n",
              "      <td>0</td>\n",
              "    </tr>\n",
              "    <tr>\n",
              "      <th>4</th>\n",
              "      <td>I would argue that if content on the Con in co...</td>\n",
              "      <td>0</td>\n",
              "    </tr>\n",
              "  </tbody>\n",
              "</table>\n",
              "</div>"
            ],
            "text/plain": [
              "                                                text  toxic\n",
              "0  Sometime back, I just happened to log on to ww...      0\n",
              "1  \"\\n\\nThe latest edit is much better, don't mak...      0\n",
              "2  \" October 2007 (UTC)\\n\\nI would think you'd be...      0\n",
              "3  Thanks for the tip on the currency translation...      0\n",
              "4  I would argue that if content on the Con in co...      0"
            ]
          },
          "metadata": {},
          "output_type": "display_data"
        },
        {
          "name": "stdout",
          "output_type": "stream",
          "text": [
            "\n",
            "\n",
            "********** General Information **********\n",
            "\n",
            "<class 'pandas.core.frame.DataFrame'>\n",
            "RangeIndex: 75000 entries, 0 to 74999\n",
            "Data columns (total 2 columns):\n",
            " #   Column  Non-Null Count  Dtype \n",
            "---  ------  --------------  ----- \n",
            " 0   text    75000 non-null  object\n",
            " 1   toxic   75000 non-null  int64 \n",
            "dtypes: int64(1), object(1)\n",
            "memory usage: 1.1+ MB\n",
            "\n",
            "\n",
            "********** Has NaN **********\n"
          ]
        },
        {
          "data": {
            "text/html": [
              "<style  type=\"text/css\" >\n",
              "#T_80ed5_row0_col0,#T_80ed5_row1_col0{\n",
              "            background-color:  #3b4cc0;\n",
              "            color:  #f1f1f1;\n",
              "        }</style><table id=\"T_80ed5_\" ><thead>    <tr>        <th class=\"blank level0\" ></th>        <th class=\"col_heading level0 col0\" >0</th>    </tr></thead><tbody>\n",
              "                <tr>\n",
              "                        <th id=\"T_80ed5_level0_row0\" class=\"row_heading level0 row0\" >text</th>\n",
              "                        <td id=\"T_80ed5_row0_col0\" class=\"data row0 col0\" >0</td>\n",
              "            </tr>\n",
              "            <tr>\n",
              "                        <th id=\"T_80ed5_level0_row1\" class=\"row_heading level0 row1\" >toxic</th>\n",
              "                        <td id=\"T_80ed5_row1_col0\" class=\"data row1 col0\" >0</td>\n",
              "            </tr>\n",
              "    </tbody></table>"
            ],
            "text/plain": [
              "<pandas.io.formats.style.Styler at 0x7fd2bfac6670>"
            ]
          },
          "metadata": {},
          "output_type": "display_data"
        },
        {
          "name": "stdout",
          "output_type": "stream",
          "text": [
            "********** Has NaN Percentage **********\n"
          ]
        },
        {
          "data": {
            "text/html": [
              "<style  type=\"text/css\" >\n",
              "#T_6aaf8_row0_col0,#T_6aaf8_row1_col0{\n",
              "            background-color:  #3b4cc0;\n",
              "            color:  #f1f1f1;\n",
              "        }</style><table id=\"T_6aaf8_\" ><thead>    <tr>        <th class=\"blank level0\" ></th>        <th class=\"col_heading level0 col0\" >0</th>    </tr></thead><tbody>\n",
              "                <tr>\n",
              "                        <th id=\"T_6aaf8_level0_row0\" class=\"row_heading level0 row0\" >text</th>\n",
              "                        <td id=\"T_6aaf8_row0_col0\" class=\"data row0 col0\" >0.000000</td>\n",
              "            </tr>\n",
              "            <tr>\n",
              "                        <th id=\"T_6aaf8_level0_row1\" class=\"row_heading level0 row1\" >toxic</th>\n",
              "                        <td id=\"T_6aaf8_row1_col0\" class=\"data row1 col0\" >0.000000</td>\n",
              "            </tr>\n",
              "    </tbody></table>"
            ],
            "text/plain": [
              "<pandas.io.formats.style.Styler at 0x7fd2bfac65b0>"
            ]
          },
          "metadata": {},
          "output_type": "display_data"
        },
        {
          "name": "stdout",
          "output_type": "stream",
          "text": [
            "\n",
            "\n",
            "********** Descriptive Statistics **********\n"
          ]
        },
        {
          "data": {
            "text/html": [
              "<div>\n",
              "<style scoped>\n",
              "    .dataframe tbody tr th:only-of-type {\n",
              "        vertical-align: middle;\n",
              "    }\n",
              "\n",
              "    .dataframe tbody tr th {\n",
              "        vertical-align: top;\n",
              "    }\n",
              "\n",
              "    .dataframe thead th {\n",
              "        text-align: right;\n",
              "    }\n",
              "</style>\n",
              "<table border=\"1\" class=\"dataframe\">\n",
              "  <thead>\n",
              "    <tr style=\"text-align: right;\">\n",
              "      <th></th>\n",
              "      <th>toxic</th>\n",
              "    </tr>\n",
              "  </thead>\n",
              "  <tbody>\n",
              "    <tr>\n",
              "      <th>count</th>\n",
              "      <td>75000.000000</td>\n",
              "    </tr>\n",
              "    <tr>\n",
              "      <th>mean</th>\n",
              "      <td>0.100840</td>\n",
              "    </tr>\n",
              "    <tr>\n",
              "      <th>std</th>\n",
              "      <td>0.301119</td>\n",
              "    </tr>\n",
              "    <tr>\n",
              "      <th>min</th>\n",
              "      <td>0.000000</td>\n",
              "    </tr>\n",
              "    <tr>\n",
              "      <th>25%</th>\n",
              "      <td>0.000000</td>\n",
              "    </tr>\n",
              "    <tr>\n",
              "      <th>50%</th>\n",
              "      <td>0.000000</td>\n",
              "    </tr>\n",
              "    <tr>\n",
              "      <th>75%</th>\n",
              "      <td>0.000000</td>\n",
              "    </tr>\n",
              "    <tr>\n",
              "      <th>max</th>\n",
              "      <td>1.000000</td>\n",
              "    </tr>\n",
              "  </tbody>\n",
              "</table>\n",
              "</div>"
            ],
            "text/plain": [
              "              toxic\n",
              "count  75000.000000\n",
              "mean       0.100840\n",
              "std        0.301119\n",
              "min        0.000000\n",
              "25%        0.000000\n",
              "50%        0.000000\n",
              "75%        0.000000\n",
              "max        1.000000"
            ]
          },
          "metadata": {},
          "output_type": "display_data"
        }
      ],
      "source": [
        "data_review(data_cut)"
      ]
    },
    {
      "cell_type": "markdown",
      "metadata": {
        "id": "l6euwia70Gvc"
      },
      "source": [
        "### Cleaning and lemmatization"
      ]
    },
    {
      "cell_type": "markdown",
      "metadata": {
        "id": "W1jev43c0Gvc"
      },
      "source": [
        "Let's clean up and lemmatize the text:"
      ]
    },
    {
      "cell_type": "code",
      "execution_count": null,
      "metadata": {
        "id": "ty29vFrm0Gvc"
      },
      "outputs": [],
      "source": [
        "#universal text lemmatization function\n",
        "nlp = spacy.load(\"en_core_web_sm\")\n",
        "\n",
        "def lemmatize(text):\n",
        "    doc = nlp(text)\n",
        "    lemm_text = ' '.join([token.lemma_ for token in doc])\n",
        "    return lemm_text"
      ]
    },
    {
      "cell_type": "code",
      "execution_count": null,
      "metadata": {
        "id": "LJ8yUTVi0Gvc"
      },
      "outputs": [],
      "source": [
        "#universal text cleaning function\n",
        "def clear_text(text):\n",
        "    return ' '.join(re.sub(r'[^a-zA-z ]', ' ', text.lower()).split())"
      ]
    },
    {
      "cell_type": "code",
      "execution_count": null,
      "metadata": {
        "id": "ZCLYtG1V0Gvd"
      },
      "outputs": [],
      "source": [
        "data_cut['clean_text'] = data_cut['text'].apply(clear_text)"
      ]
    },
    {
      "cell_type": "code",
      "execution_count": null,
      "metadata": {
        "id": "zlOEuOTv0Gvd",
        "outputId": "96b308c0-3b16-4074-8eeb-090e208b61c2"
      },
      "outputs": [
        {
          "data": {
            "text/html": [
              "<div>\n",
              "<style scoped>\n",
              "    .dataframe tbody tr th:only-of-type {\n",
              "        vertical-align: middle;\n",
              "    }\n",
              "\n",
              "    .dataframe tbody tr th {\n",
              "        vertical-align: top;\n",
              "    }\n",
              "\n",
              "    .dataframe thead th {\n",
              "        text-align: right;\n",
              "    }\n",
              "</style>\n",
              "<table border=\"1\" class=\"dataframe\">\n",
              "  <thead>\n",
              "    <tr style=\"text-align: right;\">\n",
              "      <th></th>\n",
              "      <th>text</th>\n",
              "      <th>toxic</th>\n",
              "      <th>clean_text</th>\n",
              "    </tr>\n",
              "  </thead>\n",
              "  <tbody>\n",
              "    <tr>\n",
              "      <th>0</th>\n",
              "      <td>Sometime back, I just happened to log on to ww...</td>\n",
              "      <td>0</td>\n",
              "      <td>sometime back i just happened to log on to www...</td>\n",
              "    </tr>\n",
              "    <tr>\n",
              "      <th>1</th>\n",
              "      <td>\"\\n\\nThe latest edit is much better, don't mak...</td>\n",
              "      <td>0</td>\n",
              "      <td>the latest edit is much better don t make this...</td>\n",
              "    </tr>\n",
              "    <tr>\n",
              "      <th>2</th>\n",
              "      <td>\" October 2007 (UTC)\\n\\nI would think you'd be...</td>\n",
              "      <td>0</td>\n",
              "      <td>october utc i would think you d be able to get...</td>\n",
              "    </tr>\n",
              "    <tr>\n",
              "      <th>3</th>\n",
              "      <td>Thanks for the tip on the currency translation...</td>\n",
              "      <td>0</td>\n",
              "      <td>thanks for the tip on the currency translation...</td>\n",
              "    </tr>\n",
              "    <tr>\n",
              "      <th>4</th>\n",
              "      <td>I would argue that if content on the Con in co...</td>\n",
              "      <td>0</td>\n",
              "      <td>i would argue that if content on the con in co...</td>\n",
              "    </tr>\n",
              "  </tbody>\n",
              "</table>\n",
              "</div>"
            ],
            "text/plain": [
              "                                                text  toxic  \\\n",
              "0  Sometime back, I just happened to log on to ww...      0   \n",
              "1  \"\\n\\nThe latest edit is much better, don't mak...      0   \n",
              "2  \" October 2007 (UTC)\\n\\nI would think you'd be...      0   \n",
              "3  Thanks for the tip on the currency translation...      0   \n",
              "4  I would argue that if content on the Con in co...      0   \n",
              "\n",
              "                                          clean_text  \n",
              "0  sometime back i just happened to log on to www...  \n",
              "1  the latest edit is much better don t make this...  \n",
              "2  october utc i would think you d be able to get...  \n",
              "3  thanks for the tip on the currency translation...  \n",
              "4  i would argue that if content on the con in co...  "
            ]
          },
          "execution_count": 12,
          "metadata": {},
          "output_type": "execute_result"
        }
      ],
      "source": [
        "data_cut.head()"
      ]
    },
    {
      "cell_type": "code",
      "execution_count": null,
      "metadata": {
        "id": "ZPNkEqmU0Gvd",
        "outputId": "32ade8c4-8861-4782-f068-d20e7afa56e0"
      },
      "outputs": [
        {
          "name": "stderr",
          "output_type": "stream",
          "text": [
            "100%|██████████| 75000/75000 [17:30<00:00, 71.40it/s] \n"
          ]
        }
      ],
      "source": [
        "tqdm.pandas()\n",
        "\n",
        "data_cut['lemm_text'] = data_cut['clean_text'].progress_apply(lemmatize)"
      ]
    },
    {
      "cell_type": "code",
      "execution_count": null,
      "metadata": {
        "id": "OyA2RKhF0Gvd",
        "outputId": "364e9e74-0fa6-4e31-ec45-3617ee9867ca"
      },
      "outputs": [
        {
          "data": {
            "text/html": [
              "<div>\n",
              "<style scoped>\n",
              "    .dataframe tbody tr th:only-of-type {\n",
              "        vertical-align: middle;\n",
              "    }\n",
              "\n",
              "    .dataframe tbody tr th {\n",
              "        vertical-align: top;\n",
              "    }\n",
              "\n",
              "    .dataframe thead th {\n",
              "        text-align: right;\n",
              "    }\n",
              "</style>\n",
              "<table border=\"1\" class=\"dataframe\">\n",
              "  <thead>\n",
              "    <tr style=\"text-align: right;\">\n",
              "      <th></th>\n",
              "      <th>text</th>\n",
              "      <th>toxic</th>\n",
              "      <th>clean_text</th>\n",
              "      <th>lemm_text</th>\n",
              "    </tr>\n",
              "  </thead>\n",
              "  <tbody>\n",
              "    <tr>\n",
              "      <th>0</th>\n",
              "      <td>Sometime back, I just happened to log on to ww...</td>\n",
              "      <td>0</td>\n",
              "      <td>sometime back i just happened to log on to www...</td>\n",
              "      <td>sometime back I just happen to log on to www i...</td>\n",
              "    </tr>\n",
              "    <tr>\n",
              "      <th>1</th>\n",
              "      <td>\"\\n\\nThe latest edit is much better, don't mak...</td>\n",
              "      <td>0</td>\n",
              "      <td>the latest edit is much better don t make this...</td>\n",
              "      <td>the late edit be much well don t make this art...</td>\n",
              "    </tr>\n",
              "    <tr>\n",
              "      <th>2</th>\n",
              "      <td>\" October 2007 (UTC)\\n\\nI would think you'd be...</td>\n",
              "      <td>0</td>\n",
              "      <td>october utc i would think you d be able to get...</td>\n",
              "      <td>october utc I would think you d be able to get...</td>\n",
              "    </tr>\n",
              "    <tr>\n",
              "      <th>3</th>\n",
              "      <td>Thanks for the tip on the currency translation...</td>\n",
              "      <td>0</td>\n",
              "      <td>thanks for the tip on the currency translation...</td>\n",
              "      <td>thank for the tip on the currency translation ...</td>\n",
              "    </tr>\n",
              "    <tr>\n",
              "      <th>4</th>\n",
              "      <td>I would argue that if content on the Con in co...</td>\n",
              "      <td>0</td>\n",
              "      <td>i would argue that if content on the con in co...</td>\n",
              "      <td>I would argue that if content on the con in co...</td>\n",
              "    </tr>\n",
              "  </tbody>\n",
              "</table>\n",
              "</div>"
            ],
            "text/plain": [
              "                                                text  toxic  \\\n",
              "0  Sometime back, I just happened to log on to ww...      0   \n",
              "1  \"\\n\\nThe latest edit is much better, don't mak...      0   \n",
              "2  \" October 2007 (UTC)\\n\\nI would think you'd be...      0   \n",
              "3  Thanks for the tip on the currency translation...      0   \n",
              "4  I would argue that if content on the Con in co...      0   \n",
              "\n",
              "                                          clean_text  \\\n",
              "0  sometime back i just happened to log on to www...   \n",
              "1  the latest edit is much better don t make this...   \n",
              "2  october utc i would think you d be able to get...   \n",
              "3  thanks for the tip on the currency translation...   \n",
              "4  i would argue that if content on the con in co...   \n",
              "\n",
              "                                           lemm_text  \n",
              "0  sometime back I just happen to log on to www i...  \n",
              "1  the late edit be much well don t make this art...  \n",
              "2  october utc I would think you d be able to get...  \n",
              "3  thank for the tip on the currency translation ...  \n",
              "4  I would argue that if content on the con in co...  "
            ]
          },
          "execution_count": 14,
          "metadata": {},
          "output_type": "execute_result"
        }
      ],
      "source": [
        "data_cut.head(5)"
      ]
    },
    {
      "cell_type": "code",
      "execution_count": null,
      "metadata": {
        "id": "BNC-F6cp0Gvd",
        "outputId": "8013a9ee-5951-4806-d8f3-9b7b91bcbd83"
      },
      "outputs": [
        {
          "data": {
            "text/plain": [
              "379"
            ]
          },
          "execution_count": 15,
          "metadata": {},
          "output_type": "execute_result"
        }
      ],
      "source": [
        "data_cut['lemm_text'].duplicated().sum()"
      ]
    },
    {
      "cell_type": "code",
      "execution_count": null,
      "metadata": {
        "id": "0S6y0Miq0Gvd"
      },
      "outputs": [],
      "source": [
        "data_cut = data_cut.drop_duplicates(subset=['lemm_text'])"
      ]
    },
    {
      "cell_type": "code",
      "execution_count": null,
      "metadata": {
        "id": "28miDUdp0Gvd",
        "outputId": "d39250fc-3ac6-42b2-b674-dc5cd6682177"
      },
      "outputs": [
        {
          "data": {
            "text/plain": [
              "0"
            ]
          },
          "execution_count": 17,
          "metadata": {},
          "output_type": "execute_result"
        }
      ],
      "source": [
        "data_cut['lemm_text'].duplicated().sum()"
      ]
    },
    {
      "cell_type": "markdown",
      "metadata": {
        "id": "8y4uXnGy0Gvg"
      },
      "source": [
        "Let's select the training and test samples:"
      ]
    },
    {
      "cell_type": "code",
      "execution_count": null,
      "metadata": {
        "id": "OjhakkeL0Gvh"
      },
      "outputs": [],
      "source": [
        "features = data_cut['lemm_text']\n",
        "target = data_cut['toxic']"
      ]
    },
    {
      "cell_type": "code",
      "execution_count": null,
      "metadata": {
        "id": "K6vbWFmr0Gvh"
      },
      "outputs": [],
      "source": [
        "X_train, X_test, y_train, y_test = train_test_split(\n",
        "        features,\n",
        "        target,\n",
        "        test_size=TEST_SIZE,\n",
        "        stratify=target,\n",
        "        random_state=RANDOM_STATE\n",
        "    )"
      ]
    },
    {
      "cell_type": "markdown",
      "metadata": {
        "id": "Yb-epREF0Gvh"
      },
      "source": [
        "Let's check the sizes and dimensions of the obtained samples:"
      ]
    },
    {
      "cell_type": "code",
      "execution_count": null,
      "metadata": {
        "id": "6QLQs3yZ0Gvh",
        "outputId": "337bcd21-daac-4839-9a06-5d9a4f6dcb1a"
      },
      "outputs": [
        {
          "data": {
            "text/plain": [
              "((67158,), (7463,), (67158,), (7463,))"
            ]
          },
          "execution_count": 20,
          "metadata": {},
          "output_type": "execute_result"
        }
      ],
      "source": [
        "X_train.shape, X_test.shape, y_train.shape, y_test.shape"
      ]
    },
    {
      "cell_type": "markdown",
      "metadata": {
        "id": "eNlnxTCL0Gvh"
      },
      "source": [
        "## Training"
      ]
    },
    {
      "cell_type": "markdown",
      "metadata": {
        "id": "xBYoixst0Gvh"
      },
      "source": [
        "Let's create a pipeline for training models. Let's train 2 models: LogisticRegression() and CatBoostClassifier(). Let's also calculate TF-IDF for the text corpus in the pipeline, having previously created a list of stop words to clean the corpus from words without semantic meaning."
      ]
    },
    {
      "cell_type": "code",
      "execution_count": null,
      "metadata": {
        "id": "IWxOVdqP0Gvi",
        "outputId": "47dfc8d9-dbe0-4287-ae7b-9d02c8a841fa"
      },
      "outputs": [
        {
          "name": "stderr",
          "output_type": "stream",
          "text": [
            "[nltk_data] Downloading package stopwords to /home/jovyan/nltk_data...\n",
            "[nltk_data]   Package stopwords is already up-to-date!\n"
          ]
        }
      ],
      "source": [
        "nltk.download('stopwords')\n",
        "stopwords = list(nltk_stopwords.words('english'))"
      ]
    },
    {
      "cell_type": "code",
      "execution_count": null,
      "metadata": {
        "id": "GFHvFoL_0Gvi"
      },
      "outputs": [],
      "source": [
        "pipe_final = Pipeline(\n",
        "    [\n",
        "        ('vect', TfidfVectorizer(stop_words=stopwords)),\n",
        "        ('models', LogisticRegression())\n",
        "    ]\n",
        ")"
      ]
    },
    {
      "cell_type": "code",
      "execution_count": null,
      "metadata": {
        "id": "aI5TCgxE0Gvi"
      },
      "outputs": [],
      "source": [
        "param_grid = [\n",
        "    {\n",
        "        'models': [LogisticRegression(random_state=RANDOM_STATE,\n",
        "                                      solver='liblinear',\n",
        "                                      max_iter=1000,\n",
        "                                      class_weight='balanced')],\n",
        "        'models__penalty': ['l1', 'l2'],\n",
        "        'models__C': range(5, 15)\n",
        "    },\n",
        "    {\n",
        "        'models': [CatBoostClassifier(random_seed=RANDOM_STATE,\n",
        "                                      iterations=500,\n",
        "                                      depth=6,\n",
        "                                      auto_class_weights='Balanced',\n",
        "                                      verbose = False)],\n",
        "        'models__learning_rate': [0.1, 0.5]\n",
        "    },\n",
        "]"
      ]
    },
    {
      "cell_type": "markdown",
      "metadata": {
        "id": "ZE41rlxJ0Gvi"
      },
      "source": [
        "Let's run an automatic search for the best model using the GridSearchCV method with the F1 metric:"
      ]
    },
    {
      "cell_type": "code",
      "execution_count": null,
      "metadata": {
        "id": "2e0vm4uL0Gvi"
      },
      "outputs": [],
      "source": [
        "f1_scorer = make_scorer(f1_score)"
      ]
    },
    {
      "cell_type": "code",
      "execution_count": null,
      "metadata": {
        "id": "iLO0LKv30Gvi"
      },
      "outputs": [],
      "source": [
        "grid_search = GridSearchCV(\n",
        "    pipe_final,\n",
        "    param_grid=param_grid,\n",
        "    cv=3,\n",
        "    scoring=f1_scorer,\n",
        "    n_jobs=-1\n",
        ")"
      ]
    },
    {
      "cell_type": "code",
      "execution_count": null,
      "metadata": {
        "id": "4YvFaLUp0Gvi",
        "outputId": "abe0a4d8-c0f0-4f80-dd49-dc76bbc7a1c6"
      },
      "outputs": [
        {
          "data": {
            "text/html": [
              "<style>#sk-container-id-1 {\n",
              "  /* Definition of color scheme common for light and dark mode */\n",
              "  --sklearn-color-text: black;\n",
              "  --sklearn-color-line: gray;\n",
              "  /* Definition of color scheme for unfitted estimators */\n",
              "  --sklearn-color-unfitted-level-0: #fff5e6;\n",
              "  --sklearn-color-unfitted-level-1: #f6e4d2;\n",
              "  --sklearn-color-unfitted-level-2: #ffe0b3;\n",
              "  --sklearn-color-unfitted-level-3: chocolate;\n",
              "  /* Definition of color scheme for fitted estimators */\n",
              "  --sklearn-color-fitted-level-0: #f0f8ff;\n",
              "  --sklearn-color-fitted-level-1: #d4ebff;\n",
              "  --sklearn-color-fitted-level-2: #b3dbfd;\n",
              "  --sklearn-color-fitted-level-3: cornflowerblue;\n",
              "\n",
              "  /* Specific color for light theme */\n",
              "  --sklearn-color-text-on-default-background: var(--sg-text-color, var(--theme-code-foreground, var(--jp-content-font-color1, black)));\n",
              "  --sklearn-color-background: var(--sg-background-color, var(--theme-background, var(--jp-layout-color0, white)));\n",
              "  --sklearn-color-border-box: var(--sg-text-color, var(--theme-code-foreground, var(--jp-content-font-color1, black)));\n",
              "  --sklearn-color-icon: #696969;\n",
              "\n",
              "  @media (prefers-color-scheme: dark) {\n",
              "    /* Redefinition of color scheme for dark theme */\n",
              "    --sklearn-color-text-on-default-background: var(--sg-text-color, var(--theme-code-foreground, var(--jp-content-font-color1, white)));\n",
              "    --sklearn-color-background: var(--sg-background-color, var(--theme-background, var(--jp-layout-color0, #111)));\n",
              "    --sklearn-color-border-box: var(--sg-text-color, var(--theme-code-foreground, var(--jp-content-font-color1, white)));\n",
              "    --sklearn-color-icon: #878787;\n",
              "  }\n",
              "}\n",
              "\n",
              "#sk-container-id-1 {\n",
              "  color: var(--sklearn-color-text);\n",
              "}\n",
              "\n",
              "#sk-container-id-1 pre {\n",
              "  padding: 0;\n",
              "}\n",
              "\n",
              "#sk-container-id-1 input.sk-hidden--visually {\n",
              "  border: 0;\n",
              "  clip: rect(1px 1px 1px 1px);\n",
              "  clip: rect(1px, 1px, 1px, 1px);\n",
              "  height: 1px;\n",
              "  margin: -1px;\n",
              "  overflow: hidden;\n",
              "  padding: 0;\n",
              "  position: absolute;\n",
              "  width: 1px;\n",
              "}\n",
              "\n",
              "#sk-container-id-1 div.sk-dashed-wrapped {\n",
              "  border: 1px dashed var(--sklearn-color-line);\n",
              "  margin: 0 0.4em 0.5em 0.4em;\n",
              "  box-sizing: border-box;\n",
              "  padding-bottom: 0.4em;\n",
              "  background-color: var(--sklearn-color-background);\n",
              "}\n",
              "\n",
              "#sk-container-id-1 div.sk-container {\n",
              "  /* jupyter's `normalize.less` sets `[hidden] { display: none; }`\n",
              "     but bootstrap.min.css set `[hidden] { display: none !important; }`\n",
              "     so we also need the `!important` here to be able to override the\n",
              "     default hidden behavior on the sphinx rendered scikit-learn.org.\n",
              "     See: https://github.com/scikit-learn/scikit-learn/issues/21755 */\n",
              "  display: inline-block !important;\n",
              "  position: relative;\n",
              "}\n",
              "\n",
              "#sk-container-id-1 div.sk-text-repr-fallback {\n",
              "  display: none;\n",
              "}\n",
              "\n",
              "div.sk-parallel-item,\n",
              "div.sk-serial,\n",
              "div.sk-item {\n",
              "  /* draw centered vertical line to link estimators */\n",
              "  background-image: linear-gradient(var(--sklearn-color-text-on-default-background), var(--sklearn-color-text-on-default-background));\n",
              "  background-size: 2px 100%;\n",
              "  background-repeat: no-repeat;\n",
              "  background-position: center center;\n",
              "}\n",
              "\n",
              "/* Parallel-specific style estimator block */\n",
              "\n",
              "#sk-container-id-1 div.sk-parallel-item::after {\n",
              "  content: \"\";\n",
              "  width: 100%;\n",
              "  border-bottom: 2px solid var(--sklearn-color-text-on-default-background);\n",
              "  flex-grow: 1;\n",
              "}\n",
              "\n",
              "#sk-container-id-1 div.sk-parallel {\n",
              "  display: flex;\n",
              "  align-items: stretch;\n",
              "  justify-content: center;\n",
              "  background-color: var(--sklearn-color-background);\n",
              "  position: relative;\n",
              "}\n",
              "\n",
              "#sk-container-id-1 div.sk-parallel-item {\n",
              "  display: flex;\n",
              "  flex-direction: column;\n",
              "}\n",
              "\n",
              "#sk-container-id-1 div.sk-parallel-item:first-child::after {\n",
              "  align-self: flex-end;\n",
              "  width: 50%;\n",
              "}\n",
              "\n",
              "#sk-container-id-1 div.sk-parallel-item:last-child::after {\n",
              "  align-self: flex-start;\n",
              "  width: 50%;\n",
              "}\n",
              "\n",
              "#sk-container-id-1 div.sk-parallel-item:only-child::after {\n",
              "  width: 0;\n",
              "}\n",
              "\n",
              "/* Serial-specific style estimator block */\n",
              "\n",
              "#sk-container-id-1 div.sk-serial {\n",
              "  display: flex;\n",
              "  flex-direction: column;\n",
              "  align-items: center;\n",
              "  background-color: var(--sklearn-color-background);\n",
              "  padding-right: 1em;\n",
              "  padding-left: 1em;\n",
              "}\n",
              "\n",
              "\n",
              "/* Toggleable style: style used for estimator/Pipeline/ColumnTransformer box that is\n",
              "clickable and can be expanded/collapsed.\n",
              "- Pipeline and ColumnTransformer use this feature and define the default style\n",
              "- Estimators will overwrite some part of the style using the `sk-estimator` class\n",
              "*/\n",
              "\n",
              "/* Pipeline and ColumnTransformer style (default) */\n",
              "\n",
              "#sk-container-id-1 div.sk-toggleable {\n",
              "  /* Default theme specific background. It is overwritten whether we have a\n",
              "  specific estimator or a Pipeline/ColumnTransformer */\n",
              "  background-color: var(--sklearn-color-background);\n",
              "}\n",
              "\n",
              "/* Toggleable label */\n",
              "#sk-container-id-1 label.sk-toggleable__label {\n",
              "  cursor: pointer;\n",
              "  display: block;\n",
              "  width: 100%;\n",
              "  margin-bottom: 0;\n",
              "  padding: 0.5em;\n",
              "  box-sizing: border-box;\n",
              "  text-align: center;\n",
              "}\n",
              "\n",
              "#sk-container-id-1 label.sk-toggleable__label-arrow:before {\n",
              "  /* Arrow on the left of the label */\n",
              "  content: \"▸\";\n",
              "  float: left;\n",
              "  margin-right: 0.25em;\n",
              "  color: var(--sklearn-color-icon);\n",
              "}\n",
              "\n",
              "#sk-container-id-1 label.sk-toggleable__label-arrow:hover:before {\n",
              "  color: var(--sklearn-color-text);\n",
              "}\n",
              "\n",
              "/* Toggleable content - dropdown */\n",
              "\n",
              "#sk-container-id-1 div.sk-toggleable__content {\n",
              "  max-height: 0;\n",
              "  max-width: 0;\n",
              "  overflow: hidden;\n",
              "  text-align: left;\n",
              "  /* unfitted */\n",
              "  background-color: var(--sklearn-color-unfitted-level-0);\n",
              "}\n",
              "\n",
              "#sk-container-id-1 div.sk-toggleable__content.fitted {\n",
              "  /* fitted */\n",
              "  background-color: var(--sklearn-color-fitted-level-0);\n",
              "}\n",
              "\n",
              "#sk-container-id-1 div.sk-toggleable__content pre {\n",
              "  margin: 0.2em;\n",
              "  border-radius: 0.25em;\n",
              "  color: var(--sklearn-color-text);\n",
              "  /* unfitted */\n",
              "  background-color: var(--sklearn-color-unfitted-level-0);\n",
              "}\n",
              "\n",
              "#sk-container-id-1 div.sk-toggleable__content.fitted pre {\n",
              "  /* unfitted */\n",
              "  background-color: var(--sklearn-color-fitted-level-0);\n",
              "}\n",
              "\n",
              "#sk-container-id-1 input.sk-toggleable__control:checked~div.sk-toggleable__content {\n",
              "  /* Expand drop-down */\n",
              "  max-height: 200px;\n",
              "  max-width: 100%;\n",
              "  overflow: auto;\n",
              "}\n",
              "\n",
              "#sk-container-id-1 input.sk-toggleable__control:checked~label.sk-toggleable__label-arrow:before {\n",
              "  content: \"▾\";\n",
              "}\n",
              "\n",
              "/* Pipeline/ColumnTransformer-specific style */\n",
              "\n",
              "#sk-container-id-1 div.sk-label input.sk-toggleable__control:checked~label.sk-toggleable__label {\n",
              "  color: var(--sklearn-color-text);\n",
              "  background-color: var(--sklearn-color-unfitted-level-2);\n",
              "}\n",
              "\n",
              "#sk-container-id-1 div.sk-label.fitted input.sk-toggleable__control:checked~label.sk-toggleable__label {\n",
              "  background-color: var(--sklearn-color-fitted-level-2);\n",
              "}\n",
              "\n",
              "/* Estimator-specific style */\n",
              "\n",
              "/* Colorize estimator box */\n",
              "#sk-container-id-1 div.sk-estimator input.sk-toggleable__control:checked~label.sk-toggleable__label {\n",
              "  /* unfitted */\n",
              "  background-color: var(--sklearn-color-unfitted-level-2);\n",
              "}\n",
              "\n",
              "#sk-container-id-1 div.sk-estimator.fitted input.sk-toggleable__control:checked~label.sk-toggleable__label {\n",
              "  /* fitted */\n",
              "  background-color: var(--sklearn-color-fitted-level-2);\n",
              "}\n",
              "\n",
              "#sk-container-id-1 div.sk-label label.sk-toggleable__label,\n",
              "#sk-container-id-1 div.sk-label label {\n",
              "  /* The background is the default theme color */\n",
              "  color: var(--sklearn-color-text-on-default-background);\n",
              "}\n",
              "\n",
              "/* On hover, darken the color of the background */\n",
              "#sk-container-id-1 div.sk-label:hover label.sk-toggleable__label {\n",
              "  color: var(--sklearn-color-text);\n",
              "  background-color: var(--sklearn-color-unfitted-level-2);\n",
              "}\n",
              "\n",
              "/* Label box, darken color on hover, fitted */\n",
              "#sk-container-id-1 div.sk-label.fitted:hover label.sk-toggleable__label.fitted {\n",
              "  color: var(--sklearn-color-text);\n",
              "  background-color: var(--sklearn-color-fitted-level-2);\n",
              "}\n",
              "\n",
              "/* Estimator label */\n",
              "\n",
              "#sk-container-id-1 div.sk-label label {\n",
              "  font-family: monospace;\n",
              "  font-weight: bold;\n",
              "  display: inline-block;\n",
              "  line-height: 1.2em;\n",
              "}\n",
              "\n",
              "#sk-container-id-1 div.sk-label-container {\n",
              "  text-align: center;\n",
              "}\n",
              "\n",
              "/* Estimator-specific */\n",
              "#sk-container-id-1 div.sk-estimator {\n",
              "  font-family: monospace;\n",
              "  border: 1px dotted var(--sklearn-color-border-box);\n",
              "  border-radius: 0.25em;\n",
              "  box-sizing: border-box;\n",
              "  margin-bottom: 0.5em;\n",
              "  /* unfitted */\n",
              "  background-color: var(--sklearn-color-unfitted-level-0);\n",
              "}\n",
              "\n",
              "#sk-container-id-1 div.sk-estimator.fitted {\n",
              "  /* fitted */\n",
              "  background-color: var(--sklearn-color-fitted-level-0);\n",
              "}\n",
              "\n",
              "/* on hover */\n",
              "#sk-container-id-1 div.sk-estimator:hover {\n",
              "  /* unfitted */\n",
              "  background-color: var(--sklearn-color-unfitted-level-2);\n",
              "}\n",
              "\n",
              "#sk-container-id-1 div.sk-estimator.fitted:hover {\n",
              "  /* fitted */\n",
              "  background-color: var(--sklearn-color-fitted-level-2);\n",
              "}\n",
              "\n",
              "/* Specification for estimator info (e.g. \"i\" and \"?\") */\n",
              "\n",
              "/* Common style for \"i\" and \"?\" */\n",
              "\n",
              ".sk-estimator-doc-link,\n",
              "a:link.sk-estimator-doc-link,\n",
              "a:visited.sk-estimator-doc-link {\n",
              "  float: right;\n",
              "  font-size: smaller;\n",
              "  line-height: 1em;\n",
              "  font-family: monospace;\n",
              "  background-color: var(--sklearn-color-background);\n",
              "  border-radius: 1em;\n",
              "  height: 1em;\n",
              "  width: 1em;\n",
              "  text-decoration: none !important;\n",
              "  margin-left: 1ex;\n",
              "  /* unfitted */\n",
              "  border: var(--sklearn-color-unfitted-level-1) 1pt solid;\n",
              "  color: var(--sklearn-color-unfitted-level-1);\n",
              "}\n",
              "\n",
              ".sk-estimator-doc-link.fitted,\n",
              "a:link.sk-estimator-doc-link.fitted,\n",
              "a:visited.sk-estimator-doc-link.fitted {\n",
              "  /* fitted */\n",
              "  border: var(--sklearn-color-fitted-level-1) 1pt solid;\n",
              "  color: var(--sklearn-color-fitted-level-1);\n",
              "}\n",
              "\n",
              "/* On hover */\n",
              "div.sk-estimator:hover .sk-estimator-doc-link:hover,\n",
              ".sk-estimator-doc-link:hover,\n",
              "div.sk-label-container:hover .sk-estimator-doc-link:hover,\n",
              ".sk-estimator-doc-link:hover {\n",
              "  /* unfitted */\n",
              "  background-color: var(--sklearn-color-unfitted-level-3);\n",
              "  color: var(--sklearn-color-background);\n",
              "  text-decoration: none;\n",
              "}\n",
              "\n",
              "div.sk-estimator.fitted:hover .sk-estimator-doc-link.fitted:hover,\n",
              ".sk-estimator-doc-link.fitted:hover,\n",
              "div.sk-label-container:hover .sk-estimator-doc-link.fitted:hover,\n",
              ".sk-estimator-doc-link.fitted:hover {\n",
              "  /* fitted */\n",
              "  background-color: var(--sklearn-color-fitted-level-3);\n",
              "  color: var(--sklearn-color-background);\n",
              "  text-decoration: none;\n",
              "}\n",
              "\n",
              "/* Span, style for the box shown on hovering the info icon */\n",
              ".sk-estimator-doc-link span {\n",
              "  display: none;\n",
              "  z-index: 9999;\n",
              "  position: relative;\n",
              "  font-weight: normal;\n",
              "  right: .2ex;\n",
              "  padding: .5ex;\n",
              "  margin: .5ex;\n",
              "  width: min-content;\n",
              "  min-width: 20ex;\n",
              "  max-width: 50ex;\n",
              "  color: var(--sklearn-color-text);\n",
              "  box-shadow: 2pt 2pt 4pt #999;\n",
              "  /* unfitted */\n",
              "  background: var(--sklearn-color-unfitted-level-0);\n",
              "  border: .5pt solid var(--sklearn-color-unfitted-level-3);\n",
              "}\n",
              "\n",
              ".sk-estimator-doc-link.fitted span {\n",
              "  /* fitted */\n",
              "  background: var(--sklearn-color-fitted-level-0);\n",
              "  border: var(--sklearn-color-fitted-level-3);\n",
              "}\n",
              "\n",
              ".sk-estimator-doc-link:hover span {\n",
              "  display: block;\n",
              "}\n",
              "\n",
              "/* \"?\"-specific style due to the `<a>` HTML tag */\n",
              "\n",
              "#sk-container-id-1 a.estimator_doc_link {\n",
              "  float: right;\n",
              "  font-size: 1rem;\n",
              "  line-height: 1em;\n",
              "  font-family: monospace;\n",
              "  background-color: var(--sklearn-color-background);\n",
              "  border-radius: 1rem;\n",
              "  height: 1rem;\n",
              "  width: 1rem;\n",
              "  text-decoration: none;\n",
              "  /* unfitted */\n",
              "  color: var(--sklearn-color-unfitted-level-1);\n",
              "  border: var(--sklearn-color-unfitted-level-1) 1pt solid;\n",
              "}\n",
              "\n",
              "#sk-container-id-1 a.estimator_doc_link.fitted {\n",
              "  /* fitted */\n",
              "  border: var(--sklearn-color-fitted-level-1) 1pt solid;\n",
              "  color: var(--sklearn-color-fitted-level-1);\n",
              "}\n",
              "\n",
              "/* On hover */\n",
              "#sk-container-id-1 a.estimator_doc_link:hover {\n",
              "  /* unfitted */\n",
              "  background-color: var(--sklearn-color-unfitted-level-3);\n",
              "  color: var(--sklearn-color-background);\n",
              "  text-decoration: none;\n",
              "}\n",
              "\n",
              "#sk-container-id-1 a.estimator_doc_link.fitted:hover {\n",
              "  /* fitted */\n",
              "  background-color: var(--sklearn-color-fitted-level-3);\n",
              "}\n",
              "</style><div id=\"sk-container-id-1\" class=\"sk-top-container\"><div class=\"sk-text-repr-fallback\"><pre>GridSearchCV(cv=3,\n",
              "             estimator=Pipeline(steps=[(&#x27;vect&#x27;,\n",
              "                                        TfidfVectorizer(stop_words=[&#x27;i&#x27;, &#x27;me&#x27;,\n",
              "                                                                    &#x27;my&#x27;,\n",
              "                                                                    &#x27;myself&#x27;,\n",
              "                                                                    &#x27;we&#x27;, &#x27;our&#x27;,\n",
              "                                                                    &#x27;ours&#x27;,\n",
              "                                                                    &#x27;ourselves&#x27;,\n",
              "                                                                    &#x27;you&#x27;,\n",
              "                                                                    &quot;you&#x27;re&quot;,\n",
              "                                                                    &quot;you&#x27;ve&quot;,\n",
              "                                                                    &quot;you&#x27;ll&quot;,\n",
              "                                                                    &quot;you&#x27;d&quot;,\n",
              "                                                                    &#x27;your&#x27;,\n",
              "                                                                    &#x27;yours&#x27;,\n",
              "                                                                    &#x27;yourself&#x27;,\n",
              "                                                                    &#x27;yourselves&#x27;,\n",
              "                                                                    &#x27;he&#x27;, &#x27;him&#x27;,\n",
              "                                                                    &#x27;his&#x27;,\n",
              "                                                                    &#x27;himself&#x27;,\n",
              "                                                                    &#x27;she&#x27;,\n",
              "                                                                    &quot;she&#x27;s&quot;,\n",
              "                                                                    &#x27;her&#x27;,\n",
              "                                                                    &#x27;hers&#x27;,\n",
              "                                                                    &#x27;herself&#x27;,\n",
              "                                                                    &#x27;it&#x27;,\n",
              "                                                                    &quot;it&#x27;s&quot;,\n",
              "                                                                    &#x27;its&#x27;,\n",
              "                                                                    &#x27;itself&#x27;, ...])),\n",
              "                                       (&#x27;models&#x27;, LogisticRegression())]),\n",
              "             n_jobs=-1,\n",
              "             param_grid=[{&#x27;models&#x27;: [LogisticRegression(class_weight=&#x27;balanced&#x27;,\n",
              "                                                        max_iter=1000,\n",
              "                                                        random_state=42,\n",
              "                                                        solver=&#x27;liblinear&#x27;)],\n",
              "                          &#x27;models__C&#x27;: range(5, 15),\n",
              "                          &#x27;models__penalty&#x27;: [&#x27;l1&#x27;, &#x27;l2&#x27;]},\n",
              "                         {&#x27;models&#x27;: [&lt;catboost.core.CatBoostClassifier object at 0x7fd2b2cbe970&gt;],\n",
              "                          &#x27;models__learning_rate&#x27;: [0.1, 0.5]}],\n",
              "             scoring=make_scorer(f1_score, response_method=&#x27;predict&#x27;))</pre><b>In a Jupyter environment, please rerun this cell to show the HTML representation or trust the notebook. <br />On GitHub, the HTML representation is unable to render, please try loading this page with nbviewer.org.</b></div><div class=\"sk-container\" hidden><div class=\"sk-item sk-dashed-wrapped\"><div class=\"sk-label-container\"><div class=\"sk-label fitted sk-toggleable\"><input class=\"sk-toggleable__control sk-hidden--visually\" id=\"sk-estimator-id-1\" type=\"checkbox\" ><label for=\"sk-estimator-id-1\" class=\"sk-toggleable__label fitted sk-toggleable__label-arrow fitted\">&nbsp;&nbsp;GridSearchCV<a class=\"sk-estimator-doc-link fitted\" rel=\"noreferrer\" target=\"_blank\" href=\"https://scikit-learn.org/1.4/modules/generated/sklearn.model_selection.GridSearchCV.html\">?<span>Documentation for GridSearchCV</span></a><span class=\"sk-estimator-doc-link fitted\">i<span>Fitted</span></span></label><div class=\"sk-toggleable__content fitted\"><pre>GridSearchCV(cv=3,\n",
              "             estimator=Pipeline(steps=[(&#x27;vect&#x27;,\n",
              "                                        TfidfVectorizer(stop_words=[&#x27;i&#x27;, &#x27;me&#x27;,\n",
              "                                                                    &#x27;my&#x27;,\n",
              "                                                                    &#x27;myself&#x27;,\n",
              "                                                                    &#x27;we&#x27;, &#x27;our&#x27;,\n",
              "                                                                    &#x27;ours&#x27;,\n",
              "                                                                    &#x27;ourselves&#x27;,\n",
              "                                                                    &#x27;you&#x27;,\n",
              "                                                                    &quot;you&#x27;re&quot;,\n",
              "                                                                    &quot;you&#x27;ve&quot;,\n",
              "                                                                    &quot;you&#x27;ll&quot;,\n",
              "                                                                    &quot;you&#x27;d&quot;,\n",
              "                                                                    &#x27;your&#x27;,\n",
              "                                                                    &#x27;yours&#x27;,\n",
              "                                                                    &#x27;yourself&#x27;,\n",
              "                                                                    &#x27;yourselves&#x27;,\n",
              "                                                                    &#x27;he&#x27;, &#x27;him&#x27;,\n",
              "                                                                    &#x27;his&#x27;,\n",
              "                                                                    &#x27;himself&#x27;,\n",
              "                                                                    &#x27;she&#x27;,\n",
              "                                                                    &quot;she&#x27;s&quot;,\n",
              "                                                                    &#x27;her&#x27;,\n",
              "                                                                    &#x27;hers&#x27;,\n",
              "                                                                    &#x27;herself&#x27;,\n",
              "                                                                    &#x27;it&#x27;,\n",
              "                                                                    &quot;it&#x27;s&quot;,\n",
              "                                                                    &#x27;its&#x27;,\n",
              "                                                                    &#x27;itself&#x27;, ...])),\n",
              "                                       (&#x27;models&#x27;, LogisticRegression())]),\n",
              "             n_jobs=-1,\n",
              "             param_grid=[{&#x27;models&#x27;: [LogisticRegression(class_weight=&#x27;balanced&#x27;,\n",
              "                                                        max_iter=1000,\n",
              "                                                        random_state=42,\n",
              "                                                        solver=&#x27;liblinear&#x27;)],\n",
              "                          &#x27;models__C&#x27;: range(5, 15),\n",
              "                          &#x27;models__penalty&#x27;: [&#x27;l1&#x27;, &#x27;l2&#x27;]},\n",
              "                         {&#x27;models&#x27;: [&lt;catboost.core.CatBoostClassifier object at 0x7fd2b2cbe970&gt;],\n",
              "                          &#x27;models__learning_rate&#x27;: [0.1, 0.5]}],\n",
              "             scoring=make_scorer(f1_score, response_method=&#x27;predict&#x27;))</pre></div> </div></div><div class=\"sk-parallel\"><div class=\"sk-parallel-item\"><div class=\"sk-item\"><div class=\"sk-label-container\"><div class=\"sk-label fitted sk-toggleable\"><input class=\"sk-toggleable__control sk-hidden--visually\" id=\"sk-estimator-id-2\" type=\"checkbox\" ><label for=\"sk-estimator-id-2\" class=\"sk-toggleable__label fitted sk-toggleable__label-arrow fitted\">estimator: Pipeline</label><div class=\"sk-toggleable__content fitted\"><pre>Pipeline(steps=[(&#x27;vect&#x27;,\n",
              "                 TfidfVectorizer(stop_words=[&#x27;i&#x27;, &#x27;me&#x27;, &#x27;my&#x27;, &#x27;myself&#x27;, &#x27;we&#x27;,\n",
              "                                             &#x27;our&#x27;, &#x27;ours&#x27;, &#x27;ourselves&#x27;, &#x27;you&#x27;,\n",
              "                                             &quot;you&#x27;re&quot;, &quot;you&#x27;ve&quot;, &quot;you&#x27;ll&quot;,\n",
              "                                             &quot;you&#x27;d&quot;, &#x27;your&#x27;, &#x27;yours&#x27;,\n",
              "                                             &#x27;yourself&#x27;, &#x27;yourselves&#x27;, &#x27;he&#x27;,\n",
              "                                             &#x27;him&#x27;, &#x27;his&#x27;, &#x27;himself&#x27;, &#x27;she&#x27;,\n",
              "                                             &quot;she&#x27;s&quot;, &#x27;her&#x27;, &#x27;hers&#x27;, &#x27;herself&#x27;,\n",
              "                                             &#x27;it&#x27;, &quot;it&#x27;s&quot;, &#x27;its&#x27;, &#x27;itself&#x27;, ...])),\n",
              "                (&#x27;models&#x27;, LogisticRegression())])</pre></div> </div></div><div class=\"sk-serial\"><div class=\"sk-item\"><div class=\"sk-serial\"><div class=\"sk-item\"><div class=\"sk-estimator fitted sk-toggleable\"><input class=\"sk-toggleable__control sk-hidden--visually\" id=\"sk-estimator-id-3\" type=\"checkbox\" ><label for=\"sk-estimator-id-3\" class=\"sk-toggleable__label fitted sk-toggleable__label-arrow fitted\">&nbsp;TfidfVectorizer<a class=\"sk-estimator-doc-link fitted\" rel=\"noreferrer\" target=\"_blank\" href=\"https://scikit-learn.org/1.4/modules/generated/sklearn.feature_extraction.text.TfidfVectorizer.html\">?<span>Documentation for TfidfVectorizer</span></a></label><div class=\"sk-toggleable__content fitted\"><pre>TfidfVectorizer(stop_words=[&#x27;i&#x27;, &#x27;me&#x27;, &#x27;my&#x27;, &#x27;myself&#x27;, &#x27;we&#x27;, &#x27;our&#x27;, &#x27;ours&#x27;,\n",
              "                            &#x27;ourselves&#x27;, &#x27;you&#x27;, &quot;you&#x27;re&quot;, &quot;you&#x27;ve&quot;, &quot;you&#x27;ll&quot;,\n",
              "                            &quot;you&#x27;d&quot;, &#x27;your&#x27;, &#x27;yours&#x27;, &#x27;yourself&#x27;, &#x27;yourselves&#x27;,\n",
              "                            &#x27;he&#x27;, &#x27;him&#x27;, &#x27;his&#x27;, &#x27;himself&#x27;, &#x27;she&#x27;, &quot;she&#x27;s&quot;,\n",
              "                            &#x27;her&#x27;, &#x27;hers&#x27;, &#x27;herself&#x27;, &#x27;it&#x27;, &quot;it&#x27;s&quot;, &#x27;its&#x27;,\n",
              "                            &#x27;itself&#x27;, ...])</pre></div> </div></div><div class=\"sk-item\"><div class=\"sk-estimator fitted sk-toggleable\"><input class=\"sk-toggleable__control sk-hidden--visually\" id=\"sk-estimator-id-4\" type=\"checkbox\" ><label for=\"sk-estimator-id-4\" class=\"sk-toggleable__label fitted sk-toggleable__label-arrow fitted\">&nbsp;LogisticRegression<a class=\"sk-estimator-doc-link fitted\" rel=\"noreferrer\" target=\"_blank\" href=\"https://scikit-learn.org/1.4/modules/generated/sklearn.linear_model.LogisticRegression.html\">?<span>Documentation for LogisticRegression</span></a></label><div class=\"sk-toggleable__content fitted\"><pre>LogisticRegression()</pre></div> </div></div></div></div></div></div></div></div></div></div></div>"
            ],
            "text/plain": [
              "GridSearchCV(cv=3,\n",
              "             estimator=Pipeline(steps=[('vect',\n",
              "                                        TfidfVectorizer(stop_words=['i', 'me',\n",
              "                                                                    'my',\n",
              "                                                                    'myself',\n",
              "                                                                    'we', 'our',\n",
              "                                                                    'ours',\n",
              "                                                                    'ourselves',\n",
              "                                                                    'you',\n",
              "                                                                    \"you're\",\n",
              "                                                                    \"you've\",\n",
              "                                                                    \"you'll\",\n",
              "                                                                    \"you'd\",\n",
              "                                                                    'your',\n",
              "                                                                    'yours',\n",
              "                                                                    'yourself',\n",
              "                                                                    'yourselves',\n",
              "                                                                    'he', 'him',\n",
              "                                                                    'his',\n",
              "                                                                    'himself',\n",
              "                                                                    'she',\n",
              "                                                                    \"she's\",\n",
              "                                                                    'her',\n",
              "                                                                    'hers',\n",
              "                                                                    'herself',\n",
              "                                                                    'it',\n",
              "                                                                    \"it's\",\n",
              "                                                                    'its',\n",
              "                                                                    'itself', ...])),\n",
              "                                       ('models', LogisticRegression())]),\n",
              "             n_jobs=-1,\n",
              "             param_grid=[{'models': [LogisticRegression(class_weight='balanced',\n",
              "                                                        max_iter=1000,\n",
              "                                                        random_state=42,\n",
              "                                                        solver='liblinear')],\n",
              "                          'models__C': range(5, 15),\n",
              "                          'models__penalty': ['l1', 'l2']},\n",
              "                         {'models': [<catboost.core.CatBoostClassifier object at 0x7fd2b2cbe970>],\n",
              "                          'models__learning_rate': [0.1, 0.5]}],\n",
              "             scoring=make_scorer(f1_score, response_method='predict'))"
            ]
          },
          "execution_count": 26,
          "metadata": {},
          "output_type": "execute_result"
        }
      ],
      "source": [
        "grid_search.fit(X_train, y_train)"
      ]
    },
    {
      "cell_type": "code",
      "execution_count": null,
      "metadata": {
        "id": "YdFzIee00Gvi",
        "outputId": "fd0e8511-168e-409f-dda6-3dcc1d5c03ec"
      },
      "outputs": [
        {
          "name": "stdout",
          "output_type": "stream",
          "text": [
            "F1_score для лучшей модели на кросс-валидации: 0.76\n"
          ]
        }
      ],
      "source": [
        "F1_score = grid_search.best_score_\n",
        "print(f'F1_score for the best model on cross-validation: {F1_score:.2f}')"
      ]
    },
    {
      "cell_type": "markdown",
      "metadata": {
        "id": "G-9vUevk0Gvj"
      },
      "source": [
        "Посмотрим на параметры лучшей модели:"
      ]
    },
    {
      "cell_type": "code",
      "execution_count": null,
      "metadata": {
        "id": "pZcPdeUT0Gvj",
        "outputId": "a5ef5cd9-9100-495b-9f4c-397b0cb0591e"
      },
      "outputs": [
        {
          "data": {
            "text/plain": [
              "{'models': <catboost.core.CatBoostClassifier at 0x7fd2b2cbe970>,\n",
              " 'models__learning_rate': 0.5}"
            ]
          },
          "execution_count": 28,
          "metadata": {},
          "output_type": "execute_result"
        }
      ],
      "source": [
        "grid_search.best_params_"
      ]
    },
    {
      "cell_type": "code",
      "execution_count": null,
      "metadata": {
        "id": "DrwcSx5e0Gvj",
        "outputId": "63a03edb-1748-420e-aa8d-83cf6b0399b4"
      },
      "outputs": [
        {
          "data": {
            "text/html": [
              "<div>\n",
              "<style scoped>\n",
              "    .dataframe tbody tr th:only-of-type {\n",
              "        vertical-align: middle;\n",
              "    }\n",
              "\n",
              "    .dataframe tbody tr th {\n",
              "        vertical-align: top;\n",
              "    }\n",
              "\n",
              "    .dataframe thead th {\n",
              "        text-align: right;\n",
              "    }\n",
              "</style>\n",
              "<table border=\"1\" class=\"dataframe\">\n",
              "  <thead>\n",
              "    <tr style=\"text-align: right;\">\n",
              "      <th></th>\n",
              "      <th>mean_fit_time</th>\n",
              "      <th>std_fit_time</th>\n",
              "      <th>mean_score_time</th>\n",
              "      <th>std_score_time</th>\n",
              "      <th>param_models</th>\n",
              "      <th>param_models__C</th>\n",
              "      <th>param_models__penalty</th>\n",
              "      <th>param_models__learning_rate</th>\n",
              "      <th>params</th>\n",
              "      <th>split0_test_score</th>\n",
              "      <th>split1_test_score</th>\n",
              "      <th>split2_test_score</th>\n",
              "      <th>mean_test_score</th>\n",
              "      <th>std_test_score</th>\n",
              "      <th>rank_test_score</th>\n",
              "    </tr>\n",
              "  </thead>\n",
              "  <tbody>\n",
              "    <tr>\n",
              "      <th>21</th>\n",
              "      <td>431.007029</td>\n",
              "      <td>5.067633</td>\n",
              "      <td>1.117746</td>\n",
              "      <td>0.032440</td>\n",
              "      <td>&lt;catboost.core.CatBoostClassifier object at 0x...</td>\n",
              "      <td>NaN</td>\n",
              "      <td>NaN</td>\n",
              "      <td>0.5</td>\n",
              "      <td>{'models': &lt;catboost.core.CatBoostClassifier o...</td>\n",
              "      <td>0.755479</td>\n",
              "      <td>0.750384</td>\n",
              "      <td>0.763359</td>\n",
              "      <td>0.756407</td>\n",
              "      <td>0.005338</td>\n",
              "      <td>1</td>\n",
              "    </tr>\n",
              "    <tr>\n",
              "      <th>17</th>\n",
              "      <td>15.660775</td>\n",
              "      <td>0.235865</td>\n",
              "      <td>0.961803</td>\n",
              "      <td>0.023140</td>\n",
              "      <td>LogisticRegression(class_weight='balanced', ma...</td>\n",
              "      <td>13</td>\n",
              "      <td>l2</td>\n",
              "      <td>NaN</td>\n",
              "      <td>{'models': LogisticRegression(class_weight='ba...</td>\n",
              "      <td>0.762230</td>\n",
              "      <td>0.748434</td>\n",
              "      <td>0.754360</td>\n",
              "      <td>0.755008</td>\n",
              "      <td>0.005651</td>\n",
              "      <td>2</td>\n",
              "    </tr>\n",
              "    <tr>\n",
              "      <th>5</th>\n",
              "      <td>12.493378</td>\n",
              "      <td>0.258806</td>\n",
              "      <td>1.022030</td>\n",
              "      <td>0.005056</td>\n",
              "      <td>LogisticRegression(class_weight='balanced', ma...</td>\n",
              "      <td>7</td>\n",
              "      <td>l2</td>\n",
              "      <td>NaN</td>\n",
              "      <td>{'models': LogisticRegression(class_weight='ba...</td>\n",
              "      <td>0.761464</td>\n",
              "      <td>0.746916</td>\n",
              "      <td>0.755254</td>\n",
              "      <td>0.754545</td>\n",
              "      <td>0.005960</td>\n",
              "      <td>3</td>\n",
              "    </tr>\n",
              "    <tr>\n",
              "      <th>11</th>\n",
              "      <td>14.377527</td>\n",
              "      <td>0.485345</td>\n",
              "      <td>0.997361</td>\n",
              "      <td>0.009521</td>\n",
              "      <td>LogisticRegression(class_weight='balanced', ma...</td>\n",
              "      <td>10</td>\n",
              "      <td>l2</td>\n",
              "      <td>NaN</td>\n",
              "      <td>{'models': LogisticRegression(class_weight='ba...</td>\n",
              "      <td>0.762187</td>\n",
              "      <td>0.747639</td>\n",
              "      <td>0.753258</td>\n",
              "      <td>0.754362</td>\n",
              "      <td>0.005990</td>\n",
              "      <td>4</td>\n",
              "    </tr>\n",
              "    <tr>\n",
              "      <th>19</th>\n",
              "      <td>15.301699</td>\n",
              "      <td>0.419365</td>\n",
              "      <td>0.999549</td>\n",
              "      <td>0.033471</td>\n",
              "      <td>LogisticRegression(class_weight='balanced', ma...</td>\n",
              "      <td>14</td>\n",
              "      <td>l2</td>\n",
              "      <td>NaN</td>\n",
              "      <td>{'models': LogisticRegression(class_weight='ba...</td>\n",
              "      <td>0.761395</td>\n",
              "      <td>0.747676</td>\n",
              "      <td>0.753504</td>\n",
              "      <td>0.754192</td>\n",
              "      <td>0.005622</td>\n",
              "      <td>5</td>\n",
              "    </tr>\n",
              "  </tbody>\n",
              "</table>\n",
              "</div>"
            ],
            "text/plain": [
              "    mean_fit_time  std_fit_time  mean_score_time  std_score_time  \\\n",
              "21     431.007029      5.067633         1.117746        0.032440   \n",
              "17      15.660775      0.235865         0.961803        0.023140   \n",
              "5       12.493378      0.258806         1.022030        0.005056   \n",
              "11      14.377527      0.485345         0.997361        0.009521   \n",
              "19      15.301699      0.419365         0.999549        0.033471   \n",
              "\n",
              "                                         param_models param_models__C  \\\n",
              "21  <catboost.core.CatBoostClassifier object at 0x...             NaN   \n",
              "17  LogisticRegression(class_weight='balanced', ma...              13   \n",
              "5   LogisticRegression(class_weight='balanced', ma...               7   \n",
              "11  LogisticRegression(class_weight='balanced', ma...              10   \n",
              "19  LogisticRegression(class_weight='balanced', ma...              14   \n",
              "\n",
              "   param_models__penalty param_models__learning_rate  \\\n",
              "21                   NaN                         0.5   \n",
              "17                    l2                         NaN   \n",
              "5                     l2                         NaN   \n",
              "11                    l2                         NaN   \n",
              "19                    l2                         NaN   \n",
              "\n",
              "                                               params  split0_test_score  \\\n",
              "21  {'models': <catboost.core.CatBoostClassifier o...           0.755479   \n",
              "17  {'models': LogisticRegression(class_weight='ba...           0.762230   \n",
              "5   {'models': LogisticRegression(class_weight='ba...           0.761464   \n",
              "11  {'models': LogisticRegression(class_weight='ba...           0.762187   \n",
              "19  {'models': LogisticRegression(class_weight='ba...           0.761395   \n",
              "\n",
              "    split1_test_score  split2_test_score  mean_test_score  std_test_score  \\\n",
              "21           0.750384           0.763359         0.756407        0.005338   \n",
              "17           0.748434           0.754360         0.755008        0.005651   \n",
              "5            0.746916           0.755254         0.754545        0.005960   \n",
              "11           0.747639           0.753258         0.754362        0.005990   \n",
              "19           0.747676           0.753504         0.754192        0.005622   \n",
              "\n",
              "    rank_test_score  \n",
              "21                1  \n",
              "17                2  \n",
              "5                 3  \n",
              "11                4  \n",
              "19                5  "
            ]
          },
          "execution_count": 29,
          "metadata": {},
          "output_type": "execute_result"
        }
      ],
      "source": [
        "results = pd.DataFrame(grid_search.cv_results_)\n",
        "results = results.sort_values(by='mean_test_score', ascending=False).head(5)\n",
        "results"
      ]
    },
    {
      "cell_type": "markdown",
      "metadata": {
        "id": "zSn2hZq40Gvj"
      },
      "source": [
        "Let's save the best model into a variable:"
      ]
    },
    {
      "cell_type": "code",
      "execution_count": null,
      "metadata": {
        "id": "oG2CsXja0Gvj"
      },
      "outputs": [],
      "source": [
        "best_model = grid_search.best_estimator_"
      ]
    },
    {
      "cell_type": "markdown",
      "metadata": {
        "id": "5VIP3dmT0Gvj"
      },
      "source": [
        "Taking into account the average training time of the CatBoostClassifier model, we will also consider the second-ranking LogisticRegression model with the parameters:"
      ]
    },
    {
      "cell_type": "code",
      "execution_count": null,
      "metadata": {
        "id": "V_Lod1lR0Gvj",
        "outputId": "27c1e477-99e3-4e7c-fa3a-59ca2b063f17"
      },
      "outputs": [
        {
          "data": {
            "text/plain": [
              "{'models': LogisticRegression(class_weight='balanced', max_iter=1000, random_state=42,\n",
              "                    solver='liblinear'),\n",
              " 'models__C': 13,\n",
              " 'models__penalty': 'l2'}"
            ]
          },
          "execution_count": 31,
          "metadata": {},
          "output_type": "execute_result"
        }
      ],
      "source": [
        "second_best_params = results.iloc[1]['params']\n",
        "second_best_params"
      ]
    },
    {
      "cell_type": "code",
      "execution_count": null,
      "metadata": {
        "id": "DMmg2XbE0Gvk"
      },
      "outputs": [],
      "source": [
        "second_best_model = LogisticRegression(random_state=RANDOM_STATE,\n",
        "                                       solver='liblinear',\n",
        "                                       max_iter=1000,\n",
        "                                       class_weight='balanced',\n",
        "                                       C=13,\n",
        "                                       penalty='l2'\n",
        "                                      )"
      ]
    },
    {
      "cell_type": "code",
      "execution_count": null,
      "metadata": {
        "id": "XINdZh_d0Gvk"
      },
      "outputs": [],
      "source": [
        "pipe_final_second = Pipeline(\n",
        "    [\n",
        "        ('vect', TfidfVectorizer(stop_words=stopwords)),\n",
        "        ('model_2', LogisticRegression(random_state=RANDOM_STATE,\n",
        "                                       solver='liblinear',\n",
        "                                       max_iter=1000,\n",
        "                                       class_weight='balanced',\n",
        "                                       C=13,\n",
        "                                       penalty='l2'))\n",
        "\n",
        "    ]\n",
        ")"
      ]
    },
    {
      "cell_type": "code",
      "execution_count": null,
      "metadata": {
        "id": "eOvp8o_D0Gvk",
        "outputId": "e93d2ed0-2c30-4198-c6b2-8231daed244a"
      },
      "outputs": [
        {
          "data": {
            "text/html": [
              "<style>#sk-container-id-2 {\n",
              "  /* Definition of color scheme common for light and dark mode */\n",
              "  --sklearn-color-text: black;\n",
              "  --sklearn-color-line: gray;\n",
              "  /* Definition of color scheme for unfitted estimators */\n",
              "  --sklearn-color-unfitted-level-0: #fff5e6;\n",
              "  --sklearn-color-unfitted-level-1: #f6e4d2;\n",
              "  --sklearn-color-unfitted-level-2: #ffe0b3;\n",
              "  --sklearn-color-unfitted-level-3: chocolate;\n",
              "  /* Definition of color scheme for fitted estimators */\n",
              "  --sklearn-color-fitted-level-0: #f0f8ff;\n",
              "  --sklearn-color-fitted-level-1: #d4ebff;\n",
              "  --sklearn-color-fitted-level-2: #b3dbfd;\n",
              "  --sklearn-color-fitted-level-3: cornflowerblue;\n",
              "\n",
              "  /* Specific color for light theme */\n",
              "  --sklearn-color-text-on-default-background: var(--sg-text-color, var(--theme-code-foreground, var(--jp-content-font-color1, black)));\n",
              "  --sklearn-color-background: var(--sg-background-color, var(--theme-background, var(--jp-layout-color0, white)));\n",
              "  --sklearn-color-border-box: var(--sg-text-color, var(--theme-code-foreground, var(--jp-content-font-color1, black)));\n",
              "  --sklearn-color-icon: #696969;\n",
              "\n",
              "  @media (prefers-color-scheme: dark) {\n",
              "    /* Redefinition of color scheme for dark theme */\n",
              "    --sklearn-color-text-on-default-background: var(--sg-text-color, var(--theme-code-foreground, var(--jp-content-font-color1, white)));\n",
              "    --sklearn-color-background: var(--sg-background-color, var(--theme-background, var(--jp-layout-color0, #111)));\n",
              "    --sklearn-color-border-box: var(--sg-text-color, var(--theme-code-foreground, var(--jp-content-font-color1, white)));\n",
              "    --sklearn-color-icon: #878787;\n",
              "  }\n",
              "}\n",
              "\n",
              "#sk-container-id-2 {\n",
              "  color: var(--sklearn-color-text);\n",
              "}\n",
              "\n",
              "#sk-container-id-2 pre {\n",
              "  padding: 0;\n",
              "}\n",
              "\n",
              "#sk-container-id-2 input.sk-hidden--visually {\n",
              "  border: 0;\n",
              "  clip: rect(1px 1px 1px 1px);\n",
              "  clip: rect(1px, 1px, 1px, 1px);\n",
              "  height: 1px;\n",
              "  margin: -1px;\n",
              "  overflow: hidden;\n",
              "  padding: 0;\n",
              "  position: absolute;\n",
              "  width: 1px;\n",
              "}\n",
              "\n",
              "#sk-container-id-2 div.sk-dashed-wrapped {\n",
              "  border: 1px dashed var(--sklearn-color-line);\n",
              "  margin: 0 0.4em 0.5em 0.4em;\n",
              "  box-sizing: border-box;\n",
              "  padding-bottom: 0.4em;\n",
              "  background-color: var(--sklearn-color-background);\n",
              "}\n",
              "\n",
              "#sk-container-id-2 div.sk-container {\n",
              "  /* jupyter's `normalize.less` sets `[hidden] { display: none; }`\n",
              "     but bootstrap.min.css set `[hidden] { display: none !important; }`\n",
              "     so we also need the `!important` here to be able to override the\n",
              "     default hidden behavior on the sphinx rendered scikit-learn.org.\n",
              "     See: https://github.com/scikit-learn/scikit-learn/issues/21755 */\n",
              "  display: inline-block !important;\n",
              "  position: relative;\n",
              "}\n",
              "\n",
              "#sk-container-id-2 div.sk-text-repr-fallback {\n",
              "  display: none;\n",
              "}\n",
              "\n",
              "div.sk-parallel-item,\n",
              "div.sk-serial,\n",
              "div.sk-item {\n",
              "  /* draw centered vertical line to link estimators */\n",
              "  background-image: linear-gradient(var(--sklearn-color-text-on-default-background), var(--sklearn-color-text-on-default-background));\n",
              "  background-size: 2px 100%;\n",
              "  background-repeat: no-repeat;\n",
              "  background-position: center center;\n",
              "}\n",
              "\n",
              "/* Parallel-specific style estimator block */\n",
              "\n",
              "#sk-container-id-2 div.sk-parallel-item::after {\n",
              "  content: \"\";\n",
              "  width: 100%;\n",
              "  border-bottom: 2px solid var(--sklearn-color-text-on-default-background);\n",
              "  flex-grow: 1;\n",
              "}\n",
              "\n",
              "#sk-container-id-2 div.sk-parallel {\n",
              "  display: flex;\n",
              "  align-items: stretch;\n",
              "  justify-content: center;\n",
              "  background-color: var(--sklearn-color-background);\n",
              "  position: relative;\n",
              "}\n",
              "\n",
              "#sk-container-id-2 div.sk-parallel-item {\n",
              "  display: flex;\n",
              "  flex-direction: column;\n",
              "}\n",
              "\n",
              "#sk-container-id-2 div.sk-parallel-item:first-child::after {\n",
              "  align-self: flex-end;\n",
              "  width: 50%;\n",
              "}\n",
              "\n",
              "#sk-container-id-2 div.sk-parallel-item:last-child::after {\n",
              "  align-self: flex-start;\n",
              "  width: 50%;\n",
              "}\n",
              "\n",
              "#sk-container-id-2 div.sk-parallel-item:only-child::after {\n",
              "  width: 0;\n",
              "}\n",
              "\n",
              "/* Serial-specific style estimator block */\n",
              "\n",
              "#sk-container-id-2 div.sk-serial {\n",
              "  display: flex;\n",
              "  flex-direction: column;\n",
              "  align-items: center;\n",
              "  background-color: var(--sklearn-color-background);\n",
              "  padding-right: 1em;\n",
              "  padding-left: 1em;\n",
              "}\n",
              "\n",
              "\n",
              "/* Toggleable style: style used for estimator/Pipeline/ColumnTransformer box that is\n",
              "clickable and can be expanded/collapsed.\n",
              "- Pipeline and ColumnTransformer use this feature and define the default style\n",
              "- Estimators will overwrite some part of the style using the `sk-estimator` class\n",
              "*/\n",
              "\n",
              "/* Pipeline and ColumnTransformer style (default) */\n",
              "\n",
              "#sk-container-id-2 div.sk-toggleable {\n",
              "  /* Default theme specific background. It is overwritten whether we have a\n",
              "  specific estimator or a Pipeline/ColumnTransformer */\n",
              "  background-color: var(--sklearn-color-background);\n",
              "}\n",
              "\n",
              "/* Toggleable label */\n",
              "#sk-container-id-2 label.sk-toggleable__label {\n",
              "  cursor: pointer;\n",
              "  display: block;\n",
              "  width: 100%;\n",
              "  margin-bottom: 0;\n",
              "  padding: 0.5em;\n",
              "  box-sizing: border-box;\n",
              "  text-align: center;\n",
              "}\n",
              "\n",
              "#sk-container-id-2 label.sk-toggleable__label-arrow:before {\n",
              "  /* Arrow on the left of the label */\n",
              "  content: \"▸\";\n",
              "  float: left;\n",
              "  margin-right: 0.25em;\n",
              "  color: var(--sklearn-color-icon);\n",
              "}\n",
              "\n",
              "#sk-container-id-2 label.sk-toggleable__label-arrow:hover:before {\n",
              "  color: var(--sklearn-color-text);\n",
              "}\n",
              "\n",
              "/* Toggleable content - dropdown */\n",
              "\n",
              "#sk-container-id-2 div.sk-toggleable__content {\n",
              "  max-height: 0;\n",
              "  max-width: 0;\n",
              "  overflow: hidden;\n",
              "  text-align: left;\n",
              "  /* unfitted */\n",
              "  background-color: var(--sklearn-color-unfitted-level-0);\n",
              "}\n",
              "\n",
              "#sk-container-id-2 div.sk-toggleable__content.fitted {\n",
              "  /* fitted */\n",
              "  background-color: var(--sklearn-color-fitted-level-0);\n",
              "}\n",
              "\n",
              "#sk-container-id-2 div.sk-toggleable__content pre {\n",
              "  margin: 0.2em;\n",
              "  border-radius: 0.25em;\n",
              "  color: var(--sklearn-color-text);\n",
              "  /* unfitted */\n",
              "  background-color: var(--sklearn-color-unfitted-level-0);\n",
              "}\n",
              "\n",
              "#sk-container-id-2 div.sk-toggleable__content.fitted pre {\n",
              "  /* unfitted */\n",
              "  background-color: var(--sklearn-color-fitted-level-0);\n",
              "}\n",
              "\n",
              "#sk-container-id-2 input.sk-toggleable__control:checked~div.sk-toggleable__content {\n",
              "  /* Expand drop-down */\n",
              "  max-height: 200px;\n",
              "  max-width: 100%;\n",
              "  overflow: auto;\n",
              "}\n",
              "\n",
              "#sk-container-id-2 input.sk-toggleable__control:checked~label.sk-toggleable__label-arrow:before {\n",
              "  content: \"▾\";\n",
              "}\n",
              "\n",
              "/* Pipeline/ColumnTransformer-specific style */\n",
              "\n",
              "#sk-container-id-2 div.sk-label input.sk-toggleable__control:checked~label.sk-toggleable__label {\n",
              "  color: var(--sklearn-color-text);\n",
              "  background-color: var(--sklearn-color-unfitted-level-2);\n",
              "}\n",
              "\n",
              "#sk-container-id-2 div.sk-label.fitted input.sk-toggleable__control:checked~label.sk-toggleable__label {\n",
              "  background-color: var(--sklearn-color-fitted-level-2);\n",
              "}\n",
              "\n",
              "/* Estimator-specific style */\n",
              "\n",
              "/* Colorize estimator box */\n",
              "#sk-container-id-2 div.sk-estimator input.sk-toggleable__control:checked~label.sk-toggleable__label {\n",
              "  /* unfitted */\n",
              "  background-color: var(--sklearn-color-unfitted-level-2);\n",
              "}\n",
              "\n",
              "#sk-container-id-2 div.sk-estimator.fitted input.sk-toggleable__control:checked~label.sk-toggleable__label {\n",
              "  /* fitted */\n",
              "  background-color: var(--sklearn-color-fitted-level-2);\n",
              "}\n",
              "\n",
              "#sk-container-id-2 div.sk-label label.sk-toggleable__label,\n",
              "#sk-container-id-2 div.sk-label label {\n",
              "  /* The background is the default theme color */\n",
              "  color: var(--sklearn-color-text-on-default-background);\n",
              "}\n",
              "\n",
              "/* On hover, darken the color of the background */\n",
              "#sk-container-id-2 div.sk-label:hover label.sk-toggleable__label {\n",
              "  color: var(--sklearn-color-text);\n",
              "  background-color: var(--sklearn-color-unfitted-level-2);\n",
              "}\n",
              "\n",
              "/* Label box, darken color on hover, fitted */\n",
              "#sk-container-id-2 div.sk-label.fitted:hover label.sk-toggleable__label.fitted {\n",
              "  color: var(--sklearn-color-text);\n",
              "  background-color: var(--sklearn-color-fitted-level-2);\n",
              "}\n",
              "\n",
              "/* Estimator label */\n",
              "\n",
              "#sk-container-id-2 div.sk-label label {\n",
              "  font-family: monospace;\n",
              "  font-weight: bold;\n",
              "  display: inline-block;\n",
              "  line-height: 1.2em;\n",
              "}\n",
              "\n",
              "#sk-container-id-2 div.sk-label-container {\n",
              "  text-align: center;\n",
              "}\n",
              "\n",
              "/* Estimator-specific */\n",
              "#sk-container-id-2 div.sk-estimator {\n",
              "  font-family: monospace;\n",
              "  border: 1px dotted var(--sklearn-color-border-box);\n",
              "  border-radius: 0.25em;\n",
              "  box-sizing: border-box;\n",
              "  margin-bottom: 0.5em;\n",
              "  /* unfitted */\n",
              "  background-color: var(--sklearn-color-unfitted-level-0);\n",
              "}\n",
              "\n",
              "#sk-container-id-2 div.sk-estimator.fitted {\n",
              "  /* fitted */\n",
              "  background-color: var(--sklearn-color-fitted-level-0);\n",
              "}\n",
              "\n",
              "/* on hover */\n",
              "#sk-container-id-2 div.sk-estimator:hover {\n",
              "  /* unfitted */\n",
              "  background-color: var(--sklearn-color-unfitted-level-2);\n",
              "}\n",
              "\n",
              "#sk-container-id-2 div.sk-estimator.fitted:hover {\n",
              "  /* fitted */\n",
              "  background-color: var(--sklearn-color-fitted-level-2);\n",
              "}\n",
              "\n",
              "/* Specification for estimator info (e.g. \"i\" and \"?\") */\n",
              "\n",
              "/* Common style for \"i\" and \"?\" */\n",
              "\n",
              ".sk-estimator-doc-link,\n",
              "a:link.sk-estimator-doc-link,\n",
              "a:visited.sk-estimator-doc-link {\n",
              "  float: right;\n",
              "  font-size: smaller;\n",
              "  line-height: 1em;\n",
              "  font-family: monospace;\n",
              "  background-color: var(--sklearn-color-background);\n",
              "  border-radius: 1em;\n",
              "  height: 1em;\n",
              "  width: 1em;\n",
              "  text-decoration: none !important;\n",
              "  margin-left: 1ex;\n",
              "  /* unfitted */\n",
              "  border: var(--sklearn-color-unfitted-level-1) 1pt solid;\n",
              "  color: var(--sklearn-color-unfitted-level-1);\n",
              "}\n",
              "\n",
              ".sk-estimator-doc-link.fitted,\n",
              "a:link.sk-estimator-doc-link.fitted,\n",
              "a:visited.sk-estimator-doc-link.fitted {\n",
              "  /* fitted */\n",
              "  border: var(--sklearn-color-fitted-level-1) 1pt solid;\n",
              "  color: var(--sklearn-color-fitted-level-1);\n",
              "}\n",
              "\n",
              "/* On hover */\n",
              "div.sk-estimator:hover .sk-estimator-doc-link:hover,\n",
              ".sk-estimator-doc-link:hover,\n",
              "div.sk-label-container:hover .sk-estimator-doc-link:hover,\n",
              ".sk-estimator-doc-link:hover {\n",
              "  /* unfitted */\n",
              "  background-color: var(--sklearn-color-unfitted-level-3);\n",
              "  color: var(--sklearn-color-background);\n",
              "  text-decoration: none;\n",
              "}\n",
              "\n",
              "div.sk-estimator.fitted:hover .sk-estimator-doc-link.fitted:hover,\n",
              ".sk-estimator-doc-link.fitted:hover,\n",
              "div.sk-label-container:hover .sk-estimator-doc-link.fitted:hover,\n",
              ".sk-estimator-doc-link.fitted:hover {\n",
              "  /* fitted */\n",
              "  background-color: var(--sklearn-color-fitted-level-3);\n",
              "  color: var(--sklearn-color-background);\n",
              "  text-decoration: none;\n",
              "}\n",
              "\n",
              "/* Span, style for the box shown on hovering the info icon */\n",
              ".sk-estimator-doc-link span {\n",
              "  display: none;\n",
              "  z-index: 9999;\n",
              "  position: relative;\n",
              "  font-weight: normal;\n",
              "  right: .2ex;\n",
              "  padding: .5ex;\n",
              "  margin: .5ex;\n",
              "  width: min-content;\n",
              "  min-width: 20ex;\n",
              "  max-width: 50ex;\n",
              "  color: var(--sklearn-color-text);\n",
              "  box-shadow: 2pt 2pt 4pt #999;\n",
              "  /* unfitted */\n",
              "  background: var(--sklearn-color-unfitted-level-0);\n",
              "  border: .5pt solid var(--sklearn-color-unfitted-level-3);\n",
              "}\n",
              "\n",
              ".sk-estimator-doc-link.fitted span {\n",
              "  /* fitted */\n",
              "  background: var(--sklearn-color-fitted-level-0);\n",
              "  border: var(--sklearn-color-fitted-level-3);\n",
              "}\n",
              "\n",
              ".sk-estimator-doc-link:hover span {\n",
              "  display: block;\n",
              "}\n",
              "\n",
              "/* \"?\"-specific style due to the `<a>` HTML tag */\n",
              "\n",
              "#sk-container-id-2 a.estimator_doc_link {\n",
              "  float: right;\n",
              "  font-size: 1rem;\n",
              "  line-height: 1em;\n",
              "  font-family: monospace;\n",
              "  background-color: var(--sklearn-color-background);\n",
              "  border-radius: 1rem;\n",
              "  height: 1rem;\n",
              "  width: 1rem;\n",
              "  text-decoration: none;\n",
              "  /* unfitted */\n",
              "  color: var(--sklearn-color-unfitted-level-1);\n",
              "  border: var(--sklearn-color-unfitted-level-1) 1pt solid;\n",
              "}\n",
              "\n",
              "#sk-container-id-2 a.estimator_doc_link.fitted {\n",
              "  /* fitted */\n",
              "  border: var(--sklearn-color-fitted-level-1) 1pt solid;\n",
              "  color: var(--sklearn-color-fitted-level-1);\n",
              "}\n",
              "\n",
              "/* On hover */\n",
              "#sk-container-id-2 a.estimator_doc_link:hover {\n",
              "  /* unfitted */\n",
              "  background-color: var(--sklearn-color-unfitted-level-3);\n",
              "  color: var(--sklearn-color-background);\n",
              "  text-decoration: none;\n",
              "}\n",
              "\n",
              "#sk-container-id-2 a.estimator_doc_link.fitted:hover {\n",
              "  /* fitted */\n",
              "  background-color: var(--sklearn-color-fitted-level-3);\n",
              "}\n",
              "</style><div id=\"sk-container-id-2\" class=\"sk-top-container\"><div class=\"sk-text-repr-fallback\"><pre>Pipeline(steps=[(&#x27;vect&#x27;,\n",
              "                 TfidfVectorizer(stop_words=[&#x27;i&#x27;, &#x27;me&#x27;, &#x27;my&#x27;, &#x27;myself&#x27;, &#x27;we&#x27;,\n",
              "                                             &#x27;our&#x27;, &#x27;ours&#x27;, &#x27;ourselves&#x27;, &#x27;you&#x27;,\n",
              "                                             &quot;you&#x27;re&quot;, &quot;you&#x27;ve&quot;, &quot;you&#x27;ll&quot;,\n",
              "                                             &quot;you&#x27;d&quot;, &#x27;your&#x27;, &#x27;yours&#x27;,\n",
              "                                             &#x27;yourself&#x27;, &#x27;yourselves&#x27;, &#x27;he&#x27;,\n",
              "                                             &#x27;him&#x27;, &#x27;his&#x27;, &#x27;himself&#x27;, &#x27;she&#x27;,\n",
              "                                             &quot;she&#x27;s&quot;, &#x27;her&#x27;, &#x27;hers&#x27;, &#x27;herself&#x27;,\n",
              "                                             &#x27;it&#x27;, &quot;it&#x27;s&quot;, &#x27;its&#x27;, &#x27;itself&#x27;, ...])),\n",
              "                (&#x27;model_2&#x27;,\n",
              "                 LogisticRegression(C=13, class_weight=&#x27;balanced&#x27;,\n",
              "                                    max_iter=1000, random_state=42,\n",
              "                                    solver=&#x27;liblinear&#x27;))])</pre><b>In a Jupyter environment, please rerun this cell to show the HTML representation or trust the notebook. <br />On GitHub, the HTML representation is unable to render, please try loading this page with nbviewer.org.</b></div><div class=\"sk-container\" hidden><div class=\"sk-item sk-dashed-wrapped\"><div class=\"sk-label-container\"><div class=\"sk-label fitted sk-toggleable\"><input class=\"sk-toggleable__control sk-hidden--visually\" id=\"sk-estimator-id-5\" type=\"checkbox\" ><label for=\"sk-estimator-id-5\" class=\"sk-toggleable__label fitted sk-toggleable__label-arrow fitted\">&nbsp;&nbsp;Pipeline<a class=\"sk-estimator-doc-link fitted\" rel=\"noreferrer\" target=\"_blank\" href=\"https://scikit-learn.org/1.4/modules/generated/sklearn.pipeline.Pipeline.html\">?<span>Documentation for Pipeline</span></a><span class=\"sk-estimator-doc-link fitted\">i<span>Fitted</span></span></label><div class=\"sk-toggleable__content fitted\"><pre>Pipeline(steps=[(&#x27;vect&#x27;,\n",
              "                 TfidfVectorizer(stop_words=[&#x27;i&#x27;, &#x27;me&#x27;, &#x27;my&#x27;, &#x27;myself&#x27;, &#x27;we&#x27;,\n",
              "                                             &#x27;our&#x27;, &#x27;ours&#x27;, &#x27;ourselves&#x27;, &#x27;you&#x27;,\n",
              "                                             &quot;you&#x27;re&quot;, &quot;you&#x27;ve&quot;, &quot;you&#x27;ll&quot;,\n",
              "                                             &quot;you&#x27;d&quot;, &#x27;your&#x27;, &#x27;yours&#x27;,\n",
              "                                             &#x27;yourself&#x27;, &#x27;yourselves&#x27;, &#x27;he&#x27;,\n",
              "                                             &#x27;him&#x27;, &#x27;his&#x27;, &#x27;himself&#x27;, &#x27;she&#x27;,\n",
              "                                             &quot;she&#x27;s&quot;, &#x27;her&#x27;, &#x27;hers&#x27;, &#x27;herself&#x27;,\n",
              "                                             &#x27;it&#x27;, &quot;it&#x27;s&quot;, &#x27;its&#x27;, &#x27;itself&#x27;, ...])),\n",
              "                (&#x27;model_2&#x27;,\n",
              "                 LogisticRegression(C=13, class_weight=&#x27;balanced&#x27;,\n",
              "                                    max_iter=1000, random_state=42,\n",
              "                                    solver=&#x27;liblinear&#x27;))])</pre></div> </div></div><div class=\"sk-serial\"><div class=\"sk-item\"><div class=\"sk-estimator fitted sk-toggleable\"><input class=\"sk-toggleable__control sk-hidden--visually\" id=\"sk-estimator-id-6\" type=\"checkbox\" ><label for=\"sk-estimator-id-6\" class=\"sk-toggleable__label fitted sk-toggleable__label-arrow fitted\">&nbsp;TfidfVectorizer<a class=\"sk-estimator-doc-link fitted\" rel=\"noreferrer\" target=\"_blank\" href=\"https://scikit-learn.org/1.4/modules/generated/sklearn.feature_extraction.text.TfidfVectorizer.html\">?<span>Documentation for TfidfVectorizer</span></a></label><div class=\"sk-toggleable__content fitted\"><pre>TfidfVectorizer(stop_words=[&#x27;i&#x27;, &#x27;me&#x27;, &#x27;my&#x27;, &#x27;myself&#x27;, &#x27;we&#x27;, &#x27;our&#x27;, &#x27;ours&#x27;,\n",
              "                            &#x27;ourselves&#x27;, &#x27;you&#x27;, &quot;you&#x27;re&quot;, &quot;you&#x27;ve&quot;, &quot;you&#x27;ll&quot;,\n",
              "                            &quot;you&#x27;d&quot;, &#x27;your&#x27;, &#x27;yours&#x27;, &#x27;yourself&#x27;, &#x27;yourselves&#x27;,\n",
              "                            &#x27;he&#x27;, &#x27;him&#x27;, &#x27;his&#x27;, &#x27;himself&#x27;, &#x27;she&#x27;, &quot;she&#x27;s&quot;,\n",
              "                            &#x27;her&#x27;, &#x27;hers&#x27;, &#x27;herself&#x27;, &#x27;it&#x27;, &quot;it&#x27;s&quot;, &#x27;its&#x27;,\n",
              "                            &#x27;itself&#x27;, ...])</pre></div> </div></div><div class=\"sk-item\"><div class=\"sk-estimator fitted sk-toggleable\"><input class=\"sk-toggleable__control sk-hidden--visually\" id=\"sk-estimator-id-7\" type=\"checkbox\" ><label for=\"sk-estimator-id-7\" class=\"sk-toggleable__label fitted sk-toggleable__label-arrow fitted\">&nbsp;LogisticRegression<a class=\"sk-estimator-doc-link fitted\" rel=\"noreferrer\" target=\"_blank\" href=\"https://scikit-learn.org/1.4/modules/generated/sklearn.linear_model.LogisticRegression.html\">?<span>Documentation for LogisticRegression</span></a></label><div class=\"sk-toggleable__content fitted\"><pre>LogisticRegression(C=13, class_weight=&#x27;balanced&#x27;, max_iter=1000,\n",
              "                   random_state=42, solver=&#x27;liblinear&#x27;)</pre></div> </div></div></div></div></div></div>"
            ],
            "text/plain": [
              "Pipeline(steps=[('vect',\n",
              "                 TfidfVectorizer(stop_words=['i', 'me', 'my', 'myself', 'we',\n",
              "                                             'our', 'ours', 'ourselves', 'you',\n",
              "                                             \"you're\", \"you've\", \"you'll\",\n",
              "                                             \"you'd\", 'your', 'yours',\n",
              "                                             'yourself', 'yourselves', 'he',\n",
              "                                             'him', 'his', 'himself', 'she',\n",
              "                                             \"she's\", 'her', 'hers', 'herself',\n",
              "                                             'it', \"it's\", 'its', 'itself', ...])),\n",
              "                ('model_2',\n",
              "                 LogisticRegression(C=13, class_weight='balanced',\n",
              "                                    max_iter=1000, random_state=42,\n",
              "                                    solver='liblinear'))])"
            ]
          },
          "execution_count": 34,
          "metadata": {},
          "output_type": "execute_result"
        }
      ],
      "source": [
        "pipe_final_second.fit(X_train, y_train)"
      ]
    },
    {
      "cell_type": "markdown",
      "metadata": {
        "id": "BZd9JBZW0Gvk"
      },
      "source": [
        "## Testing"
      ]
    },
    {
      "cell_type": "markdown",
      "metadata": {
        "id": "ac66_oZp0Gvk"
      },
      "source": [
        "Let's check the prediction quality of the best model on test data:"
      ]
    },
    {
      "cell_type": "code",
      "execution_count": null,
      "metadata": {
        "id": "pINK8h910Gvk"
      },
      "outputs": [],
      "source": [
        "y_test_pred = best_model.predict(X_test)"
      ]
    },
    {
      "cell_type": "code",
      "execution_count": null,
      "metadata": {
        "id": "Ybnj171x0Gvl",
        "outputId": "35b88e69-ccfe-4974-9db7-1d84bc72e81d"
      },
      "outputs": [
        {
          "name": "stdout",
          "output_type": "stream",
          "text": [
            "F1_score для лучшей модели на тестовых данных: 0.77\n"
          ]
        }
      ],
      "source": [
        "F1_score = f1_score(y_test_pred, y_test)\n",
        "print(f'F1_score for the best model on test data: {F1_score:.2f}')"
      ]
    },
    {
      "cell_type": "markdown",
      "metadata": {
        "id": "kccUad3G0Gvl"
      },
      "source": [
        "Let's check the prediction quality of the second best model on the test data:"
      ]
    },
    {
      "cell_type": "code",
      "execution_count": null,
      "metadata": {
        "id": "M5ebRmEz0Gvl"
      },
      "outputs": [],
      "source": [
        "y_test_pred_second = pipe_final_second.predict(X_test)"
      ]
    },
    {
      "cell_type": "code",
      "execution_count": null,
      "metadata": {
        "id": "VCiMBvs20Gvl",
        "outputId": "153640da-535c-4273-d2a7-ce02eeef7386"
      },
      "outputs": [
        {
          "name": "stdout",
          "output_type": "stream",
          "text": [
            "F1_score для второй лучшей модели на тестовых данных: 0.76\n"
          ]
        }
      ],
      "source": [
        "F1_score = f1_score(y_test_pred_second, y_test)\n",
        "print(f'F1_score for the second best model on test data: {F1_score:.2f}')"
      ]
    },
    {
      "cell_type": "markdown",
      "metadata": {
        "id": "d5Jv4pCt0Gvl"
      },
      "source": [
        "## Conclusions"
      ]
    },
    {
      "cell_type": "markdown",
      "metadata": {
        "id": "FbP45Gr60Gvl"
      },
      "source": [
        "Based on the results of GridSearch cross-validation, the best model with hyperparameters was selected:"
      ]
    },
    {
      "cell_type": "code",
      "execution_count": null,
      "metadata": {
        "id": "jstlcbYZ0Gvl",
        "outputId": "32653653-d330-4a9a-d6e6-a75ab25dd8f1"
      },
      "outputs": [
        {
          "data": {
            "text/plain": [
              "{'models': <catboost.core.CatBoostClassifier at 0x7fd2b2cbe970>,\n",
              " 'models__learning_rate': 0.5}"
            ]
          },
          "execution_count": 39,
          "metadata": {},
          "output_type": "execute_result"
        }
      ],
      "source": [
        "grid_search.best_params_"
      ]
    },
    {
      "cell_type": "markdown",
      "metadata": {
        "id": "TNTaor360Gvm"
      },
      "source": [
        "The quality metric of the prediction of the best model in cross-validation corresponds to the condition of the problem and is 0.76, on the test sample the result is 0.77."
      ]
    },
    {
      "cell_type": "markdown",
      "metadata": {
        "id": "kH-7Jjn40Gvm"
      },
      "source": [
        "The second best quality logistic regression model with parameters:"
      ]
    },
    {
      "cell_type": "code",
      "execution_count": null,
      "metadata": {
        "id": "knE1Rnvb0Gvm",
        "outputId": "de41c82c-5eb8-4a2e-940d-8d9f9a218366"
      },
      "outputs": [
        {
          "data": {
            "text/plain": [
              "{'models': LogisticRegression(class_weight='balanced', max_iter=1000, random_state=42,\n",
              "                    solver='liblinear'),\n",
              " 'models__C': 13,\n",
              " 'models__penalty': 'l2'}"
            ]
          },
          "execution_count": 40,
          "metadata": {},
          "output_type": "execute_result"
        }
      ],
      "source": [
        "second_best_params"
      ]
    },
    {
      "cell_type": "markdown",
      "metadata": {
        "id": "CaSLxgPC0Gvm"
      },
      "source": [
        "also showed a result that satisfies the problem condition - 0.76 on the test sample with a training time significantly lower than the training time of the CatBoostClassifier model. Both models can be recommended for use depending on the key requirements for their indicators."
      ]
    }
  ],
  "metadata": {
    "ExecuteTimeLog": [
      {
        "duration": 7281,
        "start_time": "2024-04-01T13:44:58.505Z"
      },
      {
        "duration": 366,
        "start_time": "2024-04-01T13:59:03.430Z"
      },
      {
        "duration": 71,
        "start_time": "2024-04-01T14:01:02.989Z"
      },
      {
        "duration": 3,
        "start_time": "2024-04-01T14:01:22.189Z"
      },
      {
        "duration": 3563,
        "start_time": "2024-04-01T14:01:23.615Z"
      },
      {
        "duration": 16,
        "start_time": "2024-04-01T14:01:38.852Z"
      },
      {
        "duration": 5,
        "start_time": "2024-04-01T14:02:10.885Z"
      },
      {
        "duration": 685,
        "start_time": "2024-04-01T14:02:18.141Z"
      },
      {
        "duration": 87,
        "start_time": "2024-04-01T14:10:14.707Z"
      },
      {
        "duration": 2319,
        "start_time": "2024-04-01T14:21:22.522Z"
      },
      {
        "duration": 10,
        "start_time": "2024-04-01T14:25:08.433Z"
      },
      {
        "duration": 4,
        "start_time": "2024-04-01T14:29:30.131Z"
      },
      {
        "duration": 3,
        "start_time": "2024-04-01T14:30:05.556Z"
      },
      {
        "duration": 3,
        "start_time": "2024-04-01T14:32:13.028Z"
      },
      {
        "duration": 3062,
        "start_time": "2024-04-01T14:32:23.026Z"
      },
      {
        "duration": 400,
        "start_time": "2024-04-01T14:32:26.091Z"
      },
      {
        "duration": 3422,
        "start_time": "2024-04-01T14:32:26.493Z"
      },
      {
        "duration": 9,
        "start_time": "2024-04-01T14:32:29.917Z"
      },
      {
        "duration": 469,
        "start_time": "2024-04-01T14:32:29.928Z"
      },
      {
        "duration": 2191,
        "start_time": "2024-04-01T14:32:30.399Z"
      },
      {
        "duration": 60,
        "start_time": "2024-04-01T14:32:32.591Z"
      },
      {
        "duration": 16,
        "start_time": "2024-04-01T14:32:32.653Z"
      },
      {
        "duration": 83,
        "start_time": "2024-04-01T15:01:41.231Z"
      },
      {
        "duration": 896,
        "start_time": "2024-04-01T15:01:49.213Z"
      },
      {
        "duration": 9,
        "start_time": "2024-04-01T15:02:02.510Z"
      },
      {
        "duration": 9,
        "start_time": "2024-04-01T15:02:24.574Z"
      },
      {
        "duration": 835,
        "start_time": "2024-04-01T15:02:25.165Z"
      },
      {
        "duration": 9,
        "start_time": "2024-04-01T15:02:26.003Z"
      },
      {
        "duration": 14,
        "start_time": "2024-04-01T15:02:57.949Z"
      },
      {
        "duration": 5,
        "start_time": "2024-04-01T15:03:11.517Z"
      },
      {
        "duration": 4,
        "start_time": "2024-04-01T15:03:52.453Z"
      },
      {
        "duration": 4,
        "start_time": "2024-04-01T15:04:02.254Z"
      },
      {
        "duration": 81,
        "start_time": "2024-04-01T15:04:06.150Z"
      },
      {
        "duration": 3,
        "start_time": "2024-04-01T15:04:11.413Z"
      },
      {
        "duration": 3,
        "start_time": "2024-04-01T15:04:24.061Z"
      },
      {
        "duration": 11,
        "start_time": "2024-04-01T15:04:33.572Z"
      },
      {
        "duration": 3291,
        "start_time": "2024-04-01T15:04:47.783Z"
      },
      {
        "duration": 449,
        "start_time": "2024-04-01T15:04:51.076Z"
      },
      {
        "duration": 1171,
        "start_time": "2024-04-01T15:04:51.526Z"
      },
      {
        "duration": 5,
        "start_time": "2024-04-01T15:04:52.699Z"
      },
      {
        "duration": 430,
        "start_time": "2024-04-01T15:04:52.706Z"
      },
      {
        "duration": 2268,
        "start_time": "2024-04-01T15:04:53.138Z"
      },
      {
        "duration": 26,
        "start_time": "2024-04-01T15:04:55.408Z"
      },
      {
        "duration": 8,
        "start_time": "2024-04-01T15:04:55.435Z"
      },
      {
        "duration": 6,
        "start_time": "2024-04-01T15:04:55.444Z"
      },
      {
        "duration": 95,
        "start_time": "2024-04-01T15:04:55.452Z"
      },
      {
        "duration": 0,
        "start_time": "2024-04-01T15:04:55.549Z"
      },
      {
        "duration": 794,
        "start_time": "2024-04-01T15:05:37.692Z"
      },
      {
        "duration": 9,
        "start_time": "2024-04-01T15:05:39.205Z"
      },
      {
        "duration": 4,
        "start_time": "2024-04-01T15:06:04.172Z"
      },
      {
        "duration": 14,
        "start_time": "2024-04-01T15:06:15.836Z"
      },
      {
        "duration": 1444,
        "start_time": "2024-04-01T15:07:46.436Z"
      },
      {
        "duration": 64,
        "start_time": "2024-04-01T15:08:44.964Z"
      },
      {
        "duration": 2,
        "start_time": "2024-04-01T15:08:57.125Z"
      },
      {
        "duration": 3,
        "start_time": "2024-04-01T15:09:09.476Z"
      },
      {
        "duration": 4,
        "start_time": "2024-04-01T15:09:10.885Z"
      },
      {
        "duration": 15,
        "start_time": "2024-04-01T15:09:11.676Z"
      },
      {
        "duration": 22,
        "start_time": "2024-04-01T15:10:37.876Z"
      },
      {
        "duration": 2485,
        "start_time": "2024-04-01T15:11:56.532Z"
      },
      {
        "duration": 2369,
        "start_time": "2024-04-01T15:12:33.733Z"
      },
      {
        "duration": 3,
        "start_time": "2024-04-01T15:12:45.668Z"
      },
      {
        "duration": 3,
        "start_time": "2024-04-01T15:12:46.396Z"
      },
      {
        "duration": 2475,
        "start_time": "2024-04-01T15:12:46.971Z"
      },
      {
        "duration": 3855,
        "start_time": "2024-04-01T15:12:49.449Z"
      },
      {
        "duration": 1738,
        "start_time": "2024-04-01T15:13:16.020Z"
      },
      {
        "duration": 9,
        "start_time": "2024-04-01T15:13:18.332Z"
      },
      {
        "duration": 3,
        "start_time": "2024-04-01T15:13:53.308Z"
      },
      {
        "duration": 422,
        "start_time": "2024-04-01T15:13:54.212Z"
      },
      {
        "duration": 1729,
        "start_time": "2024-04-01T15:13:54.764Z"
      },
      {
        "duration": 397,
        "start_time": "2024-04-01T15:14:07.100Z"
      },
      {
        "duration": 2979,
        "start_time": "2024-04-01T15:14:16.026Z"
      },
      {
        "duration": 1157,
        "start_time": "2024-04-01T15:14:19.007Z"
      },
      {
        "duration": 1153,
        "start_time": "2024-04-01T15:14:20.166Z"
      },
      {
        "duration": 5,
        "start_time": "2024-04-01T15:14:21.321Z"
      },
      {
        "duration": 395,
        "start_time": "2024-04-01T15:14:21.329Z"
      },
      {
        "duration": 2,
        "start_time": "2024-04-01T15:14:21.726Z"
      },
      {
        "duration": 7,
        "start_time": "2024-04-01T15:14:21.730Z"
      },
      {
        "duration": 5,
        "start_time": "2024-04-01T15:14:21.738Z"
      },
      {
        "duration": 10,
        "start_time": "2024-04-01T15:14:21.744Z"
      },
      {
        "duration": 560,
        "start_time": "2024-04-01T15:14:21.756Z"
      },
      {
        "duration": 0,
        "start_time": "2024-04-01T15:14:22.318Z"
      },
      {
        "duration": 0,
        "start_time": "2024-04-01T15:14:22.320Z"
      },
      {
        "duration": 3,
        "start_time": "2024-04-01T15:14:48.347Z"
      },
      {
        "duration": 2449,
        "start_time": "2024-04-01T15:14:48.987Z"
      },
      {
        "duration": 3157,
        "start_time": "2024-04-01T15:14:55.468Z"
      },
      {
        "duration": 9,
        "start_time": "2024-04-01T15:14:58.628Z"
      },
      {
        "duration": 3,
        "start_time": "2024-04-01T15:15:27.060Z"
      },
      {
        "duration": 3,
        "start_time": "2024-04-01T15:15:27.901Z"
      },
      {
        "duration": 2494,
        "start_time": "2024-04-01T15:15:28.659Z"
      },
      {
        "duration": 1794,
        "start_time": "2024-04-01T15:15:31.155Z"
      },
      {
        "duration": 8,
        "start_time": "2024-04-01T15:15:32.951Z"
      },
      {
        "duration": 3,
        "start_time": "2024-04-01T15:16:18.085Z"
      },
      {
        "duration": 2627,
        "start_time": "2024-04-01T15:16:18.724Z"
      },
      {
        "duration": 1772,
        "start_time": "2024-04-01T15:16:21.353Z"
      },
      {
        "duration": 8,
        "start_time": "2024-04-01T15:16:23.956Z"
      },
      {
        "duration": 3145,
        "start_time": "2024-04-01T15:16:54.818Z"
      },
      {
        "duration": 1149,
        "start_time": "2024-04-01T15:16:57.966Z"
      },
      {
        "duration": 1146,
        "start_time": "2024-04-01T15:16:59.117Z"
      },
      {
        "duration": 7,
        "start_time": "2024-04-01T15:17:00.264Z"
      },
      {
        "duration": 611,
        "start_time": "2024-04-01T15:17:00.273Z"
      },
      {
        "duration": 3,
        "start_time": "2024-04-01T15:17:00.886Z"
      },
      {
        "duration": 32,
        "start_time": "2024-04-01T15:17:00.891Z"
      },
      {
        "duration": 50,
        "start_time": "2024-04-01T15:17:00.925Z"
      },
      {
        "duration": 87,
        "start_time": "2024-04-01T15:17:00.976Z"
      },
      {
        "duration": 2718,
        "start_time": "2024-04-01T15:17:01.065Z"
      },
      {
        "duration": 3124,
        "start_time": "2024-04-01T15:17:03.785Z"
      },
      {
        "duration": 9,
        "start_time": "2024-04-01T15:17:06.911Z"
      },
      {
        "duration": 3576,
        "start_time": "2024-04-01T15:21:00.268Z"
      },
      {
        "duration": 6,
        "start_time": "2024-04-01T15:22:12.612Z"
      },
      {
        "duration": 3,
        "start_time": "2024-04-01T15:22:22.436Z"
      },
      {
        "duration": 2539,
        "start_time": "2024-04-01T15:22:23.211Z"
      },
      {
        "duration": 3274,
        "start_time": "2024-04-01T15:28:01.692Z"
      },
      {
        "duration": 3468,
        "start_time": "2024-04-01T15:28:04.969Z"
      },
      {
        "duration": 1037,
        "start_time": "2024-04-01T15:28:08.439Z"
      },
      {
        "duration": 5,
        "start_time": "2024-04-01T15:28:09.478Z"
      },
      {
        "duration": 335,
        "start_time": "2024-04-01T15:28:09.486Z"
      },
      {
        "duration": 2,
        "start_time": "2024-04-01T15:28:09.823Z"
      },
      {
        "duration": 8,
        "start_time": "2024-04-01T15:28:09.827Z"
      },
      {
        "duration": 35,
        "start_time": "2024-04-01T15:28:09.836Z"
      },
      {
        "duration": 5,
        "start_time": "2024-04-01T15:28:09.873Z"
      },
      {
        "duration": 10,
        "start_time": "2024-04-01T15:28:09.880Z"
      },
      {
        "duration": 2595,
        "start_time": "2024-04-01T15:28:09.892Z"
      },
      {
        "duration": 66099,
        "start_time": "2024-04-01T15:28:12.488Z"
      },
      {
        "duration": 0,
        "start_time": "2024-04-01T15:29:18.588Z"
      },
      {
        "duration": 0,
        "start_time": "2024-04-01T15:29:18.589Z"
      },
      {
        "duration": 3,
        "start_time": "2024-04-01T15:39:50.726Z"
      },
      {
        "duration": 43,
        "start_time": "2024-04-01T15:40:09.518Z"
      },
      {
        "duration": 462,
        "start_time": "2024-04-01T15:40:25.420Z"
      },
      {
        "duration": 3016,
        "start_time": "2024-04-01T15:40:31.727Z"
      },
      {
        "duration": 3955,
        "start_time": "2024-04-01T15:40:34.746Z"
      },
      {
        "duration": 1049,
        "start_time": "2024-04-01T15:40:38.702Z"
      },
      {
        "duration": 150,
        "start_time": "2024-04-01T15:40:39.753Z"
      },
      {
        "duration": 336,
        "start_time": "2024-04-01T15:40:39.904Z"
      },
      {
        "duration": 2,
        "start_time": "2024-04-01T15:40:40.242Z"
      },
      {
        "duration": 21,
        "start_time": "2024-04-01T15:40:40.246Z"
      },
      {
        "duration": 13,
        "start_time": "2024-04-01T15:40:40.269Z"
      },
      {
        "duration": 22,
        "start_time": "2024-04-01T15:40:40.284Z"
      },
      {
        "duration": 16,
        "start_time": "2024-04-01T15:40:40.308Z"
      },
      {
        "duration": 2553,
        "start_time": "2024-04-01T15:40:40.326Z"
      },
      {
        "duration": 11774,
        "start_time": "2024-04-01T15:40:42.881Z"
      },
      {
        "duration": 0,
        "start_time": "2024-04-01T15:40:54.657Z"
      },
      {
        "duration": 0,
        "start_time": "2024-04-01T15:40:54.659Z"
      },
      {
        "duration": 0,
        "start_time": "2024-04-01T15:40:54.660Z"
      },
      {
        "duration": 17,
        "start_time": "2024-04-01T15:42:07.060Z"
      },
      {
        "duration": 6597,
        "start_time": "2024-04-01T15:43:09.236Z"
      },
      {
        "duration": 5785,
        "start_time": "2024-04-01T15:43:19.989Z"
      },
      {
        "duration": 509,
        "start_time": "2024-04-01T15:43:25.776Z"
      },
      {
        "duration": 3,
        "start_time": "2024-04-01T15:46:34.978Z"
      },
      {
        "duration": 5959,
        "start_time": "2024-04-01T15:47:16.949Z"
      },
      {
        "duration": 20956,
        "start_time": "2024-04-01T15:47:26.813Z"
      },
      {
        "duration": 45,
        "start_time": "2024-04-01T15:52:57.693Z"
      },
      {
        "duration": 3,
        "start_time": "2024-04-01T15:53:04.861Z"
      },
      {
        "duration": 2,
        "start_time": "2024-04-01T15:53:16.869Z"
      },
      {
        "duration": 23,
        "start_time": "2024-04-01T16:09:18.989Z"
      },
      {
        "duration": 21496,
        "start_time": "2024-04-01T16:09:27.101Z"
      },
      {
        "duration": 3,
        "start_time": "2024-04-01T16:09:55.717Z"
      },
      {
        "duration": 6754,
        "start_time": "2024-04-01T16:10:02.363Z"
      },
      {
        "duration": 4673,
        "start_time": "2024-04-01T16:10:09.119Z"
      },
      {
        "duration": 1231,
        "start_time": "2024-04-01T16:10:13.794Z"
      },
      {
        "duration": 6,
        "start_time": "2024-04-01T16:10:15.027Z"
      },
      {
        "duration": 388,
        "start_time": "2024-04-01T16:10:15.035Z"
      },
      {
        "duration": 7,
        "start_time": "2024-04-01T16:10:15.425Z"
      },
      {
        "duration": 23,
        "start_time": "2024-04-01T16:10:15.434Z"
      },
      {
        "duration": 37,
        "start_time": "2024-04-01T16:10:15.458Z"
      },
      {
        "duration": 48,
        "start_time": "2024-04-01T16:10:15.497Z"
      },
      {
        "duration": 9,
        "start_time": "2024-04-01T16:10:15.548Z"
      },
      {
        "duration": 43,
        "start_time": "2024-04-01T16:10:15.558Z"
      },
      {
        "duration": 11,
        "start_time": "2024-04-01T16:10:15.603Z"
      },
      {
        "duration": 11,
        "start_time": "2024-04-01T16:10:15.615Z"
      },
      {
        "duration": 44286,
        "start_time": "2024-04-01T16:10:15.627Z"
      },
      {
        "duration": 3,
        "start_time": "2024-04-01T16:10:59.914Z"
      },
      {
        "duration": 33,
        "start_time": "2024-04-01T16:10:59.918Z"
      },
      {
        "duration": 14,
        "start_time": "2024-04-01T16:10:59.953Z"
      },
      {
        "duration": 9,
        "start_time": "2024-04-01T16:11:51.142Z"
      },
      {
        "duration": 8,
        "start_time": "2024-04-01T16:12:17.309Z"
      },
      {
        "duration": 37,
        "start_time": "2024-04-01T16:23:14.668Z"
      },
      {
        "duration": 176,
        "start_time": "2024-04-01T16:23:27.220Z"
      },
      {
        "duration": 111,
        "start_time": "2024-04-01T16:23:38.628Z"
      },
      {
        "duration": 6056,
        "start_time": "2024-04-01T16:25:18.977Z"
      },
      {
        "duration": 4163,
        "start_time": "2024-04-01T16:25:25.036Z"
      },
      {
        "duration": 1065,
        "start_time": "2024-04-01T16:25:29.201Z"
      },
      {
        "duration": 5,
        "start_time": "2024-04-01T16:25:30.268Z"
      },
      {
        "duration": 476,
        "start_time": "2024-04-01T16:25:30.276Z"
      },
      {
        "duration": 2,
        "start_time": "2024-04-01T16:25:30.754Z"
      },
      {
        "duration": 59,
        "start_time": "2024-04-01T16:25:30.768Z"
      },
      {
        "duration": 95,
        "start_time": "2024-04-01T16:25:30.828Z"
      },
      {
        "duration": 153,
        "start_time": "2024-04-01T16:25:30.924Z"
      },
      {
        "duration": 154,
        "start_time": "2024-04-01T16:25:31.079Z"
      },
      {
        "duration": 271,
        "start_time": "2024-04-01T16:25:31.234Z"
      },
      {
        "duration": 272,
        "start_time": "2024-04-01T16:25:31.506Z"
      },
      {
        "duration": 45,
        "start_time": "2024-04-01T16:25:31.780Z"
      },
      {
        "duration": 41,
        "start_time": "2024-04-01T16:25:31.828Z"
      },
      {
        "duration": 24,
        "start_time": "2024-04-01T16:25:31.872Z"
      },
      {
        "duration": 29,
        "start_time": "2024-04-01T16:25:31.898Z"
      },
      {
        "duration": 193596,
        "start_time": "2024-04-01T16:25:31.928Z"
      },
      {
        "duration": 0,
        "start_time": "2024-04-01T16:28:45.526Z"
      },
      {
        "duration": 0,
        "start_time": "2024-04-01T16:28:45.528Z"
      },
      {
        "duration": 0,
        "start_time": "2024-04-01T16:28:45.530Z"
      },
      {
        "duration": 0,
        "start_time": "2024-04-01T16:29:32.000Z"
      },
      {
        "duration": 12131,
        "start_time": "2024-04-01T16:29:35.964Z"
      },
      {
        "duration": 5959,
        "start_time": "2024-04-01T16:30:21.942Z"
      },
      {
        "duration": 4175,
        "start_time": "2024-04-01T16:30:27.903Z"
      },
      {
        "duration": 1069,
        "start_time": "2024-04-01T16:30:32.079Z"
      },
      {
        "duration": 5,
        "start_time": "2024-04-01T16:30:33.150Z"
      },
      {
        "duration": 349,
        "start_time": "2024-04-01T16:30:33.157Z"
      },
      {
        "duration": 3,
        "start_time": "2024-04-01T16:30:33.508Z"
      },
      {
        "duration": 4,
        "start_time": "2024-04-01T16:30:33.512Z"
      },
      {
        "duration": 16,
        "start_time": "2024-04-01T16:30:33.517Z"
      },
      {
        "duration": 93,
        "start_time": "2024-04-01T16:30:33.535Z"
      },
      {
        "duration": 3,
        "start_time": "2024-04-01T16:30:33.629Z"
      },
      {
        "duration": 6,
        "start_time": "2024-04-01T16:30:33.634Z"
      },
      {
        "duration": 5,
        "start_time": "2024-04-01T16:30:33.641Z"
      },
      {
        "duration": 4,
        "start_time": "2024-04-01T16:30:33.670Z"
      },
      {
        "duration": 7,
        "start_time": "2024-04-01T16:30:33.677Z"
      },
      {
        "duration": 18,
        "start_time": "2024-04-01T16:30:33.686Z"
      },
      {
        "duration": 5,
        "start_time": "2024-04-01T16:30:33.706Z"
      },
      {
        "duration": 5,
        "start_time": "2024-04-01T16:30:33.713Z"
      },
      {
        "duration": 196316,
        "start_time": "2024-04-01T16:30:33.720Z"
      },
      {
        "duration": 0,
        "start_time": "2024-04-01T16:33:50.038Z"
      },
      {
        "duration": 0,
        "start_time": "2024-04-01T16:33:50.039Z"
      },
      {
        "duration": 469,
        "start_time": "2024-04-01T16:34:28.963Z"
      },
      {
        "duration": 17922,
        "start_time": "2024-04-01T16:34:32.221Z"
      },
      {
        "duration": 2588,
        "start_time": "2024-04-01T16:35:02.172Z"
      },
      {
        "duration": 2,
        "start_time": "2024-04-01T16:35:38.548Z"
      },
      {
        "duration": 918,
        "start_time": "2024-04-01T16:35:39.565Z"
      },
      {
        "duration": 10,
        "start_time": "2024-04-01T16:35:49.388Z"
      },
      {
        "duration": 25,
        "start_time": "2024-04-01T16:36:32.060Z"
      },
      {
        "duration": 3,
        "start_time": "2024-04-01T16:36:57.396Z"
      },
      {
        "duration": 32,
        "start_time": "2024-04-01T16:36:59.357Z"
      },
      {
        "duration": 42,
        "start_time": "2024-04-01T16:37:58.819Z"
      },
      {
        "duration": 7,
        "start_time": "2024-04-01T16:37:59.771Z"
      },
      {
        "duration": 29,
        "start_time": "2024-04-01T16:38:00.500Z"
      },
      {
        "duration": 16,
        "start_time": "2024-04-01T16:38:06.148Z"
      },
      {
        "duration": 107,
        "start_time": "2024-04-01T16:38:06.764Z"
      },
      {
        "duration": 6114,
        "start_time": "2024-04-01T16:38:41.486Z"
      },
      {
        "duration": 4356,
        "start_time": "2024-04-01T16:38:47.603Z"
      },
      {
        "duration": 1134,
        "start_time": "2024-04-01T16:38:51.961Z"
      },
      {
        "duration": 6,
        "start_time": "2024-04-01T16:38:53.097Z"
      },
      {
        "duration": 367,
        "start_time": "2024-04-01T16:38:53.105Z"
      },
      {
        "duration": 4,
        "start_time": "2024-04-01T16:38:53.473Z"
      },
      {
        "duration": 30,
        "start_time": "2024-04-01T16:38:53.479Z"
      },
      {
        "duration": 23,
        "start_time": "2024-04-01T16:38:53.511Z"
      },
      {
        "duration": 90,
        "start_time": "2024-04-01T16:38:53.536Z"
      },
      {
        "duration": 3,
        "start_time": "2024-04-01T16:38:53.628Z"
      },
      {
        "duration": 33,
        "start_time": "2024-04-01T16:38:53.632Z"
      },
      {
        "duration": 562,
        "start_time": "2024-04-01T16:38:53.667Z"
      },
      {
        "duration": 3,
        "start_time": "2024-04-01T16:38:54.230Z"
      },
      {
        "duration": 25,
        "start_time": "2024-04-01T16:38:54.236Z"
      },
      {
        "duration": 886,
        "start_time": "2024-04-01T16:38:54.263Z"
      },
      {
        "duration": 8,
        "start_time": "2024-04-01T16:38:55.150Z"
      },
      {
        "duration": 36,
        "start_time": "2024-04-01T16:38:55.159Z"
      },
      {
        "duration": 46,
        "start_time": "2024-04-01T16:38:55.197Z"
      },
      {
        "duration": 37,
        "start_time": "2024-04-01T16:38:55.244Z"
      },
      {
        "duration": 9,
        "start_time": "2024-04-01T16:38:55.282Z"
      },
      {
        "duration": 34,
        "start_time": "2024-04-01T16:38:55.293Z"
      },
      {
        "duration": 6006,
        "start_time": "2024-04-01T16:40:38.999Z"
      },
      {
        "duration": 4154,
        "start_time": "2024-04-01T16:40:45.009Z"
      },
      {
        "duration": 1146,
        "start_time": "2024-04-01T16:40:49.164Z"
      },
      {
        "duration": 5,
        "start_time": "2024-04-01T16:40:50.312Z"
      },
      {
        "duration": 369,
        "start_time": "2024-04-01T16:40:50.319Z"
      },
      {
        "duration": 2,
        "start_time": "2024-04-01T16:40:50.690Z"
      },
      {
        "duration": 8,
        "start_time": "2024-04-01T16:40:50.694Z"
      },
      {
        "duration": 25,
        "start_time": "2024-04-01T16:40:50.704Z"
      },
      {
        "duration": 15,
        "start_time": "2024-04-01T16:40:50.731Z"
      },
      {
        "duration": 79,
        "start_time": "2024-04-01T16:40:50.748Z"
      },
      {
        "duration": 3,
        "start_time": "2024-04-01T16:40:50.829Z"
      },
      {
        "duration": 4,
        "start_time": "2024-04-01T16:40:50.834Z"
      },
      {
        "duration": 593,
        "start_time": "2024-04-01T16:40:50.839Z"
      },
      {
        "duration": 3,
        "start_time": "2024-04-01T16:40:51.434Z"
      },
      {
        "duration": 22,
        "start_time": "2024-04-01T16:40:51.438Z"
      },
      {
        "duration": 883,
        "start_time": "2024-04-01T16:40:51.462Z"
      },
      {
        "duration": 8,
        "start_time": "2024-04-01T16:40:52.346Z"
      },
      {
        "duration": 4,
        "start_time": "2024-04-01T16:40:52.355Z"
      },
      {
        "duration": 11,
        "start_time": "2024-04-01T16:40:52.360Z"
      },
      {
        "duration": 13,
        "start_time": "2024-04-01T16:40:52.373Z"
      },
      {
        "duration": 9,
        "start_time": "2024-04-01T16:40:52.388Z"
      },
      {
        "duration": 18,
        "start_time": "2024-04-01T16:40:52.399Z"
      },
      {
        "duration": 139514,
        "start_time": "2024-04-01T16:42:27.285Z"
      },
      {
        "duration": 50,
        "start_time": "2024-04-01T16:45:45.454Z"
      },
      {
        "duration": 6388,
        "start_time": "2024-04-01T16:45:57.634Z"
      },
      {
        "duration": 4440,
        "start_time": "2024-04-01T16:46:04.025Z"
      },
      {
        "duration": 1149,
        "start_time": "2024-04-01T16:46:08.467Z"
      },
      {
        "duration": 6,
        "start_time": "2024-04-01T16:46:09.617Z"
      },
      {
        "duration": 383,
        "start_time": "2024-04-01T16:46:09.625Z"
      },
      {
        "duration": 2,
        "start_time": "2024-04-01T16:46:10.010Z"
      },
      {
        "duration": 19,
        "start_time": "2024-04-01T16:46:10.014Z"
      },
      {
        "duration": 17,
        "start_time": "2024-04-01T16:46:10.035Z"
      },
      {
        "duration": 5,
        "start_time": "2024-04-01T16:46:10.054Z"
      },
      {
        "duration": 92,
        "start_time": "2024-04-01T16:46:10.061Z"
      },
      {
        "duration": 3,
        "start_time": "2024-04-01T16:46:10.154Z"
      },
      {
        "duration": 11,
        "start_time": "2024-04-01T16:46:10.158Z"
      },
      {
        "duration": 621,
        "start_time": "2024-04-01T16:46:10.171Z"
      },
      {
        "duration": 3,
        "start_time": "2024-04-01T16:46:10.795Z"
      },
      {
        "duration": 5,
        "start_time": "2024-04-01T16:46:10.799Z"
      },
      {
        "duration": 903,
        "start_time": "2024-04-01T16:46:10.805Z"
      },
      {
        "duration": 7,
        "start_time": "2024-04-01T16:46:11.710Z"
      },
      {
        "duration": 457,
        "start_time": "2024-04-01T16:46:11.719Z"
      },
      {
        "duration": 0,
        "start_time": "2024-04-01T16:46:12.180Z"
      },
      {
        "duration": 0,
        "start_time": "2024-04-01T16:46:12.181Z"
      },
      {
        "duration": 0,
        "start_time": "2024-04-01T16:46:12.182Z"
      },
      {
        "duration": 0,
        "start_time": "2024-04-01T16:46:12.184Z"
      },
      {
        "duration": 22,
        "start_time": "2024-04-01T16:48:00.694Z"
      },
      {
        "duration": 4,
        "start_time": "2024-04-01T16:48:22.414Z"
      },
      {
        "duration": 781936,
        "start_time": "2024-04-01T16:48:28.934Z"
      },
      {
        "duration": 2,
        "start_time": "2024-04-01T17:01:30.873Z"
      },
      {
        "duration": 8,
        "start_time": "2024-04-01T17:02:12.040Z"
      },
      {
        "duration": 4,
        "start_time": "2024-04-01T17:22:59.944Z"
      },
      {
        "duration": 775,
        "start_time": "2024-04-01T17:25:05.776Z"
      },
      {
        "duration": 727,
        "start_time": "2024-04-01T17:25:38.505Z"
      },
      {
        "duration": 146,
        "start_time": "2024-04-01T17:29:57.040Z"
      },
      {
        "duration": 28,
        "start_time": "2024-04-01T17:31:08.096Z"
      },
      {
        "duration": 4,
        "start_time": "2024-04-01T17:31:31.769Z"
      },
      {
        "duration": 2,
        "start_time": "2024-04-01T17:34:20.512Z"
      },
      {
        "duration": 3471,
        "start_time": "2024-04-01T17:43:53.378Z"
      },
      {
        "duration": 21,
        "start_time": "2024-04-01T17:44:10.209Z"
      },
      {
        "duration": 17,
        "start_time": "2024-04-01T17:45:03.568Z"
      },
      {
        "duration": 3,
        "start_time": "2024-04-01T17:45:08.488Z"
      },
      {
        "duration": 4,
        "start_time": "2024-04-01T17:47:56.912Z"
      },
      {
        "duration": 5,
        "start_time": "2024-04-01T17:49:51.169Z"
      },
      {
        "duration": 24,
        "start_time": "2024-04-01T17:50:55.393Z"
      },
      {
        "duration": 4,
        "start_time": "2024-04-01T17:52:25.250Z"
      },
      {
        "duration": 4,
        "start_time": "2024-04-01T17:55:38.595Z"
      },
      {
        "duration": 4,
        "start_time": "2024-04-01T17:56:14.891Z"
      },
      {
        "duration": 3,
        "start_time": "2024-04-01T17:56:50.459Z"
      },
      {
        "duration": 4,
        "start_time": "2024-04-01T18:02:33.591Z"
      },
      {
        "duration": 23,
        "start_time": "2024-04-01T18:06:17.054Z"
      },
      {
        "duration": 25,
        "start_time": "2024-04-01T18:07:07.502Z"
      },
      {
        "duration": 28,
        "start_time": "2024-04-01T18:11:40.974Z"
      },
      {
        "duration": 13,
        "start_time": "2024-04-01T18:12:22.606Z"
      },
      {
        "duration": 1656,
        "start_time": "2024-04-01T18:12:30.085Z"
      },
      {
        "duration": 18,
        "start_time": "2024-04-01T18:13:51.040Z"
      },
      {
        "duration": 1227,
        "start_time": "2024-04-01T18:14:03.542Z"
      },
      {
        "duration": 5,
        "start_time": "2024-04-01T18:14:26.462Z"
      },
      {
        "duration": 6,
        "start_time": "2024-04-01T18:14:56.048Z"
      },
      {
        "duration": 1236,
        "start_time": "2024-04-01T18:14:56.056Z"
      },
      {
        "duration": 0,
        "start_time": "2024-04-01T18:14:57.294Z"
      },
      {
        "duration": 0,
        "start_time": "2024-04-01T18:14:57.295Z"
      },
      {
        "duration": 0,
        "start_time": "2024-04-01T18:14:57.296Z"
      },
      {
        "duration": 0,
        "start_time": "2024-04-01T18:14:57.297Z"
      },
      {
        "duration": 0,
        "start_time": "2024-04-01T18:14:57.299Z"
      },
      {
        "duration": 0,
        "start_time": "2024-04-01T18:14:57.300Z"
      },
      {
        "duration": 0,
        "start_time": "2024-04-01T18:14:57.301Z"
      },
      {
        "duration": 0,
        "start_time": "2024-04-01T18:14:57.302Z"
      },
      {
        "duration": 0,
        "start_time": "2024-04-01T18:14:57.304Z"
      },
      {
        "duration": 0,
        "start_time": "2024-04-01T18:14:57.304Z"
      },
      {
        "duration": 1211,
        "start_time": "2024-04-01T18:23:45.979Z"
      },
      {
        "duration": 173,
        "start_time": "2024-04-01T18:25:40.830Z"
      },
      {
        "duration": 18,
        "start_time": "2024-04-01T18:30:51.287Z"
      },
      {
        "duration": 17,
        "start_time": "2024-04-01T18:31:03.727Z"
      },
      {
        "duration": 19,
        "start_time": "2024-04-01T18:31:08.581Z"
      },
      {
        "duration": 27,
        "start_time": "2024-04-01T18:32:02.977Z"
      },
      {
        "duration": 4,
        "start_time": "2024-04-01T18:34:09.085Z"
      },
      {
        "duration": 20,
        "start_time": "2024-04-01T18:34:14.414Z"
      },
      {
        "duration": 24,
        "start_time": "2024-04-01T18:34:41.270Z"
      },
      {
        "duration": 20,
        "start_time": "2024-04-01T18:34:50.982Z"
      },
      {
        "duration": 18,
        "start_time": "2024-04-01T18:36:21.190Z"
      },
      {
        "duration": 20,
        "start_time": "2024-04-01T18:39:54.184Z"
      },
      {
        "duration": 17,
        "start_time": "2024-04-01T18:40:48.070Z"
      },
      {
        "duration": 19,
        "start_time": "2024-04-01T18:42:04.029Z"
      },
      {
        "duration": 19,
        "start_time": "2024-04-01T18:42:20.574Z"
      },
      {
        "duration": 5688,
        "start_time": "2024-04-01T18:42:38.058Z"
      },
      {
        "duration": 4092,
        "start_time": "2024-04-01T18:42:43.749Z"
      },
      {
        "duration": 1046,
        "start_time": "2024-04-01T18:42:47.842Z"
      },
      {
        "duration": 5,
        "start_time": "2024-04-01T18:42:48.890Z"
      },
      {
        "duration": 322,
        "start_time": "2024-04-01T18:42:48.897Z"
      },
      {
        "duration": 14,
        "start_time": "2024-04-01T18:42:49.220Z"
      },
      {
        "duration": 4,
        "start_time": "2024-04-01T18:42:49.236Z"
      },
      {
        "duration": 89,
        "start_time": "2024-04-01T18:42:49.241Z"
      },
      {
        "duration": 2,
        "start_time": "2024-04-01T18:42:49.331Z"
      },
      {
        "duration": 5,
        "start_time": "2024-04-01T18:42:49.335Z"
      },
      {
        "duration": 566,
        "start_time": "2024-04-01T18:42:49.341Z"
      },
      {
        "duration": 3,
        "start_time": "2024-04-01T18:42:49.908Z"
      },
      {
        "duration": 51,
        "start_time": "2024-04-01T18:42:49.912Z"
      },
      {
        "duration": 838,
        "start_time": "2024-04-01T18:42:49.966Z"
      },
      {
        "duration": 7,
        "start_time": "2024-04-01T18:42:50.806Z"
      },
      {
        "duration": 719941,
        "start_time": "2024-04-01T18:42:50.814Z"
      },
      {
        "duration": 2,
        "start_time": "2024-04-01T18:54:50.757Z"
      },
      {
        "duration": 5,
        "start_time": "2024-04-01T18:54:50.768Z"
      },
      {
        "duration": 19,
        "start_time": "2024-04-01T18:54:50.775Z"
      },
      {
        "duration": 16,
        "start_time": "2024-04-01T18:54:50.796Z"
      },
      {
        "duration": 18,
        "start_time": "2024-04-01T18:54:50.813Z"
      },
      {
        "duration": 34,
        "start_time": "2024-04-01T18:54:50.833Z"
      },
      {
        "duration": 85,
        "start_time": "2024-04-01T18:54:50.869Z"
      },
      {
        "duration": 10,
        "start_time": "2024-04-01T18:54:50.956Z"
      },
      {
        "duration": 721,
        "start_time": "2024-04-01T18:54:50.968Z"
      },
      {
        "duration": 161,
        "start_time": "2024-04-01T18:54:51.691Z"
      },
      {
        "duration": 3,
        "start_time": "2024-04-01T18:54:51.853Z"
      },
      {
        "duration": 3135,
        "start_time": "2024-04-01T18:54:51.857Z"
      },
      {
        "duration": 3,
        "start_time": "2024-04-01T18:54:54.993Z"
      },
      {
        "duration": 17,
        "start_time": "2024-04-01T18:54:54.998Z"
      },
      {
        "duration": 27,
        "start_time": "2024-04-01T18:54:55.017Z"
      },
      {
        "duration": 379,
        "start_time": "2024-04-01T18:54:55.046Z"
      },
      {
        "duration": 0,
        "start_time": "2024-04-01T18:54:55.427Z"
      },
      {
        "duration": 4,
        "start_time": "2024-04-02T08:20:42.451Z"
      },
      {
        "duration": 3,
        "start_time": "2024-04-02T08:21:49.961Z"
      },
      {
        "duration": 752471,
        "start_time": "2024-04-02T08:22:07.656Z"
      },
      {
        "duration": 16,
        "start_time": "2024-04-02T08:34:54.275Z"
      },
      {
        "duration": 16,
        "start_time": "2024-04-02T08:35:16.018Z"
      },
      {
        "duration": 3,
        "start_time": "2024-04-02T08:39:02.987Z"
      },
      {
        "duration": 3,
        "start_time": "2024-04-02T08:39:05.114Z"
      },
      {
        "duration": 24046,
        "start_time": "2024-04-02T08:39:06.643Z"
      },
      {
        "duration": 0,
        "start_time": "2024-04-02T08:39:30.692Z"
      },
      {
        "duration": 3,
        "start_time": "2024-04-02T08:39:32.234Z"
      },
      {
        "duration": 79070,
        "start_time": "2024-04-02T08:39:33.619Z"
      },
      {
        "duration": 4,
        "start_time": "2024-04-02T08:45:16.195Z"
      },
      {
        "duration": 5,
        "start_time": "2024-04-02T08:45:49.715Z"
      },
      {
        "duration": 4,
        "start_time": "2024-04-02T08:50:00.203Z"
      },
      {
        "duration": 3,
        "start_time": "2024-04-02T08:50:20.538Z"
      },
      {
        "duration": 4,
        "start_time": "2024-04-02T08:51:01.227Z"
      },
      {
        "duration": 2,
        "start_time": "2024-04-02T08:51:02.467Z"
      },
      {
        "duration": 2,
        "start_time": "2024-04-02T08:51:04.012Z"
      },
      {
        "duration": 1142048,
        "start_time": "2024-04-02T08:51:07.227Z"
      },
      {
        "duration": 5,
        "start_time": "2024-04-02T09:46:34.130Z"
      },
      {
        "duration": 4,
        "start_time": "2024-04-02T09:46:36.456Z"
      },
      {
        "duration": 8,
        "start_time": "2024-04-02T09:47:48.584Z"
      },
      {
        "duration": 3,
        "start_time": "2024-04-02T09:53:41.576Z"
      },
      {
        "duration": 3,
        "start_time": "2024-04-02T09:53:42.896Z"
      },
      {
        "duration": 4,
        "start_time": "2024-04-02T09:53:44.368Z"
      },
      {
        "duration": 17120,
        "start_time": "2024-04-02T09:53:45.488Z"
      },
      {
        "duration": 108976,
        "start_time": "2024-04-02T09:54:13.704Z"
      },
      {
        "duration": 5,
        "start_time": "2024-04-02T09:56:02.682Z"
      },
      {
        "duration": 18,
        "start_time": "2024-04-02T09:56:02.688Z"
      },
      {
        "duration": 17,
        "start_time": "2024-04-02T09:56:02.708Z"
      },
      {
        "duration": 4,
        "start_time": "2024-04-02T13:54:46.112Z"
      },
      {
        "duration": 3,
        "start_time": "2024-04-02T13:54:47.591Z"
      },
      {
        "duration": 3,
        "start_time": "2024-04-02T13:54:48.535Z"
      },
      {
        "duration": 27,
        "start_time": "2024-04-02T13:54:53.919Z"
      },
      {
        "duration": 4,
        "start_time": "2024-04-02T13:55:30.679Z"
      },
      {
        "duration": 3,
        "start_time": "2024-04-02T13:55:31.998Z"
      },
      {
        "duration": 3,
        "start_time": "2024-04-02T13:55:32.782Z"
      },
      {
        "duration": 1165948,
        "start_time": "2024-04-02T13:55:33.534Z"
      },
      {
        "duration": 87,
        "start_time": "2024-04-02T14:14:59.484Z"
      },
      {
        "duration": 8,
        "start_time": "2024-04-02T14:14:59.573Z"
      },
      {
        "duration": 24,
        "start_time": "2024-04-02T14:14:59.583Z"
      },
      {
        "duration": 35,
        "start_time": "2024-04-02T14:29:22.697Z"
      },
      {
        "duration": 3,
        "start_time": "2024-04-02T14:39:39.425Z"
      },
      {
        "duration": 20,
        "start_time": "2024-04-02T14:40:15.328Z"
      },
      {
        "duration": 4,
        "start_time": "2024-04-02T14:40:34.480Z"
      },
      {
        "duration": 15,
        "start_time": "2024-04-02T14:40:39.728Z"
      },
      {
        "duration": 2,
        "start_time": "2024-04-02T14:40:42.184Z"
      },
      {
        "duration": 11,
        "start_time": "2024-04-02T14:40:43.225Z"
      },
      {
        "duration": 4,
        "start_time": "2024-04-02T14:41:20.752Z"
      },
      {
        "duration": 2,
        "start_time": "2024-04-02T14:41:28.072Z"
      },
      {
        "duration": 2,
        "start_time": "2024-04-02T15:06:51.547Z"
      },
      {
        "duration": 5,
        "start_time": "2024-04-02T15:06:52.682Z"
      },
      {
        "duration": 3,
        "start_time": "2024-04-02T15:06:54.074Z"
      },
      {
        "duration": 2,
        "start_time": "2024-04-02T15:06:58.898Z"
      },
      {
        "duration": 4880204,
        "start_time": "2024-04-02T15:07:03.074Z"
      },
      {
        "duration": 6,
        "start_time": "2024-04-02T16:28:23.281Z"
      },
      {
        "duration": 7,
        "start_time": "2024-04-02T16:28:23.288Z"
      },
      {
        "duration": 38,
        "start_time": "2024-04-02T16:28:23.297Z"
      },
      {
        "duration": 35,
        "start_time": "2024-04-03T07:14:38.184Z"
      },
      {
        "duration": 30,
        "start_time": "2024-04-03T07:15:11.511Z"
      },
      {
        "duration": 23,
        "start_time": "2024-04-03T07:15:41.127Z"
      },
      {
        "duration": 5571,
        "start_time": "2024-04-03T07:23:37.137Z"
      },
      {
        "duration": 3962,
        "start_time": "2024-04-03T07:23:42.710Z"
      },
      {
        "duration": 1028,
        "start_time": "2024-04-03T07:23:46.674Z"
      },
      {
        "duration": 5,
        "start_time": "2024-04-03T07:23:47.704Z"
      },
      {
        "duration": 322,
        "start_time": "2024-04-03T07:23:47.711Z"
      },
      {
        "duration": 2,
        "start_time": "2024-04-03T07:23:48.034Z"
      },
      {
        "duration": 6,
        "start_time": "2024-04-03T07:23:48.037Z"
      },
      {
        "duration": 3,
        "start_time": "2024-04-03T07:23:48.044Z"
      },
      {
        "duration": 14,
        "start_time": "2024-04-03T07:23:48.049Z"
      },
      {
        "duration": 2,
        "start_time": "2024-04-03T07:23:48.070Z"
      },
      {
        "duration": 543,
        "start_time": "2024-04-03T07:23:48.073Z"
      },
      {
        "duration": 3,
        "start_time": "2024-04-03T07:23:48.617Z"
      },
      {
        "duration": 5,
        "start_time": "2024-04-03T07:23:48.621Z"
      },
      {
        "duration": 2,
        "start_time": "2024-04-03T07:23:48.628Z"
      },
      {
        "duration": 2407,
        "start_time": "2024-04-03T07:23:48.632Z"
      },
      {
        "duration": 8,
        "start_time": "2024-04-03T07:23:51.040Z"
      },
      {
        "duration": 2250325,
        "start_time": "2024-04-03T07:23:51.049Z"
      },
      {
        "duration": 3,
        "start_time": "2024-04-03T08:01:21.375Z"
      },
      {
        "duration": 36,
        "start_time": "2024-04-03T08:01:21.379Z"
      },
      {
        "duration": 25,
        "start_time": "2024-04-03T08:01:21.417Z"
      },
      {
        "duration": 15,
        "start_time": "2024-04-03T08:01:21.444Z"
      },
      {
        "duration": 16,
        "start_time": "2024-04-03T08:01:21.461Z"
      },
      {
        "duration": 90,
        "start_time": "2024-04-03T08:01:21.479Z"
      },
      {
        "duration": 237,
        "start_time": "2024-04-03T08:01:21.571Z"
      },
      {
        "duration": 29,
        "start_time": "2024-04-03T08:01:21.810Z"
      },
      {
        "duration": 48,
        "start_time": "2024-04-03T08:13:12.136Z"
      },
      {
        "duration": 11,
        "start_time": "2024-04-03T08:13:30.417Z"
      },
      {
        "duration": 5856,
        "start_time": "2024-04-03T08:14:01.406Z"
      },
      {
        "duration": 4649,
        "start_time": "2024-04-03T08:14:07.264Z"
      },
      {
        "duration": 3372,
        "start_time": "2024-04-03T08:14:11.914Z"
      },
      {
        "duration": 5,
        "start_time": "2024-04-03T08:14:15.288Z"
      },
      {
        "duration": 380,
        "start_time": "2024-04-03T08:14:15.296Z"
      },
      {
        "duration": 2,
        "start_time": "2024-04-03T08:14:15.678Z"
      },
      {
        "duration": 13,
        "start_time": "2024-04-03T08:14:15.682Z"
      },
      {
        "duration": 12,
        "start_time": "2024-04-03T08:14:15.697Z"
      },
      {
        "duration": 8,
        "start_time": "2024-04-03T08:14:15.710Z"
      },
      {
        "duration": 18,
        "start_time": "2024-04-03T08:14:15.720Z"
      },
      {
        "duration": 542,
        "start_time": "2024-04-03T08:14:15.739Z"
      },
      {
        "duration": 2,
        "start_time": "2024-04-03T08:14:16.282Z"
      },
      {
        "duration": 18,
        "start_time": "2024-04-03T08:14:16.286Z"
      },
      {
        "duration": 7,
        "start_time": "2024-04-03T08:14:16.307Z"
      },
      {
        "duration": 2398,
        "start_time": "2024-04-03T08:14:16.316Z"
      },
      {
        "duration": 8,
        "start_time": "2024-04-03T08:14:18.716Z"
      },
      {
        "duration": 2291015,
        "start_time": "2024-04-03T08:14:18.725Z"
      },
      {
        "duration": 2,
        "start_time": "2024-04-03T08:52:29.741Z"
      },
      {
        "duration": 13,
        "start_time": "2024-04-03T08:52:29.745Z"
      },
      {
        "duration": 8,
        "start_time": "2024-04-03T08:52:29.760Z"
      },
      {
        "duration": 6,
        "start_time": "2024-04-03T08:52:29.769Z"
      },
      {
        "duration": 11,
        "start_time": "2024-04-03T08:52:29.777Z"
      },
      {
        "duration": 73,
        "start_time": "2024-04-03T08:52:29.790Z"
      },
      {
        "duration": 272,
        "start_time": "2024-04-03T08:52:29.865Z"
      },
      {
        "duration": 36,
        "start_time": "2024-04-03T08:52:30.139Z"
      },
      {
        "duration": 49,
        "start_time": "2024-04-03T08:56:28.645Z"
      },
      {
        "duration": 0,
        "start_time": "2024-04-03T08:56:28.696Z"
      },
      {
        "duration": 0,
        "start_time": "2024-04-03T08:56:28.697Z"
      },
      {
        "duration": 0,
        "start_time": "2024-04-03T08:56:28.698Z"
      },
      {
        "duration": 0,
        "start_time": "2024-04-03T08:56:28.699Z"
      },
      {
        "duration": 0,
        "start_time": "2024-04-03T08:56:28.700Z"
      },
      {
        "duration": 0,
        "start_time": "2024-04-03T08:56:28.701Z"
      },
      {
        "duration": 0,
        "start_time": "2024-04-03T08:56:28.702Z"
      },
      {
        "duration": 0,
        "start_time": "2024-04-03T08:56:28.704Z"
      },
      {
        "duration": 0,
        "start_time": "2024-04-03T08:56:28.705Z"
      },
      {
        "duration": 0,
        "start_time": "2024-04-03T08:56:28.705Z"
      },
      {
        "duration": 0,
        "start_time": "2024-04-03T08:56:28.706Z"
      },
      {
        "duration": 0,
        "start_time": "2024-04-03T08:56:28.707Z"
      },
      {
        "duration": 0,
        "start_time": "2024-04-03T08:56:28.708Z"
      },
      {
        "duration": 0,
        "start_time": "2024-04-03T08:56:28.709Z"
      },
      {
        "duration": 0,
        "start_time": "2024-04-03T08:56:28.710Z"
      },
      {
        "duration": 5787,
        "start_time": "2024-04-03T08:58:26.460Z"
      },
      {
        "duration": 4824,
        "start_time": "2024-04-03T08:58:32.249Z"
      },
      {
        "duration": 3447,
        "start_time": "2024-04-03T08:58:37.075Z"
      },
      {
        "duration": 7,
        "start_time": "2024-04-03T08:58:40.524Z"
      },
      {
        "duration": 358,
        "start_time": "2024-04-03T08:58:40.533Z"
      },
      {
        "duration": 17,
        "start_time": "2024-04-03T08:58:40.892Z"
      },
      {
        "duration": 23,
        "start_time": "2024-04-03T08:58:40.910Z"
      },
      {
        "duration": 116,
        "start_time": "2024-04-03T08:58:40.935Z"
      },
      {
        "duration": 3,
        "start_time": "2024-04-03T08:58:41.069Z"
      },
      {
        "duration": 17,
        "start_time": "2024-04-03T08:58:41.075Z"
      },
      {
        "duration": 595,
        "start_time": "2024-04-03T08:58:41.094Z"
      },
      {
        "duration": 2,
        "start_time": "2024-04-03T08:58:41.691Z"
      },
      {
        "duration": 10,
        "start_time": "2024-04-03T08:58:41.695Z"
      },
      {
        "duration": 8,
        "start_time": "2024-04-03T08:58:41.707Z"
      },
      {
        "duration": 1216,
        "start_time": "2024-04-03T08:58:41.717Z"
      },
      {
        "duration": 7,
        "start_time": "2024-04-03T08:58:42.935Z"
      },
      {
        "duration": 1105692,
        "start_time": "2024-04-03T08:58:42.943Z"
      },
      {
        "duration": 2,
        "start_time": "2024-04-03T09:17:08.637Z"
      },
      {
        "duration": 6,
        "start_time": "2024-04-03T09:17:08.641Z"
      },
      {
        "duration": 8,
        "start_time": "2024-04-03T09:17:08.649Z"
      },
      {
        "duration": 3,
        "start_time": "2024-04-03T09:17:08.670Z"
      },
      {
        "duration": 13,
        "start_time": "2024-04-03T09:17:08.674Z"
      },
      {
        "duration": 40,
        "start_time": "2024-04-03T09:17:08.689Z"
      },
      {
        "duration": 357,
        "start_time": "2024-04-03T09:17:08.730Z"
      },
      {
        "duration": 0,
        "start_time": "2024-04-03T09:17:09.090Z"
      },
      {
        "duration": 0,
        "start_time": "2024-04-03T09:17:09.091Z"
      },
      {
        "duration": 0,
        "start_time": "2024-04-03T09:17:09.093Z"
      },
      {
        "duration": 0,
        "start_time": "2024-04-03T09:17:09.094Z"
      },
      {
        "duration": 0,
        "start_time": "2024-04-03T09:17:09.095Z"
      },
      {
        "duration": 0,
        "start_time": "2024-04-03T09:17:09.097Z"
      },
      {
        "duration": 0,
        "start_time": "2024-04-03T09:17:09.098Z"
      },
      {
        "duration": 0,
        "start_time": "2024-04-03T09:17:09.100Z"
      },
      {
        "duration": 0,
        "start_time": "2024-04-03T09:17:09.101Z"
      },
      {
        "duration": 0,
        "start_time": "2024-04-03T09:17:09.102Z"
      },
      {
        "duration": 0,
        "start_time": "2024-04-03T09:17:09.104Z"
      },
      {
        "duration": 0,
        "start_time": "2024-04-03T09:17:09.106Z"
      },
      {
        "duration": 0,
        "start_time": "2024-04-03T09:17:09.107Z"
      },
      {
        "duration": 0,
        "start_time": "2024-04-03T09:17:09.109Z"
      },
      {
        "duration": 0,
        "start_time": "2024-04-03T09:17:09.111Z"
      },
      {
        "duration": 0,
        "start_time": "2024-04-03T09:17:09.112Z"
      },
      {
        "duration": 0,
        "start_time": "2024-04-03T09:17:09.113Z"
      },
      {
        "duration": 120,
        "start_time": "2024-04-03T09:17:53.972Z"
      },
      {
        "duration": 16,
        "start_time": "2024-04-03T09:17:55.643Z"
      },
      {
        "duration": 1169,
        "start_time": "2024-04-03T09:18:38.459Z"
      },
      {
        "duration": 144,
        "start_time": "2024-04-03T09:18:42.244Z"
      },
      {
        "duration": 2,
        "start_time": "2024-04-03T09:18:46.555Z"
      },
      {
        "duration": 4637,
        "start_time": "2024-04-03T09:18:47.458Z"
      },
      {
        "duration": 3,
        "start_time": "2024-04-03T09:18:52.097Z"
      },
      {
        "duration": 3,
        "start_time": "2024-04-03T09:18:55.051Z"
      },
      {
        "duration": 23,
        "start_time": "2024-04-03T09:18:56.555Z"
      },
      {
        "duration": 6,
        "start_time": "2024-04-03T09:18:57.579Z"
      },
      {
        "duration": 4,
        "start_time": "2024-04-03T09:19:02.723Z"
      },
      {
        "duration": 5,
        "start_time": "2024-04-03T09:19:03.979Z"
      },
      {
        "duration": 4,
        "start_time": "2024-04-03T09:19:05.530Z"
      },
      {
        "duration": 4,
        "start_time": "2024-04-03T09:19:06.403Z"
      },
      {
        "duration": 21838,
        "start_time": "2024-04-03T09:19:07.155Z"
      },
      {
        "duration": 4,
        "start_time": "2024-04-03T09:19:42.947Z"
      },
      {
        "duration": 8191779,
        "start_time": "2024-04-03T09:19:44.379Z"
      },
      {
        "duration": 4,
        "start_time": "2024-04-03T11:42:01.314Z"
      },
      {
        "duration": 5,
        "start_time": "2024-04-03T11:42:05.234Z"
      },
      {
        "duration": 31,
        "start_time": "2024-04-03T11:42:11.168Z"
      },
      {
        "duration": 32,
        "start_time": "2024-04-03T11:42:18.921Z"
      },
      {
        "duration": 31,
        "start_time": "2024-04-03T11:47:37.089Z"
      },
      {
        "duration": 39,
        "start_time": "2024-04-03T11:47:45.305Z"
      },
      {
        "duration": 4,
        "start_time": "2024-04-03T11:47:46.649Z"
      },
      {
        "duration": 2,
        "start_time": "2024-04-03T11:47:48.921Z"
      },
      {
        "duration": 3,
        "start_time": "2024-04-03T11:47:50.234Z"
      },
      {
        "duration": 3,
        "start_time": "2024-04-03T11:47:51.625Z"
      },
      {
        "duration": 2,
        "start_time": "2024-04-03T11:48:10.634Z"
      },
      {
        "duration": 12033,
        "start_time": "2024-04-03T11:48:13.361Z"
      },
      {
        "duration": 0,
        "start_time": "2024-04-03T11:48:25.398Z"
      },
      {
        "duration": 3,
        "start_time": "2024-04-03T11:48:27.626Z"
      },
      {
        "duration": 1035000,
        "start_time": "2024-04-03T11:48:29.186Z"
      },
      {
        "duration": 4,
        "start_time": "2024-04-03T12:05:44.188Z"
      },
      {
        "duration": 10,
        "start_time": "2024-04-03T12:05:44.193Z"
      },
      {
        "duration": 25,
        "start_time": "2024-04-03T12:05:44.205Z"
      },
      {
        "duration": 29,
        "start_time": "2024-04-03T12:40:57.590Z"
      },
      {
        "duration": 4,
        "start_time": "2024-04-03T12:42:35.702Z"
      },
      {
        "duration": 26,
        "start_time": "2024-04-03T12:45:11.734Z"
      },
      {
        "duration": 29,
        "start_time": "2024-04-03T12:46:14.733Z"
      },
      {
        "duration": 3,
        "start_time": "2024-04-03T12:46:22.653Z"
      },
      {
        "duration": 98,
        "start_time": "2024-04-03T12:47:07.092Z"
      },
      {
        "duration": 4,
        "start_time": "2024-04-03T12:47:23.422Z"
      },
      {
        "duration": 4,
        "start_time": "2024-04-03T12:48:19.311Z"
      },
      {
        "duration": 12,
        "start_time": "2024-04-03T12:48:38.869Z"
      },
      {
        "duration": 8,
        "start_time": "2024-04-03T12:48:54.485Z"
      },
      {
        "duration": 5,
        "start_time": "2024-04-03T12:50:14.150Z"
      },
      {
        "duration": 21,
        "start_time": "2024-04-03T12:54:48.206Z"
      },
      {
        "duration": 3,
        "start_time": "2024-04-03T12:55:03.405Z"
      },
      {
        "duration": 20,
        "start_time": "2024-04-03T12:55:32.149Z"
      },
      {
        "duration": 4,
        "start_time": "2024-04-03T12:55:49.295Z"
      },
      {
        "duration": 4,
        "start_time": "2024-04-03T12:56:24.557Z"
      },
      {
        "duration": 5719,
        "start_time": "2024-04-03T12:56:38.363Z"
      },
      {
        "duration": 4099,
        "start_time": "2024-04-03T12:56:44.085Z"
      },
      {
        "duration": 1106,
        "start_time": "2024-04-03T12:56:48.186Z"
      },
      {
        "duration": 6,
        "start_time": "2024-04-03T12:56:49.294Z"
      },
      {
        "duration": 381,
        "start_time": "2024-04-03T12:56:49.302Z"
      },
      {
        "duration": 19,
        "start_time": "2024-04-03T12:56:49.684Z"
      },
      {
        "duration": 3,
        "start_time": "2024-04-03T12:56:49.705Z"
      },
      {
        "duration": 105,
        "start_time": "2024-04-03T12:56:49.709Z"
      },
      {
        "duration": 573,
        "start_time": "2024-04-03T12:56:49.816Z"
      },
      {
        "duration": 4,
        "start_time": "2024-04-03T12:56:50.391Z"
      },
      {
        "duration": 1217,
        "start_time": "2024-04-03T12:56:50.396Z"
      },
      {
        "duration": 8,
        "start_time": "2024-04-03T12:56:51.615Z"
      },
      {
        "duration": 1076366,
        "start_time": "2024-04-03T12:56:51.624Z"
      },
      {
        "duration": 8,
        "start_time": "2024-04-03T13:14:47.993Z"
      },
      {
        "duration": 49,
        "start_time": "2024-04-03T13:14:48.003Z"
      },
      {
        "duration": 128,
        "start_time": "2024-04-03T13:14:48.054Z"
      },
      {
        "duration": 18,
        "start_time": "2024-04-03T13:14:48.183Z"
      },
      {
        "duration": 1218,
        "start_time": "2024-04-03T13:14:48.203Z"
      },
      {
        "duration": 167,
        "start_time": "2024-04-03T13:14:49.422Z"
      },
      {
        "duration": 2,
        "start_time": "2024-04-03T13:14:49.591Z"
      },
      {
        "duration": 4444,
        "start_time": "2024-04-03T13:14:49.595Z"
      },
      {
        "duration": 3,
        "start_time": "2024-04-03T13:14:54.040Z"
      },
      {
        "duration": 31,
        "start_time": "2024-04-03T13:14:54.045Z"
      },
      {
        "duration": 69,
        "start_time": "2024-04-03T13:14:54.077Z"
      },
      {
        "duration": 6,
        "start_time": "2024-04-03T13:14:54.148Z"
      },
      {
        "duration": 37,
        "start_time": "2024-04-03T13:14:54.156Z"
      },
      {
        "duration": 19,
        "start_time": "2024-04-03T13:14:54.195Z"
      },
      {
        "duration": 14,
        "start_time": "2024-04-03T13:14:54.216Z"
      },
      {
        "duration": 28,
        "start_time": "2024-04-03T13:14:54.232Z"
      },
      {
        "duration": 1775965,
        "start_time": "2024-04-03T13:14:54.262Z"
      },
      {
        "duration": 3,
        "start_time": "2024-04-03T13:44:30.229Z"
      },
      {
        "duration": 176,
        "start_time": "2024-04-03T13:44:30.233Z"
      },
      {
        "duration": 198,
        "start_time": "2024-04-03T13:44:30.411Z"
      },
      {
        "duration": 172,
        "start_time": "2024-04-03T13:44:30.610Z"
      },
      {
        "duration": 64,
        "start_time": "2024-04-03T13:44:30.783Z"
      },
      {
        "duration": 52,
        "start_time": "2024-04-03T13:44:30.848Z"
      },
      {
        "duration": 33,
        "start_time": "2024-04-03T13:44:30.902Z"
      },
      {
        "duration": 36,
        "start_time": "2024-04-03T15:19:21.723Z"
      },
      {
        "duration": 4119,
        "start_time": "2024-04-03T15:20:25.421Z"
      },
      {
        "duration": 4806,
        "start_time": "2024-04-03T15:20:29.543Z"
      },
      {
        "duration": 1041,
        "start_time": "2024-04-03T15:20:34.353Z"
      },
      {
        "duration": 6,
        "start_time": "2024-04-03T15:20:35.396Z"
      },
      {
        "duration": 333,
        "start_time": "2024-04-03T15:20:35.403Z"
      },
      {
        "duration": 17,
        "start_time": "2024-04-03T15:20:35.739Z"
      },
      {
        "duration": 3,
        "start_time": "2024-04-03T15:20:35.770Z"
      },
      {
        "duration": 97,
        "start_time": "2024-04-03T15:20:35.774Z"
      },
      {
        "duration": 512,
        "start_time": "2024-04-03T15:20:35.872Z"
      },
      {
        "duration": 3,
        "start_time": "2024-04-03T15:20:36.386Z"
      },
      {
        "duration": 1184,
        "start_time": "2024-04-03T15:20:36.391Z"
      },
      {
        "duration": 7,
        "start_time": "2024-04-03T15:20:37.577Z"
      },
      {
        "duration": 5475,
        "start_time": "2024-04-03T15:21:05.881Z"
      },
      {
        "duration": 3925,
        "start_time": "2024-04-03T15:21:11.359Z"
      },
      {
        "duration": 1016,
        "start_time": "2024-04-03T15:21:15.285Z"
      },
      {
        "duration": 6,
        "start_time": "2024-04-03T15:21:16.302Z"
      },
      {
        "duration": 334,
        "start_time": "2024-04-03T15:21:16.310Z"
      },
      {
        "duration": 25,
        "start_time": "2024-04-03T15:21:16.646Z"
      },
      {
        "duration": 3,
        "start_time": "2024-04-03T15:21:16.672Z"
      },
      {
        "duration": 106,
        "start_time": "2024-04-03T15:21:16.676Z"
      },
      {
        "duration": 495,
        "start_time": "2024-04-03T15:21:16.784Z"
      },
      {
        "duration": 3,
        "start_time": "2024-04-03T15:21:17.280Z"
      },
      {
        "duration": 1556,
        "start_time": "2024-04-03T15:21:17.284Z"
      },
      {
        "duration": 7,
        "start_time": "2024-04-03T15:21:18.842Z"
      },
      {
        "duration": 1383095,
        "start_time": "2024-04-03T15:21:18.850Z"
      },
      {
        "duration": 8,
        "start_time": "2024-04-03T15:44:21.947Z"
      },
      {
        "duration": 47,
        "start_time": "2024-04-03T15:44:21.971Z"
      },
      {
        "duration": 164,
        "start_time": "2024-04-03T15:44:22.019Z"
      },
      {
        "duration": 22,
        "start_time": "2024-04-03T15:44:22.184Z"
      },
      {
        "duration": 1499,
        "start_time": "2024-04-03T15:44:22.207Z"
      },
      {
        "duration": 251,
        "start_time": "2024-04-03T15:44:23.708Z"
      },
      {
        "duration": 3,
        "start_time": "2024-04-03T15:44:23.960Z"
      },
      {
        "duration": 5740,
        "start_time": "2024-04-03T15:44:23.964Z"
      },
      {
        "duration": 3,
        "start_time": "2024-04-03T15:44:29.706Z"
      },
      {
        "duration": 9,
        "start_time": "2024-04-03T15:44:29.711Z"
      },
      {
        "duration": 76,
        "start_time": "2024-04-03T15:44:29.721Z"
      },
      {
        "duration": 4,
        "start_time": "2024-04-03T15:44:29.799Z"
      },
      {
        "duration": 5,
        "start_time": "2024-04-03T15:44:29.804Z"
      },
      {
        "duration": 4,
        "start_time": "2024-04-03T15:44:29.811Z"
      },
      {
        "duration": 7,
        "start_time": "2024-04-03T15:44:29.816Z"
      },
      {
        "duration": 11,
        "start_time": "2024-04-03T15:44:29.824Z"
      },
      {
        "duration": 5580,
        "start_time": "2024-04-03T16:18:53.210Z"
      },
      {
        "duration": 4989,
        "start_time": "2024-04-03T16:18:58.793Z"
      },
      {
        "duration": 3292,
        "start_time": "2024-04-03T16:19:03.783Z"
      },
      {
        "duration": 6,
        "start_time": "2024-04-03T16:19:07.077Z"
      },
      {
        "duration": 328,
        "start_time": "2024-04-03T16:19:07.085Z"
      },
      {
        "duration": 17,
        "start_time": "2024-04-03T16:19:07.415Z"
      },
      {
        "duration": 3,
        "start_time": "2024-04-03T16:19:07.434Z"
      },
      {
        "duration": 102,
        "start_time": "2024-04-03T16:19:07.438Z"
      },
      {
        "duration": 499,
        "start_time": "2024-04-03T16:19:07.542Z"
      },
      {
        "duration": 3,
        "start_time": "2024-04-03T16:19:08.043Z"
      },
      {
        "duration": 1174,
        "start_time": "2024-04-03T16:19:08.047Z"
      },
      {
        "duration": 7,
        "start_time": "2024-04-03T16:19:09.223Z"
      },
      {
        "duration": 1049702,
        "start_time": "2024-04-03T16:19:09.231Z"
      },
      {
        "duration": 8,
        "start_time": "2024-04-03T16:36:38.935Z"
      },
      {
        "duration": 50,
        "start_time": "2024-04-03T16:36:38.945Z"
      },
      {
        "duration": 122,
        "start_time": "2024-04-03T16:36:38.997Z"
      },
      {
        "duration": 13,
        "start_time": "2024-04-03T16:36:39.120Z"
      },
      {
        "duration": 1148,
        "start_time": "2024-04-03T16:36:39.134Z"
      },
      {
        "duration": 308,
        "start_time": "2024-04-03T16:36:40.284Z"
      },
      {
        "duration": 3,
        "start_time": "2024-04-03T16:36:40.593Z"
      },
      {
        "duration": 4284,
        "start_time": "2024-04-03T16:36:40.597Z"
      },
      {
        "duration": 3,
        "start_time": "2024-04-03T16:36:44.883Z"
      },
      {
        "duration": 5,
        "start_time": "2024-04-03T16:36:44.887Z"
      },
      {
        "duration": 42,
        "start_time": "2024-04-03T16:36:44.893Z"
      },
      {
        "duration": 4,
        "start_time": "2024-04-03T16:36:44.936Z"
      },
      {
        "duration": 8,
        "start_time": "2024-04-03T16:36:44.941Z"
      },
      {
        "duration": 4,
        "start_time": "2024-04-03T16:36:44.950Z"
      },
      {
        "duration": 3,
        "start_time": "2024-04-03T16:36:44.969Z"
      },
      {
        "duration": 9,
        "start_time": "2024-04-03T16:36:44.973Z"
      },
      {
        "duration": 508017,
        "start_time": "2024-04-03T16:36:44.984Z"
      },
      {
        "duration": 0,
        "start_time": "2024-04-03T16:45:13.003Z"
      },
      {
        "duration": 0,
        "start_time": "2024-04-03T16:45:13.004Z"
      },
      {
        "duration": 0,
        "start_time": "2024-04-03T16:45:13.005Z"
      },
      {
        "duration": 0,
        "start_time": "2024-04-03T16:45:13.006Z"
      },
      {
        "duration": 0,
        "start_time": "2024-04-03T16:45:13.007Z"
      },
      {
        "duration": 0,
        "start_time": "2024-04-03T16:45:13.009Z"
      },
      {
        "duration": 0,
        "start_time": "2024-04-03T16:45:13.009Z"
      },
      {
        "duration": 0,
        "start_time": "2024-04-03T16:45:13.010Z"
      },
      {
        "duration": 4,
        "start_time": "2024-04-03T16:45:13.910Z"
      },
      {
        "duration": 2,
        "start_time": "2024-04-03T16:45:16.343Z"
      },
      {
        "duration": 3,
        "start_time": "2024-04-03T16:45:17.838Z"
      },
      {
        "duration": 80284,
        "start_time": "2024-04-03T16:45:19.608Z"
      },
      {
        "duration": 0,
        "start_time": "2024-04-03T16:46:39.895Z"
      },
      {
        "duration": 0,
        "start_time": "2024-04-03T16:46:39.897Z"
      },
      {
        "duration": 0,
        "start_time": "2024-04-03T16:46:39.898Z"
      },
      {
        "duration": 4,
        "start_time": "2024-04-03T16:46:51.191Z"
      },
      {
        "duration": 3,
        "start_time": "2024-04-03T16:46:53.031Z"
      },
      {
        "duration": 3,
        "start_time": "2024-04-03T16:46:53.790Z"
      },
      {
        "duration": 51643,
        "start_time": "2024-04-03T16:46:55.351Z"
      },
      {
        "duration": 0,
        "start_time": "2024-04-03T16:47:46.998Z"
      },
      {
        "duration": 4,
        "start_time": "2024-04-03T16:47:49.230Z"
      },
      {
        "duration": 2,
        "start_time": "2024-04-03T16:47:50.623Z"
      },
      {
        "duration": 3,
        "start_time": "2024-04-03T16:47:51.542Z"
      },
      {
        "duration": 349047,
        "start_time": "2024-04-03T16:47:52.206Z"
      },
      {
        "duration": 5526,
        "start_time": "2024-04-03T16:53:45.910Z"
      },
      {
        "duration": 3915,
        "start_time": "2024-04-03T16:53:51.439Z"
      },
      {
        "duration": 1026,
        "start_time": "2024-04-03T16:53:55.358Z"
      },
      {
        "duration": 6,
        "start_time": "2024-04-03T16:53:56.386Z"
      },
      {
        "duration": 319,
        "start_time": "2024-04-03T16:53:56.393Z"
      },
      {
        "duration": 18,
        "start_time": "2024-04-03T16:53:56.714Z"
      },
      {
        "duration": 3,
        "start_time": "2024-04-03T16:53:56.734Z"
      },
      {
        "duration": 98,
        "start_time": "2024-04-03T16:53:56.738Z"
      },
      {
        "duration": 499,
        "start_time": "2024-04-03T16:53:56.838Z"
      },
      {
        "duration": 3,
        "start_time": "2024-04-03T16:53:57.338Z"
      },
      {
        "duration": 1151,
        "start_time": "2024-04-03T16:53:57.342Z"
      },
      {
        "duration": 7,
        "start_time": "2024-04-03T16:53:58.495Z"
      },
      {
        "duration": 1034940,
        "start_time": "2024-04-03T16:53:58.504Z"
      },
      {
        "duration": 8,
        "start_time": "2024-04-03T17:11:13.445Z"
      },
      {
        "duration": 46,
        "start_time": "2024-04-03T17:11:13.455Z"
      },
      {
        "duration": 143,
        "start_time": "2024-04-03T17:11:13.503Z"
      },
      {
        "duration": 15,
        "start_time": "2024-04-03T17:11:13.648Z"
      },
      {
        "duration": 1100,
        "start_time": "2024-04-03T17:11:13.670Z"
      },
      {
        "duration": 248,
        "start_time": "2024-04-03T17:11:14.772Z"
      },
      {
        "duration": 3,
        "start_time": "2024-04-03T17:11:15.022Z"
      },
      {
        "duration": 4538,
        "start_time": "2024-04-03T17:11:15.026Z"
      },
      {
        "duration": 3,
        "start_time": "2024-04-03T17:11:19.566Z"
      },
      {
        "duration": 9,
        "start_time": "2024-04-03T17:11:19.570Z"
      },
      {
        "duration": 41,
        "start_time": "2024-04-03T17:11:19.581Z"
      },
      {
        "duration": 4,
        "start_time": "2024-04-03T17:11:19.623Z"
      },
      {
        "duration": 5,
        "start_time": "2024-04-03T17:11:19.628Z"
      },
      {
        "duration": 4,
        "start_time": "2024-04-03T17:11:19.634Z"
      },
      {
        "duration": 5,
        "start_time": "2024-04-03T17:11:19.640Z"
      },
      {
        "duration": 5,
        "start_time": "2024-04-03T17:11:19.646Z"
      },
      {
        "duration": 1703971,
        "start_time": "2024-04-03T17:11:19.669Z"
      },
      {
        "duration": 0,
        "start_time": "2024-04-03T17:39:43.642Z"
      },
      {
        "duration": 0,
        "start_time": "2024-04-03T17:39:43.643Z"
      },
      {
        "duration": 0,
        "start_time": "2024-04-03T17:39:43.644Z"
      },
      {
        "duration": 0,
        "start_time": "2024-04-03T17:39:43.645Z"
      },
      {
        "duration": 0,
        "start_time": "2024-04-03T17:39:43.647Z"
      },
      {
        "duration": 0,
        "start_time": "2024-04-03T17:39:43.648Z"
      },
      {
        "duration": 0,
        "start_time": "2024-04-03T17:39:43.649Z"
      },
      {
        "duration": 3,
        "start_time": "2024-04-03T17:40:05.262Z"
      },
      {
        "duration": 3,
        "start_time": "2024-04-03T17:40:06.693Z"
      },
      {
        "duration": 2,
        "start_time": "2024-04-03T17:40:07.901Z"
      },
      {
        "duration": 204307,
        "start_time": "2024-04-03T17:40:09.374Z"
      },
      {
        "duration": 3,
        "start_time": "2024-04-03T17:46:52.797Z"
      },
      {
        "duration": 4,
        "start_time": "2024-04-03T17:46:54.724Z"
      },
      {
        "duration": 30,
        "start_time": "2024-04-03T17:46:59.620Z"
      },
      {
        "duration": 5,
        "start_time": "2024-04-03T17:51:08.413Z"
      },
      {
        "duration": 3,
        "start_time": "2024-04-03T17:51:10.462Z"
      },
      {
        "duration": 3,
        "start_time": "2024-04-03T17:51:11.172Z"
      },
      {
        "duration": 182532,
        "start_time": "2024-04-03T17:51:11.748Z"
      },
      {
        "duration": 4,
        "start_time": "2024-04-03T18:07:10.149Z"
      },
      {
        "duration": 4,
        "start_time": "2024-04-03T18:07:42.861Z"
      },
      {
        "duration": 32,
        "start_time": "2024-04-03T18:07:45.876Z"
      },
      {
        "duration": 4,
        "start_time": "2024-04-03T18:08:26.868Z"
      },
      {
        "duration": 3,
        "start_time": "2024-04-03T18:08:30.963Z"
      },
      {
        "duration": 3,
        "start_time": "2024-04-03T18:08:32.541Z"
      },
      {
        "duration": 182878,
        "start_time": "2024-04-03T18:08:33.308Z"
      },
      {
        "duration": 3,
        "start_time": "2024-04-03T18:24:34.455Z"
      },
      {
        "duration": 4,
        "start_time": "2024-04-03T18:24:36.254Z"
      },
      {
        "duration": 25,
        "start_time": "2024-04-03T18:24:39.030Z"
      },
      {
        "duration": 2,
        "start_time": "2024-04-03T18:24:47.213Z"
      },
      {
        "duration": 4,
        "start_time": "2024-04-03T18:24:48.854Z"
      },
      {
        "duration": 7,
        "start_time": "2024-04-03T18:24:49.646Z"
      },
      {
        "duration": 4,
        "start_time": "2024-04-03T18:24:53.341Z"
      },
      {
        "duration": 4,
        "start_time": "2024-04-03T18:25:25.854Z"
      },
      {
        "duration": 2,
        "start_time": "2024-04-03T18:25:29.662Z"
      },
      {
        "duration": 3,
        "start_time": "2024-04-03T18:25:31.245Z"
      },
      {
        "duration": 560848,
        "start_time": "2024-04-03T18:25:33.102Z"
      },
      {
        "duration": 1,
        "start_time": "2024-04-03T18:34:53.951Z"
      },
      {
        "duration": 0,
        "start_time": "2024-04-03T18:34:53.953Z"
      },
      {
        "duration": 0,
        "start_time": "2024-04-03T18:34:53.954Z"
      },
      {
        "duration": 0,
        "start_time": "2024-04-03T18:34:53.955Z"
      },
      {
        "duration": 0,
        "start_time": "2024-04-03T18:34:53.956Z"
      },
      {
        "duration": 0,
        "start_time": "2024-04-03T18:34:53.957Z"
      },
      {
        "duration": 0,
        "start_time": "2024-04-03T18:34:53.958Z"
      },
      {
        "duration": 5502,
        "start_time": "2024-04-03T18:35:18.260Z"
      },
      {
        "duration": 3916,
        "start_time": "2024-04-03T18:35:23.765Z"
      },
      {
        "duration": 1004,
        "start_time": "2024-04-03T18:35:27.683Z"
      },
      {
        "duration": 5,
        "start_time": "2024-04-03T18:35:28.688Z"
      },
      {
        "duration": 305,
        "start_time": "2024-04-03T18:35:28.695Z"
      },
      {
        "duration": 18,
        "start_time": "2024-04-03T18:35:29.001Z"
      },
      {
        "duration": 3,
        "start_time": "2024-04-03T18:35:29.020Z"
      },
      {
        "duration": 101,
        "start_time": "2024-04-03T18:35:29.025Z"
      },
      {
        "duration": 516,
        "start_time": "2024-04-03T18:35:29.128Z"
      },
      {
        "duration": 3,
        "start_time": "2024-04-03T18:35:29.646Z"
      },
      {
        "duration": 1205,
        "start_time": "2024-04-03T18:35:29.650Z"
      },
      {
        "duration": 13,
        "start_time": "2024-04-03T18:35:30.857Z"
      },
      {
        "duration": 1063718,
        "start_time": "2024-04-03T18:35:30.871Z"
      },
      {
        "duration": 8,
        "start_time": "2024-04-03T18:53:14.592Z"
      },
      {
        "duration": 43,
        "start_time": "2024-04-03T18:53:14.602Z"
      },
      {
        "duration": 127,
        "start_time": "2024-04-03T18:53:14.646Z"
      },
      {
        "duration": 15,
        "start_time": "2024-04-03T18:53:14.775Z"
      },
      {
        "duration": 1167,
        "start_time": "2024-04-03T18:53:14.791Z"
      },
      {
        "duration": 240,
        "start_time": "2024-04-03T18:53:15.959Z"
      },
      {
        "duration": 3,
        "start_time": "2024-04-03T18:53:16.200Z"
      },
      {
        "duration": 4439,
        "start_time": "2024-04-03T18:53:16.204Z"
      },
      {
        "duration": 3,
        "start_time": "2024-04-03T18:53:20.645Z"
      },
      {
        "duration": 18,
        "start_time": "2024-04-03T18:53:20.649Z"
      },
      {
        "duration": 54,
        "start_time": "2024-04-03T18:53:20.669Z"
      },
      {
        "duration": 4,
        "start_time": "2024-04-03T18:53:20.725Z"
      },
      {
        "duration": 19,
        "start_time": "2024-04-03T18:53:20.730Z"
      },
      {
        "duration": 6,
        "start_time": "2024-04-03T18:53:20.751Z"
      },
      {
        "duration": 8,
        "start_time": "2024-04-03T18:53:20.758Z"
      },
      {
        "duration": 12,
        "start_time": "2024-04-03T18:53:20.767Z"
      },
      {
        "duration": 2877999,
        "start_time": "2024-04-03T18:53:20.781Z"
      },
      {
        "duration": 3,
        "start_time": "2024-04-03T19:41:18.782Z"
      },
      {
        "duration": 7,
        "start_time": "2024-04-03T19:41:18.786Z"
      },
      {
        "duration": 26,
        "start_time": "2024-04-03T19:41:18.794Z"
      },
      {
        "duration": 2,
        "start_time": "2024-04-03T19:41:18.821Z"
      },
      {
        "duration": 11,
        "start_time": "2024-04-03T19:41:18.825Z"
      },
      {
        "duration": 33,
        "start_time": "2024-04-03T19:41:18.838Z"
      },
      {
        "duration": 4,
        "start_time": "2024-04-03T19:41:18.872Z"
      },
      {
        "duration": 88,
        "start_time": "2024-04-04T12:27:04.372Z"
      },
      {
        "duration": 168,
        "start_time": "2024-04-04T12:53:41.673Z"
      },
      {
        "duration": 3,
        "start_time": "2024-04-04T12:53:45.319Z"
      },
      {
        "duration": 42,
        "start_time": "2024-04-04T12:53:48.839Z"
      },
      {
        "duration": 4,
        "start_time": "2024-04-04T12:53:50.175Z"
      },
      {
        "duration": 3,
        "start_time": "2024-04-04T12:54:03.151Z"
      },
      {
        "duration": 3,
        "start_time": "2024-04-04T12:59:21.103Z"
      },
      {
        "duration": 4,
        "start_time": "2024-04-04T12:59:24.607Z"
      },
      {
        "duration": 3,
        "start_time": "2024-04-04T12:59:26.936Z"
      },
      {
        "duration": 3,
        "start_time": "2024-04-04T12:59:27.662Z"
      },
      {
        "duration": 6222,
        "start_time": "2024-04-04T12:59:59.166Z"
      },
      {
        "duration": 4236,
        "start_time": "2024-04-04T13:00:05.390Z"
      },
      {
        "duration": 1137,
        "start_time": "2024-04-04T13:00:09.630Z"
      },
      {
        "duration": 6,
        "start_time": "2024-04-04T13:00:10.769Z"
      },
      {
        "duration": 352,
        "start_time": "2024-04-04T13:00:10.776Z"
      },
      {
        "duration": 13,
        "start_time": "2024-04-04T13:00:11.130Z"
      },
      {
        "duration": 3,
        "start_time": "2024-04-04T13:00:11.144Z"
      },
      {
        "duration": 59,
        "start_time": "2024-04-04T13:00:11.170Z"
      },
      {
        "duration": 535,
        "start_time": "2024-04-04T13:00:11.230Z"
      },
      {
        "duration": 4,
        "start_time": "2024-04-04T13:00:11.766Z"
      },
      {
        "duration": 456,
        "start_time": "2024-04-04T13:00:11.772Z"
      },
      {
        "duration": 7,
        "start_time": "2024-04-04T13:00:12.230Z"
      },
      {
        "duration": 371343,
        "start_time": "2024-04-04T13:00:12.240Z"
      },
      {
        "duration": 9,
        "start_time": "2024-04-04T13:06:23.585Z"
      },
      {
        "duration": 24,
        "start_time": "2024-04-04T13:06:23.596Z"
      },
      {
        "duration": 54,
        "start_time": "2024-04-04T13:06:23.621Z"
      },
      {
        "duration": 8,
        "start_time": "2024-04-04T13:06:23.677Z"
      },
      {
        "duration": 152,
        "start_time": "2024-04-04T13:06:23.686Z"
      },
      {
        "duration": 2,
        "start_time": "2024-04-04T13:06:23.840Z"
      },
      {
        "duration": 12,
        "start_time": "2024-04-04T13:06:23.844Z"
      },
      {
        "duration": 22,
        "start_time": "2024-04-04T13:06:23.858Z"
      },
      {
        "duration": 23,
        "start_time": "2024-04-04T13:06:23.882Z"
      },
      {
        "duration": 14,
        "start_time": "2024-04-04T13:06:23.907Z"
      },
      {
        "duration": 18,
        "start_time": "2024-04-04T13:06:23.923Z"
      },
      {
        "duration": 4,
        "start_time": "2024-04-04T13:06:23.942Z"
      },
      {
        "duration": 2,
        "start_time": "2024-04-04T13:06:23.948Z"
      },
      {
        "duration": 4,
        "start_time": "2024-04-04T13:06:23.952Z"
      },
      {
        "duration": 6,
        "start_time": "2024-04-04T13:06:23.957Z"
      },
      {
        "duration": 4,
        "start_time": "2024-04-04T13:06:23.965Z"
      },
      {
        "duration": 1408120,
        "start_time": "2024-04-04T13:06:23.971Z"
      },
      {
        "duration": 3,
        "start_time": "2024-04-04T13:29:52.093Z"
      },
      {
        "duration": 26,
        "start_time": "2024-04-04T13:29:52.098Z"
      },
      {
        "duration": 55,
        "start_time": "2024-04-04T13:29:52.126Z"
      },
      {
        "duration": 19,
        "start_time": "2024-04-04T13:29:52.182Z"
      },
      {
        "duration": 118,
        "start_time": "2024-04-04T13:29:52.203Z"
      },
      {
        "duration": 8,
        "start_time": "2024-04-04T13:29:52.322Z"
      },
      {
        "duration": 71,
        "start_time": "2024-04-04T13:29:52.332Z"
      },
      {
        "duration": 3,
        "start_time": "2024-04-04T13:33:14.364Z"
      },
      {
        "duration": 3,
        "start_time": "2024-04-04T13:33:16.252Z"
      },
      {
        "duration": 3,
        "start_time": "2024-04-04T13:33:17.811Z"
      },
      {
        "duration": 3,
        "start_time": "2024-04-04T13:33:25.612Z"
      },
      {
        "duration": 3,
        "start_time": "2024-04-04T13:33:26.764Z"
      },
      {
        "duration": 3,
        "start_time": "2024-04-04T13:33:27.668Z"
      },
      {
        "duration": 14369,
        "start_time": "2024-04-04T13:35:12.765Z"
      },
      {
        "duration": 4,
        "start_time": "2024-04-04T13:35:27.136Z"
      },
      {
        "duration": 9,
        "start_time": "2024-04-04T13:35:27.142Z"
      },
      {
        "duration": 32,
        "start_time": "2024-04-04T13:35:27.153Z"
      },
      {
        "duration": 2,
        "start_time": "2024-04-04T13:35:27.187Z"
      },
      {
        "duration": 127,
        "start_time": "2024-04-04T13:35:27.191Z"
      },
      {
        "duration": 8,
        "start_time": "2024-04-04T13:35:27.320Z"
      },
      {
        "duration": 6,
        "start_time": "2024-04-04T13:35:27.329Z"
      },
      {
        "duration": 5847,
        "start_time": "2024-04-04T13:38:48.045Z"
      },
      {
        "duration": 4066,
        "start_time": "2024-04-04T13:38:53.894Z"
      },
      {
        "duration": 1074,
        "start_time": "2024-04-04T13:38:57.961Z"
      },
      {
        "duration": 6,
        "start_time": "2024-04-04T13:38:59.037Z"
      },
      {
        "duration": 325,
        "start_time": "2024-04-04T13:38:59.045Z"
      },
      {
        "duration": 18,
        "start_time": "2024-04-04T13:38:59.372Z"
      },
      {
        "duration": 4,
        "start_time": "2024-04-04T13:38:59.391Z"
      },
      {
        "duration": 103,
        "start_time": "2024-04-04T13:38:59.397Z"
      },
      {
        "duration": 540,
        "start_time": "2024-04-04T13:38:59.502Z"
      },
      {
        "duration": 3,
        "start_time": "2024-04-04T13:39:00.045Z"
      },
      {
        "duration": 1295,
        "start_time": "2024-04-04T13:39:00.050Z"
      },
      {
        "duration": 8,
        "start_time": "2024-04-04T13:39:01.347Z"
      },
      {
        "duration": 1087683,
        "start_time": "2024-04-04T13:39:01.370Z"
      },
      {
        "duration": 17,
        "start_time": "2024-04-04T13:57:09.055Z"
      },
      {
        "duration": 53,
        "start_time": "2024-04-04T13:57:09.074Z"
      },
      {
        "duration": 130,
        "start_time": "2024-04-04T13:57:09.129Z"
      },
      {
        "duration": 17,
        "start_time": "2024-04-04T13:57:09.261Z"
      },
      {
        "duration": 150,
        "start_time": "2024-04-04T13:57:09.280Z"
      },
      {
        "duration": 2,
        "start_time": "2024-04-04T13:57:09.432Z"
      },
      {
        "duration": 23,
        "start_time": "2024-04-04T13:57:09.435Z"
      },
      {
        "duration": 4,
        "start_time": "2024-04-04T13:57:09.460Z"
      },
      {
        "duration": 4,
        "start_time": "2024-04-04T13:57:09.466Z"
      },
      {
        "duration": 7,
        "start_time": "2024-04-04T13:57:09.471Z"
      },
      {
        "duration": 38,
        "start_time": "2024-04-04T13:57:09.479Z"
      },
      {
        "duration": 5,
        "start_time": "2024-04-04T13:57:09.518Z"
      },
      {
        "duration": 3,
        "start_time": "2024-04-04T13:57:09.525Z"
      },
      {
        "duration": 6,
        "start_time": "2024-04-04T13:57:09.530Z"
      },
      {
        "duration": 3,
        "start_time": "2024-04-04T13:57:09.539Z"
      },
      {
        "duration": 26,
        "start_time": "2024-04-04T13:57:09.544Z"
      },
      {
        "duration": 3355991,
        "start_time": "2024-04-04T13:57:09.571Z"
      },
      {
        "duration": 3,
        "start_time": "2024-04-04T14:53:05.569Z"
      },
      {
        "duration": 32,
        "start_time": "2024-04-04T14:53:05.573Z"
      },
      {
        "duration": 50,
        "start_time": "2024-04-04T14:53:05.606Z"
      },
      {
        "duration": 16,
        "start_time": "2024-04-04T14:53:05.657Z"
      },
      {
        "duration": 499,
        "start_time": "2024-04-04T14:53:05.675Z"
      },
      {
        "duration": 9,
        "start_time": "2024-04-04T14:53:06.176Z"
      },
      {
        "duration": 4,
        "start_time": "2024-04-04T14:53:06.187Z"
      },
      {
        "duration": 4,
        "start_time": "2024-04-04T15:04:10.813Z"
      },
      {
        "duration": 5752,
        "start_time": "2024-04-04T15:06:15.641Z"
      },
      {
        "duration": 4056,
        "start_time": "2024-04-04T15:06:21.396Z"
      },
      {
        "duration": 1078,
        "start_time": "2024-04-04T15:06:25.454Z"
      },
      {
        "duration": 5,
        "start_time": "2024-04-04T15:06:26.534Z"
      },
      {
        "duration": 334,
        "start_time": "2024-04-04T15:06:26.541Z"
      },
      {
        "duration": 29,
        "start_time": "2024-04-04T15:06:26.877Z"
      },
      {
        "duration": 7,
        "start_time": "2024-04-04T15:06:26.908Z"
      },
      {
        "duration": 108,
        "start_time": "2024-04-04T15:06:26.917Z"
      },
      {
        "duration": 522,
        "start_time": "2024-04-04T15:06:27.027Z"
      },
      {
        "duration": 3,
        "start_time": "2024-04-04T15:06:27.551Z"
      },
      {
        "duration": 1216,
        "start_time": "2024-04-04T15:06:27.555Z"
      },
      {
        "duration": 8,
        "start_time": "2024-04-04T15:06:28.772Z"
      },
      {
        "duration": 1091442,
        "start_time": "2024-04-04T15:06:28.781Z"
      },
      {
        "duration": 8,
        "start_time": "2024-04-04T15:24:40.227Z"
      },
      {
        "duration": 82,
        "start_time": "2024-04-04T15:24:40.237Z"
      },
      {
        "duration": 118,
        "start_time": "2024-04-04T15:24:40.321Z"
      },
      {
        "duration": 17,
        "start_time": "2024-04-04T15:24:40.441Z"
      },
      {
        "duration": 17,
        "start_time": "2024-04-04T15:24:40.459Z"
      },
      {
        "duration": 47,
        "start_time": "2024-04-04T15:24:40.478Z"
      },
      {
        "duration": 5,
        "start_time": "2024-04-04T15:24:40.526Z"
      },
      {
        "duration": 178,
        "start_time": "2024-04-04T15:24:40.532Z"
      },
      {
        "duration": 3,
        "start_time": "2024-04-04T15:24:40.712Z"
      },
      {
        "duration": 27,
        "start_time": "2024-04-04T15:24:40.716Z"
      },
      {
        "duration": 13,
        "start_time": "2024-04-04T15:24:40.744Z"
      },
      {
        "duration": 25,
        "start_time": "2024-04-04T15:24:40.759Z"
      },
      {
        "duration": 3916627,
        "start_time": "2024-04-04T15:24:40.785Z"
      },
      {
        "duration": 3,
        "start_time": "2024-04-04T16:29:57.414Z"
      },
      {
        "duration": 24,
        "start_time": "2024-04-04T16:29:57.418Z"
      },
      {
        "duration": 50,
        "start_time": "2024-04-04T16:29:57.444Z"
      },
      {
        "duration": 3,
        "start_time": "2024-04-04T16:29:57.495Z"
      },
      {
        "duration": 476,
        "start_time": "2024-04-04T16:29:57.499Z"
      },
      {
        "duration": 8,
        "start_time": "2024-04-04T16:29:57.977Z"
      },
      {
        "duration": 6,
        "start_time": "2024-04-04T16:29:57.986Z"
      },
      {
        "duration": 25,
        "start_time": "2024-04-04T16:31:41.182Z"
      },
      {
        "duration": 25,
        "start_time": "2024-04-04T16:41:35.158Z"
      },
      {
        "duration": 5,
        "start_time": "2024-04-04T16:41:44.318Z"
      },
      {
        "duration": 4,
        "start_time": "2024-04-04T16:42:46.966Z"
      },
      {
        "duration": 1964,
        "start_time": "2024-04-04T16:43:13.253Z"
      },
      {
        "duration": 3,
        "start_time": "2024-04-04T16:44:28.734Z"
      },
      {
        "duration": 6,
        "start_time": "2024-04-04T16:44:33.405Z"
      },
      {
        "duration": 7,
        "start_time": "2024-04-04T16:44:46.966Z"
      },
      {
        "duration": 24,
        "start_time": "2024-04-04T16:44:53.445Z"
      },
      {
        "duration": 1807,
        "start_time": "2024-04-04T16:45:00.437Z"
      },
      {
        "duration": 1163,
        "start_time": "2024-04-04T16:45:35.685Z"
      },
      {
        "duration": 1744,
        "start_time": "2024-04-04T16:47:00.630Z"
      },
      {
        "duration": 1551,
        "start_time": "2024-04-04T16:47:39.711Z"
      },
      {
        "duration": 1241,
        "start_time": "2024-04-04T16:51:29.871Z"
      },
      {
        "duration": 1237,
        "start_time": "2024-04-04T16:51:47.622Z"
      },
      {
        "duration": 77,
        "start_time": "2024-04-04T16:53:55.198Z"
      },
      {
        "duration": 5,
        "start_time": "2024-04-04T16:53:58.055Z"
      },
      {
        "duration": 16,
        "start_time": "2024-04-04T16:54:23.326Z"
      },
      {
        "duration": 5,
        "start_time": "2024-04-04T16:55:04.630Z"
      },
      {
        "duration": 16,
        "start_time": "2024-04-04T16:55:09.590Z"
      },
      {
        "duration": 3,
        "start_time": "2024-04-04T16:55:15.141Z"
      },
      {
        "duration": 4,
        "start_time": "2024-04-04T16:57:21.150Z"
      },
      {
        "duration": 3,
        "start_time": "2024-04-04T16:57:34.368Z"
      },
      {
        "duration": 33,
        "start_time": "2024-04-04T16:59:07.752Z"
      },
      {
        "duration": 26,
        "start_time": "2024-04-04T16:59:41.406Z"
      },
      {
        "duration": 24,
        "start_time": "2024-04-05T07:19:15.499Z"
      },
      {
        "duration": 4,
        "start_time": "2024-04-05T07:19:40.554Z"
      },
      {
        "duration": 3,
        "start_time": "2024-04-05T07:19:48.321Z"
      },
      {
        "duration": 4,
        "start_time": "2024-04-05T07:19:56.489Z"
      },
      {
        "duration": 4,
        "start_time": "2024-04-05T07:21:55.145Z"
      },
      {
        "duration": 4,
        "start_time": "2024-04-05T07:21:58.666Z"
      },
      {
        "duration": 3,
        "start_time": "2024-04-05T07:22:05.235Z"
      },
      {
        "duration": 4,
        "start_time": "2024-04-05T07:22:09.781Z"
      },
      {
        "duration": 6,
        "start_time": "2024-04-05T07:22:25.394Z"
      },
      {
        "duration": 4,
        "start_time": "2024-04-05T07:22:32.506Z"
      },
      {
        "duration": 4,
        "start_time": "2024-04-05T07:24:04.913Z"
      },
      {
        "duration": 17,
        "start_time": "2024-04-05T07:24:07.105Z"
      },
      {
        "duration": 27,
        "start_time": "2024-04-05T07:25:27.434Z"
      },
      {
        "duration": 17,
        "start_time": "2024-04-05T07:30:18.728Z"
      },
      {
        "duration": 4,
        "start_time": "2024-04-05T07:32:43.210Z"
      },
      {
        "duration": 4,
        "start_time": "2024-04-05T07:32:56.024Z"
      },
      {
        "duration": 3,
        "start_time": "2024-04-05T07:33:17.617Z"
      },
      {
        "duration": 22622,
        "start_time": "2024-04-05T07:33:22.368Z"
      },
      {
        "duration": 325,
        "start_time": "2024-04-05T07:36:40.232Z"
      },
      {
        "duration": 7,
        "start_time": "2024-04-05T07:37:03.631Z"
      },
      {
        "duration": 4,
        "start_time": "2024-04-05T07:39:08.353Z"
      },
      {
        "duration": 5594,
        "start_time": "2024-04-05T07:45:50.757Z"
      },
      {
        "duration": 4137,
        "start_time": "2024-04-05T07:45:56.353Z"
      },
      {
        "duration": 1074,
        "start_time": "2024-04-05T07:46:00.492Z"
      },
      {
        "duration": 6,
        "start_time": "2024-04-05T07:46:01.568Z"
      },
      {
        "duration": 433,
        "start_time": "2024-04-05T07:46:01.576Z"
      },
      {
        "duration": 19,
        "start_time": "2024-04-05T07:46:02.011Z"
      },
      {
        "duration": 62,
        "start_time": "2024-04-05T07:46:02.031Z"
      },
      {
        "duration": 149,
        "start_time": "2024-04-05T07:46:02.095Z"
      },
      {
        "duration": 554,
        "start_time": "2024-04-05T07:46:02.245Z"
      },
      {
        "duration": 3,
        "start_time": "2024-04-05T07:46:02.800Z"
      },
      {
        "duration": 1203,
        "start_time": "2024-04-05T07:46:02.805Z"
      },
      {
        "duration": 7,
        "start_time": "2024-04-05T07:46:04.010Z"
      },
      {
        "duration": 1050486,
        "start_time": "2024-04-05T07:46:04.019Z"
      },
      {
        "duration": 8,
        "start_time": "2024-04-05T08:03:34.508Z"
      },
      {
        "duration": 50,
        "start_time": "2024-04-05T08:03:34.517Z"
      },
      {
        "duration": 131,
        "start_time": "2024-04-05T08:03:34.570Z"
      },
      {
        "duration": 16,
        "start_time": "2024-04-05T08:03:34.703Z"
      },
      {
        "duration": 4,
        "start_time": "2024-04-05T08:03:34.721Z"
      },
      {
        "duration": 43,
        "start_time": "2024-04-05T08:03:34.726Z"
      },
      {
        "duration": 4,
        "start_time": "2024-04-05T08:03:34.771Z"
      },
      {
        "duration": 183,
        "start_time": "2024-04-05T08:03:34.776Z"
      },
      {
        "duration": 4,
        "start_time": "2024-04-05T08:03:34.961Z"
      },
      {
        "duration": 10,
        "start_time": "2024-04-05T08:03:34.967Z"
      },
      {
        "duration": 5,
        "start_time": "2024-04-05T08:03:34.979Z"
      },
      {
        "duration": 7,
        "start_time": "2024-04-05T08:03:34.986Z"
      },
      {
        "duration": 3810004,
        "start_time": "2024-04-05T08:03:34.995Z"
      },
      {
        "duration": 3,
        "start_time": "2024-04-05T09:07:05.001Z"
      },
      {
        "duration": 7,
        "start_time": "2024-04-05T09:07:05.005Z"
      },
      {
        "duration": 34,
        "start_time": "2024-04-05T09:07:05.014Z"
      },
      {
        "duration": 18,
        "start_time": "2024-04-05T09:07:05.050Z"
      },
      {
        "duration": 13,
        "start_time": "2024-04-05T09:07:05.069Z"
      },
      {
        "duration": 21,
        "start_time": "2024-04-05T09:07:05.084Z"
      },
      {
        "duration": 14,
        "start_time": "2024-04-05T09:07:05.106Z"
      },
      {
        "duration": 24969,
        "start_time": "2024-04-05T09:07:05.122Z"
      },
      {
        "duration": 1091,
        "start_time": "2024-04-05T09:07:30.092Z"
      },
      {
        "duration": 8,
        "start_time": "2024-04-05T09:07:31.185Z"
      },
      {
        "duration": 597,
        "start_time": "2024-04-05T09:07:31.194Z"
      },
      {
        "duration": 7,
        "start_time": "2024-04-05T09:07:31.793Z"
      },
      {
        "duration": 36,
        "start_time": "2024-04-05T09:07:31.802Z"
      },
      {
        "duration": 42,
        "start_time": "2024-04-05T09:07:31.840Z"
      }
    ],
    "kernelspec": {
      "display_name": "Python 3 (ipykernel)",
      "language": "python",
      "name": "python3"
    },
    "language_info": {
      "codemirror_mode": {
        "name": "ipython",
        "version": 3
      },
      "file_extension": ".py",
      "mimetype": "text/x-python",
      "name": "python",
      "nbconvert_exporter": "python",
      "pygments_lexer": "ipython3",
      "version": "3.9.5"
    },
    "toc": {
      "base_numbering": 1,
      "nav_menu": {},
      "number_sections": true,
      "sideBar": true,
      "skip_h1_title": true,
      "title_cell": "Содержание",
      "title_sidebar": "Contents",
      "toc_cell": true,
      "toc_position": {
        "height": "calc(100% - 180px)",
        "left": "10px",
        "top": "150px",
        "width": "251px"
      },
      "toc_section_display": true,
      "toc_window_display": true
    },
    "colab": {
      "provenance": []
    }
  },
  "nbformat": 4,
  "nbformat_minor": 0
}