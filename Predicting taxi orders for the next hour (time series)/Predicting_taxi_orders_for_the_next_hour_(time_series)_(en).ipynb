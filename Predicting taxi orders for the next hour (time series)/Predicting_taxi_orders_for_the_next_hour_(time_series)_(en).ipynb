{
  "cells": [
    {
      "cell_type": "markdown",
      "metadata": {
        "id": "K_zLudAANlzz"
      },
      "source": [
        "# Predicting taxi orders for the next hour (time series)"
      ]
    },
    {
      "cell_type": "markdown",
      "metadata": {
        "id": "GJNFebNkNlzz"
      },
      "source": [
        "**Project Description**\n",
        "\n",
        "A taxi company collected historical data on taxi orders at airports. To attract more drivers during peak periods, it is necessary to predict the number of taxi orders for the next hour.\n",
        "\n",
        "**Research Objective**\n",
        "\n",
        "Build a model to predict the number of taxi orders for the next hour.\n",
        "\n",
        "**Research Tasks**\n",
        "\n",
        "- train different models with different hyperparameters;\n",
        "- the value of the *RMSE* metric on the test sample should not exceed 48.\n",
        "\n",
        "**Data Description**\n",
        "\n",
        "The data is located in the file:\n",
        "\n",
        "`/datasets/taxi.csv`\n",
        "\n",
        "Target feature:\n",
        "\n",
        "- `num_orders` — the number of orders."
      ]
    },
    {
      "cell_type": "markdown",
      "metadata": {
        "id": "XiMmmJzJNlzz"
      },
      "source": [
        "## Import Libraries"
      ]
    },
    {
      "cell_type": "code",
      "execution_count": null,
      "metadata": {
        "id": "6DdhTUY1Nlzz",
        "colab": {
          "base_uri": "https://localhost:8080/"
        },
        "outputId": "f9941331-46df-48e2-b724-ac57f4c49a1f"
      },
      "outputs": [
        {
          "output_type": "stream",
          "name": "stdout",
          "text": [
            "\u001b[2K   \u001b[90m━━━━━━━━━━━━━━━━━━━━━━━━━━━━━━━━━━━━━━━━\u001b[0m \u001b[32m98.7/98.7 MB\u001b[0m \u001b[31m6.8 MB/s\u001b[0m eta \u001b[36m0:00:00\u001b[0m\n",
            "\u001b[?25h"
          ]
        }
      ],
      "source": [
        "!pip install scikit-learn --upgrade -q\n",
        "!pip install catboost -q"
      ]
    },
    {
      "cell_type": "code",
      "execution_count": null,
      "metadata": {
        "id": "lsxjCBMVNlz0"
      },
      "outputs": [],
      "source": [
        "import pandas as pd\n",
        "import numpy as np\n",
        "import matplotlib.pyplot as plt\n",
        "import os\n",
        "\n",
        "from statsmodels.tsa.seasonal import seasonal_decompose\n",
        "from statsmodels.tsa.stattools import adfuller\n",
        "\n",
        "from sklearn.model_selection import train_test_split, GridSearchCV, TimeSeriesSplit\n",
        "\n",
        "from sklearn.pipeline import Pipeline\n",
        "from sklearn.preprocessing import FunctionTransformer\n",
        "\n",
        "from sklearn.linear_model import LinearRegression\n",
        "from catboost import CatBoostRegressor\n",
        "\n",
        "from sklearn.metrics import root_mean_squared_error\n",
        "\n",
        "RANDOM_STATE = 42\n",
        "TEST_SIZE = 0.1"
      ]
    },
    {
      "cell_type": "markdown",
      "metadata": {
        "id": "fZX8N7OZNlz0"
      },
      "source": [
        "## Data Preparation"
      ]
    },
    {
      "cell_type": "markdown",
      "metadata": {
        "id": "QDS4pMpQNlz0"
      },
      "source": [
        "### Loading Data"
      ]
    },
    {
      "cell_type": "code",
      "execution_count": null,
      "metadata": {
        "id": "BVlQBSRmNlz0"
      },
      "outputs": [],
      "source": [
        "path_1 = '/datasets/taxi.csv'\n",
        "path_2 = 'https://.../datasets/taxi.csv'\n",
        "\n",
        "if os.path.exists(path_1):\n",
        "    data = pd.read_csv(path_1, index_col=[0], parse_dates=[0])\n",
        "else:\n",
        "    try:\n",
        "        data = pd.read_csv(path_2, index_col=[0], parse_dates=[0])\n",
        "    except Exception as e:\n",
        "        print(f'Error loading data from URL: {e}')"
      ]
    },
    {
      "cell_type": "markdown",
      "metadata": {
        "id": "Z0OczOktNlz1"
      },
      "source": [
        "Let's take a look at the data:"
      ]
    },
    {
      "cell_type": "code",
      "execution_count": null,
      "metadata": {
        "id": "JeeeBjraNlz1"
      },
      "outputs": [],
      "source": [
        "#universal function for reviewing data\n",
        "def data_review(data):\n",
        "    '''\n",
        "    data - DataFrame\n",
        "\n",
        "    '''\n",
        "    print('*'*10, 'The Original DataFrame', '*'*10)\n",
        "    display(data.head())\n",
        "    print('')\n",
        "    print('')\n",
        "    print('*'*10, 'General Information', '*'*10)\n",
        "    print('')\n",
        "    data.info()\n",
        "    print('')\n",
        "    print('')\n",
        "    print('*'*10, 'Has NaN', '*'*10)\n",
        "    display(pd.DataFrame(data.isna().sum()).style.background_gradient('coolwarm'))\n",
        "    print('*'*10, 'Has NaN Percentage', '*'*10)\n",
        "    display(pd.DataFrame(round(data.isna().mean()*100,1)).style.background_gradient('coolwarm'))\n",
        "    print('')\n",
        "    print('')\n",
        "    print('*'*10, 'Descriptive Statistics', '*'*10)\n",
        "    display(pd.DataFrame(data.describe()))"
      ]
    },
    {
      "cell_type": "code",
      "execution_count": null,
      "metadata": {
        "scrolled": true,
        "id": "tnaS7ne7Nlz1",
        "outputId": "927a63b1-3fce-48d2-e9d3-49a0d39530dd",
        "colab": {
          "base_uri": "https://localhost:8080/",
          "height": 995
        }
      },
      "outputs": [
        {
          "output_type": "stream",
          "name": "stdout",
          "text": [
            "********** The Original DataFrame **********\n"
          ]
        },
        {
          "output_type": "display_data",
          "data": {
            "text/plain": [
              "                     num_orders\n",
              "datetime                       \n",
              "2018-03-01 00:00:00           9\n",
              "2018-03-01 00:10:00          14\n",
              "2018-03-01 00:20:00          28\n",
              "2018-03-01 00:30:00          20\n",
              "2018-03-01 00:40:00          32"
            ],
            "text/html": [
              "\n",
              "  <div id=\"df-8eec87ec-2644-4c67-bcae-1f440858dc0b\" class=\"colab-df-container\">\n",
              "    <div>\n",
              "<style scoped>\n",
              "    .dataframe tbody tr th:only-of-type {\n",
              "        vertical-align: middle;\n",
              "    }\n",
              "\n",
              "    .dataframe tbody tr th {\n",
              "        vertical-align: top;\n",
              "    }\n",
              "\n",
              "    .dataframe thead th {\n",
              "        text-align: right;\n",
              "    }\n",
              "</style>\n",
              "<table border=\"1\" class=\"dataframe\">\n",
              "  <thead>\n",
              "    <tr style=\"text-align: right;\">\n",
              "      <th></th>\n",
              "      <th>num_orders</th>\n",
              "    </tr>\n",
              "    <tr>\n",
              "      <th>datetime</th>\n",
              "      <th></th>\n",
              "    </tr>\n",
              "  </thead>\n",
              "  <tbody>\n",
              "    <tr>\n",
              "      <th>2018-03-01 00:00:00</th>\n",
              "      <td>9</td>\n",
              "    </tr>\n",
              "    <tr>\n",
              "      <th>2018-03-01 00:10:00</th>\n",
              "      <td>14</td>\n",
              "    </tr>\n",
              "    <tr>\n",
              "      <th>2018-03-01 00:20:00</th>\n",
              "      <td>28</td>\n",
              "    </tr>\n",
              "    <tr>\n",
              "      <th>2018-03-01 00:30:00</th>\n",
              "      <td>20</td>\n",
              "    </tr>\n",
              "    <tr>\n",
              "      <th>2018-03-01 00:40:00</th>\n",
              "      <td>32</td>\n",
              "    </tr>\n",
              "  </tbody>\n",
              "</table>\n",
              "</div>\n",
              "    <div class=\"colab-df-buttons\">\n",
              "\n",
              "  <div class=\"colab-df-container\">\n",
              "    <button class=\"colab-df-convert\" onclick=\"convertToInteractive('df-8eec87ec-2644-4c67-bcae-1f440858dc0b')\"\n",
              "            title=\"Convert this dataframe to an interactive table.\"\n",
              "            style=\"display:none;\">\n",
              "\n",
              "  <svg xmlns=\"http://www.w3.org/2000/svg\" height=\"24px\" viewBox=\"0 -960 960 960\">\n",
              "    <path d=\"M120-120v-720h720v720H120Zm60-500h600v-160H180v160Zm220 220h160v-160H400v160Zm0 220h160v-160H400v160ZM180-400h160v-160H180v160Zm440 0h160v-160H620v160ZM180-180h160v-160H180v160Zm440 0h160v-160H620v160Z\"/>\n",
              "  </svg>\n",
              "    </button>\n",
              "\n",
              "  <style>\n",
              "    .colab-df-container {\n",
              "      display:flex;\n",
              "      gap: 12px;\n",
              "    }\n",
              "\n",
              "    .colab-df-convert {\n",
              "      background-color: #E8F0FE;\n",
              "      border: none;\n",
              "      border-radius: 50%;\n",
              "      cursor: pointer;\n",
              "      display: none;\n",
              "      fill: #1967D2;\n",
              "      height: 32px;\n",
              "      padding: 0 0 0 0;\n",
              "      width: 32px;\n",
              "    }\n",
              "\n",
              "    .colab-df-convert:hover {\n",
              "      background-color: #E2EBFA;\n",
              "      box-shadow: 0px 1px 2px rgba(60, 64, 67, 0.3), 0px 1px 3px 1px rgba(60, 64, 67, 0.15);\n",
              "      fill: #174EA6;\n",
              "    }\n",
              "\n",
              "    .colab-df-buttons div {\n",
              "      margin-bottom: 4px;\n",
              "    }\n",
              "\n",
              "    [theme=dark] .colab-df-convert {\n",
              "      background-color: #3B4455;\n",
              "      fill: #D2E3FC;\n",
              "    }\n",
              "\n",
              "    [theme=dark] .colab-df-convert:hover {\n",
              "      background-color: #434B5C;\n",
              "      box-shadow: 0px 1px 3px 1px rgba(0, 0, 0, 0.15);\n",
              "      filter: drop-shadow(0px 1px 2px rgba(0, 0, 0, 0.3));\n",
              "      fill: #FFFFFF;\n",
              "    }\n",
              "  </style>\n",
              "\n",
              "    <script>\n",
              "      const buttonEl =\n",
              "        document.querySelector('#df-8eec87ec-2644-4c67-bcae-1f440858dc0b button.colab-df-convert');\n",
              "      buttonEl.style.display =\n",
              "        google.colab.kernel.accessAllowed ? 'block' : 'none';\n",
              "\n",
              "      async function convertToInteractive(key) {\n",
              "        const element = document.querySelector('#df-8eec87ec-2644-4c67-bcae-1f440858dc0b');\n",
              "        const dataTable =\n",
              "          await google.colab.kernel.invokeFunction('convertToInteractive',\n",
              "                                                    [key], {});\n",
              "        if (!dataTable) return;\n",
              "\n",
              "        const docLinkHtml = 'Like what you see? Visit the ' +\n",
              "          '<a target=\"_blank\" href=https://colab.research.google.com/notebooks/data_table.ipynb>data table notebook</a>'\n",
              "          + ' to learn more about interactive tables.';\n",
              "        element.innerHTML = '';\n",
              "        dataTable['output_type'] = 'display_data';\n",
              "        await google.colab.output.renderOutput(dataTable, element);\n",
              "        const docLink = document.createElement('div');\n",
              "        docLink.innerHTML = docLinkHtml;\n",
              "        element.appendChild(docLink);\n",
              "      }\n",
              "    </script>\n",
              "  </div>\n",
              "\n",
              "\n",
              "<div id=\"df-4ce1cead-7e37-4866-9d5d-fcae27c1bdd5\">\n",
              "  <button class=\"colab-df-quickchart\" onclick=\"quickchart('df-4ce1cead-7e37-4866-9d5d-fcae27c1bdd5')\"\n",
              "            title=\"Suggest charts\"\n",
              "            style=\"display:none;\">\n",
              "\n",
              "<svg xmlns=\"http://www.w3.org/2000/svg\" height=\"24px\"viewBox=\"0 0 24 24\"\n",
              "     width=\"24px\">\n",
              "    <g>\n",
              "        <path d=\"M19 3H5c-1.1 0-2 .9-2 2v14c0 1.1.9 2 2 2h14c1.1 0 2-.9 2-2V5c0-1.1-.9-2-2-2zM9 17H7v-7h2v7zm4 0h-2V7h2v10zm4 0h-2v-4h2v4z\"/>\n",
              "    </g>\n",
              "</svg>\n",
              "  </button>\n",
              "\n",
              "<style>\n",
              "  .colab-df-quickchart {\n",
              "      --bg-color: #E8F0FE;\n",
              "      --fill-color: #1967D2;\n",
              "      --hover-bg-color: #E2EBFA;\n",
              "      --hover-fill-color: #174EA6;\n",
              "      --disabled-fill-color: #AAA;\n",
              "      --disabled-bg-color: #DDD;\n",
              "  }\n",
              "\n",
              "  [theme=dark] .colab-df-quickchart {\n",
              "      --bg-color: #3B4455;\n",
              "      --fill-color: #D2E3FC;\n",
              "      --hover-bg-color: #434B5C;\n",
              "      --hover-fill-color: #FFFFFF;\n",
              "      --disabled-bg-color: #3B4455;\n",
              "      --disabled-fill-color: #666;\n",
              "  }\n",
              "\n",
              "  .colab-df-quickchart {\n",
              "    background-color: var(--bg-color);\n",
              "    border: none;\n",
              "    border-radius: 50%;\n",
              "    cursor: pointer;\n",
              "    display: none;\n",
              "    fill: var(--fill-color);\n",
              "    height: 32px;\n",
              "    padding: 0;\n",
              "    width: 32px;\n",
              "  }\n",
              "\n",
              "  .colab-df-quickchart:hover {\n",
              "    background-color: var(--hover-bg-color);\n",
              "    box-shadow: 0 1px 2px rgba(60, 64, 67, 0.3), 0 1px 3px 1px rgba(60, 64, 67, 0.15);\n",
              "    fill: var(--button-hover-fill-color);\n",
              "  }\n",
              "\n",
              "  .colab-df-quickchart-complete:disabled,\n",
              "  .colab-df-quickchart-complete:disabled:hover {\n",
              "    background-color: var(--disabled-bg-color);\n",
              "    fill: var(--disabled-fill-color);\n",
              "    box-shadow: none;\n",
              "  }\n",
              "\n",
              "  .colab-df-spinner {\n",
              "    border: 2px solid var(--fill-color);\n",
              "    border-color: transparent;\n",
              "    border-bottom-color: var(--fill-color);\n",
              "    animation:\n",
              "      spin 1s steps(1) infinite;\n",
              "  }\n",
              "\n",
              "  @keyframes spin {\n",
              "    0% {\n",
              "      border-color: transparent;\n",
              "      border-bottom-color: var(--fill-color);\n",
              "      border-left-color: var(--fill-color);\n",
              "    }\n",
              "    20% {\n",
              "      border-color: transparent;\n",
              "      border-left-color: var(--fill-color);\n",
              "      border-top-color: var(--fill-color);\n",
              "    }\n",
              "    30% {\n",
              "      border-color: transparent;\n",
              "      border-left-color: var(--fill-color);\n",
              "      border-top-color: var(--fill-color);\n",
              "      border-right-color: var(--fill-color);\n",
              "    }\n",
              "    40% {\n",
              "      border-color: transparent;\n",
              "      border-right-color: var(--fill-color);\n",
              "      border-top-color: var(--fill-color);\n",
              "    }\n",
              "    60% {\n",
              "      border-color: transparent;\n",
              "      border-right-color: var(--fill-color);\n",
              "    }\n",
              "    80% {\n",
              "      border-color: transparent;\n",
              "      border-right-color: var(--fill-color);\n",
              "      border-bottom-color: var(--fill-color);\n",
              "    }\n",
              "    90% {\n",
              "      border-color: transparent;\n",
              "      border-bottom-color: var(--fill-color);\n",
              "    }\n",
              "  }\n",
              "</style>\n",
              "\n",
              "  <script>\n",
              "    async function quickchart(key) {\n",
              "      const quickchartButtonEl =\n",
              "        document.querySelector('#' + key + ' button');\n",
              "      quickchartButtonEl.disabled = true;  // To prevent multiple clicks.\n",
              "      quickchartButtonEl.classList.add('colab-df-spinner');\n",
              "      try {\n",
              "        const charts = await google.colab.kernel.invokeFunction(\n",
              "            'suggestCharts', [key], {});\n",
              "      } catch (error) {\n",
              "        console.error('Error during call to suggestCharts:', error);\n",
              "      }\n",
              "      quickchartButtonEl.classList.remove('colab-df-spinner');\n",
              "      quickchartButtonEl.classList.add('colab-df-quickchart-complete');\n",
              "    }\n",
              "    (() => {\n",
              "      let quickchartButtonEl =\n",
              "        document.querySelector('#df-4ce1cead-7e37-4866-9d5d-fcae27c1bdd5 button');\n",
              "      quickchartButtonEl.style.display =\n",
              "        google.colab.kernel.accessAllowed ? 'block' : 'none';\n",
              "    })();\n",
              "  </script>\n",
              "</div>\n",
              "    </div>\n",
              "  </div>\n"
            ],
            "application/vnd.google.colaboratory.intrinsic+json": {
              "type": "dataframe",
              "summary": "{\n  \"name\": \"data_review(data)\",\n  \"rows\": 5,\n  \"fields\": [\n    {\n      \"column\": \"datetime\",\n      \"properties\": {\n        \"dtype\": \"date\",\n        \"min\": \"2018-03-01 00:00:00\",\n        \"max\": \"2018-03-01 00:40:00\",\n        \"num_unique_values\": 5,\n        \"samples\": [\n          \"2018-03-01 00:10:00\",\n          \"2018-03-01 00:40:00\",\n          \"2018-03-01 00:20:00\"\n        ],\n        \"semantic_type\": \"\",\n        \"description\": \"\"\n      }\n    },\n    {\n      \"column\": \"num_orders\",\n      \"properties\": {\n        \"dtype\": \"number\",\n        \"std\": 9,\n        \"min\": 9,\n        \"max\": 32,\n        \"num_unique_values\": 5,\n        \"samples\": [\n          14,\n          32,\n          28\n        ],\n        \"semantic_type\": \"\",\n        \"description\": \"\"\n      }\n    }\n  ]\n}"
            }
          },
          "metadata": {}
        },
        {
          "output_type": "stream",
          "name": "stdout",
          "text": [
            "\n",
            "\n",
            "********** General Information **********\n",
            "\n",
            "<class 'pandas.core.frame.DataFrame'>\n",
            "DatetimeIndex: 26496 entries, 2018-03-01 00:00:00 to 2018-08-31 23:50:00\n",
            "Data columns (total 1 columns):\n",
            " #   Column      Non-Null Count  Dtype\n",
            "---  ------      --------------  -----\n",
            " 0   num_orders  26496 non-null  int64\n",
            "dtypes: int64(1)\n",
            "memory usage: 414.0 KB\n",
            "\n",
            "\n",
            "********** Has NaN **********\n"
          ]
        },
        {
          "output_type": "display_data",
          "data": {
            "text/plain": [
              "<pandas.io.formats.style.Styler at 0x7a324a91ca60>"
            ],
            "text/html": [
              "<style type=\"text/css\">\n",
              "#T_32874_row0_col0 {\n",
              "  background-color: #3b4cc0;\n",
              "  color: #f1f1f1;\n",
              "}\n",
              "</style>\n",
              "<table id=\"T_32874\" class=\"dataframe\">\n",
              "  <thead>\n",
              "    <tr>\n",
              "      <th class=\"blank level0\" >&nbsp;</th>\n",
              "      <th id=\"T_32874_level0_col0\" class=\"col_heading level0 col0\" >0</th>\n",
              "    </tr>\n",
              "  </thead>\n",
              "  <tbody>\n",
              "    <tr>\n",
              "      <th id=\"T_32874_level0_row0\" class=\"row_heading level0 row0\" >num_orders</th>\n",
              "      <td id=\"T_32874_row0_col0\" class=\"data row0 col0\" >0</td>\n",
              "    </tr>\n",
              "  </tbody>\n",
              "</table>\n"
            ]
          },
          "metadata": {}
        },
        {
          "output_type": "stream",
          "name": "stdout",
          "text": [
            "********** Has NaN Percentage **********\n"
          ]
        },
        {
          "output_type": "display_data",
          "data": {
            "text/plain": [
              "<pandas.io.formats.style.Styler at 0x7a324a91ca60>"
            ],
            "text/html": [
              "<style type=\"text/css\">\n",
              "#T_fbf51_row0_col0 {\n",
              "  background-color: #3b4cc0;\n",
              "  color: #f1f1f1;\n",
              "}\n",
              "</style>\n",
              "<table id=\"T_fbf51\" class=\"dataframe\">\n",
              "  <thead>\n",
              "    <tr>\n",
              "      <th class=\"blank level0\" >&nbsp;</th>\n",
              "      <th id=\"T_fbf51_level0_col0\" class=\"col_heading level0 col0\" >0</th>\n",
              "    </tr>\n",
              "  </thead>\n",
              "  <tbody>\n",
              "    <tr>\n",
              "      <th id=\"T_fbf51_level0_row0\" class=\"row_heading level0 row0\" >num_orders</th>\n",
              "      <td id=\"T_fbf51_row0_col0\" class=\"data row0 col0\" >0.000000</td>\n",
              "    </tr>\n",
              "  </tbody>\n",
              "</table>\n"
            ]
          },
          "metadata": {}
        },
        {
          "output_type": "stream",
          "name": "stdout",
          "text": [
            "\n",
            "\n",
            "********** Descriptive Statistics **********\n"
          ]
        },
        {
          "output_type": "display_data",
          "data": {
            "text/plain": [
              "         num_orders\n",
              "count  26496.000000\n",
              "mean      14.070463\n",
              "std        9.211330\n",
              "min        0.000000\n",
              "25%        8.000000\n",
              "50%       13.000000\n",
              "75%       19.000000\n",
              "max      119.000000"
            ],
            "text/html": [
              "\n",
              "  <div id=\"df-07dc69bd-08b0-43b6-8b6c-7adc1b189d77\" class=\"colab-df-container\">\n",
              "    <div>\n",
              "<style scoped>\n",
              "    .dataframe tbody tr th:only-of-type {\n",
              "        vertical-align: middle;\n",
              "    }\n",
              "\n",
              "    .dataframe tbody tr th {\n",
              "        vertical-align: top;\n",
              "    }\n",
              "\n",
              "    .dataframe thead th {\n",
              "        text-align: right;\n",
              "    }\n",
              "</style>\n",
              "<table border=\"1\" class=\"dataframe\">\n",
              "  <thead>\n",
              "    <tr style=\"text-align: right;\">\n",
              "      <th></th>\n",
              "      <th>num_orders</th>\n",
              "    </tr>\n",
              "  </thead>\n",
              "  <tbody>\n",
              "    <tr>\n",
              "      <th>count</th>\n",
              "      <td>26496.000000</td>\n",
              "    </tr>\n",
              "    <tr>\n",
              "      <th>mean</th>\n",
              "      <td>14.070463</td>\n",
              "    </tr>\n",
              "    <tr>\n",
              "      <th>std</th>\n",
              "      <td>9.211330</td>\n",
              "    </tr>\n",
              "    <tr>\n",
              "      <th>min</th>\n",
              "      <td>0.000000</td>\n",
              "    </tr>\n",
              "    <tr>\n",
              "      <th>25%</th>\n",
              "      <td>8.000000</td>\n",
              "    </tr>\n",
              "    <tr>\n",
              "      <th>50%</th>\n",
              "      <td>13.000000</td>\n",
              "    </tr>\n",
              "    <tr>\n",
              "      <th>75%</th>\n",
              "      <td>19.000000</td>\n",
              "    </tr>\n",
              "    <tr>\n",
              "      <th>max</th>\n",
              "      <td>119.000000</td>\n",
              "    </tr>\n",
              "  </tbody>\n",
              "</table>\n",
              "</div>\n",
              "    <div class=\"colab-df-buttons\">\n",
              "\n",
              "  <div class=\"colab-df-container\">\n",
              "    <button class=\"colab-df-convert\" onclick=\"convertToInteractive('df-07dc69bd-08b0-43b6-8b6c-7adc1b189d77')\"\n",
              "            title=\"Convert this dataframe to an interactive table.\"\n",
              "            style=\"display:none;\">\n",
              "\n",
              "  <svg xmlns=\"http://www.w3.org/2000/svg\" height=\"24px\" viewBox=\"0 -960 960 960\">\n",
              "    <path d=\"M120-120v-720h720v720H120Zm60-500h600v-160H180v160Zm220 220h160v-160H400v160Zm0 220h160v-160H400v160ZM180-400h160v-160H180v160Zm440 0h160v-160H620v160ZM180-180h160v-160H180v160Zm440 0h160v-160H620v160Z\"/>\n",
              "  </svg>\n",
              "    </button>\n",
              "\n",
              "  <style>\n",
              "    .colab-df-container {\n",
              "      display:flex;\n",
              "      gap: 12px;\n",
              "    }\n",
              "\n",
              "    .colab-df-convert {\n",
              "      background-color: #E8F0FE;\n",
              "      border: none;\n",
              "      border-radius: 50%;\n",
              "      cursor: pointer;\n",
              "      display: none;\n",
              "      fill: #1967D2;\n",
              "      height: 32px;\n",
              "      padding: 0 0 0 0;\n",
              "      width: 32px;\n",
              "    }\n",
              "\n",
              "    .colab-df-convert:hover {\n",
              "      background-color: #E2EBFA;\n",
              "      box-shadow: 0px 1px 2px rgba(60, 64, 67, 0.3), 0px 1px 3px 1px rgba(60, 64, 67, 0.15);\n",
              "      fill: #174EA6;\n",
              "    }\n",
              "\n",
              "    .colab-df-buttons div {\n",
              "      margin-bottom: 4px;\n",
              "    }\n",
              "\n",
              "    [theme=dark] .colab-df-convert {\n",
              "      background-color: #3B4455;\n",
              "      fill: #D2E3FC;\n",
              "    }\n",
              "\n",
              "    [theme=dark] .colab-df-convert:hover {\n",
              "      background-color: #434B5C;\n",
              "      box-shadow: 0px 1px 3px 1px rgba(0, 0, 0, 0.15);\n",
              "      filter: drop-shadow(0px 1px 2px rgba(0, 0, 0, 0.3));\n",
              "      fill: #FFFFFF;\n",
              "    }\n",
              "  </style>\n",
              "\n",
              "    <script>\n",
              "      const buttonEl =\n",
              "        document.querySelector('#df-07dc69bd-08b0-43b6-8b6c-7adc1b189d77 button.colab-df-convert');\n",
              "      buttonEl.style.display =\n",
              "        google.colab.kernel.accessAllowed ? 'block' : 'none';\n",
              "\n",
              "      async function convertToInteractive(key) {\n",
              "        const element = document.querySelector('#df-07dc69bd-08b0-43b6-8b6c-7adc1b189d77');\n",
              "        const dataTable =\n",
              "          await google.colab.kernel.invokeFunction('convertToInteractive',\n",
              "                                                    [key], {});\n",
              "        if (!dataTable) return;\n",
              "\n",
              "        const docLinkHtml = 'Like what you see? Visit the ' +\n",
              "          '<a target=\"_blank\" href=https://colab.research.google.com/notebooks/data_table.ipynb>data table notebook</a>'\n",
              "          + ' to learn more about interactive tables.';\n",
              "        element.innerHTML = '';\n",
              "        dataTable['output_type'] = 'display_data';\n",
              "        await google.colab.output.renderOutput(dataTable, element);\n",
              "        const docLink = document.createElement('div');\n",
              "        docLink.innerHTML = docLinkHtml;\n",
              "        element.appendChild(docLink);\n",
              "      }\n",
              "    </script>\n",
              "  </div>\n",
              "\n",
              "\n",
              "<div id=\"df-4fd5c277-e769-4e28-8d00-96781d873b3e\">\n",
              "  <button class=\"colab-df-quickchart\" onclick=\"quickchart('df-4fd5c277-e769-4e28-8d00-96781d873b3e')\"\n",
              "            title=\"Suggest charts\"\n",
              "            style=\"display:none;\">\n",
              "\n",
              "<svg xmlns=\"http://www.w3.org/2000/svg\" height=\"24px\"viewBox=\"0 0 24 24\"\n",
              "     width=\"24px\">\n",
              "    <g>\n",
              "        <path d=\"M19 3H5c-1.1 0-2 .9-2 2v14c0 1.1.9 2 2 2h14c1.1 0 2-.9 2-2V5c0-1.1-.9-2-2-2zM9 17H7v-7h2v7zm4 0h-2V7h2v10zm4 0h-2v-4h2v4z\"/>\n",
              "    </g>\n",
              "</svg>\n",
              "  </button>\n",
              "\n",
              "<style>\n",
              "  .colab-df-quickchart {\n",
              "      --bg-color: #E8F0FE;\n",
              "      --fill-color: #1967D2;\n",
              "      --hover-bg-color: #E2EBFA;\n",
              "      --hover-fill-color: #174EA6;\n",
              "      --disabled-fill-color: #AAA;\n",
              "      --disabled-bg-color: #DDD;\n",
              "  }\n",
              "\n",
              "  [theme=dark] .colab-df-quickchart {\n",
              "      --bg-color: #3B4455;\n",
              "      --fill-color: #D2E3FC;\n",
              "      --hover-bg-color: #434B5C;\n",
              "      --hover-fill-color: #FFFFFF;\n",
              "      --disabled-bg-color: #3B4455;\n",
              "      --disabled-fill-color: #666;\n",
              "  }\n",
              "\n",
              "  .colab-df-quickchart {\n",
              "    background-color: var(--bg-color);\n",
              "    border: none;\n",
              "    border-radius: 50%;\n",
              "    cursor: pointer;\n",
              "    display: none;\n",
              "    fill: var(--fill-color);\n",
              "    height: 32px;\n",
              "    padding: 0;\n",
              "    width: 32px;\n",
              "  }\n",
              "\n",
              "  .colab-df-quickchart:hover {\n",
              "    background-color: var(--hover-bg-color);\n",
              "    box-shadow: 0 1px 2px rgba(60, 64, 67, 0.3), 0 1px 3px 1px rgba(60, 64, 67, 0.15);\n",
              "    fill: var(--button-hover-fill-color);\n",
              "  }\n",
              "\n",
              "  .colab-df-quickchart-complete:disabled,\n",
              "  .colab-df-quickchart-complete:disabled:hover {\n",
              "    background-color: var(--disabled-bg-color);\n",
              "    fill: var(--disabled-fill-color);\n",
              "    box-shadow: none;\n",
              "  }\n",
              "\n",
              "  .colab-df-spinner {\n",
              "    border: 2px solid var(--fill-color);\n",
              "    border-color: transparent;\n",
              "    border-bottom-color: var(--fill-color);\n",
              "    animation:\n",
              "      spin 1s steps(1) infinite;\n",
              "  }\n",
              "\n",
              "  @keyframes spin {\n",
              "    0% {\n",
              "      border-color: transparent;\n",
              "      border-bottom-color: var(--fill-color);\n",
              "      border-left-color: var(--fill-color);\n",
              "    }\n",
              "    20% {\n",
              "      border-color: transparent;\n",
              "      border-left-color: var(--fill-color);\n",
              "      border-top-color: var(--fill-color);\n",
              "    }\n",
              "    30% {\n",
              "      border-color: transparent;\n",
              "      border-left-color: var(--fill-color);\n",
              "      border-top-color: var(--fill-color);\n",
              "      border-right-color: var(--fill-color);\n",
              "    }\n",
              "    40% {\n",
              "      border-color: transparent;\n",
              "      border-right-color: var(--fill-color);\n",
              "      border-top-color: var(--fill-color);\n",
              "    }\n",
              "    60% {\n",
              "      border-color: transparent;\n",
              "      border-right-color: var(--fill-color);\n",
              "    }\n",
              "    80% {\n",
              "      border-color: transparent;\n",
              "      border-right-color: var(--fill-color);\n",
              "      border-bottom-color: var(--fill-color);\n",
              "    }\n",
              "    90% {\n",
              "      border-color: transparent;\n",
              "      border-bottom-color: var(--fill-color);\n",
              "    }\n",
              "  }\n",
              "</style>\n",
              "\n",
              "  <script>\n",
              "    async function quickchart(key) {\n",
              "      const quickchartButtonEl =\n",
              "        document.querySelector('#' + key + ' button');\n",
              "      quickchartButtonEl.disabled = true;  // To prevent multiple clicks.\n",
              "      quickchartButtonEl.classList.add('colab-df-spinner');\n",
              "      try {\n",
              "        const charts = await google.colab.kernel.invokeFunction(\n",
              "            'suggestCharts', [key], {});\n",
              "      } catch (error) {\n",
              "        console.error('Error during call to suggestCharts:', error);\n",
              "      }\n",
              "      quickchartButtonEl.classList.remove('colab-df-spinner');\n",
              "      quickchartButtonEl.classList.add('colab-df-quickchart-complete');\n",
              "    }\n",
              "    (() => {\n",
              "      let quickchartButtonEl =\n",
              "        document.querySelector('#df-4fd5c277-e769-4e28-8d00-96781d873b3e button');\n",
              "      quickchartButtonEl.style.display =\n",
              "        google.colab.kernel.accessAllowed ? 'block' : 'none';\n",
              "    })();\n",
              "  </script>\n",
              "</div>\n",
              "    </div>\n",
              "  </div>\n"
            ],
            "application/vnd.google.colaboratory.intrinsic+json": {
              "type": "dataframe",
              "summary": "{\n  \"name\": \"data_review(data)\",\n  \"rows\": 8,\n  \"fields\": [\n    {\n      \"column\": \"num_orders\",\n      \"properties\": {\n        \"dtype\": \"number\",\n        \"std\": 9358.622562704406,\n        \"min\": 0.0,\n        \"max\": 26496.0,\n        \"num_unique_values\": 8,\n        \"samples\": [\n          14.070463466183575,\n          13.0,\n          26496.0\n        ],\n        \"semantic_type\": \"\",\n        \"description\": \"\"\n      }\n    }\n  ]\n}"
            }
          },
          "metadata": {}
        }
      ],
      "source": [
        "data_review(data)"
      ]
    },
    {
      "cell_type": "markdown",
      "metadata": {
        "id": "5WoDQq_zNlz1"
      },
      "source": [
        "Let's sort the data in ascending order:"
      ]
    },
    {
      "cell_type": "code",
      "execution_count": null,
      "metadata": {
        "id": "XFsrmTWDNlz1"
      },
      "outputs": [],
      "source": [
        "data.sort_index(inplace=True)"
      ]
    },
    {
      "cell_type": "code",
      "execution_count": null,
      "metadata": {
        "id": "hwhv9TZpNlz2",
        "outputId": "c281edc6-d7eb-43e5-ab18-0ef4ad402764",
        "colab": {
          "base_uri": "https://localhost:8080/",
          "height": 238
        }
      },
      "outputs": [
        {
          "output_type": "execute_result",
          "data": {
            "text/plain": [
              "                     num_orders\n",
              "datetime                       \n",
              "2018-03-01 00:00:00           9\n",
              "2018-03-01 00:10:00          14\n",
              "2018-03-01 00:20:00          28\n",
              "2018-03-01 00:30:00          20\n",
              "2018-03-01 00:40:00          32"
            ],
            "text/html": [
              "\n",
              "  <div id=\"df-af8c95e0-d0d4-40f7-a733-ebcc06467618\" class=\"colab-df-container\">\n",
              "    <div>\n",
              "<style scoped>\n",
              "    .dataframe tbody tr th:only-of-type {\n",
              "        vertical-align: middle;\n",
              "    }\n",
              "\n",
              "    .dataframe tbody tr th {\n",
              "        vertical-align: top;\n",
              "    }\n",
              "\n",
              "    .dataframe thead th {\n",
              "        text-align: right;\n",
              "    }\n",
              "</style>\n",
              "<table border=\"1\" class=\"dataframe\">\n",
              "  <thead>\n",
              "    <tr style=\"text-align: right;\">\n",
              "      <th></th>\n",
              "      <th>num_orders</th>\n",
              "    </tr>\n",
              "    <tr>\n",
              "      <th>datetime</th>\n",
              "      <th></th>\n",
              "    </tr>\n",
              "  </thead>\n",
              "  <tbody>\n",
              "    <tr>\n",
              "      <th>2018-03-01 00:00:00</th>\n",
              "      <td>9</td>\n",
              "    </tr>\n",
              "    <tr>\n",
              "      <th>2018-03-01 00:10:00</th>\n",
              "      <td>14</td>\n",
              "    </tr>\n",
              "    <tr>\n",
              "      <th>2018-03-01 00:20:00</th>\n",
              "      <td>28</td>\n",
              "    </tr>\n",
              "    <tr>\n",
              "      <th>2018-03-01 00:30:00</th>\n",
              "      <td>20</td>\n",
              "    </tr>\n",
              "    <tr>\n",
              "      <th>2018-03-01 00:40:00</th>\n",
              "      <td>32</td>\n",
              "    </tr>\n",
              "  </tbody>\n",
              "</table>\n",
              "</div>\n",
              "    <div class=\"colab-df-buttons\">\n",
              "\n",
              "  <div class=\"colab-df-container\">\n",
              "    <button class=\"colab-df-convert\" onclick=\"convertToInteractive('df-af8c95e0-d0d4-40f7-a733-ebcc06467618')\"\n",
              "            title=\"Convert this dataframe to an interactive table.\"\n",
              "            style=\"display:none;\">\n",
              "\n",
              "  <svg xmlns=\"http://www.w3.org/2000/svg\" height=\"24px\" viewBox=\"0 -960 960 960\">\n",
              "    <path d=\"M120-120v-720h720v720H120Zm60-500h600v-160H180v160Zm220 220h160v-160H400v160Zm0 220h160v-160H400v160ZM180-400h160v-160H180v160Zm440 0h160v-160H620v160ZM180-180h160v-160H180v160Zm440 0h160v-160H620v160Z\"/>\n",
              "  </svg>\n",
              "    </button>\n",
              "\n",
              "  <style>\n",
              "    .colab-df-container {\n",
              "      display:flex;\n",
              "      gap: 12px;\n",
              "    }\n",
              "\n",
              "    .colab-df-convert {\n",
              "      background-color: #E8F0FE;\n",
              "      border: none;\n",
              "      border-radius: 50%;\n",
              "      cursor: pointer;\n",
              "      display: none;\n",
              "      fill: #1967D2;\n",
              "      height: 32px;\n",
              "      padding: 0 0 0 0;\n",
              "      width: 32px;\n",
              "    }\n",
              "\n",
              "    .colab-df-convert:hover {\n",
              "      background-color: #E2EBFA;\n",
              "      box-shadow: 0px 1px 2px rgba(60, 64, 67, 0.3), 0px 1px 3px 1px rgba(60, 64, 67, 0.15);\n",
              "      fill: #174EA6;\n",
              "    }\n",
              "\n",
              "    .colab-df-buttons div {\n",
              "      margin-bottom: 4px;\n",
              "    }\n",
              "\n",
              "    [theme=dark] .colab-df-convert {\n",
              "      background-color: #3B4455;\n",
              "      fill: #D2E3FC;\n",
              "    }\n",
              "\n",
              "    [theme=dark] .colab-df-convert:hover {\n",
              "      background-color: #434B5C;\n",
              "      box-shadow: 0px 1px 3px 1px rgba(0, 0, 0, 0.15);\n",
              "      filter: drop-shadow(0px 1px 2px rgba(0, 0, 0, 0.3));\n",
              "      fill: #FFFFFF;\n",
              "    }\n",
              "  </style>\n",
              "\n",
              "    <script>\n",
              "      const buttonEl =\n",
              "        document.querySelector('#df-af8c95e0-d0d4-40f7-a733-ebcc06467618 button.colab-df-convert');\n",
              "      buttonEl.style.display =\n",
              "        google.colab.kernel.accessAllowed ? 'block' : 'none';\n",
              "\n",
              "      async function convertToInteractive(key) {\n",
              "        const element = document.querySelector('#df-af8c95e0-d0d4-40f7-a733-ebcc06467618');\n",
              "        const dataTable =\n",
              "          await google.colab.kernel.invokeFunction('convertToInteractive',\n",
              "                                                    [key], {});\n",
              "        if (!dataTable) return;\n",
              "\n",
              "        const docLinkHtml = 'Like what you see? Visit the ' +\n",
              "          '<a target=\"_blank\" href=https://colab.research.google.com/notebooks/data_table.ipynb>data table notebook</a>'\n",
              "          + ' to learn more about interactive tables.';\n",
              "        element.innerHTML = '';\n",
              "        dataTable['output_type'] = 'display_data';\n",
              "        await google.colab.output.renderOutput(dataTable, element);\n",
              "        const docLink = document.createElement('div');\n",
              "        docLink.innerHTML = docLinkHtml;\n",
              "        element.appendChild(docLink);\n",
              "      }\n",
              "    </script>\n",
              "  </div>\n",
              "\n",
              "\n",
              "<div id=\"df-4d195e2b-63df-4ffe-b42b-40940b98772f\">\n",
              "  <button class=\"colab-df-quickchart\" onclick=\"quickchart('df-4d195e2b-63df-4ffe-b42b-40940b98772f')\"\n",
              "            title=\"Suggest charts\"\n",
              "            style=\"display:none;\">\n",
              "\n",
              "<svg xmlns=\"http://www.w3.org/2000/svg\" height=\"24px\"viewBox=\"0 0 24 24\"\n",
              "     width=\"24px\">\n",
              "    <g>\n",
              "        <path d=\"M19 3H5c-1.1 0-2 .9-2 2v14c0 1.1.9 2 2 2h14c1.1 0 2-.9 2-2V5c0-1.1-.9-2-2-2zM9 17H7v-7h2v7zm4 0h-2V7h2v10zm4 0h-2v-4h2v4z\"/>\n",
              "    </g>\n",
              "</svg>\n",
              "  </button>\n",
              "\n",
              "<style>\n",
              "  .colab-df-quickchart {\n",
              "      --bg-color: #E8F0FE;\n",
              "      --fill-color: #1967D2;\n",
              "      --hover-bg-color: #E2EBFA;\n",
              "      --hover-fill-color: #174EA6;\n",
              "      --disabled-fill-color: #AAA;\n",
              "      --disabled-bg-color: #DDD;\n",
              "  }\n",
              "\n",
              "  [theme=dark] .colab-df-quickchart {\n",
              "      --bg-color: #3B4455;\n",
              "      --fill-color: #D2E3FC;\n",
              "      --hover-bg-color: #434B5C;\n",
              "      --hover-fill-color: #FFFFFF;\n",
              "      --disabled-bg-color: #3B4455;\n",
              "      --disabled-fill-color: #666;\n",
              "  }\n",
              "\n",
              "  .colab-df-quickchart {\n",
              "    background-color: var(--bg-color);\n",
              "    border: none;\n",
              "    border-radius: 50%;\n",
              "    cursor: pointer;\n",
              "    display: none;\n",
              "    fill: var(--fill-color);\n",
              "    height: 32px;\n",
              "    padding: 0;\n",
              "    width: 32px;\n",
              "  }\n",
              "\n",
              "  .colab-df-quickchart:hover {\n",
              "    background-color: var(--hover-bg-color);\n",
              "    box-shadow: 0 1px 2px rgba(60, 64, 67, 0.3), 0 1px 3px 1px rgba(60, 64, 67, 0.15);\n",
              "    fill: var(--button-hover-fill-color);\n",
              "  }\n",
              "\n",
              "  .colab-df-quickchart-complete:disabled,\n",
              "  .colab-df-quickchart-complete:disabled:hover {\n",
              "    background-color: var(--disabled-bg-color);\n",
              "    fill: var(--disabled-fill-color);\n",
              "    box-shadow: none;\n",
              "  }\n",
              "\n",
              "  .colab-df-spinner {\n",
              "    border: 2px solid var(--fill-color);\n",
              "    border-color: transparent;\n",
              "    border-bottom-color: var(--fill-color);\n",
              "    animation:\n",
              "      spin 1s steps(1) infinite;\n",
              "  }\n",
              "\n",
              "  @keyframes spin {\n",
              "    0% {\n",
              "      border-color: transparent;\n",
              "      border-bottom-color: var(--fill-color);\n",
              "      border-left-color: var(--fill-color);\n",
              "    }\n",
              "    20% {\n",
              "      border-color: transparent;\n",
              "      border-left-color: var(--fill-color);\n",
              "      border-top-color: var(--fill-color);\n",
              "    }\n",
              "    30% {\n",
              "      border-color: transparent;\n",
              "      border-left-color: var(--fill-color);\n",
              "      border-top-color: var(--fill-color);\n",
              "      border-right-color: var(--fill-color);\n",
              "    }\n",
              "    40% {\n",
              "      border-color: transparent;\n",
              "      border-right-color: var(--fill-color);\n",
              "      border-top-color: var(--fill-color);\n",
              "    }\n",
              "    60% {\n",
              "      border-color: transparent;\n",
              "      border-right-color: var(--fill-color);\n",
              "    }\n",
              "    80% {\n",
              "      border-color: transparent;\n",
              "      border-right-color: var(--fill-color);\n",
              "      border-bottom-color: var(--fill-color);\n",
              "    }\n",
              "    90% {\n",
              "      border-color: transparent;\n",
              "      border-bottom-color: var(--fill-color);\n",
              "    }\n",
              "  }\n",
              "</style>\n",
              "\n",
              "  <script>\n",
              "    async function quickchart(key) {\n",
              "      const quickchartButtonEl =\n",
              "        document.querySelector('#' + key + ' button');\n",
              "      quickchartButtonEl.disabled = true;  // To prevent multiple clicks.\n",
              "      quickchartButtonEl.classList.add('colab-df-spinner');\n",
              "      try {\n",
              "        const charts = await google.colab.kernel.invokeFunction(\n",
              "            'suggestCharts', [key], {});\n",
              "      } catch (error) {\n",
              "        console.error('Error during call to suggestCharts:', error);\n",
              "      }\n",
              "      quickchartButtonEl.classList.remove('colab-df-spinner');\n",
              "      quickchartButtonEl.classList.add('colab-df-quickchart-complete');\n",
              "    }\n",
              "    (() => {\n",
              "      let quickchartButtonEl =\n",
              "        document.querySelector('#df-4d195e2b-63df-4ffe-b42b-40940b98772f button');\n",
              "      quickchartButtonEl.style.display =\n",
              "        google.colab.kernel.accessAllowed ? 'block' : 'none';\n",
              "    })();\n",
              "  </script>\n",
              "</div>\n",
              "    </div>\n",
              "  </div>\n"
            ],
            "application/vnd.google.colaboratory.intrinsic+json": {
              "type": "dataframe",
              "variable_name": "data",
              "summary": "{\n  \"name\": \"data\",\n  \"rows\": 26496,\n  \"fields\": [\n    {\n      \"column\": \"datetime\",\n      \"properties\": {\n        \"dtype\": \"date\",\n        \"min\": \"2018-03-01 00:00:00\",\n        \"max\": \"2018-08-31 23:50:00\",\n        \"num_unique_values\": 26496,\n        \"samples\": [\n          \"2018-06-16 18:00:00\",\n          \"2018-06-13 14:50:00\",\n          \"2018-05-08 15:40:00\"\n        ],\n        \"semantic_type\": \"\",\n        \"description\": \"\"\n      }\n    },\n    {\n      \"column\": \"num_orders\",\n      \"properties\": {\n        \"dtype\": \"number\",\n        \"std\": 9,\n        \"min\": 0,\n        \"max\": 119,\n        \"num_unique_values\": 81,\n        \"samples\": [\n          30,\n          9,\n          11\n        ],\n        \"semantic_type\": \"\",\n        \"description\": \"\"\n      }\n    }\n  ]\n}"
            }
          },
          "metadata": {},
          "execution_count": 8
        }
      ],
      "source": [
        "data.head()"
      ]
    },
    {
      "cell_type": "markdown",
      "metadata": {
        "id": "qqhV4tz7Nlz2"
      },
      "source": [
        "#### Conclusions"
      ]
    },
    {
      "cell_type": "markdown",
      "metadata": {
        "id": "2C-VFhpVNlz2"
      },
      "source": [
        "- the downloaded data is presented for the period from 2018-03-01 00:00:00 to 2018-08-31 23:50:00;\n",
        "- no missing values ​​were found in the data."
      ]
    },
    {
      "cell_type": "markdown",
      "metadata": {
        "id": "DyBEVLCRNlz2"
      },
      "source": [
        "### Resampling Data"
      ]
    },
    {
      "cell_type": "markdown",
      "metadata": {
        "id": "7ns9G5jUNlz2"
      },
      "source": [
        "Let's resample the data one hour at a time:"
      ]
    },
    {
      "cell_type": "code",
      "execution_count": null,
      "metadata": {
        "id": "-eXXbz0fNlz2",
        "colab": {
          "base_uri": "https://localhost:8080/"
        },
        "outputId": "680043de-0445-4c06-c14c-ee192e50d284"
      },
      "outputs": [
        {
          "output_type": "stream",
          "name": "stderr",
          "text": [
            "<ipython-input-9-5866bf98f955>:1: FutureWarning: 'H' is deprecated and will be removed in a future version, please use 'h' instead.\n",
            "  data = data.resample('1H').sum()\n"
          ]
        }
      ],
      "source": [
        "data = data.resample('1H').sum()"
      ]
    },
    {
      "cell_type": "code",
      "execution_count": null,
      "metadata": {
        "id": "Lo7KspezNlz2",
        "outputId": "f626f4f9-f703-4230-f3f2-798744d1dd87",
        "colab": {
          "base_uri": "https://localhost:8080/",
          "height": 238
        }
      },
      "outputs": [
        {
          "output_type": "execute_result",
          "data": {
            "text/plain": [
              "                     num_orders\n",
              "datetime                       \n",
              "2018-03-01 00:00:00         124\n",
              "2018-03-01 01:00:00          85\n",
              "2018-03-01 02:00:00          71\n",
              "2018-03-01 03:00:00          66\n",
              "2018-03-01 04:00:00          43"
            ],
            "text/html": [
              "\n",
              "  <div id=\"df-e3937a41-18b0-4580-9ffd-ff7ad07c49d8\" class=\"colab-df-container\">\n",
              "    <div>\n",
              "<style scoped>\n",
              "    .dataframe tbody tr th:only-of-type {\n",
              "        vertical-align: middle;\n",
              "    }\n",
              "\n",
              "    .dataframe tbody tr th {\n",
              "        vertical-align: top;\n",
              "    }\n",
              "\n",
              "    .dataframe thead th {\n",
              "        text-align: right;\n",
              "    }\n",
              "</style>\n",
              "<table border=\"1\" class=\"dataframe\">\n",
              "  <thead>\n",
              "    <tr style=\"text-align: right;\">\n",
              "      <th></th>\n",
              "      <th>num_orders</th>\n",
              "    </tr>\n",
              "    <tr>\n",
              "      <th>datetime</th>\n",
              "      <th></th>\n",
              "    </tr>\n",
              "  </thead>\n",
              "  <tbody>\n",
              "    <tr>\n",
              "      <th>2018-03-01 00:00:00</th>\n",
              "      <td>124</td>\n",
              "    </tr>\n",
              "    <tr>\n",
              "      <th>2018-03-01 01:00:00</th>\n",
              "      <td>85</td>\n",
              "    </tr>\n",
              "    <tr>\n",
              "      <th>2018-03-01 02:00:00</th>\n",
              "      <td>71</td>\n",
              "    </tr>\n",
              "    <tr>\n",
              "      <th>2018-03-01 03:00:00</th>\n",
              "      <td>66</td>\n",
              "    </tr>\n",
              "    <tr>\n",
              "      <th>2018-03-01 04:00:00</th>\n",
              "      <td>43</td>\n",
              "    </tr>\n",
              "  </tbody>\n",
              "</table>\n",
              "</div>\n",
              "    <div class=\"colab-df-buttons\">\n",
              "\n",
              "  <div class=\"colab-df-container\">\n",
              "    <button class=\"colab-df-convert\" onclick=\"convertToInteractive('df-e3937a41-18b0-4580-9ffd-ff7ad07c49d8')\"\n",
              "            title=\"Convert this dataframe to an interactive table.\"\n",
              "            style=\"display:none;\">\n",
              "\n",
              "  <svg xmlns=\"http://www.w3.org/2000/svg\" height=\"24px\" viewBox=\"0 -960 960 960\">\n",
              "    <path d=\"M120-120v-720h720v720H120Zm60-500h600v-160H180v160Zm220 220h160v-160H400v160Zm0 220h160v-160H400v160ZM180-400h160v-160H180v160Zm440 0h160v-160H620v160ZM180-180h160v-160H180v160Zm440 0h160v-160H620v160Z\"/>\n",
              "  </svg>\n",
              "    </button>\n",
              "\n",
              "  <style>\n",
              "    .colab-df-container {\n",
              "      display:flex;\n",
              "      gap: 12px;\n",
              "    }\n",
              "\n",
              "    .colab-df-convert {\n",
              "      background-color: #E8F0FE;\n",
              "      border: none;\n",
              "      border-radius: 50%;\n",
              "      cursor: pointer;\n",
              "      display: none;\n",
              "      fill: #1967D2;\n",
              "      height: 32px;\n",
              "      padding: 0 0 0 0;\n",
              "      width: 32px;\n",
              "    }\n",
              "\n",
              "    .colab-df-convert:hover {\n",
              "      background-color: #E2EBFA;\n",
              "      box-shadow: 0px 1px 2px rgba(60, 64, 67, 0.3), 0px 1px 3px 1px rgba(60, 64, 67, 0.15);\n",
              "      fill: #174EA6;\n",
              "    }\n",
              "\n",
              "    .colab-df-buttons div {\n",
              "      margin-bottom: 4px;\n",
              "    }\n",
              "\n",
              "    [theme=dark] .colab-df-convert {\n",
              "      background-color: #3B4455;\n",
              "      fill: #D2E3FC;\n",
              "    }\n",
              "\n",
              "    [theme=dark] .colab-df-convert:hover {\n",
              "      background-color: #434B5C;\n",
              "      box-shadow: 0px 1px 3px 1px rgba(0, 0, 0, 0.15);\n",
              "      filter: drop-shadow(0px 1px 2px rgba(0, 0, 0, 0.3));\n",
              "      fill: #FFFFFF;\n",
              "    }\n",
              "  </style>\n",
              "\n",
              "    <script>\n",
              "      const buttonEl =\n",
              "        document.querySelector('#df-e3937a41-18b0-4580-9ffd-ff7ad07c49d8 button.colab-df-convert');\n",
              "      buttonEl.style.display =\n",
              "        google.colab.kernel.accessAllowed ? 'block' : 'none';\n",
              "\n",
              "      async function convertToInteractive(key) {\n",
              "        const element = document.querySelector('#df-e3937a41-18b0-4580-9ffd-ff7ad07c49d8');\n",
              "        const dataTable =\n",
              "          await google.colab.kernel.invokeFunction('convertToInteractive',\n",
              "                                                    [key], {});\n",
              "        if (!dataTable) return;\n",
              "\n",
              "        const docLinkHtml = 'Like what you see? Visit the ' +\n",
              "          '<a target=\"_blank\" href=https://colab.research.google.com/notebooks/data_table.ipynb>data table notebook</a>'\n",
              "          + ' to learn more about interactive tables.';\n",
              "        element.innerHTML = '';\n",
              "        dataTable['output_type'] = 'display_data';\n",
              "        await google.colab.output.renderOutput(dataTable, element);\n",
              "        const docLink = document.createElement('div');\n",
              "        docLink.innerHTML = docLinkHtml;\n",
              "        element.appendChild(docLink);\n",
              "      }\n",
              "    </script>\n",
              "  </div>\n",
              "\n",
              "\n",
              "<div id=\"df-43d3deee-8311-46ae-9917-509f871a2aa2\">\n",
              "  <button class=\"colab-df-quickchart\" onclick=\"quickchart('df-43d3deee-8311-46ae-9917-509f871a2aa2')\"\n",
              "            title=\"Suggest charts\"\n",
              "            style=\"display:none;\">\n",
              "\n",
              "<svg xmlns=\"http://www.w3.org/2000/svg\" height=\"24px\"viewBox=\"0 0 24 24\"\n",
              "     width=\"24px\">\n",
              "    <g>\n",
              "        <path d=\"M19 3H5c-1.1 0-2 .9-2 2v14c0 1.1.9 2 2 2h14c1.1 0 2-.9 2-2V5c0-1.1-.9-2-2-2zM9 17H7v-7h2v7zm4 0h-2V7h2v10zm4 0h-2v-4h2v4z\"/>\n",
              "    </g>\n",
              "</svg>\n",
              "  </button>\n",
              "\n",
              "<style>\n",
              "  .colab-df-quickchart {\n",
              "      --bg-color: #E8F0FE;\n",
              "      --fill-color: #1967D2;\n",
              "      --hover-bg-color: #E2EBFA;\n",
              "      --hover-fill-color: #174EA6;\n",
              "      --disabled-fill-color: #AAA;\n",
              "      --disabled-bg-color: #DDD;\n",
              "  }\n",
              "\n",
              "  [theme=dark] .colab-df-quickchart {\n",
              "      --bg-color: #3B4455;\n",
              "      --fill-color: #D2E3FC;\n",
              "      --hover-bg-color: #434B5C;\n",
              "      --hover-fill-color: #FFFFFF;\n",
              "      --disabled-bg-color: #3B4455;\n",
              "      --disabled-fill-color: #666;\n",
              "  }\n",
              "\n",
              "  .colab-df-quickchart {\n",
              "    background-color: var(--bg-color);\n",
              "    border: none;\n",
              "    border-radius: 50%;\n",
              "    cursor: pointer;\n",
              "    display: none;\n",
              "    fill: var(--fill-color);\n",
              "    height: 32px;\n",
              "    padding: 0;\n",
              "    width: 32px;\n",
              "  }\n",
              "\n",
              "  .colab-df-quickchart:hover {\n",
              "    background-color: var(--hover-bg-color);\n",
              "    box-shadow: 0 1px 2px rgba(60, 64, 67, 0.3), 0 1px 3px 1px rgba(60, 64, 67, 0.15);\n",
              "    fill: var(--button-hover-fill-color);\n",
              "  }\n",
              "\n",
              "  .colab-df-quickchart-complete:disabled,\n",
              "  .colab-df-quickchart-complete:disabled:hover {\n",
              "    background-color: var(--disabled-bg-color);\n",
              "    fill: var(--disabled-fill-color);\n",
              "    box-shadow: none;\n",
              "  }\n",
              "\n",
              "  .colab-df-spinner {\n",
              "    border: 2px solid var(--fill-color);\n",
              "    border-color: transparent;\n",
              "    border-bottom-color: var(--fill-color);\n",
              "    animation:\n",
              "      spin 1s steps(1) infinite;\n",
              "  }\n",
              "\n",
              "  @keyframes spin {\n",
              "    0% {\n",
              "      border-color: transparent;\n",
              "      border-bottom-color: var(--fill-color);\n",
              "      border-left-color: var(--fill-color);\n",
              "    }\n",
              "    20% {\n",
              "      border-color: transparent;\n",
              "      border-left-color: var(--fill-color);\n",
              "      border-top-color: var(--fill-color);\n",
              "    }\n",
              "    30% {\n",
              "      border-color: transparent;\n",
              "      border-left-color: var(--fill-color);\n",
              "      border-top-color: var(--fill-color);\n",
              "      border-right-color: var(--fill-color);\n",
              "    }\n",
              "    40% {\n",
              "      border-color: transparent;\n",
              "      border-right-color: var(--fill-color);\n",
              "      border-top-color: var(--fill-color);\n",
              "    }\n",
              "    60% {\n",
              "      border-color: transparent;\n",
              "      border-right-color: var(--fill-color);\n",
              "    }\n",
              "    80% {\n",
              "      border-color: transparent;\n",
              "      border-right-color: var(--fill-color);\n",
              "      border-bottom-color: var(--fill-color);\n",
              "    }\n",
              "    90% {\n",
              "      border-color: transparent;\n",
              "      border-bottom-color: var(--fill-color);\n",
              "    }\n",
              "  }\n",
              "</style>\n",
              "\n",
              "  <script>\n",
              "    async function quickchart(key) {\n",
              "      const quickchartButtonEl =\n",
              "        document.querySelector('#' + key + ' button');\n",
              "      quickchartButtonEl.disabled = true;  // To prevent multiple clicks.\n",
              "      quickchartButtonEl.classList.add('colab-df-spinner');\n",
              "      try {\n",
              "        const charts = await google.colab.kernel.invokeFunction(\n",
              "            'suggestCharts', [key], {});\n",
              "      } catch (error) {\n",
              "        console.error('Error during call to suggestCharts:', error);\n",
              "      }\n",
              "      quickchartButtonEl.classList.remove('colab-df-spinner');\n",
              "      quickchartButtonEl.classList.add('colab-df-quickchart-complete');\n",
              "    }\n",
              "    (() => {\n",
              "      let quickchartButtonEl =\n",
              "        document.querySelector('#df-43d3deee-8311-46ae-9917-509f871a2aa2 button');\n",
              "      quickchartButtonEl.style.display =\n",
              "        google.colab.kernel.accessAllowed ? 'block' : 'none';\n",
              "    })();\n",
              "  </script>\n",
              "</div>\n",
              "    </div>\n",
              "  </div>\n"
            ],
            "application/vnd.google.colaboratory.intrinsic+json": {
              "type": "dataframe",
              "variable_name": "data",
              "summary": "{\n  \"name\": \"data\",\n  \"rows\": 4416,\n  \"fields\": [\n    {\n      \"column\": \"datetime\",\n      \"properties\": {\n        \"dtype\": \"date\",\n        \"min\": \"2018-03-01 00:00:00\",\n        \"max\": \"2018-08-31 23:00:00\",\n        \"num_unique_values\": 4416,\n        \"samples\": [\n          \"2018-05-07 15:00:00\",\n          \"2018-04-30 11:00:00\",\n          \"2018-08-13 16:00:00\"\n        ],\n        \"semantic_type\": \"\",\n        \"description\": \"\"\n      }\n    },\n    {\n      \"column\": \"num_orders\",\n      \"properties\": {\n        \"dtype\": \"number\",\n        \"std\": 45,\n        \"min\": 0,\n        \"max\": 462,\n        \"num_unique_values\": 251,\n        \"samples\": [\n          201,\n          12,\n          197\n        ],\n        \"semantic_type\": \"\",\n        \"description\": \"\"\n      }\n    }\n  ]\n}"
            }
          },
          "metadata": {},
          "execution_count": 10
        }
      ],
      "source": [
        "data.head()"
      ]
    },
    {
      "cell_type": "markdown",
      "metadata": {
        "id": "5s2Uua7tNlz2"
      },
      "source": [
        "## Data Analysis"
      ]
    },
    {
      "cell_type": "markdown",
      "metadata": {
        "id": "sgECgBQbNlz3"
      },
      "source": [
        "Let's plot the resampled time series:"
      ]
    },
    {
      "cell_type": "code",
      "execution_count": null,
      "metadata": {
        "id": "tzcQMm9fNlz3",
        "outputId": "3b3e19e7-019e-4876-c6c9-7b69d8f40590",
        "colab": {
          "base_uri": "https://localhost:8080/",
          "height": 488
        }
      },
      "outputs": [
        {
          "output_type": "display_data",
          "data": {
            "text/plain": [
              "<Figure size 640x480 with 1 Axes>"
            ],
            "image/png": "[encoded data removed]"
          },
          "metadata": {}
        }
      ],
      "source": [
        "data.plot()\n",
        "\n",
        "plt.title('Number of Orders per Hour')\n",
        "plt.ylabel('Number of Orders');"
      ]
    },
    {
      "cell_type": "markdown",
      "metadata": {
        "id": "0lIgkpBRNlz3"
      },
      "source": [
        "To reduce variability and determine the stationarity of the time series, we look at the moving average and moving standard deviation. For this stage of data analysis, we re-save the dataset."
      ]
    },
    {
      "cell_type": "code",
      "execution_count": null,
      "metadata": {
        "id": "QGjbkva2Nlz3"
      },
      "outputs": [],
      "source": [
        "df = data.copy()"
      ]
    },
    {
      "cell_type": "code",
      "execution_count": null,
      "metadata": {
        "id": "Apv86qIbNlz3"
      },
      "outputs": [],
      "source": [
        "df['rolling_mean'] = df['num_orders'].rolling(24, closed='left').mean()\n",
        "df['rolling_std'] = df['num_orders'].rolling(24, closed='left').std()"
      ]
    },
    {
      "cell_type": "code",
      "execution_count": null,
      "metadata": {
        "id": "fyYdpKBvNlz3",
        "outputId": "95e6f67b-d8af-4b9c-8027-f89252bd5e60",
        "colab": {
          "base_uri": "https://localhost:8080/",
          "height": 488
        }
      },
      "outputs": [
        {
          "output_type": "display_data",
          "data": {
            "text/plain": [
              "<Figure size 640x480 with 1 Axes>"
            ],
            "image/png": "[encoded data removed]"
          },
          "metadata": {}
        }
      ],
      "source": [
        "df.plot()\n",
        "\n",
        "plt.title('Number of Orders per Hour')\n",
        "plt.ylabel('Number of Orders');"
      ]
    },
    {
      "cell_type": "markdown",
      "metadata": {
        "id": "jTJOze_vNlz4"
      },
      "source": [
        "Additionally, we will evaluate the stationarity of the time series using the extended Dickey-Fuller test.\n",
        "\n",
        "Let's formulate the hypotheses:\n",
        "\n",
        "$H_{0}$: \"The time series is non-stationary. It has some structure that depends on time and does not have a constant variance over time\";\n",
        "\n",
        "$H_{1}$: \"The time series is stationary\".\n",
        "\n",
        "Let's test the hypotheses: if the p-value from the test is less than a certain significance level, we will take α = 0.05, then we can reject the null hypothesis and conclude that the time series is stationary."
      ]
    },
    {
      "cell_type": "markdown",
      "metadata": {
        "id": "yb_bB6bENlz4"
      },
      "source": [
        "1. First, let us determine the stationarity of the time series on all presented data."
      ]
    },
    {
      "cell_type": "code",
      "execution_count": null,
      "metadata": {
        "id": "ImQSjBWQNlz4",
        "outputId": "ef5ea9a9-7ae7-47f1-bf3a-9523fdb0a100",
        "colab": {
          "base_uri": "https://localhost:8080/"
        }
      },
      "outputs": [
        {
          "output_type": "execute_result",
          "data": {
            "text/plain": [
              "(-3.0689242890279504,\n",
              " 0.028940051402613316,\n",
              " 30,\n",
              " 4385,\n",
              " {'1%': -3.431842162413052,\n",
              "  '5%': -2.8621993540813637,\n",
              "  '10%': -2.567120978470452},\n",
              " 41728.71357827463)"
            ]
          },
          "metadata": {},
          "execution_count": 15
        }
      ],
      "source": [
        "adfuller(data)"
      ]
    },
    {
      "cell_type": "markdown",
      "metadata": {
        "id": "FTuAInk9Nlz4"
      },
      "source": [
        "Let's interpret the output:\n",
        "\n",
        "The p-value is displayed on the second line of the output and is 0.029, which is less than the accepted value of the significance level α = 0.05, from which we can conclude that we can reject the null hypothesis and our time series is stationary."
      ]
    },
    {
      "cell_type": "markdown",
      "metadata": {
        "id": "O_A5IA93Nlz4"
      },
      "source": [
        "2. Let us determine the stationarity of the time series for a period of one day, since our task is to predict data for the next hour."
      ]
    },
    {
      "cell_type": "code",
      "execution_count": null,
      "metadata": {
        "id": "Mst0TxPWNlz4",
        "outputId": "2dca206e-a3fb-4e08-fb50-9e3cea4d3426",
        "colab": {
          "base_uri": "https://localhost:8080/"
        }
      },
      "outputs": [
        {
          "output_type": "execute_result",
          "data": {
            "text/plain": [
              "(-1.5846426447961612,\n",
              " 0.491303279002367,\n",
              " 5,\n",
              " 18,\n",
              " {'1%': -3.859073285322359,\n",
              "  '5%': -3.0420456927297668,\n",
              "  '10%': -2.6609064197530863},\n",
              " 123.13868939189962)"
            ]
          },
          "metadata": {},
          "execution_count": 16
        }
      ],
      "source": [
        "adfuller(data['2018-05-14': '2018-05-14'])"
      ]
    },
    {
      "cell_type": "markdown",
      "metadata": {
        "id": "TSm6cEDwNlz4"
      },
      "source": [
        "Let's interpret the output:\n",
        "\n",
        "The p-value is 0.49, which is significantly greater than the accepted significance level of α = 0.05, from which we can conclude that we cannot reject the null hypothesis and our time series over a one-day period is non-stationary."
      ]
    },
    {
      "cell_type": "markdown",
      "metadata": {
        "id": "U8rKGkr3Nlz5"
      },
      "source": [
        "Decompose the time series into three components: trend, seasonality, and residual."
      ]
    },
    {
      "cell_type": "code",
      "execution_count": null,
      "metadata": {
        "id": "RecvbvAONlz5"
      },
      "outputs": [],
      "source": [
        "decomposed = seasonal_decompose(data)"
      ]
    },
    {
      "cell_type": "code",
      "execution_count": null,
      "metadata": {
        "id": "EVABn4T1Nlz5",
        "outputId": "760b0496-7bd7-4fe6-da4c-11156dac7d0f",
        "colab": {
          "base_uri": "https://localhost:8080/",
          "height": 807
        }
      },
      "outputs": [
        {
          "output_type": "display_data",
          "data": {
            "text/plain": [
              "<Figure size 600x800 with 3 Axes>"
            ],
            "image/png": "[encoded data removed]"
          },
          "metadata": {}
        }
      ],
      "source": [
        "plt.figure(figsize=(6,8))\n",
        "\n",
        "plt.subplot(311)\n",
        "decomposed.trend.plot(ax=plt.gca())\n",
        "plt.title('Trend')\n",
        "plt.ylabel('Number of orders (trend)')\n",
        "\n",
        "plt.subplot(312)\n",
        "decomposed.seasonal.plot(ax=plt.gca())\n",
        "plt.title('Seasonality')\n",
        "plt.ylabel('Number of orders (seasonal)')\n",
        "\n",
        "plt.subplot(313)\n",
        "decomposed.resid.plot(ax=plt.gca())\n",
        "plt.title('Residuals')\n",
        "plt.ylabel('Number of orders (resid)')\n",
        "\n",
        "plt.tight_layout()"
      ]
    },
    {
      "cell_type": "markdown",
      "metadata": {
        "id": "igx6hOXVNlz5"
      },
      "source": [
        "Let's look at the seasonal component over a two-day period (dates are taken randomly):"
      ]
    },
    {
      "cell_type": "code",
      "execution_count": null,
      "metadata": {
        "id": "J1AQjNYKNlz5",
        "outputId": "9bbb82c3-5776-4567-906d-677d8325330c",
        "colab": {
          "base_uri": "https://localhost:8080/",
          "height": 504
        }
      },
      "outputs": [
        {
          "output_type": "display_data",
          "data": {
            "text/plain": [
              "<Figure size 640x480 with 1 Axes>"
            ],
            "image/png": "[encoded data removed]"
          },
          "metadata": {}
        }
      ],
      "source": [
        "decomposed.seasonal['2018-05-14': '2018-05-15'].plot()\n",
        "plt.title('Seasonality per Day');\n",
        "plt.ylabel('Number of orders (seasonal)');"
      ]
    },
    {
      "cell_type": "markdown",
      "metadata": {
        "id": "9UB0RE5rNlz5"
      },
      "source": [
        "### Conclusions"
      ]
    },
    {
      "cell_type": "markdown",
      "metadata": {
        "id": "R1039MOTNlz6"
      },
      "source": [
        "- in the initial analysis of the entire time series with moving average and standard deviation, the time series does not look non-stationary, since its average changes over time. However, when analyzing the entire time series using the Dickey-Fuller test on all data for six months, it was concluded that the time series is stationary;\n",
        "- when analyzing the time series using the Dickey-Fuller test for a period of one day, it was concluded that the time series is not stationary;\n",
        "- there is a trend towards an increase in the number of taxi orders throughout the entire presented time series;\n",
        "- seasonality is not detected throughout the entire time series;\n",
        "- seasonality is detected within one day with obvious peak periods and periods of decline in passenger activity. It can be concluded that most planes arrive at midnight and around 17:00, where we observe peaks in orders, while at 6:00 in the morning a significant decline is visible and it can be concluded that there are significantly fewer flights during this period. We use this pattern when creating features with \"lagging\" values."
      ]
    },
    {
      "cell_type": "markdown",
      "metadata": {
        "id": "j9XlVUfKNlz6"
      },
      "source": [
        "## Training"
      ]
    },
    {
      "cell_type": "markdown",
      "metadata": {
        "id": "uiU0RVyQNlz6"
      },
      "source": [
        "Let's solve the problem of forecasting a time series with a forecast horizon of 1 hour."
      ]
    },
    {
      "cell_type": "markdown",
      "metadata": {
        "id": "OrEbK4CZNlz7"
      },
      "source": [
        "Let's create features for the forecast horizon in one step:"
      ]
    },
    {
      "cell_type": "code",
      "execution_count": null,
      "metadata": {
        "id": "0SSK428DNlz7"
      },
      "outputs": [],
      "source": [
        "# function for generating features for time series forecasting\n",
        "\n",
        "def make_features(data, max_lag, rolling_mean_size):\n",
        "    data_enrich = data.copy()\n",
        "\n",
        "    # calendar features\n",
        "    data_enrich['day'] = data_enrich.index.day\n",
        "    data_enrich['dayofweek'] = data_enrich.index.dayofweek\n",
        "\n",
        "    # lagging values\n",
        "    for lag in range(1, max_lag + 1):\n",
        "        data_enrich['lag_{}'.format(lag)] = data_enrich['num_orders'].shift(lag)\n",
        "\n",
        "    # moving average\n",
        "    data_enrich['rolling_mean'] = data_enrich['num_orders'].shift().rolling(rolling_mean_size).mean()\n",
        "\n",
        "    return data_enrich"
      ]
    },
    {
      "cell_type": "markdown",
      "metadata": {
        "id": "4q1urWtjNlz8"
      },
      "source": [
        "Let's create a function to prepare the data:"
      ]
    },
    {
      "cell_type": "code",
      "execution_count": null,
      "metadata": {
        "id": "M9mZ-5DfNlz8"
      },
      "outputs": [],
      "source": [
        "#data preparation function\n",
        "def prepare_data(data, max_lag, rolling_mean_size):\n",
        "    data = make_features(data, max_lag, rolling_mean_size)\n",
        "\n",
        "    train, test = train_test_split(\n",
        "        data,\n",
        "        shuffle=False,\n",
        "        test_size=TEST_SIZE,\n",
        "        random_state=RANDOM_STATE\n",
        "    )\n",
        "\n",
        "    train = train.dropna()\n",
        "\n",
        "    X_train = train.drop(['num_orders'], axis=1)\n",
        "    y_train = train['num_orders']\n",
        "\n",
        "    X_test = test.drop(['num_orders'], axis=1)\n",
        "    y_test = test['num_orders']\n",
        "\n",
        "    return X_train, X_test, y_train, y_test"
      ]
    },
    {
      "cell_type": "code",
      "execution_count": null,
      "metadata": {
        "id": "VEaS0TS-Nlz8"
      },
      "outputs": [],
      "source": [
        "X_train, X_test, y_train, y_test = prepare_data(data, 24, 3)"
      ]
    },
    {
      "cell_type": "code",
      "execution_count": null,
      "metadata": {
        "scrolled": true,
        "id": "fISY9lMkNlz8",
        "outputId": "acfb0918-b0cb-48bf-ffdd-804854e44ad5",
        "colab": {
          "base_uri": "https://localhost:8080/",
          "height": 267
        }
      },
      "outputs": [
        {
          "output_type": "execute_result",
          "data": {
            "text/plain": [
              "                     day  dayofweek  lag_1  lag_2  lag_3  lag_4  lag_5  lag_6  \\\n",
              "datetime                                                                        \n",
              "2018-03-02 00:00:00    2          4   58.0  113.0   66.0   61.0   45.0   73.0   \n",
              "2018-03-02 01:00:00    2          4   90.0   58.0  113.0   66.0   61.0   45.0   \n",
              "2018-03-02 02:00:00    2          4  120.0   90.0   58.0  113.0   66.0   61.0   \n",
              "2018-03-02 03:00:00    2          4   75.0  120.0   90.0   58.0  113.0   66.0   \n",
              "2018-03-02 04:00:00    2          4   64.0   75.0  120.0   90.0   58.0  113.0   \n",
              "\n",
              "                     lag_7  lag_8  ...  lag_16  lag_17  lag_18  lag_19  \\\n",
              "datetime                           ...                                   \n",
              "2018-03-02 00:00:00   44.0   43.0  ...    34.0    15.0    12.0     6.0   \n",
              "2018-03-02 01:00:00   73.0   44.0  ...    69.0    34.0    15.0    12.0   \n",
              "2018-03-02 02:00:00   45.0   73.0  ...    64.0    69.0    34.0    15.0   \n",
              "2018-03-02 03:00:00   61.0   45.0  ...    96.0    64.0    69.0    34.0   \n",
              "2018-03-02 04:00:00   66.0   61.0  ...    30.0    96.0    64.0    69.0   \n",
              "\n",
              "                     lag_20  lag_21  lag_22  lag_23  lag_24  rolling_mean  \n",
              "datetime                                                                   \n",
              "2018-03-02 00:00:00    43.0    66.0    71.0    85.0   124.0     79.000000  \n",
              "2018-03-02 01:00:00     6.0    43.0    66.0    71.0    85.0     87.000000  \n",
              "2018-03-02 02:00:00    12.0     6.0    43.0    66.0    71.0     89.333333  \n",
              "2018-03-02 03:00:00    15.0    12.0     6.0    43.0    66.0     95.000000  \n",
              "2018-03-02 04:00:00    34.0    15.0    12.0     6.0    43.0     86.333333  \n",
              "\n",
              "[5 rows x 27 columns]"
            ],
            "text/html": [
              "\n",
              "  <div id=\"df-01b073cf-fa43-4d2b-9caf-db2ea68469b5\" class=\"colab-df-container\">\n",
              "    <div>\n",
              "<style scoped>\n",
              "    .dataframe tbody tr th:only-of-type {\n",
              "        vertical-align: middle;\n",
              "    }\n",
              "\n",
              "    .dataframe tbody tr th {\n",
              "        vertical-align: top;\n",
              "    }\n",
              "\n",
              "    .dataframe thead th {\n",
              "        text-align: right;\n",
              "    }\n",
              "</style>\n",
              "<table border=\"1\" class=\"dataframe\">\n",
              "  <thead>\n",
              "    <tr style=\"text-align: right;\">\n",
              "      <th></th>\n",
              "      <th>day</th>\n",
              "      <th>dayofweek</th>\n",
              "      <th>lag_1</th>\n",
              "      <th>lag_2</th>\n",
              "      <th>lag_3</th>\n",
              "      <th>lag_4</th>\n",
              "      <th>lag_5</th>\n",
              "      <th>lag_6</th>\n",
              "      <th>lag_7</th>\n",
              "      <th>lag_8</th>\n",
              "      <th>...</th>\n",
              "      <th>lag_16</th>\n",
              "      <th>lag_17</th>\n",
              "      <th>lag_18</th>\n",
              "      <th>lag_19</th>\n",
              "      <th>lag_20</th>\n",
              "      <th>lag_21</th>\n",
              "      <th>lag_22</th>\n",
              "      <th>lag_23</th>\n",
              "      <th>lag_24</th>\n",
              "      <th>rolling_mean</th>\n",
              "    </tr>\n",
              "    <tr>\n",
              "      <th>datetime</th>\n",
              "      <th></th>\n",
              "      <th></th>\n",
              "      <th></th>\n",
              "      <th></th>\n",
              "      <th></th>\n",
              "      <th></th>\n",
              "      <th></th>\n",
              "      <th></th>\n",
              "      <th></th>\n",
              "      <th></th>\n",
              "      <th></th>\n",
              "      <th></th>\n",
              "      <th></th>\n",
              "      <th></th>\n",
              "      <th></th>\n",
              "      <th></th>\n",
              "      <th></th>\n",
              "      <th></th>\n",
              "      <th></th>\n",
              "      <th></th>\n",
              "      <th></th>\n",
              "    </tr>\n",
              "  </thead>\n",
              "  <tbody>\n",
              "    <tr>\n",
              "      <th>2018-03-02 00:00:00</th>\n",
              "      <td>2</td>\n",
              "      <td>4</td>\n",
              "      <td>58.0</td>\n",
              "      <td>113.0</td>\n",
              "      <td>66.0</td>\n",
              "      <td>61.0</td>\n",
              "      <td>45.0</td>\n",
              "      <td>73.0</td>\n",
              "      <td>44.0</td>\n",
              "      <td>43.0</td>\n",
              "      <td>...</td>\n",
              "      <td>34.0</td>\n",
              "      <td>15.0</td>\n",
              "      <td>12.0</td>\n",
              "      <td>6.0</td>\n",
              "      <td>43.0</td>\n",
              "      <td>66.0</td>\n",
              "      <td>71.0</td>\n",
              "      <td>85.0</td>\n",
              "      <td>124.0</td>\n",
              "      <td>79.000000</td>\n",
              "    </tr>\n",
              "    <tr>\n",
              "      <th>2018-03-02 01:00:00</th>\n",
              "      <td>2</td>\n",
              "      <td>4</td>\n",
              "      <td>90.0</td>\n",
              "      <td>58.0</td>\n",
              "      <td>113.0</td>\n",
              "      <td>66.0</td>\n",
              "      <td>61.0</td>\n",
              "      <td>45.0</td>\n",
              "      <td>73.0</td>\n",
              "      <td>44.0</td>\n",
              "      <td>...</td>\n",
              "      <td>69.0</td>\n",
              "      <td>34.0</td>\n",
              "      <td>15.0</td>\n",
              "      <td>12.0</td>\n",
              "      <td>6.0</td>\n",
              "      <td>43.0</td>\n",
              "      <td>66.0</td>\n",
              "      <td>71.0</td>\n",
              "      <td>85.0</td>\n",
              "      <td>87.000000</td>\n",
              "    </tr>\n",
              "    <tr>\n",
              "      <th>2018-03-02 02:00:00</th>\n",
              "      <td>2</td>\n",
              "      <td>4</td>\n",
              "      <td>120.0</td>\n",
              "      <td>90.0</td>\n",
              "      <td>58.0</td>\n",
              "      <td>113.0</td>\n",
              "      <td>66.0</td>\n",
              "      <td>61.0</td>\n",
              "      <td>45.0</td>\n",
              "      <td>73.0</td>\n",
              "      <td>...</td>\n",
              "      <td>64.0</td>\n",
              "      <td>69.0</td>\n",
              "      <td>34.0</td>\n",
              "      <td>15.0</td>\n",
              "      <td>12.0</td>\n",
              "      <td>6.0</td>\n",
              "      <td>43.0</td>\n",
              "      <td>66.0</td>\n",
              "      <td>71.0</td>\n",
              "      <td>89.333333</td>\n",
              "    </tr>\n",
              "    <tr>\n",
              "      <th>2018-03-02 03:00:00</th>\n",
              "      <td>2</td>\n",
              "      <td>4</td>\n",
              "      <td>75.0</td>\n",
              "      <td>120.0</td>\n",
              "      <td>90.0</td>\n",
              "      <td>58.0</td>\n",
              "      <td>113.0</td>\n",
              "      <td>66.0</td>\n",
              "      <td>61.0</td>\n",
              "      <td>45.0</td>\n",
              "      <td>...</td>\n",
              "      <td>96.0</td>\n",
              "      <td>64.0</td>\n",
              "      <td>69.0</td>\n",
              "      <td>34.0</td>\n",
              "      <td>15.0</td>\n",
              "      <td>12.0</td>\n",
              "      <td>6.0</td>\n",
              "      <td>43.0</td>\n",
              "      <td>66.0</td>\n",
              "      <td>95.000000</td>\n",
              "    </tr>\n",
              "    <tr>\n",
              "      <th>2018-03-02 04:00:00</th>\n",
              "      <td>2</td>\n",
              "      <td>4</td>\n",
              "      <td>64.0</td>\n",
              "      <td>75.0</td>\n",
              "      <td>120.0</td>\n",
              "      <td>90.0</td>\n",
              "      <td>58.0</td>\n",
              "      <td>113.0</td>\n",
              "      <td>66.0</td>\n",
              "      <td>61.0</td>\n",
              "      <td>...</td>\n",
              "      <td>30.0</td>\n",
              "      <td>96.0</td>\n",
              "      <td>64.0</td>\n",
              "      <td>69.0</td>\n",
              "      <td>34.0</td>\n",
              "      <td>15.0</td>\n",
              "      <td>12.0</td>\n",
              "      <td>6.0</td>\n",
              "      <td>43.0</td>\n",
              "      <td>86.333333</td>\n",
              "    </tr>\n",
              "  </tbody>\n",
              "</table>\n",
              "<p>5 rows × 27 columns</p>\n",
              "</div>\n",
              "    <div class=\"colab-df-buttons\">\n",
              "\n",
              "  <div class=\"colab-df-container\">\n",
              "    <button class=\"colab-df-convert\" onclick=\"convertToInteractive('df-01b073cf-fa43-4d2b-9caf-db2ea68469b5')\"\n",
              "            title=\"Convert this dataframe to an interactive table.\"\n",
              "            style=\"display:none;\">\n",
              "\n",
              "  <svg xmlns=\"http://www.w3.org/2000/svg\" height=\"24px\" viewBox=\"0 -960 960 960\">\n",
              "    <path d=\"M120-120v-720h720v720H120Zm60-500h600v-160H180v160Zm220 220h160v-160H400v160Zm0 220h160v-160H400v160ZM180-400h160v-160H180v160Zm440 0h160v-160H620v160ZM180-180h160v-160H180v160Zm440 0h160v-160H620v160Z\"/>\n",
              "  </svg>\n",
              "    </button>\n",
              "\n",
              "  <style>\n",
              "    .colab-df-container {\n",
              "      display:flex;\n",
              "      gap: 12px;\n",
              "    }\n",
              "\n",
              "    .colab-df-convert {\n",
              "      background-color: #E8F0FE;\n",
              "      border: none;\n",
              "      border-radius: 50%;\n",
              "      cursor: pointer;\n",
              "      display: none;\n",
              "      fill: #1967D2;\n",
              "      height: 32px;\n",
              "      padding: 0 0 0 0;\n",
              "      width: 32px;\n",
              "    }\n",
              "\n",
              "    .colab-df-convert:hover {\n",
              "      background-color: #E2EBFA;\n",
              "      box-shadow: 0px 1px 2px rgba(60, 64, 67, 0.3), 0px 1px 3px 1px rgba(60, 64, 67, 0.15);\n",
              "      fill: #174EA6;\n",
              "    }\n",
              "\n",
              "    .colab-df-buttons div {\n",
              "      margin-bottom: 4px;\n",
              "    }\n",
              "\n",
              "    [theme=dark] .colab-df-convert {\n",
              "      background-color: #3B4455;\n",
              "      fill: #D2E3FC;\n",
              "    }\n",
              "\n",
              "    [theme=dark] .colab-df-convert:hover {\n",
              "      background-color: #434B5C;\n",
              "      box-shadow: 0px 1px 3px 1px rgba(0, 0, 0, 0.15);\n",
              "      filter: drop-shadow(0px 1px 2px rgba(0, 0, 0, 0.3));\n",
              "      fill: #FFFFFF;\n",
              "    }\n",
              "  </style>\n",
              "\n",
              "    <script>\n",
              "      const buttonEl =\n",
              "        document.querySelector('#df-01b073cf-fa43-4d2b-9caf-db2ea68469b5 button.colab-df-convert');\n",
              "      buttonEl.style.display =\n",
              "        google.colab.kernel.accessAllowed ? 'block' : 'none';\n",
              "\n",
              "      async function convertToInteractive(key) {\n",
              "        const element = document.querySelector('#df-01b073cf-fa43-4d2b-9caf-db2ea68469b5');\n",
              "        const dataTable =\n",
              "          await google.colab.kernel.invokeFunction('convertToInteractive',\n",
              "                                                    [key], {});\n",
              "        if (!dataTable) return;\n",
              "\n",
              "        const docLinkHtml = 'Like what you see? Visit the ' +\n",
              "          '<a target=\"_blank\" href=https://colab.research.google.com/notebooks/data_table.ipynb>data table notebook</a>'\n",
              "          + ' to learn more about interactive tables.';\n",
              "        element.innerHTML = '';\n",
              "        dataTable['output_type'] = 'display_data';\n",
              "        await google.colab.output.renderOutput(dataTable, element);\n",
              "        const docLink = document.createElement('div');\n",
              "        docLink.innerHTML = docLinkHtml;\n",
              "        element.appendChild(docLink);\n",
              "      }\n",
              "    </script>\n",
              "  </div>\n",
              "\n",
              "\n",
              "<div id=\"df-62f55ca3-ea2f-44e0-a3df-1c964ad6e3e7\">\n",
              "  <button class=\"colab-df-quickchart\" onclick=\"quickchart('df-62f55ca3-ea2f-44e0-a3df-1c964ad6e3e7')\"\n",
              "            title=\"Suggest charts\"\n",
              "            style=\"display:none;\">\n",
              "\n",
              "<svg xmlns=\"http://www.w3.org/2000/svg\" height=\"24px\"viewBox=\"0 0 24 24\"\n",
              "     width=\"24px\">\n",
              "    <g>\n",
              "        <path d=\"M19 3H5c-1.1 0-2 .9-2 2v14c0 1.1.9 2 2 2h14c1.1 0 2-.9 2-2V5c0-1.1-.9-2-2-2zM9 17H7v-7h2v7zm4 0h-2V7h2v10zm4 0h-2v-4h2v4z\"/>\n",
              "    </g>\n",
              "</svg>\n",
              "  </button>\n",
              "\n",
              "<style>\n",
              "  .colab-df-quickchart {\n",
              "      --bg-color: #E8F0FE;\n",
              "      --fill-color: #1967D2;\n",
              "      --hover-bg-color: #E2EBFA;\n",
              "      --hover-fill-color: #174EA6;\n",
              "      --disabled-fill-color: #AAA;\n",
              "      --disabled-bg-color: #DDD;\n",
              "  }\n",
              "\n",
              "  [theme=dark] .colab-df-quickchart {\n",
              "      --bg-color: #3B4455;\n",
              "      --fill-color: #D2E3FC;\n",
              "      --hover-bg-color: #434B5C;\n",
              "      --hover-fill-color: #FFFFFF;\n",
              "      --disabled-bg-color: #3B4455;\n",
              "      --disabled-fill-color: #666;\n",
              "  }\n",
              "\n",
              "  .colab-df-quickchart {\n",
              "    background-color: var(--bg-color);\n",
              "    border: none;\n",
              "    border-radius: 50%;\n",
              "    cursor: pointer;\n",
              "    display: none;\n",
              "    fill: var(--fill-color);\n",
              "    height: 32px;\n",
              "    padding: 0;\n",
              "    width: 32px;\n",
              "  }\n",
              "\n",
              "  .colab-df-quickchart:hover {\n",
              "    background-color: var(--hover-bg-color);\n",
              "    box-shadow: 0 1px 2px rgba(60, 64, 67, 0.3), 0 1px 3px 1px rgba(60, 64, 67, 0.15);\n",
              "    fill: var(--button-hover-fill-color);\n",
              "  }\n",
              "\n",
              "  .colab-df-quickchart-complete:disabled,\n",
              "  .colab-df-quickchart-complete:disabled:hover {\n",
              "    background-color: var(--disabled-bg-color);\n",
              "    fill: var(--disabled-fill-color);\n",
              "    box-shadow: none;\n",
              "  }\n",
              "\n",
              "  .colab-df-spinner {\n",
              "    border: 2px solid var(--fill-color);\n",
              "    border-color: transparent;\n",
              "    border-bottom-color: var(--fill-color);\n",
              "    animation:\n",
              "      spin 1s steps(1) infinite;\n",
              "  }\n",
              "\n",
              "  @keyframes spin {\n",
              "    0% {\n",
              "      border-color: transparent;\n",
              "      border-bottom-color: var(--fill-color);\n",
              "      border-left-color: var(--fill-color);\n",
              "    }\n",
              "    20% {\n",
              "      border-color: transparent;\n",
              "      border-left-color: var(--fill-color);\n",
              "      border-top-color: var(--fill-color);\n",
              "    }\n",
              "    30% {\n",
              "      border-color: transparent;\n",
              "      border-left-color: var(--fill-color);\n",
              "      border-top-color: var(--fill-color);\n",
              "      border-right-color: var(--fill-color);\n",
              "    }\n",
              "    40% {\n",
              "      border-color: transparent;\n",
              "      border-right-color: var(--fill-color);\n",
              "      border-top-color: var(--fill-color);\n",
              "    }\n",
              "    60% {\n",
              "      border-color: transparent;\n",
              "      border-right-color: var(--fill-color);\n",
              "    }\n",
              "    80% {\n",
              "      border-color: transparent;\n",
              "      border-right-color: var(--fill-color);\n",
              "      border-bottom-color: var(--fill-color);\n",
              "    }\n",
              "    90% {\n",
              "      border-color: transparent;\n",
              "      border-bottom-color: var(--fill-color);\n",
              "    }\n",
              "  }\n",
              "</style>\n",
              "\n",
              "  <script>\n",
              "    async function quickchart(key) {\n",
              "      const quickchartButtonEl =\n",
              "        document.querySelector('#' + key + ' button');\n",
              "      quickchartButtonEl.disabled = true;  // To prevent multiple clicks.\n",
              "      quickchartButtonEl.classList.add('colab-df-spinner');\n",
              "      try {\n",
              "        const charts = await google.colab.kernel.invokeFunction(\n",
              "            'suggestCharts', [key], {});\n",
              "      } catch (error) {\n",
              "        console.error('Error during call to suggestCharts:', error);\n",
              "      }\n",
              "      quickchartButtonEl.classList.remove('colab-df-spinner');\n",
              "      quickchartButtonEl.classList.add('colab-df-quickchart-complete');\n",
              "    }\n",
              "    (() => {\n",
              "      let quickchartButtonEl =\n",
              "        document.querySelector('#df-62f55ca3-ea2f-44e0-a3df-1c964ad6e3e7 button');\n",
              "      quickchartButtonEl.style.display =\n",
              "        google.colab.kernel.accessAllowed ? 'block' : 'none';\n",
              "    })();\n",
              "  </script>\n",
              "</div>\n",
              "    </div>\n",
              "  </div>\n"
            ],
            "application/vnd.google.colaboratory.intrinsic+json": {
              "type": "dataframe",
              "variable_name": "X_train"
            }
          },
          "metadata": {},
          "execution_count": 23
        }
      ],
      "source": [
        "X_train.head()"
      ]
    },
    {
      "cell_type": "markdown",
      "metadata": {
        "id": "xMQLi_qiNlz8"
      },
      "source": [
        "Let's check the sizes and dimensions of the obtained samples:"
      ]
    },
    {
      "cell_type": "code",
      "execution_count": null,
      "metadata": {
        "scrolled": true,
        "id": "07b-vM6tNlz8",
        "outputId": "c2952141-1b8c-452f-93e2-a0b2a386cc5d",
        "colab": {
          "base_uri": "https://localhost:8080/"
        }
      },
      "outputs": [
        {
          "output_type": "execute_result",
          "data": {
            "text/plain": [
              "((3950, 27), (442, 27), (3950,), (442,))"
            ]
          },
          "metadata": {},
          "execution_count": 24
        }
      ],
      "source": [
        "X_train.shape, X_test.shape, y_train.shape, y_test.shape"
      ]
    },
    {
      "cell_type": "markdown",
      "metadata": {
        "id": "ZeHZcEZfNlz8"
      },
      "source": [
        "Let's create a pipeline for training models. Let's train 2 models: LinearRegression() and CatBoostRegressor()."
      ]
    },
    {
      "cell_type": "code",
      "execution_count": null,
      "metadata": {
        "id": "yneIx3bJNlz9"
      },
      "outputs": [],
      "source": [
        "pipe_final = Pipeline(\n",
        "    [\n",
        "        ('models', LinearRegression())\n",
        "    ]\n",
        ")"
      ]
    },
    {
      "cell_type": "code",
      "execution_count": null,
      "metadata": {
        "id": "ATxeRL6qNlz9"
      },
      "outputs": [],
      "source": [
        "param_grid = [\n",
        "    {\n",
        "        'models': [LinearRegression()]\n",
        "    },\n",
        "    {\n",
        "        'models': [CatBoostRegressor(random_seed=RANDOM_STATE, verbose=False)],\n",
        "        'models__iterations': [500, 1000],\n",
        "        'models__learning_rate': [0.01, 0.05],\n",
        "        'models__depth': [4, 6]\n",
        "    },\n",
        "]"
      ]
    },
    {
      "cell_type": "markdown",
      "metadata": {
        "id": "1yeMRSMYNlz9"
      },
      "source": [
        "Let's create a TimeSeriesSplit object with the number of blocks equal to 5, to pass to the `cv` parameter of GridSearchCV, in order to correctly take into account the time dependence in the data, eliminating their mixing."
      ]
    },
    {
      "cell_type": "code",
      "execution_count": null,
      "metadata": {
        "id": "IfD7apGwNlz9"
      },
      "outputs": [],
      "source": [
        "tscv = TimeSeriesSplit(n_splits=3)"
      ]
    },
    {
      "cell_type": "code",
      "execution_count": null,
      "metadata": {
        "id": "4-oo9E2JNlz9"
      },
      "outputs": [],
      "source": [
        "grid_search = GridSearchCV(\n",
        "    pipe_final,\n",
        "    param_grid=param_grid,\n",
        "    cv=tscv,\n",
        "    scoring='neg_root_mean_squared_error',\n",
        "    n_jobs=-1\n",
        ")"
      ]
    },
    {
      "cell_type": "code",
      "execution_count": null,
      "metadata": {
        "id": "O5Nh3nLgNlz_",
        "outputId": "cf93a180-1d7a-4288-f7ab-c2ead5ce6922",
        "colab": {
          "base_uri": "https://localhost:8080/",
          "height": 136
        }
      },
      "outputs": [
        {
          "output_type": "execute_result",
          "data": {
            "text/plain": [
              "GridSearchCV(cv=TimeSeriesSplit(gap=0, max_train_size=None, n_splits=3, test_size=None),\n",
              "             estimator=Pipeline(steps=[('models', LinearRegression())]),\n",
              "             n_jobs=-1,\n",
              "             param_grid=[{'models': [LinearRegression()]},\n",
              "                         {'models': [<catboost.core.CatBoostRegressor object at 0x7a326b2c4280>],\n",
              "                          'models__depth': [4, 6],\n",
              "                          'models__iterations': [500, 1000],\n",
              "                          'models__learning_rate': [0.01, 0.05]}],\n",
              "             scoring='neg_root_mean_squared_error')"
            ],
            "text/html": [
              "<style>#sk-container-id-1 {\n",
              "  /* Definition of color scheme common for light and dark mode */\n",
              "  --sklearn-color-text: black;\n",
              "  --sklearn-color-line: gray;\n",
              "  /* Definition of color scheme for unfitted estimators */\n",
              "  --sklearn-color-unfitted-level-0: #fff5e6;\n",
              "  --sklearn-color-unfitted-level-1: #f6e4d2;\n",
              "  --sklearn-color-unfitted-level-2: #ffe0b3;\n",
              "  --sklearn-color-unfitted-level-3: chocolate;\n",
              "  /* Definition of color scheme for fitted estimators */\n",
              "  --sklearn-color-fitted-level-0: #f0f8ff;\n",
              "  --sklearn-color-fitted-level-1: #d4ebff;\n",
              "  --sklearn-color-fitted-level-2: #b3dbfd;\n",
              "  --sklearn-color-fitted-level-3: cornflowerblue;\n",
              "\n",
              "  /* Specific color for light theme */\n",
              "  --sklearn-color-text-on-default-background: var(--sg-text-color, var(--theme-code-foreground, var(--jp-content-font-color1, black)));\n",
              "  --sklearn-color-background: var(--sg-background-color, var(--theme-background, var(--jp-layout-color0, white)));\n",
              "  --sklearn-color-border-box: var(--sg-text-color, var(--theme-code-foreground, var(--jp-content-font-color1, black)));\n",
              "  --sklearn-color-icon: #696969;\n",
              "\n",
              "  @media (prefers-color-scheme: dark) {\n",
              "    /* Redefinition of color scheme for dark theme */\n",
              "    --sklearn-color-text-on-default-background: var(--sg-text-color, var(--theme-code-foreground, var(--jp-content-font-color1, white)));\n",
              "    --sklearn-color-background: var(--sg-background-color, var(--theme-background, var(--jp-layout-color0, #111)));\n",
              "    --sklearn-color-border-box: var(--sg-text-color, var(--theme-code-foreground, var(--jp-content-font-color1, white)));\n",
              "    --sklearn-color-icon: #878787;\n",
              "  }\n",
              "}\n",
              "\n",
              "#sk-container-id-1 {\n",
              "  color: var(--sklearn-color-text);\n",
              "}\n",
              "\n",
              "#sk-container-id-1 pre {\n",
              "  padding: 0;\n",
              "}\n",
              "\n",
              "#sk-container-id-1 input.sk-hidden--visually {\n",
              "  border: 0;\n",
              "  clip: rect(1px 1px 1px 1px);\n",
              "  clip: rect(1px, 1px, 1px, 1px);\n",
              "  height: 1px;\n",
              "  margin: -1px;\n",
              "  overflow: hidden;\n",
              "  padding: 0;\n",
              "  position: absolute;\n",
              "  width: 1px;\n",
              "}\n",
              "\n",
              "#sk-container-id-1 div.sk-dashed-wrapped {\n",
              "  border: 1px dashed var(--sklearn-color-line);\n",
              "  margin: 0 0.4em 0.5em 0.4em;\n",
              "  box-sizing: border-box;\n",
              "  padding-bottom: 0.4em;\n",
              "  background-color: var(--sklearn-color-background);\n",
              "}\n",
              "\n",
              "#sk-container-id-1 div.sk-container {\n",
              "  /* jupyter's `normalize.less` sets `[hidden] { display: none; }`\n",
              "     but bootstrap.min.css set `[hidden] { display: none !important; }`\n",
              "     so we also need the `!important` here to be able to override the\n",
              "     default hidden behavior on the sphinx rendered scikit-learn.org.\n",
              "     See: https://github.com/scikit-learn/scikit-learn/issues/21755 */\n",
              "  display: inline-block !important;\n",
              "  position: relative;\n",
              "}\n",
              "\n",
              "#sk-container-id-1 div.sk-text-repr-fallback {\n",
              "  display: none;\n",
              "}\n",
              "\n",
              "div.sk-parallel-item,\n",
              "div.sk-serial,\n",
              "div.sk-item {\n",
              "  /* draw centered vertical line to link estimators */\n",
              "  background-image: linear-gradient(var(--sklearn-color-text-on-default-background), var(--sklearn-color-text-on-default-background));\n",
              "  background-size: 2px 100%;\n",
              "  background-repeat: no-repeat;\n",
              "  background-position: center center;\n",
              "}\n",
              "\n",
              "/* Parallel-specific style estimator block */\n",
              "\n",
              "#sk-container-id-1 div.sk-parallel-item::after {\n",
              "  content: \"\";\n",
              "  width: 100%;\n",
              "  border-bottom: 2px solid var(--sklearn-color-text-on-default-background);\n",
              "  flex-grow: 1;\n",
              "}\n",
              "\n",
              "#sk-container-id-1 div.sk-parallel {\n",
              "  display: flex;\n",
              "  align-items: stretch;\n",
              "  justify-content: center;\n",
              "  background-color: var(--sklearn-color-background);\n",
              "  position: relative;\n",
              "}\n",
              "\n",
              "#sk-container-id-1 div.sk-parallel-item {\n",
              "  display: flex;\n",
              "  flex-direction: column;\n",
              "}\n",
              "\n",
              "#sk-container-id-1 div.sk-parallel-item:first-child::after {\n",
              "  align-self: flex-end;\n",
              "  width: 50%;\n",
              "}\n",
              "\n",
              "#sk-container-id-1 div.sk-parallel-item:last-child::after {\n",
              "  align-self: flex-start;\n",
              "  width: 50%;\n",
              "}\n",
              "\n",
              "#sk-container-id-1 div.sk-parallel-item:only-child::after {\n",
              "  width: 0;\n",
              "}\n",
              "\n",
              "/* Serial-specific style estimator block */\n",
              "\n",
              "#sk-container-id-1 div.sk-serial {\n",
              "  display: flex;\n",
              "  flex-direction: column;\n",
              "  align-items: center;\n",
              "  background-color: var(--sklearn-color-background);\n",
              "  padding-right: 1em;\n",
              "  padding-left: 1em;\n",
              "}\n",
              "\n",
              "\n",
              "/* Toggleable style: style used for estimator/Pipeline/ColumnTransformer box that is\n",
              "clickable and can be expanded/collapsed.\n",
              "- Pipeline and ColumnTransformer use this feature and define the default style\n",
              "- Estimators will overwrite some part of the style using the `sk-estimator` class\n",
              "*/\n",
              "\n",
              "/* Pipeline and ColumnTransformer style (default) */\n",
              "\n",
              "#sk-container-id-1 div.sk-toggleable {\n",
              "  /* Default theme specific background. It is overwritten whether we have a\n",
              "  specific estimator or a Pipeline/ColumnTransformer */\n",
              "  background-color: var(--sklearn-color-background);\n",
              "}\n",
              "\n",
              "/* Toggleable label */\n",
              "#sk-container-id-1 label.sk-toggleable__label {\n",
              "  cursor: pointer;\n",
              "  display: block;\n",
              "  width: 100%;\n",
              "  margin-bottom: 0;\n",
              "  padding: 0.5em;\n",
              "  box-sizing: border-box;\n",
              "  text-align: center;\n",
              "}\n",
              "\n",
              "#sk-container-id-1 label.sk-toggleable__label-arrow:before {\n",
              "  /* Arrow on the left of the label */\n",
              "  content: \"▸\";\n",
              "  float: left;\n",
              "  margin-right: 0.25em;\n",
              "  color: var(--sklearn-color-icon);\n",
              "}\n",
              "\n",
              "#sk-container-id-1 label.sk-toggleable__label-arrow:hover:before {\n",
              "  color: var(--sklearn-color-text);\n",
              "}\n",
              "\n",
              "/* Toggleable content - dropdown */\n",
              "\n",
              "#sk-container-id-1 div.sk-toggleable__content {\n",
              "  max-height: 0;\n",
              "  max-width: 0;\n",
              "  overflow: hidden;\n",
              "  text-align: left;\n",
              "  /* unfitted */\n",
              "  background-color: var(--sklearn-color-unfitted-level-0);\n",
              "}\n",
              "\n",
              "#sk-container-id-1 div.sk-toggleable__content.fitted {\n",
              "  /* fitted */\n",
              "  background-color: var(--sklearn-color-fitted-level-0);\n",
              "}\n",
              "\n",
              "#sk-container-id-1 div.sk-toggleable__content pre {\n",
              "  margin: 0.2em;\n",
              "  border-radius: 0.25em;\n",
              "  color: var(--sklearn-color-text);\n",
              "  /* unfitted */\n",
              "  background-color: var(--sklearn-color-unfitted-level-0);\n",
              "}\n",
              "\n",
              "#sk-container-id-1 div.sk-toggleable__content.fitted pre {\n",
              "  /* unfitted */\n",
              "  background-color: var(--sklearn-color-fitted-level-0);\n",
              "}\n",
              "\n",
              "#sk-container-id-1 input.sk-toggleable__control:checked~div.sk-toggleable__content {\n",
              "  /* Expand drop-down */\n",
              "  max-height: 200px;\n",
              "  max-width: 100%;\n",
              "  overflow: auto;\n",
              "}\n",
              "\n",
              "#sk-container-id-1 input.sk-toggleable__control:checked~label.sk-toggleable__label-arrow:before {\n",
              "  content: \"▾\";\n",
              "}\n",
              "\n",
              "/* Pipeline/ColumnTransformer-specific style */\n",
              "\n",
              "#sk-container-id-1 div.sk-label input.sk-toggleable__control:checked~label.sk-toggleable__label {\n",
              "  color: var(--sklearn-color-text);\n",
              "  background-color: var(--sklearn-color-unfitted-level-2);\n",
              "}\n",
              "\n",
              "#sk-container-id-1 div.sk-label.fitted input.sk-toggleable__control:checked~label.sk-toggleable__label {\n",
              "  background-color: var(--sklearn-color-fitted-level-2);\n",
              "}\n",
              "\n",
              "/* Estimator-specific style */\n",
              "\n",
              "/* Colorize estimator box */\n",
              "#sk-container-id-1 div.sk-estimator input.sk-toggleable__control:checked~label.sk-toggleable__label {\n",
              "  /* unfitted */\n",
              "  background-color: var(--sklearn-color-unfitted-level-2);\n",
              "}\n",
              "\n",
              "#sk-container-id-1 div.sk-estimator.fitted input.sk-toggleable__control:checked~label.sk-toggleable__label {\n",
              "  /* fitted */\n",
              "  background-color: var(--sklearn-color-fitted-level-2);\n",
              "}\n",
              "\n",
              "#sk-container-id-1 div.sk-label label.sk-toggleable__label,\n",
              "#sk-container-id-1 div.sk-label label {\n",
              "  /* The background is the default theme color */\n",
              "  color: var(--sklearn-color-text-on-default-background);\n",
              "}\n",
              "\n",
              "/* On hover, darken the color of the background */\n",
              "#sk-container-id-1 div.sk-label:hover label.sk-toggleable__label {\n",
              "  color: var(--sklearn-color-text);\n",
              "  background-color: var(--sklearn-color-unfitted-level-2);\n",
              "}\n",
              "\n",
              "/* Label box, darken color on hover, fitted */\n",
              "#sk-container-id-1 div.sk-label.fitted:hover label.sk-toggleable__label.fitted {\n",
              "  color: var(--sklearn-color-text);\n",
              "  background-color: var(--sklearn-color-fitted-level-2);\n",
              "}\n",
              "\n",
              "/* Estimator label */\n",
              "\n",
              "#sk-container-id-1 div.sk-label label {\n",
              "  font-family: monospace;\n",
              "  font-weight: bold;\n",
              "  display: inline-block;\n",
              "  line-height: 1.2em;\n",
              "}\n",
              "\n",
              "#sk-container-id-1 div.sk-label-container {\n",
              "  text-align: center;\n",
              "}\n",
              "\n",
              "/* Estimator-specific */\n",
              "#sk-container-id-1 div.sk-estimator {\n",
              "  font-family: monospace;\n",
              "  border: 1px dotted var(--sklearn-color-border-box);\n",
              "  border-radius: 0.25em;\n",
              "  box-sizing: border-box;\n",
              "  margin-bottom: 0.5em;\n",
              "  /* unfitted */\n",
              "  background-color: var(--sklearn-color-unfitted-level-0);\n",
              "}\n",
              "\n",
              "#sk-container-id-1 div.sk-estimator.fitted {\n",
              "  /* fitted */\n",
              "  background-color: var(--sklearn-color-fitted-level-0);\n",
              "}\n",
              "\n",
              "/* on hover */\n",
              "#sk-container-id-1 div.sk-estimator:hover {\n",
              "  /* unfitted */\n",
              "  background-color: var(--sklearn-color-unfitted-level-2);\n",
              "}\n",
              "\n",
              "#sk-container-id-1 div.sk-estimator.fitted:hover {\n",
              "  /* fitted */\n",
              "  background-color: var(--sklearn-color-fitted-level-2);\n",
              "}\n",
              "\n",
              "/* Specification for estimator info (e.g. \"i\" and \"?\") */\n",
              "\n",
              "/* Common style for \"i\" and \"?\" */\n",
              "\n",
              ".sk-estimator-doc-link,\n",
              "a:link.sk-estimator-doc-link,\n",
              "a:visited.sk-estimator-doc-link {\n",
              "  float: right;\n",
              "  font-size: smaller;\n",
              "  line-height: 1em;\n",
              "  font-family: monospace;\n",
              "  background-color: var(--sklearn-color-background);\n",
              "  border-radius: 1em;\n",
              "  height: 1em;\n",
              "  width: 1em;\n",
              "  text-decoration: none !important;\n",
              "  margin-left: 1ex;\n",
              "  /* unfitted */\n",
              "  border: var(--sklearn-color-unfitted-level-1) 1pt solid;\n",
              "  color: var(--sklearn-color-unfitted-level-1);\n",
              "}\n",
              "\n",
              ".sk-estimator-doc-link.fitted,\n",
              "a:link.sk-estimator-doc-link.fitted,\n",
              "a:visited.sk-estimator-doc-link.fitted {\n",
              "  /* fitted */\n",
              "  border: var(--sklearn-color-fitted-level-1) 1pt solid;\n",
              "  color: var(--sklearn-color-fitted-level-1);\n",
              "}\n",
              "\n",
              "/* On hover */\n",
              "div.sk-estimator:hover .sk-estimator-doc-link:hover,\n",
              ".sk-estimator-doc-link:hover,\n",
              "div.sk-label-container:hover .sk-estimator-doc-link:hover,\n",
              ".sk-estimator-doc-link:hover {\n",
              "  /* unfitted */\n",
              "  background-color: var(--sklearn-color-unfitted-level-3);\n",
              "  color: var(--sklearn-color-background);\n",
              "  text-decoration: none;\n",
              "}\n",
              "\n",
              "div.sk-estimator.fitted:hover .sk-estimator-doc-link.fitted:hover,\n",
              ".sk-estimator-doc-link.fitted:hover,\n",
              "div.sk-label-container:hover .sk-estimator-doc-link.fitted:hover,\n",
              ".sk-estimator-doc-link.fitted:hover {\n",
              "  /* fitted */\n",
              "  background-color: var(--sklearn-color-fitted-level-3);\n",
              "  color: var(--sklearn-color-background);\n",
              "  text-decoration: none;\n",
              "}\n",
              "\n",
              "/* Span, style for the box shown on hovering the info icon */\n",
              ".sk-estimator-doc-link span {\n",
              "  display: none;\n",
              "  z-index: 9999;\n",
              "  position: relative;\n",
              "  font-weight: normal;\n",
              "  right: .2ex;\n",
              "  padding: .5ex;\n",
              "  margin: .5ex;\n",
              "  width: min-content;\n",
              "  min-width: 20ex;\n",
              "  max-width: 50ex;\n",
              "  color: var(--sklearn-color-text);\n",
              "  box-shadow: 2pt 2pt 4pt #999;\n",
              "  /* unfitted */\n",
              "  background: var(--sklearn-color-unfitted-level-0);\n",
              "  border: .5pt solid var(--sklearn-color-unfitted-level-3);\n",
              "}\n",
              "\n",
              ".sk-estimator-doc-link.fitted span {\n",
              "  /* fitted */\n",
              "  background: var(--sklearn-color-fitted-level-0);\n",
              "  border: var(--sklearn-color-fitted-level-3);\n",
              "}\n",
              "\n",
              ".sk-estimator-doc-link:hover span {\n",
              "  display: block;\n",
              "}\n",
              "\n",
              "/* \"?\"-specific style due to the `<a>` HTML tag */\n",
              "\n",
              "#sk-container-id-1 a.estimator_doc_link {\n",
              "  float: right;\n",
              "  font-size: 1rem;\n",
              "  line-height: 1em;\n",
              "  font-family: monospace;\n",
              "  background-color: var(--sklearn-color-background);\n",
              "  border-radius: 1rem;\n",
              "  height: 1rem;\n",
              "  width: 1rem;\n",
              "  text-decoration: none;\n",
              "  /* unfitted */\n",
              "  color: var(--sklearn-color-unfitted-level-1);\n",
              "  border: var(--sklearn-color-unfitted-level-1) 1pt solid;\n",
              "}\n",
              "\n",
              "#sk-container-id-1 a.estimator_doc_link.fitted {\n",
              "  /* fitted */\n",
              "  border: var(--sklearn-color-fitted-level-1) 1pt solid;\n",
              "  color: var(--sklearn-color-fitted-level-1);\n",
              "}\n",
              "\n",
              "/* On hover */\n",
              "#sk-container-id-1 a.estimator_doc_link:hover {\n",
              "  /* unfitted */\n",
              "  background-color: var(--sklearn-color-unfitted-level-3);\n",
              "  color: var(--sklearn-color-background);\n",
              "  text-decoration: none;\n",
              "}\n",
              "\n",
              "#sk-container-id-1 a.estimator_doc_link.fitted:hover {\n",
              "  /* fitted */\n",
              "  background-color: var(--sklearn-color-fitted-level-3);\n",
              "}\n",
              "</style><div id=\"sk-container-id-1\" class=\"sk-top-container\"><div class=\"sk-text-repr-fallback\"><pre>GridSearchCV(cv=TimeSeriesSplit(gap=0, max_train_size=None, n_splits=3, test_size=None),\n",
              "             estimator=Pipeline(steps=[(&#x27;models&#x27;, LinearRegression())]),\n",
              "             n_jobs=-1,\n",
              "             param_grid=[{&#x27;models&#x27;: [LinearRegression()]},\n",
              "                         {&#x27;models&#x27;: [&lt;catboost.core.CatBoostRegressor object at 0x7a326b2c4280&gt;],\n",
              "                          &#x27;models__depth&#x27;: [4, 6],\n",
              "                          &#x27;models__iterations&#x27;: [500, 1000],\n",
              "                          &#x27;models__learning_rate&#x27;: [0.01, 0.05]}],\n",
              "             scoring=&#x27;neg_root_mean_squared_error&#x27;)</pre><b>In a Jupyter environment, please rerun this cell to show the HTML representation or trust the notebook. <br />On GitHub, the HTML representation is unable to render, please try loading this page with nbviewer.org.</b></div><div class=\"sk-container\" hidden><div class=\"sk-item sk-dashed-wrapped\"><div class=\"sk-label-container\"><div class=\"sk-label fitted sk-toggleable\"><input class=\"sk-toggleable__control sk-hidden--visually\" id=\"sk-estimator-id-1\" type=\"checkbox\" ><label for=\"sk-estimator-id-1\" class=\"sk-toggleable__label fitted sk-toggleable__label-arrow fitted\">&nbsp;&nbsp;GridSearchCV<a class=\"sk-estimator-doc-link fitted\" rel=\"noreferrer\" target=\"_blank\" href=\"https://scikit-learn.org/1.5/modules/generated/sklearn.model_selection.GridSearchCV.html\">?<span>Documentation for GridSearchCV</span></a><span class=\"sk-estimator-doc-link fitted\">i<span>Fitted</span></span></label><div class=\"sk-toggleable__content fitted\"><pre>GridSearchCV(cv=TimeSeriesSplit(gap=0, max_train_size=None, n_splits=3, test_size=None),\n",
              "             estimator=Pipeline(steps=[(&#x27;models&#x27;, LinearRegression())]),\n",
              "             n_jobs=-1,\n",
              "             param_grid=[{&#x27;models&#x27;: [LinearRegression()]},\n",
              "                         {&#x27;models&#x27;: [&lt;catboost.core.CatBoostRegressor object at 0x7a326b2c4280&gt;],\n",
              "                          &#x27;models__depth&#x27;: [4, 6],\n",
              "                          &#x27;models__iterations&#x27;: [500, 1000],\n",
              "                          &#x27;models__learning_rate&#x27;: [0.01, 0.05]}],\n",
              "             scoring=&#x27;neg_root_mean_squared_error&#x27;)</pre></div> </div></div><div class=\"sk-parallel\"><div class=\"sk-parallel-item\"><div class=\"sk-item\"><div class=\"sk-label-container\"><div class=\"sk-label fitted sk-toggleable\"><input class=\"sk-toggleable__control sk-hidden--visually\" id=\"sk-estimator-id-2\" type=\"checkbox\" ><label for=\"sk-estimator-id-2\" class=\"sk-toggleable__label fitted sk-toggleable__label-arrow fitted\">best_estimator_: Pipeline</label><div class=\"sk-toggleable__content fitted\"><pre>Pipeline(steps=[(&#x27;models&#x27;,\n",
              "                 &lt;catboost.core.CatBoostRegressor object at 0x7a3247463490&gt;)])</pre></div> </div></div><div class=\"sk-serial\"><div class=\"sk-item\"><div class=\"sk-serial\"><div class=\"sk-item\"><div class=\"sk-estimator fitted sk-toggleable\"><input class=\"sk-toggleable__control sk-hidden--visually\" id=\"sk-estimator-id-3\" type=\"checkbox\" ><label for=\"sk-estimator-id-3\" class=\"sk-toggleable__label fitted sk-toggleable__label-arrow fitted\">CatBoostRegressor</label><div class=\"sk-toggleable__content fitted\"><pre>&lt;catboost.core.CatBoostRegressor object at 0x7a3247463490&gt;</pre></div> </div></div></div></div></div></div></div></div></div></div></div>"
            ]
          },
          "metadata": {},
          "execution_count": 29
        }
      ],
      "source": [
        "grid_search.fit(X_train, y_train)"
      ]
    },
    {
      "cell_type": "code",
      "execution_count": null,
      "metadata": {
        "id": "I2npoEYINlz_",
        "outputId": "028461be-4588-47d0-a039-718cce38431c",
        "colab": {
          "base_uri": "https://localhost:8080/",
          "height": 103
        }
      },
      "outputs": [
        {
          "output_type": "execute_result",
          "data": {
            "text/plain": [
              "Pipeline(steps=[('models',\n",
              "                 <catboost.core.CatBoostRegressor object at 0x7a3247463490>)])"
            ],
            "text/html": [
              "<style>#sk-container-id-2 {\n",
              "  /* Definition of color scheme common for light and dark mode */\n",
              "  --sklearn-color-text: black;\n",
              "  --sklearn-color-line: gray;\n",
              "  /* Definition of color scheme for unfitted estimators */\n",
              "  --sklearn-color-unfitted-level-0: #fff5e6;\n",
              "  --sklearn-color-unfitted-level-1: #f6e4d2;\n",
              "  --sklearn-color-unfitted-level-2: #ffe0b3;\n",
              "  --sklearn-color-unfitted-level-3: chocolate;\n",
              "  /* Definition of color scheme for fitted estimators */\n",
              "  --sklearn-color-fitted-level-0: #f0f8ff;\n",
              "  --sklearn-color-fitted-level-1: #d4ebff;\n",
              "  --sklearn-color-fitted-level-2: #b3dbfd;\n",
              "  --sklearn-color-fitted-level-3: cornflowerblue;\n",
              "\n",
              "  /* Specific color for light theme */\n",
              "  --sklearn-color-text-on-default-background: var(--sg-text-color, var(--theme-code-foreground, var(--jp-content-font-color1, black)));\n",
              "  --sklearn-color-background: var(--sg-background-color, var(--theme-background, var(--jp-layout-color0, white)));\n",
              "  --sklearn-color-border-box: var(--sg-text-color, var(--theme-code-foreground, var(--jp-content-font-color1, black)));\n",
              "  --sklearn-color-icon: #696969;\n",
              "\n",
              "  @media (prefers-color-scheme: dark) {\n",
              "    /* Redefinition of color scheme for dark theme */\n",
              "    --sklearn-color-text-on-default-background: var(--sg-text-color, var(--theme-code-foreground, var(--jp-content-font-color1, white)));\n",
              "    --sklearn-color-background: var(--sg-background-color, var(--theme-background, var(--jp-layout-color0, #111)));\n",
              "    --sklearn-color-border-box: var(--sg-text-color, var(--theme-code-foreground, var(--jp-content-font-color1, white)));\n",
              "    --sklearn-color-icon: #878787;\n",
              "  }\n",
              "}\n",
              "\n",
              "#sk-container-id-2 {\n",
              "  color: var(--sklearn-color-text);\n",
              "}\n",
              "\n",
              "#sk-container-id-2 pre {\n",
              "  padding: 0;\n",
              "}\n",
              "\n",
              "#sk-container-id-2 input.sk-hidden--visually {\n",
              "  border: 0;\n",
              "  clip: rect(1px 1px 1px 1px);\n",
              "  clip: rect(1px, 1px, 1px, 1px);\n",
              "  height: 1px;\n",
              "  margin: -1px;\n",
              "  overflow: hidden;\n",
              "  padding: 0;\n",
              "  position: absolute;\n",
              "  width: 1px;\n",
              "}\n",
              "\n",
              "#sk-container-id-2 div.sk-dashed-wrapped {\n",
              "  border: 1px dashed var(--sklearn-color-line);\n",
              "  margin: 0 0.4em 0.5em 0.4em;\n",
              "  box-sizing: border-box;\n",
              "  padding-bottom: 0.4em;\n",
              "  background-color: var(--sklearn-color-background);\n",
              "}\n",
              "\n",
              "#sk-container-id-2 div.sk-container {\n",
              "  /* jupyter's `normalize.less` sets `[hidden] { display: none; }`\n",
              "     but bootstrap.min.css set `[hidden] { display: none !important; }`\n",
              "     so we also need the `!important` here to be able to override the\n",
              "     default hidden behavior on the sphinx rendered scikit-learn.org.\n",
              "     See: https://github.com/scikit-learn/scikit-learn/issues/21755 */\n",
              "  display: inline-block !important;\n",
              "  position: relative;\n",
              "}\n",
              "\n",
              "#sk-container-id-2 div.sk-text-repr-fallback {\n",
              "  display: none;\n",
              "}\n",
              "\n",
              "div.sk-parallel-item,\n",
              "div.sk-serial,\n",
              "div.sk-item {\n",
              "  /* draw centered vertical line to link estimators */\n",
              "  background-image: linear-gradient(var(--sklearn-color-text-on-default-background), var(--sklearn-color-text-on-default-background));\n",
              "  background-size: 2px 100%;\n",
              "  background-repeat: no-repeat;\n",
              "  background-position: center center;\n",
              "}\n",
              "\n",
              "/* Parallel-specific style estimator block */\n",
              "\n",
              "#sk-container-id-2 div.sk-parallel-item::after {\n",
              "  content: \"\";\n",
              "  width: 100%;\n",
              "  border-bottom: 2px solid var(--sklearn-color-text-on-default-background);\n",
              "  flex-grow: 1;\n",
              "}\n",
              "\n",
              "#sk-container-id-2 div.sk-parallel {\n",
              "  display: flex;\n",
              "  align-items: stretch;\n",
              "  justify-content: center;\n",
              "  background-color: var(--sklearn-color-background);\n",
              "  position: relative;\n",
              "}\n",
              "\n",
              "#sk-container-id-2 div.sk-parallel-item {\n",
              "  display: flex;\n",
              "  flex-direction: column;\n",
              "}\n",
              "\n",
              "#sk-container-id-2 div.sk-parallel-item:first-child::after {\n",
              "  align-self: flex-end;\n",
              "  width: 50%;\n",
              "}\n",
              "\n",
              "#sk-container-id-2 div.sk-parallel-item:last-child::after {\n",
              "  align-self: flex-start;\n",
              "  width: 50%;\n",
              "}\n",
              "\n",
              "#sk-container-id-2 div.sk-parallel-item:only-child::after {\n",
              "  width: 0;\n",
              "}\n",
              "\n",
              "/* Serial-specific style estimator block */\n",
              "\n",
              "#sk-container-id-2 div.sk-serial {\n",
              "  display: flex;\n",
              "  flex-direction: column;\n",
              "  align-items: center;\n",
              "  background-color: var(--sklearn-color-background);\n",
              "  padding-right: 1em;\n",
              "  padding-left: 1em;\n",
              "}\n",
              "\n",
              "\n",
              "/* Toggleable style: style used for estimator/Pipeline/ColumnTransformer box that is\n",
              "clickable and can be expanded/collapsed.\n",
              "- Pipeline and ColumnTransformer use this feature and define the default style\n",
              "- Estimators will overwrite some part of the style using the `sk-estimator` class\n",
              "*/\n",
              "\n",
              "/* Pipeline and ColumnTransformer style (default) */\n",
              "\n",
              "#sk-container-id-2 div.sk-toggleable {\n",
              "  /* Default theme specific background. It is overwritten whether we have a\n",
              "  specific estimator or a Pipeline/ColumnTransformer */\n",
              "  background-color: var(--sklearn-color-background);\n",
              "}\n",
              "\n",
              "/* Toggleable label */\n",
              "#sk-container-id-2 label.sk-toggleable__label {\n",
              "  cursor: pointer;\n",
              "  display: block;\n",
              "  width: 100%;\n",
              "  margin-bottom: 0;\n",
              "  padding: 0.5em;\n",
              "  box-sizing: border-box;\n",
              "  text-align: center;\n",
              "}\n",
              "\n",
              "#sk-container-id-2 label.sk-toggleable__label-arrow:before {\n",
              "  /* Arrow on the left of the label */\n",
              "  content: \"▸\";\n",
              "  float: left;\n",
              "  margin-right: 0.25em;\n",
              "  color: var(--sklearn-color-icon);\n",
              "}\n",
              "\n",
              "#sk-container-id-2 label.sk-toggleable__label-arrow:hover:before {\n",
              "  color: var(--sklearn-color-text);\n",
              "}\n",
              "\n",
              "/* Toggleable content - dropdown */\n",
              "\n",
              "#sk-container-id-2 div.sk-toggleable__content {\n",
              "  max-height: 0;\n",
              "  max-width: 0;\n",
              "  overflow: hidden;\n",
              "  text-align: left;\n",
              "  /* unfitted */\n",
              "  background-color: var(--sklearn-color-unfitted-level-0);\n",
              "}\n",
              "\n",
              "#sk-container-id-2 div.sk-toggleable__content.fitted {\n",
              "  /* fitted */\n",
              "  background-color: var(--sklearn-color-fitted-level-0);\n",
              "}\n",
              "\n",
              "#sk-container-id-2 div.sk-toggleable__content pre {\n",
              "  margin: 0.2em;\n",
              "  border-radius: 0.25em;\n",
              "  color: var(--sklearn-color-text);\n",
              "  /* unfitted */\n",
              "  background-color: var(--sklearn-color-unfitted-level-0);\n",
              "}\n",
              "\n",
              "#sk-container-id-2 div.sk-toggleable__content.fitted pre {\n",
              "  /* unfitted */\n",
              "  background-color: var(--sklearn-color-fitted-level-0);\n",
              "}\n",
              "\n",
              "#sk-container-id-2 input.sk-toggleable__control:checked~div.sk-toggleable__content {\n",
              "  /* Expand drop-down */\n",
              "  max-height: 200px;\n",
              "  max-width: 100%;\n",
              "  overflow: auto;\n",
              "}\n",
              "\n",
              "#sk-container-id-2 input.sk-toggleable__control:checked~label.sk-toggleable__label-arrow:before {\n",
              "  content: \"▾\";\n",
              "}\n",
              "\n",
              "/* Pipeline/ColumnTransformer-specific style */\n",
              "\n",
              "#sk-container-id-2 div.sk-label input.sk-toggleable__control:checked~label.sk-toggleable__label {\n",
              "  color: var(--sklearn-color-text);\n",
              "  background-color: var(--sklearn-color-unfitted-level-2);\n",
              "}\n",
              "\n",
              "#sk-container-id-2 div.sk-label.fitted input.sk-toggleable__control:checked~label.sk-toggleable__label {\n",
              "  background-color: var(--sklearn-color-fitted-level-2);\n",
              "}\n",
              "\n",
              "/* Estimator-specific style */\n",
              "\n",
              "/* Colorize estimator box */\n",
              "#sk-container-id-2 div.sk-estimator input.sk-toggleable__control:checked~label.sk-toggleable__label {\n",
              "  /* unfitted */\n",
              "  background-color: var(--sklearn-color-unfitted-level-2);\n",
              "}\n",
              "\n",
              "#sk-container-id-2 div.sk-estimator.fitted input.sk-toggleable__control:checked~label.sk-toggleable__label {\n",
              "  /* fitted */\n",
              "  background-color: var(--sklearn-color-fitted-level-2);\n",
              "}\n",
              "\n",
              "#sk-container-id-2 div.sk-label label.sk-toggleable__label,\n",
              "#sk-container-id-2 div.sk-label label {\n",
              "  /* The background is the default theme color */\n",
              "  color: var(--sklearn-color-text-on-default-background);\n",
              "}\n",
              "\n",
              "/* On hover, darken the color of the background */\n",
              "#sk-container-id-2 div.sk-label:hover label.sk-toggleable__label {\n",
              "  color: var(--sklearn-color-text);\n",
              "  background-color: var(--sklearn-color-unfitted-level-2);\n",
              "}\n",
              "\n",
              "/* Label box, darken color on hover, fitted */\n",
              "#sk-container-id-2 div.sk-label.fitted:hover label.sk-toggleable__label.fitted {\n",
              "  color: var(--sklearn-color-text);\n",
              "  background-color: var(--sklearn-color-fitted-level-2);\n",
              "}\n",
              "\n",
              "/* Estimator label */\n",
              "\n",
              "#sk-container-id-2 div.sk-label label {\n",
              "  font-family: monospace;\n",
              "  font-weight: bold;\n",
              "  display: inline-block;\n",
              "  line-height: 1.2em;\n",
              "}\n",
              "\n",
              "#sk-container-id-2 div.sk-label-container {\n",
              "  text-align: center;\n",
              "}\n",
              "\n",
              "/* Estimator-specific */\n",
              "#sk-container-id-2 div.sk-estimator {\n",
              "  font-family: monospace;\n",
              "  border: 1px dotted var(--sklearn-color-border-box);\n",
              "  border-radius: 0.25em;\n",
              "  box-sizing: border-box;\n",
              "  margin-bottom: 0.5em;\n",
              "  /* unfitted */\n",
              "  background-color: var(--sklearn-color-unfitted-level-0);\n",
              "}\n",
              "\n",
              "#sk-container-id-2 div.sk-estimator.fitted {\n",
              "  /* fitted */\n",
              "  background-color: var(--sklearn-color-fitted-level-0);\n",
              "}\n",
              "\n",
              "/* on hover */\n",
              "#sk-container-id-2 div.sk-estimator:hover {\n",
              "  /* unfitted */\n",
              "  background-color: var(--sklearn-color-unfitted-level-2);\n",
              "}\n",
              "\n",
              "#sk-container-id-2 div.sk-estimator.fitted:hover {\n",
              "  /* fitted */\n",
              "  background-color: var(--sklearn-color-fitted-level-2);\n",
              "}\n",
              "\n",
              "/* Specification for estimator info (e.g. \"i\" and \"?\") */\n",
              "\n",
              "/* Common style for \"i\" and \"?\" */\n",
              "\n",
              ".sk-estimator-doc-link,\n",
              "a:link.sk-estimator-doc-link,\n",
              "a:visited.sk-estimator-doc-link {\n",
              "  float: right;\n",
              "  font-size: smaller;\n",
              "  line-height: 1em;\n",
              "  font-family: monospace;\n",
              "  background-color: var(--sklearn-color-background);\n",
              "  border-radius: 1em;\n",
              "  height: 1em;\n",
              "  width: 1em;\n",
              "  text-decoration: none !important;\n",
              "  margin-left: 1ex;\n",
              "  /* unfitted */\n",
              "  border: var(--sklearn-color-unfitted-level-1) 1pt solid;\n",
              "  color: var(--sklearn-color-unfitted-level-1);\n",
              "}\n",
              "\n",
              ".sk-estimator-doc-link.fitted,\n",
              "a:link.sk-estimator-doc-link.fitted,\n",
              "a:visited.sk-estimator-doc-link.fitted {\n",
              "  /* fitted */\n",
              "  border: var(--sklearn-color-fitted-level-1) 1pt solid;\n",
              "  color: var(--sklearn-color-fitted-level-1);\n",
              "}\n",
              "\n",
              "/* On hover */\n",
              "div.sk-estimator:hover .sk-estimator-doc-link:hover,\n",
              ".sk-estimator-doc-link:hover,\n",
              "div.sk-label-container:hover .sk-estimator-doc-link:hover,\n",
              ".sk-estimator-doc-link:hover {\n",
              "  /* unfitted */\n",
              "  background-color: var(--sklearn-color-unfitted-level-3);\n",
              "  color: var(--sklearn-color-background);\n",
              "  text-decoration: none;\n",
              "}\n",
              "\n",
              "div.sk-estimator.fitted:hover .sk-estimator-doc-link.fitted:hover,\n",
              ".sk-estimator-doc-link.fitted:hover,\n",
              "div.sk-label-container:hover .sk-estimator-doc-link.fitted:hover,\n",
              ".sk-estimator-doc-link.fitted:hover {\n",
              "  /* fitted */\n",
              "  background-color: var(--sklearn-color-fitted-level-3);\n",
              "  color: var(--sklearn-color-background);\n",
              "  text-decoration: none;\n",
              "}\n",
              "\n",
              "/* Span, style for the box shown on hovering the info icon */\n",
              ".sk-estimator-doc-link span {\n",
              "  display: none;\n",
              "  z-index: 9999;\n",
              "  position: relative;\n",
              "  font-weight: normal;\n",
              "  right: .2ex;\n",
              "  padding: .5ex;\n",
              "  margin: .5ex;\n",
              "  width: min-content;\n",
              "  min-width: 20ex;\n",
              "  max-width: 50ex;\n",
              "  color: var(--sklearn-color-text);\n",
              "  box-shadow: 2pt 2pt 4pt #999;\n",
              "  /* unfitted */\n",
              "  background: var(--sklearn-color-unfitted-level-0);\n",
              "  border: .5pt solid var(--sklearn-color-unfitted-level-3);\n",
              "}\n",
              "\n",
              ".sk-estimator-doc-link.fitted span {\n",
              "  /* fitted */\n",
              "  background: var(--sklearn-color-fitted-level-0);\n",
              "  border: var(--sklearn-color-fitted-level-3);\n",
              "}\n",
              "\n",
              ".sk-estimator-doc-link:hover span {\n",
              "  display: block;\n",
              "}\n",
              "\n",
              "/* \"?\"-specific style due to the `<a>` HTML tag */\n",
              "\n",
              "#sk-container-id-2 a.estimator_doc_link {\n",
              "  float: right;\n",
              "  font-size: 1rem;\n",
              "  line-height: 1em;\n",
              "  font-family: monospace;\n",
              "  background-color: var(--sklearn-color-background);\n",
              "  border-radius: 1rem;\n",
              "  height: 1rem;\n",
              "  width: 1rem;\n",
              "  text-decoration: none;\n",
              "  /* unfitted */\n",
              "  color: var(--sklearn-color-unfitted-level-1);\n",
              "  border: var(--sklearn-color-unfitted-level-1) 1pt solid;\n",
              "}\n",
              "\n",
              "#sk-container-id-2 a.estimator_doc_link.fitted {\n",
              "  /* fitted */\n",
              "  border: var(--sklearn-color-fitted-level-1) 1pt solid;\n",
              "  color: var(--sklearn-color-fitted-level-1);\n",
              "}\n",
              "\n",
              "/* On hover */\n",
              "#sk-container-id-2 a.estimator_doc_link:hover {\n",
              "  /* unfitted */\n",
              "  background-color: var(--sklearn-color-unfitted-level-3);\n",
              "  color: var(--sklearn-color-background);\n",
              "  text-decoration: none;\n",
              "}\n",
              "\n",
              "#sk-container-id-2 a.estimator_doc_link.fitted:hover {\n",
              "  /* fitted */\n",
              "  background-color: var(--sklearn-color-fitted-level-3);\n",
              "}\n",
              "</style><div id=\"sk-container-id-2\" class=\"sk-top-container\"><div class=\"sk-text-repr-fallback\"><pre>Pipeline(steps=[(&#x27;models&#x27;,\n",
              "                 &lt;catboost.core.CatBoostRegressor object at 0x7a3247463490&gt;)])</pre><b>In a Jupyter environment, please rerun this cell to show the HTML representation or trust the notebook. <br />On GitHub, the HTML representation is unable to render, please try loading this page with nbviewer.org.</b></div><div class=\"sk-container\" hidden><div class=\"sk-item sk-dashed-wrapped\"><div class=\"sk-label-container\"><div class=\"sk-label fitted sk-toggleable\"><input class=\"sk-toggleable__control sk-hidden--visually\" id=\"sk-estimator-id-4\" type=\"checkbox\" ><label for=\"sk-estimator-id-4\" class=\"sk-toggleable__label fitted sk-toggleable__label-arrow fitted\">&nbsp;&nbsp;Pipeline<a class=\"sk-estimator-doc-link fitted\" rel=\"noreferrer\" target=\"_blank\" href=\"https://scikit-learn.org/1.5/modules/generated/sklearn.pipeline.Pipeline.html\">?<span>Documentation for Pipeline</span></a><span class=\"sk-estimator-doc-link fitted\">i<span>Fitted</span></span></label><div class=\"sk-toggleable__content fitted\"><pre>Pipeline(steps=[(&#x27;models&#x27;,\n",
              "                 &lt;catboost.core.CatBoostRegressor object at 0x7a3247463490&gt;)])</pre></div> </div></div><div class=\"sk-serial\"><div class=\"sk-item\"><div class=\"sk-estimator fitted sk-toggleable\"><input class=\"sk-toggleable__control sk-hidden--visually\" id=\"sk-estimator-id-5\" type=\"checkbox\" ><label for=\"sk-estimator-id-5\" class=\"sk-toggleable__label fitted sk-toggleable__label-arrow fitted\">CatBoostRegressor</label><div class=\"sk-toggleable__content fitted\"><pre>&lt;catboost.core.CatBoostRegressor object at 0x7a3247463490&gt;</pre></div> </div></div></div></div></div></div>"
            ]
          },
          "metadata": {},
          "execution_count": 30
        }
      ],
      "source": [
        "model = grid_search.best_estimator_\n",
        "model"
      ]
    },
    {
      "cell_type": "code",
      "execution_count": null,
      "metadata": {
        "id": "PHho9aNNNl0A",
        "outputId": "6350a964-1569-4a97-dfce-10945f1437a0",
        "colab": {
          "base_uri": "https://localhost:8080/",
          "height": 400
        }
      },
      "outputs": [
        {
          "output_type": "execute_result",
          "data": {
            "text/plain": [
              "   mean_fit_time  std_fit_time  mean_score_time  std_score_time  \\\n",
              "8      11.909006      1.127082         0.009286        0.004026   \n",
              "6       5.428568      0.778729         0.010969        0.004029   \n",
              "4       4.911014      0.278304         0.008248        0.000334   \n",
              "2       2.253295      0.339572         0.008941        0.001062   \n",
              "7      11.783283      1.284821         0.008387        0.000120   \n",
              "\n",
              "                                        param_models  param_models__depth  \\\n",
              "8  <catboost.core.CatBoostRegressor object at 0x7...                  6.0   \n",
              "6  <catboost.core.CatBoostRegressor object at 0x7...                  6.0   \n",
              "4  <catboost.core.CatBoostRegressor object at 0x7...                  4.0   \n",
              "2  <catboost.core.CatBoostRegressor object at 0x7...                  4.0   \n",
              "7  <catboost.core.CatBoostRegressor object at 0x7...                  6.0   \n",
              "\n",
              "   param_models__iterations  param_models__learning_rate  \\\n",
              "8                    1000.0                         0.05   \n",
              "6                     500.0                         0.05   \n",
              "4                    1000.0                         0.05   \n",
              "2                     500.0                         0.05   \n",
              "7                    1000.0                         0.01   \n",
              "\n",
              "                                              params  split0_test_score  \\\n",
              "8  {'models': <catboost.core.CatBoostRegressor ob...         -23.459988   \n",
              "6  {'models': <catboost.core.CatBoostRegressor ob...         -23.358500   \n",
              "4  {'models': <catboost.core.CatBoostRegressor ob...         -23.414645   \n",
              "2  {'models': <catboost.core.CatBoostRegressor ob...         -23.270460   \n",
              "7  {'models': <catboost.core.CatBoostRegressor ob...         -23.459557   \n",
              "\n",
              "   split1_test_score  split2_test_score  mean_test_score  std_test_score  \\\n",
              "8         -24.273269         -31.043123       -26.258793        3.399286   \n",
              "6         -24.267805         -31.194194       -26.273499        3.499203   \n",
              "4         -24.546739         -31.088860       -26.350081        3.382546   \n",
              "2         -24.651291         -31.340663       -26.420805        3.524243   \n",
              "7         -24.394587         -32.361155       -26.738433        3.994148   \n",
              "\n",
              "   rank_test_score  \n",
              "8                1  \n",
              "6                2  \n",
              "4                3  \n",
              "2                4  \n",
              "7                5  "
            ],
            "text/html": [
              "\n",
              "  <div id=\"df-3645ae22-4d5e-4736-8f2d-c0b5e98de512\" class=\"colab-df-container\">\n",
              "    <div>\n",
              "<style scoped>\n",
              "    .dataframe tbody tr th:only-of-type {\n",
              "        vertical-align: middle;\n",
              "    }\n",
              "\n",
              "    .dataframe tbody tr th {\n",
              "        vertical-align: top;\n",
              "    }\n",
              "\n",
              "    .dataframe thead th {\n",
              "        text-align: right;\n",
              "    }\n",
              "</style>\n",
              "<table border=\"1\" class=\"dataframe\">\n",
              "  <thead>\n",
              "    <tr style=\"text-align: right;\">\n",
              "      <th></th>\n",
              "      <th>mean_fit_time</th>\n",
              "      <th>std_fit_time</th>\n",
              "      <th>mean_score_time</th>\n",
              "      <th>std_score_time</th>\n",
              "      <th>param_models</th>\n",
              "      <th>param_models__depth</th>\n",
              "      <th>param_models__iterations</th>\n",
              "      <th>param_models__learning_rate</th>\n",
              "      <th>params</th>\n",
              "      <th>split0_test_score</th>\n",
              "      <th>split1_test_score</th>\n",
              "      <th>split2_test_score</th>\n",
              "      <th>mean_test_score</th>\n",
              "      <th>std_test_score</th>\n",
              "      <th>rank_test_score</th>\n",
              "    </tr>\n",
              "  </thead>\n",
              "  <tbody>\n",
              "    <tr>\n",
              "      <th>8</th>\n",
              "      <td>11.909006</td>\n",
              "      <td>1.127082</td>\n",
              "      <td>0.009286</td>\n",
              "      <td>0.004026</td>\n",
              "      <td>&lt;catboost.core.CatBoostRegressor object at 0x7...</td>\n",
              "      <td>6.0</td>\n",
              "      <td>1000.0</td>\n",
              "      <td>0.05</td>\n",
              "      <td>{'models': &lt;catboost.core.CatBoostRegressor ob...</td>\n",
              "      <td>-23.459988</td>\n",
              "      <td>-24.273269</td>\n",
              "      <td>-31.043123</td>\n",
              "      <td>-26.258793</td>\n",
              "      <td>3.399286</td>\n",
              "      <td>1</td>\n",
              "    </tr>\n",
              "    <tr>\n",
              "      <th>6</th>\n",
              "      <td>5.428568</td>\n",
              "      <td>0.778729</td>\n",
              "      <td>0.010969</td>\n",
              "      <td>0.004029</td>\n",
              "      <td>&lt;catboost.core.CatBoostRegressor object at 0x7...</td>\n",
              "      <td>6.0</td>\n",
              "      <td>500.0</td>\n",
              "      <td>0.05</td>\n",
              "      <td>{'models': &lt;catboost.core.CatBoostRegressor ob...</td>\n",
              "      <td>-23.358500</td>\n",
              "      <td>-24.267805</td>\n",
              "      <td>-31.194194</td>\n",
              "      <td>-26.273499</td>\n",
              "      <td>3.499203</td>\n",
              "      <td>2</td>\n",
              "    </tr>\n",
              "    <tr>\n",
              "      <th>4</th>\n",
              "      <td>4.911014</td>\n",
              "      <td>0.278304</td>\n",
              "      <td>0.008248</td>\n",
              "      <td>0.000334</td>\n",
              "      <td>&lt;catboost.core.CatBoostRegressor object at 0x7...</td>\n",
              "      <td>4.0</td>\n",
              "      <td>1000.0</td>\n",
              "      <td>0.05</td>\n",
              "      <td>{'models': &lt;catboost.core.CatBoostRegressor ob...</td>\n",
              "      <td>-23.414645</td>\n",
              "      <td>-24.546739</td>\n",
              "      <td>-31.088860</td>\n",
              "      <td>-26.350081</td>\n",
              "      <td>3.382546</td>\n",
              "      <td>3</td>\n",
              "    </tr>\n",
              "    <tr>\n",
              "      <th>2</th>\n",
              "      <td>2.253295</td>\n",
              "      <td>0.339572</td>\n",
              "      <td>0.008941</td>\n",
              "      <td>0.001062</td>\n",
              "      <td>&lt;catboost.core.CatBoostRegressor object at 0x7...</td>\n",
              "      <td>4.0</td>\n",
              "      <td>500.0</td>\n",
              "      <td>0.05</td>\n",
              "      <td>{'models': &lt;catboost.core.CatBoostRegressor ob...</td>\n",
              "      <td>-23.270460</td>\n",
              "      <td>-24.651291</td>\n",
              "      <td>-31.340663</td>\n",
              "      <td>-26.420805</td>\n",
              "      <td>3.524243</td>\n",
              "      <td>4</td>\n",
              "    </tr>\n",
              "    <tr>\n",
              "      <th>7</th>\n",
              "      <td>11.783283</td>\n",
              "      <td>1.284821</td>\n",
              "      <td>0.008387</td>\n",
              "      <td>0.000120</td>\n",
              "      <td>&lt;catboost.core.CatBoostRegressor object at 0x7...</td>\n",
              "      <td>6.0</td>\n",
              "      <td>1000.0</td>\n",
              "      <td>0.01</td>\n",
              "      <td>{'models': &lt;catboost.core.CatBoostRegressor ob...</td>\n",
              "      <td>-23.459557</td>\n",
              "      <td>-24.394587</td>\n",
              "      <td>-32.361155</td>\n",
              "      <td>-26.738433</td>\n",
              "      <td>3.994148</td>\n",
              "      <td>5</td>\n",
              "    </tr>\n",
              "  </tbody>\n",
              "</table>\n",
              "</div>\n",
              "    <div class=\"colab-df-buttons\">\n",
              "\n",
              "  <div class=\"colab-df-container\">\n",
              "    <button class=\"colab-df-convert\" onclick=\"convertToInteractive('df-3645ae22-4d5e-4736-8f2d-c0b5e98de512')\"\n",
              "            title=\"Convert this dataframe to an interactive table.\"\n",
              "            style=\"display:none;\">\n",
              "\n",
              "  <svg xmlns=\"http://www.w3.org/2000/svg\" height=\"24px\" viewBox=\"0 -960 960 960\">\n",
              "    <path d=\"M120-120v-720h720v720H120Zm60-500h600v-160H180v160Zm220 220h160v-160H400v160Zm0 220h160v-160H400v160ZM180-400h160v-160H180v160Zm440 0h160v-160H620v160ZM180-180h160v-160H180v160Zm440 0h160v-160H620v160Z\"/>\n",
              "  </svg>\n",
              "    </button>\n",
              "\n",
              "  <style>\n",
              "    .colab-df-container {\n",
              "      display:flex;\n",
              "      gap: 12px;\n",
              "    }\n",
              "\n",
              "    .colab-df-convert {\n",
              "      background-color: #E8F0FE;\n",
              "      border: none;\n",
              "      border-radius: 50%;\n",
              "      cursor: pointer;\n",
              "      display: none;\n",
              "      fill: #1967D2;\n",
              "      height: 32px;\n",
              "      padding: 0 0 0 0;\n",
              "      width: 32px;\n",
              "    }\n",
              "\n",
              "    .colab-df-convert:hover {\n",
              "      background-color: #E2EBFA;\n",
              "      box-shadow: 0px 1px 2px rgba(60, 64, 67, 0.3), 0px 1px 3px 1px rgba(60, 64, 67, 0.15);\n",
              "      fill: #174EA6;\n",
              "    }\n",
              "\n",
              "    .colab-df-buttons div {\n",
              "      margin-bottom: 4px;\n",
              "    }\n",
              "\n",
              "    [theme=dark] .colab-df-convert {\n",
              "      background-color: #3B4455;\n",
              "      fill: #D2E3FC;\n",
              "    }\n",
              "\n",
              "    [theme=dark] .colab-df-convert:hover {\n",
              "      background-color: #434B5C;\n",
              "      box-shadow: 0px 1px 3px 1px rgba(0, 0, 0, 0.15);\n",
              "      filter: drop-shadow(0px 1px 2px rgba(0, 0, 0, 0.3));\n",
              "      fill: #FFFFFF;\n",
              "    }\n",
              "  </style>\n",
              "\n",
              "    <script>\n",
              "      const buttonEl =\n",
              "        document.querySelector('#df-3645ae22-4d5e-4736-8f2d-c0b5e98de512 button.colab-df-convert');\n",
              "      buttonEl.style.display =\n",
              "        google.colab.kernel.accessAllowed ? 'block' : 'none';\n",
              "\n",
              "      async function convertToInteractive(key) {\n",
              "        const element = document.querySelector('#df-3645ae22-4d5e-4736-8f2d-c0b5e98de512');\n",
              "        const dataTable =\n",
              "          await google.colab.kernel.invokeFunction('convertToInteractive',\n",
              "                                                    [key], {});\n",
              "        if (!dataTable) return;\n",
              "\n",
              "        const docLinkHtml = 'Like what you see? Visit the ' +\n",
              "          '<a target=\"_blank\" href=https://colab.research.google.com/notebooks/data_table.ipynb>data table notebook</a>'\n",
              "          + ' to learn more about interactive tables.';\n",
              "        element.innerHTML = '';\n",
              "        dataTable['output_type'] = 'display_data';\n",
              "        await google.colab.output.renderOutput(dataTable, element);\n",
              "        const docLink = document.createElement('div');\n",
              "        docLink.innerHTML = docLinkHtml;\n",
              "        element.appendChild(docLink);\n",
              "      }\n",
              "    </script>\n",
              "  </div>\n",
              "\n",
              "\n",
              "<div id=\"df-6b0adc02-751b-44f7-be9a-0663a714b7f2\">\n",
              "  <button class=\"colab-df-quickchart\" onclick=\"quickchart('df-6b0adc02-751b-44f7-be9a-0663a714b7f2')\"\n",
              "            title=\"Suggest charts\"\n",
              "            style=\"display:none;\">\n",
              "\n",
              "<svg xmlns=\"http://www.w3.org/2000/svg\" height=\"24px\"viewBox=\"0 0 24 24\"\n",
              "     width=\"24px\">\n",
              "    <g>\n",
              "        <path d=\"M19 3H5c-1.1 0-2 .9-2 2v14c0 1.1.9 2 2 2h14c1.1 0 2-.9 2-2V5c0-1.1-.9-2-2-2zM9 17H7v-7h2v7zm4 0h-2V7h2v10zm4 0h-2v-4h2v4z\"/>\n",
              "    </g>\n",
              "</svg>\n",
              "  </button>\n",
              "\n",
              "<style>\n",
              "  .colab-df-quickchart {\n",
              "      --bg-color: #E8F0FE;\n",
              "      --fill-color: #1967D2;\n",
              "      --hover-bg-color: #E2EBFA;\n",
              "      --hover-fill-color: #174EA6;\n",
              "      --disabled-fill-color: #AAA;\n",
              "      --disabled-bg-color: #DDD;\n",
              "  }\n",
              "\n",
              "  [theme=dark] .colab-df-quickchart {\n",
              "      --bg-color: #3B4455;\n",
              "      --fill-color: #D2E3FC;\n",
              "      --hover-bg-color: #434B5C;\n",
              "      --hover-fill-color: #FFFFFF;\n",
              "      --disabled-bg-color: #3B4455;\n",
              "      --disabled-fill-color: #666;\n",
              "  }\n",
              "\n",
              "  .colab-df-quickchart {\n",
              "    background-color: var(--bg-color);\n",
              "    border: none;\n",
              "    border-radius: 50%;\n",
              "    cursor: pointer;\n",
              "    display: none;\n",
              "    fill: var(--fill-color);\n",
              "    height: 32px;\n",
              "    padding: 0;\n",
              "    width: 32px;\n",
              "  }\n",
              "\n",
              "  .colab-df-quickchart:hover {\n",
              "    background-color: var(--hover-bg-color);\n",
              "    box-shadow: 0 1px 2px rgba(60, 64, 67, 0.3), 0 1px 3px 1px rgba(60, 64, 67, 0.15);\n",
              "    fill: var(--button-hover-fill-color);\n",
              "  }\n",
              "\n",
              "  .colab-df-quickchart-complete:disabled,\n",
              "  .colab-df-quickchart-complete:disabled:hover {\n",
              "    background-color: var(--disabled-bg-color);\n",
              "    fill: var(--disabled-fill-color);\n",
              "    box-shadow: none;\n",
              "  }\n",
              "\n",
              "  .colab-df-spinner {\n",
              "    border: 2px solid var(--fill-color);\n",
              "    border-color: transparent;\n",
              "    border-bottom-color: var(--fill-color);\n",
              "    animation:\n",
              "      spin 1s steps(1) infinite;\n",
              "  }\n",
              "\n",
              "  @keyframes spin {\n",
              "    0% {\n",
              "      border-color: transparent;\n",
              "      border-bottom-color: var(--fill-color);\n",
              "      border-left-color: var(--fill-color);\n",
              "    }\n",
              "    20% {\n",
              "      border-color: transparent;\n",
              "      border-left-color: var(--fill-color);\n",
              "      border-top-color: var(--fill-color);\n",
              "    }\n",
              "    30% {\n",
              "      border-color: transparent;\n",
              "      border-left-color: var(--fill-color);\n",
              "      border-top-color: var(--fill-color);\n",
              "      border-right-color: var(--fill-color);\n",
              "    }\n",
              "    40% {\n",
              "      border-color: transparent;\n",
              "      border-right-color: var(--fill-color);\n",
              "      border-top-color: var(--fill-color);\n",
              "    }\n",
              "    60% {\n",
              "      border-color: transparent;\n",
              "      border-right-color: var(--fill-color);\n",
              "    }\n",
              "    80% {\n",
              "      border-color: transparent;\n",
              "      border-right-color: var(--fill-color);\n",
              "      border-bottom-color: var(--fill-color);\n",
              "    }\n",
              "    90% {\n",
              "      border-color: transparent;\n",
              "      border-bottom-color: var(--fill-color);\n",
              "    }\n",
              "  }\n",
              "</style>\n",
              "\n",
              "  <script>\n",
              "    async function quickchart(key) {\n",
              "      const quickchartButtonEl =\n",
              "        document.querySelector('#' + key + ' button');\n",
              "      quickchartButtonEl.disabled = true;  // To prevent multiple clicks.\n",
              "      quickchartButtonEl.classList.add('colab-df-spinner');\n",
              "      try {\n",
              "        const charts = await google.colab.kernel.invokeFunction(\n",
              "            'suggestCharts', [key], {});\n",
              "      } catch (error) {\n",
              "        console.error('Error during call to suggestCharts:', error);\n",
              "      }\n",
              "      quickchartButtonEl.classList.remove('colab-df-spinner');\n",
              "      quickchartButtonEl.classList.add('colab-df-quickchart-complete');\n",
              "    }\n",
              "    (() => {\n",
              "      let quickchartButtonEl =\n",
              "        document.querySelector('#df-6b0adc02-751b-44f7-be9a-0663a714b7f2 button');\n",
              "      quickchartButtonEl.style.display =\n",
              "        google.colab.kernel.accessAllowed ? 'block' : 'none';\n",
              "    })();\n",
              "  </script>\n",
              "</div>\n",
              "    </div>\n",
              "  </div>\n"
            ],
            "application/vnd.google.colaboratory.intrinsic+json": {
              "type": "dataframe",
              "summary": "{\n  \"name\": \"gs\",\n  \"rows\": 5,\n  \"fields\": [\n    {\n      \"column\": \"mean_fit_time\",\n      \"properties\": {\n        \"dtype\": \"number\",\n        \"std\": 4.359251190299814,\n        \"min\": 2.2532947063446045,\n        \"max\": 11.909006039301554,\n        \"num_unique_values\": 5,\n        \"samples\": [\n          5.428568045298259,\n          11.783283472061157,\n          4.911013762156169\n        ],\n        \"semantic_type\": \"\",\n        \"description\": \"\"\n      }\n    },\n    {\n      \"column\": \"std_fit_time\",\n      \"properties\": {\n        \"dtype\": \"number\",\n        \"std\": 0.45257964724755784,\n        \"min\": 0.27830363708519373,\n        \"max\": 1.2848205527873564,\n        \"num_unique_values\": 5,\n        \"samples\": [\n          0.7787294860199037,\n          1.2848205527873564,\n          0.27830363708519373\n        ],\n        \"semantic_type\": \"\",\n        \"description\": \"\"\n      }\n    },\n    {\n      \"column\": \"mean_score_time\",\n      \"properties\": {\n        \"dtype\": \"number\",\n        \"std\": 0.0010914231146472932,\n        \"min\": 0.00824753443400065,\n        \"max\": 0.010968605677286783,\n        \"num_unique_values\": 5,\n        \"samples\": [\n          0.010968605677286783,\n          0.008387088775634766,\n          0.00824753443400065\n        ],\n        \"semantic_type\": \"\",\n        \"description\": \"\"\n      }\n    },\n    {\n      \"column\": \"std_score_time\",\n      \"properties\": {\n        \"dtype\": \"number\",\n        \"std\": 0.001960580287934408,\n        \"min\": 0.00012049757699666199,\n        \"max\": 0.004029391874536263,\n        \"num_unique_values\": 5,\n        \"samples\": [\n          0.004029391874536263,\n          0.00012049757699666199,\n          0.00033363704157611263\n        ],\n        \"semantic_type\": \"\",\n        \"description\": \"\"\n      }\n    },\n    {\n      \"column\": \"param_models\",\n      \"properties\": {\n        \"dtype\": \"object\",\n        \"semantic_type\": \"\",\n        \"description\": \"\"\n      }\n    },\n    {\n      \"column\": \"param_models__depth\",\n      \"properties\": {\n        \"dtype\": \"number\",\n        \"std\": 1.0954451150103321,\n        \"min\": 4.0,\n        \"max\": 6.0,\n        \"num_unique_values\": 2,\n        \"samples\": [\n          4.0,\n          6.0\n        ],\n        \"semantic_type\": \"\",\n        \"description\": \"\"\n      }\n    },\n    {\n      \"column\": \"param_models__iterations\",\n      \"properties\": {\n        \"dtype\": \"number\",\n        \"std\": 273.8612787525831,\n        \"min\": 500.0,\n        \"max\": 1000.0,\n        \"num_unique_values\": 2,\n        \"samples\": [\n          500.0,\n          1000.0\n        ],\n        \"semantic_type\": \"\",\n        \"description\": \"\"\n      }\n    },\n    {\n      \"column\": \"param_models__learning_rate\",\n      \"properties\": {\n        \"dtype\": \"number\",\n        \"std\": 0.017888543819998316,\n        \"min\": 0.01,\n        \"max\": 0.05,\n        \"num_unique_values\": 2,\n        \"samples\": [\n          0.01,\n          0.05\n        ],\n        \"semantic_type\": \"\",\n        \"description\": \"\"\n      }\n    },\n    {\n      \"column\": \"params\",\n      \"properties\": {\n        \"dtype\": \"object\",\n        \"semantic_type\": \"\",\n        \"description\": \"\"\n      }\n    },\n    {\n      \"column\": \"split0_test_score\",\n      \"properties\": {\n        \"dtype\": \"number\",\n        \"std\": 0.07998645008827095,\n        \"min\": -23.45998775826319,\n        \"max\": -23.27045979851265,\n        \"num_unique_values\": 5,\n        \"samples\": [\n          -23.358499612606092,\n          -23.459556668576745\n        ],\n        \"semantic_type\": \"\",\n        \"description\": \"\"\n      }\n    },\n    {\n      \"column\": \"split1_test_score\",\n      \"properties\": {\n        \"dtype\": \"number\",\n        \"std\": 0.16931536366453095,\n        \"min\": -24.651291170110994,\n        \"max\": -24.2678048888028,\n        \"num_unique_values\": 5,\n        \"samples\": [\n          -24.2678048888028,\n          -24.39458676754591\n        ],\n        \"semantic_type\": \"\",\n        \"description\": \"\"\n      }\n    },\n    {\n      \"column\": \"split2_test_score\",\n      \"properties\": {\n        \"dtype\": \"number\",\n        \"std\": 0.54628500035021,\n        \"min\": -32.36115540254388,\n        \"max\": -31.043123252639322,\n        \"num_unique_values\": 5,\n        \"samples\": [\n          -31.194193763202644,\n          -32.36115540254388\n        ],\n        \"semantic_type\": \"\",\n        \"description\": \"\"\n      }\n    },\n    {\n      \"column\": \"mean_test_score\",\n      \"properties\": {\n        \"dtype\": \"number\",\n        \"std\": 0.1956125103163258,\n        \"min\": -26.73843294622218,\n        \"max\": -26.258793212389353,\n        \"num_unique_values\": 5,\n        \"samples\": [\n          -26.27349942153718,\n          -26.73843294622218\n        ],\n        \"semantic_type\": \"\",\n        \"description\": \"\"\n      }\n    },\n    {\n      \"column\": \"std_test_score\",\n      \"properties\": {\n        \"dtype\": \"number\",\n        \"std\": 0.250388756704523,\n        \"min\": 3.382546045078566,\n        \"max\": 3.994147901377116,\n        \"num_unique_values\": 5,\n        \"samples\": [\n          3.4992031116054303,\n          3.994147901377116\n        ],\n        \"semantic_type\": \"\",\n        \"description\": \"\"\n      }\n    },\n    {\n      \"column\": \"rank_test_score\",\n      \"properties\": {\n        \"dtype\": \"int32\",\n        \"num_unique_values\": 5,\n        \"samples\": [\n          2,\n          5\n        ],\n        \"semantic_type\": \"\",\n        \"description\": \"\"\n      }\n    }\n  ]\n}"
            }
          },
          "metadata": {},
          "execution_count": 31
        }
      ],
      "source": [
        "gs = pd.DataFrame(grid_search.cv_results_)\n",
        "gs.sort_values(by='mean_test_score', ascending=False).head()"
      ]
    },
    {
      "cell_type": "code",
      "execution_count": null,
      "metadata": {
        "id": "mYVjrldcNl0A",
        "outputId": "5ed0f1d4-b99d-4059-c0fe-12d9d2ac96be",
        "colab": {
          "base_uri": "https://localhost:8080/"
        }
      },
      "outputs": [
        {
          "output_type": "stream",
          "name": "stdout",
          "text": [
            "RMSE for the best model on cross-validation: 26\n"
          ]
        }
      ],
      "source": [
        "RMSE = abs(grid_search.best_score_)\n",
        "print(f'RMSE for the best model on cross-validation: {RMSE:.0f}')"
      ]
    },
    {
      "cell_type": "markdown",
      "metadata": {
        "id": "O6KGanekNl0A"
      },
      "source": [
        "## Testing"
      ]
    },
    {
      "cell_type": "markdown",
      "metadata": {
        "id": "r0UIPVx-Nl0A"
      },
      "source": [
        "### Predictions on test data"
      ]
    },
    {
      "cell_type": "markdown",
      "metadata": {
        "id": "pFNHkEa0Nl0A"
      },
      "source": [
        "Let's check the prediction quality of the best model on test data:"
      ]
    },
    {
      "cell_type": "code",
      "execution_count": null,
      "metadata": {
        "id": "xHNxAMysNl0A"
      },
      "outputs": [],
      "source": [
        "y_test_pred = model.predict(X_test)"
      ]
    },
    {
      "cell_type": "code",
      "execution_count": null,
      "metadata": {
        "id": "5EoolF6iNl0A",
        "outputId": "c0b3b8f2-4bfc-4a18-fb09-094286e04bfc",
        "colab": {
          "base_uri": "https://localhost:8080/"
        }
      },
      "outputs": [
        {
          "output_type": "stream",
          "name": "stdout",
          "text": [
            "RMSE for the best model on test data: 41\n"
          ]
        }
      ],
      "source": [
        "RMSE_test = root_mean_squared_error(y_test_pred, y_test)\n",
        "print(f'RMSE for the best model on test data: {RMSE_test:.0f}')"
      ]
    },
    {
      "cell_type": "markdown",
      "metadata": {
        "id": "AsnsPxAHNl0A"
      },
      "source": [
        "### Visualization"
      ]
    },
    {
      "cell_type": "markdown",
      "metadata": {
        "id": "mWAzYK9CNl0B"
      },
      "source": [
        "Let's plot a line graph to visualize the predictions of the best model on the test data:"
      ]
    },
    {
      "cell_type": "code",
      "execution_count": null,
      "metadata": {
        "id": "X1WL__AsNl0B",
        "outputId": "4c6c33cc-9804-4267-8fd1-20da99beaa59",
        "colab": {
          "base_uri": "https://localhost:8080/",
          "height": 617
        }
      },
      "outputs": [
        {
          "output_type": "display_data",
          "data": {
            "text/plain": [
              "<Figure size 1500x600 with 1 Axes>"
            ],
            "image/png": "[encoded data removed]"
          },
          "metadata": {}
        }
      ],
      "source": [
        "plt.figure(figsize=(15, 6))\n",
        "\n",
        "plt.plot(y_test.index, y_test, label='True Values', color='blue')\n",
        "plt.plot(y_test.index, y_test_pred, label='Predictions', color='red')\n",
        "plt.xlabel('Datetime')\n",
        "plt.ylabel('Number of Orders')\n",
        "plt.title('Comparison of True Values and Predictions')\n",
        "plt.xticks(rotation=45)\n",
        "plt.legend()\n",
        "plt.show()"
      ]
    },
    {
      "cell_type": "markdown",
      "metadata": {
        "id": "xlCvKpVWNl0B"
      },
      "source": [
        "### Adequacy Check"
      ]
    },
    {
      "cell_type": "markdown",
      "metadata": {
        "id": "izbKI6ctNl0B"
      },
      "source": [
        "Let's check the result of the best model for adequacy. Let's compare its result with the result of the models:\n",
        "- predicting a constant (average value);\n",
        "- predicting a new value by the previous value of the series."
      ]
    },
    {
      "cell_type": "markdown",
      "metadata": {
        "id": "QzH5pjiPNl0B"
      },
      "source": [
        "Model predicting constant:"
      ]
    },
    {
      "cell_type": "code",
      "execution_count": null,
      "metadata": {
        "id": "Ld2rrm5RNl0B"
      },
      "outputs": [],
      "source": [
        "pred_median = np.ones(y_test.shape) * y_train.mean()"
      ]
    },
    {
      "cell_type": "code",
      "execution_count": null,
      "metadata": {
        "id": "Jae61zH3Nl0B"
      },
      "outputs": [],
      "source": [
        "RMSE_median = root_mean_squared_error(pred_median, y_test)"
      ]
    },
    {
      "cell_type": "code",
      "execution_count": null,
      "metadata": {
        "id": "oK-tVcjcNl0B",
        "outputId": "a86fbea2-934a-4518-993d-b27aa855c199",
        "colab": {
          "base_uri": "https://localhost:8080/"
        }
      },
      "outputs": [
        {
          "output_type": "stream",
          "name": "stdout",
          "text": [
            "RMSE for a model predicting a constant on test data: 85\n"
          ]
        }
      ],
      "source": [
        "print(f'RMSE for a model predicting a constant on test data: {RMSE_median:.0f}')"
      ]
    },
    {
      "cell_type": "markdown",
      "metadata": {
        "id": "J3cIiwp_Nl0B"
      },
      "source": [
        "Модель, прогнозирующая новое значение предыдущим значением ряда:"
      ]
    },
    {
      "cell_type": "code",
      "execution_count": null,
      "metadata": {
        "id": "uNkg0tFkNl0C"
      },
      "outputs": [],
      "source": [
        "pred_previous = y_test.shift()\n",
        "pred_previous.iloc[0] = y_train.iloc[-1]"
      ]
    },
    {
      "cell_type": "code",
      "execution_count": null,
      "metadata": {
        "id": "Ujd_5kYsNl0C"
      },
      "outputs": [],
      "source": [
        "RMSE_previous = root_mean_squared_error(pred_previous, y_test)"
      ]
    },
    {
      "cell_type": "code",
      "execution_count": null,
      "metadata": {
        "id": "MZl7Kl3SNl0C",
        "outputId": "8f52991b-cd44-4651-81a7-f318f05732d7",
        "colab": {
          "base_uri": "https://localhost:8080/"
        }
      },
      "outputs": [
        {
          "output_type": "stream",
          "name": "stdout",
          "text": [
            "RMSE для модели, прогнозирующей новое значение предыдущим значением ряда, на тестовых данных: 59\n"
          ]
        }
      ],
      "source": [
        "print(f'RMSE для модели, прогнозирующей новое значение предыдущим значением ряда, на тестовых данных: {RMSE_previous:.0f}')"
      ]
    },
    {
      "cell_type": "markdown",
      "metadata": {
        "id": "qF1QUXWmNl0C"
      },
      "source": [
        "### Conclusions"
      ]
    },
    {
      "cell_type": "markdown",
      "metadata": {
        "id": "8gvL-IlnNl0C"
      },
      "source": [
        "- based on the results of GridSearch cross-validation, the best model was selected: CatBoostRegressor with hyperparameters:"
      ]
    },
    {
      "cell_type": "code",
      "execution_count": null,
      "metadata": {
        "id": "urCn52fSNl0C",
        "outputId": "688ec88b-f814-491a-b38d-61b13ee1cef3",
        "colab": {
          "base_uri": "https://localhost:8080/"
        }
      },
      "outputs": [
        {
          "output_type": "execute_result",
          "data": {
            "text/plain": [
              "{'models': <catboost.core.CatBoostRegressor at 0x7a326b2c4280>,\n",
              " 'models__depth': 6,\n",
              " 'models__iterations': 1000,\n",
              " 'models__learning_rate': 0.05}"
            ]
          },
          "metadata": {},
          "execution_count": 42
        }
      ],
      "source": [
        "grid_search.best_params_"
      ]
    },
    {
      "cell_type": "markdown",
      "metadata": {
        "id": "Fd9rFdDRNl0C"
      },
      "source": [
        "- the best model's prediction quality metric on test data meets the problem statement;\n",
        "- visualization of the comparison of true values ​​and predictions shows that, in general, the model captures hourly fluctuations in taxi demand. However, the model was unable to predict the abnormally high demand for taxis at airports on 2018-07-20 and 20-07-27, and in general, the spread of predictions is lower than that of true values;\n",
        "- the best model was successfully tested for adequacy, the quality metric of the best model exceeds the quality metrics of models that are not trained."
      ]
    }
  ],
  "metadata": {
    "ExecuteTimeLog": [
      {
        "duration": 2800,
        "start_time": "2024-03-18T08:53:10.383Z"
      },
      {
        "duration": 896,
        "start_time": "2024-03-18T08:53:58.592Z"
      },
      {
        "duration": 3,
        "start_time": "2024-03-18T08:54:19.039Z"
      },
      {
        "duration": 3,
        "start_time": "2024-03-18T08:59:32.599Z"
      },
      {
        "duration": 139,
        "start_time": "2024-03-18T09:03:46.157Z"
      },
      {
        "duration": 47,
        "start_time": "2024-03-18T09:04:23.772Z"
      },
      {
        "duration": 5,
        "start_time": "2024-03-18T09:05:00.981Z"
      },
      {
        "duration": 5,
        "start_time": "2024-03-18T09:05:33.845Z"
      },
      {
        "duration": 93,
        "start_time": "2024-03-18T09:05:37.812Z"
      },
      {
        "duration": 48,
        "start_time": "2024-03-18T09:05:48.676Z"
      },
      {
        "duration": 4,
        "start_time": "2024-03-18T09:05:50.540Z"
      },
      {
        "duration": 337,
        "start_time": "2024-03-18T09:05:51.452Z"
      },
      {
        "duration": 53,
        "start_time": "2024-03-18T09:07:42.412Z"
      },
      {
        "duration": 5,
        "start_time": "2024-03-18T09:07:43.868Z"
      },
      {
        "duration": 19,
        "start_time": "2024-03-18T09:07:45.245Z"
      },
      {
        "duration": 46,
        "start_time": "2024-03-18T09:08:09.445Z"
      },
      {
        "duration": 5,
        "start_time": "2024-03-18T09:08:11.076Z"
      },
      {
        "duration": 10,
        "start_time": "2024-03-18T09:08:11.717Z"
      },
      {
        "duration": 48,
        "start_time": "2024-03-18T09:08:32.276Z"
      },
      {
        "duration": 4,
        "start_time": "2024-03-18T09:08:34.444Z"
      },
      {
        "duration": 34,
        "start_time": "2024-03-18T09:08:36.708Z"
      },
      {
        "duration": 3,
        "start_time": "2024-03-18T09:10:47.500Z"
      },
      {
        "duration": 7,
        "start_time": "2024-03-18T09:11:01.932Z"
      },
      {
        "duration": 8,
        "start_time": "2024-03-18T09:15:14.172Z"
      },
      {
        "duration": 6,
        "start_time": "2024-03-18T09:15:23.587Z"
      },
      {
        "duration": 246,
        "start_time": "2024-03-18T10:08:04.066Z"
      },
      {
        "duration": 196,
        "start_time": "2024-03-18T10:11:02.753Z"
      },
      {
        "duration": 3,
        "start_time": "2024-03-18T10:11:45.864Z"
      },
      {
        "duration": 268,
        "start_time": "2024-03-18T10:12:23.233Z"
      },
      {
        "duration": 212,
        "start_time": "2024-03-18T10:13:05.864Z"
      },
      {
        "duration": 205,
        "start_time": "2024-03-18T10:13:11.256Z"
      },
      {
        "duration": 237,
        "start_time": "2024-03-18T10:13:20.272Z"
      },
      {
        "duration": 217,
        "start_time": "2024-03-18T10:13:22.936Z"
      },
      {
        "duration": 219,
        "start_time": "2024-03-18T10:13:37.496Z"
      },
      {
        "duration": 275,
        "start_time": "2024-03-18T10:14:05.696Z"
      },
      {
        "duration": 10,
        "start_time": "2024-03-18T10:15:46.552Z"
      },
      {
        "duration": 201,
        "start_time": "2024-03-18T10:15:51.816Z"
      },
      {
        "duration": 234,
        "start_time": "2024-03-18T10:16:56.055Z"
      },
      {
        "duration": 219,
        "start_time": "2024-03-18T10:17:06.705Z"
      },
      {
        "duration": 215,
        "start_time": "2024-03-18T10:17:13.448Z"
      },
      {
        "duration": 287,
        "start_time": "2024-03-18T10:17:21.616Z"
      },
      {
        "duration": 225,
        "start_time": "2024-03-18T10:17:35.624Z"
      },
      {
        "duration": 237,
        "start_time": "2024-03-18T10:17:51.716Z"
      },
      {
        "duration": 224,
        "start_time": "2024-03-18T10:18:11.551Z"
      },
      {
        "duration": 4,
        "start_time": "2024-03-18T10:18:23.561Z"
      },
      {
        "duration": 231,
        "start_time": "2024-03-18T10:18:27.207Z"
      },
      {
        "duration": 22,
        "start_time": "2024-03-18T10:21:26.503Z"
      },
      {
        "duration": 12,
        "start_time": "2024-03-18T10:22:53.838Z"
      },
      {
        "duration": 9,
        "start_time": "2024-03-18T10:23:04.398Z"
      },
      {
        "duration": 3,
        "start_time": "2024-03-18T10:24:14.118Z"
      },
      {
        "duration": 309,
        "start_time": "2024-03-18T10:24:21.471Z"
      },
      {
        "duration": 9,
        "start_time": "2024-03-18T10:24:31.694Z"
      },
      {
        "duration": 2881,
        "start_time": "2024-03-18T10:24:50.509Z"
      },
      {
        "duration": 1145,
        "start_time": "2024-03-18T10:24:53.392Z"
      },
      {
        "duration": 48,
        "start_time": "2024-03-18T10:24:54.538Z"
      },
      {
        "duration": 5,
        "start_time": "2024-03-18T10:24:54.588Z"
      },
      {
        "duration": 84,
        "start_time": "2024-03-18T10:24:54.595Z"
      },
      {
        "duration": 2,
        "start_time": "2024-03-18T10:24:54.681Z"
      },
      {
        "duration": 18,
        "start_time": "2024-03-18T10:24:54.684Z"
      },
      {
        "duration": 9,
        "start_time": "2024-03-18T10:24:54.703Z"
      },
      {
        "duration": 6,
        "start_time": "2024-03-18T10:24:54.713Z"
      },
      {
        "duration": 255,
        "start_time": "2024-03-18T10:24:54.720Z"
      },
      {
        "duration": 3,
        "start_time": "2024-03-18T10:24:54.976Z"
      },
      {
        "duration": 10,
        "start_time": "2024-03-18T10:24:54.980Z"
      },
      {
        "duration": 250,
        "start_time": "2024-03-18T10:24:54.991Z"
      },
      {
        "duration": 7,
        "start_time": "2024-03-18T10:24:55.243Z"
      },
      {
        "duration": 7,
        "start_time": "2024-03-18T10:25:00.519Z"
      },
      {
        "duration": 106,
        "start_time": "2024-03-18T10:28:33.398Z"
      },
      {
        "duration": 267,
        "start_time": "2024-03-18T10:29:21.488Z"
      },
      {
        "duration": 191,
        "start_time": "2024-03-18T10:29:48.750Z"
      },
      {
        "duration": 2,
        "start_time": "2024-03-18T10:32:05.958Z"
      },
      {
        "duration": 206,
        "start_time": "2024-03-18T10:32:12.911Z"
      },
      {
        "duration": 4,
        "start_time": "2024-03-18T10:32:15.150Z"
      },
      {
        "duration": 2,
        "start_time": "2024-03-18T10:32:16.054Z"
      },
      {
        "duration": 5,
        "start_time": "2024-03-18T10:32:16.717Z"
      },
      {
        "duration": 239,
        "start_time": "2024-03-18T10:32:17.191Z"
      },
      {
        "duration": 11,
        "start_time": "2024-03-18T10:32:24.214Z"
      },
      {
        "duration": 587,
        "start_time": "2024-03-18T10:32:33.886Z"
      },
      {
        "duration": 631,
        "start_time": "2024-03-18T10:33:22.350Z"
      },
      {
        "duration": 181,
        "start_time": "2024-03-18T10:39:54.192Z"
      },
      {
        "duration": 164,
        "start_time": "2024-03-18T10:40:22.208Z"
      },
      {
        "duration": 137,
        "start_time": "2024-03-18T10:40:58.376Z"
      },
      {
        "duration": 134,
        "start_time": "2024-03-18T10:41:17.040Z"
      },
      {
        "duration": 142,
        "start_time": "2024-03-18T10:41:40.545Z"
      },
      {
        "duration": 221,
        "start_time": "2024-03-18T10:42:20.241Z"
      },
      {
        "duration": 125,
        "start_time": "2024-03-18T10:42:55.561Z"
      },
      {
        "duration": 123,
        "start_time": "2024-03-18T10:43:16.633Z"
      },
      {
        "duration": 142,
        "start_time": "2024-03-18T10:43:36.041Z"
      },
      {
        "duration": 5,
        "start_time": "2024-03-18T10:53:42.185Z"
      },
      {
        "duration": 261,
        "start_time": "2024-03-18T10:53:43.161Z"
      },
      {
        "duration": 140,
        "start_time": "2024-03-18T10:56:31.370Z"
      },
      {
        "duration": 141,
        "start_time": "2024-03-18T10:56:47.249Z"
      },
      {
        "duration": 137,
        "start_time": "2024-03-18T10:57:12.729Z"
      },
      {
        "duration": 5,
        "start_time": "2024-03-18T11:50:06.242Z"
      },
      {
        "duration": 4,
        "start_time": "2024-03-18T11:52:51.986Z"
      },
      {
        "duration": 96,
        "start_time": "2024-03-18T11:53:52.467Z"
      },
      {
        "duration": 4,
        "start_time": "2024-03-18T11:56:54.004Z"
      },
      {
        "duration": 3,
        "start_time": "2024-03-18T11:59:47.997Z"
      },
      {
        "duration": 2,
        "start_time": "2024-03-18T12:03:03.526Z"
      },
      {
        "duration": 3,
        "start_time": "2024-03-18T12:03:31.420Z"
      },
      {
        "duration": 14,
        "start_time": "2024-03-18T12:11:30.350Z"
      },
      {
        "duration": 6,
        "start_time": "2024-03-18T12:12:16.046Z"
      },
      {
        "duration": 4,
        "start_time": "2024-03-18T12:12:21.398Z"
      },
      {
        "duration": 4,
        "start_time": "2024-03-18T12:12:25.983Z"
      },
      {
        "duration": 9,
        "start_time": "2024-03-18T12:12:57.702Z"
      },
      {
        "duration": 8,
        "start_time": "2024-03-18T12:22:29.910Z"
      },
      {
        "duration": 9,
        "start_time": "2024-03-18T12:22:31.791Z"
      },
      {
        "duration": 4,
        "start_time": "2024-03-18T12:22:48.935Z"
      },
      {
        "duration": 4,
        "start_time": "2024-03-18T12:22:51.751Z"
      },
      {
        "duration": 8,
        "start_time": "2024-03-18T12:22:53.766Z"
      },
      {
        "duration": 7,
        "start_time": "2024-03-18T12:22:55.910Z"
      },
      {
        "duration": 8,
        "start_time": "2024-03-18T12:23:19.678Z"
      },
      {
        "duration": 8,
        "start_time": "2024-03-18T12:23:25.070Z"
      },
      {
        "duration": 3,
        "start_time": "2024-03-18T12:24:12.217Z"
      },
      {
        "duration": 3,
        "start_time": "2024-03-18T12:25:15.223Z"
      },
      {
        "duration": 2863,
        "start_time": "2024-03-18T12:25:26.933Z"
      },
      {
        "duration": 1175,
        "start_time": "2024-03-18T12:25:29.798Z"
      },
      {
        "duration": 50,
        "start_time": "2024-03-18T12:25:30.975Z"
      },
      {
        "duration": 20,
        "start_time": "2024-03-18T12:25:31.027Z"
      },
      {
        "duration": 132,
        "start_time": "2024-03-18T12:25:31.049Z"
      },
      {
        "duration": 12,
        "start_time": "2024-03-18T12:25:31.182Z"
      },
      {
        "duration": 84,
        "start_time": "2024-03-18T12:25:31.195Z"
      },
      {
        "duration": 75,
        "start_time": "2024-03-18T12:25:31.280Z"
      },
      {
        "duration": 42,
        "start_time": "2024-03-18T12:25:31.357Z"
      },
      {
        "duration": 247,
        "start_time": "2024-03-18T12:25:31.401Z"
      },
      {
        "duration": 3,
        "start_time": "2024-03-18T12:25:31.650Z"
      },
      {
        "duration": 100,
        "start_time": "2024-03-18T12:25:31.654Z"
      },
      {
        "duration": 422,
        "start_time": "2024-03-18T12:25:31.756Z"
      },
      {
        "duration": 7,
        "start_time": "2024-03-18T12:25:32.180Z"
      },
      {
        "duration": 745,
        "start_time": "2024-03-18T12:25:32.188Z"
      },
      {
        "duration": 142,
        "start_time": "2024-03-18T12:25:32.934Z"
      },
      {
        "duration": 4,
        "start_time": "2024-03-18T12:25:33.078Z"
      },
      {
        "duration": 5,
        "start_time": "2024-03-18T12:25:33.083Z"
      },
      {
        "duration": 5,
        "start_time": "2024-03-18T12:25:33.089Z"
      },
      {
        "duration": 13,
        "start_time": "2024-03-18T12:25:33.095Z"
      },
      {
        "duration": 7,
        "start_time": "2024-03-18T12:25:33.110Z"
      },
      {
        "duration": 2,
        "start_time": "2024-03-18T12:25:33.118Z"
      },
      {
        "duration": 4,
        "start_time": "2024-03-18T12:25:33.122Z"
      },
      {
        "duration": 110,
        "start_time": "2024-03-18T14:07:55.513Z"
      },
      {
        "duration": 4,
        "start_time": "2024-03-18T14:08:35.663Z"
      },
      {
        "duration": 3,
        "start_time": "2024-03-18T14:08:40.839Z"
      },
      {
        "duration": 9,
        "start_time": "2024-03-18T14:08:59.552Z"
      },
      {
        "duration": 3,
        "start_time": "2024-03-18T14:12:00.426Z"
      },
      {
        "duration": 3,
        "start_time": "2024-03-18T14:13:32.608Z"
      },
      {
        "duration": 2,
        "start_time": "2024-03-18T14:14:27.458Z"
      },
      {
        "duration": 8,
        "start_time": "2024-03-18T14:14:34.593Z"
      },
      {
        "duration": 2,
        "start_time": "2024-03-18T14:14:55.921Z"
      },
      {
        "duration": 3,
        "start_time": "2024-03-18T14:14:56.832Z"
      },
      {
        "duration": 3,
        "start_time": "2024-03-18T14:14:57.881Z"
      },
      {
        "duration": 3,
        "start_time": "2024-03-18T14:14:59.737Z"
      },
      {
        "duration": 3,
        "start_time": "2024-03-18T14:15:00.601Z"
      },
      {
        "duration": 8,
        "start_time": "2024-03-18T14:15:01.689Z"
      },
      {
        "duration": 8,
        "start_time": "2024-03-18T14:16:53.793Z"
      },
      {
        "duration": 2848,
        "start_time": "2024-03-18T14:17:09.338Z"
      },
      {
        "duration": 1161,
        "start_time": "2024-03-18T14:17:12.188Z"
      },
      {
        "duration": 49,
        "start_time": "2024-03-18T14:17:13.351Z"
      },
      {
        "duration": 5,
        "start_time": "2024-03-18T14:17:13.401Z"
      },
      {
        "duration": 91,
        "start_time": "2024-03-18T14:17:13.408Z"
      },
      {
        "duration": 3,
        "start_time": "2024-03-18T14:17:13.500Z"
      },
      {
        "duration": 19,
        "start_time": "2024-03-18T14:17:13.504Z"
      },
      {
        "duration": 18,
        "start_time": "2024-03-18T14:17:13.524Z"
      },
      {
        "duration": 5,
        "start_time": "2024-03-18T14:17:13.544Z"
      },
      {
        "duration": 220,
        "start_time": "2024-03-18T14:17:13.551Z"
      },
      {
        "duration": 3,
        "start_time": "2024-03-18T14:17:13.772Z"
      },
      {
        "duration": 13,
        "start_time": "2024-03-18T14:17:13.776Z"
      },
      {
        "duration": 246,
        "start_time": "2024-03-18T14:17:13.790Z"
      },
      {
        "duration": 6,
        "start_time": "2024-03-18T14:17:14.039Z"
      },
      {
        "duration": 708,
        "start_time": "2024-03-18T14:17:14.046Z"
      },
      {
        "duration": 141,
        "start_time": "2024-03-18T14:17:14.756Z"
      },
      {
        "duration": 3,
        "start_time": "2024-03-18T14:17:14.899Z"
      },
      {
        "duration": 8,
        "start_time": "2024-03-18T14:17:14.903Z"
      },
      {
        "duration": 17,
        "start_time": "2024-03-18T14:17:14.912Z"
      },
      {
        "duration": 116,
        "start_time": "2024-03-18T14:17:14.930Z"
      },
      {
        "duration": 0,
        "start_time": "2024-03-18T14:17:15.048Z"
      },
      {
        "duration": 0,
        "start_time": "2024-03-18T14:17:15.049Z"
      },
      {
        "duration": 0,
        "start_time": "2024-03-18T14:17:15.050Z"
      },
      {
        "duration": 0,
        "start_time": "2024-03-18T14:17:15.051Z"
      },
      {
        "duration": 0,
        "start_time": "2024-03-18T14:17:15.052Z"
      },
      {
        "duration": 0,
        "start_time": "2024-03-18T14:17:15.053Z"
      },
      {
        "duration": 0,
        "start_time": "2024-03-18T14:17:15.054Z"
      },
      {
        "duration": 0,
        "start_time": "2024-03-18T14:17:15.055Z"
      },
      {
        "duration": 8,
        "start_time": "2024-03-18T14:17:37.394Z"
      },
      {
        "duration": 4,
        "start_time": "2024-03-18T14:20:28.698Z"
      },
      {
        "duration": 4,
        "start_time": "2024-03-18T14:22:36.306Z"
      },
      {
        "duration": 9,
        "start_time": "2024-03-18T14:22:37.051Z"
      },
      {
        "duration": 8,
        "start_time": "2024-03-18T14:23:36.394Z"
      },
      {
        "duration": 9,
        "start_time": "2024-03-18T14:24:44.522Z"
      },
      {
        "duration": 4,
        "start_time": "2024-03-18T14:25:07.138Z"
      },
      {
        "duration": 9,
        "start_time": "2024-03-18T14:25:08.994Z"
      },
      {
        "duration": 4,
        "start_time": "2024-03-18T14:25:15.347Z"
      },
      {
        "duration": 9,
        "start_time": "2024-03-18T14:53:40.364Z"
      },
      {
        "duration": 8,
        "start_time": "2024-03-18T14:54:15.452Z"
      },
      {
        "duration": 11,
        "start_time": "2024-03-18T14:54:39.308Z"
      },
      {
        "duration": 5,
        "start_time": "2024-03-18T14:59:18.084Z"
      },
      {
        "duration": 8,
        "start_time": "2024-03-18T14:59:22.956Z"
      },
      {
        "duration": 3,
        "start_time": "2024-03-18T14:59:38.212Z"
      },
      {
        "duration": 4,
        "start_time": "2024-03-18T15:03:16.285Z"
      },
      {
        "duration": 4,
        "start_time": "2024-03-18T15:03:24.060Z"
      },
      {
        "duration": 27,
        "start_time": "2024-03-18T15:03:51.316Z"
      },
      {
        "duration": 16,
        "start_time": "2024-03-18T15:04:14.292Z"
      },
      {
        "duration": 4,
        "start_time": "2024-03-18T15:04:25.157Z"
      },
      {
        "duration": 10,
        "start_time": "2024-03-18T15:04:29.748Z"
      },
      {
        "duration": 4,
        "start_time": "2024-03-18T15:04:54.901Z"
      },
      {
        "duration": 8,
        "start_time": "2024-03-18T15:05:04.548Z"
      },
      {
        "duration": 4,
        "start_time": "2024-03-18T15:05:05.971Z"
      },
      {
        "duration": 21,
        "start_time": "2024-03-18T15:05:30.837Z"
      },
      {
        "duration": 5,
        "start_time": "2024-03-18T15:05:45.043Z"
      },
      {
        "duration": 21,
        "start_time": "2024-03-18T15:05:46.109Z"
      },
      {
        "duration": 6,
        "start_time": "2024-03-18T15:05:53.909Z"
      },
      {
        "duration": 4,
        "start_time": "2024-03-18T15:06:03.364Z"
      },
      {
        "duration": 8,
        "start_time": "2024-03-18T15:06:04.221Z"
      },
      {
        "duration": 4,
        "start_time": "2024-03-18T15:06:04.892Z"
      },
      {
        "duration": 3,
        "start_time": "2024-03-18T15:09:04.517Z"
      },
      {
        "duration": 10,
        "start_time": "2024-03-18T15:09:05.357Z"
      },
      {
        "duration": 26,
        "start_time": "2024-03-18T15:09:26.733Z"
      },
      {
        "duration": 3,
        "start_time": "2024-03-18T15:09:31.813Z"
      },
      {
        "duration": 3,
        "start_time": "2024-03-18T15:09:34.836Z"
      },
      {
        "duration": 527,
        "start_time": "2024-03-18T15:09:36.116Z"
      },
      {
        "duration": 3,
        "start_time": "2024-03-18T15:10:23.813Z"
      },
      {
        "duration": 9,
        "start_time": "2024-03-18T15:11:36.189Z"
      },
      {
        "duration": 3,
        "start_time": "2024-03-18T15:11:37.358Z"
      },
      {
        "duration": 8,
        "start_time": "2024-03-18T15:11:38.045Z"
      },
      {
        "duration": 4,
        "start_time": "2024-03-18T15:11:39.005Z"
      },
      {
        "duration": 2,
        "start_time": "2024-03-18T15:11:41.006Z"
      },
      {
        "duration": 3,
        "start_time": "2024-03-18T15:11:41.845Z"
      },
      {
        "duration": 2,
        "start_time": "2024-03-18T15:11:43.485Z"
      },
      {
        "duration": 569,
        "start_time": "2024-03-18T15:11:44.445Z"
      },
      {
        "duration": 3,
        "start_time": "2024-03-18T15:11:46.989Z"
      },
      {
        "duration": 11,
        "start_time": "2024-03-18T15:12:17.077Z"
      },
      {
        "duration": 3,
        "start_time": "2024-03-18T15:13:25.677Z"
      },
      {
        "duration": 4,
        "start_time": "2024-03-18T15:13:31.518Z"
      },
      {
        "duration": 5,
        "start_time": "2024-03-18T15:13:32.292Z"
      },
      {
        "duration": 4,
        "start_time": "2024-03-18T15:13:33.365Z"
      },
      {
        "duration": 2819,
        "start_time": "2024-03-18T15:13:48.302Z"
      },
      {
        "duration": 1136,
        "start_time": "2024-03-18T15:13:51.123Z"
      },
      {
        "duration": 48,
        "start_time": "2024-03-18T15:13:52.260Z"
      },
      {
        "duration": 5,
        "start_time": "2024-03-18T15:13:52.310Z"
      },
      {
        "duration": 76,
        "start_time": "2024-03-18T15:13:52.317Z"
      },
      {
        "duration": 2,
        "start_time": "2024-03-18T15:13:52.395Z"
      },
      {
        "duration": 20,
        "start_time": "2024-03-18T15:13:52.399Z"
      },
      {
        "duration": 10,
        "start_time": "2024-03-18T15:13:52.420Z"
      },
      {
        "duration": 6,
        "start_time": "2024-03-18T15:13:52.431Z"
      },
      {
        "duration": 240,
        "start_time": "2024-03-18T15:13:52.439Z"
      },
      {
        "duration": 2,
        "start_time": "2024-03-18T15:13:52.681Z"
      },
      {
        "duration": 12,
        "start_time": "2024-03-18T15:13:52.685Z"
      },
      {
        "duration": 345,
        "start_time": "2024-03-18T15:13:52.699Z"
      },
      {
        "duration": 7,
        "start_time": "2024-03-18T15:13:53.047Z"
      },
      {
        "duration": 661,
        "start_time": "2024-03-18T15:13:53.055Z"
      },
      {
        "duration": 143,
        "start_time": "2024-03-18T15:13:53.718Z"
      },
      {
        "duration": 11,
        "start_time": "2024-03-18T15:13:53.862Z"
      },
      {
        "duration": 34,
        "start_time": "2024-03-18T15:13:53.874Z"
      },
      {
        "duration": 12,
        "start_time": "2024-03-18T15:13:53.909Z"
      },
      {
        "duration": 15,
        "start_time": "2024-03-18T15:13:53.922Z"
      },
      {
        "duration": 4,
        "start_time": "2024-03-18T15:13:53.939Z"
      },
      {
        "duration": 3,
        "start_time": "2024-03-18T15:13:53.945Z"
      },
      {
        "duration": 8,
        "start_time": "2024-03-18T15:13:53.950Z"
      },
      {
        "duration": 7,
        "start_time": "2024-03-18T15:13:53.959Z"
      },
      {
        "duration": 4,
        "start_time": "2024-03-18T15:13:53.967Z"
      },
      {
        "duration": 5,
        "start_time": "2024-03-18T15:13:53.973Z"
      },
      {
        "duration": 5,
        "start_time": "2024-03-18T15:13:53.979Z"
      },
      {
        "duration": 27,
        "start_time": "2024-03-18T15:13:53.985Z"
      },
      {
        "duration": 459,
        "start_time": "2024-03-18T15:13:54.013Z"
      },
      {
        "duration": 2,
        "start_time": "2024-03-18T15:13:54.474Z"
      },
      {
        "duration": 8,
        "start_time": "2024-03-18T15:13:54.478Z"
      },
      {
        "duration": 6,
        "start_time": "2024-03-18T15:13:54.488Z"
      },
      {
        "duration": 6,
        "start_time": "2024-03-18T15:13:54.495Z"
      },
      {
        "duration": 7,
        "start_time": "2024-03-18T15:17:46.583Z"
      },
      {
        "duration": 3,
        "start_time": "2024-03-18T15:17:47.958Z"
      },
      {
        "duration": 7,
        "start_time": "2024-03-18T15:17:48.878Z"
      },
      {
        "duration": 4,
        "start_time": "2024-03-18T15:17:50.389Z"
      },
      {
        "duration": 2,
        "start_time": "2024-03-18T15:17:52.118Z"
      },
      {
        "duration": 3,
        "start_time": "2024-03-18T15:17:53.853Z"
      },
      {
        "duration": 2,
        "start_time": "2024-03-18T15:17:54.646Z"
      },
      {
        "duration": 545,
        "start_time": "2024-03-18T15:17:55.327Z"
      },
      {
        "duration": 2,
        "start_time": "2024-03-18T15:17:57.158Z"
      },
      {
        "duration": 3,
        "start_time": "2024-03-18T15:17:58.630Z"
      },
      {
        "duration": 4,
        "start_time": "2024-03-18T15:18:00.239Z"
      },
      {
        "duration": 4,
        "start_time": "2024-03-18T15:20:52.143Z"
      },
      {
        "duration": 109,
        "start_time": "2024-03-18T15:20:53.878Z"
      },
      {
        "duration": 12,
        "start_time": "2024-03-18T15:21:08.702Z"
      },
      {
        "duration": 5,
        "start_time": "2024-03-18T15:21:10.158Z"
      },
      {
        "duration": 3,
        "start_time": "2024-03-18T15:30:10.399Z"
      },
      {
        "duration": 2,
        "start_time": "2024-03-18T15:30:18.559Z"
      },
      {
        "duration": 11,
        "start_time": "2024-03-18T15:36:11.039Z"
      },
      {
        "duration": 3,
        "start_time": "2024-03-18T15:44:16.464Z"
      },
      {
        "duration": 3,
        "start_time": "2024-03-18T15:46:01.073Z"
      },
      {
        "duration": 3,
        "start_time": "2024-03-18T15:46:12.327Z"
      },
      {
        "duration": 22,
        "start_time": "2024-03-18T15:46:13.512Z"
      },
      {
        "duration": 2773,
        "start_time": "2024-03-18T15:46:36.723Z"
      },
      {
        "duration": 1174,
        "start_time": "2024-03-18T15:46:39.498Z"
      },
      {
        "duration": 49,
        "start_time": "2024-03-18T15:46:40.674Z"
      },
      {
        "duration": 5,
        "start_time": "2024-03-18T15:46:40.724Z"
      },
      {
        "duration": 80,
        "start_time": "2024-03-18T15:46:40.731Z"
      },
      {
        "duration": 3,
        "start_time": "2024-03-18T15:46:40.812Z"
      },
      {
        "duration": 34,
        "start_time": "2024-03-18T15:46:40.816Z"
      },
      {
        "duration": 9,
        "start_time": "2024-03-18T15:46:40.852Z"
      },
      {
        "duration": 6,
        "start_time": "2024-03-18T15:46:40.862Z"
      },
      {
        "duration": 243,
        "start_time": "2024-03-18T15:46:40.869Z"
      },
      {
        "duration": 3,
        "start_time": "2024-03-18T15:46:41.114Z"
      },
      {
        "duration": 22,
        "start_time": "2024-03-18T15:46:41.118Z"
      },
      {
        "duration": 322,
        "start_time": "2024-03-18T15:46:41.141Z"
      },
      {
        "duration": 8,
        "start_time": "2024-03-18T15:46:41.467Z"
      },
      {
        "duration": 653,
        "start_time": "2024-03-18T15:46:41.476Z"
      },
      {
        "duration": 147,
        "start_time": "2024-03-18T15:46:42.131Z"
      },
      {
        "duration": 5,
        "start_time": "2024-03-18T15:46:42.280Z"
      },
      {
        "duration": 15,
        "start_time": "2024-03-18T15:46:42.286Z"
      },
      {
        "duration": 12,
        "start_time": "2024-03-18T15:46:42.302Z"
      },
      {
        "duration": 31,
        "start_time": "2024-03-18T15:46:42.316Z"
      },
      {
        "duration": 4,
        "start_time": "2024-03-18T15:46:42.348Z"
      },
      {
        "duration": 11,
        "start_time": "2024-03-18T15:46:42.353Z"
      },
      {
        "duration": 12,
        "start_time": "2024-03-18T15:46:42.365Z"
      },
      {
        "duration": 16,
        "start_time": "2024-03-18T15:46:42.379Z"
      },
      {
        "duration": 3,
        "start_time": "2024-03-18T15:46:42.396Z"
      },
      {
        "duration": 4,
        "start_time": "2024-03-18T15:46:42.400Z"
      },
      {
        "duration": 5,
        "start_time": "2024-03-18T15:46:42.405Z"
      },
      {
        "duration": 5,
        "start_time": "2024-03-18T15:46:42.411Z"
      },
      {
        "duration": 2623,
        "start_time": "2024-03-18T15:46:42.417Z"
      },
      {
        "duration": 0,
        "start_time": "2024-03-18T15:46:45.041Z"
      },
      {
        "duration": 0,
        "start_time": "2024-03-18T15:46:45.042Z"
      },
      {
        "duration": 0,
        "start_time": "2024-03-18T15:46:45.043Z"
      },
      {
        "duration": 0,
        "start_time": "2024-03-18T15:46:45.044Z"
      },
      {
        "duration": 3,
        "start_time": "2024-03-18T15:47:30.496Z"
      },
      {
        "duration": 2,
        "start_time": "2024-03-18T15:47:31.384Z"
      },
      {
        "duration": 3201,
        "start_time": "2024-03-18T15:47:32.241Z"
      },
      {
        "duration": 2797,
        "start_time": "2024-03-18T15:48:44.519Z"
      },
      {
        "duration": 1221,
        "start_time": "2024-03-18T15:48:47.318Z"
      },
      {
        "duration": 49,
        "start_time": "2024-03-18T15:48:48.542Z"
      },
      {
        "duration": 5,
        "start_time": "2024-03-18T15:48:48.593Z"
      },
      {
        "duration": 88,
        "start_time": "2024-03-18T15:48:48.599Z"
      },
      {
        "duration": 3,
        "start_time": "2024-03-18T15:48:48.688Z"
      },
      {
        "duration": 8,
        "start_time": "2024-03-18T15:48:48.692Z"
      },
      {
        "duration": 9,
        "start_time": "2024-03-18T15:48:48.701Z"
      },
      {
        "duration": 6,
        "start_time": "2024-03-18T15:48:48.711Z"
      },
      {
        "duration": 244,
        "start_time": "2024-03-18T15:48:48.718Z"
      },
      {
        "duration": 6,
        "start_time": "2024-03-18T15:48:48.964Z"
      },
      {
        "duration": 8,
        "start_time": "2024-03-18T15:48:48.971Z"
      },
      {
        "duration": 308,
        "start_time": "2024-03-18T15:48:48.982Z"
      },
      {
        "duration": 8,
        "start_time": "2024-03-18T15:48:49.292Z"
      },
      {
        "duration": 656,
        "start_time": "2024-03-18T15:48:49.301Z"
      },
      {
        "duration": 144,
        "start_time": "2024-03-18T15:48:49.959Z"
      },
      {
        "duration": 5,
        "start_time": "2024-03-18T15:48:50.104Z"
      },
      {
        "duration": 9,
        "start_time": "2024-03-18T15:48:50.110Z"
      },
      {
        "duration": 12,
        "start_time": "2024-03-18T15:48:50.120Z"
      },
      {
        "duration": 10,
        "start_time": "2024-03-18T15:48:50.133Z"
      },
      {
        "duration": 115,
        "start_time": "2024-03-18T15:48:50.145Z"
      },
      {
        "duration": 0,
        "start_time": "2024-03-18T15:48:50.261Z"
      },
      {
        "duration": 0,
        "start_time": "2024-03-18T15:48:50.262Z"
      },
      {
        "duration": 0,
        "start_time": "2024-03-18T15:48:50.263Z"
      },
      {
        "duration": 0,
        "start_time": "2024-03-18T15:48:50.264Z"
      },
      {
        "duration": 0,
        "start_time": "2024-03-18T15:48:50.265Z"
      },
      {
        "duration": 0,
        "start_time": "2024-03-18T15:48:50.269Z"
      },
      {
        "duration": 0,
        "start_time": "2024-03-18T15:48:50.270Z"
      },
      {
        "duration": 0,
        "start_time": "2024-03-18T15:48:50.271Z"
      },
      {
        "duration": 0,
        "start_time": "2024-03-18T15:48:50.272Z"
      },
      {
        "duration": 0,
        "start_time": "2024-03-18T15:48:50.273Z"
      },
      {
        "duration": 0,
        "start_time": "2024-03-18T15:48:50.274Z"
      },
      {
        "duration": 0,
        "start_time": "2024-03-18T15:48:50.276Z"
      },
      {
        "duration": 2846,
        "start_time": "2024-03-18T15:49:12.300Z"
      },
      {
        "duration": 1207,
        "start_time": "2024-03-18T15:49:15.148Z"
      },
      {
        "duration": 49,
        "start_time": "2024-03-18T15:49:16.356Z"
      },
      {
        "duration": 5,
        "start_time": "2024-03-18T15:49:16.406Z"
      },
      {
        "duration": 81,
        "start_time": "2024-03-18T15:49:16.413Z"
      },
      {
        "duration": 3,
        "start_time": "2024-03-18T15:49:16.495Z"
      },
      {
        "duration": 13,
        "start_time": "2024-03-18T15:49:16.499Z"
      },
      {
        "duration": 9,
        "start_time": "2024-03-18T15:49:16.513Z"
      },
      {
        "duration": 5,
        "start_time": "2024-03-18T15:49:16.524Z"
      },
      {
        "duration": 258,
        "start_time": "2024-03-18T15:49:16.530Z"
      },
      {
        "duration": 3,
        "start_time": "2024-03-18T15:49:16.789Z"
      },
      {
        "duration": 29,
        "start_time": "2024-03-18T15:49:16.793Z"
      },
      {
        "duration": 304,
        "start_time": "2024-03-18T15:49:16.824Z"
      },
      {
        "duration": 7,
        "start_time": "2024-03-18T15:49:17.132Z"
      },
      {
        "duration": 659,
        "start_time": "2024-03-18T15:49:17.140Z"
      },
      {
        "duration": 141,
        "start_time": "2024-03-18T15:49:17.800Z"
      },
      {
        "duration": 3,
        "start_time": "2024-03-18T15:49:17.943Z"
      },
      {
        "duration": 19,
        "start_time": "2024-03-18T15:49:17.948Z"
      },
      {
        "duration": 25,
        "start_time": "2024-03-18T15:49:17.968Z"
      },
      {
        "duration": 38,
        "start_time": "2024-03-18T15:49:17.994Z"
      },
      {
        "duration": 12,
        "start_time": "2024-03-18T15:49:18.033Z"
      },
      {
        "duration": 12,
        "start_time": "2024-03-18T15:49:18.047Z"
      },
      {
        "duration": 27,
        "start_time": "2024-03-18T15:49:18.061Z"
      },
      {
        "duration": 15,
        "start_time": "2024-03-18T15:49:18.089Z"
      },
      {
        "duration": 23,
        "start_time": "2024-03-18T15:49:18.106Z"
      },
      {
        "duration": 24,
        "start_time": "2024-03-18T15:49:18.130Z"
      },
      {
        "duration": 19,
        "start_time": "2024-03-18T15:49:18.156Z"
      },
      {
        "duration": 19,
        "start_time": "2024-03-18T15:49:18.176Z"
      },
      {
        "duration": 115,
        "start_time": "2024-03-18T15:49:18.196Z"
      },
      {
        "duration": 0,
        "start_time": "2024-03-18T15:49:18.312Z"
      },
      {
        "duration": 0,
        "start_time": "2024-03-18T15:49:18.313Z"
      },
      {
        "duration": 0,
        "start_time": "2024-03-18T15:49:18.315Z"
      },
      {
        "duration": 0,
        "start_time": "2024-03-18T15:49:18.316Z"
      },
      {
        "duration": 3,
        "start_time": "2024-03-18T15:50:29.103Z"
      },
      {
        "duration": 7,
        "start_time": "2024-03-18T15:50:59.088Z"
      },
      {
        "duration": 7,
        "start_time": "2024-03-18T15:51:21.103Z"
      },
      {
        "duration": 2,
        "start_time": "2024-03-18T15:51:29.000Z"
      },
      {
        "duration": 14,
        "start_time": "2024-03-18T15:51:29.983Z"
      },
      {
        "duration": 2738,
        "start_time": "2024-03-18T15:51:42.116Z"
      },
      {
        "duration": 1219,
        "start_time": "2024-03-18T15:51:44.857Z"
      },
      {
        "duration": 48,
        "start_time": "2024-03-18T15:51:46.078Z"
      },
      {
        "duration": 6,
        "start_time": "2024-03-18T15:51:46.128Z"
      },
      {
        "duration": 90,
        "start_time": "2024-03-18T15:51:46.136Z"
      },
      {
        "duration": 2,
        "start_time": "2024-03-18T15:51:46.228Z"
      },
      {
        "duration": 33,
        "start_time": "2024-03-18T15:51:46.232Z"
      },
      {
        "duration": 14,
        "start_time": "2024-03-18T15:51:46.266Z"
      },
      {
        "duration": 14,
        "start_time": "2024-03-18T15:51:46.281Z"
      },
      {
        "duration": 222,
        "start_time": "2024-03-18T15:51:46.296Z"
      },
      {
        "duration": 3,
        "start_time": "2024-03-18T15:51:46.519Z"
      },
      {
        "duration": 14,
        "start_time": "2024-03-18T15:51:46.523Z"
      },
      {
        "duration": 315,
        "start_time": "2024-03-18T15:51:46.539Z"
      },
      {
        "duration": 12,
        "start_time": "2024-03-18T15:51:46.857Z"
      },
      {
        "duration": 671,
        "start_time": "2024-03-18T15:51:46.871Z"
      },
      {
        "duration": 139,
        "start_time": "2024-03-18T15:51:47.543Z"
      },
      {
        "duration": 4,
        "start_time": "2024-03-18T15:51:47.683Z"
      },
      {
        "duration": 6,
        "start_time": "2024-03-18T15:51:47.689Z"
      },
      {
        "duration": 11,
        "start_time": "2024-03-18T15:51:47.696Z"
      },
      {
        "duration": 3,
        "start_time": "2024-03-18T15:51:47.708Z"
      },
      {
        "duration": 7,
        "start_time": "2024-03-18T15:51:47.712Z"
      },
      {
        "duration": 3,
        "start_time": "2024-03-18T15:51:47.720Z"
      },
      {
        "duration": 5,
        "start_time": "2024-03-18T15:51:47.724Z"
      },
      {
        "duration": 3,
        "start_time": "2024-03-18T15:51:47.731Z"
      },
      {
        "duration": 10,
        "start_time": "2024-03-18T15:51:47.736Z"
      },
      {
        "duration": 5,
        "start_time": "2024-03-18T15:51:47.748Z"
      },
      {
        "duration": 14,
        "start_time": "2024-03-18T15:51:47.755Z"
      },
      {
        "duration": 2,
        "start_time": "2024-03-18T15:51:47.771Z"
      },
      {
        "duration": 7,
        "start_time": "2024-03-18T15:51:47.775Z"
      },
      {
        "duration": 3,
        "start_time": "2024-03-18T15:51:47.784Z"
      },
      {
        "duration": 114,
        "start_time": "2024-03-18T15:51:47.788Z"
      },
      {
        "duration": 0,
        "start_time": "2024-03-18T15:51:47.903Z"
      },
      {
        "duration": 0,
        "start_time": "2024-03-18T15:51:47.904Z"
      },
      {
        "duration": 0,
        "start_time": "2024-03-18T15:51:47.905Z"
      },
      {
        "duration": 0,
        "start_time": "2024-03-18T15:51:47.906Z"
      },
      {
        "duration": 9,
        "start_time": "2024-03-18T15:52:36.255Z"
      },
      {
        "duration": 8,
        "start_time": "2024-03-18T15:53:06.679Z"
      },
      {
        "duration": 3,
        "start_time": "2024-03-18T15:53:28.655Z"
      },
      {
        "duration": 3,
        "start_time": "2024-03-18T15:53:36.807Z"
      },
      {
        "duration": 2768,
        "start_time": "2024-03-18T15:53:53.915Z"
      },
      {
        "duration": 1174,
        "start_time": "2024-03-18T15:53:56.685Z"
      },
      {
        "duration": 47,
        "start_time": "2024-03-18T15:53:57.861Z"
      },
      {
        "duration": 5,
        "start_time": "2024-03-18T15:53:57.910Z"
      },
      {
        "duration": 87,
        "start_time": "2024-03-18T15:53:57.916Z"
      },
      {
        "duration": 2,
        "start_time": "2024-03-18T15:53:58.005Z"
      },
      {
        "duration": 30,
        "start_time": "2024-03-18T15:53:58.008Z"
      },
      {
        "duration": 17,
        "start_time": "2024-03-18T15:53:58.039Z"
      },
      {
        "duration": 13,
        "start_time": "2024-03-18T15:53:58.057Z"
      },
      {
        "duration": 244,
        "start_time": "2024-03-18T15:53:58.072Z"
      },
      {
        "duration": 2,
        "start_time": "2024-03-18T15:53:58.318Z"
      },
      {
        "duration": 25,
        "start_time": "2024-03-18T15:53:58.321Z"
      },
      {
        "duration": 308,
        "start_time": "2024-03-18T15:53:58.347Z"
      },
      {
        "duration": 13,
        "start_time": "2024-03-18T15:53:58.656Z"
      },
      {
        "duration": 656,
        "start_time": "2024-03-18T15:53:58.671Z"
      },
      {
        "duration": 142,
        "start_time": "2024-03-18T15:53:59.328Z"
      },
      {
        "duration": 4,
        "start_time": "2024-03-18T15:53:59.472Z"
      },
      {
        "duration": 41,
        "start_time": "2024-03-18T15:53:59.477Z"
      },
      {
        "duration": 28,
        "start_time": "2024-03-18T15:53:59.520Z"
      },
      {
        "duration": 35,
        "start_time": "2024-03-18T15:53:59.550Z"
      },
      {
        "duration": 19,
        "start_time": "2024-03-18T15:53:59.586Z"
      },
      {
        "duration": 17,
        "start_time": "2024-03-18T15:53:59.606Z"
      },
      {
        "duration": 22,
        "start_time": "2024-03-18T15:53:59.624Z"
      },
      {
        "duration": 17,
        "start_time": "2024-03-18T15:53:59.647Z"
      },
      {
        "duration": 21,
        "start_time": "2024-03-18T15:53:59.666Z"
      },
      {
        "duration": 15,
        "start_time": "2024-03-18T15:53:59.688Z"
      },
      {
        "duration": 23,
        "start_time": "2024-03-18T15:53:59.704Z"
      },
      {
        "duration": 457,
        "start_time": "2024-03-18T15:53:59.730Z"
      },
      {
        "duration": 2,
        "start_time": "2024-03-18T15:54:00.189Z"
      },
      {
        "duration": 88,
        "start_time": "2024-03-18T15:54:00.193Z"
      },
      {
        "duration": 75,
        "start_time": "2024-03-18T15:54:00.283Z"
      },
      {
        "duration": 174,
        "start_time": "2024-03-18T15:54:00.360Z"
      },
      {
        "duration": 3,
        "start_time": "2024-03-18T15:54:36.047Z"
      },
      {
        "duration": 570,
        "start_time": "2024-03-18T15:54:36.761Z"
      },
      {
        "duration": 2,
        "start_time": "2024-03-18T15:54:39.479Z"
      },
      {
        "duration": 3,
        "start_time": "2024-03-18T15:54:40.744Z"
      },
      {
        "duration": 4,
        "start_time": "2024-03-18T15:54:41.678Z"
      },
      {
        "duration": 3,
        "start_time": "2024-03-18T15:54:42.549Z"
      },
      {
        "duration": 3,
        "start_time": "2024-03-18T15:55:37.471Z"
      },
      {
        "duration": 2,
        "start_time": "2024-03-18T15:55:50.801Z"
      },
      {
        "duration": 57,
        "start_time": "2024-03-18T15:55:51.928Z"
      },
      {
        "duration": 2,
        "start_time": "2024-03-18T15:55:53.271Z"
      },
      {
        "duration": 3,
        "start_time": "2024-03-18T15:55:54.367Z"
      },
      {
        "duration": 4,
        "start_time": "2024-03-18T15:55:55.395Z"
      },
      {
        "duration": 4,
        "start_time": "2024-03-18T15:55:56.270Z"
      },
      {
        "duration": 2,
        "start_time": "2024-03-18T15:56:21.751Z"
      },
      {
        "duration": 8,
        "start_time": "2024-03-18T15:56:26.144Z"
      },
      {
        "duration": 104,
        "start_time": "2024-03-18T15:56:42.367Z"
      },
      {
        "duration": 8,
        "start_time": "2024-03-18T15:57:08.360Z"
      },
      {
        "duration": 7,
        "start_time": "2024-03-18T15:57:30.944Z"
      },
      {
        "duration": 104,
        "start_time": "2024-03-18T15:57:47.296Z"
      },
      {
        "duration": 105,
        "start_time": "2024-03-18T15:57:49.287Z"
      },
      {
        "duration": 101,
        "start_time": "2024-03-18T15:57:57.679Z"
      },
      {
        "duration": 7,
        "start_time": "2024-03-18T15:58:02.559Z"
      },
      {
        "duration": 12,
        "start_time": "2024-03-18T15:58:35.039Z"
      },
      {
        "duration": 3,
        "start_time": "2024-03-18T15:58:36.631Z"
      },
      {
        "duration": 2,
        "start_time": "2024-03-18T15:58:37.967Z"
      },
      {
        "duration": 9,
        "start_time": "2024-03-18T15:58:38.567Z"
      },
      {
        "duration": 8,
        "start_time": "2024-03-18T15:58:40.104Z"
      },
      {
        "duration": 6,
        "start_time": "2024-03-18T15:58:41.682Z"
      },
      {
        "duration": 13,
        "start_time": "2024-03-18T15:59:25.807Z"
      },
      {
        "duration": 10,
        "start_time": "2024-03-18T15:59:31.176Z"
      },
      {
        "duration": 13,
        "start_time": "2024-03-18T15:59:32.423Z"
      },
      {
        "duration": 12,
        "start_time": "2024-03-18T15:59:54.887Z"
      },
      {
        "duration": 14,
        "start_time": "2024-03-18T15:59:55.479Z"
      },
      {
        "duration": 12,
        "start_time": "2024-03-18T16:00:03.791Z"
      },
      {
        "duration": 14,
        "start_time": "2024-03-18T16:00:04.415Z"
      },
      {
        "duration": 11,
        "start_time": "2024-03-18T16:00:15.239Z"
      },
      {
        "duration": 14,
        "start_time": "2024-03-18T16:00:16.215Z"
      },
      {
        "duration": 4,
        "start_time": "2024-03-18T16:00:21.805Z"
      },
      {
        "duration": 11,
        "start_time": "2024-03-18T16:00:22.358Z"
      },
      {
        "duration": 16,
        "start_time": "2024-03-18T16:00:22.943Z"
      },
      {
        "duration": 2784,
        "start_time": "2024-03-18T16:01:27.763Z"
      },
      {
        "duration": 1244,
        "start_time": "2024-03-18T16:01:30.549Z"
      },
      {
        "duration": 47,
        "start_time": "2024-03-18T16:01:31.794Z"
      },
      {
        "duration": 37,
        "start_time": "2024-03-18T16:01:31.843Z"
      },
      {
        "duration": 231,
        "start_time": "2024-03-18T16:01:31.882Z"
      },
      {
        "duration": 24,
        "start_time": "2024-03-18T16:01:32.114Z"
      },
      {
        "duration": 58,
        "start_time": "2024-03-18T16:01:32.139Z"
      },
      {
        "duration": 61,
        "start_time": "2024-03-18T16:01:32.199Z"
      },
      {
        "duration": 41,
        "start_time": "2024-03-18T16:01:32.261Z"
      },
      {
        "duration": 246,
        "start_time": "2024-03-18T16:01:32.303Z"
      },
      {
        "duration": 3,
        "start_time": "2024-03-18T16:01:32.550Z"
      },
      {
        "duration": 24,
        "start_time": "2024-03-18T16:01:32.555Z"
      },
      {
        "duration": 323,
        "start_time": "2024-03-18T16:01:32.581Z"
      },
      {
        "duration": 6,
        "start_time": "2024-03-18T16:01:32.907Z"
      },
      {
        "duration": 629,
        "start_time": "2024-03-18T16:01:32.914Z"
      },
      {
        "duration": 153,
        "start_time": "2024-03-18T16:01:33.545Z"
      },
      {
        "duration": 4,
        "start_time": "2024-03-18T16:01:33.700Z"
      },
      {
        "duration": 13,
        "start_time": "2024-03-18T16:01:33.705Z"
      },
      {
        "duration": 6,
        "start_time": "2024-03-18T16:01:33.719Z"
      },
      {
        "duration": 21,
        "start_time": "2024-03-18T16:01:33.726Z"
      },
      {
        "duration": 22,
        "start_time": "2024-03-18T16:01:33.748Z"
      },
      {
        "duration": 3,
        "start_time": "2024-03-18T16:01:33.771Z"
      },
      {
        "duration": 11,
        "start_time": "2024-03-18T16:01:33.776Z"
      },
      {
        "duration": 13,
        "start_time": "2024-03-18T16:01:33.788Z"
      },
      {
        "duration": 5,
        "start_time": "2024-03-18T16:01:33.802Z"
      },
      {
        "duration": 8,
        "start_time": "2024-03-18T16:01:33.808Z"
      },
      {
        "duration": 25,
        "start_time": "2024-03-18T16:01:33.817Z"
      },
      {
        "duration": 11,
        "start_time": "2024-03-18T16:01:33.844Z"
      },
      {
        "duration": 25,
        "start_time": "2024-03-18T16:01:33.857Z"
      },
      {
        "duration": 186,
        "start_time": "2024-03-18T16:01:33.884Z"
      },
      {
        "duration": 16,
        "start_time": "2024-03-18T16:01:34.072Z"
      },
      {
        "duration": 13,
        "start_time": "2024-03-18T16:01:34.089Z"
      },
      {
        "duration": 21,
        "start_time": "2024-03-18T16:01:34.103Z"
      },
      {
        "duration": 13,
        "start_time": "2024-03-18T16:01:34.125Z"
      },
      {
        "duration": 2779,
        "start_time": "2024-03-18T16:01:56.735Z"
      },
      {
        "duration": 1162,
        "start_time": "2024-03-18T16:01:59.516Z"
      },
      {
        "duration": 49,
        "start_time": "2024-03-18T16:02:00.681Z"
      },
      {
        "duration": 34,
        "start_time": "2024-03-18T16:02:00.732Z"
      },
      {
        "duration": 170,
        "start_time": "2024-03-18T16:02:00.768Z"
      },
      {
        "duration": 3,
        "start_time": "2024-03-18T16:02:00.939Z"
      },
      {
        "duration": 61,
        "start_time": "2024-03-18T16:02:00.943Z"
      },
      {
        "duration": 65,
        "start_time": "2024-03-18T16:02:01.005Z"
      },
      {
        "duration": 66,
        "start_time": "2024-03-18T16:02:01.071Z"
      },
      {
        "duration": 290,
        "start_time": "2024-03-18T16:02:01.139Z"
      },
      {
        "duration": 2,
        "start_time": "2024-03-18T16:02:01.431Z"
      },
      {
        "duration": 69,
        "start_time": "2024-03-18T16:02:01.435Z"
      },
      {
        "duration": 387,
        "start_time": "2024-03-18T16:02:01.507Z"
      },
      {
        "duration": 6,
        "start_time": "2024-03-18T16:02:01.896Z"
      },
      {
        "duration": 789,
        "start_time": "2024-03-18T16:02:01.903Z"
      },
      {
        "duration": 134,
        "start_time": "2024-03-18T16:02:02.694Z"
      },
      {
        "duration": 3,
        "start_time": "2024-03-18T16:02:02.830Z"
      },
      {
        "duration": 76,
        "start_time": "2024-03-18T16:02:02.835Z"
      },
      {
        "duration": 37,
        "start_time": "2024-03-18T16:02:02.912Z"
      },
      {
        "duration": 40,
        "start_time": "2024-03-18T16:02:02.950Z"
      },
      {
        "duration": 107,
        "start_time": "2024-03-18T16:02:02.992Z"
      },
      {
        "duration": 109,
        "start_time": "2024-03-18T16:02:03.101Z"
      },
      {
        "duration": 28,
        "start_time": "2024-03-18T16:02:03.212Z"
      },
      {
        "duration": 33,
        "start_time": "2024-03-18T16:02:03.242Z"
      },
      {
        "duration": 49,
        "start_time": "2024-03-18T16:02:03.277Z"
      },
      {
        "duration": 13,
        "start_time": "2024-03-18T16:02:03.327Z"
      },
      {
        "duration": 7,
        "start_time": "2024-03-18T16:02:03.342Z"
      },
      {
        "duration": 27,
        "start_time": "2024-03-18T16:02:03.351Z"
      },
      {
        "duration": 96,
        "start_time": "2024-03-18T16:02:03.380Z"
      },
      {
        "duration": 127,
        "start_time": "2024-03-18T16:02:03.479Z"
      },
      {
        "duration": 20,
        "start_time": "2024-03-18T16:02:03.607Z"
      },
      {
        "duration": 10,
        "start_time": "2024-03-18T16:02:03.629Z"
      },
      {
        "duration": 13,
        "start_time": "2024-03-18T16:02:03.640Z"
      },
      {
        "duration": 11,
        "start_time": "2024-03-18T16:02:03.654Z"
      },
      {
        "duration": 2931,
        "start_time": "2024-03-18T16:02:30.959Z"
      },
      {
        "duration": 1182,
        "start_time": "2024-03-18T16:02:33.893Z"
      },
      {
        "duration": 48,
        "start_time": "2024-03-18T16:02:35.077Z"
      },
      {
        "duration": 5,
        "start_time": "2024-03-18T16:02:35.126Z"
      },
      {
        "duration": 87,
        "start_time": "2024-03-18T16:02:35.134Z"
      },
      {
        "duration": 3,
        "start_time": "2024-03-18T16:02:35.223Z"
      },
      {
        "duration": 27,
        "start_time": "2024-03-18T16:02:35.227Z"
      },
      {
        "duration": 41,
        "start_time": "2024-03-18T16:02:35.256Z"
      },
      {
        "duration": 14,
        "start_time": "2024-03-18T16:02:35.298Z"
      },
      {
        "duration": 239,
        "start_time": "2024-03-18T16:02:35.313Z"
      },
      {
        "duration": 2,
        "start_time": "2024-03-18T16:02:35.554Z"
      },
      {
        "duration": 40,
        "start_time": "2024-03-18T16:02:35.557Z"
      },
      {
        "duration": 327,
        "start_time": "2024-03-18T16:02:35.599Z"
      },
      {
        "duration": 6,
        "start_time": "2024-03-18T16:02:35.929Z"
      },
      {
        "duration": 706,
        "start_time": "2024-03-18T16:02:35.936Z"
      },
      {
        "duration": 140,
        "start_time": "2024-03-18T16:02:36.643Z"
      },
      {
        "duration": 3,
        "start_time": "2024-03-18T16:02:36.785Z"
      },
      {
        "duration": 5,
        "start_time": "2024-03-18T16:02:36.790Z"
      },
      {
        "duration": 8,
        "start_time": "2024-03-18T16:02:36.797Z"
      },
      {
        "duration": 29,
        "start_time": "2024-03-18T16:02:36.806Z"
      },
      {
        "duration": 18,
        "start_time": "2024-03-18T16:02:36.836Z"
      },
      {
        "duration": 15,
        "start_time": "2024-03-18T16:02:36.856Z"
      },
      {
        "duration": 15,
        "start_time": "2024-03-18T16:02:36.873Z"
      },
      {
        "duration": 4,
        "start_time": "2024-03-18T16:02:36.889Z"
      },
      {
        "duration": 9,
        "start_time": "2024-03-18T16:02:36.894Z"
      },
      {
        "duration": 6,
        "start_time": "2024-03-18T16:02:36.904Z"
      },
      {
        "duration": 6,
        "start_time": "2024-03-18T16:02:36.911Z"
      },
      {
        "duration": 13,
        "start_time": "2024-03-18T16:02:36.918Z"
      },
      {
        "duration": 139,
        "start_time": "2024-03-18T16:02:36.933Z"
      },
      {
        "duration": 98,
        "start_time": "2024-03-18T16:02:37.076Z"
      },
      {
        "duration": 5,
        "start_time": "2024-03-18T16:02:37.175Z"
      },
      {
        "duration": 11,
        "start_time": "2024-03-18T16:02:37.182Z"
      },
      {
        "duration": 9,
        "start_time": "2024-03-18T16:02:37.195Z"
      },
      {
        "duration": 7,
        "start_time": "2024-03-18T16:02:37.205Z"
      },
      {
        "duration": 2796,
        "start_time": "2024-03-18T16:03:17.159Z"
      },
      {
        "duration": 1197,
        "start_time": "2024-03-18T16:03:19.957Z"
      },
      {
        "duration": 48,
        "start_time": "2024-03-18T16:03:21.156Z"
      },
      {
        "duration": 4,
        "start_time": "2024-03-18T16:03:21.206Z"
      },
      {
        "duration": 88,
        "start_time": "2024-03-18T16:03:21.212Z"
      },
      {
        "duration": 2,
        "start_time": "2024-03-18T16:03:21.302Z"
      },
      {
        "duration": 17,
        "start_time": "2024-03-18T16:03:21.305Z"
      },
      {
        "duration": 12,
        "start_time": "2024-03-18T16:03:21.324Z"
      },
      {
        "duration": 12,
        "start_time": "2024-03-18T16:03:21.337Z"
      },
      {
        "duration": 223,
        "start_time": "2024-03-18T16:03:21.351Z"
      },
      {
        "duration": 3,
        "start_time": "2024-03-18T16:03:21.575Z"
      },
      {
        "duration": 10,
        "start_time": "2024-03-18T16:03:21.579Z"
      },
      {
        "duration": 333,
        "start_time": "2024-03-18T16:03:21.590Z"
      },
      {
        "duration": 6,
        "start_time": "2024-03-18T16:03:21.924Z"
      },
      {
        "duration": 632,
        "start_time": "2024-03-18T16:03:21.932Z"
      },
      {
        "duration": 139,
        "start_time": "2024-03-18T16:03:22.565Z"
      },
      {
        "duration": 4,
        "start_time": "2024-03-18T16:03:22.705Z"
      },
      {
        "duration": 29,
        "start_time": "2024-03-18T16:03:22.710Z"
      },
      {
        "duration": 13,
        "start_time": "2024-03-18T16:03:22.740Z"
      },
      {
        "duration": 31,
        "start_time": "2024-03-18T16:03:22.754Z"
      },
      {
        "duration": 20,
        "start_time": "2024-03-18T16:03:22.787Z"
      },
      {
        "duration": 15,
        "start_time": "2024-03-18T16:03:22.808Z"
      },
      {
        "duration": 19,
        "start_time": "2024-03-18T16:03:22.824Z"
      },
      {
        "duration": 5,
        "start_time": "2024-03-18T16:03:22.844Z"
      },
      {
        "duration": 4,
        "start_time": "2024-03-18T16:03:22.850Z"
      },
      {
        "duration": 6,
        "start_time": "2024-03-18T16:03:22.855Z"
      },
      {
        "duration": 9,
        "start_time": "2024-03-18T16:03:22.862Z"
      },
      {
        "duration": 24,
        "start_time": "2024-03-18T16:03:22.874Z"
      },
      {
        "duration": 83,
        "start_time": "2024-03-18T16:03:22.900Z"
      },
      {
        "duration": 10,
        "start_time": "2024-03-18T16:03:23.070Z"
      },
      {
        "duration": 88,
        "start_time": "2024-03-18T16:03:23.082Z"
      },
      {
        "duration": 2,
        "start_time": "2024-03-18T16:03:23.173Z"
      },
      {
        "duration": 93,
        "start_time": "2024-03-18T16:03:23.177Z"
      },
      {
        "duration": 10,
        "start_time": "2024-03-18T16:03:23.271Z"
      },
      {
        "duration": 2931,
        "start_time": "2024-03-18T16:06:28.301Z"
      },
      {
        "duration": 1217,
        "start_time": "2024-03-18T16:06:31.234Z"
      },
      {
        "duration": 48,
        "start_time": "2024-03-18T16:06:32.455Z"
      },
      {
        "duration": 5,
        "start_time": "2024-03-18T16:06:32.505Z"
      },
      {
        "duration": 80,
        "start_time": "2024-03-18T16:06:32.511Z"
      },
      {
        "duration": 3,
        "start_time": "2024-03-18T16:06:32.593Z"
      },
      {
        "duration": 6,
        "start_time": "2024-03-18T16:06:32.598Z"
      },
      {
        "duration": 8,
        "start_time": "2024-03-18T16:06:32.606Z"
      },
      {
        "duration": 16,
        "start_time": "2024-03-18T16:06:32.617Z"
      },
      {
        "duration": 265,
        "start_time": "2024-03-18T16:06:32.635Z"
      },
      {
        "duration": 2,
        "start_time": "2024-03-18T16:06:32.902Z"
      },
      {
        "duration": 17,
        "start_time": "2024-03-18T16:06:32.905Z"
      },
      {
        "duration": 310,
        "start_time": "2024-03-18T16:06:32.924Z"
      },
      {
        "duration": 6,
        "start_time": "2024-03-18T16:06:33.235Z"
      },
      {
        "duration": 649,
        "start_time": "2024-03-18T16:06:33.242Z"
      },
      {
        "duration": 137,
        "start_time": "2024-03-18T16:06:33.892Z"
      },
      {
        "duration": 4,
        "start_time": "2024-03-18T16:06:34.030Z"
      },
      {
        "duration": 10,
        "start_time": "2024-03-18T16:06:34.035Z"
      },
      {
        "duration": 5,
        "start_time": "2024-03-18T16:06:34.047Z"
      },
      {
        "duration": 31,
        "start_time": "2024-03-18T16:06:34.053Z"
      },
      {
        "duration": 10,
        "start_time": "2024-03-18T16:06:34.086Z"
      },
      {
        "duration": 6,
        "start_time": "2024-03-18T16:06:34.098Z"
      },
      {
        "duration": 4,
        "start_time": "2024-03-18T16:06:34.106Z"
      },
      {
        "duration": 5,
        "start_time": "2024-03-18T16:06:34.111Z"
      },
      {
        "duration": 9,
        "start_time": "2024-03-18T16:06:34.117Z"
      },
      {
        "duration": 5,
        "start_time": "2024-03-18T16:06:34.127Z"
      },
      {
        "duration": 4,
        "start_time": "2024-03-18T16:06:34.135Z"
      },
      {
        "duration": 13,
        "start_time": "2024-03-18T16:06:34.141Z"
      },
      {
        "duration": 14,
        "start_time": "2024-03-18T16:06:34.170Z"
      },
      {
        "duration": 99,
        "start_time": "2024-03-18T16:06:34.271Z"
      },
      {
        "duration": 16,
        "start_time": "2024-03-18T16:06:34.372Z"
      },
      {
        "duration": 12,
        "start_time": "2024-03-18T16:06:34.389Z"
      },
      {
        "duration": 4,
        "start_time": "2024-03-18T16:06:34.402Z"
      },
      {
        "duration": 18,
        "start_time": "2024-03-18T16:06:34.408Z"
      },
      {
        "duration": 5,
        "start_time": "2024-03-18T16:07:00.400Z"
      },
      {
        "duration": 12,
        "start_time": "2024-03-18T16:08:00.359Z"
      },
      {
        "duration": 10,
        "start_time": "2024-03-18T16:10:50.775Z"
      },
      {
        "duration": 2770,
        "start_time": "2024-03-18T16:10:55.019Z"
      },
      {
        "duration": 1164,
        "start_time": "2024-03-18T16:10:57.791Z"
      },
      {
        "duration": 48,
        "start_time": "2024-03-18T16:10:58.957Z"
      },
      {
        "duration": 4,
        "start_time": "2024-03-18T16:10:59.007Z"
      },
      {
        "duration": 76,
        "start_time": "2024-03-18T16:10:59.013Z"
      },
      {
        "duration": 3,
        "start_time": "2024-03-18T16:10:59.090Z"
      },
      {
        "duration": 7,
        "start_time": "2024-03-18T16:10:59.094Z"
      },
      {
        "duration": 10,
        "start_time": "2024-03-18T16:10:59.102Z"
      },
      {
        "duration": 6,
        "start_time": "2024-03-18T16:10:59.113Z"
      },
      {
        "duration": 242,
        "start_time": "2024-03-18T16:10:59.121Z"
      },
      {
        "duration": 4,
        "start_time": "2024-03-18T16:10:59.365Z"
      },
      {
        "duration": 16,
        "start_time": "2024-03-18T16:10:59.371Z"
      },
      {
        "duration": 302,
        "start_time": "2024-03-18T16:10:59.389Z"
      },
      {
        "duration": 8,
        "start_time": "2024-03-18T16:10:59.694Z"
      },
      {
        "duration": 687,
        "start_time": "2024-03-18T16:10:59.703Z"
      },
      {
        "duration": 149,
        "start_time": "2024-03-18T16:11:00.392Z"
      },
      {
        "duration": 5,
        "start_time": "2024-03-18T16:11:00.543Z"
      },
      {
        "duration": 88,
        "start_time": "2024-03-18T16:11:00.549Z"
      },
      {
        "duration": 162,
        "start_time": "2024-03-18T16:11:00.638Z"
      },
      {
        "duration": 73,
        "start_time": "2024-03-18T16:11:00.802Z"
      },
      {
        "duration": 40,
        "start_time": "2024-03-18T16:11:00.877Z"
      },
      {
        "duration": 29,
        "start_time": "2024-03-18T16:11:00.919Z"
      },
      {
        "duration": 31,
        "start_time": "2024-03-18T16:11:00.949Z"
      },
      {
        "duration": 32,
        "start_time": "2024-03-18T16:11:00.982Z"
      },
      {
        "duration": 16,
        "start_time": "2024-03-18T16:11:01.016Z"
      },
      {
        "duration": 25,
        "start_time": "2024-03-18T16:11:01.033Z"
      },
      {
        "duration": 27,
        "start_time": "2024-03-18T16:11:01.060Z"
      },
      {
        "duration": 37,
        "start_time": "2024-03-18T16:11:01.089Z"
      },
      {
        "duration": 41,
        "start_time": "2024-03-18T16:11:01.128Z"
      },
      {
        "duration": 105,
        "start_time": "2024-03-18T16:11:01.171Z"
      },
      {
        "duration": 92,
        "start_time": "2024-03-18T16:11:01.278Z"
      },
      {
        "duration": 44,
        "start_time": "2024-03-18T16:11:01.372Z"
      },
      {
        "duration": 37,
        "start_time": "2024-03-18T16:11:01.417Z"
      },
      {
        "duration": 37,
        "start_time": "2024-03-18T16:11:01.456Z"
      },
      {
        "duration": 2881,
        "start_time": "2024-03-18T16:11:17.947Z"
      },
      {
        "duration": 1135,
        "start_time": "2024-03-18T16:11:20.830Z"
      },
      {
        "duration": 48,
        "start_time": "2024-03-18T16:11:21.966Z"
      },
      {
        "duration": 5,
        "start_time": "2024-03-18T16:11:22.016Z"
      },
      {
        "duration": 92,
        "start_time": "2024-03-18T16:11:22.023Z"
      },
      {
        "duration": 3,
        "start_time": "2024-03-18T16:11:22.117Z"
      },
      {
        "duration": 21,
        "start_time": "2024-03-18T16:11:22.121Z"
      },
      {
        "duration": 11,
        "start_time": "2024-03-18T16:11:22.144Z"
      },
      {
        "duration": 13,
        "start_time": "2024-03-18T16:11:22.156Z"
      },
      {
        "duration": 219,
        "start_time": "2024-03-18T16:11:22.171Z"
      },
      {
        "duration": 3,
        "start_time": "2024-03-18T16:11:22.391Z"
      },
      {
        "duration": 29,
        "start_time": "2024-03-18T16:11:22.395Z"
      },
      {
        "duration": 293,
        "start_time": "2024-03-18T16:11:22.426Z"
      },
      {
        "duration": 7,
        "start_time": "2024-03-18T16:11:22.721Z"
      },
      {
        "duration": 658,
        "start_time": "2024-03-18T16:11:22.729Z"
      },
      {
        "duration": 137,
        "start_time": "2024-03-18T16:11:23.389Z"
      },
      {
        "duration": 3,
        "start_time": "2024-03-18T16:11:23.528Z"
      },
      {
        "duration": 7,
        "start_time": "2024-03-18T16:11:23.532Z"
      },
      {
        "duration": 10,
        "start_time": "2024-03-18T16:11:23.540Z"
      },
      {
        "duration": 22,
        "start_time": "2024-03-18T16:11:23.551Z"
      },
      {
        "duration": 10,
        "start_time": "2024-03-18T16:11:23.575Z"
      },
      {
        "duration": 9,
        "start_time": "2024-03-18T16:11:23.586Z"
      },
      {
        "duration": 5,
        "start_time": "2024-03-18T16:11:23.596Z"
      },
      {
        "duration": 4,
        "start_time": "2024-03-18T16:11:23.603Z"
      },
      {
        "duration": 5,
        "start_time": "2024-03-18T16:11:23.608Z"
      },
      {
        "duration": 7,
        "start_time": "2024-03-18T16:11:23.614Z"
      },
      {
        "duration": 9,
        "start_time": "2024-03-18T16:11:23.622Z"
      },
      {
        "duration": 13,
        "start_time": "2024-03-18T16:11:23.632Z"
      },
      {
        "duration": 28,
        "start_time": "2024-03-18T16:11:23.647Z"
      },
      {
        "duration": 9,
        "start_time": "2024-03-18T16:11:23.769Z"
      },
      {
        "duration": 3,
        "start_time": "2024-03-18T16:11:23.869Z"
      },
      {
        "duration": 15,
        "start_time": "2024-03-18T16:11:23.873Z"
      },
      {
        "duration": 13,
        "start_time": "2024-03-18T16:11:23.889Z"
      },
      {
        "duration": 7,
        "start_time": "2024-03-18T16:11:23.903Z"
      },
      {
        "duration": 2848,
        "start_time": "2024-03-18T16:13:12.856Z"
      },
      {
        "duration": 1189,
        "start_time": "2024-03-18T16:13:15.706Z"
      },
      {
        "duration": 48,
        "start_time": "2024-03-18T16:13:16.897Z"
      },
      {
        "duration": 5,
        "start_time": "2024-03-18T16:13:16.947Z"
      },
      {
        "duration": 80,
        "start_time": "2024-03-18T16:13:16.953Z"
      },
      {
        "duration": 3,
        "start_time": "2024-03-18T16:13:17.034Z"
      },
      {
        "duration": 8,
        "start_time": "2024-03-18T16:13:17.038Z"
      },
      {
        "duration": 26,
        "start_time": "2024-03-18T16:13:17.047Z"
      },
      {
        "duration": 5,
        "start_time": "2024-03-18T16:13:17.075Z"
      },
      {
        "duration": 236,
        "start_time": "2024-03-18T16:13:17.081Z"
      },
      {
        "duration": 3,
        "start_time": "2024-03-18T16:13:17.319Z"
      },
      {
        "duration": 7,
        "start_time": "2024-03-18T16:13:17.324Z"
      },
      {
        "duration": 332,
        "start_time": "2024-03-18T16:13:17.333Z"
      },
      {
        "duration": 6,
        "start_time": "2024-03-18T16:13:17.668Z"
      },
      {
        "duration": 650,
        "start_time": "2024-03-18T16:13:17.676Z"
      },
      {
        "duration": 144,
        "start_time": "2024-03-18T16:13:18.327Z"
      },
      {
        "duration": 4,
        "start_time": "2024-03-18T16:13:18.473Z"
      },
      {
        "duration": 6,
        "start_time": "2024-03-18T16:13:18.478Z"
      },
      {
        "duration": 21,
        "start_time": "2024-03-18T16:13:18.485Z"
      },
      {
        "duration": 22,
        "start_time": "2024-03-18T16:13:18.507Z"
      },
      {
        "duration": 19,
        "start_time": "2024-03-18T16:13:18.530Z"
      },
      {
        "duration": 5,
        "start_time": "2024-03-18T16:13:18.550Z"
      },
      {
        "duration": 13,
        "start_time": "2024-03-18T16:13:18.557Z"
      },
      {
        "duration": 11,
        "start_time": "2024-03-18T16:13:18.571Z"
      },
      {
        "duration": 16,
        "start_time": "2024-03-18T16:13:18.583Z"
      },
      {
        "duration": 5,
        "start_time": "2024-03-18T16:13:18.600Z"
      },
      {
        "duration": 4,
        "start_time": "2024-03-18T16:13:18.606Z"
      },
      {
        "duration": 12,
        "start_time": "2024-03-18T16:13:18.611Z"
      },
      {
        "duration": 143,
        "start_time": "2024-03-18T16:13:18.625Z"
      },
      {
        "duration": 99,
        "start_time": "2024-03-18T16:13:18.771Z"
      },
      {
        "duration": 26,
        "start_time": "2024-03-18T16:13:18.872Z"
      },
      {
        "duration": 20,
        "start_time": "2024-03-18T16:13:18.900Z"
      },
      {
        "duration": 26,
        "start_time": "2024-03-18T16:13:18.921Z"
      },
      {
        "duration": 10,
        "start_time": "2024-03-18T16:13:18.948Z"
      },
      {
        "duration": 22,
        "start_time": "2024-03-18T16:13:52.728Z"
      },
      {
        "duration": 2777,
        "start_time": "2024-03-18T16:13:57.436Z"
      },
      {
        "duration": 1188,
        "start_time": "2024-03-18T16:14:00.216Z"
      },
      {
        "duration": 50,
        "start_time": "2024-03-18T16:14:01.406Z"
      },
      {
        "duration": 20,
        "start_time": "2024-03-18T16:14:01.458Z"
      },
      {
        "duration": 133,
        "start_time": "2024-03-18T16:14:01.480Z"
      },
      {
        "duration": 2,
        "start_time": "2024-03-18T16:14:01.615Z"
      },
      {
        "duration": 117,
        "start_time": "2024-03-18T16:14:01.619Z"
      },
      {
        "duration": 72,
        "start_time": "2024-03-18T16:14:01.738Z"
      },
      {
        "duration": 49,
        "start_time": "2024-03-18T16:14:01.811Z"
      },
      {
        "duration": 301,
        "start_time": "2024-03-18T16:14:01.861Z"
      },
      {
        "duration": 4,
        "start_time": "2024-03-18T16:14:02.165Z"
      },
      {
        "duration": 109,
        "start_time": "2024-03-18T16:14:02.171Z"
      },
      {
        "duration": 424,
        "start_time": "2024-03-18T16:14:02.281Z"
      },
      {
        "duration": 7,
        "start_time": "2024-03-18T16:14:02.707Z"
      },
      {
        "duration": 649,
        "start_time": "2024-03-18T16:14:02.715Z"
      },
      {
        "duration": 138,
        "start_time": "2024-03-18T16:14:03.365Z"
      },
      {
        "duration": 4,
        "start_time": "2024-03-18T16:14:03.504Z"
      },
      {
        "duration": 14,
        "start_time": "2024-03-18T16:14:03.509Z"
      },
      {
        "duration": 26,
        "start_time": "2024-03-18T16:14:03.525Z"
      },
      {
        "duration": 43,
        "start_time": "2024-03-18T16:14:03.552Z"
      },
      {
        "duration": 21,
        "start_time": "2024-03-18T16:14:03.596Z"
      },
      {
        "duration": 31,
        "start_time": "2024-03-18T16:14:03.619Z"
      },
      {
        "duration": 11,
        "start_time": "2024-03-18T16:14:03.652Z"
      },
      {
        "duration": 7,
        "start_time": "2024-03-18T16:14:03.664Z"
      },
      {
        "duration": 9,
        "start_time": "2024-03-18T16:14:03.672Z"
      },
      {
        "duration": 17,
        "start_time": "2024-03-18T16:14:03.683Z"
      },
      {
        "duration": 5,
        "start_time": "2024-03-18T16:14:03.702Z"
      },
      {
        "duration": 15,
        "start_time": "2024-03-18T16:14:03.709Z"
      },
      {
        "duration": 51,
        "start_time": "2024-03-18T16:14:03.725Z"
      },
      {
        "duration": 194,
        "start_time": "2024-03-18T16:14:03.778Z"
      },
      {
        "duration": 97,
        "start_time": "2024-03-18T16:14:03.973Z"
      },
      {
        "duration": 6,
        "start_time": "2024-03-18T16:14:04.072Z"
      },
      {
        "duration": 9,
        "start_time": "2024-03-18T16:14:04.079Z"
      },
      {
        "duration": 8,
        "start_time": "2024-03-18T16:14:04.089Z"
      },
      {
        "duration": 16,
        "start_time": "2024-03-18T16:16:05.000Z"
      },
      {
        "duration": 2893,
        "start_time": "2024-03-18T16:16:10.349Z"
      },
      {
        "duration": 1235,
        "start_time": "2024-03-18T16:16:13.244Z"
      },
      {
        "duration": 49,
        "start_time": "2024-03-18T16:16:14.481Z"
      },
      {
        "duration": 5,
        "start_time": "2024-03-18T16:16:14.531Z"
      },
      {
        "duration": 79,
        "start_time": "2024-03-18T16:16:14.538Z"
      },
      {
        "duration": 3,
        "start_time": "2024-03-18T16:16:14.619Z"
      },
      {
        "duration": 9,
        "start_time": "2024-03-18T16:16:14.624Z"
      },
      {
        "duration": 10,
        "start_time": "2024-03-18T16:16:14.634Z"
      },
      {
        "duration": 5,
        "start_time": "2024-03-18T16:16:14.646Z"
      },
      {
        "duration": 228,
        "start_time": "2024-03-18T16:16:14.669Z"
      },
      {
        "duration": 3,
        "start_time": "2024-03-18T16:16:14.899Z"
      },
      {
        "duration": 23,
        "start_time": "2024-03-18T16:16:14.904Z"
      },
      {
        "duration": 321,
        "start_time": "2024-03-18T16:16:14.928Z"
      },
      {
        "duration": 17,
        "start_time": "2024-03-18T16:16:15.253Z"
      },
      {
        "duration": 668,
        "start_time": "2024-03-18T16:16:15.271Z"
      },
      {
        "duration": 143,
        "start_time": "2024-03-18T16:16:15.940Z"
      },
      {
        "duration": 5,
        "start_time": "2024-03-18T16:16:16.085Z"
      },
      {
        "duration": 12,
        "start_time": "2024-03-18T16:16:16.091Z"
      },
      {
        "duration": 34,
        "start_time": "2024-03-18T16:16:16.104Z"
      },
      {
        "duration": 35,
        "start_time": "2024-03-18T16:16:16.139Z"
      },
      {
        "duration": 12,
        "start_time": "2024-03-18T16:16:16.176Z"
      },
      {
        "duration": 7,
        "start_time": "2024-03-18T16:16:16.189Z"
      },
      {
        "duration": 8,
        "start_time": "2024-03-18T16:16:16.197Z"
      },
      {
        "duration": 5,
        "start_time": "2024-03-18T16:16:16.207Z"
      },
      {
        "duration": 9,
        "start_time": "2024-03-18T16:16:16.214Z"
      },
      {
        "duration": 31,
        "start_time": "2024-03-18T16:16:16.224Z"
      },
      {
        "duration": 18,
        "start_time": "2024-03-18T16:16:16.256Z"
      },
      {
        "duration": 100,
        "start_time": "2024-03-18T16:16:16.277Z"
      },
      {
        "duration": 102,
        "start_time": "2024-03-18T16:16:16.469Z"
      },
      {
        "duration": 3,
        "start_time": "2024-03-18T16:16:16.573Z"
      },
      {
        "duration": 93,
        "start_time": "2024-03-18T16:16:16.580Z"
      },
      {
        "duration": 7,
        "start_time": "2024-03-18T16:16:16.674Z"
      },
      {
        "duration": 15,
        "start_time": "2024-03-18T16:16:16.683Z"
      },
      {
        "duration": 2793,
        "start_time": "2024-03-18T16:16:33.044Z"
      },
      {
        "duration": 1229,
        "start_time": "2024-03-18T16:16:35.839Z"
      },
      {
        "duration": 49,
        "start_time": "2024-03-18T16:16:37.070Z"
      },
      {
        "duration": 5,
        "start_time": "2024-03-18T16:16:37.121Z"
      },
      {
        "duration": 91,
        "start_time": "2024-03-18T16:16:37.127Z"
      },
      {
        "duration": 3,
        "start_time": "2024-03-18T16:16:37.219Z"
      },
      {
        "duration": 20,
        "start_time": "2024-03-18T16:16:37.223Z"
      },
      {
        "duration": 16,
        "start_time": "2024-03-18T16:16:37.245Z"
      },
      {
        "duration": 8,
        "start_time": "2024-03-18T16:16:37.262Z"
      },
      {
        "duration": 248,
        "start_time": "2024-03-18T16:16:37.272Z"
      },
      {
        "duration": 2,
        "start_time": "2024-03-18T16:16:37.522Z"
      },
      {
        "duration": 18,
        "start_time": "2024-03-18T16:16:37.525Z"
      },
      {
        "duration": 325,
        "start_time": "2024-03-18T16:16:37.544Z"
      },
      {
        "duration": 6,
        "start_time": "2024-03-18T16:16:37.871Z"
      },
      {
        "duration": 656,
        "start_time": "2024-03-18T16:16:37.878Z"
      },
      {
        "duration": 146,
        "start_time": "2024-03-18T16:16:38.536Z"
      },
      {
        "duration": 4,
        "start_time": "2024-03-18T16:16:38.683Z"
      },
      {
        "duration": 7,
        "start_time": "2024-03-18T16:16:38.688Z"
      },
      {
        "duration": 34,
        "start_time": "2024-03-18T16:16:38.697Z"
      },
      {
        "duration": 22,
        "start_time": "2024-03-18T16:16:38.732Z"
      },
      {
        "duration": 4,
        "start_time": "2024-03-18T16:16:38.769Z"
      },
      {
        "duration": 3,
        "start_time": "2024-03-18T16:16:38.775Z"
      },
      {
        "duration": 19,
        "start_time": "2024-03-18T16:16:38.779Z"
      },
      {
        "duration": 6,
        "start_time": "2024-03-18T16:16:38.799Z"
      },
      {
        "duration": 12,
        "start_time": "2024-03-18T16:16:38.806Z"
      },
      {
        "duration": 7,
        "start_time": "2024-03-18T16:16:38.820Z"
      },
      {
        "duration": 42,
        "start_time": "2024-03-18T16:16:38.828Z"
      },
      {
        "duration": 99,
        "start_time": "2024-03-18T16:16:38.874Z"
      },
      {
        "duration": 101,
        "start_time": "2024-03-18T16:16:38.975Z"
      },
      {
        "duration": 96,
        "start_time": "2024-03-18T16:16:39.078Z"
      },
      {
        "duration": 3,
        "start_time": "2024-03-18T16:16:39.176Z"
      },
      {
        "duration": 102,
        "start_time": "2024-03-18T16:16:39.180Z"
      },
      {
        "duration": 24,
        "start_time": "2024-03-18T16:16:39.283Z"
      },
      {
        "duration": 2798,
        "start_time": "2024-03-18T16:17:33.819Z"
      },
      {
        "duration": 1127,
        "start_time": "2024-03-18T16:17:36.620Z"
      },
      {
        "duration": 48,
        "start_time": "2024-03-18T16:17:37.749Z"
      },
      {
        "duration": 5,
        "start_time": "2024-03-18T16:17:37.798Z"
      },
      {
        "duration": 96,
        "start_time": "2024-03-18T16:17:37.805Z"
      },
      {
        "duration": 2,
        "start_time": "2024-03-18T16:17:37.903Z"
      },
      {
        "duration": 7,
        "start_time": "2024-03-18T16:17:37.906Z"
      },
      {
        "duration": 8,
        "start_time": "2024-03-18T16:17:37.914Z"
      },
      {
        "duration": 6,
        "start_time": "2024-03-18T16:17:37.923Z"
      },
      {
        "duration": 262,
        "start_time": "2024-03-18T16:17:37.930Z"
      },
      {
        "duration": 2,
        "start_time": "2024-03-18T16:17:38.194Z"
      },
      {
        "duration": 7,
        "start_time": "2024-03-18T16:17:38.198Z"
      },
      {
        "duration": 317,
        "start_time": "2024-03-18T16:17:38.206Z"
      },
      {
        "duration": 6,
        "start_time": "2024-03-18T16:17:38.526Z"
      },
      {
        "duration": 634,
        "start_time": "2024-03-18T16:17:38.533Z"
      },
      {
        "duration": 138,
        "start_time": "2024-03-18T16:17:39.168Z"
      },
      {
        "duration": 4,
        "start_time": "2024-03-18T16:17:39.307Z"
      },
      {
        "duration": 17,
        "start_time": "2024-03-18T16:17:39.312Z"
      },
      {
        "duration": 27,
        "start_time": "2024-03-18T16:17:39.331Z"
      },
      {
        "duration": 27,
        "start_time": "2024-03-18T16:17:39.360Z"
      },
      {
        "duration": 5,
        "start_time": "2024-03-18T16:17:39.388Z"
      },
      {
        "duration": 3,
        "start_time": "2024-03-18T16:17:39.394Z"
      },
      {
        "duration": 7,
        "start_time": "2024-03-18T16:17:39.398Z"
      },
      {
        "duration": 11,
        "start_time": "2024-03-18T16:17:39.406Z"
      },
      {
        "duration": 8,
        "start_time": "2024-03-18T16:17:39.418Z"
      },
      {
        "duration": 4,
        "start_time": "2024-03-18T16:17:39.428Z"
      },
      {
        "duration": 39,
        "start_time": "2024-03-18T16:17:39.434Z"
      },
      {
        "duration": 98,
        "start_time": "2024-03-18T16:17:39.475Z"
      },
      {
        "duration": 97,
        "start_time": "2024-03-18T16:17:39.575Z"
      },
      {
        "duration": 3,
        "start_time": "2024-03-18T16:17:39.674Z"
      },
      {
        "duration": 5,
        "start_time": "2024-03-18T16:17:39.679Z"
      },
      {
        "duration": 3,
        "start_time": "2024-03-18T16:17:39.770Z"
      },
      {
        "duration": 98,
        "start_time": "2024-03-18T16:17:39.774Z"
      },
      {
        "duration": 2741,
        "start_time": "2024-03-18T16:18:17.382Z"
      },
      {
        "duration": 1118,
        "start_time": "2024-03-18T16:18:20.125Z"
      },
      {
        "duration": 47,
        "start_time": "2024-03-18T16:18:21.245Z"
      },
      {
        "duration": 5,
        "start_time": "2024-03-18T16:18:21.294Z"
      },
      {
        "duration": 92,
        "start_time": "2024-03-18T16:18:21.300Z"
      },
      {
        "duration": 3,
        "start_time": "2024-03-18T16:18:21.393Z"
      },
      {
        "duration": 12,
        "start_time": "2024-03-18T16:18:21.397Z"
      },
      {
        "duration": 11,
        "start_time": "2024-03-18T16:18:21.410Z"
      },
      {
        "duration": 8,
        "start_time": "2024-03-18T16:18:21.422Z"
      },
      {
        "duration": 238,
        "start_time": "2024-03-18T16:18:21.432Z"
      },
      {
        "duration": 2,
        "start_time": "2024-03-18T16:18:21.671Z"
      },
      {
        "duration": 11,
        "start_time": "2024-03-18T16:18:21.675Z"
      },
      {
        "duration": 331,
        "start_time": "2024-03-18T16:18:21.687Z"
      },
      {
        "duration": 7,
        "start_time": "2024-03-18T16:18:22.019Z"
      },
      {
        "duration": 619,
        "start_time": "2024-03-18T16:18:22.027Z"
      },
      {
        "duration": 154,
        "start_time": "2024-03-18T16:18:22.647Z"
      },
      {
        "duration": 4,
        "start_time": "2024-03-18T16:18:22.803Z"
      },
      {
        "duration": 12,
        "start_time": "2024-03-18T16:18:22.809Z"
      },
      {
        "duration": 36,
        "start_time": "2024-03-18T16:18:22.822Z"
      },
      {
        "duration": 26,
        "start_time": "2024-03-18T16:18:22.860Z"
      },
      {
        "duration": 16,
        "start_time": "2024-03-18T16:18:22.888Z"
      },
      {
        "duration": 18,
        "start_time": "2024-03-18T16:18:22.906Z"
      },
      {
        "duration": 20,
        "start_time": "2024-03-18T16:18:22.925Z"
      },
      {
        "duration": 7,
        "start_time": "2024-03-18T16:18:22.947Z"
      },
      {
        "duration": 11,
        "start_time": "2024-03-18T16:18:22.955Z"
      },
      {
        "duration": 11,
        "start_time": "2024-03-18T16:18:22.967Z"
      },
      {
        "duration": 21,
        "start_time": "2024-03-18T16:18:22.979Z"
      },
      {
        "duration": 110,
        "start_time": "2024-03-18T16:18:23.069Z"
      },
      {
        "duration": 8,
        "start_time": "2024-03-18T16:18:23.270Z"
      },
      {
        "duration": 4,
        "start_time": "2024-03-18T16:18:23.280Z"
      },
      {
        "duration": 88,
        "start_time": "2024-03-18T16:18:23.285Z"
      },
      {
        "duration": 94,
        "start_time": "2024-03-18T16:18:23.375Z"
      },
      {
        "duration": 15,
        "start_time": "2024-03-18T16:18:23.470Z"
      },
      {
        "duration": 2780,
        "start_time": "2024-03-18T16:18:36.524Z"
      },
      {
        "duration": 1168,
        "start_time": "2024-03-18T16:18:39.306Z"
      },
      {
        "duration": 49,
        "start_time": "2024-03-18T16:18:40.479Z"
      },
      {
        "duration": 5,
        "start_time": "2024-03-18T16:18:40.530Z"
      },
      {
        "duration": 81,
        "start_time": "2024-03-18T16:18:40.537Z"
      },
      {
        "duration": 2,
        "start_time": "2024-03-18T16:18:40.620Z"
      },
      {
        "duration": 17,
        "start_time": "2024-03-18T16:18:40.624Z"
      },
      {
        "duration": 7,
        "start_time": "2024-03-18T16:18:40.643Z"
      },
      {
        "duration": 6,
        "start_time": "2024-03-18T16:18:40.652Z"
      },
      {
        "duration": 231,
        "start_time": "2024-03-18T16:18:40.669Z"
      },
      {
        "duration": 3,
        "start_time": "2024-03-18T16:18:40.901Z"
      },
      {
        "duration": 14,
        "start_time": "2024-03-18T16:18:40.905Z"
      },
      {
        "duration": 331,
        "start_time": "2024-03-18T16:18:40.921Z"
      },
      {
        "duration": 6,
        "start_time": "2024-03-18T16:18:41.254Z"
      },
      {
        "duration": 676,
        "start_time": "2024-03-18T16:18:41.261Z"
      },
      {
        "duration": 139,
        "start_time": "2024-03-18T16:18:41.939Z"
      },
      {
        "duration": 4,
        "start_time": "2024-03-18T16:18:42.079Z"
      },
      {
        "duration": 33,
        "start_time": "2024-03-18T16:18:42.084Z"
      },
      {
        "duration": 51,
        "start_time": "2024-03-18T16:18:42.118Z"
      },
      {
        "duration": 22,
        "start_time": "2024-03-18T16:18:42.171Z"
      },
      {
        "duration": 6,
        "start_time": "2024-03-18T16:18:42.194Z"
      },
      {
        "duration": 16,
        "start_time": "2024-03-18T16:18:42.201Z"
      },
      {
        "duration": 10,
        "start_time": "2024-03-18T16:18:42.218Z"
      },
      {
        "duration": 4,
        "start_time": "2024-03-18T16:18:42.229Z"
      },
      {
        "duration": 21,
        "start_time": "2024-03-18T16:18:42.235Z"
      },
      {
        "duration": 15,
        "start_time": "2024-03-18T16:18:42.257Z"
      },
      {
        "duration": 25,
        "start_time": "2024-03-18T16:18:42.274Z"
      },
      {
        "duration": 103,
        "start_time": "2024-03-18T16:18:42.371Z"
      },
      {
        "duration": 96,
        "start_time": "2024-03-18T16:18:42.477Z"
      },
      {
        "duration": 95,
        "start_time": "2024-03-18T16:18:42.575Z"
      },
      {
        "duration": 9,
        "start_time": "2024-03-18T16:18:42.671Z"
      },
      {
        "duration": 5,
        "start_time": "2024-03-18T16:18:42.681Z"
      },
      {
        "duration": 4,
        "start_time": "2024-03-18T16:18:42.687Z"
      },
      {
        "duration": 2865,
        "start_time": "2024-03-18T16:18:58.758Z"
      },
      {
        "duration": 1221,
        "start_time": "2024-03-18T16:19:01.625Z"
      },
      {
        "duration": 48,
        "start_time": "2024-03-18T16:19:02.847Z"
      },
      {
        "duration": 24,
        "start_time": "2024-03-18T16:19:02.896Z"
      },
      {
        "duration": 166,
        "start_time": "2024-03-18T16:19:02.921Z"
      },
      {
        "duration": 3,
        "start_time": "2024-03-18T16:19:03.088Z"
      },
      {
        "duration": 29,
        "start_time": "2024-03-18T16:19:03.092Z"
      },
      {
        "duration": 26,
        "start_time": "2024-03-18T16:19:03.123Z"
      },
      {
        "duration": 7,
        "start_time": "2024-03-18T16:19:03.151Z"
      },
      {
        "duration": 244,
        "start_time": "2024-03-18T16:19:03.160Z"
      },
      {
        "duration": 3,
        "start_time": "2024-03-18T16:19:03.405Z"
      },
      {
        "duration": 12,
        "start_time": "2024-03-18T16:19:03.409Z"
      },
      {
        "duration": 320,
        "start_time": "2024-03-18T16:19:03.422Z"
      },
      {
        "duration": 7,
        "start_time": "2024-03-18T16:19:03.743Z"
      },
      {
        "duration": 686,
        "start_time": "2024-03-18T16:19:03.751Z"
      },
      {
        "duration": 138,
        "start_time": "2024-03-18T16:19:04.438Z"
      },
      {
        "duration": 4,
        "start_time": "2024-03-18T16:19:04.578Z"
      },
      {
        "duration": 6,
        "start_time": "2024-03-18T16:19:04.583Z"
      },
      {
        "duration": 38,
        "start_time": "2024-03-18T16:19:04.590Z"
      },
      {
        "duration": 23,
        "start_time": "2024-03-18T16:19:04.629Z"
      },
      {
        "duration": 17,
        "start_time": "2024-03-18T16:19:04.653Z"
      },
      {
        "duration": 12,
        "start_time": "2024-03-18T16:19:04.671Z"
      },
      {
        "duration": 4,
        "start_time": "2024-03-18T16:19:04.684Z"
      },
      {
        "duration": 13,
        "start_time": "2024-03-18T16:19:04.689Z"
      },
      {
        "duration": 5,
        "start_time": "2024-03-18T16:19:04.704Z"
      },
      {
        "duration": 5,
        "start_time": "2024-03-18T16:19:04.710Z"
      },
      {
        "duration": 14,
        "start_time": "2024-03-18T16:19:04.717Z"
      },
      {
        "duration": 101,
        "start_time": "2024-03-18T16:19:04.769Z"
      },
      {
        "duration": 102,
        "start_time": "2024-03-18T16:19:04.873Z"
      },
      {
        "duration": 5,
        "start_time": "2024-03-18T16:19:04.977Z"
      },
      {
        "duration": 99,
        "start_time": "2024-03-18T16:19:05.071Z"
      },
      {
        "duration": 7,
        "start_time": "2024-03-18T16:19:05.172Z"
      },
      {
        "duration": 13,
        "start_time": "2024-03-18T16:19:05.180Z"
      },
      {
        "duration": 2824,
        "start_time": "2024-03-18T16:19:16.721Z"
      },
      {
        "duration": 1241,
        "start_time": "2024-03-18T16:19:19.547Z"
      },
      {
        "duration": 48,
        "start_time": "2024-03-18T16:19:20.790Z"
      },
      {
        "duration": 5,
        "start_time": "2024-03-18T16:19:20.839Z"
      },
      {
        "duration": 103,
        "start_time": "2024-03-18T16:19:20.846Z"
      },
      {
        "duration": 2,
        "start_time": "2024-03-18T16:19:20.950Z"
      },
      {
        "duration": 17,
        "start_time": "2024-03-18T16:19:20.954Z"
      },
      {
        "duration": 32,
        "start_time": "2024-03-18T16:19:20.972Z"
      },
      {
        "duration": 12,
        "start_time": "2024-03-18T16:19:21.006Z"
      },
      {
        "duration": 243,
        "start_time": "2024-03-18T16:19:21.019Z"
      },
      {
        "duration": 3,
        "start_time": "2024-03-18T16:19:21.263Z"
      },
      {
        "duration": 29,
        "start_time": "2024-03-18T16:19:21.269Z"
      },
      {
        "duration": 336,
        "start_time": "2024-03-18T16:19:21.299Z"
      },
      {
        "duration": 7,
        "start_time": "2024-03-18T16:19:21.638Z"
      },
      {
        "duration": 672,
        "start_time": "2024-03-18T16:19:21.646Z"
      },
      {
        "duration": 140,
        "start_time": "2024-03-18T16:19:22.320Z"
      },
      {
        "duration": 9,
        "start_time": "2024-03-18T16:19:22.462Z"
      },
      {
        "duration": 52,
        "start_time": "2024-03-18T16:19:22.472Z"
      },
      {
        "duration": 52,
        "start_time": "2024-03-18T16:19:22.526Z"
      },
      {
        "duration": 21,
        "start_time": "2024-03-18T16:19:22.580Z"
      },
      {
        "duration": 26,
        "start_time": "2024-03-18T16:19:22.602Z"
      },
      {
        "duration": 13,
        "start_time": "2024-03-18T16:19:22.629Z"
      },
      {
        "duration": 17,
        "start_time": "2024-03-18T16:19:22.643Z"
      },
      {
        "duration": 22,
        "start_time": "2024-03-18T16:19:22.661Z"
      },
      {
        "duration": 5,
        "start_time": "2024-03-18T16:19:22.684Z"
      },
      {
        "duration": 31,
        "start_time": "2024-03-18T16:19:22.691Z"
      },
      {
        "duration": 38,
        "start_time": "2024-03-18T16:19:22.723Z"
      },
      {
        "duration": 207,
        "start_time": "2024-03-18T16:19:22.763Z"
      },
      {
        "duration": 9,
        "start_time": "2024-03-18T16:19:22.973Z"
      },
      {
        "duration": 94,
        "start_time": "2024-03-18T16:19:22.984Z"
      },
      {
        "duration": 102,
        "start_time": "2024-03-18T16:19:23.079Z"
      },
      {
        "duration": 15,
        "start_time": "2024-03-18T16:19:23.183Z"
      },
      {
        "duration": 25,
        "start_time": "2024-03-18T16:19:23.200Z"
      },
      {
        "duration": 2855,
        "start_time": "2024-03-18T16:19:46.313Z"
      },
      {
        "duration": 1204,
        "start_time": "2024-03-18T16:19:49.170Z"
      },
      {
        "duration": 50,
        "start_time": "2024-03-18T16:19:50.376Z"
      },
      {
        "duration": 5,
        "start_time": "2024-03-18T16:19:50.428Z"
      },
      {
        "duration": 113,
        "start_time": "2024-03-18T16:19:50.436Z"
      },
      {
        "duration": 19,
        "start_time": "2024-03-18T16:19:50.550Z"
      },
      {
        "duration": 8,
        "start_time": "2024-03-18T16:19:50.571Z"
      },
      {
        "duration": 22,
        "start_time": "2024-03-18T16:19:50.581Z"
      },
      {
        "duration": 24,
        "start_time": "2024-03-18T16:19:50.604Z"
      },
      {
        "duration": 253,
        "start_time": "2024-03-18T16:19:50.630Z"
      },
      {
        "duration": 3,
        "start_time": "2024-03-18T16:19:50.884Z"
      },
      {
        "duration": 69,
        "start_time": "2024-03-18T16:19:50.888Z"
      },
      {
        "duration": 329,
        "start_time": "2024-03-18T16:19:50.959Z"
      },
      {
        "duration": 6,
        "start_time": "2024-03-18T16:19:51.291Z"
      },
      {
        "duration": 656,
        "start_time": "2024-03-18T16:19:51.299Z"
      },
      {
        "duration": 145,
        "start_time": "2024-03-18T16:19:51.957Z"
      },
      {
        "duration": 4,
        "start_time": "2024-03-18T16:19:52.104Z"
      },
      {
        "duration": 36,
        "start_time": "2024-03-18T16:19:52.109Z"
      },
      {
        "duration": 57,
        "start_time": "2024-03-18T16:19:52.147Z"
      },
      {
        "duration": 24,
        "start_time": "2024-03-18T16:19:52.205Z"
      },
      {
        "duration": 42,
        "start_time": "2024-03-18T16:19:52.231Z"
      },
      {
        "duration": 34,
        "start_time": "2024-03-18T16:19:52.274Z"
      },
      {
        "duration": 27,
        "start_time": "2024-03-18T16:19:52.309Z"
      },
      {
        "duration": 42,
        "start_time": "2024-03-18T16:19:52.338Z"
      },
      {
        "duration": 34,
        "start_time": "2024-03-18T16:19:52.381Z"
      },
      {
        "duration": 32,
        "start_time": "2024-03-18T16:19:52.416Z"
      },
      {
        "duration": 50,
        "start_time": "2024-03-18T16:19:52.449Z"
      },
      {
        "duration": 177,
        "start_time": "2024-03-18T16:19:52.500Z"
      },
      {
        "duration": 192,
        "start_time": "2024-03-18T16:19:52.681Z"
      },
      {
        "duration": 93,
        "start_time": "2024-03-18T16:19:52.878Z"
      },
      {
        "duration": 20,
        "start_time": "2024-03-18T16:19:52.972Z"
      },
      {
        "duration": 31,
        "start_time": "2024-03-18T16:19:52.993Z"
      },
      {
        "duration": 31,
        "start_time": "2024-03-18T16:19:53.026Z"
      },
      {
        "duration": 50,
        "start_time": "2024-03-18T16:50:30.931Z"
      },
      {
        "duration": 4,
        "start_time": "2024-03-18T17:08:26.059Z"
      },
      {
        "duration": 4,
        "start_time": "2024-03-18T17:08:54.393Z"
      },
      {
        "duration": 2,
        "start_time": "2024-03-18T17:13:30.722Z"
      },
      {
        "duration": 3,
        "start_time": "2024-03-18T17:17:06.547Z"
      },
      {
        "duration": 109,
        "start_time": "2024-03-18T17:17:07.593Z"
      },
      {
        "duration": 2,
        "start_time": "2024-03-18T17:17:27.610Z"
      },
      {
        "duration": 3,
        "start_time": "2024-03-18T17:17:28.674Z"
      },
      {
        "duration": 3,
        "start_time": "2024-03-18T17:17:29.802Z"
      },
      {
        "duration": 3,
        "start_time": "2024-03-18T17:17:31.082Z"
      },
      {
        "duration": 603,
        "start_time": "2024-03-18T17:17:32.370Z"
      },
      {
        "duration": 3,
        "start_time": "2024-03-18T17:20:17.874Z"
      },
      {
        "duration": 3,
        "start_time": "2024-03-18T17:20:18.825Z"
      },
      {
        "duration": 2918,
        "start_time": "2024-03-18T17:22:38.816Z"
      },
      {
        "duration": 1258,
        "start_time": "2024-03-18T17:22:41.737Z"
      },
      {
        "duration": 49,
        "start_time": "2024-03-18T17:22:42.996Z"
      },
      {
        "duration": 6,
        "start_time": "2024-03-18T17:22:43.046Z"
      },
      {
        "duration": 89,
        "start_time": "2024-03-18T17:22:43.053Z"
      },
      {
        "duration": 2,
        "start_time": "2024-03-18T17:22:43.144Z"
      },
      {
        "duration": 25,
        "start_time": "2024-03-18T17:22:43.148Z"
      },
      {
        "duration": 24,
        "start_time": "2024-03-18T17:22:43.175Z"
      },
      {
        "duration": 30,
        "start_time": "2024-03-18T17:22:43.201Z"
      },
      {
        "duration": 250,
        "start_time": "2024-03-18T17:22:43.232Z"
      },
      {
        "duration": 3,
        "start_time": "2024-03-18T17:22:43.483Z"
      },
      {
        "duration": 21,
        "start_time": "2024-03-18T17:22:43.487Z"
      },
      {
        "duration": 324,
        "start_time": "2024-03-18T17:22:43.509Z"
      },
      {
        "duration": 6,
        "start_time": "2024-03-18T17:22:43.836Z"
      },
      {
        "duration": 703,
        "start_time": "2024-03-18T17:22:43.844Z"
      },
      {
        "duration": 154,
        "start_time": "2024-03-18T17:22:44.548Z"
      },
      {
        "duration": 4,
        "start_time": "2024-03-18T17:22:44.703Z"
      },
      {
        "duration": 8,
        "start_time": "2024-03-18T17:22:44.709Z"
      },
      {
        "duration": 31,
        "start_time": "2024-03-18T17:22:44.719Z"
      },
      {
        "duration": 30,
        "start_time": "2024-03-18T17:22:44.752Z"
      },
      {
        "duration": 6,
        "start_time": "2024-03-18T17:22:44.784Z"
      },
      {
        "duration": 6,
        "start_time": "2024-03-18T17:22:44.792Z"
      },
      {
        "duration": 6,
        "start_time": "2024-03-18T17:22:44.800Z"
      },
      {
        "duration": 5,
        "start_time": "2024-03-18T17:22:44.807Z"
      },
      {
        "duration": 6,
        "start_time": "2024-03-18T17:22:44.813Z"
      },
      {
        "duration": 7,
        "start_time": "2024-03-18T17:22:44.821Z"
      },
      {
        "duration": 44,
        "start_time": "2024-03-18T17:22:44.829Z"
      },
      {
        "duration": 98,
        "start_time": "2024-03-18T17:22:44.874Z"
      },
      {
        "duration": 97,
        "start_time": "2024-03-18T17:22:44.974Z"
      },
      {
        "duration": 97,
        "start_time": "2024-03-18T17:22:45.073Z"
      },
      {
        "duration": 5,
        "start_time": "2024-03-18T17:22:45.171Z"
      },
      {
        "duration": 27,
        "start_time": "2024-03-18T17:22:45.177Z"
      },
      {
        "duration": 24,
        "start_time": "2024-03-18T17:22:45.206Z"
      },
      {
        "duration": 2933,
        "start_time": "2024-03-18T17:25:17.885Z"
      },
      {
        "duration": 1277,
        "start_time": "2024-03-18T17:25:20.820Z"
      },
      {
        "duration": 52,
        "start_time": "2024-03-18T17:25:22.098Z"
      },
      {
        "duration": 5,
        "start_time": "2024-03-18T17:25:22.151Z"
      },
      {
        "duration": 81,
        "start_time": "2024-03-18T17:25:22.159Z"
      },
      {
        "duration": 2,
        "start_time": "2024-03-18T17:25:22.242Z"
      },
      {
        "duration": 27,
        "start_time": "2024-03-18T17:25:22.246Z"
      },
      {
        "duration": 12,
        "start_time": "2024-03-18T17:25:22.274Z"
      },
      {
        "duration": 6,
        "start_time": "2024-03-18T17:25:22.288Z"
      },
      {
        "duration": 234,
        "start_time": "2024-03-18T17:25:22.295Z"
      },
      {
        "duration": 3,
        "start_time": "2024-03-18T17:25:22.530Z"
      },
      {
        "duration": 9,
        "start_time": "2024-03-18T17:25:22.535Z"
      },
      {
        "duration": 352,
        "start_time": "2024-03-18T17:25:22.545Z"
      },
      {
        "duration": 7,
        "start_time": "2024-03-18T17:25:22.900Z"
      },
      {
        "duration": 639,
        "start_time": "2024-03-18T17:25:22.908Z"
      },
      {
        "duration": 155,
        "start_time": "2024-03-18T17:25:23.549Z"
      },
      {
        "duration": 4,
        "start_time": "2024-03-18T17:25:23.705Z"
      },
      {
        "duration": 6,
        "start_time": "2024-03-18T17:25:23.711Z"
      },
      {
        "duration": 34,
        "start_time": "2024-03-18T17:25:23.718Z"
      },
      {
        "duration": 38,
        "start_time": "2024-03-18T17:25:23.754Z"
      },
      {
        "duration": 21,
        "start_time": "2024-03-18T17:25:23.794Z"
      },
      {
        "duration": 16,
        "start_time": "2024-03-18T17:25:23.817Z"
      },
      {
        "duration": 4,
        "start_time": "2024-03-18T17:25:23.834Z"
      },
      {
        "duration": 22,
        "start_time": "2024-03-18T17:25:23.840Z"
      },
      {
        "duration": 5,
        "start_time": "2024-03-18T17:25:23.864Z"
      },
      {
        "duration": 6,
        "start_time": "2024-03-18T17:25:23.871Z"
      },
      {
        "duration": 14,
        "start_time": "2024-03-18T17:25:23.879Z"
      },
      {
        "duration": 83,
        "start_time": "2024-03-18T17:25:23.896Z"
      },
      {
        "duration": 98,
        "start_time": "2024-03-18T17:25:24.073Z"
      },
      {
        "duration": 98,
        "start_time": "2024-03-18T17:25:24.173Z"
      },
      {
        "duration": 7,
        "start_time": "2024-03-18T17:25:24.272Z"
      },
      {
        "duration": 20,
        "start_time": "2024-03-18T17:25:24.280Z"
      },
      {
        "duration": 6,
        "start_time": "2024-03-18T17:25:24.301Z"
      },
      {
        "duration": 16150,
        "start_time": "2024-03-18T17:25:24.308Z"
      },
      {
        "duration": 10,
        "start_time": "2024-03-18T17:25:40.460Z"
      },
      {
        "duration": 2,
        "start_time": "2024-03-18T17:25:57.938Z"
      },
      {
        "duration": 18,
        "start_time": "2024-03-18T17:26:36.346Z"
      },
      {
        "duration": 4,
        "start_time": "2024-03-18T17:28:06.882Z"
      },
      {
        "duration": 109,
        "start_time": "2024-03-18T17:29:45.858Z"
      },
      {
        "duration": 5,
        "start_time": "2024-03-18T17:30:00.410Z"
      },
      {
        "duration": 4,
        "start_time": "2024-03-18T17:30:07.051Z"
      },
      {
        "duration": 4,
        "start_time": "2024-03-18T17:30:41.186Z"
      },
      {
        "duration": 2914,
        "start_time": "2024-03-18T17:31:32.561Z"
      },
      {
        "duration": 1262,
        "start_time": "2024-03-18T17:31:35.478Z"
      },
      {
        "duration": 50,
        "start_time": "2024-03-18T17:31:36.742Z"
      },
      {
        "duration": 5,
        "start_time": "2024-03-18T17:31:36.793Z"
      },
      {
        "duration": 111,
        "start_time": "2024-03-18T17:31:36.800Z"
      },
      {
        "duration": 2,
        "start_time": "2024-03-18T17:31:36.912Z"
      },
      {
        "duration": 9,
        "start_time": "2024-03-18T17:31:36.915Z"
      },
      {
        "duration": 25,
        "start_time": "2024-03-18T17:31:36.925Z"
      },
      {
        "duration": 10,
        "start_time": "2024-03-18T17:31:36.951Z"
      },
      {
        "duration": 239,
        "start_time": "2024-03-18T17:31:36.962Z"
      },
      {
        "duration": 3,
        "start_time": "2024-03-18T17:31:37.202Z"
      },
      {
        "duration": 8,
        "start_time": "2024-03-18T17:31:37.206Z"
      },
      {
        "duration": 345,
        "start_time": "2024-03-18T17:31:37.216Z"
      },
      {
        "duration": 9,
        "start_time": "2024-03-18T17:31:37.564Z"
      },
      {
        "duration": 690,
        "start_time": "2024-03-18T17:31:37.575Z"
      },
      {
        "duration": 141,
        "start_time": "2024-03-18T17:31:38.269Z"
      },
      {
        "duration": 5,
        "start_time": "2024-03-18T17:31:38.412Z"
      },
      {
        "duration": 12,
        "start_time": "2024-03-18T17:31:38.418Z"
      },
      {
        "duration": 38,
        "start_time": "2024-03-18T17:31:38.431Z"
      },
      {
        "duration": 21,
        "start_time": "2024-03-18T17:31:38.471Z"
      },
      {
        "duration": 9,
        "start_time": "2024-03-18T17:31:38.493Z"
      },
      {
        "duration": 4,
        "start_time": "2024-03-18T17:31:38.503Z"
      },
      {
        "duration": 6,
        "start_time": "2024-03-18T17:31:38.508Z"
      },
      {
        "duration": 22,
        "start_time": "2024-03-18T17:31:38.515Z"
      },
      {
        "duration": 25,
        "start_time": "2024-03-18T17:31:38.538Z"
      },
      {
        "duration": 4,
        "start_time": "2024-03-18T17:31:38.564Z"
      },
      {
        "duration": 15,
        "start_time": "2024-03-18T17:31:38.570Z"
      },
      {
        "duration": 188,
        "start_time": "2024-03-18T17:31:38.587Z"
      },
      {
        "duration": 93,
        "start_time": "2024-03-18T17:31:38.777Z"
      },
      {
        "duration": 4,
        "start_time": "2024-03-18T17:31:38.872Z"
      },
      {
        "duration": 96,
        "start_time": "2024-03-18T17:31:38.878Z"
      },
      {
        "duration": 9,
        "start_time": "2024-03-18T17:31:38.976Z"
      },
      {
        "duration": 6,
        "start_time": "2024-03-18T17:31:38.987Z"
      },
      {
        "duration": 24636,
        "start_time": "2024-03-18T17:31:38.994Z"
      },
      {
        "duration": 3,
        "start_time": "2024-03-18T17:32:03.632Z"
      },
      {
        "duration": 34,
        "start_time": "2024-03-18T17:32:03.637Z"
      },
      {
        "duration": 5,
        "start_time": "2024-03-18T17:32:03.673Z"
      },
      {
        "duration": 8,
        "start_time": "2024-03-18T17:32:03.680Z"
      },
      {
        "duration": 115,
        "start_time": "2024-03-18T17:32:03.689Z"
      },
      {
        "duration": 6,
        "start_time": "2024-03-18T17:38:06.330Z"
      },
      {
        "duration": 5,
        "start_time": "2024-03-18T17:38:22.434Z"
      },
      {
        "duration": 2984,
        "start_time": "2024-03-18T17:39:08.359Z"
      },
      {
        "duration": 1250,
        "start_time": "2024-03-18T17:39:11.345Z"
      },
      {
        "duration": 49,
        "start_time": "2024-03-18T17:39:12.596Z"
      },
      {
        "duration": 5,
        "start_time": "2024-03-18T17:39:12.647Z"
      },
      {
        "duration": 103,
        "start_time": "2024-03-18T17:39:12.654Z"
      },
      {
        "duration": 3,
        "start_time": "2024-03-18T17:39:12.758Z"
      },
      {
        "duration": 24,
        "start_time": "2024-03-18T17:39:12.762Z"
      },
      {
        "duration": 27,
        "start_time": "2024-03-18T17:39:12.788Z"
      },
      {
        "duration": 40,
        "start_time": "2024-03-18T17:39:12.817Z"
      },
      {
        "duration": 235,
        "start_time": "2024-03-18T17:39:12.858Z"
      },
      {
        "duration": 2,
        "start_time": "2024-03-18T17:39:13.095Z"
      },
      {
        "duration": 44,
        "start_time": "2024-03-18T17:39:13.098Z"
      },
      {
        "duration": 307,
        "start_time": "2024-03-18T17:39:13.143Z"
      },
      {
        "duration": 18,
        "start_time": "2024-03-18T17:39:13.454Z"
      },
      {
        "duration": 660,
        "start_time": "2024-03-18T17:39:13.473Z"
      },
      {
        "duration": 147,
        "start_time": "2024-03-18T17:39:14.135Z"
      },
      {
        "duration": 3,
        "start_time": "2024-03-18T17:39:14.284Z"
      },
      {
        "duration": 5,
        "start_time": "2024-03-18T17:39:14.288Z"
      },
      {
        "duration": 27,
        "start_time": "2024-03-18T17:39:14.294Z"
      },
      {
        "duration": 22,
        "start_time": "2024-03-18T17:39:14.322Z"
      },
      {
        "duration": 25,
        "start_time": "2024-03-18T17:39:14.345Z"
      },
      {
        "duration": 2,
        "start_time": "2024-03-18T17:39:14.372Z"
      },
      {
        "duration": 8,
        "start_time": "2024-03-18T17:39:14.376Z"
      },
      {
        "duration": 11,
        "start_time": "2024-03-18T17:39:14.385Z"
      },
      {
        "duration": 9,
        "start_time": "2024-03-18T17:39:14.398Z"
      },
      {
        "duration": 11,
        "start_time": "2024-03-18T17:39:14.408Z"
      },
      {
        "duration": 53,
        "start_time": "2024-03-18T17:39:14.421Z"
      },
      {
        "duration": 100,
        "start_time": "2024-03-18T17:39:14.476Z"
      },
      {
        "duration": 97,
        "start_time": "2024-03-18T17:39:14.578Z"
      },
      {
        "duration": 95,
        "start_time": "2024-03-18T17:39:14.677Z"
      },
      {
        "duration": 4,
        "start_time": "2024-03-18T17:39:14.773Z"
      },
      {
        "duration": 6,
        "start_time": "2024-03-18T17:39:14.778Z"
      },
      {
        "duration": 5,
        "start_time": "2024-03-18T17:39:14.785Z"
      },
      {
        "duration": 62013,
        "start_time": "2024-03-18T17:39:14.791Z"
      },
      {
        "duration": 4,
        "start_time": "2024-03-18T17:40:16.805Z"
      },
      {
        "duration": 21,
        "start_time": "2024-03-18T17:40:16.811Z"
      },
      {
        "duration": 3,
        "start_time": "2024-03-18T17:40:16.833Z"
      },
      {
        "duration": 8,
        "start_time": "2024-03-18T17:40:16.838Z"
      },
      {
        "duration": 26,
        "start_time": "2024-03-18T17:40:16.847Z"
      },
      {
        "duration": 5,
        "start_time": "2024-03-18T17:42:35.921Z"
      },
      {
        "duration": 3,
        "start_time": "2024-03-18T17:42:36.771Z"
      },
      {
        "duration": 2802,
        "start_time": "2024-03-18T17:42:41.990Z"
      },
      {
        "duration": 1185,
        "start_time": "2024-03-18T17:42:44.794Z"
      },
      {
        "duration": 48,
        "start_time": "2024-03-18T17:42:45.981Z"
      },
      {
        "duration": 5,
        "start_time": "2024-03-18T17:42:46.031Z"
      },
      {
        "duration": 80,
        "start_time": "2024-03-18T17:42:46.039Z"
      },
      {
        "duration": 3,
        "start_time": "2024-03-18T17:42:46.121Z"
      },
      {
        "duration": 13,
        "start_time": "2024-03-18T17:42:46.126Z"
      },
      {
        "duration": 34,
        "start_time": "2024-03-18T17:42:46.141Z"
      },
      {
        "duration": 9,
        "start_time": "2024-03-18T17:42:46.177Z"
      },
      {
        "duration": 238,
        "start_time": "2024-03-18T17:42:46.187Z"
      },
      {
        "duration": 3,
        "start_time": "2024-03-18T17:42:46.426Z"
      },
      {
        "duration": 22,
        "start_time": "2024-03-18T17:42:46.430Z"
      },
      {
        "duration": 323,
        "start_time": "2024-03-18T17:42:46.454Z"
      },
      {
        "duration": 7,
        "start_time": "2024-03-18T17:42:46.780Z"
      },
      {
        "duration": 671,
        "start_time": "2024-03-18T17:42:46.788Z"
      },
      {
        "duration": 146,
        "start_time": "2024-03-18T17:42:47.461Z"
      },
      {
        "duration": 4,
        "start_time": "2024-03-18T17:42:47.608Z"
      },
      {
        "duration": 8,
        "start_time": "2024-03-18T17:42:47.613Z"
      },
      {
        "duration": 28,
        "start_time": "2024-03-18T17:42:47.622Z"
      },
      {
        "duration": 40,
        "start_time": "2024-03-18T17:42:47.651Z"
      },
      {
        "duration": 4,
        "start_time": "2024-03-18T17:42:47.692Z"
      },
      {
        "duration": 5,
        "start_time": "2024-03-18T17:42:47.697Z"
      },
      {
        "duration": 5,
        "start_time": "2024-03-18T17:42:47.703Z"
      },
      {
        "duration": 7,
        "start_time": "2024-03-18T17:42:47.709Z"
      },
      {
        "duration": 4,
        "start_time": "2024-03-18T17:42:47.717Z"
      },
      {
        "duration": 3,
        "start_time": "2024-03-18T17:42:47.722Z"
      },
      {
        "duration": 55,
        "start_time": "2024-03-18T17:42:47.726Z"
      },
      {
        "duration": 105,
        "start_time": "2024-03-18T17:42:47.869Z"
      },
      {
        "duration": 101,
        "start_time": "2024-03-18T17:42:47.976Z"
      },
      {
        "duration": 89,
        "start_time": "2024-03-18T17:42:48.079Z"
      },
      {
        "duration": 4,
        "start_time": "2024-03-18T17:42:48.171Z"
      },
      {
        "duration": 93,
        "start_time": "2024-03-18T17:42:48.177Z"
      },
      {
        "duration": 5,
        "start_time": "2024-03-18T17:42:48.272Z"
      },
      {
        "duration": 189907,
        "start_time": "2024-03-18T17:42:48.278Z"
      },
      {
        "duration": 4,
        "start_time": "2024-03-18T17:45:58.187Z"
      },
      {
        "duration": 21,
        "start_time": "2024-03-18T17:45:58.192Z"
      },
      {
        "duration": 5,
        "start_time": "2024-03-18T17:45:58.214Z"
      },
      {
        "duration": 24,
        "start_time": "2024-03-18T17:45:58.220Z"
      },
      {
        "duration": 6,
        "start_time": "2024-03-18T17:45:58.246Z"
      },
      {
        "duration": 4,
        "start_time": "2024-03-18T17:46:41.578Z"
      },
      {
        "duration": 113,
        "start_time": "2024-03-18T17:55:57.106Z"
      },
      {
        "duration": 9,
        "start_time": "2024-03-18T17:56:24.041Z"
      },
      {
        "duration": 3450,
        "start_time": "2024-03-18T17:57:00.443Z"
      },
      {
        "duration": 1212,
        "start_time": "2024-03-18T17:57:03.895Z"
      },
      {
        "duration": 48,
        "start_time": "2024-03-18T17:57:05.109Z"
      },
      {
        "duration": 5,
        "start_time": "2024-03-18T17:57:05.159Z"
      },
      {
        "duration": 92,
        "start_time": "2024-03-18T17:57:05.166Z"
      },
      {
        "duration": 4,
        "start_time": "2024-03-18T17:57:05.259Z"
      },
      {
        "duration": 9,
        "start_time": "2024-03-18T17:57:05.269Z"
      },
      {
        "duration": 10,
        "start_time": "2024-03-18T17:57:05.279Z"
      },
      {
        "duration": 6,
        "start_time": "2024-03-18T17:57:05.291Z"
      },
      {
        "duration": 235,
        "start_time": "2024-03-18T17:57:05.299Z"
      },
      {
        "duration": 3,
        "start_time": "2024-03-18T17:57:05.535Z"
      },
      {
        "duration": 9,
        "start_time": "2024-03-18T17:57:05.540Z"
      },
      {
        "duration": 320,
        "start_time": "2024-03-18T17:57:05.551Z"
      },
      {
        "duration": 7,
        "start_time": "2024-03-18T17:57:05.872Z"
      },
      {
        "duration": 667,
        "start_time": "2024-03-18T17:57:05.880Z"
      },
      {
        "duration": 142,
        "start_time": "2024-03-18T17:57:06.549Z"
      },
      {
        "duration": 4,
        "start_time": "2024-03-18T17:57:06.693Z"
      },
      {
        "duration": 6,
        "start_time": "2024-03-18T17:57:06.699Z"
      },
      {
        "duration": 34,
        "start_time": "2024-03-18T17:57:06.706Z"
      },
      {
        "duration": 31,
        "start_time": "2024-03-18T17:57:06.741Z"
      },
      {
        "duration": 4,
        "start_time": "2024-03-18T17:57:06.774Z"
      },
      {
        "duration": 5,
        "start_time": "2024-03-18T17:57:06.779Z"
      },
      {
        "duration": 5,
        "start_time": "2024-03-18T17:57:06.786Z"
      },
      {
        "duration": 4,
        "start_time": "2024-03-18T17:57:06.792Z"
      },
      {
        "duration": 5,
        "start_time": "2024-03-18T17:57:06.797Z"
      },
      {
        "duration": 3,
        "start_time": "2024-03-18T17:57:06.803Z"
      },
      {
        "duration": 65,
        "start_time": "2024-03-18T17:57:06.807Z"
      },
      {
        "duration": 98,
        "start_time": "2024-03-18T17:57:06.875Z"
      },
      {
        "duration": 99,
        "start_time": "2024-03-18T17:57:06.975Z"
      },
      {
        "duration": 94,
        "start_time": "2024-03-18T17:57:07.077Z"
      },
      {
        "duration": 3,
        "start_time": "2024-03-18T17:57:07.174Z"
      },
      {
        "duration": 94,
        "start_time": "2024-03-18T17:57:07.179Z"
      },
      {
        "duration": 7,
        "start_time": "2024-03-18T17:57:07.275Z"
      },
      {
        "duration": 326353,
        "start_time": "2024-03-18T17:57:07.284Z"
      },
      {
        "duration": 4,
        "start_time": "2024-03-18T18:02:33.639Z"
      },
      {
        "duration": 7,
        "start_time": "2024-03-18T18:02:33.645Z"
      },
      {
        "duration": 19,
        "start_time": "2024-03-18T18:02:33.654Z"
      },
      {
        "duration": 8,
        "start_time": "2024-03-18T18:02:33.675Z"
      },
      {
        "duration": 28,
        "start_time": "2024-03-18T18:02:33.684Z"
      },
      {
        "duration": 4,
        "start_time": "2024-03-18T18:02:33.714Z"
      },
      {
        "duration": 110,
        "start_time": "2024-03-18T18:02:33.719Z"
      },
      {
        "duration": 8,
        "start_time": "2024-03-18T18:03:18.386Z"
      },
      {
        "duration": 9,
        "start_time": "2024-03-18T18:05:15.825Z"
      },
      {
        "duration": 7,
        "start_time": "2024-03-18T18:05:27.515Z"
      },
      {
        "duration": 15,
        "start_time": "2024-03-18T18:05:59.107Z"
      },
      {
        "duration": 8,
        "start_time": "2024-03-18T18:06:01.251Z"
      },
      {
        "duration": 8,
        "start_time": "2024-03-18T18:06:07.145Z"
      },
      {
        "duration": 3,
        "start_time": "2024-03-18T18:06:12.498Z"
      },
      {
        "duration": 3,
        "start_time": "2024-03-18T18:06:15.857Z"
      },
      {
        "duration": 3,
        "start_time": "2024-03-18T18:06:21.649Z"
      },
      {
        "duration": 9,
        "start_time": "2024-03-18T18:06:24.441Z"
      },
      {
        "duration": 1915,
        "start_time": "2024-03-18T18:06:47.377Z"
      },
      {
        "duration": 0,
        "start_time": "2024-03-18T18:06:49.294Z"
      },
      {
        "duration": 3,
        "start_time": "2024-03-18T18:06:57.578Z"
      },
      {
        "duration": 3,
        "start_time": "2024-03-18T18:06:58.793Z"
      },
      {
        "duration": 3,
        "start_time": "2024-03-18T18:06:59.937Z"
      },
      {
        "duration": 3,
        "start_time": "2024-03-18T18:07:06.937Z"
      },
      {
        "duration": 2852,
        "start_time": "2024-03-18T18:07:17.831Z"
      },
      {
        "duration": 1214,
        "start_time": "2024-03-18T18:07:20.685Z"
      },
      {
        "duration": 50,
        "start_time": "2024-03-18T18:07:21.901Z"
      },
      {
        "duration": 5,
        "start_time": "2024-03-18T18:07:21.953Z"
      },
      {
        "duration": 119,
        "start_time": "2024-03-18T18:07:21.960Z"
      },
      {
        "duration": 3,
        "start_time": "2024-03-18T18:07:22.080Z"
      },
      {
        "duration": 11,
        "start_time": "2024-03-18T18:07:22.084Z"
      },
      {
        "duration": 10,
        "start_time": "2024-03-18T18:07:22.096Z"
      },
      {
        "duration": 13,
        "start_time": "2024-03-18T18:07:22.107Z"
      },
      {
        "duration": 232,
        "start_time": "2024-03-18T18:07:22.123Z"
      },
      {
        "duration": 3,
        "start_time": "2024-03-18T18:07:22.356Z"
      },
      {
        "duration": 13,
        "start_time": "2024-03-18T18:07:22.369Z"
      },
      {
        "duration": 319,
        "start_time": "2024-03-18T18:07:22.383Z"
      },
      {
        "duration": 7,
        "start_time": "2024-03-18T18:07:22.704Z"
      },
      {
        "duration": 634,
        "start_time": "2024-03-18T18:07:22.712Z"
      },
      {
        "duration": 142,
        "start_time": "2024-03-18T18:07:23.348Z"
      },
      {
        "duration": 5,
        "start_time": "2024-03-18T18:07:23.491Z"
      },
      {
        "duration": 9,
        "start_time": "2024-03-18T18:07:23.497Z"
      },
      {
        "duration": 28,
        "start_time": "2024-03-18T18:07:23.507Z"
      },
      {
        "duration": 40,
        "start_time": "2024-03-18T18:07:23.536Z"
      },
      {
        "duration": 14,
        "start_time": "2024-03-18T18:07:23.577Z"
      },
      {
        "duration": 16,
        "start_time": "2024-03-18T18:07:23.593Z"
      },
      {
        "duration": 13,
        "start_time": "2024-03-18T18:07:23.610Z"
      },
      {
        "duration": 7,
        "start_time": "2024-03-18T18:07:23.624Z"
      },
      {
        "duration": 4,
        "start_time": "2024-03-18T18:07:23.632Z"
      },
      {
        "duration": 4,
        "start_time": "2024-03-18T18:07:23.637Z"
      },
      {
        "duration": 34,
        "start_time": "2024-03-18T18:07:23.642Z"
      },
      {
        "duration": 191,
        "start_time": "2024-03-18T18:07:23.680Z"
      },
      {
        "duration": 102,
        "start_time": "2024-03-18T18:07:23.873Z"
      },
      {
        "duration": 94,
        "start_time": "2024-03-18T18:07:23.980Z"
      },
      {
        "duration": 107,
        "start_time": "2024-03-18T18:07:24.076Z"
      },
      {
        "duration": 4,
        "start_time": "2024-03-18T18:07:24.184Z"
      },
      {
        "duration": 11,
        "start_time": "2024-03-18T18:07:24.189Z"
      },
      {
        "duration": 88554,
        "start_time": "2024-03-18T18:07:24.201Z"
      },
      {
        "duration": 4,
        "start_time": "2024-03-18T18:08:52.756Z"
      },
      {
        "duration": 7,
        "start_time": "2024-03-18T18:08:52.761Z"
      },
      {
        "duration": 31,
        "start_time": "2024-03-18T18:08:52.769Z"
      },
      {
        "duration": 5,
        "start_time": "2024-03-18T18:08:52.801Z"
      },
      {
        "duration": 6,
        "start_time": "2024-03-18T18:08:52.807Z"
      },
      {
        "duration": 4,
        "start_time": "2024-03-18T18:08:52.814Z"
      },
      {
        "duration": 4,
        "start_time": "2024-03-18T18:08:52.819Z"
      },
      {
        "duration": 5,
        "start_time": "2024-03-18T18:08:52.824Z"
      },
      {
        "duration": 5,
        "start_time": "2024-03-18T18:08:52.830Z"
      },
      {
        "duration": 19,
        "start_time": "2024-03-18T18:08:52.836Z"
      },
      {
        "duration": 25,
        "start_time": "2024-03-18T18:08:52.857Z"
      },
      {
        "duration": 9,
        "start_time": "2024-03-18T18:08:52.884Z"
      },
      {
        "duration": 6,
        "start_time": "2024-03-18T18:08:52.895Z"
      },
      {
        "duration": 18,
        "start_time": "2024-03-18T18:15:23.530Z"
      },
      {
        "duration": 2820,
        "start_time": "2024-03-18T18:16:24.251Z"
      },
      {
        "duration": 1212,
        "start_time": "2024-03-18T18:16:27.073Z"
      },
      {
        "duration": 49,
        "start_time": "2024-03-18T18:16:28.287Z"
      },
      {
        "duration": 6,
        "start_time": "2024-03-18T18:16:28.338Z"
      },
      {
        "duration": 85,
        "start_time": "2024-03-18T18:16:28.347Z"
      },
      {
        "duration": 3,
        "start_time": "2024-03-18T18:16:28.433Z"
      },
      {
        "duration": 13,
        "start_time": "2024-03-18T18:16:28.438Z"
      },
      {
        "duration": 19,
        "start_time": "2024-03-18T18:16:28.453Z"
      },
      {
        "duration": 7,
        "start_time": "2024-03-18T18:16:28.473Z"
      },
      {
        "duration": 243,
        "start_time": "2024-03-18T18:16:28.481Z"
      },
      {
        "duration": 3,
        "start_time": "2024-03-18T18:16:28.725Z"
      },
      {
        "duration": 9,
        "start_time": "2024-03-18T18:16:28.730Z"
      },
      {
        "duration": 347,
        "start_time": "2024-03-18T18:16:28.741Z"
      },
      {
        "duration": 6,
        "start_time": "2024-03-18T18:16:29.091Z"
      },
      {
        "duration": 646,
        "start_time": "2024-03-18T18:16:29.098Z"
      },
      {
        "duration": 149,
        "start_time": "2024-03-18T18:16:29.746Z"
      },
      {
        "duration": 3,
        "start_time": "2024-03-18T18:16:29.897Z"
      },
      {
        "duration": 8,
        "start_time": "2024-03-18T18:16:29.902Z"
      },
      {
        "duration": 32,
        "start_time": "2024-03-18T18:16:29.912Z"
      },
      {
        "duration": 39,
        "start_time": "2024-03-18T18:16:29.945Z"
      },
      {
        "duration": 4,
        "start_time": "2024-03-18T18:16:29.986Z"
      },
      {
        "duration": 5,
        "start_time": "2024-03-18T18:16:29.991Z"
      },
      {
        "duration": 3,
        "start_time": "2024-03-18T18:16:29.998Z"
      },
      {
        "duration": 3,
        "start_time": "2024-03-18T18:16:30.003Z"
      },
      {
        "duration": 90216,
        "start_time": "2024-03-18T18:16:30.007Z"
      },
      {
        "duration": 5,
        "start_time": "2024-03-18T18:18:00.225Z"
      },
      {
        "duration": 132,
        "start_time": "2024-03-18T18:18:00.231Z"
      },
      {
        "duration": 237,
        "start_time": "2024-03-18T18:18:00.365Z"
      },
      {
        "duration": 80,
        "start_time": "2024-03-18T18:18:00.604Z"
      },
      {
        "duration": 103,
        "start_time": "2024-03-18T18:18:00.686Z"
      },
      {
        "duration": 50,
        "start_time": "2024-03-18T18:18:00.791Z"
      },
      {
        "duration": 62,
        "start_time": "2024-03-18T18:18:00.842Z"
      },
      {
        "duration": 69,
        "start_time": "2024-03-18T18:18:00.906Z"
      },
      {
        "duration": 51,
        "start_time": "2024-03-18T18:18:00.976Z"
      },
      {
        "duration": 41,
        "start_time": "2024-03-18T18:18:01.029Z"
      },
      {
        "duration": 54,
        "start_time": "2024-03-18T18:18:01.072Z"
      },
      {
        "duration": 43,
        "start_time": "2024-03-18T18:18:01.127Z"
      },
      {
        "duration": 5,
        "start_time": "2024-03-19T07:11:36.524Z"
      },
      {
        "duration": 260,
        "start_time": "2024-03-19T07:11:41.459Z"
      },
      {
        "duration": 725,
        "start_time": "2024-03-19T07:11:53.899Z"
      },
      {
        "duration": 281,
        "start_time": "2024-03-19T07:13:02.531Z"
      },
      {
        "duration": 620,
        "start_time": "2024-03-19T07:13:16.323Z"
      },
      {
        "duration": 730,
        "start_time": "2024-03-19T07:14:00.747Z"
      },
      {
        "duration": 2848,
        "start_time": "2024-03-19T07:14:50.708Z"
      },
      {
        "duration": 1218,
        "start_time": "2024-03-19T07:14:53.558Z"
      },
      {
        "duration": 49,
        "start_time": "2024-03-19T07:14:54.777Z"
      },
      {
        "duration": 10,
        "start_time": "2024-03-19T07:14:54.828Z"
      },
      {
        "duration": 113,
        "start_time": "2024-03-19T07:14:54.840Z"
      },
      {
        "duration": 3,
        "start_time": "2024-03-19T07:14:54.955Z"
      },
      {
        "duration": 24,
        "start_time": "2024-03-19T07:14:54.969Z"
      },
      {
        "duration": 33,
        "start_time": "2024-03-19T07:14:54.994Z"
      },
      {
        "duration": 28,
        "start_time": "2024-03-19T07:14:55.029Z"
      },
      {
        "duration": 255,
        "start_time": "2024-03-19T07:14:55.059Z"
      },
      {
        "duration": 3,
        "start_time": "2024-03-19T07:14:55.316Z"
      },
      {
        "duration": 29,
        "start_time": "2024-03-19T07:14:55.321Z"
      },
      {
        "duration": 328,
        "start_time": "2024-03-19T07:14:55.351Z"
      },
      {
        "duration": 7,
        "start_time": "2024-03-19T07:14:55.682Z"
      },
      {
        "duration": 691,
        "start_time": "2024-03-19T07:14:55.690Z"
      },
      {
        "duration": 143,
        "start_time": "2024-03-19T07:14:56.382Z"
      },
      {
        "duration": 4,
        "start_time": "2024-03-19T07:14:56.526Z"
      },
      {
        "duration": 4,
        "start_time": "2024-03-19T07:14:56.532Z"
      },
      {
        "duration": 42,
        "start_time": "2024-03-19T07:14:56.537Z"
      },
      {
        "duration": 22,
        "start_time": "2024-03-19T07:14:56.580Z"
      },
      {
        "duration": 21,
        "start_time": "2024-03-19T07:14:56.603Z"
      },
      {
        "duration": 10,
        "start_time": "2024-03-19T07:14:56.625Z"
      },
      {
        "duration": 10,
        "start_time": "2024-03-19T07:14:56.636Z"
      },
      {
        "duration": 8,
        "start_time": "2024-03-19T07:14:56.647Z"
      },
      {
        "duration": 89314,
        "start_time": "2024-03-19T07:14:56.657Z"
      },
      {
        "duration": 5,
        "start_time": "2024-03-19T07:16:25.972Z"
      },
      {
        "duration": 28,
        "start_time": "2024-03-19T07:16:25.978Z"
      },
      {
        "duration": 21,
        "start_time": "2024-03-19T07:16:26.007Z"
      },
      {
        "duration": 4,
        "start_time": "2024-03-19T07:16:26.029Z"
      },
      {
        "duration": 8,
        "start_time": "2024-03-19T07:16:26.035Z"
      },
      {
        "duration": 5,
        "start_time": "2024-03-19T07:16:26.044Z"
      },
      {
        "duration": 3,
        "start_time": "2024-03-19T07:16:26.050Z"
      },
      {
        "duration": 16,
        "start_time": "2024-03-19T07:16:26.055Z"
      },
      {
        "duration": 5,
        "start_time": "2024-03-19T07:16:26.073Z"
      },
      {
        "duration": 5,
        "start_time": "2024-03-19T07:16:26.080Z"
      },
      {
        "duration": 4,
        "start_time": "2024-03-19T07:16:26.087Z"
      },
      {
        "duration": 8,
        "start_time": "2024-03-19T07:16:26.093Z"
      },
      {
        "duration": 25,
        "start_time": "2024-03-19T07:53:45.181Z"
      },
      {
        "duration": 115,
        "start_time": "2024-03-19T07:54:47.716Z"
      },
      {
        "duration": 2880,
        "start_time": "2024-03-19T07:57:30.797Z"
      },
      {
        "duration": 1215,
        "start_time": "2024-03-19T07:57:33.679Z"
      },
      {
        "duration": 49,
        "start_time": "2024-03-19T07:57:34.895Z"
      },
      {
        "duration": 5,
        "start_time": "2024-03-19T07:57:34.946Z"
      },
      {
        "duration": 83,
        "start_time": "2024-03-19T07:57:34.952Z"
      },
      {
        "duration": 3,
        "start_time": "2024-03-19T07:57:35.037Z"
      },
      {
        "duration": 28,
        "start_time": "2024-03-19T07:57:35.042Z"
      },
      {
        "duration": 33,
        "start_time": "2024-03-19T07:57:35.072Z"
      },
      {
        "duration": 13,
        "start_time": "2024-03-19T07:57:35.106Z"
      },
      {
        "duration": 227,
        "start_time": "2024-03-19T07:57:35.122Z"
      },
      {
        "duration": 2,
        "start_time": "2024-03-19T07:57:35.351Z"
      },
      {
        "duration": 18,
        "start_time": "2024-03-19T07:57:35.355Z"
      },
      {
        "duration": 327,
        "start_time": "2024-03-19T07:57:35.374Z"
      },
      {
        "duration": 2368,
        "start_time": "2024-03-19T07:57:35.703Z"
      },
      {
        "duration": 97,
        "start_time": "2024-03-19T07:57:38.073Z"
      },
      {
        "duration": 704,
        "start_time": "2024-03-19T07:57:38.171Z"
      },
      {
        "duration": 144,
        "start_time": "2024-03-19T07:57:38.876Z"
      },
      {
        "duration": 4,
        "start_time": "2024-03-19T07:57:39.022Z"
      },
      {
        "duration": 11,
        "start_time": "2024-03-19T07:57:39.027Z"
      },
      {
        "duration": 35,
        "start_time": "2024-03-19T07:57:39.039Z"
      },
      {
        "duration": 21,
        "start_time": "2024-03-19T07:57:39.075Z"
      },
      {
        "duration": 5,
        "start_time": "2024-03-19T07:57:39.097Z"
      },
      {
        "duration": 5,
        "start_time": "2024-03-19T07:57:39.103Z"
      },
      {
        "duration": 4,
        "start_time": "2024-03-19T07:57:39.110Z"
      },
      {
        "duration": 4,
        "start_time": "2024-03-19T07:57:39.115Z"
      },
      {
        "duration": 90933,
        "start_time": "2024-03-19T07:57:39.120Z"
      },
      {
        "duration": 5,
        "start_time": "2024-03-19T07:59:10.054Z"
      },
      {
        "duration": 17,
        "start_time": "2024-03-19T07:59:10.062Z"
      },
      {
        "duration": 36,
        "start_time": "2024-03-19T07:59:10.081Z"
      },
      {
        "duration": 32,
        "start_time": "2024-03-19T07:59:10.118Z"
      },
      {
        "duration": 12,
        "start_time": "2024-03-19T07:59:10.152Z"
      },
      {
        "duration": 6,
        "start_time": "2024-03-19T07:59:10.165Z"
      },
      {
        "duration": 11,
        "start_time": "2024-03-19T07:59:10.173Z"
      },
      {
        "duration": 5,
        "start_time": "2024-03-19T07:59:10.185Z"
      },
      {
        "duration": 3,
        "start_time": "2024-03-19T07:59:10.192Z"
      },
      {
        "duration": 13,
        "start_time": "2024-03-19T07:59:10.197Z"
      },
      {
        "duration": 5,
        "start_time": "2024-03-19T07:59:10.211Z"
      },
      {
        "duration": 33,
        "start_time": "2024-03-19T07:59:10.217Z"
      },
      {
        "duration": 113,
        "start_time": "2024-03-19T08:21:03.058Z"
      },
      {
        "duration": 2951,
        "start_time": "2024-03-19T08:21:48.266Z"
      },
      {
        "duration": 1206,
        "start_time": "2024-03-19T08:21:51.219Z"
      },
      {
        "duration": 49,
        "start_time": "2024-03-19T08:21:52.427Z"
      },
      {
        "duration": 5,
        "start_time": "2024-03-19T08:21:52.478Z"
      },
      {
        "duration": 90,
        "start_time": "2024-03-19T08:21:52.484Z"
      },
      {
        "duration": 2,
        "start_time": "2024-03-19T08:21:52.576Z"
      },
      {
        "duration": 12,
        "start_time": "2024-03-19T08:21:52.579Z"
      },
      {
        "duration": 29,
        "start_time": "2024-03-19T08:21:52.592Z"
      },
      {
        "duration": 7,
        "start_time": "2024-03-19T08:21:52.622Z"
      },
      {
        "duration": 220,
        "start_time": "2024-03-19T08:21:52.632Z"
      },
      {
        "duration": 2,
        "start_time": "2024-03-19T08:21:52.854Z"
      },
      {
        "duration": 12,
        "start_time": "2024-03-19T08:21:52.857Z"
      },
      {
        "duration": 317,
        "start_time": "2024-03-19T08:21:52.870Z"
      },
      {
        "duration": 13,
        "start_time": "2024-03-19T08:21:53.188Z"
      },
      {
        "duration": 2168,
        "start_time": "2024-03-19T08:21:53.202Z"
      },
      {
        "duration": 97,
        "start_time": "2024-03-19T08:21:55.372Z"
      },
      {
        "duration": 682,
        "start_time": "2024-03-19T08:21:55.471Z"
      },
      {
        "duration": 146,
        "start_time": "2024-03-19T08:21:56.155Z"
      },
      {
        "duration": 4,
        "start_time": "2024-03-19T08:21:56.302Z"
      },
      {
        "duration": 22,
        "start_time": "2024-03-19T08:21:56.308Z"
      },
      {
        "duration": 43,
        "start_time": "2024-03-19T08:21:56.332Z"
      },
      {
        "duration": 22,
        "start_time": "2024-03-19T08:21:56.377Z"
      },
      {
        "duration": 31,
        "start_time": "2024-03-19T08:21:56.401Z"
      },
      {
        "duration": 22,
        "start_time": "2024-03-19T08:21:56.433Z"
      },
      {
        "duration": 13,
        "start_time": "2024-03-19T08:21:56.456Z"
      },
      {
        "duration": 41,
        "start_time": "2024-03-19T08:21:56.471Z"
      },
      {
        "duration": 89264,
        "start_time": "2024-03-19T08:21:56.514Z"
      },
      {
        "duration": 4,
        "start_time": "2024-03-19T08:23:25.781Z"
      },
      {
        "duration": 5,
        "start_time": "2024-03-19T08:23:25.786Z"
      },
      {
        "duration": 18,
        "start_time": "2024-03-19T08:23:25.792Z"
      },
      {
        "duration": 4,
        "start_time": "2024-03-19T08:23:25.811Z"
      },
      {
        "duration": 5,
        "start_time": "2024-03-19T08:23:25.816Z"
      },
      {
        "duration": 6,
        "start_time": "2024-03-19T08:23:25.822Z"
      },
      {
        "duration": 4,
        "start_time": "2024-03-19T08:23:25.829Z"
      },
      {
        "duration": 12,
        "start_time": "2024-03-19T08:23:25.834Z"
      },
      {
        "duration": 23,
        "start_time": "2024-03-19T08:23:25.847Z"
      },
      {
        "duration": 3,
        "start_time": "2024-03-19T08:23:25.871Z"
      },
      {
        "duration": 14,
        "start_time": "2024-03-19T08:23:25.875Z"
      },
      {
        "duration": 5,
        "start_time": "2024-03-19T08:23:25.890Z"
      },
      {
        "duration": 2869,
        "start_time": "2024-03-19T08:31:24.999Z"
      },
      {
        "duration": 1285,
        "start_time": "2024-03-19T08:31:27.870Z"
      },
      {
        "duration": 48,
        "start_time": "2024-03-19T08:31:29.157Z"
      },
      {
        "duration": 6,
        "start_time": "2024-03-19T08:31:29.207Z"
      },
      {
        "duration": 95,
        "start_time": "2024-03-19T08:31:29.214Z"
      },
      {
        "duration": 3,
        "start_time": "2024-03-19T08:31:29.310Z"
      },
      {
        "duration": 10,
        "start_time": "2024-03-19T08:31:29.314Z"
      },
      {
        "duration": 12,
        "start_time": "2024-03-19T08:31:29.325Z"
      },
      {
        "duration": 11,
        "start_time": "2024-03-19T08:31:29.339Z"
      },
      {
        "duration": 267,
        "start_time": "2024-03-19T08:31:29.368Z"
      },
      {
        "duration": 3,
        "start_time": "2024-03-19T08:31:29.636Z"
      },
      {
        "duration": 9,
        "start_time": "2024-03-19T08:31:29.641Z"
      },
      {
        "duration": 362,
        "start_time": "2024-03-19T08:31:29.652Z"
      },
      {
        "duration": 1855,
        "start_time": "2024-03-19T08:31:30.015Z"
      },
      {
        "duration": 142,
        "start_time": "2024-03-19T08:31:31.877Z"
      },
      {
        "duration": 0,
        "start_time": "2024-03-19T08:31:32.020Z"
      },
      {
        "duration": 0,
        "start_time": "2024-03-19T08:31:32.021Z"
      },
      {
        "duration": 0,
        "start_time": "2024-03-19T08:31:32.022Z"
      },
      {
        "duration": 0,
        "start_time": "2024-03-19T08:31:32.024Z"
      },
      {
        "duration": 0,
        "start_time": "2024-03-19T08:31:32.025Z"
      },
      {
        "duration": 0,
        "start_time": "2024-03-19T08:31:32.026Z"
      },
      {
        "duration": 0,
        "start_time": "2024-03-19T08:31:32.027Z"
      },
      {
        "duration": 0,
        "start_time": "2024-03-19T08:31:32.028Z"
      },
      {
        "duration": 0,
        "start_time": "2024-03-19T08:31:32.029Z"
      },
      {
        "duration": 0,
        "start_time": "2024-03-19T08:31:32.029Z"
      },
      {
        "duration": 0,
        "start_time": "2024-03-19T08:31:32.030Z"
      },
      {
        "duration": 0,
        "start_time": "2024-03-19T08:31:32.031Z"
      },
      {
        "duration": 0,
        "start_time": "2024-03-19T08:31:32.032Z"
      },
      {
        "duration": 0,
        "start_time": "2024-03-19T08:31:32.033Z"
      },
      {
        "duration": 0,
        "start_time": "2024-03-19T08:31:32.034Z"
      },
      {
        "duration": 0,
        "start_time": "2024-03-19T08:31:32.035Z"
      },
      {
        "duration": 0,
        "start_time": "2024-03-19T08:31:32.036Z"
      },
      {
        "duration": 0,
        "start_time": "2024-03-19T08:31:32.037Z"
      },
      {
        "duration": 0,
        "start_time": "2024-03-19T08:31:32.038Z"
      },
      {
        "duration": 0,
        "start_time": "2024-03-19T08:31:32.039Z"
      },
      {
        "duration": 0,
        "start_time": "2024-03-19T08:31:32.041Z"
      },
      {
        "duration": 0,
        "start_time": "2024-03-19T08:31:32.042Z"
      },
      {
        "duration": 0,
        "start_time": "2024-03-19T08:31:32.043Z"
      },
      {
        "duration": 1,
        "start_time": "2024-03-19T08:31:32.043Z"
      },
      {
        "duration": 2852,
        "start_time": "2024-03-19T08:33:00.645Z"
      },
      {
        "duration": 1228,
        "start_time": "2024-03-19T08:33:03.500Z"
      },
      {
        "duration": 48,
        "start_time": "2024-03-19T08:33:04.730Z"
      },
      {
        "duration": 5,
        "start_time": "2024-03-19T08:33:04.780Z"
      },
      {
        "duration": 91,
        "start_time": "2024-03-19T08:33:04.786Z"
      },
      {
        "duration": 3,
        "start_time": "2024-03-19T08:33:04.879Z"
      },
      {
        "duration": 24,
        "start_time": "2024-03-19T08:33:04.883Z"
      },
      {
        "duration": 20,
        "start_time": "2024-03-19T08:33:04.909Z"
      },
      {
        "duration": 22,
        "start_time": "2024-03-19T08:33:04.931Z"
      },
      {
        "duration": 230,
        "start_time": "2024-03-19T08:33:04.956Z"
      },
      {
        "duration": 3,
        "start_time": "2024-03-19T08:33:05.188Z"
      },
      {
        "duration": 32,
        "start_time": "2024-03-19T08:33:05.192Z"
      },
      {
        "duration": 324,
        "start_time": "2024-03-19T08:33:05.225Z"
      },
      {
        "duration": 1924,
        "start_time": "2024-03-19T08:33:05.551Z"
      },
      {
        "duration": 192,
        "start_time": "2024-03-19T08:33:07.477Z"
      },
      {
        "duration": 8,
        "start_time": "2024-03-19T08:33:07.671Z"
      },
      {
        "duration": 679,
        "start_time": "2024-03-19T08:33:07.680Z"
      },
      {
        "duration": 148,
        "start_time": "2024-03-19T08:33:08.361Z"
      },
      {
        "duration": 4,
        "start_time": "2024-03-19T08:33:08.511Z"
      },
      {
        "duration": 4,
        "start_time": "2024-03-19T08:33:08.517Z"
      },
      {
        "duration": 32,
        "start_time": "2024-03-19T08:33:08.522Z"
      },
      {
        "duration": 33,
        "start_time": "2024-03-19T08:33:08.556Z"
      },
      {
        "duration": 5,
        "start_time": "2024-03-19T08:33:08.591Z"
      },
      {
        "duration": 4,
        "start_time": "2024-03-19T08:33:08.597Z"
      },
      {
        "duration": 18,
        "start_time": "2024-03-19T08:33:08.602Z"
      },
      {
        "duration": 24,
        "start_time": "2024-03-19T08:33:08.622Z"
      },
      {
        "duration": 88290,
        "start_time": "2024-03-19T08:33:08.647Z"
      },
      {
        "duration": 5,
        "start_time": "2024-03-19T08:34:36.941Z"
      },
      {
        "duration": 41,
        "start_time": "2024-03-19T08:34:36.947Z"
      },
      {
        "duration": 22,
        "start_time": "2024-03-19T08:34:36.989Z"
      },
      {
        "duration": 12,
        "start_time": "2024-03-19T08:34:37.013Z"
      },
      {
        "duration": 7,
        "start_time": "2024-03-19T08:34:37.027Z"
      },
      {
        "duration": 22,
        "start_time": "2024-03-19T08:34:37.035Z"
      },
      {
        "duration": 76,
        "start_time": "2024-03-19T08:34:37.059Z"
      },
      {
        "duration": 34,
        "start_time": "2024-03-19T08:34:37.136Z"
      },
      {
        "duration": 33,
        "start_time": "2024-03-19T08:34:37.172Z"
      },
      {
        "duration": 7,
        "start_time": "2024-03-19T08:34:37.207Z"
      },
      {
        "duration": 9,
        "start_time": "2024-03-19T08:34:37.216Z"
      },
      {
        "duration": 17,
        "start_time": "2024-03-19T08:34:37.226Z"
      },
      {
        "duration": 144,
        "start_time": "2024-03-19T08:37:05.010Z"
      },
      {
        "duration": 201,
        "start_time": "2024-03-19T08:37:30.755Z"
      },
      {
        "duration": 210,
        "start_time": "2024-03-19T08:38:07.898Z"
      },
      {
        "duration": 2829,
        "start_time": "2024-03-19T08:59:13.194Z"
      },
      {
        "duration": 1237,
        "start_time": "2024-03-19T08:59:16.026Z"
      },
      {
        "duration": 49,
        "start_time": "2024-03-19T08:59:17.265Z"
      },
      {
        "duration": 5,
        "start_time": "2024-03-19T08:59:17.315Z"
      },
      {
        "duration": 91,
        "start_time": "2024-03-19T08:59:17.322Z"
      },
      {
        "duration": 2,
        "start_time": "2024-03-19T08:59:17.415Z"
      },
      {
        "duration": 11,
        "start_time": "2024-03-19T08:59:17.419Z"
      },
      {
        "duration": 12,
        "start_time": "2024-03-19T08:59:17.432Z"
      },
      {
        "duration": 7,
        "start_time": "2024-03-19T08:59:17.446Z"
      },
      {
        "duration": 232,
        "start_time": "2024-03-19T08:59:17.470Z"
      },
      {
        "duration": 3,
        "start_time": "2024-03-19T08:59:17.703Z"
      },
      {
        "duration": 11,
        "start_time": "2024-03-19T08:59:17.707Z"
      },
      {
        "duration": 335,
        "start_time": "2024-03-19T08:59:17.720Z"
      },
      {
        "duration": 1917,
        "start_time": "2024-03-19T08:59:18.058Z"
      },
      {
        "duration": 193,
        "start_time": "2024-03-19T08:59:19.976Z"
      },
      {
        "duration": 15,
        "start_time": "2024-03-19T08:59:20.171Z"
      },
      {
        "duration": 697,
        "start_time": "2024-03-19T08:59:20.188Z"
      },
      {
        "duration": 145,
        "start_time": "2024-03-19T08:59:20.886Z"
      },
      {
        "duration": 4,
        "start_time": "2024-03-19T08:59:21.033Z"
      },
      {
        "duration": 15,
        "start_time": "2024-03-19T08:59:21.038Z"
      },
      {
        "duration": 33,
        "start_time": "2024-03-19T08:59:21.054Z"
      },
      {
        "duration": 22,
        "start_time": "2024-03-19T08:59:21.089Z"
      },
      {
        "duration": 32,
        "start_time": "2024-03-19T08:59:21.113Z"
      },
      {
        "duration": 11,
        "start_time": "2024-03-19T08:59:21.147Z"
      },
      {
        "duration": 18,
        "start_time": "2024-03-19T08:59:21.159Z"
      },
      {
        "duration": 12,
        "start_time": "2024-03-19T08:59:21.178Z"
      },
      {
        "duration": 93497,
        "start_time": "2024-03-19T08:59:21.191Z"
      },
      {
        "duration": 5,
        "start_time": "2024-03-19T09:00:54.690Z"
      },
      {
        "duration": 14,
        "start_time": "2024-03-19T09:00:54.696Z"
      },
      {
        "duration": 33,
        "start_time": "2024-03-19T09:00:54.711Z"
      },
      {
        "duration": 8,
        "start_time": "2024-03-19T09:00:54.746Z"
      },
      {
        "duration": 26,
        "start_time": "2024-03-19T09:00:54.755Z"
      },
      {
        "duration": 35,
        "start_time": "2024-03-19T09:00:54.783Z"
      },
      {
        "duration": 30,
        "start_time": "2024-03-19T09:00:54.820Z"
      },
      {
        "duration": 8,
        "start_time": "2024-03-19T09:00:54.851Z"
      },
      {
        "duration": 6,
        "start_time": "2024-03-19T09:00:54.860Z"
      },
      {
        "duration": 17,
        "start_time": "2024-03-19T09:00:54.867Z"
      },
      {
        "duration": 8,
        "start_time": "2024-03-19T09:00:54.885Z"
      },
      {
        "duration": 6,
        "start_time": "2024-03-19T09:00:54.894Z"
      },
      {
        "duration": 4,
        "start_time": "2024-03-19T09:06:33.454Z"
      },
      {
        "duration": 34,
        "start_time": "2024-03-19T09:07:01.175Z"
      },
      {
        "duration": 2904,
        "start_time": "2024-03-19T09:07:08.322Z"
      },
      {
        "duration": 1958,
        "start_time": "2024-03-19T09:07:11.229Z"
      },
      {
        "duration": 86,
        "start_time": "2024-03-19T09:07:13.189Z"
      },
      {
        "duration": 5,
        "start_time": "2024-03-19T09:07:13.277Z"
      },
      {
        "duration": 132,
        "start_time": "2024-03-19T09:07:13.283Z"
      },
      {
        "duration": 3,
        "start_time": "2024-03-19T09:07:13.470Z"
      },
      {
        "duration": 10,
        "start_time": "2024-03-19T09:07:13.474Z"
      },
      {
        "duration": 32,
        "start_time": "2024-03-19T09:07:13.485Z"
      },
      {
        "duration": 53,
        "start_time": "2024-03-19T09:07:13.519Z"
      },
      {
        "duration": 437,
        "start_time": "2024-03-19T09:07:13.574Z"
      },
      {
        "duration": 57,
        "start_time": "2024-03-19T09:07:14.013Z"
      },
      {
        "duration": 26,
        "start_time": "2024-03-19T09:07:14.071Z"
      },
      {
        "duration": 422,
        "start_time": "2024-03-19T09:07:14.098Z"
      },
      {
        "duration": 2852,
        "start_time": "2024-03-19T09:07:14.523Z"
      },
      {
        "duration": 193,
        "start_time": "2024-03-19T09:07:17.376Z"
      },
      {
        "duration": 10,
        "start_time": "2024-03-19T09:07:17.571Z"
      },
      {
        "duration": 703,
        "start_time": "2024-03-19T09:07:17.583Z"
      },
      {
        "duration": 145,
        "start_time": "2024-03-19T09:07:18.288Z"
      },
      {
        "duration": 4,
        "start_time": "2024-03-19T09:07:18.435Z"
      },
      {
        "duration": 33,
        "start_time": "2024-03-19T09:07:18.440Z"
      },
      {
        "duration": 3,
        "start_time": "2024-03-19T09:07:18.475Z"
      },
      {
        "duration": 56,
        "start_time": "2024-03-19T09:07:18.480Z"
      },
      {
        "duration": 9,
        "start_time": "2024-03-19T09:07:18.538Z"
      },
      {
        "duration": 15,
        "start_time": "2024-03-19T09:07:18.549Z"
      },
      {
        "duration": 27,
        "start_time": "2024-03-19T09:07:18.566Z"
      },
      {
        "duration": 15,
        "start_time": "2024-03-19T09:07:18.595Z"
      },
      {
        "duration": 40,
        "start_time": "2024-03-19T09:07:18.611Z"
      },
      {
        "duration": 2885,
        "start_time": "2024-03-19T09:07:32.983Z"
      },
      {
        "duration": 1845,
        "start_time": "2024-03-19T09:07:35.870Z"
      },
      {
        "duration": 49,
        "start_time": "2024-03-19T09:07:37.769Z"
      },
      {
        "duration": 5,
        "start_time": "2024-03-19T09:07:37.820Z"
      },
      {
        "duration": 123,
        "start_time": "2024-03-19T09:07:37.869Z"
      },
      {
        "duration": 3,
        "start_time": "2024-03-19T09:07:37.993Z"
      },
      {
        "duration": 18,
        "start_time": "2024-03-19T09:07:37.997Z"
      },
      {
        "duration": 55,
        "start_time": "2024-03-19T09:07:38.016Z"
      },
      {
        "duration": 6,
        "start_time": "2024-03-19T09:07:38.073Z"
      },
      {
        "duration": 491,
        "start_time": "2024-03-19T09:07:38.081Z"
      },
      {
        "duration": 3,
        "start_time": "2024-03-19T09:07:38.573Z"
      },
      {
        "duration": 16,
        "start_time": "2024-03-19T09:07:38.577Z"
      },
      {
        "duration": 676,
        "start_time": "2024-03-19T09:07:38.595Z"
      },
      {
        "duration": 1901,
        "start_time": "2024-03-19T09:07:39.274Z"
      },
      {
        "duration": 192,
        "start_time": "2024-03-19T09:07:41.177Z"
      },
      {
        "duration": 7,
        "start_time": "2024-03-19T09:07:41.371Z"
      },
      {
        "duration": 677,
        "start_time": "2024-03-19T09:07:41.380Z"
      },
      {
        "duration": 156,
        "start_time": "2024-03-19T09:07:42.059Z"
      },
      {
        "duration": 4,
        "start_time": "2024-03-19T09:07:42.217Z"
      },
      {
        "duration": 18,
        "start_time": "2024-03-19T09:07:42.223Z"
      },
      {
        "duration": 4,
        "start_time": "2024-03-19T09:07:42.243Z"
      },
      {
        "duration": 40,
        "start_time": "2024-03-19T09:07:42.248Z"
      },
      {
        "duration": 9,
        "start_time": "2024-03-19T09:07:42.290Z"
      },
      {
        "duration": 8,
        "start_time": "2024-03-19T09:07:42.300Z"
      },
      {
        "duration": 17,
        "start_time": "2024-03-19T09:07:42.310Z"
      },
      {
        "duration": 10,
        "start_time": "2024-03-19T09:07:42.329Z"
      },
      {
        "duration": 12,
        "start_time": "2024-03-19T09:07:42.341Z"
      },
      {
        "duration": 3059,
        "start_time": "2024-03-19T09:08:14.662Z"
      },
      {
        "duration": 1272,
        "start_time": "2024-03-19T09:08:17.724Z"
      },
      {
        "duration": 50,
        "start_time": "2024-03-19T09:08:18.997Z"
      },
      {
        "duration": 5,
        "start_time": "2024-03-19T09:08:19.049Z"
      },
      {
        "duration": 97,
        "start_time": "2024-03-19T09:08:19.056Z"
      },
      {
        "duration": 3,
        "start_time": "2024-03-19T09:08:19.154Z"
      },
      {
        "duration": 7,
        "start_time": "2024-03-19T09:08:19.169Z"
      },
      {
        "duration": 19,
        "start_time": "2024-03-19T09:08:19.177Z"
      },
      {
        "duration": 27,
        "start_time": "2024-03-19T09:08:19.198Z"
      },
      {
        "duration": 237,
        "start_time": "2024-03-19T09:08:19.227Z"
      },
      {
        "duration": 3,
        "start_time": "2024-03-19T09:08:19.466Z"
      },
      {
        "duration": 10,
        "start_time": "2024-03-19T09:08:19.471Z"
      },
      {
        "duration": 328,
        "start_time": "2024-03-19T09:08:19.482Z"
      },
      {
        "duration": 1962,
        "start_time": "2024-03-19T09:08:19.813Z"
      },
      {
        "duration": 194,
        "start_time": "2024-03-19T09:08:21.777Z"
      },
      {
        "duration": 7,
        "start_time": "2024-03-19T09:08:21.972Z"
      },
      {
        "duration": 694,
        "start_time": "2024-03-19T09:08:21.981Z"
      },
      {
        "duration": 150,
        "start_time": "2024-03-19T09:08:22.676Z"
      },
      {
        "duration": 4,
        "start_time": "2024-03-19T09:08:22.827Z"
      },
      {
        "duration": 23,
        "start_time": "2024-03-19T09:08:22.832Z"
      },
      {
        "duration": 14,
        "start_time": "2024-03-19T09:08:22.856Z"
      },
      {
        "duration": 48,
        "start_time": "2024-03-19T09:08:22.871Z"
      },
      {
        "duration": 22,
        "start_time": "2024-03-19T09:08:22.921Z"
      },
      {
        "duration": 6,
        "start_time": "2024-03-19T09:08:22.945Z"
      },
      {
        "duration": 6,
        "start_time": "2024-03-19T09:08:22.952Z"
      },
      {
        "duration": 6,
        "start_time": "2024-03-19T09:08:22.960Z"
      },
      {
        "duration": 8,
        "start_time": "2024-03-19T09:08:22.968Z"
      },
      {
        "duration": 93717,
        "start_time": "2024-03-19T09:08:22.977Z"
      },
      {
        "duration": 4,
        "start_time": "2024-03-19T09:09:56.696Z"
      },
      {
        "duration": 8,
        "start_time": "2024-03-19T09:09:56.701Z"
      },
      {
        "duration": 24,
        "start_time": "2024-03-19T09:09:56.710Z"
      },
      {
        "duration": 10,
        "start_time": "2024-03-19T09:09:56.735Z"
      },
      {
        "duration": 10,
        "start_time": "2024-03-19T09:09:56.747Z"
      },
      {
        "duration": 10,
        "start_time": "2024-03-19T09:09:56.758Z"
      },
      {
        "duration": 4,
        "start_time": "2024-03-19T09:09:56.769Z"
      },
      {
        "duration": 12,
        "start_time": "2024-03-19T09:09:56.775Z"
      },
      {
        "duration": 10,
        "start_time": "2024-03-19T09:09:56.789Z"
      },
      {
        "duration": 4,
        "start_time": "2024-03-19T09:09:56.801Z"
      },
      {
        "duration": 7,
        "start_time": "2024-03-19T09:09:56.807Z"
      },
      {
        "duration": 23,
        "start_time": "2024-03-19T09:09:56.815Z"
      },
      {
        "duration": 2855,
        "start_time": "2024-03-19T09:11:14.709Z"
      },
      {
        "duration": 1240,
        "start_time": "2024-03-19T09:11:17.566Z"
      },
      {
        "duration": 48,
        "start_time": "2024-03-19T09:11:18.808Z"
      },
      {
        "duration": 5,
        "start_time": "2024-03-19T09:11:18.858Z"
      },
      {
        "duration": 81,
        "start_time": "2024-03-19T09:11:18.865Z"
      },
      {
        "duration": 3,
        "start_time": "2024-03-19T09:11:18.947Z"
      },
      {
        "duration": 7,
        "start_time": "2024-03-19T09:11:18.969Z"
      },
      {
        "duration": 10,
        "start_time": "2024-03-19T09:11:18.978Z"
      },
      {
        "duration": 6,
        "start_time": "2024-03-19T09:11:18.990Z"
      },
      {
        "duration": 241,
        "start_time": "2024-03-19T09:11:18.998Z"
      },
      {
        "duration": 3,
        "start_time": "2024-03-19T09:11:19.240Z"
      },
      {
        "duration": 20,
        "start_time": "2024-03-19T09:11:19.244Z"
      },
      {
        "duration": 335,
        "start_time": "2024-03-19T09:11:19.265Z"
      },
      {
        "duration": 2069,
        "start_time": "2024-03-19T09:11:19.601Z"
      },
      {
        "duration": 99,
        "start_time": "2024-03-19T09:11:21.672Z"
      },
      {
        "duration": 13,
        "start_time": "2024-03-19T09:11:21.772Z"
      },
      {
        "duration": 691,
        "start_time": "2024-03-19T09:11:21.786Z"
      },
      {
        "duration": 148,
        "start_time": "2024-03-19T09:11:22.479Z"
      },
      {
        "duration": 4,
        "start_time": "2024-03-19T09:11:22.629Z"
      },
      {
        "duration": 17,
        "start_time": "2024-03-19T09:11:22.635Z"
      },
      {
        "duration": 34,
        "start_time": "2024-03-19T09:11:22.653Z"
      },
      {
        "duration": 24,
        "start_time": "2024-03-19T09:11:22.689Z"
      },
      {
        "duration": 5,
        "start_time": "2024-03-19T09:11:22.715Z"
      },
      {
        "duration": 23,
        "start_time": "2024-03-19T09:11:22.721Z"
      },
      {
        "duration": 16,
        "start_time": "2024-03-19T09:11:22.745Z"
      },
      {
        "duration": 15,
        "start_time": "2024-03-19T09:11:22.762Z"
      },
      {
        "duration": 93017,
        "start_time": "2024-03-19T09:11:22.779Z"
      },
      {
        "duration": 5,
        "start_time": "2024-03-19T09:12:55.800Z"
      },
      {
        "duration": 22,
        "start_time": "2024-03-19T09:12:55.806Z"
      },
      {
        "duration": 33,
        "start_time": "2024-03-19T09:12:55.829Z"
      },
      {
        "duration": 4,
        "start_time": "2024-03-19T09:12:55.864Z"
      },
      {
        "duration": 13,
        "start_time": "2024-03-19T09:12:55.870Z"
      },
      {
        "duration": 10,
        "start_time": "2024-03-19T09:12:55.885Z"
      },
      {
        "duration": 6,
        "start_time": "2024-03-19T09:12:55.897Z"
      },
      {
        "duration": 9,
        "start_time": "2024-03-19T09:12:55.905Z"
      },
      {
        "duration": 9,
        "start_time": "2024-03-19T09:12:55.915Z"
      },
      {
        "duration": 7,
        "start_time": "2024-03-19T09:12:55.926Z"
      },
      {
        "duration": 5,
        "start_time": "2024-03-19T09:12:55.935Z"
      },
      {
        "duration": 13,
        "start_time": "2024-03-19T09:12:55.941Z"
      },
      {
        "duration": 7,
        "start_time": "2024-03-19T09:14:14.790Z"
      },
      {
        "duration": 24,
        "start_time": "2024-03-19T09:14:23.414Z"
      },
      {
        "duration": 4,
        "start_time": "2024-03-19T09:24:34.469Z"
      },
      {
        "duration": 3,
        "start_time": "2024-03-19T09:24:50.125Z"
      },
      {
        "duration": 3,
        "start_time": "2024-03-19T09:24:50.909Z"
      },
      {
        "duration": 2952,
        "start_time": "2024-03-19T09:24:58.277Z"
      },
      {
        "duration": 1286,
        "start_time": "2024-03-19T09:25:01.231Z"
      },
      {
        "duration": 50,
        "start_time": "2024-03-19T09:25:02.518Z"
      },
      {
        "duration": 68,
        "start_time": "2024-03-19T09:25:02.570Z"
      },
      {
        "duration": 137,
        "start_time": "2024-03-19T09:25:02.640Z"
      },
      {
        "duration": 3,
        "start_time": "2024-03-19T09:25:02.779Z"
      },
      {
        "duration": 33,
        "start_time": "2024-03-19T09:25:02.783Z"
      },
      {
        "duration": 21,
        "start_time": "2024-03-19T09:25:02.818Z"
      },
      {
        "duration": 109,
        "start_time": "2024-03-19T09:25:02.841Z"
      },
      {
        "duration": 348,
        "start_time": "2024-03-19T09:25:02.953Z"
      },
      {
        "duration": 2,
        "start_time": "2024-03-19T09:25:03.303Z"
      },
      {
        "duration": 105,
        "start_time": "2024-03-19T09:25:03.307Z"
      },
      {
        "duration": 344,
        "start_time": "2024-03-19T09:25:03.414Z"
      },
      {
        "duration": 2011,
        "start_time": "2024-03-19T09:25:03.760Z"
      },
      {
        "duration": 102,
        "start_time": "2024-03-19T09:25:05.773Z"
      },
      {
        "duration": 11,
        "start_time": "2024-03-19T09:25:05.877Z"
      },
      {
        "duration": 673,
        "start_time": "2024-03-19T09:25:05.889Z"
      },
      {
        "duration": 139,
        "start_time": "2024-03-19T09:25:06.569Z"
      },
      {
        "duration": 5,
        "start_time": "2024-03-19T09:25:06.709Z"
      },
      {
        "duration": 23,
        "start_time": "2024-03-19T09:25:06.715Z"
      },
      {
        "duration": 34,
        "start_time": "2024-03-19T09:25:06.740Z"
      },
      {
        "duration": 22,
        "start_time": "2024-03-19T09:25:06.776Z"
      },
      {
        "duration": 13,
        "start_time": "2024-03-19T09:25:06.800Z"
      },
      {
        "duration": 17,
        "start_time": "2024-03-19T09:25:06.814Z"
      },
      {
        "duration": 12,
        "start_time": "2024-03-19T09:25:06.833Z"
      },
      {
        "duration": 10,
        "start_time": "2024-03-19T09:25:06.846Z"
      },
      {
        "duration": 14,
        "start_time": "2024-03-19T09:25:06.858Z"
      },
      {
        "duration": 82273,
        "start_time": "2024-03-19T09:25:06.875Z"
      },
      {
        "duration": 5,
        "start_time": "2024-03-19T09:26:29.149Z"
      },
      {
        "duration": 5,
        "start_time": "2024-03-19T09:26:29.155Z"
      },
      {
        "duration": 34,
        "start_time": "2024-03-19T09:26:29.161Z"
      },
      {
        "duration": 9,
        "start_time": "2024-03-19T09:26:29.196Z"
      },
      {
        "duration": 13,
        "start_time": "2024-03-19T09:26:29.206Z"
      },
      {
        "duration": 5,
        "start_time": "2024-03-19T09:26:29.221Z"
      },
      {
        "duration": 12,
        "start_time": "2024-03-19T09:26:29.227Z"
      },
      {
        "duration": 9,
        "start_time": "2024-03-19T09:26:29.240Z"
      },
      {
        "duration": 8,
        "start_time": "2024-03-19T09:26:29.250Z"
      },
      {
        "duration": 10,
        "start_time": "2024-03-19T09:26:29.259Z"
      },
      {
        "duration": 8,
        "start_time": "2024-03-19T09:26:29.270Z"
      },
      {
        "duration": 6,
        "start_time": "2024-03-19T09:26:29.280Z"
      },
      {
        "duration": 5,
        "start_time": "2024-03-19T10:05:13.612Z"
      },
      {
        "duration": 144,
        "start_time": "2024-03-19T10:06:39.331Z"
      },
      {
        "duration": 291,
        "start_time": "2024-03-19T10:22:47.168Z"
      },
      {
        "duration": 217,
        "start_time": "2024-03-19T10:25:42.584Z"
      },
      {
        "duration": 340,
        "start_time": "2024-03-19T10:27:28.072Z"
      },
      {
        "duration": 235,
        "start_time": "2024-03-19T10:27:59.223Z"
      },
      {
        "duration": 242,
        "start_time": "2024-03-19T10:28:31.846Z"
      },
      {
        "duration": 332,
        "start_time": "2024-03-19T10:29:14.213Z"
      },
      {
        "duration": 243,
        "start_time": "2024-03-19T10:29:25.878Z"
      },
      {
        "duration": 276,
        "start_time": "2024-03-19T10:29:31.389Z"
      },
      {
        "duration": 257,
        "start_time": "2024-03-19T10:29:40.429Z"
      },
      {
        "duration": 187,
        "start_time": "2024-03-19T10:33:37.698Z"
      },
      {
        "duration": 175,
        "start_time": "2024-03-19T10:33:53.010Z"
      },
      {
        "duration": 194,
        "start_time": "2024-03-19T10:34:15.154Z"
      },
      {
        "duration": 175,
        "start_time": "2024-03-19T10:34:28.978Z"
      },
      {
        "duration": 182,
        "start_time": "2024-03-19T10:34:51.906Z"
      },
      {
        "duration": 177,
        "start_time": "2024-03-19T10:35:21.833Z"
      },
      {
        "duration": 241,
        "start_time": "2024-03-19T10:35:29.515Z"
      },
      {
        "duration": 172,
        "start_time": "2024-03-19T10:35:38.849Z"
      },
      {
        "duration": 163,
        "start_time": "2024-03-19T10:35:45.290Z"
      },
      {
        "duration": 295,
        "start_time": "2024-03-19T10:43:36.046Z"
      },
      {
        "duration": 211,
        "start_time": "2024-03-19T10:43:47.014Z"
      },
      {
        "duration": 167,
        "start_time": "2024-03-19T10:44:07.822Z"
      },
      {
        "duration": 190,
        "start_time": "2024-03-19T10:44:20.670Z"
      },
      {
        "duration": 199,
        "start_time": "2024-03-19T10:44:31.302Z"
      },
      {
        "duration": 187,
        "start_time": "2024-03-19T10:44:47.638Z"
      },
      {
        "duration": 176,
        "start_time": "2024-03-19T10:45:21.583Z"
      },
      {
        "duration": 1728,
        "start_time": "2024-03-19T10:45:40.413Z"
      },
      {
        "duration": 274,
        "start_time": "2024-03-19T10:46:14.168Z"
      },
      {
        "duration": 226,
        "start_time": "2024-03-19T10:48:10.701Z"
      },
      {
        "duration": 183,
        "start_time": "2024-03-19T10:49:58.979Z"
      },
      {
        "duration": 184,
        "start_time": "2024-03-19T10:50:11.630Z"
      },
      {
        "duration": 210,
        "start_time": "2024-03-19T10:50:39.973Z"
      },
      {
        "duration": 151,
        "start_time": "2024-03-19T10:50:50.725Z"
      },
      {
        "duration": 174,
        "start_time": "2024-03-19T10:51:17.084Z"
      },
      {
        "duration": 165,
        "start_time": "2024-03-19T10:51:46.860Z"
      },
      {
        "duration": 190,
        "start_time": "2024-03-19T10:52:06.571Z"
      },
      {
        "duration": 190,
        "start_time": "2024-03-19T10:52:15.436Z"
      },
      {
        "duration": 187,
        "start_time": "2024-03-19T10:52:26.796Z"
      },
      {
        "duration": 291,
        "start_time": "2024-03-19T10:52:35.027Z"
      },
      {
        "duration": 217,
        "start_time": "2024-03-19T10:53:42.452Z"
      },
      {
        "duration": 221,
        "start_time": "2024-03-19T10:53:54.587Z"
      },
      {
        "duration": 2849,
        "start_time": "2024-03-19T10:54:14.320Z"
      },
      {
        "duration": 1268,
        "start_time": "2024-03-19T10:54:17.171Z"
      },
      {
        "duration": 48,
        "start_time": "2024-03-19T10:54:18.440Z"
      },
      {
        "duration": 4,
        "start_time": "2024-03-19T10:54:18.490Z"
      },
      {
        "duration": 83,
        "start_time": "2024-03-19T10:54:18.496Z"
      },
      {
        "duration": 3,
        "start_time": "2024-03-19T10:54:18.580Z"
      },
      {
        "duration": 10,
        "start_time": "2024-03-19T10:54:18.584Z"
      },
      {
        "duration": 12,
        "start_time": "2024-03-19T10:54:18.596Z"
      },
      {
        "duration": 6,
        "start_time": "2024-03-19T10:54:18.609Z"
      },
      {
        "duration": 242,
        "start_time": "2024-03-19T10:54:18.616Z"
      },
      {
        "duration": 2,
        "start_time": "2024-03-19T10:54:18.860Z"
      },
      {
        "duration": 7,
        "start_time": "2024-03-19T10:54:18.869Z"
      },
      {
        "duration": 335,
        "start_time": "2024-03-19T10:54:18.878Z"
      },
      {
        "duration": 2055,
        "start_time": "2024-03-19T10:54:19.216Z"
      },
      {
        "duration": 98,
        "start_time": "2024-03-19T10:54:21.277Z"
      },
      {
        "duration": 11,
        "start_time": "2024-03-19T10:54:21.377Z"
      },
      {
        "duration": 666,
        "start_time": "2024-03-19T10:54:21.390Z"
      },
      {
        "duration": 154,
        "start_time": "2024-03-19T10:54:22.058Z"
      },
      {
        "duration": 5,
        "start_time": "2024-03-19T10:54:22.214Z"
      },
      {
        "duration": 9,
        "start_time": "2024-03-19T10:54:22.221Z"
      },
      {
        "duration": 37,
        "start_time": "2024-03-19T10:54:22.232Z"
      },
      {
        "duration": 23,
        "start_time": "2024-03-19T10:54:22.271Z"
      },
      {
        "duration": 5,
        "start_time": "2024-03-19T10:54:22.296Z"
      },
      {
        "duration": 3,
        "start_time": "2024-03-19T10:54:22.302Z"
      },
      {
        "duration": 4,
        "start_time": "2024-03-19T10:54:22.307Z"
      },
      {
        "duration": 3,
        "start_time": "2024-03-19T10:54:22.312Z"
      },
      {
        "duration": 3,
        "start_time": "2024-03-19T10:54:22.316Z"
      },
      {
        "duration": 82465,
        "start_time": "2024-03-19T10:54:22.320Z"
      },
      {
        "duration": 4,
        "start_time": "2024-03-19T10:55:44.786Z"
      },
      {
        "duration": 39,
        "start_time": "2024-03-19T10:55:44.791Z"
      },
      {
        "duration": 9,
        "start_time": "2024-03-19T10:55:44.832Z"
      },
      {
        "duration": 24,
        "start_time": "2024-03-19T10:55:44.842Z"
      },
      {
        "duration": 16,
        "start_time": "2024-03-19T10:55:44.867Z"
      },
      {
        "duration": 331,
        "start_time": "2024-03-19T10:55:44.884Z"
      },
      {
        "duration": 3,
        "start_time": "2024-03-19T10:55:45.216Z"
      },
      {
        "duration": 75,
        "start_time": "2024-03-19T10:55:45.220Z"
      },
      {
        "duration": 20,
        "start_time": "2024-03-19T10:55:45.296Z"
      },
      {
        "duration": 16,
        "start_time": "2024-03-19T10:55:45.317Z"
      },
      {
        "duration": 15,
        "start_time": "2024-03-19T10:55:45.334Z"
      },
      {
        "duration": 38,
        "start_time": "2024-03-19T10:55:45.351Z"
      },
      {
        "duration": 25,
        "start_time": "2024-03-19T10:55:45.392Z"
      }
    ],
    "kernelspec": {
      "display_name": "Python 3 (ipykernel)",
      "language": "python",
      "name": "python3"
    },
    "language_info": {
      "codemirror_mode": {
        "name": "ipython",
        "version": 3
      },
      "file_extension": ".py",
      "mimetype": "text/x-python",
      "name": "python",
      "nbconvert_exporter": "python",
      "pygments_lexer": "ipython3",
      "version": "3.9.5"
    },
    "toc": {
      "base_numbering": 1,
      "nav_menu": {},
      "number_sections": true,
      "sideBar": true,
      "skip_h1_title": true,
      "title_cell": "Содержание",
      "title_sidebar": "Contents",
      "toc_cell": true,
      "toc_position": {
        "height": "calc(100% - 180px)",
        "left": "10px",
        "top": "150px",
        "width": "384px"
      },
      "toc_section_display": true,
      "toc_window_display": true
    },
    "colab": {
      "provenance": []
    }
  },
  "nbformat": 4,
  "nbformat_minor": 0
}